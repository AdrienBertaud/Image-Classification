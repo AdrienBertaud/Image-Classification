{
  "nbformat": 4,
  "nbformat_minor": 0,
  "metadata": {
    "kernelspec": {
      "display_name": "Python 3",
      "language": "python",
      "name": "python3"
    },
    "language_info": {
      "codemirror_mode": {
        "name": "ipython",
        "version": 3
      },
      "file_extension": ".py",
      "mimetype": "text/x-python",
      "name": "python",
      "nbconvert_exporter": "python",
      "pygments_lexer": "ipython3",
      "version": "3.7.4"
    },
    "colab": {
      "name": "miniproject2.ipynb",
      "provenance": []
    }
  },
  "cells": [
    {
      "cell_type": "markdown",
      "metadata": {
        "id": "BnAEU9iKUmFl"
      },
      "source": [
        "# Miniproject: Image Classification\n",
        "\n",
        "### Description\n",
        "\n",
        "One of the oldest traditions in deep learning is to first tackle the fun problem of MNIST classification. [The MNIST dataset](https://en.wikipedia.org/wiki/MNIST_database) is a large database of handwritten digits that is commonly used as a first test for new classification algorithms. \n",
        "We follow this tradition to investigate the performance of artificial neural networks of different complexity on MNIST. However, since MNIST is too easy for accessing the full power of modern machine learning algorithms (see e.g. [this post](https://twitter.com/goodfellow_ian/status/852591106655043584)) we will extend our analysis to the recently introduced, harder [Fashion-MNIST dataset](https://github.com/zalandoresearch/fashion-mnist).\n",
        "\n",
        "### Prerequisites\n",
        "\n",
        "- You should have a running installation of [tensorflow](https://www.tensorflow.org/install/) and [keras](https://keras.io/). Feel free to gain inspiration from the [Keras example directory](https://keras.io/examples/) for your implementations.\n",
        "- You should know the concepts \"multilayer perceptron\", \"stochastic gradient descent with minibatches\", \"Adam\", \"convolutional neural network\", \"training and validation data\", \"overfitting\", \"regularization\", and \"early stopping\".\n",
        "\n",
        "### What you will learn\n",
        "\n",
        "- You will learn how to define feedforward neural networks in keras and fit them to data (i.e. training).\n",
        "- You will be guided through a prototyping procedure for the application of deep learning to a specific domain.\n",
        "- You will gain some experience on the influence of network architecture, optimizer and regularization choices on the goodness of fit.\n",
        "- You will learn to be more patient :) Some fits may take your computer quite a bit of time; run them over night (or on an external server).\n",
        "\n",
        "### Evaluation criteria\n",
        "\n",
        "The evaluation is (mostly) based on the figures you submit and your answer sentences. Provide clear and concise answers respecting the indicated maximum length.\n",
        "\n",
        "**The submitted notebook must be run by you!** We will only do random tests of your code and not re-run the full notebook. There will be fraud detection sessions at the end of the semester.\n",
        "\n",
        "### Your names\n",
        "\n",
        "**Before you start**: please enter your full name(s) in the field below."
      ]
    },
    {
      "cell_type": "code",
      "metadata": {
        "ExecuteTime": {
          "end_time": "2018-03-09T09:08:24.514461Z",
          "start_time": "2018-03-09T09:08:24.506410Z"
        },
        "id": "bVa5G9-6UmFv"
      },
      "source": [
        "student1 = \"Jan Bauer (18-764-571)\"\n",
        "student2 = \"Adrien Bertaud (Todo Add Student Number)\""
      ],
      "execution_count": 19,
      "outputs": []
    },
    {
      "cell_type": "markdown",
      "metadata": {
        "ExecuteTime": {
          "end_time": "2018-02-22T21:52:59.697375Z",
          "start_time": "2018-02-22T21:52:59.689443Z"
        },
        "id": "8ZLXwbYkUmFy"
      },
      "source": [
        "## Some helper functions\n",
        "\n",
        "For your convenience we provide here some functions to preprocess the data and plot the results later. Simply run the following cells with `Shift-Enter`.\n",
        "\n",
        "### Dependencies and constants"
      ]
    },
    {
      "cell_type": "code",
      "metadata": {
        "ExecuteTime": {
          "end_time": "2018-02-23T14:27:09.352019Z",
          "start_time": "2018-02-23T14:27:08.476310Z"
        },
        "id": "a_-AKt04UmFz"
      },
      "source": [
        "%matplotlib inline\n",
        "\n",
        "import numpy as np\n",
        "import time\n",
        "import matplotlib.pyplot as plt\n",
        "import scipy.io\n",
        "\n",
        "import keras\n",
        "from keras.models import Sequential\n",
        "from keras.layers import Dense, Conv2D, MaxPooling2D, Dropout, Flatten, BatchNormalization\n",
        "from keras.optimizers import SGD, Adam\n",
        "from keras import regularizers"
      ],
      "execution_count": 20,
      "outputs": []
    },
    {
      "cell_type": "markdown",
      "metadata": {
        "id": "6-U_Ag8QUmFz"
      },
      "source": [
        "### Plotting"
      ]
    },
    {
      "cell_type": "code",
      "metadata": {
        "ExecuteTime": {
          "end_time": "2018-02-23T15:11:52.252208Z",
          "start_time": "2018-02-23T15:11:52.121360Z"
        },
        "id": "d2V7in4BUmF0"
      },
      "source": [
        "def plot_some_samples(x, y = [], yhat = [], select_from = [], \n",
        "                      ncols = 6, nrows = 4, xdim = 28, ydim = 28,\n",
        "                      label_mapping = range(10)):\n",
        "    \"\"\"plot some input vectors as grayscale images (optionally together with their assigned or predicted labels).\n",
        "    \n",
        "    x is an NxD - dimensional array, where D is the length of an input vector and N is the number of samples.\n",
        "    Out of the N samples, ncols x nrows indices are randomly selected from the list select_from (if it is empty, select_from becomes range(N)).\n",
        "    \"\"\"\n",
        "    fig, ax = plt.subplots(nrows, ncols)\n",
        "    if len(select_from) == 0:\n",
        "        select_from = range(x.shape[0])\n",
        "    indices = np.random.choice(select_from, size = min(ncols * nrows, len(select_from)), replace = False)\n",
        "    for i, ind in enumerate(indices):\n",
        "        thisax = ax[i//ncols,i%ncols]\n",
        "        thisax.matshow(x[ind].reshape(xdim, ydim), cmap='gray')\n",
        "        thisax.set_axis_off()\n",
        "        if len(y) != 0:\n",
        "            j = y[ind] if type(y[ind]) != np.ndarray else y[ind].argmax()\n",
        "            thisax.text(0, 0, (label_mapping[j]+1)%10, color='green', \n",
        "                                                       verticalalignment='top',\n",
        "                                                       transform=thisax.transAxes)\n",
        "        if len(yhat) != 0:\n",
        "            k = yhat[ind] if type(yhat[ind]) != np.ndarray else yhat[ind].argmax()\n",
        "            thisax.text(1, 0, (label_mapping[k]+1)%10, color='red',\n",
        "                                             verticalalignment='top',\n",
        "                                             horizontalalignment='right',\n",
        "                                             transform=thisax.transAxes)\n",
        "    return fig\n",
        "\n",
        "def prepare_standardplot(title, xlabel):\n",
        "    fig, (ax1, ax2) = plt.subplots(1, 2)\n",
        "    fig.suptitle(title)\n",
        "    ax1.set_ylabel('categorical cross entropy')\n",
        "    ax1.set_xlabel(xlabel)\n",
        "    ax1.set_yscale('log')\n",
        "    ax2.set_ylabel('accuracy [% correct]')\n",
        "    ax2.set_xlabel(xlabel)\n",
        "    return fig, ax1, ax2\n",
        "\n",
        "def finalize_standardplot(fig, ax1, ax2):\n",
        "    ax1handles, ax1labels = ax1.get_legend_handles_labels()\n",
        "    if len(ax1labels) > 0:\n",
        "        ax1.legend(ax1handles, ax1labels)\n",
        "    ax2handles, ax2labels = ax2.get_legend_handles_labels()\n",
        "    if len(ax2labels) > 0:\n",
        "        ax2.legend(ax2handles, ax2labels)\n",
        "    fig.tight_layout()\n",
        "    plt.subplots_adjust(top=0.9)\n",
        "\n",
        "def plot_history(history, title):\n",
        "    fig, ax1, ax2 = prepare_standardplot(title, 'epoch')\n",
        "    ax1.plot(history.history['loss'], label = \"train\")\n",
        "    ax1.plot(history.history['val_loss'], label = \"val\")\n",
        "    ax2.plot(history.history['accuracy'], label = \"train\")\n",
        "    ax2.plot(history.history['val_accuracy'], label = \"val\")\n",
        "    finalize_standardplot(fig, ax1, ax2)\n",
        "    return fig"
      ],
      "execution_count": 21,
      "outputs": []
    },
    {
      "cell_type": "markdown",
      "metadata": {
        "id": "96-3BgpfUmF1"
      },
      "source": [
        "## Exercise 1: Data import and visualization (6 points)\n",
        "\n",
        "The datasets we use in this project (MNIST, Fashion-MNIST) consists of grayscale images with 28x28 pixels. \n",
        "The low resolution (and grayscale) of the images certainly misses some information that could be helpful for classifying the images. However, since the data has lower dimensionality due to the low resolution, the training converges faster. This is an advantage in situations like here (or generally when prototyping), where we want to try many different things without having to wait too long. \n",
        "\n",
        "1. As a warm-up exercise, use the importer to (down-)load the MNIST and Fashion-MNIST dataset. Assign useful variables to test & train images and labels for both datasets respectively. (2 pts)\n",
        "2. Use the function `plot_some_samples` defined above to plot some samples of the two datasets. What do the green digits at the bottom left of each image indicate? (2 pts)\n",
        "3. To prepare for training: 1. transform the labels to one hot coding, i.e. for 5 classes, label 2 becomes the vector [0, 0, 1, 0, 0] (you can use `utils.to_categorical` function from keras), and 2. reshape (flatten) the input images to input vectors and rescale the input data into the range [0,1]. (2 pts)\n",
        "\n",
        "*Hint*: Keras comes with a convenient in-built [data importer](https://keras.io/datasets/) for common datasets. "
      ]
    },
    {
      "cell_type": "markdown",
      "metadata": {
        "id": "kGiMLZFXUmF2"
      },
      "source": [
        "**Answer to Question 2** (1 sentence): "
      ]
    },
    {
      "cell_type": "markdown",
      "metadata": {
        "id": "PGSLbCcbUmF2"
      },
      "source": [
        "### Solution"
      ]
    },
    {
      "cell_type": "markdown",
      "metadata": {
        "id": "44GJq_o2BlkA"
      },
      "source": [
        "1) Load the MNIST and Fashion-MNIST dataset."
      ]
    },
    {
      "cell_type": "code",
      "metadata": {
        "ExecuteTime": {
          "end_time": "2018-02-23T14:27:44.442862Z",
          "start_time": "2018-02-23T14:27:09.505547Z"
        },
        "id": "wjga3NseUmF3"
      },
      "source": [
        "import tensorflow as tf\n",
        "(x_mnist_train, y_mnist_train), (x_mnist_test, y_mnist_test) = tf.keras.datasets.mnist.load_data(path=\"mnist.npz\")\n",
        "(x_train, y_train), (x_test, y_test) = tf.keras.datasets.fashion_mnist.load_data()"
      ],
      "execution_count": 22,
      "outputs": []
    },
    {
      "cell_type": "markdown",
      "metadata": {
        "id": "zK0e2jWyBxuY"
      },
      "source": [
        "2) Plot some samples of the two datasets."
      ]
    },
    {
      "cell_type": "code",
      "metadata": {
        "colab": {
          "base_uri": "https://localhost:8080/",
          "height": 276
        },
        "id": "E-tP-_yR_cIT",
        "outputId": "aa2bdcd5-e4c0-4511-d999-38c8b381c40c"
      },
      "source": [
        "print(\"MNIST\")\n",
        "plot_some_samples(x_mnist_train, y_mnist_train, ncols=6, nrows=4);"
      ],
      "execution_count": 23,
      "outputs": [
        {
          "output_type": "stream",
          "text": [
            "MNIST\n"
          ],
          "name": "stdout"
        },
        {
          "output_type": "display_data",
          "data": {
            "image/png": "[encoded data removed]",
            "text/plain": [
              "<Figure size 432x288 with 24 Axes>"
            ]
          },
          "metadata": {
            "tags": [],
            "needs_background": "light"
          }
        }
      ]
    },
    {
      "cell_type": "code",
      "metadata": {
        "colab": {
          "base_uri": "https://localhost:8080/",
          "height": 276
        },
        "id": "rM7sGUJ7CPXI",
        "outputId": "abb41825-8dfc-4c49-cfc0-ddafe5ea66d3"
      },
      "source": [
        "print(\"Fashion-MNIST\")\n",
        "plot_some_samples(x_train, y_train, ncols=6, nrows=4);"
      ],
      "execution_count": 24,
      "outputs": [
        {
          "output_type": "stream",
          "text": [
            "Fashion-MNIST\n"
          ],
          "name": "stdout"
        },
        {
          "output_type": "display_data",
          "data": {
            "image/png": "[encoded data removed]",
            "text/plain": [
              "<Figure size 432x288 with 24 Axes>"
            ]
          },
          "metadata": {
            "tags": [],
            "needs_background": "light"
          }
        }
      ]
    },
    {
      "cell_type": "markdown",
      "metadata": {
        "id": "hsmXRZADC0UP"
      },
      "source": [
        "The green digit at the bottom left of each image indicates the label of the image, i.e its classificaition. It can be interpreted as the index of the digit with value 1 (all others at 0) fot one hot coding. Without that prior labelling, no training is possible."
      ]
    },
    {
      "cell_type": "markdown",
      "metadata": {
        "id": "ozrpz5-NB7wg"
      },
      "source": [
        "3) Prepare for training."
      ]
    },
    {
      "cell_type": "code",
      "metadata": {
        "colab": {
          "base_uri": "https://localhost:8080/"
        },
        "id": "2Q_Rl6c-DV87",
        "outputId": "f1570b1d-7b3a-450e-b7da-7cfa44b072cc"
      },
      "source": [
        "# transform the labels to one hot coding\n",
        "from keras.utils import to_categorical\n",
        "\n",
        "y_mnist_train_one_hot = to_categorical(y_mnist_train)\n",
        "y_mnist_test_one_hot = to_categorical(y_mnist_test)\n",
        "\n",
        "for i in range(5):\n",
        "    print(\"train : {0} => {1} \\ttest : {2} => {3}\".format(y_mnist_train[i], y_mnist_train_one_hot[i], y_mnist_test[i], y_mnist_test_one_hot[i]))"
      ],
      "execution_count": 25,
      "outputs": [
        {
          "output_type": "stream",
          "text": [
            "train : 5 => [0. 0. 0. 0. 0. 1. 0. 0. 0. 0.] \ttest : 7 => [0. 0. 0. 0. 0. 0. 0. 1. 0. 0.]\n",
            "train : 0 => [1. 0. 0. 0. 0. 0. 0. 0. 0. 0.] \ttest : 2 => [0. 0. 1. 0. 0. 0. 0. 0. 0. 0.]\n",
            "train : 4 => [0. 0. 0. 0. 1. 0. 0. 0. 0. 0.] \ttest : 1 => [0. 1. 0. 0. 0. 0. 0. 0. 0. 0.]\n",
            "train : 1 => [0. 1. 0. 0. 0. 0. 0. 0. 0. 0.] \ttest : 0 => [1. 0. 0. 0. 0. 0. 0. 0. 0. 0.]\n",
            "train : 9 => [0. 0. 0. 0. 0. 0. 0. 0. 0. 1.] \ttest : 4 => [0. 0. 0. 0. 1. 0. 0. 0. 0. 0.]\n"
          ],
          "name": "stdout"
        }
      ]
    },
    {
      "cell_type": "code",
      "metadata": {
        "colab": {
          "base_uri": "https://localhost:8080/"
        },
        "id": "09HL6DMLN8uu",
        "outputId": "911cae09-cd48-4d4c-abd1-4eceb78fe0b1"
      },
      "source": [
        "y_train_one_hot = to_categorical(y_train)\n",
        "y_test_one_hot = to_categorical(y_test)\n",
        "\n",
        "for i in range(5):\n",
        "    print(\"train : {0} => {1} \\ttest : {2} => {3}\".format(y_train[i], y_train_one_hot[i], y_test[i], y_test_one_hot[i]))"
      ],
      "execution_count": 26,
      "outputs": [
        {
          "output_type": "stream",
          "text": [
            "train : 9 => [0. 0. 0. 0. 0. 0. 0. 0. 0. 1.] \ttest : 9 => [0. 0. 0. 0. 0. 0. 0. 0. 0. 1.]\n",
            "train : 0 => [1. 0. 0. 0. 0. 0. 0. 0. 0. 0.] \ttest : 2 => [0. 0. 1. 0. 0. 0. 0. 0. 0. 0.]\n",
            "train : 0 => [1. 0. 0. 0. 0. 0. 0. 0. 0. 0.] \ttest : 1 => [0. 1. 0. 0. 0. 0. 0. 0. 0. 0.]\n",
            "train : 3 => [0. 0. 0. 1. 0. 0. 0. 0. 0. 0.] \ttest : 1 => [0. 1. 0. 0. 0. 0. 0. 0. 0. 0.]\n",
            "train : 0 => [1. 0. 0. 0. 0. 0. 0. 0. 0. 0.] \ttest : 6 => [0. 0. 0. 0. 0. 0. 1. 0. 0. 0.]\n"
          ],
          "name": "stdout"
        }
      ]
    },
    {
      "cell_type": "code",
      "metadata": {
        "colab": {
          "base_uri": "https://localhost:8080/"
        },
        "id": "whHrNeQiETo7",
        "outputId": "ddb7c494-efbb-4936-93ac-30255a8664b1"
      },
      "source": [
        "# reshape (flatten) the input images to input vectors\n",
        "print(\"MNIST\")\n",
        "original_mnist_train_shape = x_mnist_train.shape\n",
        "original_mnist_test_shape = x_mnist_test.shape\n",
        "x_mnist_train = x_mnist_train.reshape(x_mnist_train.shape[0], x_mnist_train.shape[1]*x_mnist_train.shape[2])\n",
        "x_mnist_test = x_mnist_test.reshape(x_mnist_test.shape[0], x_mnist_test.shape[1]*x_mnist_test.shape[2])\n",
        "print(\"Reshaped training data from {0} to {1}\".format(original_mnist_train_shape, x_mnist_train.shape))\n",
        "print(\"Reshaped test data from {0} to {1}\".format(original_mnist_test_shape, x_mnist_test.shape))"
      ],
      "execution_count": 27,
      "outputs": [
        {
          "output_type": "stream",
          "text": [
            "MNIST\n",
            "Reshaped training data from (60000, 28, 28) to (60000, 784)\n",
            "Reshaped test data from (10000, 28, 28) to (10000, 784)\n"
          ],
          "name": "stdout"
        }
      ]
    },
    {
      "cell_type": "code",
      "metadata": {
        "colab": {
          "base_uri": "https://localhost:8080/"
        },
        "id": "evnIslVWHHmz",
        "outputId": "226b9b29-4e0a-4df6-e35b-13cb43d4587c"
      },
      "source": [
        "print(\"Fashion-MNIST\")\n",
        "original_train_shape = x_train.shape\n",
        "original_test_shape = x_test.shape\n",
        "x_train = x_train.reshape(x_train.shape[0], x_train.shape[1]*x_train.shape[2])\n",
        "x_test = x_test.reshape(x_test.shape[0], x_test.shape[1]*x_test.shape[2])\n",
        "print(\"Reshaped training data from {0} to {1}\".format(original_train_shape, x_train.shape))\n",
        "print(\"Reshaped test data from {0} to {1}\".format(original_test_shape, x_test.shape))"
      ],
      "execution_count": 28,
      "outputs": [
        {
          "output_type": "stream",
          "text": [
            "Fashion-MNIST\n",
            "Reshaped training data from (60000, 28, 28) to (60000, 784)\n",
            "Reshaped test data from (10000, 28, 28) to (10000, 784)\n"
          ],
          "name": "stdout"
        }
      ]
    },
    {
      "cell_type": "code",
      "metadata": {
        "colab": {
          "base_uri": "https://localhost:8080/"
        },
        "id": "6tDl4RApFFV2",
        "outputId": "56b2d88e-06ac-4e30-82a4-c87992aa53f3"
      },
      "source": [
        "# rescale the input data into the range [0,1]\n",
        "max_grey_value = 255.0\n",
        "\n",
        "print(\"MNIST\")\n",
        "print(\"Max value in initial dataset (train/test):\", np.max(x_mnist_train), np.max(x_mnist_test))\n",
        "print(\"Min value in initial dataset (train/test):\", np.min(x_mnist_train), np.min(x_mnist_test))\n",
        "x_mnist_train = x_mnist_train / max_grey_value  \n",
        "x_mnist_test = x_mnist_test / max_grey_value \n",
        "print(\"Max value in rescaled dataset (train/test):\", np.max(x_mnist_train), np.max(x_mnist_test))\n",
        "print(\"Min value in rescaled dataset (train/test):\", np.min(x_mnist_train), np.min(x_mnist_test))"
      ],
      "execution_count": 29,
      "outputs": [
        {
          "output_type": "stream",
          "text": [
            "MNIST\n",
            "Max value in initial dataset (train/test): 255 255\n",
            "Min value in initial dataset (train/test): 0 0\n",
            "Max value in rescaled dataset (train/test): 1.0 1.0\n",
            "Min value in rescaled dataset (train/test): 0.0 0.0\n"
          ],
          "name": "stdout"
        }
      ]
    },
    {
      "cell_type": "code",
      "metadata": {
        "colab": {
          "base_uri": "https://localhost:8080/"
        },
        "id": "3xRmWrSuLyy5",
        "outputId": "09f7f61e-8354-46f7-f0df-64456bfd6afc"
      },
      "source": [
        "print(\"Fashion-MNIST\")\n",
        "print(\"Max value in initial dataset (train/test):\", np.max(x_train), np.max(x_test))\n",
        "print(\"Min value in initial dataset (train/test):\", np.min(x_train), np.min(x_test))\n",
        "x_train = x_train / max_grey_value  \n",
        "x_test = x_test / max_grey_value \n",
        "print(\"Max value in rescaled dataset (train/test):\", np.max(x_train), np.max(x_test))\n",
        "print(\"Min value in rescaled dataset (train/test):\", np.min(x_train), np.min(x_test))"
      ],
      "execution_count": 30,
      "outputs": [
        {
          "output_type": "stream",
          "text": [
            "Fashion-MNIST\n",
            "Max value in initial dataset (train/test): 255 255\n",
            "Min value in initial dataset (train/test): 0 0\n",
            "Max value in rescaled dataset (train/test): 1.0 1.0\n",
            "Min value in rescaled dataset (train/test): 0.0 0.0\n"
          ],
          "name": "stdout"
        }
      ]
    },
    {
      "cell_type": "markdown",
      "metadata": {
        "id": "7nWca9BqUmF3"
      },
      "source": [
        "## Exercise 2: No hidden layer (10 points)\n",
        "\n",
        "Define and fit a model without a hidden layer (since we will use multi-layer models later in this project, you can define a general constructor function for models with an arbitrary number of hidden layers already at this point). Note that in this miniproject there is no real test dataset and what is loaded as a test dataset is used for validation. First, implement 1.-3. for the MNIST dataset.  \n",
        "\n",
        "1. Implement the model with the following specifications: use the softmax activation for the output layer, use the categorical_crossentropy loss, choose stochastic gradient descent for the optimizer, and add the accuracy metric to the metrics. (5 pts)\n",
        "2. Train for as many epochs as needed to see no further decrease in the validation loss. (1 pt)\n",
        "3. Plot the learning curves resulting from the fitting procedure (a history object) using the function `plot_history` defined above. (1 pt)\n",
        "4. Repeat the above steps for fitting the network to the Fashion-MNIST dataset. (2 pts)\n",
        "5. Report the best validation accuracy achieved for each one of the datasets. Do you observe overfitting already for this simple model? Answer separetely for the MNIST dataset and Fashion-MNIST dataset. (1 pt) \n",
        "\n",
        "*Hint:* Read the keras docs, in particular [Getting started with the Keras Sequential model](https://keras.io/getting-started/sequential-model-guide/)."
      ]
    },
    {
      "cell_type": "markdown",
      "metadata": {
        "id": "o0om4_uXUmF5"
      },
      "source": [
        "**Answer to Question 5** (max 2 sentences): "
      ]
    },
    {
      "cell_type": "markdown",
      "metadata": {
        "id": "CgSYz8gAUmF5"
      },
      "source": [
        "### Solution"
      ]
    },
    {
      "cell_type": "markdown",
      "metadata": {
        "id": "E7vGd8ZORprP"
      },
      "source": [
        "1) Implement the model."
      ]
    },
    {
      "cell_type": "code",
      "metadata": {
        "id": "mDk_lRLPUmF5",
        "colab": {
          "base_uri": "https://localhost:8080/"
        },
        "outputId": "b7f0c181-1c75-41a4-a275-a750936c76c4"
      },
      "source": [
        "# Get number of columns in training data\n",
        "input_dim_mnist = x_mnist_train.shape[1]\n",
        "\n",
        "# Use Keras sequential model\n",
        "model = Sequential()\n",
        "model.add(Dense(10, activation='relu', input_shape=(input_dim_mnist,)))\n",
        "model.add(Dense(10, activation='softmax'))\n",
        "model.compile(optimizer='SGD', loss='categorical_crossentropy', metrics=[\"accuracy\"])\n",
        "model.summary()"
      ],
      "execution_count": 31,
      "outputs": [
        {
          "output_type": "stream",
          "text": [
            "Model: \"sequential_1\"\n",
            "_________________________________________________________________\n",
            "Layer (type)                 Output Shape              Param #   \n",
            "=================================================================\n",
            "dense_2 (Dense)              (None, 10)                7850      \n",
            "_________________________________________________________________\n",
            "dense_3 (Dense)              (None, 10)                110       \n",
            "=================================================================\n",
            "Total params: 7,960\n",
            "Trainable params: 7,960\n",
            "Non-trainable params: 0\n",
            "_________________________________________________________________\n"
          ],
          "name": "stdout"
        }
      ]
    },
    {
      "cell_type": "markdown",
      "metadata": {
        "id": "fDsqMm-ETZqT"
      },
      "source": [
        "2) Train."
      ]
    },
    {
      "cell_type": "code",
      "metadata": {
        "colab": {
          "base_uri": "https://localhost:8080/"
        },
        "id": "enKDEfdkTQ68",
        "outputId": "5dade90c-a589-4bbd-836e-64234ed8961a"
      },
      "source": [
        "from keras.callbacks import EarlyStopping\n",
        "from keras.callbacks import ModelCheckpoint\n",
        "from keras.callbacks import History\n",
        "\n",
        "epochs = 100\n",
        "#checkpoint_callback = ModelCheckpoint('exercise-02_mnist.h5', monitor='val_loss', mode='min', save_best_only=True, verbose=1)\n",
        "stop_callback = EarlyStopping(monitor='val_loss', mode='min', verbose=1, patience=20)\n",
        "#callbacks = [stop_callback, checkpoint_callback]\n",
        "callbacks = [stop_callback]\n",
        "\n",
        "history = model.fit(x_mnist_train, y_mnist_train_one_hot, validation_data=(x_mnist_test, y_mnist_test_one_hot), epochs=epochs, callbacks=callbacks)"
      ],
      "execution_count": 32,
      "outputs": [
        {
          "output_type": "stream",
          "text": [
            "Epoch 1/100\n",
            "1875/1875 [==============================] - 3s 2ms/step - loss: 1.4720 - accuracy: 0.5216 - val_loss: 0.4631 - val_accuracy: 0.8730\n",
            "Epoch 2/100\n",
            "1875/1875 [==============================] - 3s 1ms/step - loss: 0.4409 - accuracy: 0.8782 - val_loss: 0.3631 - val_accuracy: 0.8967\n",
            "Epoch 3/100\n",
            "1875/1875 [==============================] - 3s 1ms/step - loss: 0.3664 - accuracy: 0.8959 - val_loss: 0.3284 - val_accuracy: 0.9058\n",
            "Epoch 4/100\n",
            "1875/1875 [==============================] - 3s 1ms/step - loss: 0.3470 - accuracy: 0.9002 - val_loss: 0.3127 - val_accuracy: 0.9102\n",
            "Epoch 5/100\n",
            "1875/1875 [==============================] - 3s 1ms/step - loss: 0.3227 - accuracy: 0.9089 - val_loss: 0.3024 - val_accuracy: 0.9132\n",
            "Epoch 6/100\n",
            "1875/1875 [==============================] - 3s 1ms/step - loss: 0.3182 - accuracy: 0.9100 - val_loss: 0.2917 - val_accuracy: 0.9180\n",
            "Epoch 7/100\n",
            "1875/1875 [==============================] - 3s 1ms/step - loss: 0.3012 - accuracy: 0.9148 - val_loss: 0.2869 - val_accuracy: 0.9188\n",
            "Epoch 8/100\n",
            "1875/1875 [==============================] - 3s 1ms/step - loss: 0.2908 - accuracy: 0.9178 - val_loss: 0.2806 - val_accuracy: 0.9210\n",
            "Epoch 9/100\n",
            "1875/1875 [==============================] - 3s 1ms/step - loss: 0.2828 - accuracy: 0.9219 - val_loss: 0.2706 - val_accuracy: 0.9239\n",
            "Epoch 10/100\n",
            "1875/1875 [==============================] - 3s 1ms/step - loss: 0.2763 - accuracy: 0.9237 - val_loss: 0.2663 - val_accuracy: 0.9241\n",
            "Epoch 11/100\n",
            "1875/1875 [==============================] - 3s 1ms/step - loss: 0.2704 - accuracy: 0.9235 - val_loss: 0.2623 - val_accuracy: 0.9263\n",
            "Epoch 12/100\n",
            "1875/1875 [==============================] - 3s 1ms/step - loss: 0.2571 - accuracy: 0.9270 - val_loss: 0.2578 - val_accuracy: 0.9293\n",
            "Epoch 13/100\n",
            "1875/1875 [==============================] - 3s 1ms/step - loss: 0.2608 - accuracy: 0.9270 - val_loss: 0.2533 - val_accuracy: 0.9290\n",
            "Epoch 14/100\n",
            "1875/1875 [==============================] - 3s 1ms/step - loss: 0.2553 - accuracy: 0.9279 - val_loss: 0.2527 - val_accuracy: 0.9286\n",
            "Epoch 15/100\n",
            "1875/1875 [==============================] - 3s 1ms/step - loss: 0.2515 - accuracy: 0.9302 - val_loss: 0.2499 - val_accuracy: 0.9283\n",
            "Epoch 16/100\n",
            "1875/1875 [==============================] - 3s 1ms/step - loss: 0.2456 - accuracy: 0.9312 - val_loss: 0.2438 - val_accuracy: 0.9322\n",
            "Epoch 17/100\n",
            "1875/1875 [==============================] - 3s 1ms/step - loss: 0.2441 - accuracy: 0.9298 - val_loss: 0.2415 - val_accuracy: 0.9313\n",
            "Epoch 18/100\n",
            "1875/1875 [==============================] - 3s 1ms/step - loss: 0.2330 - accuracy: 0.9328 - val_loss: 0.2388 - val_accuracy: 0.9317\n",
            "Epoch 19/100\n",
            "1875/1875 [==============================] - 3s 1ms/step - loss: 0.2418 - accuracy: 0.9326 - val_loss: 0.2406 - val_accuracy: 0.9304\n",
            "Epoch 20/100\n",
            "1875/1875 [==============================] - 3s 1ms/step - loss: 0.2378 - accuracy: 0.9339 - val_loss: 0.2342 - val_accuracy: 0.9343\n",
            "Epoch 21/100\n",
            "1875/1875 [==============================] - 3s 1ms/step - loss: 0.2351 - accuracy: 0.9352 - val_loss: 0.2308 - val_accuracy: 0.9344\n",
            "Epoch 22/100\n",
            "1875/1875 [==============================] - 3s 1ms/step - loss: 0.2384 - accuracy: 0.9325 - val_loss: 0.2319 - val_accuracy: 0.9335\n",
            "Epoch 23/100\n",
            "1875/1875 [==============================] - 3s 1ms/step - loss: 0.2330 - accuracy: 0.9340 - val_loss: 0.2300 - val_accuracy: 0.9350\n",
            "Epoch 24/100\n",
            "1875/1875 [==============================] - 3s 1ms/step - loss: 0.2231 - accuracy: 0.9366 - val_loss: 0.2286 - val_accuracy: 0.9351\n",
            "Epoch 25/100\n",
            "1875/1875 [==============================] - 3s 1ms/step - loss: 0.2236 - accuracy: 0.9373 - val_loss: 0.2257 - val_accuracy: 0.9352\n",
            "Epoch 26/100\n",
            "1875/1875 [==============================] - 3s 1ms/step - loss: 0.2178 - accuracy: 0.9373 - val_loss: 0.2269 - val_accuracy: 0.9360\n",
            "Epoch 27/100\n",
            "1875/1875 [==============================] - 3s 1ms/step - loss: 0.2197 - accuracy: 0.9380 - val_loss: 0.2240 - val_accuracy: 0.9358\n",
            "Epoch 28/100\n",
            "1875/1875 [==============================] - 3s 1ms/step - loss: 0.2202 - accuracy: 0.9381 - val_loss: 0.2229 - val_accuracy: 0.9366\n",
            "Epoch 29/100\n",
            "1875/1875 [==============================] - 3s 1ms/step - loss: 0.2181 - accuracy: 0.9376 - val_loss: 0.2209 - val_accuracy: 0.9355\n",
            "Epoch 30/100\n",
            "1875/1875 [==============================] - 3s 1ms/step - loss: 0.2088 - accuracy: 0.9416 - val_loss: 0.2219 - val_accuracy: 0.9363\n",
            "Epoch 31/100\n",
            "1875/1875 [==============================] - 3s 1ms/step - loss: 0.2148 - accuracy: 0.9397 - val_loss: 0.2244 - val_accuracy: 0.9365\n",
            "Epoch 32/100\n",
            "1875/1875 [==============================] - 3s 1ms/step - loss: 0.2097 - accuracy: 0.9404 - val_loss: 0.2195 - val_accuracy: 0.9358\n",
            "Epoch 33/100\n",
            "1875/1875 [==============================] - 3s 1ms/step - loss: 0.2087 - accuracy: 0.9412 - val_loss: 0.2171 - val_accuracy: 0.9364\n",
            "Epoch 34/100\n",
            "1875/1875 [==============================] - 3s 1ms/step - loss: 0.2101 - accuracy: 0.9399 - val_loss: 0.2145 - val_accuracy: 0.9396\n",
            "Epoch 35/100\n",
            "1875/1875 [==============================] - 3s 1ms/step - loss: 0.2076 - accuracy: 0.9429 - val_loss: 0.2161 - val_accuracy: 0.9388\n",
            "Epoch 36/100\n",
            "1875/1875 [==============================] - 3s 1ms/step - loss: 0.2161 - accuracy: 0.9393 - val_loss: 0.2142 - val_accuracy: 0.9383\n",
            "Epoch 37/100\n",
            "1875/1875 [==============================] - 3s 1ms/step - loss: 0.2082 - accuracy: 0.9404 - val_loss: 0.2156 - val_accuracy: 0.9372\n",
            "Epoch 38/100\n",
            "1875/1875 [==============================] - 3s 1ms/step - loss: 0.2076 - accuracy: 0.9418 - val_loss: 0.2129 - val_accuracy: 0.9377\n",
            "Epoch 39/100\n",
            "1875/1875 [==============================] - 3s 1ms/step - loss: 0.2021 - accuracy: 0.9431 - val_loss: 0.2132 - val_accuracy: 0.9383\n",
            "Epoch 40/100\n",
            "1875/1875 [==============================] - 3s 1ms/step - loss: 0.2023 - accuracy: 0.9420 - val_loss: 0.2144 - val_accuracy: 0.9376\n",
            "Epoch 41/100\n",
            "1875/1875 [==============================] - 3s 1ms/step - loss: 0.2054 - accuracy: 0.9409 - val_loss: 0.2125 - val_accuracy: 0.9391\n",
            "Epoch 42/100\n",
            "1875/1875 [==============================] - 3s 1ms/step - loss: 0.2018 - accuracy: 0.9432 - val_loss: 0.2065 - val_accuracy: 0.9384\n",
            "Epoch 43/100\n",
            "1875/1875 [==============================] - 3s 1ms/step - loss: 0.2072 - accuracy: 0.9415 - val_loss: 0.2088 - val_accuracy: 0.9397\n",
            "Epoch 44/100\n",
            "1875/1875 [==============================] - 3s 1ms/step - loss: 0.2034 - accuracy: 0.9428 - val_loss: 0.2124 - val_accuracy: 0.9373\n",
            "Epoch 45/100\n",
            "1875/1875 [==============================] - 3s 1ms/step - loss: 0.2001 - accuracy: 0.9438 - val_loss: 0.2132 - val_accuracy: 0.9371\n",
            "Epoch 46/100\n",
            "1875/1875 [==============================] - 3s 1ms/step - loss: 0.2013 - accuracy: 0.9424 - val_loss: 0.2089 - val_accuracy: 0.9397\n",
            "Epoch 47/100\n",
            "1875/1875 [==============================] - 3s 1ms/step - loss: 0.1964 - accuracy: 0.9455 - val_loss: 0.2082 - val_accuracy: 0.9396\n",
            "Epoch 48/100\n",
            "1875/1875 [==============================] - 3s 1ms/step - loss: 0.2044 - accuracy: 0.9420 - val_loss: 0.2083 - val_accuracy: 0.9393\n",
            "Epoch 49/100\n",
            "1875/1875 [==============================] - 3s 2ms/step - loss: 0.1947 - accuracy: 0.9448 - val_loss: 0.2095 - val_accuracy: 0.9397\n",
            "Epoch 50/100\n",
            "1875/1875 [==============================] - 3s 2ms/step - loss: 0.1939 - accuracy: 0.9449 - val_loss: 0.2045 - val_accuracy: 0.9409\n",
            "Epoch 51/100\n",
            "1875/1875 [==============================] - 3s 1ms/step - loss: 0.1967 - accuracy: 0.9430 - val_loss: 0.2064 - val_accuracy: 0.9399\n",
            "Epoch 52/100\n",
            "1875/1875 [==============================] - 3s 1ms/step - loss: 0.1919 - accuracy: 0.9460 - val_loss: 0.2063 - val_accuracy: 0.9406\n",
            "Epoch 53/100\n",
            "1875/1875 [==============================] - 3s 1ms/step - loss: 0.1946 - accuracy: 0.9444 - val_loss: 0.2038 - val_accuracy: 0.9395\n",
            "Epoch 54/100\n",
            "1875/1875 [==============================] - 3s 1ms/step - loss: 0.1863 - accuracy: 0.9473 - val_loss: 0.2033 - val_accuracy: 0.9405\n",
            "Epoch 55/100\n",
            "1875/1875 [==============================] - 3s 1ms/step - loss: 0.1893 - accuracy: 0.9456 - val_loss: 0.2051 - val_accuracy: 0.9382\n",
            "Epoch 56/100\n",
            "1875/1875 [==============================] - 3s 1ms/step - loss: 0.1902 - accuracy: 0.9469 - val_loss: 0.2051 - val_accuracy: 0.9397\n",
            "Epoch 57/100\n",
            "1875/1875 [==============================] - 3s 1ms/step - loss: 0.1886 - accuracy: 0.9479 - val_loss: 0.2092 - val_accuracy: 0.9388\n",
            "Epoch 58/100\n",
            "1875/1875 [==============================] - 3s 1ms/step - loss: 0.1865 - accuracy: 0.9466 - val_loss: 0.2055 - val_accuracy: 0.9387\n",
            "Epoch 59/100\n",
            "1875/1875 [==============================] - 3s 1ms/step - loss: 0.1862 - accuracy: 0.9470 - val_loss: 0.2097 - val_accuracy: 0.9385\n",
            "Epoch 60/100\n",
            "1875/1875 [==============================] - 3s 1ms/step - loss: 0.1888 - accuracy: 0.9451 - val_loss: 0.2054 - val_accuracy: 0.9404\n",
            "Epoch 61/100\n",
            "1875/1875 [==============================] - 3s 1ms/step - loss: 0.1929 - accuracy: 0.9441 - val_loss: 0.2029 - val_accuracy: 0.9392\n",
            "Epoch 62/100\n",
            "1875/1875 [==============================] - 3s 1ms/step - loss: 0.1886 - accuracy: 0.9468 - val_loss: 0.2065 - val_accuracy: 0.9374\n",
            "Epoch 63/100\n",
            "1875/1875 [==============================] - 3s 1ms/step - loss: 0.1879 - accuracy: 0.9468 - val_loss: 0.2053 - val_accuracy: 0.9391\n",
            "Epoch 64/100\n",
            "1875/1875 [==============================] - 3s 1ms/step - loss: 0.1931 - accuracy: 0.9458 - val_loss: 0.2026 - val_accuracy: 0.9396\n",
            "Epoch 65/100\n",
            "1875/1875 [==============================] - 3s 1ms/step - loss: 0.1824 - accuracy: 0.9484 - val_loss: 0.2035 - val_accuracy: 0.9404\n",
            "Epoch 66/100\n",
            "1875/1875 [==============================] - 3s 1ms/step - loss: 0.1859 - accuracy: 0.9474 - val_loss: 0.2021 - val_accuracy: 0.9406\n",
            "Epoch 67/100\n",
            "1875/1875 [==============================] - 3s 1ms/step - loss: 0.1886 - accuracy: 0.9476 - val_loss: 0.2001 - val_accuracy: 0.9409\n",
            "Epoch 68/100\n",
            "1875/1875 [==============================] - 3s 1ms/step - loss: 0.1822 - accuracy: 0.9480 - val_loss: 0.2064 - val_accuracy: 0.9397\n",
            "Epoch 69/100\n",
            "1875/1875 [==============================] - 3s 1ms/step - loss: 0.1868 - accuracy: 0.9476 - val_loss: 0.2011 - val_accuracy: 0.9408\n",
            "Epoch 70/100\n",
            "1875/1875 [==============================] - 3s 1ms/step - loss: 0.1815 - accuracy: 0.9472 - val_loss: 0.2019 - val_accuracy: 0.9410\n",
            "Epoch 71/100\n",
            "1875/1875 [==============================] - 3s 1ms/step - loss: 0.1887 - accuracy: 0.9471 - val_loss: 0.1997 - val_accuracy: 0.9401\n",
            "Epoch 72/100\n",
            "1875/1875 [==============================] - 3s 1ms/step - loss: 0.1859 - accuracy: 0.9479 - val_loss: 0.2023 - val_accuracy: 0.9420\n",
            "Epoch 73/100\n",
            "1875/1875 [==============================] - 3s 1ms/step - loss: 0.1856 - accuracy: 0.9463 - val_loss: 0.2004 - val_accuracy: 0.9390\n",
            "Epoch 74/100\n",
            "1875/1875 [==============================] - 3s 1ms/step - loss: 0.1771 - accuracy: 0.9486 - val_loss: 0.1997 - val_accuracy: 0.9415\n",
            "Epoch 75/100\n",
            "1875/1875 [==============================] - 3s 1ms/step - loss: 0.1825 - accuracy: 0.9482 - val_loss: 0.2023 - val_accuracy: 0.9405\n",
            "Epoch 76/100\n",
            "1875/1875 [==============================] - 3s 1ms/step - loss: 0.1820 - accuracy: 0.9489 - val_loss: 0.2018 - val_accuracy: 0.9399\n",
            "Epoch 77/100\n",
            "1875/1875 [==============================] - 3s 1ms/step - loss: 0.1807 - accuracy: 0.9486 - val_loss: 0.1999 - val_accuracy: 0.9423\n",
            "Epoch 78/100\n",
            "1875/1875 [==============================] - 3s 1ms/step - loss: 0.1831 - accuracy: 0.9489 - val_loss: 0.2031 - val_accuracy: 0.9405\n",
            "Epoch 79/100\n",
            "1875/1875 [==============================] - 3s 1ms/step - loss: 0.1860 - accuracy: 0.9467 - val_loss: 0.2010 - val_accuracy: 0.9411\n",
            "Epoch 80/100\n",
            "1875/1875 [==============================] - 3s 1ms/step - loss: 0.1801 - accuracy: 0.9480 - val_loss: 0.2032 - val_accuracy: 0.9397\n",
            "Epoch 81/100\n",
            "1875/1875 [==============================] - 3s 1ms/step - loss: 0.1778 - accuracy: 0.9500 - val_loss: 0.2014 - val_accuracy: 0.9406\n",
            "Epoch 82/100\n",
            "1875/1875 [==============================] - 3s 1ms/step - loss: 0.1794 - accuracy: 0.9495 - val_loss: 0.2013 - val_accuracy: 0.9404\n",
            "Epoch 83/100\n",
            "1875/1875 [==============================] - 3s 1ms/step - loss: 0.1783 - accuracy: 0.9493 - val_loss: 0.2012 - val_accuracy: 0.9407\n",
            "Epoch 84/100\n",
            "1875/1875 [==============================] - 3s 1ms/step - loss: 0.1817 - accuracy: 0.9474 - val_loss: 0.1991 - val_accuracy: 0.9406\n",
            "Epoch 85/100\n",
            "1875/1875 [==============================] - 3s 1ms/step - loss: 0.1787 - accuracy: 0.9480 - val_loss: 0.2002 - val_accuracy: 0.9406\n",
            "Epoch 86/100\n",
            "1875/1875 [==============================] - 3s 1ms/step - loss: 0.1793 - accuracy: 0.9496 - val_loss: 0.2044 - val_accuracy: 0.9405\n",
            "Epoch 87/100\n",
            "1875/1875 [==============================] - 3s 1ms/step - loss: 0.1793 - accuracy: 0.9488 - val_loss: 0.2016 - val_accuracy: 0.9410\n",
            "Epoch 88/100\n",
            "1875/1875 [==============================] - 3s 1ms/step - loss: 0.1801 - accuracy: 0.9492 - val_loss: 0.2022 - val_accuracy: 0.9399\n",
            "Epoch 89/100\n",
            "1875/1875 [==============================] - 3s 1ms/step - loss: 0.1764 - accuracy: 0.9488 - val_loss: 0.2014 - val_accuracy: 0.9407\n",
            "Epoch 90/100\n",
            "1875/1875 [==============================] - 3s 1ms/step - loss: 0.1782 - accuracy: 0.9479 - val_loss: 0.2006 - val_accuracy: 0.9401\n",
            "Epoch 91/100\n",
            "1875/1875 [==============================] - 3s 2ms/step - loss: 0.1724 - accuracy: 0.9511 - val_loss: 0.2041 - val_accuracy: 0.9392\n",
            "Epoch 92/100\n",
            "1875/1875 [==============================] - 3s 1ms/step - loss: 0.1737 - accuracy: 0.9507 - val_loss: 0.2046 - val_accuracy: 0.9411\n",
            "Epoch 93/100\n",
            "1875/1875 [==============================] - 3s 1ms/step - loss: 0.1791 - accuracy: 0.9481 - val_loss: 0.1999 - val_accuracy: 0.9407\n",
            "Epoch 94/100\n",
            "1875/1875 [==============================] - 3s 1ms/step - loss: 0.1736 - accuracy: 0.9496 - val_loss: 0.2004 - val_accuracy: 0.9411\n",
            "Epoch 95/100\n",
            "1875/1875 [==============================] - 3s 1ms/step - loss: 0.1795 - accuracy: 0.9490 - val_loss: 0.1997 - val_accuracy: 0.9424\n",
            "Epoch 96/100\n",
            "1875/1875 [==============================] - 3s 1ms/step - loss: 0.1740 - accuracy: 0.9498 - val_loss: 0.2004 - val_accuracy: 0.9415\n",
            "Epoch 97/100\n",
            "1875/1875 [==============================] - 3s 2ms/step - loss: 0.1745 - accuracy: 0.9487 - val_loss: 0.1997 - val_accuracy: 0.9415\n",
            "Epoch 98/100\n",
            "1875/1875 [==============================] - 3s 2ms/step - loss: 0.1724 - accuracy: 0.9515 - val_loss: 0.2024 - val_accuracy: 0.9412\n",
            "Epoch 99/100\n",
            "1875/1875 [==============================] - 3s 2ms/step - loss: 0.1748 - accuracy: 0.9509 - val_loss: 0.1974 - val_accuracy: 0.9411\n",
            "Epoch 100/100\n",
            "1875/1875 [==============================] - 3s 2ms/step - loss: 0.1747 - accuracy: 0.9504 - val_loss: 0.1990 - val_accuracy: 0.9423\n"
          ],
          "name": "stdout"
        }
      ]
    },
    {
      "cell_type": "markdown",
      "metadata": {
        "id": "B6jIRPNeLR9X"
      },
      "source": [
        "3) Plot."
      ]
    },
    {
      "cell_type": "code",
      "metadata": {
        "colab": {
          "base_uri": "https://localhost:8080/",
          "height": 302
        },
        "id": "VVP8kpKlJgmi",
        "outputId": "f0d5ce68-5118-4238-c28c-e025ed0f1798"
      },
      "source": [
        "plot_history(history, \"MNIST learning with no Hidden Layer \");"
      ],
      "execution_count": 33,
      "outputs": [
        {
          "output_type": "display_data",
          "data": {
            "image/png": "[encoded data removed]",
            "text/plain": [
              "<Figure size 432x288 with 2 Axes>"
            ]
          },
          "metadata": {
            "tags": [],
            "needs_background": "light"
          }
        }
      ]
    },
    {
      "cell_type": "markdown",
      "metadata": {
        "id": "jANnS4HqMROF"
      },
      "source": [
        "4) Repeat with the Fashion-MNIST dataset."
      ]
    },
    {
      "cell_type": "markdown",
      "metadata": {
        "id": "r-462WwtuG84"
      },
      "source": [
        ""
      ]
    },
    {
      "cell_type": "code",
      "metadata": {
        "colab": {
          "base_uri": "https://localhost:8080/"
        },
        "id": "zeS99WhhMW_-",
        "outputId": "d36fc142-74b9-4f73-ad40-491f811d1069"
      },
      "source": [
        "model.reset_states()\n",
        "history = model.fit(x_train, y_train_one_hot, validation_data=(x_test, y_test_one_hot), epochs=epochs, callbacks=callbacks)"
      ],
      "execution_count": 37,
      "outputs": [
        {
          "output_type": "stream",
          "text": [
            "Epoch 1/100\n",
            "1875/1875 [==============================] - 3s 1ms/step - loss: 0.3665 - accuracy: 0.8684 - val_loss: 0.4478 - val_accuracy: 0.8430\n",
            "Epoch 2/100\n",
            "1875/1875 [==============================] - 3s 1ms/step - loss: 0.3666 - accuracy: 0.8689 - val_loss: 0.4518 - val_accuracy: 0.8417\n",
            "Epoch 3/100\n",
            "1875/1875 [==============================] - 3s 1ms/step - loss: 0.3658 - accuracy: 0.8696 - val_loss: 0.4581 - val_accuracy: 0.8375\n",
            "Epoch 4/100\n",
            "1875/1875 [==============================] - 3s 1ms/step - loss: 0.3661 - accuracy: 0.8684 - val_loss: 0.4442 - val_accuracy: 0.8442\n",
            "Epoch 5/100\n",
            "1875/1875 [==============================] - 3s 1ms/step - loss: 0.3661 - accuracy: 0.8688 - val_loss: 0.4508 - val_accuracy: 0.8443\n",
            "Epoch 6/100\n",
            "1875/1875 [==============================] - 3s 1ms/step - loss: 0.3653 - accuracy: 0.8696 - val_loss: 0.4462 - val_accuracy: 0.8432\n",
            "Epoch 7/100\n",
            "1875/1875 [==============================] - 3s 2ms/step - loss: 0.3649 - accuracy: 0.8694 - val_loss: 0.4491 - val_accuracy: 0.8415\n",
            "Epoch 8/100\n",
            "1875/1875 [==============================] - 3s 2ms/step - loss: 0.3650 - accuracy: 0.8689 - val_loss: 0.4458 - val_accuracy: 0.8448\n",
            "Epoch 9/100\n",
            "1875/1875 [==============================] - 3s 2ms/step - loss: 0.3644 - accuracy: 0.8695 - val_loss: 0.4485 - val_accuracy: 0.8451\n",
            "Epoch 10/100\n",
            "1875/1875 [==============================] - 3s 2ms/step - loss: 0.3639 - accuracy: 0.8692 - val_loss: 0.4411 - val_accuracy: 0.8443\n",
            "Epoch 11/100\n",
            "1875/1875 [==============================] - 3s 1ms/step - loss: 0.3638 - accuracy: 0.8692 - val_loss: 0.4577 - val_accuracy: 0.8391\n",
            "Epoch 12/100\n",
            "1875/1875 [==============================] - 3s 1ms/step - loss: 0.3635 - accuracy: 0.8692 - val_loss: 0.4444 - val_accuracy: 0.8451\n",
            "Epoch 13/100\n",
            "1875/1875 [==============================] - 3s 1ms/step - loss: 0.3627 - accuracy: 0.8695 - val_loss: 0.4456 - val_accuracy: 0.8435\n",
            "Epoch 14/100\n",
            "1875/1875 [==============================] - 3s 1ms/step - loss: 0.3624 - accuracy: 0.8686 - val_loss: 0.4517 - val_accuracy: 0.8384\n",
            "Epoch 15/100\n",
            "1875/1875 [==============================] - 3s 1ms/step - loss: 0.3626 - accuracy: 0.8690 - val_loss: 0.4496 - val_accuracy: 0.8419\n",
            "Epoch 16/100\n",
            "1875/1875 [==============================] - 3s 1ms/step - loss: 0.3629 - accuracy: 0.8692 - val_loss: 0.4422 - val_accuracy: 0.8430\n",
            "Epoch 17/100\n",
            "1875/1875 [==============================] - 3s 1ms/step - loss: 0.3623 - accuracy: 0.8698 - val_loss: 0.4573 - val_accuracy: 0.8415\n",
            "Epoch 18/100\n",
            "1875/1875 [==============================] - 3s 1ms/step - loss: 0.3620 - accuracy: 0.8699 - val_loss: 0.4468 - val_accuracy: 0.8413\n",
            "Epoch 19/100\n",
            "1875/1875 [==============================] - 3s 1ms/step - loss: 0.3617 - accuracy: 0.8702 - val_loss: 0.4431 - val_accuracy: 0.8460\n",
            "Epoch 20/100\n",
            "1875/1875 [==============================] - 3s 1ms/step - loss: 0.3609 - accuracy: 0.8711 - val_loss: 0.4421 - val_accuracy: 0.8453\n",
            "Epoch 21/100\n",
            "1875/1875 [==============================] - 3s 1ms/step - loss: 0.3607 - accuracy: 0.8704 - val_loss: 0.4672 - val_accuracy: 0.8307\n",
            "Epoch 22/100\n",
            "1875/1875 [==============================] - 3s 1ms/step - loss: 0.3605 - accuracy: 0.8705 - val_loss: 0.4482 - val_accuracy: 0.8422\n",
            "Epoch 23/100\n",
            "1875/1875 [==============================] - 3s 1ms/step - loss: 0.3604 - accuracy: 0.8703 - val_loss: 0.4445 - val_accuracy: 0.8472\n",
            "Epoch 24/100\n",
            "1875/1875 [==============================] - 3s 1ms/step - loss: 0.3595 - accuracy: 0.8706 - val_loss: 0.4469 - val_accuracy: 0.8432\n",
            "Epoch 25/100\n",
            "1875/1875 [==============================] - 3s 1ms/step - loss: 0.3598 - accuracy: 0.8706 - val_loss: 0.4439 - val_accuracy: 0.8433\n",
            "Epoch 26/100\n",
            "1875/1875 [==============================] - 3s 1ms/step - loss: 0.3596 - accuracy: 0.8704 - val_loss: 0.4452 - val_accuracy: 0.8451\n",
            "Epoch 27/100\n",
            "1875/1875 [==============================] - 3s 1ms/step - loss: 0.3588 - accuracy: 0.8717 - val_loss: 0.4537 - val_accuracy: 0.8384\n",
            "Epoch 28/100\n",
            "1875/1875 [==============================] - 3s 1ms/step - loss: 0.3588 - accuracy: 0.8700 - val_loss: 0.4422 - val_accuracy: 0.8471\n",
            "Epoch 29/100\n",
            "1875/1875 [==============================] - 3s 1ms/step - loss: 0.3585 - accuracy: 0.8705 - val_loss: 0.4437 - val_accuracy: 0.8439\n",
            "Epoch 30/100\n",
            "1875/1875 [==============================] - 3s 1ms/step - loss: 0.3581 - accuracy: 0.8716 - val_loss: 0.4538 - val_accuracy: 0.8391\n",
            "Epoch 00030: early stopping\n"
          ],
          "name": "stdout"
        }
      ]
    },
    {
      "cell_type": "code",
      "metadata": {
        "colab": {
          "base_uri": "https://localhost:8080/",
          "height": 302
        },
        "id": "TYnfImWfNT9o",
        "outputId": "60db3a42-f823-46e4-9017-0fb605a4ab89"
      },
      "source": [
        "plot_history(history, \"Fashion-MNIST learning with no Hidden Layer \");"
      ],
      "execution_count": 35,
      "outputs": [
        {
          "output_type": "display_data",
          "data": {
            "image/png": "[encoded data removed]",
            "text/plain": [
              "<Figure size 432x288 with 2 Axes>"
            ]
          },
          "metadata": {
            "tags": [],
            "needs_background": "light"
          }
        }
      ]
    },
    {
      "cell_type": "markdown",
      "metadata": {
        "id": "WvUjwawMNfS9"
      },
      "source": [
        "We see that the improvement of the validation accuracy levels out around 75 epochs."
      ]
    },
    {
      "cell_type": "markdown",
      "metadata": {
        "id": "1dX2CxT_lzNX"
      },
      "source": [
        "5) Overfitting?"
      ]
    },
    {
      "cell_type": "markdown",
      "metadata": {
        "id": "_DjnzuDyl5Sh"
      },
      "source": [
        "MNIST:\n",
        "\n",
        "We see that the improvement of the validation accuracy levels out around 20 epochs.\n",
        "\n",
        "If overfitting, we should see the test lost stopping to decrease (i.e. increasing). Furthermore, since there is a lot of training data for a models with only 7960 parameters it is unlikely that the model is overfitting."
      ]
    },
    {
      "cell_type": "markdown",
      "metadata": {
        "id": "w2-SW0u4t3rp"
      },
      "source": [
        "Fashion-MNIST:\n",
        "\n",
        "We see that the improvement of the validation accuracy levels out around 75 epochs.\n",
        "\n",
        "Same interpretation regarding overfitting (in that case we should see the test lost stopping to decrease (i.e. increasing). Furthermore, since there is a lot of training data for a models with only 7960 parameters it is unlikely that the model is overfitting.)"
      ]
    },
    {
      "cell_type": "markdown",
      "metadata": {
        "id": "93JrKMECUmF5"
      },
      "source": [
        "## Exercise 3: One hidden layer, different optimizers (10 points)\n",
        "\n",
        "Train a network with one hidden layer and compare different optimizers for the MNIST dataset.\n",
        "\n",
        "1. Use one hidden layer with 128 units and the 'relu' activation. Use the [summary method](https://keras.io/api/models/model/#summary-method) to display your model in a compact way. (1 pt)\n",
        "2. Train the model for at least 50 epochs with different learning rates of stochastic gradient descent (SGD). What happens if the learning rate $\\eta$ is very large (for ex. $\\eta=1$), and very small (for ex. $\\eta=0.001$)? Comment on the fluctuations of the learning curve. (2 pts)\n",
        "3. Replace the stochastic gradient descent optimizer with the [Adam optimizer](https://keras.io/optimizers/#adam) (you can use the default learning rate). (1pt)\n",
        "4. Plot the learning curves of SGD with a good learning rate (i.e. in the range [0.01,0.1]) together with the learning curves of Adam in the same figure. Take care of a reasonable labeling of the curves in the plot. (1 pts)\n",
        "5. Explain the qualitative difference between the loss and accuracy curves with respect to signs of overfitting. Report the best validation accuracy achieved for SGD and Adam. Which one is better and why do you think so? (2 pts)\n",
        "6. Determine the indices of all test images that are misclassified by the fitted model and plot some of them using the function \n",
        "   `plot_some_samples`. (1 pt)\n",
        "\n",
        "Real-world datasets are labeled by some people and sometimes there are mistakes in the labeling. We will corrupt labels of the MNIST dataset artifically, and observe an overfitting to this noisy dataset with Adam. \n",
        "\n",
        "7. Take $ p = 0.2 $ fraction of the data points from the training dataset of MNIST and change their class labels randomly. (You can sample a random integer from 0 to 9 using `np.random.uniform` and `np.floor`). Train with Adam for 50 or 100 epochs. Plot the learning curves. Do you observe overfitting in the validation accuracy? Does it take longer to converge to perfect training accuracy compare to noise-free MNIST? (2 pts)"
      ]
    },
    {
      "cell_type": "markdown",
      "metadata": {
        "id": "JqsjfxPdUmF5"
      },
      "source": [
        "**Answer to Question 2** (max 2 sentences): \n",
        "\n",
        "**Answer to Question 5** (max 3 sentences): \n",
        "\n",
        "**Answer to Question 7** (max 2 sentences): "
      ]
    },
    {
      "cell_type": "markdown",
      "metadata": {
        "id": "hqNAh2guUmF5"
      },
      "source": [
        "### Solution"
      ]
    },
    {
      "cell_type": "code",
      "metadata": {
        "id": "Ww4gx6JSUmF6"
      },
      "source": [
        ""
      ],
      "execution_count": 35,
      "outputs": []
    },
    {
      "cell_type": "code",
      "metadata": {
        "id": "Xu3ZMXLBUmF6"
      },
      "source": [
        "# This plotting routine might help you ...\n",
        "def comparison_plot(history_sgd, history_adam, label1, label2, title):\n",
        "    fig, ax1, ax2 = prepare_standardplot(title, \"epochs\")\n",
        "    ax1.plot(history_sgd.history['loss'], label=label1 + ' train')\n",
        "    ax1.plot(history_sgd.history['val_loss'], label=label1 + ' val')\n",
        "    ax1.plot(history_adam.history['loss'], label=label2 + ' train')\n",
        "    ax1.plot(history_adam.history['val_loss'], label=label2 + ' val')\n",
        "    ax2.plot(history_sgd.history['accuracy'], label=label1 + ' train')\n",
        "    ax2.plot(history_sgd.history['val_accuracy'], label=label1 + ' val')\n",
        "    ax2.plot(history_adam.history['accuracy'], label=label2 + ' train')\n",
        "    ax2.plot(history_adam.history['val_accuracy'], label=label2 + ' val')\n",
        "    finalize_standardplot(fig, ax1, ax2)\n",
        "    return fig"
      ],
      "execution_count": 36,
      "outputs": []
    },
    {
      "cell_type": "markdown",
      "metadata": {
        "id": "Ifgvj_JmUmF6"
      },
      "source": [
        "## Exercise 4: Model performance as a function of number of hidden neurons (8 + 2 points)\n",
        "\n",
        "Since the MNIST dataset is almost perfectly solved already by a one-hidden-layer network in Exercise 3, we use the Fashion-MNIST dataset from now on to compare the performances of more complex models. In this exercise, we investigate how the best validation loss and accuracy depends on the number of hidden neurons in a single layer.\n",
        "\n",
        "1. Fit at least 4 models with different number of hidden neurons (i.e. width) between 10 and 1000 to the Fashion-MNIST dataset. Train with Adam for 50-100 epochs. (2 pts)\n",
        "2. Plot the best validation loss and accuracy versus the width. Is the observed trend in accordance with the [general approximation theorem](https://en.wikipedia.org/wiki/Universal_approximation_theorem)? Do you observe an overfitting due to the complexity of the wider networks with more parameters? Report the best validation accuracy. (2 pts)\n",
        "3. Choose $ p \\geq 0.5 $ fraction of the data points from the training dataset of Fashion-MNIST and change their class labels randomly as in Exercise 3. For this noisy Fashion-MNIST dataset, fit at least 4 models with different widths between 10 and 250. Train with Adam for at least 150 epochs. Plot the best validation loss and accuracy vs. width. (2 pts)\n",
        "4. BONUS: Add random Gaussian noise on the input pixels with mean 0 and variance between 0.01-0.5 and use the original labels. For this noisy Fashion-MNIST dataset, fit at least 4 models with different widths between 10 and 250. Train with Adam for at least 150 epochs. Plot the best validation loss and accuracy vs. width. (2 pts)\n",
        "5. Answer to the same questions in 2 for the noisy Fashion-MNIST dataset(s). Comment on the differences between width-performence curves for these two (or three) datasets. (2 pts)\n",
        "\n",
        "In this exercise we fit each model only for one initialization and random seed. In practice one would collect some statistics (e.g. 25-, 50-, 75-percentiles) for each layer size by fitting each model several times with different initializations and the random seeds. You may also want to do this here. It is a good exercise, but not mandatory as it takes quite a bit of computation time."
      ]
    },
    {
      "cell_type": "markdown",
      "metadata": {
        "id": "fDvqvz9yUmF7"
      },
      "source": [
        "**Answer to Question 2** (max 2 sentences): \n",
        "\n",
        "**Answer to Question 5** (max 3 sentences): "
      ]
    },
    {
      "cell_type": "markdown",
      "metadata": {
        "id": "PNq8VyZiUmF7"
      },
      "source": [
        "### Solution"
      ]
    },
    {
      "cell_type": "code",
      "metadata": {
        "id": "d6ZVPYEhUmF7"
      },
      "source": [
        ""
      ],
      "execution_count": 36,
      "outputs": []
    },
    {
      "cell_type": "markdown",
      "metadata": {
        "id": "O2Gb7mgSUmF7"
      },
      "source": [
        "## Exercise 5: Going deeper: tricks and regularization (10 + 2 points)\n",
        "\n",
        "Adding hidden layers to a deep network does not necessarily lead to a straight-forward improvement of performance. We use Fashion-MNIST dataset in this exercise.  \n",
        "\n",
        "1. Choose a width $ h $ between 50-200 and use at least two hidden layers with $ h $ hidden neurons (each) and train the network for at least 150 epochs. (2 pts)\n",
        "2. Plot the learning curves and report the best validation accuracy. Do you observe overfitting? (2 pts)\n",
        "3. Keep the network at the same size. Use a very large l2 regularization $\\lambda$ (for ex. $\\lambda=1$) and a small one (for ex. $\\lambda=0.001$) on kernel weights and report the validation accuracies. What do you observe?  (2 pts)\n",
        "4. Turn off the $ \\ell_2 $ regularization and use a large dropout rate (for ex. 0.5) and a small one (for ex. 0.05) at all hidden layers and report the validation accuracies. What do you observe? (2 pts)\n",
        "5. BONUS: Try built-in data augmentation methods as a way to regularize: this may include horizontal flipping of the images or small rotations. You can use built-in methods in Keras. Report the augmentation method you used and the best validation accuracy. (2 pts)\n",
        "\n",
        "Note that one needs to cross-validate to find the right regularization parameter for the model you chose and for the dataset at hand. However we do not enforce this hyperparameter search as it takes long computation times but it is a good practice if you try it here. \n",
        "\n",
        "6. Compare the validation accuracies resulting from your attempts to reduce overfitting. Did you improve the validation accuracy? If not, comment on the possible sources of failure. (2 pts)"
      ]
    },
    {
      "cell_type": "markdown",
      "metadata": {
        "id": "LzX8ezheUmF7"
      },
      "source": [
        "**Answer to Question 2** (max 1 sentence):   \n",
        "\n",
        "**Answer to Question 3** (max 2 sentences): \n",
        "\n",
        "**Answer to Question 4** (max 2 sentences): \n",
        "\n",
        "**Answer to Question 5 (BONUS)** (max 2 sentences): \n",
        "\n",
        "**Answer to Question 6** (max 2 sentences): "
      ]
    },
    {
      "cell_type": "markdown",
      "metadata": {
        "id": "NSQJfhZVUmF8"
      },
      "source": [
        "### Solution"
      ]
    },
    {
      "cell_type": "code",
      "metadata": {
        "id": "LU6_9-HSUmF8"
      },
      "source": [
        ""
      ],
      "execution_count": 36,
      "outputs": []
    },
    {
      "cell_type": "markdown",
      "metadata": {
        "id": "NDYfqS_MUmF9"
      },
      "source": [
        "## Exercise 6: Convolutional neural networks (CNNs) (10 points)\n",
        "\n",
        "Convolutional neural networks have an inductive bias that is well adapted to image classification. \n",
        "\n",
        "1. Design a convolutional neural network and train it without using explicit regularizers. (2 pts)\n",
        "2. Try to improve the best validation scores of the model by experiment with batch_normalization layers, dropout layers and l2-regularization on weights (kernels) and biases. (4 pts)\n",
        "3. After you have found good settings, plot the learning curves for both models, naive (=no tricks/regularization) and tuned (=tricks + regularized) together in a comparison plot. (2pts)\n",
        "4. How does the CNN performance compare to the so far best performing (deep) neural network model? (2 pts)\n",
        "\n",
        "*Hint:* You may get valuable inspiration from the keras [examples](https://keras.io/examples/), [for example](https://keras.io/examples/vision/mnist_convnet/)."
      ]
    },
    {
      "cell_type": "markdown",
      "metadata": {
        "id": "JUbPDPV_UmF9"
      },
      "source": [
        "**Answer to Question 4**: "
      ]
    },
    {
      "cell_type": "markdown",
      "metadata": {
        "id": "1-dXDw80UmF9"
      },
      "source": [
        "### Solution"
      ]
    },
    {
      "cell_type": "code",
      "metadata": {
        "ExecuteTime": {
          "end_time": "2018-02-23T16:05:21.840299Z",
          "start_time": "2018-02-23T15:51:11.993053Z"
        },
        "id": "FQZzPHt7UmF9"
      },
      "source": [
        ""
      ],
      "execution_count": 36,
      "outputs": []
    },
    {
      "cell_type": "code",
      "metadata": {
        "id": "6IrD-oT3_X0a"
      },
      "source": [
        ""
      ],
      "execution_count": 36,
      "outputs": []
    },
    {
      "cell_type": "code",
      "metadata": {
        "id": "Vd9nx_1eDUix"
      },
      "source": [
        ""
      ],
      "execution_count": 36,
      "outputs": []
    },
    {
      "cell_type": "code",
      "metadata": {
        "id": "WaiC4eAZS4q6"
      },
      "source": [
        ""
      ],
      "execution_count": 36,
      "outputs": []
    },
    {
      "cell_type": "code",
      "metadata": {
        "id": "KYlB3Kg8JdD9"
      },
      "source": [
        ""
      ],
      "execution_count": 36,
      "outputs": []
    },
    {
      "cell_type": "code",
      "metadata": {
        "id": "1ejeEal1JfXN"
      },
      "source": [
        ""
      ],
      "execution_count": 36,
      "outputs": []
    }
  ]
}