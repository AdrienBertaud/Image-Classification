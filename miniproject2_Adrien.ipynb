{
  "nbformat": 4,
  "nbformat_minor": 0,
  "metadata": {
    "kernelspec": {
      "display_name": "Python 3",
      "language": "python",
      "name": "python3"
    },
    "language_info": {
      "codemirror_mode": {
        "name": "ipython",
        "version": 3
      },
      "file_extension": ".py",
      "mimetype": "text/x-python",
      "name": "python",
      "nbconvert_exporter": "python",
      "pygments_lexer": "ipython3",
      "version": "3.7.4"
    },
    "colab": {
      "name": "miniproject2.ipynb",
      "provenance": []
    }
  },
  "cells": [
    {
      "cell_type": "markdown",
      "metadata": {
        "id": "BnAEU9iKUmFl"
      },
      "source": [
        "# Miniproject: Image Classification\n",
        "\n",
        "### Description\n",
        "\n",
        "One of the oldest traditions in deep learning is to first tackle the fun problem of MNIST classification. [The MNIST dataset](https://en.wikipedia.org/wiki/MNIST_database) is a large database of handwritten digits that is commonly used as a first test for new classification algorithms. \n",
        "We follow this tradition to investigate the performance of artificial neural networks of different complexity on MNIST. However, since MNIST is too easy for accessing the full power of modern machine learning algorithms (see e.g. [this post](https://twitter.com/goodfellow_ian/status/852591106655043584)) we will extend our analysis to the recently introduced, harder [Fashion-MNIST dataset](https://github.com/zalandoresearch/fashion-mnist).\n",
        "\n",
        "### Prerequisites\n",
        "\n",
        "- You should have a running installation of [tensorflow](https://www.tensorflow.org/install/) and [keras](https://keras.io/). Feel free to gain inspiration from the [Keras example directory](https://keras.io/examples/) for your implementations.\n",
        "- You should know the concepts \"multilayer perceptron\", \"stochastic gradient descent with minibatches\", \"Adam\", \"convolutional neural network\", \"training and validation data\", \"overfitting\", \"regularization\", and \"early stopping\".\n",
        "\n",
        "### What you will learn\n",
        "\n",
        "- You will learn how to define feedforward neural networks in keras and fit them to data (i.e. training).\n",
        "- You will be guided through a prototyping procedure for the application of deep learning to a specific domain.\n",
        "- You will gain some experience on the influence of network architecture, optimizer and regularization choices on the goodness of fit.\n",
        "- You will learn to be more patient :) Some fits may take your computer quite a bit of time; run them over night (or on an external server).\n",
        "\n",
        "### Evaluation criteria\n",
        "\n",
        "The evaluation is (mostly) based on the figures you submit and your answer sentences. Provide clear and concise answers respecting the indicated maximum length.\n",
        "\n",
        "**The submitted notebook must be run by you!** We will only do random tests of your code and not re-run the full notebook. There will be fraud detection sessions at the end of the semester.\n",
        "\n",
        "### Your names\n",
        "\n",
        "**Before you start**: please enter your full name(s) in the field below."
      ]
    },
    {
      "cell_type": "code",
      "metadata": {
        "ExecuteTime": {
          "end_time": "2018-03-09T09:08:24.514461Z",
          "start_time": "2018-03-09T09:08:24.506410Z"
        },
        "id": "bVa5G9-6UmFv"
      },
      "source": [
        "student1 = \"Jan Bauer (18-764-571)\"\n",
        "student2 = \"Adrien Bertaud (Todo Add Student Number)\""
      ],
      "execution_count": 1,
      "outputs": []
    },
    {
      "cell_type": "markdown",
      "metadata": {
        "ExecuteTime": {
          "end_time": "2018-02-22T21:52:59.697375Z",
          "start_time": "2018-02-22T21:52:59.689443Z"
        },
        "id": "8ZLXwbYkUmFy"
      },
      "source": [
        "## Some helper functions\n",
        "\n",
        "For your convenience we provide here some functions to preprocess the data and plot the results later. Simply run the following cells with `Shift-Enter`.\n",
        "\n",
        "### Dependencies and constants"
      ]
    },
    {
      "cell_type": "code",
      "metadata": {
        "ExecuteTime": {
          "end_time": "2018-02-23T14:27:09.352019Z",
          "start_time": "2018-02-23T14:27:08.476310Z"
        },
        "id": "a_-AKt04UmFz"
      },
      "source": [
        "%matplotlib inline\n",
        "\n",
        "import numpy as np\n",
        "import time\n",
        "import matplotlib.pyplot as plt\n",
        "import scipy.io\n",
        "\n",
        "import keras\n",
        "from keras.models import Sequential\n",
        "from keras.layers import Dense, Conv2D, MaxPooling2D, Dropout, Flatten, BatchNormalization\n",
        "from keras.optimizers import SGD, Adam\n",
        "from keras import regularizers"
      ],
      "execution_count": 2,
      "outputs": []
    },
    {
      "cell_type": "markdown",
      "metadata": {
        "id": "6-U_Ag8QUmFz"
      },
      "source": [
        "### Plotting"
      ]
    },
    {
      "cell_type": "code",
      "metadata": {
        "ExecuteTime": {
          "end_time": "2018-02-23T15:11:52.252208Z",
          "start_time": "2018-02-23T15:11:52.121360Z"
        },
        "id": "d2V7in4BUmF0"
      },
      "source": [
        "def plot_some_samples(x, y = [], yhat = [], select_from = [], \n",
        "                      ncols = 6, nrows = 4, xdim = 28, ydim = 28,\n",
        "                      label_mapping = range(10)):\n",
        "    \"\"\"plot some input vectors as grayscale images (optionally together with their assigned or predicted labels).\n",
        "    \n",
        "    x is an NxD - dimensional array, where D is the length of an input vector and N is the number of samples.\n",
        "    Out of the N samples, ncols x nrows indices are randomly selected from the list select_from (if it is empty, select_from becomes range(N)).\n",
        "    \"\"\"\n",
        "    fig, ax = plt.subplots(nrows, ncols)\n",
        "    if len(select_from) == 0:\n",
        "        select_from = range(x.shape[0])\n",
        "    indices = np.random.choice(select_from, size = min(ncols * nrows, len(select_from)), replace = False)\n",
        "    for i, ind in enumerate(indices):\n",
        "        thisax = ax[i//ncols,i%ncols]\n",
        "        thisax.matshow(x[ind].reshape(xdim, ydim), cmap='gray')\n",
        "        thisax.set_axis_off()\n",
        "        if len(y) != 0:\n",
        "            j = y[ind] if type(y[ind]) != np.ndarray else y[ind].argmax()\n",
        "            thisax.text(0, 0, (label_mapping[j]+1)%10, color='green', \n",
        "                                                       verticalalignment='top',\n",
        "                                                       transform=thisax.transAxes)\n",
        "        if len(yhat) != 0:\n",
        "            k = yhat[ind] if type(yhat[ind]) != np.ndarray else yhat[ind].argmax()\n",
        "            thisax.text(1, 0, (label_mapping[k]+1)%10, color='red',\n",
        "                                             verticalalignment='top',\n",
        "                                             horizontalalignment='right',\n",
        "                                             transform=thisax.transAxes)\n",
        "    return fig\n",
        "\n",
        "def prepare_standardplot(title, xlabel):\n",
        "    fig, (ax1, ax2) = plt.subplots(1, 2)\n",
        "    fig.suptitle(title)\n",
        "    ax1.set_ylabel('categorical cross entropy')\n",
        "    ax1.set_xlabel(xlabel)\n",
        "    ax1.set_yscale('log')\n",
        "    ax2.set_ylabel('accuracy [% correct]')\n",
        "    ax2.set_xlabel(xlabel)\n",
        "    return fig, ax1, ax2\n",
        "\n",
        "def finalize_standardplot(fig, ax1, ax2):\n",
        "    ax1handles, ax1labels = ax1.get_legend_handles_labels()\n",
        "    if len(ax1labels) > 0:\n",
        "        ax1.legend(ax1handles, ax1labels)\n",
        "    ax2handles, ax2labels = ax2.get_legend_handles_labels()\n",
        "    if len(ax2labels) > 0:\n",
        "        ax2.legend(ax2handles, ax2labels)\n",
        "    fig.tight_layout()\n",
        "    plt.subplots_adjust(top=0.9)\n",
        "\n",
        "def plot_history(history, title):\n",
        "    fig, ax1, ax2 = prepare_standardplot(title, 'epoch')\n",
        "    ax1.plot(history.history['loss'], label = \"train\")\n",
        "    ax1.plot(history.history['val_loss'], label = \"val\")\n",
        "    ax2.plot(history.history['accuracy'], label = \"train\")\n",
        "    ax2.plot(history.history['val_accuracy'], label = \"val\")\n",
        "    finalize_standardplot(fig, ax1, ax2)\n",
        "    return fig"
      ],
      "execution_count": 3,
      "outputs": []
    },
    {
      "cell_type": "markdown",
      "metadata": {
        "id": "96-3BgpfUmF1"
      },
      "source": [
        "## Exercise 1: Data import and visualization (6 points)\n",
        "\n",
        "The datasets we use in this project (MNIST, Fashion-MNIST) consists of grayscale images with 28x28 pixels. \n",
        "The low resolution (and grayscale) of the images certainly misses some information that could be helpful for classifying the images. However, since the data has lower dimensionality due to the low resolution, the training converges faster. This is an advantage in situations like here (or generally when prototyping), where we want to try many different things without having to wait too long. \n",
        "\n",
        "1. As a warm-up exercise, use the importer to (down-)load the MNIST and Fashion-MNIST dataset. Assign useful variables to test & train images and labels for both datasets respectively. (2 pts)\n",
        "2. Use the function `plot_some_samples` defined above to plot some samples of the two datasets. What do the green digits at the bottom left of each image indicate? (2 pts)\n",
        "3. To prepare for training: 1. transform the labels to one hot coding, i.e. for 5 classes, label 2 becomes the vector [0, 0, 1, 0, 0] (you can use `utils.to_categorical` function from keras), and 2. reshape (flatten) the input images to input vectors and rescale the input data into the range [0,1]. (2 pts)\n",
        "\n",
        "*Hint*: Keras comes with a convenient in-built [data importer](https://keras.io/datasets/) for common datasets. "
      ]
    },
    {
      "cell_type": "markdown",
      "metadata": {
        "id": "kGiMLZFXUmF2"
      },
      "source": [
        "**Answer to Question 2** (1 sentence): "
      ]
    },
    {
      "cell_type": "markdown",
      "metadata": {
        "id": "PGSLbCcbUmF2"
      },
      "source": [
        "### Solution"
      ]
    },
    {
      "cell_type": "markdown",
      "metadata": {
        "id": "44GJq_o2BlkA"
      },
      "source": [
        "1.1) Load the MNIST and Fashion-MNIST dataset."
      ]
    },
    {
      "cell_type": "code",
      "metadata": {
        "ExecuteTime": {
          "end_time": "2018-02-23T14:27:44.442862Z",
          "start_time": "2018-02-23T14:27:09.505547Z"
        },
        "id": "wjga3NseUmF3",
        "colab": {
          "base_uri": "https://localhost:8080/"
        },
        "outputId": "558f7e2e-4d3a-438f-c45f-8ae3ba973f22"
      },
      "source": [
        "import tensorflow as tf\n",
        "(x_mnist_train, y_mnist_train), (x_mnist_test, y_mnist_test) = tf.keras.datasets.mnist.load_data(path=\"mnist.npz\")\n",
        "(x_train, y_train), (x_test, y_test) = tf.keras.datasets.fashion_mnist.load_data()"
      ],
      "execution_count": 4,
      "outputs": [
        {
          "output_type": "stream",
          "text": [
            "Downloading data from https://storage.googleapis.com/tensorflow/tf-keras-datasets/mnist.npz\n",
            "11493376/11490434 [==============================] - 0s 0us/step\n",
            "Downloading data from https://storage.googleapis.com/tensorflow/tf-keras-datasets/train-labels-idx1-ubyte.gz\n",
            "32768/29515 [=================================] - 0s 0us/step\n",
            "Downloading data from https://storage.googleapis.com/tensorflow/tf-keras-datasets/train-images-idx3-ubyte.gz\n",
            "26427392/26421880 [==============================] - 0s 0us/step\n",
            "Downloading data from https://storage.googleapis.com/tensorflow/tf-keras-datasets/t10k-labels-idx1-ubyte.gz\n",
            "8192/5148 [===============================================] - 0s 0us/step\n",
            "Downloading data from https://storage.googleapis.com/tensorflow/tf-keras-datasets/t10k-images-idx3-ubyte.gz\n",
            "4423680/4422102 [==============================] - 0s 0us/step\n"
          ],
          "name": "stdout"
        }
      ]
    },
    {
      "cell_type": "markdown",
      "metadata": {
        "id": "zK0e2jWyBxuY"
      },
      "source": [
        "1.2) Plot some samples of the two datasets."
      ]
    },
    {
      "cell_type": "code",
      "metadata": {
        "colab": {
          "base_uri": "https://localhost:8080/",
          "height": 276
        },
        "id": "E-tP-_yR_cIT",
        "outputId": "ed1490aa-0b4f-4ed6-f33a-b27d7fdd9ad4"
      },
      "source": [
        "print(\"MNIST\")\n",
        "plot_some_samples(x_mnist_train, y_mnist_train, ncols=6, nrows=4);"
      ],
      "execution_count": 5,
      "outputs": [
        {
          "output_type": "stream",
          "text": [
            "MNIST\n"
          ],
          "name": "stdout"
        },
        {
          "output_type": "display_data",
          "data": {
            "image/png": "[encoded data removed]",
            "text/plain": [
              "<Figure size 432x288 with 24 Axes>"
            ]
          },
          "metadata": {
            "tags": [],
            "needs_background": "light"
          }
        }
      ]
    },
    {
      "cell_type": "code",
      "metadata": {
        "colab": {
          "base_uri": "https://localhost:8080/",
          "height": 276
        },
        "id": "rM7sGUJ7CPXI",
        "outputId": "255638a4-534e-4299-e076-dcdf69192e36"
      },
      "source": [
        "print(\"Fashion-MNIST\")\n",
        "plot_some_samples(x_train, y_train, ncols=6, nrows=4);"
      ],
      "execution_count": 6,
      "outputs": [
        {
          "output_type": "stream",
          "text": [
            "Fashion-MNIST\n"
          ],
          "name": "stdout"
        },
        {
          "output_type": "display_data",
          "data": {
            "image/png": "[encoded data removed]",
            "text/plain": [
              "<Figure size 432x288 with 24 Axes>"
            ]
          },
          "metadata": {
            "tags": [],
            "needs_background": "light"
          }
        }
      ]
    },
    {
      "cell_type": "markdown",
      "metadata": {
        "id": "hsmXRZADC0UP"
      },
      "source": [
        "The green digit at the bottom left of each image indicates the label of the image, i.e its classificaition. It can be interpreted as the index of the digit with value 1 (all others at 0) fot one hot coding. Without that prior labelling, no training is possible."
      ]
    },
    {
      "cell_type": "markdown",
      "metadata": {
        "id": "ozrpz5-NB7wg"
      },
      "source": [
        "1.3) Prepare for training."
      ]
    },
    {
      "cell_type": "code",
      "metadata": {
        "colab": {
          "base_uri": "https://localhost:8080/"
        },
        "id": "2Q_Rl6c-DV87",
        "outputId": "041919b0-268c-403c-df21-289d1fca5d01"
      },
      "source": [
        "# transform the labels to one hot coding\n",
        "from keras.utils import to_categorical\n",
        "\n",
        "y_mnist_train_one_hot = to_categorical(y_mnist_train)\n",
        "y_mnist_test_one_hot = to_categorical(y_mnist_test)\n",
        "\n",
        "for i in range(5):\n",
        "    print(\"train : {0} => {1} \\ttest : {2} => {3}\".format(y_mnist_train[i], y_mnist_train_one_hot[i], y_mnist_test[i], y_mnist_test_one_hot[i]))"
      ],
      "execution_count": 7,
      "outputs": [
        {
          "output_type": "stream",
          "text": [
            "train : 5 => [0. 0. 0. 0. 0. 1. 0. 0. 0. 0.] \ttest : 7 => [0. 0. 0. 0. 0. 0. 0. 1. 0. 0.]\n",
            "train : 0 => [1. 0. 0. 0. 0. 0. 0. 0. 0. 0.] \ttest : 2 => [0. 0. 1. 0. 0. 0. 0. 0. 0. 0.]\n",
            "train : 4 => [0. 0. 0. 0. 1. 0. 0. 0. 0. 0.] \ttest : 1 => [0. 1. 0. 0. 0. 0. 0. 0. 0. 0.]\n",
            "train : 1 => [0. 1. 0. 0. 0. 0. 0. 0. 0. 0.] \ttest : 0 => [1. 0. 0. 0. 0. 0. 0. 0. 0. 0.]\n",
            "train : 9 => [0. 0. 0. 0. 0. 0. 0. 0. 0. 1.] \ttest : 4 => [0. 0. 0. 0. 1. 0. 0. 0. 0. 0.]\n"
          ],
          "name": "stdout"
        }
      ]
    },
    {
      "cell_type": "code",
      "metadata": {
        "colab": {
          "base_uri": "https://localhost:8080/"
        },
        "id": "09HL6DMLN8uu",
        "outputId": "9dc3faaf-cf48-4a83-bb58-35ac42da6648"
      },
      "source": [
        "y_train_one_hot = to_categorical(y_train)\n",
        "y_test_one_hot = to_categorical(y_test)\n",
        "\n",
        "for i in range(5):\n",
        "    print(\"train : {0} => {1} \\ttest : {2} => {3}\".format(y_train[i], y_train_one_hot[i], y_test[i], y_test_one_hot[i]))"
      ],
      "execution_count": 8,
      "outputs": [
        {
          "output_type": "stream",
          "text": [
            "train : 9 => [0. 0. 0. 0. 0. 0. 0. 0. 0. 1.] \ttest : 9 => [0. 0. 0. 0. 0. 0. 0. 0. 0. 1.]\n",
            "train : 0 => [1. 0. 0. 0. 0. 0. 0. 0. 0. 0.] \ttest : 2 => [0. 0. 1. 0. 0. 0. 0. 0. 0. 0.]\n",
            "train : 0 => [1. 0. 0. 0. 0. 0. 0. 0. 0. 0.] \ttest : 1 => [0. 1. 0. 0. 0. 0. 0. 0. 0. 0.]\n",
            "train : 3 => [0. 0. 0. 1. 0. 0. 0. 0. 0. 0.] \ttest : 1 => [0. 1. 0. 0. 0. 0. 0. 0. 0. 0.]\n",
            "train : 0 => [1. 0. 0. 0. 0. 0. 0. 0. 0. 0.] \ttest : 6 => [0. 0. 0. 0. 0. 0. 1. 0. 0. 0.]\n"
          ],
          "name": "stdout"
        }
      ]
    },
    {
      "cell_type": "code",
      "metadata": {
        "colab": {
          "base_uri": "https://localhost:8080/"
        },
        "id": "whHrNeQiETo7",
        "outputId": "a445c9ec-449b-4470-affd-92b89fa14d00"
      },
      "source": [
        "# reshape (flatten) the input images to input vectors\n",
        "print(\"MNIST\")\n",
        "original_mnist_train_shape = x_mnist_train.shape\n",
        "original_mnist_test_shape = x_mnist_test.shape\n",
        "x_mnist_train = x_mnist_train.reshape(x_mnist_train.shape[0], x_mnist_train.shape[1]*x_mnist_train.shape[2])\n",
        "x_mnist_test = x_mnist_test.reshape(x_mnist_test.shape[0], x_mnist_test.shape[1]*x_mnist_test.shape[2])\n",
        "print(\"Reshaped training data from {0} to {1}\".format(original_mnist_train_shape, x_mnist_train.shape))\n",
        "print(\"Reshaped test data from {0} to {1}\".format(original_mnist_test_shape, x_mnist_test.shape))"
      ],
      "execution_count": 9,
      "outputs": [
        {
          "output_type": "stream",
          "text": [
            "MNIST\n",
            "Reshaped training data from (60000, 28, 28) to (60000, 784)\n",
            "Reshaped test data from (10000, 28, 28) to (10000, 784)\n"
          ],
          "name": "stdout"
        }
      ]
    },
    {
      "cell_type": "code",
      "metadata": {
        "colab": {
          "base_uri": "https://localhost:8080/"
        },
        "id": "evnIslVWHHmz",
        "outputId": "f132f670-865e-4dcd-b7d4-4df7039246cf"
      },
      "source": [
        "print(\"Fashion-MNIST\")\n",
        "original_train_shape = x_train.shape\n",
        "original_test_shape = x_test.shape\n",
        "x_train = x_train.reshape(x_train.shape[0], x_train.shape[1]*x_train.shape[2])\n",
        "x_test = x_test.reshape(x_test.shape[0], x_test.shape[1]*x_test.shape[2])\n",
        "print(\"Reshaped training data from {0} to {1}\".format(original_train_shape, x_train.shape))\n",
        "print(\"Reshaped test data from {0} to {1}\".format(original_test_shape, x_test.shape))"
      ],
      "execution_count": 10,
      "outputs": [
        {
          "output_type": "stream",
          "text": [
            "Fashion-MNIST\n",
            "Reshaped training data from (60000, 28, 28) to (60000, 784)\n",
            "Reshaped test data from (10000, 28, 28) to (10000, 784)\n"
          ],
          "name": "stdout"
        }
      ]
    },
    {
      "cell_type": "code",
      "metadata": {
        "colab": {
          "base_uri": "https://localhost:8080/"
        },
        "id": "6tDl4RApFFV2",
        "outputId": "90747bc7-79ae-4c04-f4b8-6fff2ca39137"
      },
      "source": [
        "# rescale the input data into the range [0,1]\n",
        "max_grey_value = 255.0\n",
        "\n",
        "print(\"MNIST\")\n",
        "print(\"Max value in initial dataset (train/test):\", np.max(x_mnist_train), np.max(x_mnist_test))\n",
        "print(\"Min value in initial dataset (train/test):\", np.min(x_mnist_train), np.min(x_mnist_test))\n",
        "x_mnist_train = x_mnist_train / max_grey_value  \n",
        "x_mnist_test = x_mnist_test / max_grey_value \n",
        "print(\"Max value in rescaled dataset (train/test):\", np.max(x_mnist_train), np.max(x_mnist_test))\n",
        "print(\"Min value in rescaled dataset (train/test):\", np.min(x_mnist_train), np.min(x_mnist_test))"
      ],
      "execution_count": 11,
      "outputs": [
        {
          "output_type": "stream",
          "text": [
            "MNIST\n",
            "Max value in initial dataset (train/test): 255 255\n",
            "Min value in initial dataset (train/test): 0 0\n",
            "Max value in rescaled dataset (train/test): 1.0 1.0\n",
            "Min value in rescaled dataset (train/test): 0.0 0.0\n"
          ],
          "name": "stdout"
        }
      ]
    },
    {
      "cell_type": "code",
      "metadata": {
        "colab": {
          "base_uri": "https://localhost:8080/"
        },
        "id": "3xRmWrSuLyy5",
        "outputId": "d1a787b7-2339-4679-cc4f-0c540951f670"
      },
      "source": [
        "print(\"Fashion-MNIST\")\n",
        "print(\"Max value in initial dataset (train/test):\", np.max(x_train), np.max(x_test))\n",
        "print(\"Min value in initial dataset (train/test):\", np.min(x_train), np.min(x_test))\n",
        "x_train = x_train / max_grey_value  \n",
        "x_test = x_test / max_grey_value \n",
        "print(\"Max value in rescaled dataset (train/test):\", np.max(x_train), np.max(x_test))\n",
        "print(\"Min value in rescaled dataset (train/test):\", np.min(x_train), np.min(x_test))"
      ],
      "execution_count": 12,
      "outputs": [
        {
          "output_type": "stream",
          "text": [
            "Fashion-MNIST\n",
            "Max value in initial dataset (train/test): 255 255\n",
            "Min value in initial dataset (train/test): 0 0\n",
            "Max value in rescaled dataset (train/test): 1.0 1.0\n",
            "Min value in rescaled dataset (train/test): 0.0 0.0\n"
          ],
          "name": "stdout"
        }
      ]
    },
    {
      "cell_type": "markdown",
      "metadata": {
        "id": "7nWca9BqUmF3"
      },
      "source": [
        "## Exercise 2: No hidden layer (10 points)\n",
        "\n",
        "Define and fit a model without a hidden layer (since we will use multi-layer models later in this project, you can define a general constructor function for models with an arbitrary number of hidden layers already at this point). Note that in this miniproject there is no real test dataset and what is loaded as a test dataset is used for validation. First, implement 1.-3. for the MNIST dataset.  \n",
        "\n",
        "1. Implement the model with the following specifications: use the softmax activation for the output layer, use the categorical_crossentropy loss, choose stochastic gradient descent for the optimizer, and add the accuracy metric to the metrics. (5 pts)\n",
        "2. Train for as many epochs as needed to see no further decrease in the validation loss. (1 pt)\n",
        "3. Plot the learning curves resulting from the fitting procedure (a history object) using the function `plot_history` defined above. (1 pt)\n",
        "4. Repeat the above steps for fitting the network to the Fashion-MNIST dataset. (2 pts)\n",
        "5. Report the best validation accuracy achieved for each one of the datasets. Do you observe overfitting already for this simple model? Answer separetely for the MNIST dataset and Fashion-MNIST dataset. (1 pt) \n",
        "\n",
        "*Hint:* Read the keras docs, in particular [Getting started with the Keras Sequential model](https://keras.io/getting-started/sequential-model-guide/)."
      ]
    },
    {
      "cell_type": "markdown",
      "metadata": {
        "id": "o0om4_uXUmF5"
      },
      "source": [
        "**Answer to Question 5** (max 2 sentences): "
      ]
    },
    {
      "cell_type": "markdown",
      "metadata": {
        "id": "CgSYz8gAUmF5"
      },
      "source": [
        "### Solution"
      ]
    },
    {
      "cell_type": "markdown",
      "metadata": {
        "id": "E7vGd8ZORprP"
      },
      "source": [
        "2.1) Implement the model."
      ]
    },
    {
      "cell_type": "code",
      "metadata": {
        "id": "mDk_lRLPUmF5",
        "colab": {
          "base_uri": "https://localhost:8080/"
        },
        "outputId": "968a18fa-6367-4b15-b583-abe41d3d23e4"
      },
      "source": [
        "# Get number of columns in training data\n",
        "input_dim_mnist = x_mnist_train.shape[1]\n",
        "\n",
        "# Get number of classes\n",
        "mnist_classes_nb = y_mnist_train_one_hot.shape[1]\n",
        "\n",
        "# Use Keras sequential model\n",
        "model = Sequential()\n",
        "model.add(Dense(mnist_classes_nb, activation='relu', input_shape=(input_dim_mnist,)))\n",
        "model.add(Dense(mnist_classes_nb, activation='softmax'))\n",
        "model.compile(optimizer='SGD', loss='categorical_crossentropy', metrics=[\"accuracy\"])\n",
        "model.summary()"
      ],
      "execution_count": 25,
      "outputs": [
        {
          "output_type": "stream",
          "text": [
            "Model: \"sequential_4\"\n",
            "_________________________________________________________________\n",
            "Layer (type)                 Output Shape              Param #   \n",
            "=================================================================\n",
            "dense_5 (Dense)              (None, 10)                7850      \n",
            "_________________________________________________________________\n",
            "dense_6 (Dense)              (None, 10)                110       \n",
            "=================================================================\n",
            "Total params: 7,960\n",
            "Trainable params: 7,960\n",
            "Non-trainable params: 0\n",
            "_________________________________________________________________\n"
          ],
          "name": "stdout"
        }
      ]
    },
    {
      "cell_type": "markdown",
      "metadata": {
        "id": "fDsqMm-ETZqT"
      },
      "source": [
        "2.2) Train."
      ]
    },
    {
      "cell_type": "code",
      "metadata": {
        "colab": {
          "base_uri": "https://localhost:8080/"
        },
        "id": "enKDEfdkTQ68",
        "outputId": "3466e400-5934-4a58-bd9c-e0c8382f0d38"
      },
      "source": [
        "from keras.callbacks import EarlyStopping\n",
        "from keras.callbacks import History\n",
        "\n",
        "epochs = 100\n",
        "stop_callback = EarlyStopping(monitor='val_loss', mode='min', verbose=1, patience=20)\n",
        "callbacks = [stop_callback]\n",
        "\n",
        "history = model.fit(x_mnist_train, y_mnist_train_one_hot, validation_data=(x_mnist_test, y_mnist_test_one_hot), epochs=epochs, callbacks=callbacks)"
      ],
      "execution_count": 15,
      "outputs": [
        {
          "output_type": "stream",
          "text": [
            "Epoch 1/100\n",
            "1875/1875 [==============================] - 3s 1ms/step - loss: 0.1902 - accuracy: 0.9458 - val_loss: 0.2197 - val_accuracy: 0.9359\n",
            "Epoch 2/100\n",
            "1875/1875 [==============================] - 3s 1ms/step - loss: 0.1895 - accuracy: 0.9451 - val_loss: 0.2197 - val_accuracy: 0.9372\n",
            "Epoch 3/100\n",
            "1875/1875 [==============================] - 3s 1ms/step - loss: 0.1888 - accuracy: 0.9458 - val_loss: 0.2181 - val_accuracy: 0.9375\n",
            "Epoch 4/100\n",
            "1875/1875 [==============================] - 3s 1ms/step - loss: 0.1883 - accuracy: 0.9456 - val_loss: 0.2174 - val_accuracy: 0.9369\n",
            "Epoch 5/100\n",
            "1875/1875 [==============================] - 3s 1ms/step - loss: 0.1879 - accuracy: 0.9456 - val_loss: 0.2177 - val_accuracy: 0.9381\n",
            "Epoch 6/100\n",
            "1875/1875 [==============================] - 2s 1ms/step - loss: 0.1871 - accuracy: 0.9460 - val_loss: 0.2165 - val_accuracy: 0.9381\n",
            "Epoch 7/100\n",
            "1875/1875 [==============================] - 3s 1ms/step - loss: 0.1866 - accuracy: 0.9466 - val_loss: 0.2186 - val_accuracy: 0.9368\n",
            "Epoch 8/100\n",
            "1875/1875 [==============================] - 2s 1ms/step - loss: 0.1860 - accuracy: 0.9465 - val_loss: 0.2218 - val_accuracy: 0.9379\n",
            "Epoch 9/100\n",
            "1875/1875 [==============================] - 3s 1ms/step - loss: 0.1859 - accuracy: 0.9472 - val_loss: 0.2193 - val_accuracy: 0.9374\n",
            "Epoch 10/100\n",
            "1875/1875 [==============================] - 2s 1ms/step - loss: 0.1851 - accuracy: 0.9470 - val_loss: 0.2194 - val_accuracy: 0.9383\n",
            "Epoch 11/100\n",
            "1875/1875 [==============================] - 2s 1ms/step - loss: 0.1847 - accuracy: 0.9466 - val_loss: 0.2180 - val_accuracy: 0.9372\n",
            "Epoch 12/100\n",
            "1875/1875 [==============================] - 3s 1ms/step - loss: 0.1843 - accuracy: 0.9472 - val_loss: 0.2179 - val_accuracy: 0.9373\n",
            "Epoch 13/100\n",
            "1875/1875 [==============================] - 2s 1ms/step - loss: 0.1838 - accuracy: 0.9470 - val_loss: 0.2176 - val_accuracy: 0.9373\n",
            "Epoch 14/100\n",
            "1875/1875 [==============================] - 3s 1ms/step - loss: 0.1832 - accuracy: 0.9476 - val_loss: 0.2163 - val_accuracy: 0.9375\n",
            "Epoch 15/100\n",
            "1875/1875 [==============================] - 2s 1ms/step - loss: 0.1825 - accuracy: 0.9474 - val_loss: 0.2172 - val_accuracy: 0.9374\n",
            "Epoch 16/100\n",
            "1875/1875 [==============================] - 2s 1ms/step - loss: 0.1821 - accuracy: 0.9473 - val_loss: 0.2192 - val_accuracy: 0.9367\n",
            "Epoch 17/100\n",
            "1875/1875 [==============================] - 3s 1ms/step - loss: 0.1820 - accuracy: 0.9476 - val_loss: 0.2162 - val_accuracy: 0.9372\n",
            "Epoch 18/100\n",
            "1875/1875 [==============================] - 3s 1ms/step - loss: 0.1812 - accuracy: 0.9484 - val_loss: 0.2173 - val_accuracy: 0.9378\n",
            "Epoch 19/100\n",
            "1875/1875 [==============================] - 3s 1ms/step - loss: 0.1811 - accuracy: 0.9487 - val_loss: 0.2161 - val_accuracy: 0.9370\n",
            "Epoch 20/100\n",
            "1875/1875 [==============================] - 2s 1ms/step - loss: 0.1806 - accuracy: 0.9483 - val_loss: 0.2136 - val_accuracy: 0.9380\n",
            "Epoch 21/100\n",
            "1875/1875 [==============================] - 2s 1ms/step - loss: 0.1801 - accuracy: 0.9482 - val_loss: 0.2164 - val_accuracy: 0.9386\n",
            "Epoch 22/100\n",
            "1875/1875 [==============================] - 2s 1ms/step - loss: 0.1796 - accuracy: 0.9487 - val_loss: 0.2152 - val_accuracy: 0.9391\n",
            "Epoch 23/100\n",
            "1875/1875 [==============================] - 3s 1ms/step - loss: 0.1792 - accuracy: 0.9482 - val_loss: 0.2161 - val_accuracy: 0.9376\n",
            "Epoch 24/100\n",
            "1875/1875 [==============================] - 3s 1ms/step - loss: 0.1788 - accuracy: 0.9486 - val_loss: 0.2146 - val_accuracy: 0.9395\n",
            "Epoch 25/100\n",
            "1875/1875 [==============================] - 3s 1ms/step - loss: 0.1784 - accuracy: 0.9484 - val_loss: 0.2191 - val_accuracy: 0.9382\n",
            "Epoch 26/100\n",
            "1875/1875 [==============================] - 2s 1ms/step - loss: 0.1782 - accuracy: 0.9487 - val_loss: 0.2182 - val_accuracy: 0.9370\n",
            "Epoch 27/100\n",
            "1875/1875 [==============================] - 3s 1ms/step - loss: 0.1776 - accuracy: 0.9489 - val_loss: 0.2182 - val_accuracy: 0.9382\n",
            "Epoch 28/100\n",
            "1875/1875 [==============================] - 3s 1ms/step - loss: 0.1773 - accuracy: 0.9494 - val_loss: 0.2180 - val_accuracy: 0.9385\n",
            "Epoch 29/100\n",
            "1875/1875 [==============================] - 3s 1ms/step - loss: 0.1765 - accuracy: 0.9490 - val_loss: 0.2163 - val_accuracy: 0.9370\n",
            "Epoch 30/100\n",
            "1875/1875 [==============================] - 2s 1ms/step - loss: 0.1766 - accuracy: 0.9493 - val_loss: 0.2156 - val_accuracy: 0.9371\n",
            "Epoch 31/100\n",
            "1875/1875 [==============================] - 3s 1ms/step - loss: 0.1762 - accuracy: 0.9495 - val_loss: 0.2137 - val_accuracy: 0.9377\n",
            "Epoch 32/100\n",
            "1875/1875 [==============================] - 2s 1ms/step - loss: 0.1756 - accuracy: 0.9499 - val_loss: 0.2141 - val_accuracy: 0.9393\n",
            "Epoch 33/100\n",
            "1875/1875 [==============================] - 3s 1ms/step - loss: 0.1755 - accuracy: 0.9498 - val_loss: 0.2154 - val_accuracy: 0.9391\n",
            "Epoch 34/100\n",
            "1875/1875 [==============================] - 3s 1ms/step - loss: 0.1752 - accuracy: 0.9495 - val_loss: 0.2144 - val_accuracy: 0.9391\n",
            "Epoch 35/100\n",
            "1875/1875 [==============================] - 3s 1ms/step - loss: 0.1749 - accuracy: 0.9493 - val_loss: 0.2129 - val_accuracy: 0.9390\n",
            "Epoch 36/100\n",
            "1875/1875 [==============================] - 3s 1ms/step - loss: 0.1743 - accuracy: 0.9501 - val_loss: 0.2191 - val_accuracy: 0.9379\n",
            "Epoch 37/100\n",
            "1875/1875 [==============================] - 3s 1ms/step - loss: 0.1743 - accuracy: 0.9495 - val_loss: 0.2216 - val_accuracy: 0.9392\n",
            "Epoch 38/100\n",
            "1875/1875 [==============================] - 3s 1ms/step - loss: 0.1735 - accuracy: 0.9497 - val_loss: 0.2175 - val_accuracy: 0.9394\n",
            "Epoch 39/100\n",
            "1875/1875 [==============================] - 3s 1ms/step - loss: 0.1734 - accuracy: 0.9503 - val_loss: 0.2138 - val_accuracy: 0.9386\n",
            "Epoch 40/100\n",
            "1875/1875 [==============================] - 3s 1ms/step - loss: 0.1730 - accuracy: 0.9501 - val_loss: 0.2148 - val_accuracy: 0.9397\n",
            "Epoch 41/100\n",
            "1875/1875 [==============================] - 3s 1ms/step - loss: 0.1728 - accuracy: 0.9507 - val_loss: 0.2143 - val_accuracy: 0.9398\n",
            "Epoch 42/100\n",
            "1875/1875 [==============================] - 3s 1ms/step - loss: 0.1726 - accuracy: 0.9499 - val_loss: 0.2145 - val_accuracy: 0.9390\n",
            "Epoch 43/100\n",
            "1875/1875 [==============================] - 3s 1ms/step - loss: 0.1720 - accuracy: 0.9504 - val_loss: 0.2173 - val_accuracy: 0.9389\n",
            "Epoch 44/100\n",
            "1875/1875 [==============================] - 3s 1ms/step - loss: 0.1715 - accuracy: 0.9501 - val_loss: 0.2159 - val_accuracy: 0.9376\n",
            "Epoch 45/100\n",
            "1875/1875 [==============================] - 3s 1ms/step - loss: 0.1715 - accuracy: 0.9506 - val_loss: 0.2205 - val_accuracy: 0.9382\n",
            "Epoch 46/100\n",
            "1875/1875 [==============================] - 3s 1ms/step - loss: 0.1711 - accuracy: 0.9505 - val_loss: 0.2147 - val_accuracy: 0.9400\n",
            "Epoch 47/100\n",
            "1875/1875 [==============================] - 3s 1ms/step - loss: 0.1710 - accuracy: 0.9510 - val_loss: 0.2165 - val_accuracy: 0.9399\n",
            "Epoch 48/100\n",
            "1875/1875 [==============================] - 3s 1ms/step - loss: 0.1706 - accuracy: 0.9507 - val_loss: 0.2188 - val_accuracy: 0.9385\n",
            "Epoch 49/100\n",
            "1875/1875 [==============================] - 3s 1ms/step - loss: 0.1701 - accuracy: 0.9514 - val_loss: 0.2155 - val_accuracy: 0.9382\n",
            "Epoch 50/100\n",
            "1875/1875 [==============================] - 3s 1ms/step - loss: 0.1702 - accuracy: 0.9509 - val_loss: 0.2160 - val_accuracy: 0.9373\n",
            "Epoch 51/100\n",
            "1875/1875 [==============================] - 3s 1ms/step - loss: 0.1696 - accuracy: 0.9507 - val_loss: 0.2184 - val_accuracy: 0.9382\n",
            "Epoch 52/100\n",
            "1875/1875 [==============================] - 3s 1ms/step - loss: 0.1694 - accuracy: 0.9509 - val_loss: 0.2142 - val_accuracy: 0.9389\n",
            "Epoch 53/100\n",
            "1875/1875 [==============================] - 3s 1ms/step - loss: 0.1690 - accuracy: 0.9515 - val_loss: 0.2133 - val_accuracy: 0.9391\n",
            "Epoch 54/100\n",
            "1875/1875 [==============================] - 3s 1ms/step - loss: 0.1688 - accuracy: 0.9511 - val_loss: 0.2172 - val_accuracy: 0.9385\n",
            "Epoch 55/100\n",
            "1875/1875 [==============================] - 3s 1ms/step - loss: 0.1686 - accuracy: 0.9514 - val_loss: 0.2139 - val_accuracy: 0.9397\n",
            "Epoch 00055: early stopping\n"
          ],
          "name": "stdout"
        }
      ]
    },
    {
      "cell_type": "markdown",
      "metadata": {
        "id": "B6jIRPNeLR9X"
      },
      "source": [
        "2.3) Plot."
      ]
    },
    {
      "cell_type": "code",
      "metadata": {
        "colab": {
          "base_uri": "https://localhost:8080/",
          "height": 302
        },
        "id": "VVP8kpKlJgmi",
        "outputId": "6d7d3ae1-e7a8-420b-e2c7-7fe90696080a"
      },
      "source": [
        "plot_history(history, \"MNIST learning with no Hidden Layer \");"
      ],
      "execution_count": 16,
      "outputs": [
        {
          "output_type": "display_data",
          "data": {
            "image/png": "[encoded data removed]",
            "text/plain": [
              "<Figure size 432x288 with 2 Axes>"
            ]
          },
          "metadata": {
            "tags": [],
            "needs_background": "light"
          }
        }
      ]
    },
    {
      "cell_type": "markdown",
      "metadata": {
        "id": "jANnS4HqMROF"
      },
      "source": [
        "2.4) Repeat with the Fashion-MNIST dataset."
      ]
    },
    {
      "cell_type": "markdown",
      "metadata": {
        "id": "r-462WwtuG84"
      },
      "source": [
        ""
      ]
    },
    {
      "cell_type": "code",
      "metadata": {
        "colab": {
          "base_uri": "https://localhost:8080/"
        },
        "id": "0JDkahYwaYBg",
        "outputId": "ddae95fa-a632-4c2d-9b3d-7c0b175aed9e"
      },
      "source": [
        "y_train_one_hot[1]"
      ],
      "execution_count": 24,
      "outputs": [
        {
          "output_type": "execute_result",
          "data": {
            "text/plain": [
              "array([1., 0., 0., 0., 0., 0., 0., 0., 0., 0.], dtype=float32)"
            ]
          },
          "metadata": {
            "tags": []
          },
          "execution_count": 24
        }
      ]
    },
    {
      "cell_type": "code",
      "metadata": {
        "colab": {
          "base_uri": "https://localhost:8080/"
        },
        "id": "zeS99WhhMW_-",
        "outputId": "d3284a2b-46e7-47a8-ef7d-7c534cecb3e5"
      },
      "source": [
        "# Get number of columns in training data\n",
        "input_dim_fashion = x_train.shape[1]\n",
        "\n",
        "# Get number of classes\n",
        "fashion_classes_nb = y_train_one_hot.shape[1]\n",
        "\n",
        "# Use Keras sequential model\n",
        "model = Sequential()\n",
        "model.add(Dense(fashion_classes_nb, activation='relu', input_shape=(input_dim_fashion,)))\n",
        "model.add(Dense(fashion_classes_nb, activation='softmax'))\n",
        "model.compile(optimizer='SGD', loss='categorical_crossentropy', metrics=[\"accuracy\"])\n",
        "model.summary()\n",
        "\n",
        "history = model.fit(x_train, y_train_one_hot, validation_data=(x_test, y_test_one_hot), epochs=epochs, callbacks=callbacks)"
      ],
      "execution_count": 26,
      "outputs": [
        {
          "output_type": "stream",
          "text": [
            "Model: \"sequential_5\"\n",
            "_________________________________________________________________\n",
            "Layer (type)                 Output Shape              Param #   \n",
            "=================================================================\n",
            "dense_7 (Dense)              (None, 10)                7850      \n",
            "_________________________________________________________________\n",
            "dense_8 (Dense)              (None, 10)                110       \n",
            "=================================================================\n",
            "Total params: 7,960\n",
            "Trainable params: 7,960\n",
            "Non-trainable params: 0\n",
            "_________________________________________________________________\n",
            "Epoch 1/100\n",
            "1875/1875 [==============================] - 3s 1ms/step - loss: 1.3130 - accuracy: 0.5494 - val_loss: 0.6431 - val_accuracy: 0.7712\n",
            "Epoch 2/100\n",
            "1875/1875 [==============================] - 2s 1ms/step - loss: 0.6025 - accuracy: 0.7900 - val_loss: 0.5575 - val_accuracy: 0.7995\n",
            "Epoch 3/100\n",
            "1875/1875 [==============================] - 2s 1ms/step - loss: 0.5185 - accuracy: 0.8199 - val_loss: 0.5296 - val_accuracy: 0.8151\n",
            "Epoch 4/100\n",
            "1875/1875 [==============================] - 2s 1ms/step - loss: 0.4811 - accuracy: 0.8332 - val_loss: 0.4987 - val_accuracy: 0.8261\n",
            "Epoch 5/100\n",
            "1875/1875 [==============================] - 2s 1ms/step - loss: 0.4658 - accuracy: 0.8368 - val_loss: 0.4793 - val_accuracy: 0.8302\n",
            "Epoch 6/100\n",
            "1875/1875 [==============================] - 3s 1ms/step - loss: 0.4466 - accuracy: 0.8438 - val_loss: 0.4796 - val_accuracy: 0.8304\n",
            "Epoch 7/100\n",
            "1875/1875 [==============================] - 2s 1ms/step - loss: 0.4365 - accuracy: 0.8491 - val_loss: 0.4752 - val_accuracy: 0.8313\n",
            "Epoch 8/100\n",
            "1875/1875 [==============================] - 2s 1ms/step - loss: 0.4367 - accuracy: 0.8466 - val_loss: 0.4641 - val_accuracy: 0.8337\n",
            "Epoch 9/100\n",
            "1875/1875 [==============================] - 2s 1ms/step - loss: 0.4251 - accuracy: 0.8528 - val_loss: 0.4584 - val_accuracy: 0.8374\n",
            "Epoch 10/100\n",
            "1875/1875 [==============================] - 2s 1ms/step - loss: 0.4215 - accuracy: 0.8524 - val_loss: 0.4595 - val_accuracy: 0.8342\n",
            "Epoch 11/100\n",
            "1875/1875 [==============================] - 2s 1ms/step - loss: 0.4176 - accuracy: 0.8539 - val_loss: 0.4752 - val_accuracy: 0.8297\n",
            "Epoch 12/100\n",
            "1875/1875 [==============================] - 2s 1ms/step - loss: 0.4135 - accuracy: 0.8583 - val_loss: 0.4438 - val_accuracy: 0.8443\n",
            "Epoch 13/100\n",
            "1875/1875 [==============================] - 2s 1ms/step - loss: 0.4098 - accuracy: 0.8585 - val_loss: 0.4458 - val_accuracy: 0.8433\n",
            "Epoch 14/100\n",
            "1875/1875 [==============================] - 3s 1ms/step - loss: 0.4102 - accuracy: 0.8575 - val_loss: 0.4511 - val_accuracy: 0.8375\n",
            "Epoch 15/100\n",
            "1875/1875 [==============================] - 2s 1ms/step - loss: 0.4021 - accuracy: 0.8580 - val_loss: 0.4410 - val_accuracy: 0.8430\n",
            "Epoch 16/100\n",
            "1875/1875 [==============================] - 2s 1ms/step - loss: 0.3983 - accuracy: 0.8610 - val_loss: 0.4371 - val_accuracy: 0.8471\n",
            "Epoch 17/100\n",
            "1875/1875 [==============================] - 3s 1ms/step - loss: 0.3928 - accuracy: 0.8635 - val_loss: 0.4349 - val_accuracy: 0.8461\n",
            "Epoch 18/100\n",
            "1875/1875 [==============================] - 2s 1ms/step - loss: 0.3920 - accuracy: 0.8626 - val_loss: 0.4348 - val_accuracy: 0.8458\n",
            "Epoch 19/100\n",
            "1875/1875 [==============================] - 2s 1ms/step - loss: 0.3866 - accuracy: 0.8645 - val_loss: 0.4370 - val_accuracy: 0.8448\n",
            "Epoch 20/100\n",
            "1875/1875 [==============================] - 2s 1ms/step - loss: 0.3900 - accuracy: 0.8641 - val_loss: 0.4406 - val_accuracy: 0.8452\n",
            "Epoch 21/100\n",
            "1875/1875 [==============================] - 2s 1ms/step - loss: 0.3878 - accuracy: 0.8639 - val_loss: 0.4396 - val_accuracy: 0.8425\n",
            "Epoch 22/100\n",
            "1875/1875 [==============================] - 2s 1ms/step - loss: 0.3836 - accuracy: 0.8650 - val_loss: 0.4342 - val_accuracy: 0.8462\n",
            "Epoch 23/100\n",
            "1875/1875 [==============================] - 2s 1ms/step - loss: 0.3823 - accuracy: 0.8661 - val_loss: 0.4303 - val_accuracy: 0.8490\n",
            "Epoch 24/100\n",
            "1875/1875 [==============================] - 2s 1ms/step - loss: 0.3877 - accuracy: 0.8645 - val_loss: 0.4285 - val_accuracy: 0.8494\n",
            "Epoch 25/100\n",
            "1875/1875 [==============================] - 2s 1ms/step - loss: 0.3796 - accuracy: 0.8671 - val_loss: 0.4241 - val_accuracy: 0.8491\n",
            "Epoch 26/100\n",
            "1875/1875 [==============================] - 2s 1ms/step - loss: 0.3804 - accuracy: 0.8689 - val_loss: 0.4248 - val_accuracy: 0.8515\n",
            "Epoch 27/100\n",
            "1875/1875 [==============================] - 2s 1ms/step - loss: 0.3756 - accuracy: 0.8680 - val_loss: 0.4256 - val_accuracy: 0.8480\n",
            "Epoch 28/100\n",
            "1875/1875 [==============================] - 2s 1ms/step - loss: 0.3764 - accuracy: 0.8683 - val_loss: 0.4294 - val_accuracy: 0.8503\n",
            "Epoch 29/100\n",
            "1875/1875 [==============================] - 2s 1ms/step - loss: 0.3742 - accuracy: 0.8689 - val_loss: 0.4221 - val_accuracy: 0.8521\n",
            "Epoch 30/100\n",
            "1875/1875 [==============================] - 3s 1ms/step - loss: 0.3771 - accuracy: 0.8688 - val_loss: 0.4229 - val_accuracy: 0.8495\n",
            "Epoch 31/100\n",
            "1875/1875 [==============================] - 2s 1ms/step - loss: 0.3694 - accuracy: 0.8717 - val_loss: 0.4234 - val_accuracy: 0.8506\n",
            "Epoch 32/100\n",
            "1875/1875 [==============================] - 2s 1ms/step - loss: 0.3748 - accuracy: 0.8706 - val_loss: 0.4222 - val_accuracy: 0.8522\n",
            "Epoch 33/100\n",
            "1875/1875 [==============================] - 2s 1ms/step - loss: 0.3689 - accuracy: 0.8719 - val_loss: 0.4276 - val_accuracy: 0.8470\n",
            "Epoch 34/100\n",
            "1875/1875 [==============================] - 3s 1ms/step - loss: 0.3615 - accuracy: 0.8746 - val_loss: 0.4248 - val_accuracy: 0.8507\n",
            "Epoch 35/100\n",
            "1875/1875 [==============================] - 2s 1ms/step - loss: 0.3643 - accuracy: 0.8716 - val_loss: 0.4204 - val_accuracy: 0.8529\n",
            "Epoch 36/100\n",
            "1875/1875 [==============================] - 2s 1ms/step - loss: 0.3619 - accuracy: 0.8707 - val_loss: 0.4123 - val_accuracy: 0.8540\n",
            "Epoch 37/100\n",
            "1875/1875 [==============================] - 2s 1ms/step - loss: 0.3655 - accuracy: 0.8741 - val_loss: 0.4167 - val_accuracy: 0.8537\n",
            "Epoch 38/100\n",
            "1875/1875 [==============================] - 2s 1ms/step - loss: 0.3610 - accuracy: 0.8719 - val_loss: 0.4288 - val_accuracy: 0.8494\n",
            "Epoch 39/100\n",
            "1875/1875 [==============================] - 3s 1ms/step - loss: 0.3589 - accuracy: 0.8744 - val_loss: 0.4265 - val_accuracy: 0.8468\n",
            "Epoch 40/100\n",
            "1875/1875 [==============================] - 2s 1ms/step - loss: 0.3621 - accuracy: 0.8729 - val_loss: 0.4142 - val_accuracy: 0.8522\n",
            "Epoch 41/100\n",
            "1875/1875 [==============================] - 3s 1ms/step - loss: 0.3612 - accuracy: 0.8739 - val_loss: 0.4200 - val_accuracy: 0.8531\n",
            "Epoch 42/100\n",
            "1875/1875 [==============================] - 3s 1ms/step - loss: 0.3603 - accuracy: 0.8743 - val_loss: 0.4269 - val_accuracy: 0.8505\n",
            "Epoch 43/100\n",
            "1875/1875 [==============================] - 3s 1ms/step - loss: 0.3573 - accuracy: 0.8737 - val_loss: 0.4211 - val_accuracy: 0.8524\n",
            "Epoch 44/100\n",
            "1875/1875 [==============================] - 2s 1ms/step - loss: 0.3596 - accuracy: 0.8732 - val_loss: 0.4246 - val_accuracy: 0.8504\n",
            "Epoch 45/100\n",
            "1875/1875 [==============================] - 3s 1ms/step - loss: 0.3582 - accuracy: 0.8749 - val_loss: 0.4175 - val_accuracy: 0.8531\n",
            "Epoch 46/100\n",
            "1875/1875 [==============================] - 2s 1ms/step - loss: 0.3561 - accuracy: 0.8757 - val_loss: 0.4234 - val_accuracy: 0.8523\n",
            "Epoch 47/100\n",
            "1875/1875 [==============================] - 2s 1ms/step - loss: 0.3556 - accuracy: 0.8745 - val_loss: 0.4158 - val_accuracy: 0.8540\n",
            "Epoch 48/100\n",
            "1875/1875 [==============================] - 2s 1ms/step - loss: 0.3514 - accuracy: 0.8749 - val_loss: 0.4239 - val_accuracy: 0.8520\n",
            "Epoch 49/100\n",
            "1875/1875 [==============================] - 2s 1ms/step - loss: 0.3546 - accuracy: 0.8776 - val_loss: 0.4280 - val_accuracy: 0.8474\n",
            "Epoch 50/100\n",
            "1875/1875 [==============================] - 3s 1ms/step - loss: 0.3554 - accuracy: 0.8755 - val_loss: 0.4179 - val_accuracy: 0.8489\n",
            "Epoch 51/100\n",
            "1875/1875 [==============================] - 3s 1ms/step - loss: 0.3547 - accuracy: 0.8763 - val_loss: 0.4119 - val_accuracy: 0.8544\n",
            "Epoch 52/100\n",
            "1875/1875 [==============================] - 2s 1ms/step - loss: 0.3512 - accuracy: 0.8754 - val_loss: 0.4240 - val_accuracy: 0.8502\n",
            "Epoch 53/100\n",
            "1875/1875 [==============================] - 2s 1ms/step - loss: 0.3509 - accuracy: 0.8767 - val_loss: 0.4174 - val_accuracy: 0.8510\n",
            "Epoch 54/100\n",
            "1875/1875 [==============================] - 3s 1ms/step - loss: 0.3570 - accuracy: 0.8758 - val_loss: 0.4130 - val_accuracy: 0.8550\n",
            "Epoch 55/100\n",
            "1875/1875 [==============================] - 3s 1ms/step - loss: 0.3511 - accuracy: 0.8761 - val_loss: 0.4120 - val_accuracy: 0.8544\n",
            "Epoch 56/100\n",
            "1875/1875 [==============================] - 2s 1ms/step - loss: 0.3549 - accuracy: 0.8754 - val_loss: 0.4121 - val_accuracy: 0.8523\n",
            "Epoch 57/100\n",
            "1875/1875 [==============================] - 2s 1ms/step - loss: 0.3467 - accuracy: 0.8776 - val_loss: 0.4107 - val_accuracy: 0.8554\n",
            "Epoch 58/100\n",
            "1875/1875 [==============================] - 3s 1ms/step - loss: 0.3456 - accuracy: 0.8782 - val_loss: 0.4329 - val_accuracy: 0.8504\n",
            "Epoch 59/100\n",
            "1875/1875 [==============================] - 3s 1ms/step - loss: 0.3482 - accuracy: 0.8770 - val_loss: 0.4102 - val_accuracy: 0.8542\n",
            "Epoch 60/100\n",
            "1875/1875 [==============================] - 2s 1ms/step - loss: 0.3471 - accuracy: 0.8769 - val_loss: 0.4096 - val_accuracy: 0.8550\n",
            "Epoch 61/100\n",
            "1875/1875 [==============================] - 3s 1ms/step - loss: 0.3523 - accuracy: 0.8770 - val_loss: 0.4166 - val_accuracy: 0.8529\n",
            "Epoch 62/100\n",
            "1875/1875 [==============================] - 3s 1ms/step - loss: 0.3456 - accuracy: 0.8778 - val_loss: 0.4181 - val_accuracy: 0.8535\n",
            "Epoch 63/100\n",
            "1875/1875 [==============================] - 3s 1ms/step - loss: 0.3449 - accuracy: 0.8775 - val_loss: 0.4148 - val_accuracy: 0.8529\n",
            "Epoch 64/100\n",
            "1875/1875 [==============================] - 3s 1ms/step - loss: 0.3449 - accuracy: 0.8795 - val_loss: 0.4116 - val_accuracy: 0.8535\n",
            "Epoch 65/100\n",
            "1875/1875 [==============================] - 3s 1ms/step - loss: 0.3416 - accuracy: 0.8809 - val_loss: 0.4096 - val_accuracy: 0.8545\n",
            "Epoch 66/100\n",
            "1875/1875 [==============================] - 2s 1ms/step - loss: 0.3449 - accuracy: 0.8788 - val_loss: 0.4122 - val_accuracy: 0.8536\n",
            "Epoch 67/100\n",
            "1875/1875 [==============================] - 2s 1ms/step - loss: 0.3507 - accuracy: 0.8783 - val_loss: 0.4111 - val_accuracy: 0.8545\n",
            "Epoch 68/100\n",
            "1875/1875 [==============================] - 2s 1ms/step - loss: 0.3486 - accuracy: 0.8788 - val_loss: 0.4093 - val_accuracy: 0.8535\n",
            "Epoch 69/100\n",
            "1875/1875 [==============================] - 2s 1ms/step - loss: 0.3461 - accuracy: 0.8780 - val_loss: 0.4204 - val_accuracy: 0.8528\n",
            "Epoch 70/100\n",
            "1875/1875 [==============================] - 2s 1ms/step - loss: 0.3482 - accuracy: 0.8767 - val_loss: 0.4140 - val_accuracy: 0.8527\n",
            "Epoch 71/100\n",
            "1875/1875 [==============================] - 2s 1ms/step - loss: 0.3458 - accuracy: 0.8783 - val_loss: 0.4212 - val_accuracy: 0.8510\n",
            "Epoch 72/100\n",
            "1875/1875 [==============================] - 2s 1ms/step - loss: 0.3396 - accuracy: 0.8797 - val_loss: 0.4270 - val_accuracy: 0.8449\n",
            "Epoch 73/100\n",
            "1875/1875 [==============================] - 3s 1ms/step - loss: 0.3455 - accuracy: 0.8788 - val_loss: 0.4090 - val_accuracy: 0.8558\n",
            "Epoch 74/100\n",
            "1875/1875 [==============================] - 2s 1ms/step - loss: 0.3365 - accuracy: 0.8800 - val_loss: 0.4375 - val_accuracy: 0.8445\n",
            "Epoch 75/100\n",
            "1875/1875 [==============================] - 2s 1ms/step - loss: 0.3379 - accuracy: 0.8811 - val_loss: 0.4169 - val_accuracy: 0.8518\n",
            "Epoch 76/100\n",
            "1875/1875 [==============================] - 2s 1ms/step - loss: 0.3383 - accuracy: 0.8792 - val_loss: 0.4245 - val_accuracy: 0.8512\n",
            "Epoch 77/100\n",
            "1875/1875 [==============================] - 2s 1ms/step - loss: 0.3378 - accuracy: 0.8815 - val_loss: 0.4097 - val_accuracy: 0.8553\n",
            "Epoch 78/100\n",
            "1875/1875 [==============================] - 3s 1ms/step - loss: 0.3407 - accuracy: 0.8793 - val_loss: 0.4177 - val_accuracy: 0.8504\n",
            "Epoch 79/100\n",
            "1875/1875 [==============================] - 3s 1ms/step - loss: 0.3326 - accuracy: 0.8816 - val_loss: 0.4148 - val_accuracy: 0.8537\n",
            "Epoch 80/100\n",
            "1875/1875 [==============================] - 3s 1ms/step - loss: 0.3374 - accuracy: 0.8812 - val_loss: 0.4137 - val_accuracy: 0.8523\n",
            "Epoch 81/100\n",
            "1875/1875 [==============================] - 3s 1ms/step - loss: 0.3348 - accuracy: 0.8803 - val_loss: 0.4109 - val_accuracy: 0.8538\n",
            "Epoch 82/100\n",
            "1875/1875 [==============================] - 2s 1ms/step - loss: 0.3348 - accuracy: 0.8801 - val_loss: 0.4152 - val_accuracy: 0.8516\n",
            "Epoch 83/100\n",
            "1875/1875 [==============================] - 3s 1ms/step - loss: 0.3348 - accuracy: 0.8830 - val_loss: 0.4114 - val_accuracy: 0.8538\n",
            "Epoch 84/100\n",
            "1875/1875 [==============================] - 3s 1ms/step - loss: 0.3411 - accuracy: 0.8794 - val_loss: 0.4198 - val_accuracy: 0.8534\n",
            "Epoch 85/100\n",
            "1875/1875 [==============================] - 2s 1ms/step - loss: 0.3410 - accuracy: 0.8808 - val_loss: 0.4093 - val_accuracy: 0.8550\n",
            "Epoch 86/100\n",
            "1875/1875 [==============================] - 3s 1ms/step - loss: 0.3398 - accuracy: 0.8791 - val_loss: 0.4098 - val_accuracy: 0.8559\n",
            "Epoch 87/100\n",
            "1875/1875 [==============================] - 3s 1ms/step - loss: 0.3317 - accuracy: 0.8816 - val_loss: 0.4226 - val_accuracy: 0.8490\n",
            "Epoch 88/100\n",
            "1875/1875 [==============================] - 2s 1ms/step - loss: 0.3347 - accuracy: 0.8802 - val_loss: 0.4255 - val_accuracy: 0.8512\n",
            "Epoch 89/100\n",
            "1875/1875 [==============================] - 3s 1ms/step - loss: 0.3367 - accuracy: 0.8806 - val_loss: 0.4262 - val_accuracy: 0.8510\n",
            "Epoch 90/100\n",
            "1875/1875 [==============================] - 2s 1ms/step - loss: 0.3261 - accuracy: 0.8850 - val_loss: 0.4145 - val_accuracy: 0.8545\n",
            "Epoch 91/100\n",
            "1875/1875 [==============================] - 3s 1ms/step - loss: 0.3290 - accuracy: 0.8826 - val_loss: 0.4295 - val_accuracy: 0.8480\n",
            "Epoch 92/100\n",
            "1875/1875 [==============================] - 3s 1ms/step - loss: 0.3412 - accuracy: 0.8781 - val_loss: 0.4238 - val_accuracy: 0.8525\n",
            "Epoch 93/100\n",
            "1875/1875 [==============================] - 3s 1ms/step - loss: 0.3374 - accuracy: 0.8798 - val_loss: 0.4107 - val_accuracy: 0.8545\n",
            "Epoch 00093: early stopping\n"
          ],
          "name": "stdout"
        }
      ]
    },
    {
      "cell_type": "code",
      "metadata": {
        "colab": {
          "base_uri": "https://localhost:8080/",
          "height": 302
        },
        "id": "TYnfImWfNT9o",
        "outputId": "525e9697-ee49-4edd-e3e0-f84358cb02d5"
      },
      "source": [
        "plot_history(history, \"Fashion-MNIST learning with no Hidden Layer \");"
      ],
      "execution_count": 18,
      "outputs": [
        {
          "output_type": "display_data",
          "data": {
            "image/png": "[encoded data removed]",
            "text/plain": [
              "<Figure size 432x288 with 2 Axes>"
            ]
          },
          "metadata": {
            "tags": [],
            "needs_background": "light"
          }
        }
      ]
    },
    {
      "cell_type": "markdown",
      "metadata": {
        "id": "WvUjwawMNfS9"
      },
      "source": [
        "We see that the improvement of the validation accuracy levels out around 75 epochs."
      ]
    },
    {
      "cell_type": "markdown",
      "metadata": {
        "id": "1dX2CxT_lzNX"
      },
      "source": [
        "2.5) Overfitting?"
      ]
    },
    {
      "cell_type": "markdown",
      "metadata": {
        "id": "_DjnzuDyl5Sh"
      },
      "source": [
        "MNIST:\n",
        "\n",
        "We see that the improvement of the validation accuracy levels out around 20 epochs.\n",
        "\n",
        "If overfitting, we should see the test lost stopping to decrease (i.e. increasing). Furthermore, since there is a lot of training data for a models with only 7960 parameters it is unlikely that the model is overfitting."
      ]
    },
    {
      "cell_type": "markdown",
      "metadata": {
        "id": "w2-SW0u4t3rp"
      },
      "source": [
        "Fashion-MNIST:\n",
        "\n",
        "We see that the improvement of the validation accuracy levels out around 75 epochs.\n",
        "\n",
        "Same interpretation than MNIST regarding overfitting, even more Fashion-MNIST has been introduced as beeing \"harder\"."
      ]
    },
    {
      "cell_type": "markdown",
      "metadata": {
        "id": "93JrKMECUmF5"
      },
      "source": [
        "## Exercise 3: One hidden layer, different optimizers (10 points)\n",
        "\n",
        "Train a network with one hidden layer and compare different optimizers for the MNIST dataset.\n",
        "\n",
        "1. Use one hidden layer with 128 units and the 'relu' activation. Use the [summary method](https://keras.io/api/models/model/#summary-method) to display your model in a compact way. (1 pt)\n",
        "2. Train the model for at least 50 epochs with different learning rates of stochastic gradient descent (SGD). What happens if the learning rate $\\eta$ is very large (for ex. $\\eta=1$), and very small (for ex. $\\eta=0.001$)? Comment on the fluctuations of the learning curve. (2 pts)\n",
        "3. Replace the stochastic gradient descent optimizer with the [Adam optimizer](https://keras.io/optimizers/#adam) (you can use the default learning rate). (1pt)\n",
        "4. Plot the learning curves of SGD with a good learning rate (i.e. in the range [0.01,0.1]) together with the learning curves of Adam in the same figure. Take care of a reasonable labeling of the curves in the plot. (1 pts)\n",
        "5. Explain the qualitative difference between the loss and accuracy curves with respect to signs of overfitting. Report the best validation accuracy achieved for SGD and Adam. Which one is better and why do you think so? (2 pts)\n",
        "6. Determine the indices of all test images that are misclassified by the fitted model and plot some of them using the function \n",
        "   `plot_some_samples`. (1 pt)\n",
        "\n",
        "Real-world datasets are labeled by some people and sometimes there are mistakes in the labeling. We will corrupt labels of the MNIST dataset artifically, and observe an overfitting to this noisy dataset with Adam. \n",
        "\n",
        "7. Take $ p = 0.2 $ fraction of the data points from the training dataset of MNIST and change their class labels randomly. (You can sample a random integer from 0 to 9 using `np.random.uniform` and `np.floor`). Train with Adam for 50 or 100 epochs. Plot the learning curves. Do you observe overfitting in the validation accuracy? Does it take longer to converge to perfect training accuracy compare to noise-free MNIST? (2 pts)"
      ]
    },
    {
      "cell_type": "markdown",
      "metadata": {
        "id": "JqsjfxPdUmF5"
      },
      "source": [
        "**Answer to Question 2** (max 2 sentences): \n",
        "\n",
        "**Answer to Question 5** (max 3 sentences): \n",
        "\n",
        "**Answer to Question 7** (max 2 sentences): "
      ]
    },
    {
      "cell_type": "markdown",
      "metadata": {
        "id": "hqNAh2guUmF5"
      },
      "source": [
        "### Solution"
      ]
    },
    {
      "cell_type": "markdown",
      "metadata": {
        "id": "52WnT_AcObgs"
      },
      "source": [
        "3.1) Use a hidden layer."
      ]
    },
    {
      "cell_type": "code",
      "metadata": {
        "id": "Ww4gx6JSUmF6",
        "colab": {
          "base_uri": "https://localhost:8080/"
        },
        "outputId": "3ff288f4-9f46-4235-9331-eec783197609"
      },
      "source": [
        "model = Sequential()\n",
        "model.add(Dense(128, activation='relu', input_shape=(input_dim_mnist,)))\n",
        "#model.add(Dense(128, activation='relu', name=\"hidden_layer\")(inputs))\n",
        "model.add(Dense(mnist_classes_nb, activation='softmax'))\n",
        "model.compile(optimizer='SGD', loss='categorical_crossentropy', metrics=[\"accuracy\"])\n",
        "model.summary()"
      ],
      "execution_count": 27,
      "outputs": [
        {
          "output_type": "stream",
          "text": [
            "Model: \"sequential_6\"\n",
            "_________________________________________________________________\n",
            "Layer (type)                 Output Shape              Param #   \n",
            "=================================================================\n",
            "dense_9 (Dense)              (None, 128)               100480    \n",
            "_________________________________________________________________\n",
            "dense_10 (Dense)             (None, 10)                1290      \n",
            "=================================================================\n",
            "Total params: 101,770\n",
            "Trainable params: 101,770\n",
            "Non-trainable params: 0\n",
            "_________________________________________________________________\n"
          ],
          "name": "stdout"
        }
      ]
    },
    {
      "cell_type": "markdown",
      "metadata": {
        "id": "tqZiIDyzdnWz"
      },
      "source": [
        "3.2) Train with different learning rates."
      ]
    },
    {
      "cell_type": "code",
      "metadata": {
        "colab": {
          "base_uri": "https://localhost:8080/",
          "height": 1000
        },
        "id": "Zrvvd0gcd7jh",
        "outputId": "5ef04cff-a423-43eb-9620-bd2806190c6a"
      },
      "source": [
        "histories = []\n",
        "for lr in [10**(-e) for e in range(0,4)]:\n",
        "    print(\"Optimizing model with SGD (lr: {0})\".format(lr))\n",
        "\n",
        "    mc = ModelCheckpoint('exercise-03_sgd_lr-{0}.keras'.format(str(lr).replace('.',',')), monitor='val_loss', mode='min', save_best_only=True, verbose=1)\n",
        "    \n",
        "    model.compile(optimizer=SGD(lr=lr), loss='categorical_crossentropy', metrics=[\"accuracy\"])\n",
        "    history = model.fit(x_mnist_train, y_mnist_train_one_hot, validation_data=(x_mnist_test, y_mnist_test_one_hot), epochs=50, verbose=0, callbacks=[mc])\n",
        "    histories.append(history)\n",
        "    plot_history(history, \"Learning depending on learning rate with MNIST\".format(lr));\n",
        "    model.reset_states()"
      ],
      "execution_count": 30,
      "outputs": [
        {
          "output_type": "stream",
          "text": [
            "Optimizing model with SGD (lr: 1)\n",
            "\n",
            "Epoch 00001: val_loss improved from inf to 0.44704, saving model to exercise-03_sgd_lr-1.keras\n",
            "\n",
            "Epoch 00002: val_loss did not improve from 0.44704\n",
            "\n",
            "Epoch 00003: val_loss did not improve from 0.44704\n",
            "\n",
            "Epoch 00004: val_loss did not improve from 0.44704\n",
            "\n",
            "Epoch 00005: val_loss did not improve from 0.44704\n",
            "\n",
            "Epoch 00006: val_loss did not improve from 0.44704\n",
            "\n",
            "Epoch 00007: val_loss did not improve from 0.44704\n",
            "\n",
            "Epoch 00008: val_loss did not improve from 0.44704\n",
            "\n",
            "Epoch 00009: val_loss did not improve from 0.44704\n",
            "\n",
            "Epoch 00010: val_loss did not improve from 0.44704\n",
            "\n",
            "Epoch 00011: val_loss did not improve from 0.44704\n",
            "\n",
            "Epoch 00012: val_loss did not improve from 0.44704\n",
            "\n",
            "Epoch 00013: val_loss did not improve from 0.44704\n",
            "\n",
            "Epoch 00014: val_loss did not improve from 0.44704\n",
            "\n",
            "Epoch 00015: val_loss did not improve from 0.44704\n",
            "\n",
            "Epoch 00016: val_loss did not improve from 0.44704\n",
            "\n",
            "Epoch 00017: val_loss did not improve from 0.44704\n",
            "\n",
            "Epoch 00018: val_loss did not improve from 0.44704\n",
            "\n",
            "Epoch 00019: val_loss did not improve from 0.44704\n",
            "\n",
            "Epoch 00020: val_loss did not improve from 0.44704\n",
            "\n",
            "Epoch 00021: val_loss did not improve from 0.44704\n",
            "\n",
            "Epoch 00022: val_loss did not improve from 0.44704\n",
            "\n",
            "Epoch 00023: val_loss did not improve from 0.44704\n",
            "\n",
            "Epoch 00024: val_loss did not improve from 0.44704\n",
            "\n",
            "Epoch 00025: val_loss did not improve from 0.44704\n",
            "\n",
            "Epoch 00026: val_loss did not improve from 0.44704\n",
            "\n",
            "Epoch 00027: val_loss did not improve from 0.44704\n",
            "\n",
            "Epoch 00028: val_loss did not improve from 0.44704\n",
            "\n",
            "Epoch 00029: val_loss did not improve from 0.44704\n",
            "\n",
            "Epoch 00030: val_loss did not improve from 0.44704\n",
            "\n",
            "Epoch 00031: val_loss did not improve from 0.44704\n",
            "\n",
            "Epoch 00032: val_loss did not improve from 0.44704\n",
            "\n",
            "Epoch 00033: val_loss did not improve from 0.44704\n",
            "\n",
            "Epoch 00034: val_loss did not improve from 0.44704\n",
            "\n",
            "Epoch 00035: val_loss did not improve from 0.44704\n",
            "\n",
            "Epoch 00036: val_loss did not improve from 0.44704\n",
            "\n",
            "Epoch 00037: val_loss did not improve from 0.44704\n",
            "\n",
            "Epoch 00038: val_loss did not improve from 0.44704\n",
            "\n",
            "Epoch 00039: val_loss did not improve from 0.44704\n",
            "\n",
            "Epoch 00040: val_loss did not improve from 0.44704\n",
            "\n",
            "Epoch 00041: val_loss did not improve from 0.44704\n",
            "\n",
            "Epoch 00042: val_loss did not improve from 0.44704\n",
            "\n",
            "Epoch 00043: val_loss did not improve from 0.44704\n",
            "\n",
            "Epoch 00044: val_loss did not improve from 0.44704\n",
            "\n",
            "Epoch 00045: val_loss did not improve from 0.44704\n",
            "\n",
            "Epoch 00046: val_loss did not improve from 0.44704\n",
            "\n",
            "Epoch 00047: val_loss did not improve from 0.44704\n",
            "\n",
            "Epoch 00048: val_loss did not improve from 0.44704\n",
            "\n",
            "Epoch 00049: val_loss did not improve from 0.44704\n",
            "\n",
            "Epoch 00050: val_loss did not improve from 0.44704\n",
            "Optimizing model with SGD (lr: 0.1)\n",
            "\n",
            "Epoch 00001: val_loss improved from inf to 0.96866, saving model to exercise-03_sgd_lr-0,1.keras\n",
            "\n",
            "Epoch 00002: val_loss improved from 0.96866 to 0.94809, saving model to exercise-03_sgd_lr-0,1.keras\n",
            "\n",
            "Epoch 00003: val_loss did not improve from 0.94809\n",
            "\n",
            "Epoch 00004: val_loss did not improve from 0.94809\n",
            "\n",
            "Epoch 00005: val_loss did not improve from 0.94809\n",
            "\n",
            "Epoch 00006: val_loss did not improve from 0.94809\n",
            "\n",
            "Epoch 00007: val_loss did not improve from 0.94809\n",
            "\n",
            "Epoch 00008: val_loss did not improve from 0.94809\n",
            "\n",
            "Epoch 00009: val_loss did not improve from 0.94809\n",
            "\n",
            "Epoch 00010: val_loss did not improve from 0.94809\n",
            "\n",
            "Epoch 00011: val_loss did not improve from 0.94809\n",
            "\n",
            "Epoch 00012: val_loss did not improve from 0.94809\n",
            "\n",
            "Epoch 00013: val_loss did not improve from 0.94809\n",
            "\n",
            "Epoch 00014: val_loss did not improve from 0.94809\n",
            "\n",
            "Epoch 00015: val_loss did not improve from 0.94809\n",
            "\n",
            "Epoch 00016: val_loss did not improve from 0.94809\n",
            "\n",
            "Epoch 00017: val_loss did not improve from 0.94809\n",
            "\n",
            "Epoch 00018: val_loss did not improve from 0.94809\n",
            "\n",
            "Epoch 00019: val_loss did not improve from 0.94809\n",
            "\n",
            "Epoch 00020: val_loss did not improve from 0.94809\n",
            "\n",
            "Epoch 00021: val_loss did not improve from 0.94809\n",
            "\n",
            "Epoch 00022: val_loss did not improve from 0.94809\n",
            "\n",
            "Epoch 00023: val_loss did not improve from 0.94809\n",
            "\n",
            "Epoch 00024: val_loss did not improve from 0.94809\n",
            "\n",
            "Epoch 00025: val_loss did not improve from 0.94809\n",
            "\n",
            "Epoch 00026: val_loss did not improve from 0.94809\n",
            "\n",
            "Epoch 00027: val_loss did not improve from 0.94809\n",
            "\n",
            "Epoch 00028: val_loss did not improve from 0.94809\n",
            "\n",
            "Epoch 00029: val_loss did not improve from 0.94809\n",
            "\n",
            "Epoch 00030: val_loss did not improve from 0.94809\n",
            "\n",
            "Epoch 00031: val_loss did not improve from 0.94809\n",
            "\n",
            "Epoch 00032: val_loss did not improve from 0.94809\n",
            "\n",
            "Epoch 00033: val_loss did not improve from 0.94809\n",
            "\n",
            "Epoch 00034: val_loss did not improve from 0.94809\n",
            "\n",
            "Epoch 00035: val_loss did not improve from 0.94809\n",
            "\n",
            "Epoch 00036: val_loss did not improve from 0.94809\n",
            "\n",
            "Epoch 00037: val_loss did not improve from 0.94809\n",
            "\n",
            "Epoch 00038: val_loss did not improve from 0.94809\n",
            "\n",
            "Epoch 00039: val_loss did not improve from 0.94809\n",
            "\n",
            "Epoch 00040: val_loss did not improve from 0.94809\n",
            "\n",
            "Epoch 00041: val_loss did not improve from 0.94809\n",
            "\n",
            "Epoch 00042: val_loss did not improve from 0.94809\n",
            "\n",
            "Epoch 00043: val_loss did not improve from 0.94809\n",
            "\n",
            "Epoch 00044: val_loss did not improve from 0.94809\n",
            "\n",
            "Epoch 00045: val_loss did not improve from 0.94809\n",
            "\n",
            "Epoch 00046: val_loss did not improve from 0.94809\n",
            "\n",
            "Epoch 00047: val_loss did not improve from 0.94809\n",
            "\n",
            "Epoch 00048: val_loss did not improve from 0.94809\n",
            "\n",
            "Epoch 00049: val_loss did not improve from 0.94809\n",
            "\n",
            "Epoch 00050: val_loss did not improve from 0.94809\n",
            "Optimizing model with SGD (lr: 0.01)\n",
            "\n",
            "Epoch 00001: val_loss improved from inf to 0.97000, saving model to exercise-03_sgd_lr-0,01.keras\n",
            "\n",
            "Epoch 00002: val_loss did not improve from 0.97000\n",
            "\n",
            "Epoch 00003: val_loss did not improve from 0.97000\n",
            "\n",
            "Epoch 00004: val_loss did not improve from 0.97000\n",
            "\n",
            "Epoch 00005: val_loss did not improve from 0.97000\n",
            "\n",
            "Epoch 00006: val_loss did not improve from 0.97000\n",
            "\n",
            "Epoch 00007: val_loss did not improve from 0.97000\n",
            "\n",
            "Epoch 00008: val_loss did not improve from 0.97000\n",
            "\n",
            "Epoch 00009: val_loss did not improve from 0.97000\n",
            "\n",
            "Epoch 00010: val_loss did not improve from 0.97000\n",
            "\n",
            "Epoch 00011: val_loss did not improve from 0.97000\n",
            "\n",
            "Epoch 00012: val_loss did not improve from 0.97000\n",
            "\n",
            "Epoch 00013: val_loss did not improve from 0.97000\n",
            "\n",
            "Epoch 00014: val_loss did not improve from 0.97000\n",
            "\n",
            "Epoch 00015: val_loss did not improve from 0.97000\n",
            "\n",
            "Epoch 00016: val_loss did not improve from 0.97000\n",
            "\n",
            "Epoch 00017: val_loss did not improve from 0.97000\n",
            "\n",
            "Epoch 00018: val_loss did not improve from 0.97000\n",
            "\n",
            "Epoch 00019: val_loss did not improve from 0.97000\n",
            "\n",
            "Epoch 00020: val_loss did not improve from 0.97000\n",
            "\n",
            "Epoch 00021: val_loss did not improve from 0.97000\n",
            "\n",
            "Epoch 00022: val_loss did not improve from 0.97000\n",
            "\n",
            "Epoch 00023: val_loss did not improve from 0.97000\n",
            "\n",
            "Epoch 00024: val_loss did not improve from 0.97000\n",
            "\n",
            "Epoch 00025: val_loss did not improve from 0.97000\n",
            "\n",
            "Epoch 00026: val_loss did not improve from 0.97000\n",
            "\n",
            "Epoch 00027: val_loss did not improve from 0.97000\n",
            "\n",
            "Epoch 00028: val_loss did not improve from 0.97000\n",
            "\n",
            "Epoch 00029: val_loss did not improve from 0.97000\n",
            "\n",
            "Epoch 00030: val_loss did not improve from 0.97000\n",
            "\n",
            "Epoch 00031: val_loss did not improve from 0.97000\n",
            "\n",
            "Epoch 00032: val_loss did not improve from 0.97000\n",
            "\n",
            "Epoch 00033: val_loss did not improve from 0.97000\n",
            "\n",
            "Epoch 00034: val_loss did not improve from 0.97000\n",
            "\n",
            "Epoch 00035: val_loss did not improve from 0.97000\n",
            "\n",
            "Epoch 00036: val_loss did not improve from 0.97000\n",
            "\n",
            "Epoch 00037: val_loss did not improve from 0.97000\n",
            "\n",
            "Epoch 00038: val_loss did not improve from 0.97000\n",
            "\n",
            "Epoch 00039: val_loss did not improve from 0.97000\n",
            "\n",
            "Epoch 00040: val_loss did not improve from 0.97000\n",
            "\n",
            "Epoch 00041: val_loss did not improve from 0.97000\n",
            "\n",
            "Epoch 00042: val_loss did not improve from 0.97000\n",
            "\n",
            "Epoch 00043: val_loss did not improve from 0.97000\n",
            "\n",
            "Epoch 00044: val_loss did not improve from 0.97000\n",
            "\n",
            "Epoch 00045: val_loss did not improve from 0.97000\n",
            "\n",
            "Epoch 00046: val_loss did not improve from 0.97000\n",
            "\n",
            "Epoch 00047: val_loss did not improve from 0.97000\n",
            "\n",
            "Epoch 00048: val_loss did not improve from 0.97000\n",
            "\n",
            "Epoch 00049: val_loss did not improve from 0.97000\n",
            "\n",
            "Epoch 00050: val_loss did not improve from 0.97000\n",
            "Optimizing model with SGD (lr: 0.001)\n",
            "\n",
            "Epoch 00001: val_loss improved from inf to 0.97196, saving model to exercise-03_sgd_lr-0,001.keras\n",
            "\n",
            "Epoch 00002: val_loss improved from 0.97196 to 0.97196, saving model to exercise-03_sgd_lr-0,001.keras\n",
            "\n",
            "Epoch 00003: val_loss did not improve from 0.97196\n",
            "\n",
            "Epoch 00004: val_loss did not improve from 0.97196\n",
            "\n",
            "Epoch 00005: val_loss did not improve from 0.97196\n",
            "\n",
            "Epoch 00006: val_loss did not improve from 0.97196\n",
            "\n",
            "Epoch 00007: val_loss did not improve from 0.97196\n",
            "\n",
            "Epoch 00008: val_loss did not improve from 0.97196\n",
            "\n",
            "Epoch 00009: val_loss did not improve from 0.97196\n",
            "\n",
            "Epoch 00010: val_loss did not improve from 0.97196\n",
            "\n",
            "Epoch 00011: val_loss did not improve from 0.97196\n",
            "\n",
            "Epoch 00012: val_loss did not improve from 0.97196\n",
            "\n",
            "Epoch 00013: val_loss did not improve from 0.97196\n",
            "\n",
            "Epoch 00014: val_loss did not improve from 0.97196\n",
            "\n",
            "Epoch 00015: val_loss did not improve from 0.97196\n",
            "\n",
            "Epoch 00016: val_loss did not improve from 0.97196\n",
            "\n",
            "Epoch 00017: val_loss did not improve from 0.97196\n",
            "\n",
            "Epoch 00018: val_loss did not improve from 0.97196\n",
            "\n",
            "Epoch 00019: val_loss did not improve from 0.97196\n",
            "\n",
            "Epoch 00020: val_loss did not improve from 0.97196\n",
            "\n",
            "Epoch 00021: val_loss did not improve from 0.97196\n",
            "\n",
            "Epoch 00022: val_loss did not improve from 0.97196\n",
            "\n",
            "Epoch 00023: val_loss did not improve from 0.97196\n",
            "\n",
            "Epoch 00024: val_loss did not improve from 0.97196\n",
            "\n",
            "Epoch 00025: val_loss did not improve from 0.97196\n",
            "\n",
            "Epoch 00026: val_loss did not improve from 0.97196\n",
            "\n",
            "Epoch 00027: val_loss did not improve from 0.97196\n",
            "\n",
            "Epoch 00028: val_loss did not improve from 0.97196\n",
            "\n",
            "Epoch 00029: val_loss did not improve from 0.97196\n",
            "\n",
            "Epoch 00030: val_loss did not improve from 0.97196\n",
            "\n",
            "Epoch 00031: val_loss did not improve from 0.97196\n",
            "\n",
            "Epoch 00032: val_loss did not improve from 0.97196\n",
            "\n",
            "Epoch 00033: val_loss did not improve from 0.97196\n",
            "\n",
            "Epoch 00034: val_loss did not improve from 0.97196\n",
            "\n",
            "Epoch 00035: val_loss did not improve from 0.97196\n",
            "\n",
            "Epoch 00036: val_loss did not improve from 0.97196\n",
            "\n",
            "Epoch 00037: val_loss did not improve from 0.97196\n",
            "\n",
            "Epoch 00038: val_loss did not improve from 0.97196\n",
            "\n",
            "Epoch 00039: val_loss did not improve from 0.97196\n",
            "\n",
            "Epoch 00040: val_loss did not improve from 0.97196\n",
            "\n",
            "Epoch 00041: val_loss did not improve from 0.97196\n",
            "\n",
            "Epoch 00042: val_loss did not improve from 0.97196\n",
            "\n",
            "Epoch 00043: val_loss did not improve from 0.97196\n",
            "\n",
            "Epoch 00044: val_loss did not improve from 0.97196\n",
            "\n",
            "Epoch 00045: val_loss did not improve from 0.97196\n",
            "\n",
            "Epoch 00046: val_loss did not improve from 0.97196\n",
            "\n",
            "Epoch 00047: val_loss did not improve from 0.97196\n",
            "\n",
            "Epoch 00048: val_loss did not improve from 0.97196\n",
            "\n",
            "Epoch 00049: val_loss did not improve from 0.97196\n",
            "\n",
            "Epoch 00050: val_loss did not improve from 0.97196\n"
          ],
          "name": "stdout"
        },
        {
          "output_type": "display_data",
          "data": {
            "image/png": "[encoded data removed]",
            "text/plain": [
              "<Figure size 432x288 with 2 Axes>"
            ]
          },
          "metadata": {
            "tags": [],
            "needs_background": "light"
          }
        },
        {
          "output_type": "display_data",
          "data": {
            "image/png": "[encoded data removed]",
            "text/plain": [
              "<Figure size 432x288 with 2 Axes>"
            ]
          },
          "metadata": {
            "tags": [],
            "needs_background": "light"
          }
        },
        {
          "output_type": "display_data",
          "data": {
            "image/png": "[encoded data removed]",
            "text/plain": [
              "<Figure size 432x288 with 2 Axes>"
            ]
          },
          "metadata": {
            "tags": [],
            "needs_background": "light"
          }
        },
        {
          "output_type": "display_data",
          "data": {
            "image/png": "[encoded data removed]",
            "text/plain": [
              "<Figure size 432x288 with 2 Axes>"
            ]
          },
          "metadata": {
            "tags": [],
            "needs_background": "light"
          }
        }
      ]
    },
    {
      "cell_type": "code",
      "metadata": {
        "id": "Xu3ZMXLBUmF6"
      },
      "source": [
        "# This plotting routine might help you ...\n",
        "def comparison_plot(history_sgd, history_adam, label1, label2, title):\n",
        "    fig, ax1, ax2 = prepare_standardplot(title, \"epochs\")\n",
        "    ax1.plot(history_sgd.history['loss'], label=label1 + ' train')\n",
        "    ax1.plot(history_sgd.history['val_loss'], label=label1 + ' val')\n",
        "    ax1.plot(history_adam.history['loss'], label=label2 + ' train')\n",
        "    ax1.plot(history_adam.history['val_loss'], label=label2 + ' val')\n",
        "    ax2.plot(history_sgd.history['accuracy'], label=label1 + ' train')\n",
        "    ax2.plot(history_sgd.history['val_accuracy'], label=label1 + ' val')\n",
        "    ax2.plot(history_adam.history['accuracy'], label=label2 + ' train')\n",
        "    ax2.plot(history_adam.history['val_accuracy'], label=label2 + ' val')\n",
        "    finalize_standardplot(fig, ax1, ax2)\n",
        "    return fig"
      ],
      "execution_count": null,
      "outputs": []
    },
    {
      "cell_type": "markdown",
      "metadata": {
        "id": "Ifgvj_JmUmF6"
      },
      "source": [
        "## Exercise 4: Model performance as a function of number of hidden neurons (8 + 2 points)\n",
        "\n",
        "Since the MNIST dataset is almost perfectly solved already by a one-hidden-layer network in Exercise 3, we use the Fashion-MNIST dataset from now on to compare the performances of more complex models. In this exercise, we investigate how the best validation loss and accuracy depends on the number of hidden neurons in a single layer.\n",
        "\n",
        "1. Fit at least 4 models with different number of hidden neurons (i.e. width) between 10 and 1000 to the Fashion-MNIST dataset. Train with Adam for 50-100 epochs. (2 pts)\n",
        "2. Plot the best validation loss and accuracy versus the width. Is the observed trend in accordance with the [general approximation theorem](https://en.wikipedia.org/wiki/Universal_approximation_theorem)? Do you observe an overfitting due to the complexity of the wider networks with more parameters? Report the best validation accuracy. (2 pts)\n",
        "3. Choose $ p \\geq 0.5 $ fraction of the data points from the training dataset of Fashion-MNIST and change their class labels randomly as in Exercise 3. For this noisy Fashion-MNIST dataset, fit at least 4 models with different widths between 10 and 250. Train with Adam for at least 150 epochs. Plot the best validation loss and accuracy vs. width. (2 pts)\n",
        "4. BONUS: Add random Gaussian noise on the input pixels with mean 0 and variance between 0.01-0.5 and use the original labels. For this noisy Fashion-MNIST dataset, fit at least 4 models with different widths between 10 and 250. Train with Adam for at least 150 epochs. Plot the best validation loss and accuracy vs. width. (2 pts)\n",
        "5. Answer to the same questions in 2 for the noisy Fashion-MNIST dataset(s). Comment on the differences between width-performence curves for these two (or three) datasets. (2 pts)\n",
        "\n",
        "In this exercise we fit each model only for one initialization and random seed. In practice one would collect some statistics (e.g. 25-, 50-, 75-percentiles) for each layer size by fitting each model several times with different initializations and the random seeds. You may also want to do this here. It is a good exercise, but not mandatory as it takes quite a bit of computation time."
      ]
    },
    {
      "cell_type": "markdown",
      "metadata": {
        "id": "fDvqvz9yUmF7"
      },
      "source": [
        "**Answer to Question 2** (max 2 sentences): \n",
        "\n",
        "**Answer to Question 5** (max 3 sentences): "
      ]
    },
    {
      "cell_type": "markdown",
      "metadata": {
        "id": "PNq8VyZiUmF7"
      },
      "source": [
        "### Solution"
      ]
    },
    {
      "cell_type": "code",
      "metadata": {
        "id": "d6ZVPYEhUmF7"
      },
      "source": [
        ""
      ],
      "execution_count": null,
      "outputs": []
    },
    {
      "cell_type": "markdown",
      "metadata": {
        "id": "O2Gb7mgSUmF7"
      },
      "source": [
        "## Exercise 5: Going deeper: tricks and regularization (10 + 2 points)\n",
        "\n",
        "Adding hidden layers to a deep network does not necessarily lead to a straight-forward improvement of performance. We use Fashion-MNIST dataset in this exercise.  \n",
        "\n",
        "1. Choose a width $ h $ between 50-200 and use at least two hidden layers with $ h $ hidden neurons (each) and train the network for at least 150 epochs. (2 pts)\n",
        "2. Plot the learning curves and report the best validation accuracy. Do you observe overfitting? (2 pts)\n",
        "3. Keep the network at the same size. Use a very large l2 regularization $\\lambda$ (for ex. $\\lambda=1$) and a small one (for ex. $\\lambda=0.001$) on kernel weights and report the validation accuracies. What do you observe?  (2 pts)\n",
        "4. Turn off the $ \\ell_2 $ regularization and use a large dropout rate (for ex. 0.5) and a small one (for ex. 0.05) at all hidden layers and report the validation accuracies. What do you observe? (2 pts)\n",
        "5. BONUS: Try built-in data augmentation methods as a way to regularize: this may include horizontal flipping of the images or small rotations. You can use built-in methods in Keras. Report the augmentation method you used and the best validation accuracy. (2 pts)\n",
        "\n",
        "Note that one needs to cross-validate to find the right regularization parameter for the model you chose and for the dataset at hand. However we do not enforce this hyperparameter search as it takes long computation times but it is a good practice if you try it here. \n",
        "\n",
        "6. Compare the validation accuracies resulting from your attempts to reduce overfitting. Did you improve the validation accuracy? If not, comment on the possible sources of failure. (2 pts)"
      ]
    },
    {
      "cell_type": "markdown",
      "metadata": {
        "id": "LzX8ezheUmF7"
      },
      "source": [
        "**Answer to Question 2** (max 1 sentence):   \n",
        "\n",
        "**Answer to Question 3** (max 2 sentences): \n",
        "\n",
        "**Answer to Question 4** (max 2 sentences): \n",
        "\n",
        "**Answer to Question 5 (BONUS)** (max 2 sentences): \n",
        "\n",
        "**Answer to Question 6** (max 2 sentences): "
      ]
    },
    {
      "cell_type": "markdown",
      "metadata": {
        "id": "NSQJfhZVUmF8"
      },
      "source": [
        "### Solution"
      ]
    },
    {
      "cell_type": "code",
      "metadata": {
        "id": "LU6_9-HSUmF8"
      },
      "source": [
        ""
      ],
      "execution_count": null,
      "outputs": []
    },
    {
      "cell_type": "markdown",
      "metadata": {
        "id": "NDYfqS_MUmF9"
      },
      "source": [
        "## Exercise 6: Convolutional neural networks (CNNs) (10 points)\n",
        "\n",
        "Convolutional neural networks have an inductive bias that is well adapted to image classification. \n",
        "\n",
        "1. Design a convolutional neural network and train it without using explicit regularizers. (2 pts)\n",
        "2. Try to improve the best validation scores of the model by experiment with batch_normalization layers, dropout layers and l2-regularization on weights (kernels) and biases. (4 pts)\n",
        "3. After you have found good settings, plot the learning curves for both models, naive (=no tricks/regularization) and tuned (=tricks + regularized) together in a comparison plot. (2pts)\n",
        "4. How does the CNN performance compare to the so far best performing (deep) neural network model? (2 pts)\n",
        "\n",
        "*Hint:* You may get valuable inspiration from the keras [examples](https://keras.io/examples/), [for example](https://keras.io/examples/vision/mnist_convnet/)."
      ]
    },
    {
      "cell_type": "markdown",
      "metadata": {
        "id": "JUbPDPV_UmF9"
      },
      "source": [
        "**Answer to Question 4**: "
      ]
    },
    {
      "cell_type": "markdown",
      "metadata": {
        "id": "1-dXDw80UmF9"
      },
      "source": [
        "### Solution"
      ]
    },
    {
      "cell_type": "code",
      "metadata": {
        "ExecuteTime": {
          "end_time": "2018-02-23T16:05:21.840299Z",
          "start_time": "2018-02-23T15:51:11.993053Z"
        },
        "id": "FQZzPHt7UmF9"
      },
      "source": [
        ""
      ],
      "execution_count": null,
      "outputs": []
    },
    {
      "cell_type": "code",
      "metadata": {
        "id": "6IrD-oT3_X0a"
      },
      "source": [
        ""
      ],
      "execution_count": null,
      "outputs": []
    },
    {
      "cell_type": "code",
      "metadata": {
        "id": "Vd9nx_1eDUix"
      },
      "source": [
        ""
      ],
      "execution_count": null,
      "outputs": []
    },
    {
      "cell_type": "code",
      "metadata": {
        "id": "WaiC4eAZS4q6"
      },
      "source": [
        ""
      ],
      "execution_count": null,
      "outputs": []
    },
    {
      "cell_type": "code",
      "metadata": {
        "id": "KYlB3Kg8JdD9"
      },
      "source": [
        ""
      ],
      "execution_count": null,
      "outputs": []
    },
    {
      "cell_type": "code",
      "metadata": {
        "id": "1ejeEal1JfXN"
      },
      "source": [
        ""
      ],
      "execution_count": null,
      "outputs": []
    }
  ]
}