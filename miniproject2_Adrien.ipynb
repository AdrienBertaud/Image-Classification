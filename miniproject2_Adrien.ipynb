{
  "nbformat": 4,
  "nbformat_minor": 0,
  "metadata": {
    "kernelspec": {
      "display_name": "Python 3",
      "language": "python",
      "name": "python3"
    },
    "language_info": {
      "codemirror_mode": {
        "name": "ipython",
        "version": 3
      },
      "file_extension": ".py",
      "mimetype": "text/x-python",
      "name": "python",
      "nbconvert_exporter": "python",
      "pygments_lexer": "ipython3",
      "version": "3.7.4"
    },
    "colab": {
      "name": "miniproject2.ipynb",
      "provenance": []
    }
  },
  "cells": [
    {
      "cell_type": "markdown",
      "metadata": {
        "id": "BnAEU9iKUmFl"
      },
      "source": [
        "# Miniproject: Image Classification\n",
        "\n",
        "### Description\n",
        "\n",
        "One of the oldest traditions in deep learning is to first tackle the fun problem of MNIST classification. [The MNIST dataset](https://en.wikipedia.org/wiki/MNIST_database) is a large database of handwritten digits that is commonly used as a first test for new classification algorithms. \n",
        "We follow this tradition to investigate the performance of artificial neural networks of different complexity on MNIST. However, since MNIST is too easy for accessing the full power of modern machine learning algorithms (see e.g. [this post](https://twitter.com/goodfellow_ian/status/852591106655043584)) we will extend our analysis to the recently introduced, harder [Fashion-MNIST dataset](https://github.com/zalandoresearch/fashion-mnist).\n",
        "\n",
        "### Prerequisites\n",
        "\n",
        "- You should have a running installation of [tensorflow](https://www.tensorflow.org/install/) and [keras](https://keras.io/). Feel free to gain inspiration from the [Keras example directory](https://keras.io/examples/) for your implementations.\n",
        "- You should know the concepts \"multilayer perceptron\", \"stochastic gradient descent with minibatches\", \"Adam\", \"convolutional neural network\", \"training and validation data\", \"overfitting\", \"regularization\", and \"early stopping\".\n",
        "\n",
        "### What you will learn\n",
        "\n",
        "- You will learn how to define feedforward neural networks in keras and fit them to data (i.e. training).\n",
        "- You will be guided through a prototyping procedure for the application of deep learning to a specific domain.\n",
        "- You will gain some experience on the influence of network architecture, optimizer and regularization choices on the goodness of fit.\n",
        "- You will learn to be more patient :) Some fits may take your computer quite a bit of time; run them over night (or on an external server).\n",
        "\n",
        "### Evaluation criteria\n",
        "\n",
        "The evaluation is (mostly) based on the figures you submit and your answer sentences. Provide clear and concise answers respecting the indicated maximum length.\n",
        "\n",
        "**The submitted notebook must be run by you!** We will only do random tests of your code and not re-run the full notebook. There will be fraud detection sessions at the end of the semester.\n",
        "\n",
        "### Your names\n",
        "\n",
        "**Before you start**: please enter your full name(s) in the field below."
      ]
    },
    {
      "cell_type": "code",
      "metadata": {
        "ExecuteTime": {
          "end_time": "2018-03-09T09:08:24.514461Z",
          "start_time": "2018-03-09T09:08:24.506410Z"
        },
        "id": "bVa5G9-6UmFv"
      },
      "source": [
        "student1 = \"Jan Bauer (18-764-571)\"\n",
        "student2 = \"Adrien Bertaud (Todo Add Student Number)\""
      ],
      "execution_count": 1,
      "outputs": []
    },
    {
      "cell_type": "markdown",
      "metadata": {
        "ExecuteTime": {
          "end_time": "2018-02-22T21:52:59.697375Z",
          "start_time": "2018-02-22T21:52:59.689443Z"
        },
        "id": "8ZLXwbYkUmFy"
      },
      "source": [
        "## Some helper functions\n",
        "\n",
        "For your convenience we provide here some functions to preprocess the data and plot the results later. Simply run the following cells with `Shift-Enter`.\n",
        "\n",
        "### Dependencies and constants"
      ]
    },
    {
      "cell_type": "code",
      "metadata": {
        "ExecuteTime": {
          "end_time": "2018-02-23T14:27:09.352019Z",
          "start_time": "2018-02-23T14:27:08.476310Z"
        },
        "id": "a_-AKt04UmFz"
      },
      "source": [
        "%matplotlib inline\n",
        "\n",
        "import numpy as np\n",
        "import time\n",
        "import matplotlib.pyplot as plt\n",
        "import scipy.io\n",
        "\n",
        "import keras\n",
        "from keras.models import Sequential\n",
        "from keras.layers import Dense, Conv2D, MaxPooling2D, Dropout, Flatten, BatchNormalization\n",
        "from keras.optimizers import SGD, Adam\n",
        "from keras import regularizers"
      ],
      "execution_count": 2,
      "outputs": []
    },
    {
      "cell_type": "markdown",
      "metadata": {
        "id": "6-U_Ag8QUmFz"
      },
      "source": [
        "### Plotting"
      ]
    },
    {
      "cell_type": "code",
      "metadata": {
        "ExecuteTime": {
          "end_time": "2018-02-23T15:11:52.252208Z",
          "start_time": "2018-02-23T15:11:52.121360Z"
        },
        "id": "d2V7in4BUmF0"
      },
      "source": [
        "def plot_some_samples(x, y = [], yhat = [], select_from = [], \n",
        "                      ncols = 6, nrows = 4, xdim = 28, ydim = 28,\n",
        "                      label_mapping = range(10)):\n",
        "    \"\"\"plot some input vectors as grayscale images (optionally together with their assigned or predicted labels).\n",
        "    \n",
        "    x is an NxD - dimensional array, where D is the length of an input vector and N is the number of samples.\n",
        "    Out of the N samples, ncols x nrows indices are randomly selected from the list select_from (if it is empty, select_from becomes range(N)).\n",
        "    \"\"\"\n",
        "    fig, ax = plt.subplots(nrows, ncols)\n",
        "    if len(select_from) == 0:\n",
        "        select_from = range(x.shape[0])\n",
        "    indices = np.random.choice(select_from, size = min(ncols * nrows, len(select_from)), replace = False)\n",
        "    for i, ind in enumerate(indices):\n",
        "        thisax = ax[i//ncols,i%ncols]\n",
        "        thisax.matshow(x[ind].reshape(xdim, ydim), cmap='gray')\n",
        "        thisax.set_axis_off()\n",
        "        if len(y) != 0:\n",
        "            j = y[ind] if type(y[ind]) != np.ndarray else y[ind].argmax()\n",
        "            thisax.text(0, 0, (label_mapping[j]+1)%10, color='green', \n",
        "                                                       verticalalignment='top',\n",
        "                                                       transform=thisax.transAxes)\n",
        "        if len(yhat) != 0:\n",
        "            k = yhat[ind] if type(yhat[ind]) != np.ndarray else yhat[ind].argmax()\n",
        "            thisax.text(1, 0, (label_mapping[k]+1)%10, color='red',\n",
        "                                             verticalalignment='top',\n",
        "                                             horizontalalignment='right',\n",
        "                                             transform=thisax.transAxes)\n",
        "    return fig\n",
        "\n",
        "def prepare_standardplot(title, xlabel):\n",
        "    fig, (ax1, ax2) = plt.subplots(1, 2)\n",
        "    fig.suptitle(title)\n",
        "    ax1.set_ylabel('categorical cross entropy')\n",
        "    ax1.set_xlabel(xlabel)\n",
        "    ax1.set_yscale('log')\n",
        "    ax2.set_ylabel('accuracy [% correct]')\n",
        "    ax2.set_xlabel(xlabel)\n",
        "    return fig, ax1, ax2\n",
        "\n",
        "def finalize_standardplot(fig, ax1, ax2):\n",
        "    ax1handles, ax1labels = ax1.get_legend_handles_labels()\n",
        "    if len(ax1labels) > 0:\n",
        "        ax1.legend(ax1handles, ax1labels)\n",
        "    ax2handles, ax2labels = ax2.get_legend_handles_labels()\n",
        "    if len(ax2labels) > 0:\n",
        "        ax2.legend(ax2handles, ax2labels)\n",
        "    fig.tight_layout()\n",
        "    plt.subplots_adjust(top=0.9)\n",
        "\n",
        "def plot_history(history, title):\n",
        "    fig, ax1, ax2 = prepare_standardplot(title, 'epoch')\n",
        "    ax1.plot(history.history['loss'], label = \"train\")\n",
        "    ax1.plot(history.history['val_loss'], label = \"val\")\n",
        "    ax2.plot(history.history['accuracy'], label = \"train\")\n",
        "    ax2.plot(history.history['val_accuracy'], label = \"val\")\n",
        "    finalize_standardplot(fig, ax1, ax2)\n",
        "    return fig"
      ],
      "execution_count": 3,
      "outputs": []
    },
    {
      "cell_type": "markdown",
      "metadata": {
        "id": "96-3BgpfUmF1"
      },
      "source": [
        "## Exercise 1: Data import and visualization (6 points)\n",
        "\n",
        "The datasets we use in this project (MNIST, Fashion-MNIST) consists of grayscale images with 28x28 pixels. \n",
        "The low resolution (and grayscale) of the images certainly misses some information that could be helpful for classifying the images. However, since the data has lower dimensionality due to the low resolution, the training converges faster. This is an advantage in situations like here (or generally when prototyping), where we want to try many different things without having to wait too long. \n",
        "\n",
        "1. As a warm-up exercise, use the importer to (down-)load the MNIST and Fashion-MNIST dataset. Assign useful variables to test & train images and labels for both datasets respectively. (2 pts)\n",
        "2. Use the function `plot_some_samples` defined above to plot some samples of the two datasets. What do the green digits at the bottom left of each image indicate? (2 pts)\n",
        "3. To prepare for training: 1. transform the labels to one hot coding, i.e. for 5 classes, label 2 becomes the vector [0, 0, 1, 0, 0] (you can use `utils.to_categorical` function from keras), and 2. reshape (flatten) the input images to input vectors and rescale the input data into the range [0,1]. (2 pts)\n",
        "\n",
        "*Hint*: Keras comes with a convenient in-built [data importer](https://keras.io/datasets/) for common datasets. "
      ]
    },
    {
      "cell_type": "markdown",
      "metadata": {
        "id": "kGiMLZFXUmF2"
      },
      "source": [
        "**Answer to Question 2** (1 sentence): "
      ]
    },
    {
      "cell_type": "markdown",
      "metadata": {
        "id": "PGSLbCcbUmF2"
      },
      "source": [
        "### Solution"
      ]
    },
    {
      "cell_type": "markdown",
      "metadata": {
        "id": "44GJq_o2BlkA"
      },
      "source": [
        "1.1) Load the MNIST and Fashion-MNIST dataset."
      ]
    },
    {
      "cell_type": "code",
      "metadata": {
        "ExecuteTime": {
          "end_time": "2018-02-23T14:27:44.442862Z",
          "start_time": "2018-02-23T14:27:09.505547Z"
        },
        "id": "wjga3NseUmF3",
        "colab": {
          "base_uri": "https://localhost:8080/"
        },
        "outputId": "f61ee115-0995-403e-c23f-2e152b737015"
      },
      "source": [
        "import tensorflow as tf\n",
        "(x_mnist_train, y_mnist_train), (x_mnist_test, y_mnist_test) = tf.keras.datasets.mnist.load_data(path=\"mnist.npz\")\n",
        "(x_train, y_train), (x_test, y_test) = tf.keras.datasets.fashion_mnist.load_data()"
      ],
      "execution_count": 4,
      "outputs": [
        {
          "output_type": "stream",
          "text": [
            "Downloading data from https://storage.googleapis.com/tensorflow/tf-keras-datasets/mnist.npz\n",
            "11493376/11490434 [==============================] - 0s 0us/step\n",
            "Downloading data from https://storage.googleapis.com/tensorflow/tf-keras-datasets/train-labels-idx1-ubyte.gz\n",
            "32768/29515 [=================================] - 0s 0us/step\n",
            "Downloading data from https://storage.googleapis.com/tensorflow/tf-keras-datasets/train-images-idx3-ubyte.gz\n",
            "26427392/26421880 [==============================] - 0s 0us/step\n",
            "Downloading data from https://storage.googleapis.com/tensorflow/tf-keras-datasets/t10k-labels-idx1-ubyte.gz\n",
            "8192/5148 [===============================================] - 0s 0us/step\n",
            "Downloading data from https://storage.googleapis.com/tensorflow/tf-keras-datasets/t10k-images-idx3-ubyte.gz\n",
            "4423680/4422102 [==============================] - 0s 0us/step\n"
          ],
          "name": "stdout"
        }
      ]
    },
    {
      "cell_type": "markdown",
      "metadata": {
        "id": "zK0e2jWyBxuY"
      },
      "source": [
        "1.2) Plot some samples of the two datasets."
      ]
    },
    {
      "cell_type": "code",
      "metadata": {
        "colab": {
          "base_uri": "https://localhost:8080/",
          "height": 276
        },
        "id": "E-tP-_yR_cIT",
        "outputId": "2c7bd701-d083-4dd2-ccf5-fe5d6d0af29e"
      },
      "source": [
        "print(\"MNIST\")\n",
        "plot_some_samples(x_mnist_train, y_mnist_train, ncols=6, nrows=4);"
      ],
      "execution_count": 5,
      "outputs": [
        {
          "output_type": "stream",
          "text": [
            "MNIST\n"
          ],
          "name": "stdout"
        },
        {
          "output_type": "display_data",
          "data": {
            "image/png": "[encoded data removed]",
            "text/plain": [
              "<Figure size 432x288 with 24 Axes>"
            ]
          },
          "metadata": {
            "tags": [],
            "needs_background": "light"
          }
        }
      ]
    },
    {
      "cell_type": "code",
      "metadata": {
        "colab": {
          "base_uri": "https://localhost:8080/",
          "height": 276
        },
        "id": "rM7sGUJ7CPXI",
        "outputId": "c0151870-3e8f-4e52-9d5b-93e88c7400be"
      },
      "source": [
        "print(\"Fashion-MNIST\")\n",
        "plot_some_samples(x_train, y_train, ncols=6, nrows=4);"
      ],
      "execution_count": 6,
      "outputs": [
        {
          "output_type": "stream",
          "text": [
            "Fashion-MNIST\n"
          ],
          "name": "stdout"
        },
        {
          "output_type": "display_data",
          "data": {
            "image/png": "[encoded data removed]",
            "text/plain": [
              "<Figure size 432x288 with 24 Axes>"
            ]
          },
          "metadata": {
            "tags": [],
            "needs_background": "light"
          }
        }
      ]
    },
    {
      "cell_type": "markdown",
      "metadata": {
        "id": "hsmXRZADC0UP"
      },
      "source": [
        "The green digit at the bottom left of each image indicates the label of the image, i.e its classificaition. It can be interpreted as the index of the digit with value 1 (all others at 0) fot one hot coding. Without that prior labelling, no training is possible."
      ]
    },
    {
      "cell_type": "markdown",
      "metadata": {
        "id": "ozrpz5-NB7wg"
      },
      "source": [
        "1.3) Prepare for training."
      ]
    },
    {
      "cell_type": "code",
      "metadata": {
        "colab": {
          "base_uri": "https://localhost:8080/"
        },
        "id": "2Q_Rl6c-DV87",
        "outputId": "48365bc3-75e3-4177-8261-30e4a6f2968d"
      },
      "source": [
        "# transform the labels to one hot coding\n",
        "from keras.utils import to_categorical\n",
        "\n",
        "y_mnist_train_one_hot = to_categorical(y_mnist_train)\n",
        "y_mnist_test_one_hot = to_categorical(y_mnist_test)\n",
        "\n",
        "for i in range(5):\n",
        "    print(\"train : {0} => {1} \\ttest : {2} => {3}\".format(y_mnist_train[i], y_mnist_train_one_hot[i], y_mnist_test[i], y_mnist_test_one_hot[i]))"
      ],
      "execution_count": 7,
      "outputs": [
        {
          "output_type": "stream",
          "text": [
            "train : 5 => [0. 0. 0. 0. 0. 1. 0. 0. 0. 0.] \ttest : 7 => [0. 0. 0. 0. 0. 0. 0. 1. 0. 0.]\n",
            "train : 0 => [1. 0. 0. 0. 0. 0. 0. 0. 0. 0.] \ttest : 2 => [0. 0. 1. 0. 0. 0. 0. 0. 0. 0.]\n",
            "train : 4 => [0. 0. 0. 0. 1. 0. 0. 0. 0. 0.] \ttest : 1 => [0. 1. 0. 0. 0. 0. 0. 0. 0. 0.]\n",
            "train : 1 => [0. 1. 0. 0. 0. 0. 0. 0. 0. 0.] \ttest : 0 => [1. 0. 0. 0. 0. 0. 0. 0. 0. 0.]\n",
            "train : 9 => [0. 0. 0. 0. 0. 0. 0. 0. 0. 1.] \ttest : 4 => [0. 0. 0. 0. 1. 0. 0. 0. 0. 0.]\n"
          ],
          "name": "stdout"
        }
      ]
    },
    {
      "cell_type": "code",
      "metadata": {
        "colab": {
          "base_uri": "https://localhost:8080/"
        },
        "id": "09HL6DMLN8uu",
        "outputId": "5f87a1b8-5fbe-44c3-ed88-bd1617c052b0"
      },
      "source": [
        "y_train_one_hot = to_categorical(y_train)\n",
        "y_test_one_hot = to_categorical(y_test)\n",
        "\n",
        "for i in range(5):\n",
        "    print(\"train : {0} => {1} \\ttest : {2} => {3}\".format(y_train[i], y_train_one_hot[i], y_test[i], y_test_one_hot[i]))"
      ],
      "execution_count": 8,
      "outputs": [
        {
          "output_type": "stream",
          "text": [
            "train : 9 => [0. 0. 0. 0. 0. 0. 0. 0. 0. 1.] \ttest : 9 => [0. 0. 0. 0. 0. 0. 0. 0. 0. 1.]\n",
            "train : 0 => [1. 0. 0. 0. 0. 0. 0. 0. 0. 0.] \ttest : 2 => [0. 0. 1. 0. 0. 0. 0. 0. 0. 0.]\n",
            "train : 0 => [1. 0. 0. 0. 0. 0. 0. 0. 0. 0.] \ttest : 1 => [0. 1. 0. 0. 0. 0. 0. 0. 0. 0.]\n",
            "train : 3 => [0. 0. 0. 1. 0. 0. 0. 0. 0. 0.] \ttest : 1 => [0. 1. 0. 0. 0. 0. 0. 0. 0. 0.]\n",
            "train : 0 => [1. 0. 0. 0. 0. 0. 0. 0. 0. 0.] \ttest : 6 => [0. 0. 0. 0. 0. 0. 1. 0. 0. 0.]\n"
          ],
          "name": "stdout"
        }
      ]
    },
    {
      "cell_type": "code",
      "metadata": {
        "colab": {
          "base_uri": "https://localhost:8080/"
        },
        "id": "whHrNeQiETo7",
        "outputId": "f49208e7-2dff-428d-b8ec-e53cf9e9d346"
      },
      "source": [
        "# reshape (flatten) the input images to input vectors\n",
        "print(\"MNIST\")\n",
        "original_mnist_train_shape = x_mnist_train.shape\n",
        "original_mnist_test_shape = x_mnist_test.shape\n",
        "x_mnist_train = x_mnist_train.reshape(x_mnist_train.shape[0], x_mnist_train.shape[1]*x_mnist_train.shape[2])\n",
        "x_mnist_test = x_mnist_test.reshape(x_mnist_test.shape[0], x_mnist_test.shape[1]*x_mnist_test.shape[2])\n",
        "print(\"Reshaped training data from {0} to {1}\".format(original_mnist_train_shape, x_mnist_train.shape))\n",
        "print(\"Reshaped test data from {0} to {1}\".format(original_mnist_test_shape, x_mnist_test.shape))"
      ],
      "execution_count": 9,
      "outputs": [
        {
          "output_type": "stream",
          "text": [
            "MNIST\n",
            "Reshaped training data from (60000, 28, 28) to (60000, 784)\n",
            "Reshaped test data from (10000, 28, 28) to (10000, 784)\n"
          ],
          "name": "stdout"
        }
      ]
    },
    {
      "cell_type": "code",
      "metadata": {
        "colab": {
          "base_uri": "https://localhost:8080/"
        },
        "id": "evnIslVWHHmz",
        "outputId": "bc2a1fd9-f03b-4a1d-d80e-1139fb90470c"
      },
      "source": [
        "print(\"Fashion-MNIST\")\n",
        "original_train_shape = x_train.shape\n",
        "original_test_shape = x_test.shape\n",
        "x_train = x_train.reshape(x_train.shape[0], x_train.shape[1]*x_train.shape[2])\n",
        "x_test = x_test.reshape(x_test.shape[0], x_test.shape[1]*x_test.shape[2])\n",
        "print(\"Reshaped training data from {0} to {1}\".format(original_train_shape, x_train.shape))\n",
        "print(\"Reshaped test data from {0} to {1}\".format(original_test_shape, x_test.shape))"
      ],
      "execution_count": 10,
      "outputs": [
        {
          "output_type": "stream",
          "text": [
            "Fashion-MNIST\n",
            "Reshaped training data from (60000, 28, 28) to (60000, 784)\n",
            "Reshaped test data from (10000, 28, 28) to (10000, 784)\n"
          ],
          "name": "stdout"
        }
      ]
    },
    {
      "cell_type": "code",
      "metadata": {
        "colab": {
          "base_uri": "https://localhost:8080/"
        },
        "id": "6tDl4RApFFV2",
        "outputId": "ba0c1331-f687-4b02-bef4-b528586d4185"
      },
      "source": [
        "# rescale the input data into the range [0,1]\n",
        "max_grey_value = 255.0\n",
        "\n",
        "print(\"MNIST\")\n",
        "print(\"Max value in initial dataset (train/test):\", np.max(x_mnist_train), np.max(x_mnist_test))\n",
        "print(\"Min value in initial dataset (train/test):\", np.min(x_mnist_train), np.min(x_mnist_test))\n",
        "x_mnist_train = x_mnist_train / max_grey_value  \n",
        "x_mnist_test = x_mnist_test / max_grey_value \n",
        "print(\"Max value in rescaled dataset (train/test):\", np.max(x_mnist_train), np.max(x_mnist_test))\n",
        "print(\"Min value in rescaled dataset (train/test):\", np.min(x_mnist_train), np.min(x_mnist_test))"
      ],
      "execution_count": 11,
      "outputs": [
        {
          "output_type": "stream",
          "text": [
            "MNIST\n",
            "Max value in initial dataset (train/test): 255 255\n",
            "Min value in initial dataset (train/test): 0 0\n",
            "Max value in rescaled dataset (train/test): 1.0 1.0\n",
            "Min value in rescaled dataset (train/test): 0.0 0.0\n"
          ],
          "name": "stdout"
        }
      ]
    },
    {
      "cell_type": "code",
      "metadata": {
        "colab": {
          "base_uri": "https://localhost:8080/"
        },
        "id": "3xRmWrSuLyy5",
        "outputId": "375b1f5a-70f8-4c35-b03f-47d2db2a15a2"
      },
      "source": [
        "print(\"Fashion-MNIST\")\n",
        "print(\"Max value in initial dataset (train/test):\", np.max(x_train), np.max(x_test))\n",
        "print(\"Min value in initial dataset (train/test):\", np.min(x_train), np.min(x_test))\n",
        "x_train = x_train / max_grey_value  \n",
        "x_test = x_test / max_grey_value \n",
        "print(\"Max value in rescaled dataset (train/test):\", np.max(x_train), np.max(x_test))\n",
        "print(\"Min value in rescaled dataset (train/test):\", np.min(x_train), np.min(x_test))"
      ],
      "execution_count": 12,
      "outputs": [
        {
          "output_type": "stream",
          "text": [
            "Fashion-MNIST\n",
            "Max value in initial dataset (train/test): 255 255\n",
            "Min value in initial dataset (train/test): 0 0\n",
            "Max value in rescaled dataset (train/test): 1.0 1.0\n",
            "Min value in rescaled dataset (train/test): 0.0 0.0\n"
          ],
          "name": "stdout"
        }
      ]
    },
    {
      "cell_type": "markdown",
      "metadata": {
        "id": "7nWca9BqUmF3"
      },
      "source": [
        "## Exercise 2: No hidden layer (10 points)\n",
        "\n",
        "Define and fit a model without a hidden layer (since we will use multi-layer models later in this project, you can define a general constructor function for models with an arbitrary number of hidden layers already at this point). Note that in this miniproject there is no real test dataset and what is loaded as a test dataset is used for validation. First, implement 1.-3. for the MNIST dataset.  \n",
        "\n",
        "1. Implement the model with the following specifications: use the softmax activation for the output layer, use the categorical_crossentropy loss, choose stochastic gradient descent for the optimizer, and add the accuracy metric to the metrics. (5 pts)\n",
        "2. Train for as many epochs as needed to see no further decrease in the validation loss. (1 pt)\n",
        "3. Plot the learning curves resulting from the fitting procedure (a history object) using the function `plot_history` defined above. (1 pt)\n",
        "4. Repeat the above steps for fitting the network to the Fashion-MNIST dataset. (2 pts)\n",
        "5. Report the best validation accuracy achieved for each one of the datasets. Do you observe overfitting already for this simple model? Answer separetely for the MNIST dataset and Fashion-MNIST dataset. (1 pt) \n",
        "\n",
        "*Hint:* Read the keras docs, in particular [Getting started with the Keras Sequential model](https://keras.io/getting-started/sequential-model-guide/)."
      ]
    },
    {
      "cell_type": "markdown",
      "metadata": {
        "id": "o0om4_uXUmF5"
      },
      "source": [
        "**Answer to Question 5** (max 2 sentences): "
      ]
    },
    {
      "cell_type": "markdown",
      "metadata": {
        "id": "CgSYz8gAUmF5"
      },
      "source": [
        "### Solution"
      ]
    },
    {
      "cell_type": "markdown",
      "metadata": {
        "id": "E7vGd8ZORprP"
      },
      "source": [
        "2.1) Implement the model."
      ]
    },
    {
      "cell_type": "code",
      "metadata": {
        "id": "mDk_lRLPUmF5",
        "colab": {
          "base_uri": "https://localhost:8080/"
        },
        "outputId": "4c8b5cae-fbbe-4486-b827-beb9d53b6b06"
      },
      "source": [
        "# Get number of columns in training data\n",
        "input_dim_mnist = x_mnist_train.shape[1]\n",
        "\n",
        "# Get number of classes\n",
        "mnist_classes_nb = y_mnist_train_one_hot.shape[1]\n",
        "\n",
        "# Use Keras sequential model\n",
        "model = Sequential()\n",
        "model.add(Dense(mnist_classes_nb, activation='relu', input_shape=(input_dim_mnist,)))\n",
        "model.add(Dense(mnist_classes_nb, activation='softmax'))\n",
        "model.compile(optimizer='SGD', loss='categorical_crossentropy', metrics=[\"accuracy\"])\n",
        "model.summary()"
      ],
      "execution_count": 13,
      "outputs": [
        {
          "output_type": "stream",
          "text": [
            "Model: \"sequential\"\n",
            "_________________________________________________________________\n",
            "Layer (type)                 Output Shape              Param #   \n",
            "=================================================================\n",
            "dense (Dense)                (None, 10)                7850      \n",
            "_________________________________________________________________\n",
            "dense_1 (Dense)              (None, 10)                110       \n",
            "=================================================================\n",
            "Total params: 7,960\n",
            "Trainable params: 7,960\n",
            "Non-trainable params: 0\n",
            "_________________________________________________________________\n"
          ],
          "name": "stdout"
        }
      ]
    },
    {
      "cell_type": "markdown",
      "metadata": {
        "id": "fDsqMm-ETZqT"
      },
      "source": [
        "2.2) Train."
      ]
    },
    {
      "cell_type": "code",
      "metadata": {
        "colab": {
          "base_uri": "https://localhost:8080/"
        },
        "id": "enKDEfdkTQ68",
        "outputId": "06c7e6b9-39fe-4078-9558-c8a835f36621"
      },
      "source": [
        "from keras.callbacks import EarlyStopping\n",
        "from keras.callbacks import History\n",
        "\n",
        "epochs = 100\n",
        "stop_callback = EarlyStopping(monitor='val_loss', mode='min', verbose=1, patience=20)\n",
        "callbacks = [stop_callback]\n",
        "\n",
        "history = model.fit(x_mnist_train, y_mnist_train_one_hot, validation_data=(x_mnist_test, y_mnist_test_one_hot), epochs=epochs, callbacks=callbacks)"
      ],
      "execution_count": 14,
      "outputs": [
        {
          "output_type": "stream",
          "text": [
            "Epoch 1/100\n",
            "1875/1875 [==============================] - 3s 2ms/step - loss: 1.3995 - accuracy: 0.5545 - val_loss: 0.4968 - val_accuracy: 0.8622\n",
            "Epoch 2/100\n",
            "1875/1875 [==============================] - 2s 1ms/step - loss: 0.4821 - accuracy: 0.8634 - val_loss: 0.3864 - val_accuracy: 0.8875\n",
            "Epoch 3/100\n",
            "1875/1875 [==============================] - 2s 1ms/step - loss: 0.3914 - accuracy: 0.8879 - val_loss: 0.3434 - val_accuracy: 0.9015\n",
            "Epoch 4/100\n",
            "1875/1875 [==============================] - 2s 1ms/step - loss: 0.3484 - accuracy: 0.9013 - val_loss: 0.3242 - val_accuracy: 0.9057\n",
            "Epoch 5/100\n",
            "1875/1875 [==============================] - 2s 1ms/step - loss: 0.3245 - accuracy: 0.9060 - val_loss: 0.3068 - val_accuracy: 0.9124\n",
            "Epoch 6/100\n",
            "1875/1875 [==============================] - 2s 1ms/step - loss: 0.3071 - accuracy: 0.9115 - val_loss: 0.2940 - val_accuracy: 0.9158\n",
            "Epoch 7/100\n",
            "1875/1875 [==============================] - 2s 1ms/step - loss: 0.2955 - accuracy: 0.9160 - val_loss: 0.2852 - val_accuracy: 0.9191\n",
            "Epoch 8/100\n",
            "1875/1875 [==============================] - 2s 1ms/step - loss: 0.2835 - accuracy: 0.9177 - val_loss: 0.2773 - val_accuracy: 0.9192\n",
            "Epoch 9/100\n",
            "1875/1875 [==============================] - 2s 1ms/step - loss: 0.2828 - accuracy: 0.9192 - val_loss: 0.2719 - val_accuracy: 0.9241\n",
            "Epoch 10/100\n",
            "1875/1875 [==============================] - 2s 1ms/step - loss: 0.2699 - accuracy: 0.9229 - val_loss: 0.2708 - val_accuracy: 0.9223\n",
            "Epoch 11/100\n",
            "1875/1875 [==============================] - 2s 1ms/step - loss: 0.2634 - accuracy: 0.9247 - val_loss: 0.2602 - val_accuracy: 0.9253\n",
            "Epoch 12/100\n",
            "1875/1875 [==============================] - 2s 1ms/step - loss: 0.2598 - accuracy: 0.9260 - val_loss: 0.2536 - val_accuracy: 0.9281\n",
            "Epoch 13/100\n",
            "1875/1875 [==============================] - 2s 1ms/step - loss: 0.2480 - accuracy: 0.9296 - val_loss: 0.2508 - val_accuracy: 0.9283\n",
            "Epoch 14/100\n",
            "1875/1875 [==============================] - 2s 1ms/step - loss: 0.2450 - accuracy: 0.9309 - val_loss: 0.2512 - val_accuracy: 0.9288\n",
            "Epoch 15/100\n",
            "1875/1875 [==============================] - 2s 1ms/step - loss: 0.2456 - accuracy: 0.9305 - val_loss: 0.2438 - val_accuracy: 0.9306\n",
            "Epoch 16/100\n",
            "1875/1875 [==============================] - 2s 1ms/step - loss: 0.2364 - accuracy: 0.9319 - val_loss: 0.2429 - val_accuracy: 0.9321\n",
            "Epoch 17/100\n",
            "1875/1875 [==============================] - 2s 1ms/step - loss: 0.2403 - accuracy: 0.9320 - val_loss: 0.2373 - val_accuracy: 0.9334\n",
            "Epoch 18/100\n",
            "1875/1875 [==============================] - 2s 1ms/step - loss: 0.2374 - accuracy: 0.9315 - val_loss: 0.2356 - val_accuracy: 0.9343\n",
            "Epoch 19/100\n",
            "1875/1875 [==============================] - 2s 1ms/step - loss: 0.2347 - accuracy: 0.9333 - val_loss: 0.2336 - val_accuracy: 0.9338\n",
            "Epoch 20/100\n",
            "1875/1875 [==============================] - 2s 1ms/step - loss: 0.2249 - accuracy: 0.9347 - val_loss: 0.2322 - val_accuracy: 0.9342\n",
            "Epoch 21/100\n",
            "1875/1875 [==============================] - 2s 1ms/step - loss: 0.2271 - accuracy: 0.9357 - val_loss: 0.2316 - val_accuracy: 0.9339\n",
            "Epoch 22/100\n",
            "1875/1875 [==============================] - 2s 1ms/step - loss: 0.2243 - accuracy: 0.9367 - val_loss: 0.2282 - val_accuracy: 0.9358\n",
            "Epoch 23/100\n",
            "1875/1875 [==============================] - 2s 1ms/step - loss: 0.2243 - accuracy: 0.9362 - val_loss: 0.2276 - val_accuracy: 0.9341\n",
            "Epoch 24/100\n",
            "1875/1875 [==============================] - 2s 1ms/step - loss: 0.2197 - accuracy: 0.9367 - val_loss: 0.2258 - val_accuracy: 0.9354\n",
            "Epoch 25/100\n",
            "1875/1875 [==============================] - 2s 1ms/step - loss: 0.2167 - accuracy: 0.9371 - val_loss: 0.2256 - val_accuracy: 0.9352\n",
            "Epoch 26/100\n",
            "1875/1875 [==============================] - 2s 1ms/step - loss: 0.2163 - accuracy: 0.9382 - val_loss: 0.2231 - val_accuracy: 0.9364\n",
            "Epoch 27/100\n",
            "1875/1875 [==============================] - 2s 1ms/step - loss: 0.2197 - accuracy: 0.9378 - val_loss: 0.2223 - val_accuracy: 0.9365\n",
            "Epoch 28/100\n",
            "1875/1875 [==============================] - 2s 1ms/step - loss: 0.2166 - accuracy: 0.9384 - val_loss: 0.2221 - val_accuracy: 0.9360\n",
            "Epoch 29/100\n",
            "1875/1875 [==============================] - 2s 1ms/step - loss: 0.2049 - accuracy: 0.9416 - val_loss: 0.2214 - val_accuracy: 0.9377\n",
            "Epoch 30/100\n",
            "1875/1875 [==============================] - 2s 1ms/step - loss: 0.2094 - accuracy: 0.9402 - val_loss: 0.2213 - val_accuracy: 0.9364\n",
            "Epoch 31/100\n",
            "1875/1875 [==============================] - 2s 1ms/step - loss: 0.2068 - accuracy: 0.9397 - val_loss: 0.2191 - val_accuracy: 0.9369\n",
            "Epoch 32/100\n",
            "1875/1875 [==============================] - 2s 1ms/step - loss: 0.2098 - accuracy: 0.9406 - val_loss: 0.2206 - val_accuracy: 0.9374\n",
            "Epoch 33/100\n",
            "1875/1875 [==============================] - 2s 1ms/step - loss: 0.2068 - accuracy: 0.9420 - val_loss: 0.2185 - val_accuracy: 0.9374\n",
            "Epoch 34/100\n",
            "1875/1875 [==============================] - 2s 1ms/step - loss: 0.2106 - accuracy: 0.9406 - val_loss: 0.2182 - val_accuracy: 0.9394\n",
            "Epoch 35/100\n",
            "1875/1875 [==============================] - 2s 1ms/step - loss: 0.2043 - accuracy: 0.9417 - val_loss: 0.2162 - val_accuracy: 0.9382\n",
            "Epoch 36/100\n",
            "1875/1875 [==============================] - 2s 1ms/step - loss: 0.2039 - accuracy: 0.9401 - val_loss: 0.2159 - val_accuracy: 0.9387\n",
            "Epoch 37/100\n",
            "1875/1875 [==============================] - 2s 1ms/step - loss: 0.2067 - accuracy: 0.9424 - val_loss: 0.2166 - val_accuracy: 0.9393\n",
            "Epoch 38/100\n",
            "1875/1875 [==============================] - 2s 1ms/step - loss: 0.2025 - accuracy: 0.9422 - val_loss: 0.2168 - val_accuracy: 0.9386\n",
            "Epoch 39/100\n",
            "1875/1875 [==============================] - 2s 1ms/step - loss: 0.2007 - accuracy: 0.9437 - val_loss: 0.2151 - val_accuracy: 0.9395\n",
            "Epoch 40/100\n",
            "1875/1875 [==============================] - 2s 1ms/step - loss: 0.1952 - accuracy: 0.9448 - val_loss: 0.2139 - val_accuracy: 0.9392\n",
            "Epoch 41/100\n",
            "1875/1875 [==============================] - 2s 1ms/step - loss: 0.2058 - accuracy: 0.9422 - val_loss: 0.2148 - val_accuracy: 0.9388\n",
            "Epoch 42/100\n",
            "1875/1875 [==============================] - 2s 1ms/step - loss: 0.1951 - accuracy: 0.9447 - val_loss: 0.2161 - val_accuracy: 0.9388\n",
            "Epoch 43/100\n",
            "1875/1875 [==============================] - 2s 1ms/step - loss: 0.2048 - accuracy: 0.9441 - val_loss: 0.2126 - val_accuracy: 0.9395\n",
            "Epoch 44/100\n",
            "1875/1875 [==============================] - 2s 1ms/step - loss: 0.1936 - accuracy: 0.9460 - val_loss: 0.2135 - val_accuracy: 0.9407\n",
            "Epoch 45/100\n",
            "1875/1875 [==============================] - 2s 1ms/step - loss: 0.1956 - accuracy: 0.9457 - val_loss: 0.2169 - val_accuracy: 0.9371\n",
            "Epoch 46/100\n",
            "1875/1875 [==============================] - 2s 1ms/step - loss: 0.1966 - accuracy: 0.9440 - val_loss: 0.2140 - val_accuracy: 0.9397\n",
            "Epoch 47/100\n",
            "1875/1875 [==============================] - 2s 1ms/step - loss: 0.1963 - accuracy: 0.9457 - val_loss: 0.2136 - val_accuracy: 0.9382\n",
            "Epoch 48/100\n",
            "1875/1875 [==============================] - 2s 1ms/step - loss: 0.1974 - accuracy: 0.9439 - val_loss: 0.2122 - val_accuracy: 0.9400\n",
            "Epoch 49/100\n",
            "1875/1875 [==============================] - 2s 1ms/step - loss: 0.1925 - accuracy: 0.9453 - val_loss: 0.2101 - val_accuracy: 0.9394\n",
            "Epoch 50/100\n",
            "1875/1875 [==============================] - 2s 1ms/step - loss: 0.1952 - accuracy: 0.9454 - val_loss: 0.2108 - val_accuracy: 0.9387\n",
            "Epoch 51/100\n",
            "1875/1875 [==============================] - 2s 1ms/step - loss: 0.1897 - accuracy: 0.9475 - val_loss: 0.2091 - val_accuracy: 0.9395\n",
            "Epoch 52/100\n",
            "1875/1875 [==============================] - 2s 1ms/step - loss: 0.1957 - accuracy: 0.9450 - val_loss: 0.2113 - val_accuracy: 0.9388\n",
            "Epoch 53/100\n",
            "1875/1875 [==============================] - 2s 1ms/step - loss: 0.1971 - accuracy: 0.9456 - val_loss: 0.2087 - val_accuracy: 0.9392\n",
            "Epoch 54/100\n",
            "1875/1875 [==============================] - 2s 1ms/step - loss: 0.1863 - accuracy: 0.9475 - val_loss: 0.2111 - val_accuracy: 0.9388\n",
            "Epoch 55/100\n",
            "1875/1875 [==============================] - 2s 1ms/step - loss: 0.1854 - accuracy: 0.9467 - val_loss: 0.2102 - val_accuracy: 0.9400\n",
            "Epoch 56/100\n",
            "1875/1875 [==============================] - 2s 1ms/step - loss: 0.1861 - accuracy: 0.9479 - val_loss: 0.2130 - val_accuracy: 0.9380\n",
            "Epoch 57/100\n",
            "1875/1875 [==============================] - 2s 1ms/step - loss: 0.1902 - accuracy: 0.9467 - val_loss: 0.2091 - val_accuracy: 0.9388\n",
            "Epoch 58/100\n",
            "1875/1875 [==============================] - 2s 1ms/step - loss: 0.1874 - accuracy: 0.9462 - val_loss: 0.2081 - val_accuracy: 0.9407\n",
            "Epoch 59/100\n",
            "1875/1875 [==============================] - 2s 1ms/step - loss: 0.1896 - accuracy: 0.9467 - val_loss: 0.2083 - val_accuracy: 0.9385\n",
            "Epoch 60/100\n",
            "1875/1875 [==============================] - 2s 1ms/step - loss: 0.1858 - accuracy: 0.9478 - val_loss: 0.2083 - val_accuracy: 0.9400\n",
            "Epoch 61/100\n",
            "1875/1875 [==============================] - 2s 1ms/step - loss: 0.1898 - accuracy: 0.9477 - val_loss: 0.2077 - val_accuracy: 0.9395\n",
            "Epoch 62/100\n",
            "1875/1875 [==============================] - 2s 1ms/step - loss: 0.1827 - accuracy: 0.9474 - val_loss: 0.2096 - val_accuracy: 0.9398\n",
            "Epoch 63/100\n",
            "1875/1875 [==============================] - 2s 1ms/step - loss: 0.1873 - accuracy: 0.9468 - val_loss: 0.2104 - val_accuracy: 0.9396\n",
            "Epoch 64/100\n",
            "1875/1875 [==============================] - 2s 1ms/step - loss: 0.1881 - accuracy: 0.9472 - val_loss: 0.2102 - val_accuracy: 0.9382\n",
            "Epoch 65/100\n",
            "1875/1875 [==============================] - 2s 1ms/step - loss: 0.1863 - accuracy: 0.9489 - val_loss: 0.2080 - val_accuracy: 0.9392\n",
            "Epoch 66/100\n",
            "1875/1875 [==============================] - 2s 1ms/step - loss: 0.1786 - accuracy: 0.9489 - val_loss: 0.2126 - val_accuracy: 0.9399\n",
            "Epoch 67/100\n",
            "1875/1875 [==============================] - 2s 1ms/step - loss: 0.1829 - accuracy: 0.9490 - val_loss: 0.2056 - val_accuracy: 0.9414\n",
            "Epoch 68/100\n",
            "1875/1875 [==============================] - 2s 1ms/step - loss: 0.1831 - accuracy: 0.9484 - val_loss: 0.2064 - val_accuracy: 0.9396\n",
            "Epoch 69/100\n",
            "1875/1875 [==============================] - 2s 1ms/step - loss: 0.1819 - accuracy: 0.9496 - val_loss: 0.2087 - val_accuracy: 0.9396\n",
            "Epoch 70/100\n",
            "1875/1875 [==============================] - 2s 1ms/step - loss: 0.1774 - accuracy: 0.9506 - val_loss: 0.2051 - val_accuracy: 0.9411\n",
            "Epoch 71/100\n",
            "1875/1875 [==============================] - 2s 1ms/step - loss: 0.1785 - accuracy: 0.9493 - val_loss: 0.2089 - val_accuracy: 0.9408\n",
            "Epoch 72/100\n",
            "1875/1875 [==============================] - 2s 1ms/step - loss: 0.1848 - accuracy: 0.9487 - val_loss: 0.2089 - val_accuracy: 0.9410\n",
            "Epoch 73/100\n",
            "1875/1875 [==============================] - 2s 1ms/step - loss: 0.1819 - accuracy: 0.9498 - val_loss: 0.2066 - val_accuracy: 0.9390\n",
            "Epoch 74/100\n",
            "1875/1875 [==============================] - 2s 1ms/step - loss: 0.1800 - accuracy: 0.9492 - val_loss: 0.2067 - val_accuracy: 0.9414\n",
            "Epoch 75/100\n",
            "1875/1875 [==============================] - 2s 1ms/step - loss: 0.1837 - accuracy: 0.9474 - val_loss: 0.2054 - val_accuracy: 0.9410\n",
            "Epoch 76/100\n",
            "1875/1875 [==============================] - 2s 1ms/step - loss: 0.1783 - accuracy: 0.9488 - val_loss: 0.2084 - val_accuracy: 0.9398\n",
            "Epoch 77/100\n",
            "1875/1875 [==============================] - 2s 1ms/step - loss: 0.1804 - accuracy: 0.9496 - val_loss: 0.2039 - val_accuracy: 0.9417\n",
            "Epoch 78/100\n",
            "1875/1875 [==============================] - 2s 1ms/step - loss: 0.1793 - accuracy: 0.9503 - val_loss: 0.2048 - val_accuracy: 0.9410\n",
            "Epoch 79/100\n",
            "1875/1875 [==============================] - 2s 1ms/step - loss: 0.1772 - accuracy: 0.9503 - val_loss: 0.2064 - val_accuracy: 0.9422\n",
            "Epoch 80/100\n",
            "1875/1875 [==============================] - 2s 1ms/step - loss: 0.1760 - accuracy: 0.9492 - val_loss: 0.2072 - val_accuracy: 0.9398\n",
            "Epoch 81/100\n",
            "1875/1875 [==============================] - 2s 1ms/step - loss: 0.1820 - accuracy: 0.9492 - val_loss: 0.2040 - val_accuracy: 0.9417\n",
            "Epoch 82/100\n",
            "1875/1875 [==============================] - 2s 1ms/step - loss: 0.1807 - accuracy: 0.9498 - val_loss: 0.2038 - val_accuracy: 0.9403\n",
            "Epoch 83/100\n",
            "1875/1875 [==============================] - 2s 1ms/step - loss: 0.1762 - accuracy: 0.9491 - val_loss: 0.2048 - val_accuracy: 0.9407\n",
            "Epoch 84/100\n",
            "1875/1875 [==============================] - 2s 1ms/step - loss: 0.1802 - accuracy: 0.9486 - val_loss: 0.2049 - val_accuracy: 0.9416\n",
            "Epoch 85/100\n",
            "1875/1875 [==============================] - 2s 1ms/step - loss: 0.1787 - accuracy: 0.9496 - val_loss: 0.2031 - val_accuracy: 0.9410\n",
            "Epoch 86/100\n",
            "1875/1875 [==============================] - 2s 1ms/step - loss: 0.1739 - accuracy: 0.9505 - val_loss: 0.2051 - val_accuracy: 0.9404\n",
            "Epoch 87/100\n",
            "1875/1875 [==============================] - 2s 1ms/step - loss: 0.1752 - accuracy: 0.9493 - val_loss: 0.2041 - val_accuracy: 0.9424\n",
            "Epoch 88/100\n",
            "1875/1875 [==============================] - 2s 1ms/step - loss: 0.1767 - accuracy: 0.9498 - val_loss: 0.2055 - val_accuracy: 0.9408\n",
            "Epoch 89/100\n",
            "1875/1875 [==============================] - 2s 1ms/step - loss: 0.1737 - accuracy: 0.9509 - val_loss: 0.2047 - val_accuracy: 0.9414\n",
            "Epoch 90/100\n",
            "1875/1875 [==============================] - 2s 1ms/step - loss: 0.1790 - accuracy: 0.9490 - val_loss: 0.2041 - val_accuracy: 0.9406\n",
            "Epoch 91/100\n",
            "1875/1875 [==============================] - 2s 1ms/step - loss: 0.1757 - accuracy: 0.9509 - val_loss: 0.2028 - val_accuracy: 0.9427\n",
            "Epoch 92/100\n",
            "1875/1875 [==============================] - 2s 1ms/step - loss: 0.1754 - accuracy: 0.9510 - val_loss: 0.2064 - val_accuracy: 0.9411\n",
            "Epoch 93/100\n",
            "1875/1875 [==============================] - 2s 1ms/step - loss: 0.1737 - accuracy: 0.9496 - val_loss: 0.2056 - val_accuracy: 0.9406\n",
            "Epoch 94/100\n",
            "1875/1875 [==============================] - 2s 1ms/step - loss: 0.1708 - accuracy: 0.9505 - val_loss: 0.2030 - val_accuracy: 0.9417\n",
            "Epoch 95/100\n",
            "1875/1875 [==============================] - 2s 1ms/step - loss: 0.1771 - accuracy: 0.9508 - val_loss: 0.2040 - val_accuracy: 0.9407\n",
            "Epoch 96/100\n",
            "1875/1875 [==============================] - 2s 1ms/step - loss: 0.1755 - accuracy: 0.9495 - val_loss: 0.2053 - val_accuracy: 0.9414\n",
            "Epoch 97/100\n",
            "1875/1875 [==============================] - 2s 1ms/step - loss: 0.1757 - accuracy: 0.9506 - val_loss: 0.2039 - val_accuracy: 0.9423\n",
            "Epoch 98/100\n",
            "1875/1875 [==============================] - 2s 1ms/step - loss: 0.1783 - accuracy: 0.9487 - val_loss: 0.2026 - val_accuracy: 0.9420\n",
            "Epoch 99/100\n",
            "1875/1875 [==============================] - 2s 1ms/step - loss: 0.1744 - accuracy: 0.9507 - val_loss: 0.2040 - val_accuracy: 0.9411\n",
            "Epoch 100/100\n",
            "1875/1875 [==============================] - 2s 1ms/step - loss: 0.1716 - accuracy: 0.9507 - val_loss: 0.2040 - val_accuracy: 0.9429\n"
          ],
          "name": "stdout"
        }
      ]
    },
    {
      "cell_type": "markdown",
      "metadata": {
        "id": "B6jIRPNeLR9X"
      },
      "source": [
        "2.3) Plot."
      ]
    },
    {
      "cell_type": "code",
      "metadata": {
        "colab": {
          "base_uri": "https://localhost:8080/",
          "height": 302
        },
        "id": "VVP8kpKlJgmi",
        "outputId": "7a0978c1-fa0b-458d-e981-6bbacd3839a3"
      },
      "source": [
        "plot_history(history, \"MNIST learning with no Hidden Layer \");"
      ],
      "execution_count": 15,
      "outputs": [
        {
          "output_type": "display_data",
          "data": {
            "image/png": "[encoded data removed]",
            "text/plain": [
              "<Figure size 432x288 with 2 Axes>"
            ]
          },
          "metadata": {
            "tags": [],
            "needs_background": "light"
          }
        }
      ]
    },
    {
      "cell_type": "markdown",
      "metadata": {
        "id": "jANnS4HqMROF"
      },
      "source": [
        "2.4) Repeat with the Fashion-MNIST dataset."
      ]
    },
    {
      "cell_type": "markdown",
      "metadata": {
        "id": "r-462WwtuG84"
      },
      "source": [
        ""
      ]
    },
    {
      "cell_type": "code",
      "metadata": {
        "colab": {
          "base_uri": "https://localhost:8080/"
        },
        "id": "0JDkahYwaYBg",
        "outputId": "edcfba5b-ff1f-4a60-a2be-f8965477ab85"
      },
      "source": [
        "y_train_one_hot[1]"
      ],
      "execution_count": 16,
      "outputs": [
        {
          "output_type": "execute_result",
          "data": {
            "text/plain": [
              "array([1., 0., 0., 0., 0., 0., 0., 0., 0., 0.], dtype=float32)"
            ]
          },
          "metadata": {
            "tags": []
          },
          "execution_count": 16
        }
      ]
    },
    {
      "cell_type": "code",
      "metadata": {
        "colab": {
          "base_uri": "https://localhost:8080/"
        },
        "id": "zeS99WhhMW_-",
        "outputId": "ac242249-9a75-4fa8-850b-2e2d19d90584"
      },
      "source": [
        "# Get number of columns in training data\n",
        "input_dim_fashion = x_train.shape[1]\n",
        "\n",
        "# Get number of classes\n",
        "fashion_classes_nb = y_train_one_hot.shape[1]\n",
        "\n",
        "# Use Keras sequential model\n",
        "model = Sequential()\n",
        "model.add(Dense(fashion_classes_nb, activation='relu', input_shape=(input_dim_fashion,)))\n",
        "model.add(Dense(fashion_classes_nb, activation='softmax'))\n",
        "model.compile(optimizer='SGD', loss='categorical_crossentropy', metrics=[\"accuracy\"])\n",
        "model.summary()\n",
        "\n",
        "history = model.fit(x_train, y_train_one_hot, validation_data=(x_test, y_test_one_hot), epochs=epochs, callbacks=callbacks)"
      ],
      "execution_count": 17,
      "outputs": [
        {
          "output_type": "stream",
          "text": [
            "Model: \"sequential_1\"\n",
            "_________________________________________________________________\n",
            "Layer (type)                 Output Shape              Param #   \n",
            "=================================================================\n",
            "dense_2 (Dense)              (None, 10)                7850      \n",
            "_________________________________________________________________\n",
            "dense_3 (Dense)              (None, 10)                110       \n",
            "=================================================================\n",
            "Total params: 7,960\n",
            "Trainable params: 7,960\n",
            "Non-trainable params: 0\n",
            "_________________________________________________________________\n",
            "Epoch 1/100\n",
            "1875/1875 [==============================] - 3s 1ms/step - loss: 1.3866 - accuracy: 0.5195 - val_loss: 0.6494 - val_accuracy: 0.7734\n",
            "Epoch 2/100\n",
            "1875/1875 [==============================] - 2s 1ms/step - loss: 0.5986 - accuracy: 0.7960 - val_loss: 0.5544 - val_accuracy: 0.8078\n",
            "Epoch 3/100\n",
            "1875/1875 [==============================] - 2s 1ms/step - loss: 0.5212 - accuracy: 0.8203 - val_loss: 0.5255 - val_accuracy: 0.8155\n",
            "Epoch 4/100\n",
            "1875/1875 [==============================] - 2s 1ms/step - loss: 0.4862 - accuracy: 0.8334 - val_loss: 0.5072 - val_accuracy: 0.8173\n",
            "Epoch 5/100\n",
            "1875/1875 [==============================] - 2s 1ms/step - loss: 0.4617 - accuracy: 0.8403 - val_loss: 0.4849 - val_accuracy: 0.8283\n",
            "Epoch 6/100\n",
            "1875/1875 [==============================] - 2s 1ms/step - loss: 0.4616 - accuracy: 0.8383 - val_loss: 0.4769 - val_accuracy: 0.8342\n",
            "Epoch 7/100\n",
            "1875/1875 [==============================] - 2s 1ms/step - loss: 0.4491 - accuracy: 0.8420 - val_loss: 0.4848 - val_accuracy: 0.8271\n",
            "Epoch 8/100\n",
            "1875/1875 [==============================] - 2s 1ms/step - loss: 0.4323 - accuracy: 0.8510 - val_loss: 0.4650 - val_accuracy: 0.8376\n",
            "Epoch 9/100\n",
            "1875/1875 [==============================] - 2s 1ms/step - loss: 0.4284 - accuracy: 0.8495 - val_loss: 0.4680 - val_accuracy: 0.8359\n",
            "Epoch 10/100\n",
            "1875/1875 [==============================] - 2s 1ms/step - loss: 0.4256 - accuracy: 0.8520 - val_loss: 0.4648 - val_accuracy: 0.8387\n",
            "Epoch 11/100\n",
            "1875/1875 [==============================] - 2s 1ms/step - loss: 0.4191 - accuracy: 0.8508 - val_loss: 0.4668 - val_accuracy: 0.8311\n",
            "Epoch 12/100\n",
            "1875/1875 [==============================] - 2s 1ms/step - loss: 0.4149 - accuracy: 0.8544 - val_loss: 0.4525 - val_accuracy: 0.8416\n",
            "Epoch 13/100\n",
            "1875/1875 [==============================] - 2s 1ms/step - loss: 0.4170 - accuracy: 0.8557 - val_loss: 0.4639 - val_accuracy: 0.8352\n",
            "Epoch 14/100\n",
            "1875/1875 [==============================] - 2s 1ms/step - loss: 0.4121 - accuracy: 0.8554 - val_loss: 0.4574 - val_accuracy: 0.8412\n",
            "Epoch 15/100\n",
            "1875/1875 [==============================] - 2s 1ms/step - loss: 0.4062 - accuracy: 0.8572 - val_loss: 0.4597 - val_accuracy: 0.8349\n",
            "Epoch 16/100\n",
            "1875/1875 [==============================] - 2s 1ms/step - loss: 0.4114 - accuracy: 0.8556 - val_loss: 0.4469 - val_accuracy: 0.8407\n",
            "Epoch 17/100\n",
            "1875/1875 [==============================] - 2s 1ms/step - loss: 0.4028 - accuracy: 0.8580 - val_loss: 0.4428 - val_accuracy: 0.8417\n",
            "Epoch 18/100\n",
            "1875/1875 [==============================] - 2s 1ms/step - loss: 0.4031 - accuracy: 0.8597 - val_loss: 0.4407 - val_accuracy: 0.8445\n",
            "Epoch 19/100\n",
            "1875/1875 [==============================] - 2s 1ms/step - loss: 0.4021 - accuracy: 0.8585 - val_loss: 0.4428 - val_accuracy: 0.8449\n",
            "Epoch 20/100\n",
            "1875/1875 [==============================] - 2s 1ms/step - loss: 0.3943 - accuracy: 0.8603 - val_loss: 0.4434 - val_accuracy: 0.8443\n",
            "Epoch 21/100\n",
            "1875/1875 [==============================] - 2s 1ms/step - loss: 0.3932 - accuracy: 0.8620 - val_loss: 0.4514 - val_accuracy: 0.8387\n",
            "Epoch 22/100\n",
            "1875/1875 [==============================] - 2s 1ms/step - loss: 0.3937 - accuracy: 0.8626 - val_loss: 0.4431 - val_accuracy: 0.8413\n",
            "Epoch 23/100\n",
            "1875/1875 [==============================] - 2s 1ms/step - loss: 0.3911 - accuracy: 0.8620 - val_loss: 0.4355 - val_accuracy: 0.8443\n",
            "Epoch 24/100\n",
            "1875/1875 [==============================] - 2s 1ms/step - loss: 0.3984 - accuracy: 0.8607 - val_loss: 0.4443 - val_accuracy: 0.8418\n",
            "Epoch 25/100\n",
            "1875/1875 [==============================] - 2s 1ms/step - loss: 0.3864 - accuracy: 0.8658 - val_loss: 0.4422 - val_accuracy: 0.8446\n",
            "Epoch 26/100\n",
            "1875/1875 [==============================] - 2s 1ms/step - loss: 0.3963 - accuracy: 0.8617 - val_loss: 0.4442 - val_accuracy: 0.8439\n",
            "Epoch 27/100\n",
            "1875/1875 [==============================] - 2s 1ms/step - loss: 0.3879 - accuracy: 0.8636 - val_loss: 0.4352 - val_accuracy: 0.8450\n",
            "Epoch 28/100\n",
            "1875/1875 [==============================] - 2s 1ms/step - loss: 0.3842 - accuracy: 0.8662 - val_loss: 0.4402 - val_accuracy: 0.8432\n",
            "Epoch 29/100\n",
            "1875/1875 [==============================] - 2s 1ms/step - loss: 0.3811 - accuracy: 0.8659 - val_loss: 0.4362 - val_accuracy: 0.8431\n",
            "Epoch 30/100\n",
            "1875/1875 [==============================] - 2s 1ms/step - loss: 0.3798 - accuracy: 0.8635 - val_loss: 0.4383 - val_accuracy: 0.8458\n",
            "Epoch 31/100\n",
            "1875/1875 [==============================] - 2s 1ms/step - loss: 0.3842 - accuracy: 0.8637 - val_loss: 0.4365 - val_accuracy: 0.8438\n",
            "Epoch 32/100\n",
            "1875/1875 [==============================] - 2s 1ms/step - loss: 0.3842 - accuracy: 0.8651 - val_loss: 0.4312 - val_accuracy: 0.8483\n",
            "Epoch 33/100\n",
            "1875/1875 [==============================] - 2s 1ms/step - loss: 0.3800 - accuracy: 0.8665 - val_loss: 0.4344 - val_accuracy: 0.8473\n",
            "Epoch 34/100\n",
            "1875/1875 [==============================] - 2s 1ms/step - loss: 0.3846 - accuracy: 0.8642 - val_loss: 0.4305 - val_accuracy: 0.8476\n",
            "Epoch 35/100\n",
            "1875/1875 [==============================] - 2s 1ms/step - loss: 0.3736 - accuracy: 0.8681 - val_loss: 0.4390 - val_accuracy: 0.8456\n",
            "Epoch 36/100\n",
            "1875/1875 [==============================] - 2s 1ms/step - loss: 0.3788 - accuracy: 0.8662 - val_loss: 0.4280 - val_accuracy: 0.8495\n",
            "Epoch 37/100\n",
            "1875/1875 [==============================] - 2s 1ms/step - loss: 0.3787 - accuracy: 0.8655 - val_loss: 0.4323 - val_accuracy: 0.8449\n",
            "Epoch 38/100\n",
            "1875/1875 [==============================] - 2s 1ms/step - loss: 0.3802 - accuracy: 0.8669 - val_loss: 0.4300 - val_accuracy: 0.8466\n",
            "Epoch 39/100\n",
            "1875/1875 [==============================] - 2s 1ms/step - loss: 0.3734 - accuracy: 0.8683 - val_loss: 0.4281 - val_accuracy: 0.8497\n",
            "Epoch 40/100\n",
            "1875/1875 [==============================] - 2s 1ms/step - loss: 0.3729 - accuracy: 0.8695 - val_loss: 0.4354 - val_accuracy: 0.8434\n",
            "Epoch 41/100\n",
            "1875/1875 [==============================] - 2s 1ms/step - loss: 0.3718 - accuracy: 0.8678 - val_loss: 0.4362 - val_accuracy: 0.8467\n",
            "Epoch 42/100\n",
            "1875/1875 [==============================] - 2s 1ms/step - loss: 0.3755 - accuracy: 0.8684 - val_loss: 0.4485 - val_accuracy: 0.8415\n",
            "Epoch 43/100\n",
            "1875/1875 [==============================] - 2s 1ms/step - loss: 0.3698 - accuracy: 0.8696 - val_loss: 0.4469 - val_accuracy: 0.8404\n",
            "Epoch 44/100\n",
            "1875/1875 [==============================] - 2s 1ms/step - loss: 0.3730 - accuracy: 0.8688 - val_loss: 0.4300 - val_accuracy: 0.8494\n",
            "Epoch 45/100\n",
            "1875/1875 [==============================] - 2s 1ms/step - loss: 0.3742 - accuracy: 0.8682 - val_loss: 0.4482 - val_accuracy: 0.8425\n",
            "Epoch 46/100\n",
            "1875/1875 [==============================] - 2s 1ms/step - loss: 0.3763 - accuracy: 0.8694 - val_loss: 0.4344 - val_accuracy: 0.8490\n",
            "Epoch 47/100\n",
            "1875/1875 [==============================] - 2s 1ms/step - loss: 0.3657 - accuracy: 0.8709 - val_loss: 0.4321 - val_accuracy: 0.8497\n",
            "Epoch 48/100\n",
            "1875/1875 [==============================] - 2s 1ms/step - loss: 0.3755 - accuracy: 0.8668 - val_loss: 0.4333 - val_accuracy: 0.8486\n",
            "Epoch 49/100\n",
            "1875/1875 [==============================] - 2s 1ms/step - loss: 0.3701 - accuracy: 0.8689 - val_loss: 0.4726 - val_accuracy: 0.8365\n",
            "Epoch 50/100\n",
            "1875/1875 [==============================] - 2s 1ms/step - loss: 0.3653 - accuracy: 0.8709 - val_loss: 0.4264 - val_accuracy: 0.8489\n",
            "Epoch 51/100\n",
            "1875/1875 [==============================] - 2s 1ms/step - loss: 0.3694 - accuracy: 0.8689 - val_loss: 0.4307 - val_accuracy: 0.8474\n",
            "Epoch 52/100\n",
            "1875/1875 [==============================] - 2s 1ms/step - loss: 0.3692 - accuracy: 0.8705 - val_loss: 0.4407 - val_accuracy: 0.8435\n",
            "Epoch 53/100\n",
            "1875/1875 [==============================] - 2s 1ms/step - loss: 0.3680 - accuracy: 0.8722 - val_loss: 0.4496 - val_accuracy: 0.8422\n",
            "Epoch 54/100\n",
            "1875/1875 [==============================] - 2s 1ms/step - loss: 0.3648 - accuracy: 0.8712 - val_loss: 0.4343 - val_accuracy: 0.8467\n",
            "Epoch 55/100\n",
            "1875/1875 [==============================] - 2s 1ms/step - loss: 0.3611 - accuracy: 0.8731 - val_loss: 0.4407 - val_accuracy: 0.8461\n",
            "Epoch 56/100\n",
            "1875/1875 [==============================] - 2s 1ms/step - loss: 0.3696 - accuracy: 0.8689 - val_loss: 0.4288 - val_accuracy: 0.8488\n",
            "Epoch 57/100\n",
            "1875/1875 [==============================] - 2s 1ms/step - loss: 0.3663 - accuracy: 0.8715 - val_loss: 0.4359 - val_accuracy: 0.8469\n",
            "Epoch 58/100\n",
            "1875/1875 [==============================] - 2s 1ms/step - loss: 0.3664 - accuracy: 0.8716 - val_loss: 0.4301 - val_accuracy: 0.8487\n",
            "Epoch 59/100\n",
            "1875/1875 [==============================] - 2s 1ms/step - loss: 0.3649 - accuracy: 0.8726 - val_loss: 0.4330 - val_accuracy: 0.8484\n",
            "Epoch 60/100\n",
            "1875/1875 [==============================] - 2s 1ms/step - loss: 0.3634 - accuracy: 0.8718 - val_loss: 0.4293 - val_accuracy: 0.8484\n",
            "Epoch 61/100\n",
            "1875/1875 [==============================] - 2s 1ms/step - loss: 0.3581 - accuracy: 0.8736 - val_loss: 0.4357 - val_accuracy: 0.8471\n",
            "Epoch 62/100\n",
            "1875/1875 [==============================] - 2s 1ms/step - loss: 0.3711 - accuracy: 0.8695 - val_loss: 0.4316 - val_accuracy: 0.8493\n",
            "Epoch 63/100\n",
            "1875/1875 [==============================] - 2s 1ms/step - loss: 0.3644 - accuracy: 0.8702 - val_loss: 0.4268 - val_accuracy: 0.8489\n",
            "Epoch 64/100\n",
            "1875/1875 [==============================] - 2s 1ms/step - loss: 0.3654 - accuracy: 0.8705 - val_loss: 0.4352 - val_accuracy: 0.8492\n",
            "Epoch 65/100\n",
            "1875/1875 [==============================] - 2s 1ms/step - loss: 0.3611 - accuracy: 0.8713 - val_loss: 0.4350 - val_accuracy: 0.8455\n",
            "Epoch 66/100\n",
            "1875/1875 [==============================] - 2s 1ms/step - loss: 0.3610 - accuracy: 0.8715 - val_loss: 0.4353 - val_accuracy: 0.8468\n",
            "Epoch 67/100\n",
            "1875/1875 [==============================] - 2s 1ms/step - loss: 0.3610 - accuracy: 0.8721 - val_loss: 0.4674 - val_accuracy: 0.8290\n",
            "Epoch 68/100\n",
            "1875/1875 [==============================] - 2s 1ms/step - loss: 0.3591 - accuracy: 0.8736 - val_loss: 0.4317 - val_accuracy: 0.8492\n",
            "Epoch 69/100\n",
            "1875/1875 [==============================] - 2s 1ms/step - loss: 0.3569 - accuracy: 0.8731 - val_loss: 0.4302 - val_accuracy: 0.8484\n",
            "Epoch 70/100\n",
            "1875/1875 [==============================] - 2s 1ms/step - loss: 0.3594 - accuracy: 0.8729 - val_loss: 0.4282 - val_accuracy: 0.8481\n",
            "Epoch 00070: early stopping\n"
          ],
          "name": "stdout"
        }
      ]
    },
    {
      "cell_type": "code",
      "metadata": {
        "colab": {
          "base_uri": "https://localhost:8080/",
          "height": 302
        },
        "id": "TYnfImWfNT9o",
        "outputId": "b0988501-e89e-40d1-d941-ba121d15523b"
      },
      "source": [
        "plot_history(history, \"Fashion-MNIST learning with no Hidden Layer \");"
      ],
      "execution_count": 18,
      "outputs": [
        {
          "output_type": "display_data",
          "data": {
            "image/png": "[encoded data removed]",
            "text/plain": [
              "<Figure size 432x288 with 2 Axes>"
            ]
          },
          "metadata": {
            "tags": [],
            "needs_background": "light"
          }
        }
      ]
    },
    {
      "cell_type": "markdown",
      "metadata": {
        "id": "WvUjwawMNfS9"
      },
      "source": [
        "We see that the improvement of the validation accuracy levels out around 75 epochs."
      ]
    },
    {
      "cell_type": "markdown",
      "metadata": {
        "id": "1dX2CxT_lzNX"
      },
      "source": [
        "2.5) Overfitting?"
      ]
    },
    {
      "cell_type": "markdown",
      "metadata": {
        "id": "_DjnzuDyl5Sh"
      },
      "source": [
        "MNIST:\n",
        "\n",
        "We see that the improvement of the validation accuracy levels out around 20 epochs.\n",
        "\n",
        "If overfitting, we should see the test lost stopping to decrease (i.e. increasing). Furthermore, since there is a lot of training data for a models with only 7960 parameters it is unlikely that the model is overfitting."
      ]
    },
    {
      "cell_type": "markdown",
      "metadata": {
        "id": "w2-SW0u4t3rp"
      },
      "source": [
        "Fashion-MNIST:\n",
        "\n",
        "We see that the improvement of the validation accuracy levels out around 75 epochs.\n",
        "\n",
        "Same interpretation than MNIST regarding overfitting, even more Fashion-MNIST has been introduced as beeing \"harder\"."
      ]
    },
    {
      "cell_type": "markdown",
      "metadata": {
        "id": "93JrKMECUmF5"
      },
      "source": [
        "## Exercise 3: One hidden layer, different optimizers (10 points)\n",
        "\n",
        "Train a network with one hidden layer and compare different optimizers for the MNIST dataset.\n",
        "\n",
        "1. Use one hidden layer with 128 units and the 'relu' activation. Use the [summary method](https://keras.io/api/models/model/#summary-method) to display your model in a compact way. (1 pt)\n",
        "2. Train the model for at least 50 epochs with different learning rates of stochastic gradient descent (SGD). What happens if the learning rate $\\eta$ is very large (for ex. $\\eta=1$), and very small (for ex. $\\eta=0.001$)? Comment on the fluctuations of the learning curve. (2 pts)\n",
        "3. Replace the stochastic gradient descent optimizer with the [Adam optimizer](https://keras.io/optimizers/#adam) (you can use the default learning rate). (1pt)\n",
        "4. Plot the learning curves of SGD with a good learning rate (i.e. in the range [0.01,0.1]) together with the learning curves of Adam in the same figure. Take care of a reasonable labeling of the curves in the plot. (1 pts)\n",
        "5. Explain the qualitative difference between the loss and accuracy curves with respect to signs of overfitting. Report the best validation accuracy achieved for SGD and Adam. Which one is better and why do you think so? (2 pts)\n",
        "6. Determine the indices of all test images that are misclassified by the fitted model and plot some of them using the function \n",
        "   `plot_some_samples`. (1 pt)\n",
        "\n",
        "Real-world datasets are labeled by some people and sometimes there are mistakes in the labeling. We will corrupt labels of the MNIST dataset artifically, and observe an overfitting to this noisy dataset with Adam. \n",
        "\n",
        "7. Take $ p = 0.2 $ fraction of the data points from the training dataset of MNIST and change their class labels randomly. (You can sample a random integer from 0 to 9 using `np.random.uniform` and `np.floor`). Train with Adam for 50 or 100 epochs. Plot the learning curves. Do you observe overfitting in the validation accuracy? Does it take longer to converge to perfect training accuracy compare to noise-free MNIST? (2 pts)"
      ]
    },
    {
      "cell_type": "markdown",
      "metadata": {
        "id": "JqsjfxPdUmF5"
      },
      "source": [
        "**Answer to Question 2** (max 2 sentences): We can see in the diagrams that fluctuations of the learning curve are increasing with the learning rate (for small learning rates {0.01, 0.001} almost no fluctuations in the learning curve can be seen anymore and the shape of the learning curve is really smooth). This can be explained by the fact that with a small learning rates, the algorithm makes smaller steps, and so weights change less before correcting direction.\n",
        "\n",
        "**Answer to Question 5** (max 3 sentences): Adam is faster to learn but at the end they perform in the same way (so faster leaning, but similar performances). We can explain it, saying that the networks are the same, but in Adam case the learning rate is adapting. To get models of similar performances, we must stop learning when it begins to overfit (around 5 epochs for Adam).\n",
        "\n",
        "**Answer to Question 7** (max 2 sentences): "
      ]
    },
    {
      "cell_type": "markdown",
      "metadata": {
        "id": "hqNAh2guUmF5"
      },
      "source": [
        "### Solution"
      ]
    },
    {
      "cell_type": "markdown",
      "metadata": {
        "id": "52WnT_AcObgs"
      },
      "source": [
        "3.1) Use a hidden layer."
      ]
    },
    {
      "cell_type": "code",
      "metadata": {
        "id": "Ww4gx6JSUmF6",
        "colab": {
          "base_uri": "https://localhost:8080/"
        },
        "outputId": "95eae24e-ad27-4627-cb87-f384ba976a59"
      },
      "source": [
        "model = Sequential()\n",
        "model.add(Dense(128, activation='relu', input_shape=(input_dim_mnist,)))\n",
        "model.add(Dense(mnist_classes_nb, activation='softmax'))\n",
        "model.compile(optimizer='SGD', loss='categorical_crossentropy', metrics=[\"accuracy\"])\n",
        "model.summary()"
      ],
      "execution_count": 19,
      "outputs": [
        {
          "output_type": "stream",
          "text": [
            "Model: \"sequential_2\"\n",
            "_________________________________________________________________\n",
            "Layer (type)                 Output Shape              Param #   \n",
            "=================================================================\n",
            "dense_4 (Dense)              (None, 128)               100480    \n",
            "_________________________________________________________________\n",
            "dense_5 (Dense)              (None, 10)                1290      \n",
            "=================================================================\n",
            "Total params: 101,770\n",
            "Trainable params: 101,770\n",
            "Non-trainable params: 0\n",
            "_________________________________________________________________\n"
          ],
          "name": "stdout"
        }
      ]
    },
    {
      "cell_type": "markdown",
      "metadata": {
        "id": "tqZiIDyzdnWz"
      },
      "source": [
        "3.2) Train with different learning rates."
      ]
    },
    {
      "cell_type": "code",
      "metadata": {
        "colab": {
          "base_uri": "https://localhost:8080/"
        },
        "id": "Zrvvd0gcd7jh",
        "outputId": "d020b662-7527-4426-c886-bdd03101ae68"
      },
      "source": [
        "learning_rates = [10**(-e) for e in range(0,4)]\n",
        "histories = []\n",
        "\n",
        "for lr in learning_rates:\n",
        "    print(\"Optimizing model with SGD (lr: {0})\".format(lr))\n",
        "    model.reset_states()\n",
        "    model.compile(optimizer=SGD(lr=lr), loss='categorical_crossentropy', metrics=[\"accuracy\"])\n",
        "    history = model.fit(x_mnist_train, y_mnist_train_one_hot, validation_data=(x_mnist_test, y_mnist_test_one_hot), epochs=50, verbose=0)\n",
        "    histories.append(history)\n",
        "    "
      ],
      "execution_count": 20,
      "outputs": [
        {
          "output_type": "stream",
          "text": [
            "Optimizing model with SGD (lr: 1)\n",
            "Optimizing model with SGD (lr: 0.1)\n",
            "Optimizing model with SGD (lr: 0.01)\n",
            "Optimizing model with SGD (lr: 0.001)\n"
          ],
          "name": "stdout"
        }
      ]
    },
    {
      "cell_type": "code",
      "metadata": {
        "id": "YgZhZsnY-zs3",
        "colab": {
          "base_uri": "https://localhost:8080/",
          "height": 1000
        },
        "outputId": "71753578-69de-4eaf-f3ee-75668ace49db"
      },
      "source": [
        "print(\"Learning on MNIST dataset\")\n",
        "for i in range(len(histories)):\n",
        "  history = histories[i]\n",
        "  lr = learning_rates[i]\n",
        "  plot_history(history, \"Learning rate {0}\".format(lr));"
      ],
      "execution_count": 21,
      "outputs": [
        {
          "output_type": "stream",
          "text": [
            "Learning on MNIST dataset\n"
          ],
          "name": "stdout"
        },
        {
          "output_type": "display_data",
          "data": {
            "image/png": "[encoded data removed]",
            "text/plain": [
              "<Figure size 432x288 with 2 Axes>"
            ]
          },
          "metadata": {
            "tags": [],
            "needs_background": "light"
          }
        },
        {
          "output_type": "display_data",
          "data": {
            "image/png": "[encoded data removed]",
            "text/plain": [
              "<Figure size 432x288 with 2 Axes>"
            ]
          },
          "metadata": {
            "tags": [],
            "needs_background": "light"
          }
        },
        {
          "output_type": "display_data",
          "data": {
            "image/png": "[encoded data removed]",
            "text/plain": [
              "<Figure size 432x288 with 2 Axes>"
            ]
          },
          "metadata": {
            "tags": [],
            "needs_background": "light"
          }
        },
        {
          "output_type": "display_data",
          "data": {
            "image/png": "[encoded data removed]",
            "text/plain": [
              "<Figure size 432x288 with 2 Axes>"
            ]
          },
          "metadata": {
            "tags": [],
            "needs_background": "light"
          }
        }
      ]
    },
    {
      "cell_type": "markdown",
      "metadata": {
        "id": "jwlnJS6JFac4"
      },
      "source": [
        "3.3) Replace by Adam optimizer."
      ]
    },
    {
      "cell_type": "code",
      "metadata": {
        "id": "fkKPojMOF6wg"
      },
      "source": [
        "model.reset_states()\n",
        "adam_lr = 0.001\n",
        "model.compile(optimizer=Adam(learning_rate=adam_lr), loss='categorical_crossentropy', metrics=[\"accuracy\"])\n",
        "history_adam = model.fit(x_mnist_train, y_mnist_train_one_hot, validation_data=(x_mnist_test, y_mnist_test_one_hot), epochs=50, verbose=0)"
      ],
      "execution_count": 22,
      "outputs": []
    },
    {
      "cell_type": "code",
      "metadata": {
        "id": "80kW0NP1KA1U",
        "colab": {
          "base_uri": "https://localhost:8080/",
          "height": 302
        },
        "outputId": "47a7b844-023e-439d-c0b2-b3c4355dd4ae"
      },
      "source": [
        "plot_history(history_adam, \"MNIST learning with Adam (learning rate {0})\".format(adam_lr));"
      ],
      "execution_count": 23,
      "outputs": [
        {
          "output_type": "display_data",
          "data": {
            "image/png": "[encoded data removed]",
            "text/plain": [
              "<Figure size 432x288 with 2 Axes>"
            ]
          },
          "metadata": {
            "tags": [],
            "needs_background": "light"
          }
        }
      ]
    },
    {
      "cell_type": "markdown",
      "metadata": {
        "id": "d4nlIXiGL58O"
      },
      "source": [
        "3.4) Plot SGD with Adam."
      ]
    },
    {
      "cell_type": "code",
      "metadata": {
        "id": "Xu3ZMXLBUmF6"
      },
      "source": [
        "# This plotting routine might help you ...\n",
        "def comparison_plot(history_sgd, history_adam, label1, label2, title):\n",
        "    fig, ax1, ax2 = prepare_standardplot(title, \"epochs\")\n",
        "    ax1.plot(history_sgd.history['loss'], label=label1 + ' train')\n",
        "    ax1.plot(history_sgd.history['val_loss'], label=label1 + ' val')\n",
        "    ax1.plot(history_adam.history['loss'], label=label2 + ' train')\n",
        "    ax1.plot(history_adam.history['val_loss'], label=label2 + ' val')\n",
        "    ax2.plot(history_sgd.history['accuracy'], label=label1 + ' train')\n",
        "    ax2.plot(history_sgd.history['val_accuracy'], label=label1 + ' val')\n",
        "    ax2.plot(history_adam.history['accuracy'], label=label2 + ' train')\n",
        "    ax2.plot(history_adam.history['val_accuracy'], label=label2 + ' val')\n",
        "    finalize_standardplot(fig, ax1, ax2)\n",
        "    return fig"
      ],
      "execution_count": 24,
      "outputs": []
    },
    {
      "cell_type": "code",
      "metadata": {
        "id": "CJNmTC4fMl4i",
        "colab": {
          "base_uri": "https://localhost:8080/",
          "height": 302
        },
        "outputId": "669b329d-1a1b-49bc-b801-0907d40abe27"
      },
      "source": [
        "sgd_lr = 0.1\n",
        "history_sgd = histories[learning_rates.index(sgd_lr)]\n",
        "comparison_plot(history_sgd, history_adam, \"SGD (LR {0})\".format(sgd_lr), \"Adam(LR {0})\".format(adam_lr), \"Optimizer Comparison\");"
      ],
      "execution_count": 25,
      "outputs": [
        {
          "output_type": "display_data",
          "data": {
            "image/png": "[encoded data removed]",
            "text/plain": [
              "<Figure size 432x288 with 2 Axes>"
            ]
          },
          "metadata": {
            "tags": [],
            "needs_background": "light"
          }
        }
      ]
    },
    {
      "cell_type": "markdown",
      "metadata": {
        "id": "UpoF65jbOtM9"
      },
      "source": [
        "3.7) Add noise."
      ]
    },
    {
      "cell_type": "code",
      "metadata": {
        "id": "yS7MoMXcx4Rt"
      },
      "source": [
        "p = 0.2\n",
        "mnist_traint_length = original_mnist_train_shape[0]\n",
        "indices = np.arange(mnist_traint_length)\n",
        "noise_number_mnist = int(mnist_traint_length*p)\n",
        "noisy_indices = np.random.choice(indices, noise_number_mnist)"
      ],
      "execution_count": 55,
      "outputs": []
    },
    {
      "cell_type": "code",
      "metadata": {
        "id": "uYSdcaUNyCBB",
        "outputId": "b700d966-530e-4bf4-ab04-46efb62d8bf8",
        "colab": {
          "base_uri": "https://localhost:8080/"
        }
      },
      "source": [
        "y_mnist_train_one_hot[noisy_indices]"
      ],
      "execution_count": 61,
      "outputs": [
        {
          "output_type": "execute_result",
          "data": {
            "text/plain": [
              "array([[0., 0., 0., ..., 0., 0., 1.],\n",
              "       [0., 0., 0., ..., 0., 0., 1.],\n",
              "       [0., 0., 0., ..., 0., 0., 0.],\n",
              "       ...,\n",
              "       [0., 0., 0., ..., 1., 0., 0.],\n",
              "       [0., 1., 0., ..., 0., 0., 0.],\n",
              "       [0., 1., 0., ..., 0., 0., 0.]], dtype=float32)"
            ]
          },
          "metadata": {
            "tags": []
          },
          "execution_count": 61
        }
      ]
    },
    {
      "cell_type": "code",
      "metadata": {
        "id": "pUxY_4NfsuSi"
      },
      "source": [
        "for index in noisy_indices:\n",
        "  class_index = np.floor(np.random.uniform(0,10))\n",
        "  vector = to_categorical(class_index, num_classes=mnist_classes_nb)\n",
        "  y_mnist_train_one_hot[index] = vector"
      ],
      "execution_count": 62,
      "outputs": []
    },
    {
      "cell_type": "code",
      "metadata": {
        "id": "RVTrndIxyLXP",
        "outputId": "65dcb7da-2037-4745-ef16-5c78baca33e0",
        "colab": {
          "base_uri": "https://localhost:8080/"
        }
      },
      "source": [
        "y_mnist_train_one_hot[noisy_indices]"
      ],
      "execution_count": 63,
      "outputs": [
        {
          "output_type": "execute_result",
          "data": {
            "text/plain": [
              "array([[0., 0., 0., ..., 1., 0., 0.],\n",
              "       [0., 0., 0., ..., 0., 0., 1.],\n",
              "       [0., 0., 0., ..., 0., 0., 0.],\n",
              "       ...,\n",
              "       [0., 1., 0., ..., 0., 0., 0.],\n",
              "       [0., 0., 0., ..., 1., 0., 0.],\n",
              "       [0., 0., 0., ..., 0., 0., 0.]], dtype=float32)"
            ]
          },
          "metadata": {
            "tags": []
          },
          "execution_count": 63
        }
      ]
    },
    {
      "cell_type": "code",
      "metadata": {
        "id": "r_RasmvUyF0e"
      },
      "source": [
        "noisy_indices = np.random.choice(indices, noise_number_mnist)"
      ],
      "execution_count": 58,
      "outputs": []
    },
    {
      "cell_type": "code",
      "metadata": {
        "id": "5S_RGWEctC9S",
        "outputId": "10795580-4f2a-46fd-e0a6-da3142e7b354",
        "colab": {
          "base_uri": "https://localhost:8080/"
        }
      },
      "source": [
        "index = 1\n",
        "y_mnist_train_one_hot[index]"
      ],
      "execution_count": 49,
      "outputs": [
        {
          "output_type": "execute_result",
          "data": {
            "text/plain": [
              "array([1., 0., 0., 0., 0., 0., 0., 0., 0., 0.], dtype=float32)"
            ]
          },
          "metadata": {
            "tags": []
          },
          "execution_count": 49
        }
      ]
    },
    {
      "cell_type": "code",
      "metadata": {
        "id": "-rFe22LCo1GM",
        "outputId": "16c572e9-8cac-44c9-adaa-1242e52e31fc",
        "colab": {
          "base_uri": "https://localhost:8080/"
        }
      },
      "source": [
        "class_index = np.floor(np.random.uniform(0,10))\n",
        "class_index"
      ],
      "execution_count": 50,
      "outputs": [
        {
          "output_type": "execute_result",
          "data": {
            "text/plain": [
              "3.0"
            ]
          },
          "metadata": {
            "tags": []
          },
          "execution_count": 50
        }
      ]
    },
    {
      "cell_type": "code",
      "metadata": {
        "id": "ibnifbMjxDV8",
        "outputId": "f223d8fe-dd83-4749-9655-a3386edfcf46",
        "colab": {
          "base_uri": "https://localhost:8080/"
        }
      },
      "source": [
        "vector = to_categorical(class_index, num_classes=mnist_classes_nb)\n",
        "vector"
      ],
      "execution_count": 51,
      "outputs": [
        {
          "output_type": "execute_result",
          "data": {
            "text/plain": [
              "array([0., 0., 0., 1., 0., 0., 0., 0., 0., 0.], dtype=float32)"
            ]
          },
          "metadata": {
            "tags": []
          },
          "execution_count": 51
        }
      ]
    },
    {
      "cell_type": "code",
      "metadata": {
        "id": "upInuAmaxHls"
      },
      "source": [
        "y_mnist_train_one_hot[index] = vector"
      ],
      "execution_count": 52,
      "outputs": []
    },
    {
      "cell_type": "code",
      "metadata": {
        "id": "st0-L-CVxIPc"
      },
      "source": [
        ""
      ],
      "execution_count": null,
      "outputs": []
    },
    {
      "cell_type": "markdown",
      "metadata": {
        "id": "Ifgvj_JmUmF6"
      },
      "source": [
        "## Exercise 4: Model performance as a function of number of hidden neurons (8 + 2 points)\n",
        "\n",
        "Since the MNIST dataset is almost perfectly solved already by a one-hidden-layer network in Exercise 3, we use the Fashion-MNIST dataset from now on to compare the performances of more complex models. In this exercise, we investigate how the best validation loss and accuracy depends on the number of hidden neurons in a single layer.\n",
        "\n",
        "1. Fit at least 4 models with different number of hidden neurons (i.e. width) between 10 and 1000 to the Fashion-MNIST dataset. Train with Adam for 50-100 epochs. (2 pts)\n",
        "2. Plot the best validation loss and accuracy versus the width. Is the observed trend in accordance with the [general approximation theorem](https://en.wikipedia.org/wiki/Universal_approximation_theorem)? Do you observe an overfitting due to the complexity of the wider networks with more parameters? Report the best validation accuracy. (2 pts)\n",
        "3. Choose $ p \\geq 0.5 $ fraction of the data points from the training dataset of Fashion-MNIST and change their class labels randomly as in Exercise 3. For this noisy Fashion-MNIST dataset, fit at least 4 models with different widths between 10 and 250. Train with Adam for at least 150 epochs. Plot the best validation loss and accuracy vs. width. (2 pts)\n",
        "4. BONUS: Add random Gaussian noise on the input pixels with mean 0 and variance between 0.01-0.5 and use the original labels. For this noisy Fashion-MNIST dataset, fit at least 4 models with different widths between 10 and 250. Train with Adam for at least 150 epochs. Plot the best validation loss and accuracy vs. width. (2 pts)\n",
        "5. Answer to the same questions in 2 for the noisy Fashion-MNIST dataset(s). Comment on the differences between width-performence curves for these two (or three) datasets. (2 pts)\n",
        "\n",
        "In this exercise we fit each model only for one initialization and random seed. In practice one would collect some statistics (e.g. 25-, 50-, 75-percentiles) for each layer size by fitting each model several times with different initializations and the random seeds. You may also want to do this here. It is a good exercise, but not mandatory as it takes quite a bit of computation time."
      ]
    },
    {
      "cell_type": "markdown",
      "metadata": {
        "id": "fDvqvz9yUmF7"
      },
      "source": [
        "**Answer to Question 2** (max 2 sentences): \n",
        "\n",
        "**Answer to Question 5** (max 3 sentences): "
      ]
    },
    {
      "cell_type": "markdown",
      "metadata": {
        "id": "PNq8VyZiUmF7"
      },
      "source": [
        "### Solution"
      ]
    },
    {
      "cell_type": "code",
      "metadata": {
        "id": "d6ZVPYEhUmF7"
      },
      "source": [
        ""
      ],
      "execution_count": 25,
      "outputs": []
    },
    {
      "cell_type": "markdown",
      "metadata": {
        "id": "O2Gb7mgSUmF7"
      },
      "source": [
        "## Exercise 5: Going deeper: tricks and regularization (10 + 2 points)\n",
        "\n",
        "Adding hidden layers to a deep network does not necessarily lead to a straight-forward improvement of performance. We use Fashion-MNIST dataset in this exercise.  \n",
        "\n",
        "1. Choose a width $ h $ between 50-200 and use at least two hidden layers with $ h $ hidden neurons (each) and train the network for at least 150 epochs. (2 pts)\n",
        "2. Plot the learning curves and report the best validation accuracy. Do you observe overfitting? (2 pts)\n",
        "3. Keep the network at the same size. Use a very large l2 regularization $\\lambda$ (for ex. $\\lambda=1$) and a small one (for ex. $\\lambda=0.001$) on kernel weights and report the validation accuracies. What do you observe?  (2 pts)\n",
        "4. Turn off the $ \\ell_2 $ regularization and use a large dropout rate (for ex. 0.5) and a small one (for ex. 0.05) at all hidden layers and report the validation accuracies. What do you observe? (2 pts)\n",
        "5. BONUS: Try built-in data augmentation methods as a way to regularize: this may include horizontal flipping of the images or small rotations. You can use built-in methods in Keras. Report the augmentation method you used and the best validation accuracy. (2 pts)\n",
        "\n",
        "Note that one needs to cross-validate to find the right regularization parameter for the model you chose and for the dataset at hand. However we do not enforce this hyperparameter search as it takes long computation times but it is a good practice if you try it here. \n",
        "\n",
        "6. Compare the validation accuracies resulting from your attempts to reduce overfitting. Did you improve the validation accuracy? If not, comment on the possible sources of failure. (2 pts)"
      ]
    },
    {
      "cell_type": "markdown",
      "metadata": {
        "id": "LzX8ezheUmF7"
      },
      "source": [
        "**Answer to Question 2** (max 1 sentence):   \n",
        "\n",
        "**Answer to Question 3** (max 2 sentences): \n",
        "\n",
        "**Answer to Question 4** (max 2 sentences): \n",
        "\n",
        "**Answer to Question 5 (BONUS)** (max 2 sentences): \n",
        "\n",
        "**Answer to Question 6** (max 2 sentences): "
      ]
    },
    {
      "cell_type": "markdown",
      "metadata": {
        "id": "NSQJfhZVUmF8"
      },
      "source": [
        "### Solution"
      ]
    },
    {
      "cell_type": "code",
      "metadata": {
        "id": "LU6_9-HSUmF8"
      },
      "source": [
        ""
      ],
      "execution_count": 25,
      "outputs": []
    },
    {
      "cell_type": "markdown",
      "metadata": {
        "id": "NDYfqS_MUmF9"
      },
      "source": [
        "## Exercise 6: Convolutional neural networks (CNNs) (10 points)\n",
        "\n",
        "Convolutional neural networks have an inductive bias that is well adapted to image classification. \n",
        "\n",
        "1. Design a convolutional neural network and train it without using explicit regularizers. (2 pts)\n",
        "2. Try to improve the best validation scores of the model by experiment with batch_normalization layers, dropout layers and l2-regularization on weights (kernels) and biases. (4 pts)\n",
        "3. After you have found good settings, plot the learning curves for both models, naive (=no tricks/regularization) and tuned (=tricks + regularized) together in a comparison plot. (2pts)\n",
        "4. How does the CNN performance compare to the so far best performing (deep) neural network model? (2 pts)\n",
        "\n",
        "*Hint:* You may get valuable inspiration from the keras [examples](https://keras.io/examples/), [for example](https://keras.io/examples/vision/mnist_convnet/)."
      ]
    },
    {
      "cell_type": "markdown",
      "metadata": {
        "id": "JUbPDPV_UmF9"
      },
      "source": [
        "**Answer to Question 4**: "
      ]
    },
    {
      "cell_type": "markdown",
      "metadata": {
        "id": "1-dXDw80UmF9"
      },
      "source": [
        "### Solution"
      ]
    },
    {
      "cell_type": "code",
      "metadata": {
        "ExecuteTime": {
          "end_time": "2018-02-23T16:05:21.840299Z",
          "start_time": "2018-02-23T15:51:11.993053Z"
        },
        "id": "FQZzPHt7UmF9"
      },
      "source": [
        ""
      ],
      "execution_count": 25,
      "outputs": []
    },
    {
      "cell_type": "code",
      "metadata": {
        "id": "6IrD-oT3_X0a"
      },
      "source": [
        ""
      ],
      "execution_count": 25,
      "outputs": []
    },
    {
      "cell_type": "code",
      "metadata": {
        "id": "Vd9nx_1eDUix"
      },
      "source": [
        ""
      ],
      "execution_count": 25,
      "outputs": []
    },
    {
      "cell_type": "code",
      "metadata": {
        "id": "WaiC4eAZS4q6"
      },
      "source": [
        ""
      ],
      "execution_count": 25,
      "outputs": []
    },
    {
      "cell_type": "code",
      "metadata": {
        "id": "KYlB3Kg8JdD9"
      },
      "source": [
        ""
      ],
      "execution_count": 25,
      "outputs": []
    },
    {
      "cell_type": "code",
      "metadata": {
        "id": "1ejeEal1JfXN"
      },
      "source": [
        ""
      ],
      "execution_count": 25,
      "outputs": []
    },
    {
      "cell_type": "code",
      "metadata": {
        "id": "XXcUX4HYovq6"
      },
      "source": [
        ""
      ],
      "execution_count": null,
      "outputs": []
    },
    {
      "cell_type": "code",
      "metadata": {
        "id": "YiqsxBAcoxTZ"
      },
      "source": [
        ""
      ],
      "execution_count": null,
      "outputs": []
    }
  ]
}