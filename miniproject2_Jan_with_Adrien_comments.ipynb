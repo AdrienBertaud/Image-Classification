{
 "cells": [
  {
   "cell_type": "markdown",
   "metadata": {
    "id": "OsvShBZ7UaMx"
   },
   "source": [
    "# Miniproject: Image Classification\n",
    "\n",
    "### Description\n",
    "\n",
    "One of the oldest traditions in deep learning is to first tackle the fun problem of MNIST classification. [The MNIST dataset](https://en.wikipedia.org/wiki/MNIST_database) is a large database of handwritten digits that is commonly used as a first test for new classification algorithms. \n",
    "We follow this tradition to investigate the performance of artificial neural networks of different complexity on MNIST. However, since MNIST is too easy for accessing the full power of modern machine learning algorithms (see e.g. [this post](https://twitter.com/goodfellow_ian/status/852591106655043584)) we will extend our analysis to the recently introduced, harder [Fashion-MNIST dataset](https://github.com/zalandoresearch/fashion-mnist).\n",
    "\n",
    "### Prerequisites\n",
    "\n",
    "- You should have a running installation of [tensorflow](https://www.tensorflow.org/install/) and [keras](https://keras.io/). Feel free to gain inspiration from the [Keras example directory](https://keras.io/examples/) for your implementations.\n",
    "- You should know the concepts \"multilayer perceptron\", \"stochastic gradient descent with minibatches\", \"Adam\", \"convolutional neural network\", \"training and validation data\", \"overfitting\", \"regularization\", and \"early stopping\".\n",
    "\n",
    "### What you will learn\n",
    "\n",
    "- You will learn how to define feedforward neural networks in keras and fit them to data (i.e. training).\n",
    "- You will be guided through a prototyping procedure for the application of deep learning to a specific domain.\n",
    "- You will gain some experience on the influence of network architecture, optimizer and regularization choices on the goodness of fit.\n",
    "- You will learn to be more patient :) Some fits may take your computer quite a bit of time; run them over night (or on an external server).\n",
    "\n",
    "### Evaluation criteria\n",
    "\n",
    "The evaluation is (mostly) based on the figures you submit and your answer sentences. Provide clear and concise answers respecting the indicated maximum length.\n",
    "\n",
    "**The submitted notebook must be run by you!** We will only do random tests of your code and not re-run the full notebook. There will be fraud detection sessions at the end of the semester.\n",
    "\n",
    "### Your names\n",
    "\n",
    "**Before you start**: please enter your full name(s) in the field below."
   ]
  },
  {
   "cell_type": "code",
   "execution_count": null,
   "metadata": {
    "id": "o6REjy2zUaM5",
    "outputId": "727d52c6-c8bf-4a21-bdf7-938149442fad"
   },
   "outputs": [
    {
     "data": {
      "text/plain": [
       "'/usr/local/anaconda3/envs/EPFL_ANN_Assignment-02/bin/python'"
      ]
     },
     "execution_count": 1,
     "metadata": {
      "tags": []
     },
     "output_type": "execute_result"
    }
   ],
   "source": [
    "# Show which python interpreter and conda environment is used\n",
    "import sys\n",
    "sys.executable"
   ]
  },
  {
   "cell_type": "code",
   "execution_count": null,
   "metadata": {
    "id": "zFpQO7kyUaM_",
    "outputId": "b7e4484c-0e68-4c37-d9d7-3376a8ed371f"
   },
   "outputs": [
    {
     "name": "stderr",
     "output_type": "stream",
     "text": [
      "/usr/local/anaconda3/envs/EPFL_ANN_Assignment-02/lib/python3.7/site-packages/tensorflow/python/framework/dtypes.py:516: FutureWarning: Passing (type, 1) or '1type' as a synonym of type is deprecated; in a future version of numpy, it will be understood as (type, (1,)) / '(1,)type'.\n",
      "  _np_qint8 = np.dtype([(\"qint8\", np.int8, 1)])\n",
      "/usr/local/anaconda3/envs/EPFL_ANN_Assignment-02/lib/python3.7/site-packages/tensorflow/python/framework/dtypes.py:517: FutureWarning: Passing (type, 1) or '1type' as a synonym of type is deprecated; in a future version of numpy, it will be understood as (type, (1,)) / '(1,)type'.\n",
      "  _np_quint8 = np.dtype([(\"quint8\", np.uint8, 1)])\n",
      "/usr/local/anaconda3/envs/EPFL_ANN_Assignment-02/lib/python3.7/site-packages/tensorflow/python/framework/dtypes.py:518: FutureWarning: Passing (type, 1) or '1type' as a synonym of type is deprecated; in a future version of numpy, it will be understood as (type, (1,)) / '(1,)type'.\n",
      "  _np_qint16 = np.dtype([(\"qint16\", np.int16, 1)])\n",
      "/usr/local/anaconda3/envs/EPFL_ANN_Assignment-02/lib/python3.7/site-packages/tensorflow/python/framework/dtypes.py:519: FutureWarning: Passing (type, 1) or '1type' as a synonym of type is deprecated; in a future version of numpy, it will be understood as (type, (1,)) / '(1,)type'.\n",
      "  _np_quint16 = np.dtype([(\"quint16\", np.uint16, 1)])\n",
      "/usr/local/anaconda3/envs/EPFL_ANN_Assignment-02/lib/python3.7/site-packages/tensorflow/python/framework/dtypes.py:520: FutureWarning: Passing (type, 1) or '1type' as a synonym of type is deprecated; in a future version of numpy, it will be understood as (type, (1,)) / '(1,)type'.\n",
      "  _np_qint32 = np.dtype([(\"qint32\", np.int32, 1)])\n",
      "/usr/local/anaconda3/envs/EPFL_ANN_Assignment-02/lib/python3.7/site-packages/tensorflow/python/framework/dtypes.py:525: FutureWarning: Passing (type, 1) or '1type' as a synonym of type is deprecated; in a future version of numpy, it will be understood as (type, (1,)) / '(1,)type'.\n",
      "  np_resource = np.dtype([(\"resource\", np.ubyte, 1)])\n"
     ]
    },
    {
     "name": "stdout",
     "output_type": "stream",
     "text": [
      "Running tensorflow version: 1.14.0\n",
      "Running keras version: 2.2.4-tf\n"
     ]
    },
    {
     "name": "stderr",
     "output_type": "stream",
     "text": [
      "/usr/local/anaconda3/envs/EPFL_ANN_Assignment-02/lib/python3.7/site-packages/tensorboard/compat/tensorflow_stub/dtypes.py:541: FutureWarning: Passing (type, 1) or '1type' as a synonym of type is deprecated; in a future version of numpy, it will be understood as (type, (1,)) / '(1,)type'.\n",
      "  _np_qint8 = np.dtype([(\"qint8\", np.int8, 1)])\n",
      "/usr/local/anaconda3/envs/EPFL_ANN_Assignment-02/lib/python3.7/site-packages/tensorboard/compat/tensorflow_stub/dtypes.py:542: FutureWarning: Passing (type, 1) or '1type' as a synonym of type is deprecated; in a future version of numpy, it will be understood as (type, (1,)) / '(1,)type'.\n",
      "  _np_quint8 = np.dtype([(\"quint8\", np.uint8, 1)])\n",
      "/usr/local/anaconda3/envs/EPFL_ANN_Assignment-02/lib/python3.7/site-packages/tensorboard/compat/tensorflow_stub/dtypes.py:543: FutureWarning: Passing (type, 1) or '1type' as a synonym of type is deprecated; in a future version of numpy, it will be understood as (type, (1,)) / '(1,)type'.\n",
      "  _np_qint16 = np.dtype([(\"qint16\", np.int16, 1)])\n",
      "/usr/local/anaconda3/envs/EPFL_ANN_Assignment-02/lib/python3.7/site-packages/tensorboard/compat/tensorflow_stub/dtypes.py:544: FutureWarning: Passing (type, 1) or '1type' as a synonym of type is deprecated; in a future version of numpy, it will be understood as (type, (1,)) / '(1,)type'.\n",
      "  _np_quint16 = np.dtype([(\"quint16\", np.uint16, 1)])\n",
      "/usr/local/anaconda3/envs/EPFL_ANN_Assignment-02/lib/python3.7/site-packages/tensorboard/compat/tensorflow_stub/dtypes.py:545: FutureWarning: Passing (type, 1) or '1type' as a synonym of type is deprecated; in a future version of numpy, it will be understood as (type, (1,)) / '(1,)type'.\n",
      "  _np_qint32 = np.dtype([(\"qint32\", np.int32, 1)])\n",
      "/usr/local/anaconda3/envs/EPFL_ANN_Assignment-02/lib/python3.7/site-packages/tensorboard/compat/tensorflow_stub/dtypes.py:550: FutureWarning: Passing (type, 1) or '1type' as a synonym of type is deprecated; in a future version of numpy, it will be understood as (type, (1,)) / '(1,)type'.\n",
      "  np_resource = np.dtype([(\"resource\", np.ubyte, 1)])\n"
     ]
    }
   ],
   "source": [
    "# Check the currently used tensorflow and keras version\n",
    "import tensorflow as tf\n",
    "from tensorflow import keras\n",
    "print(\"Running tensorflow version: {0}\".format(tf.__version__))\n",
    "print(\"Running keras version: {0}\".format(keras.__version__))"
   ]
  },
  {
   "cell_type": "code",
   "execution_count": null,
   "metadata": {
    "ExecuteTime": {
     "end_time": "2018-03-09T09:08:24.514461Z",
     "start_time": "2018-03-09T09:08:24.506410Z"
    },
    "id": "hdkctf3lUaNB"
   },
   "outputs": [],
   "source": [
    "student1 = \"Jan Bauer (18-764-571)\"\n",
    "student2 = \"Adrien Bertaud (Todo Add Student Number)\""
   ]
  },
  {
   "cell_type": "markdown",
   "metadata": {
    "ExecuteTime": {
     "end_time": "2018-02-22T21:52:59.697375Z",
     "start_time": "2018-02-22T21:52:59.689443Z"
    },
    "id": "aLOIEnhcUaND"
   },
   "source": [
    "## Some helper functions\n",
    "\n",
    "For your convenience we provide here some functions to preprocess the data and plot the results later. Simply run the following cells with `Shift-Enter`.\n",
    "\n",
    "### Dependencies and constants"
   ]
  },
  {
   "cell_type": "code",
   "execution_count": null,
   "metadata": {
    "ExecuteTime": {
     "end_time": "2018-02-23T14:27:09.352019Z",
     "start_time": "2018-02-23T14:27:08.476310Z"
    },
    "id": "ojXx1WvJUaNE",
    "outputId": "9d757ca7-c008-40df-9301-4e6af2d80f4a"
   },
   "outputs": [
    {
     "name": "stderr",
     "output_type": "stream",
     "text": [
      "Using TensorFlow backend.\n"
     ]
    }
   ],
   "source": [
    "%matplotlib inline\n",
    "\n",
    "import numpy as np\n",
    "import time\n",
    "import matplotlib.pyplot as plt\n",
    "import scipy.io\n",
    "\n",
    "import keras\n",
    "from keras.models import Sequential\n",
    "from keras.layers import Dense, Conv2D, MaxPooling2D, Dropout, Flatten, BatchNormalization\n",
    "from keras.optimizers import SGD, Adam\n",
    "from keras import regularizers"
   ]
  },
  {
   "cell_type": "markdown",
   "metadata": {
    "id": "-89oY7tNUaNG"
   },
   "source": [
    "### Plotting"
   ]
  },
  {
   "cell_type": "code",
   "execution_count": null,
   "metadata": {
    "ExecuteTime": {
     "end_time": "2018-02-23T15:11:52.252208Z",
     "start_time": "2018-02-23T15:11:52.121360Z"
    },
    "id": "oqYjHjSYUaNH"
   },
   "outputs": [],
   "source": [
    "def plot_some_samples(x, y = [], yhat = [], select_from = [], \n",
    "                      ncols = 6, nrows = 4, xdim = 28, ydim = 28,\n",
    "                      label_mapping = range(10)):\n",
    "    \"\"\"plot some input vectors as grayscale images (optionally together with their assigned or predicted labels).\n",
    "    \n",
    "    x is an NxD - dimensional array, where D is the length of an input vector and N is the number of samples.\n",
    "    Out of the N samples, ncols x nrows indices are randomly selected from the list select_from (if it is empty, select_from becomes range(N)).\n",
    "    \"\"\"\n",
    "    fig, ax = plt.subplots(nrows, ncols)\n",
    "    if len(select_from) == 0:\n",
    "        select_from = range(x.shape[0])\n",
    "    indices = np.random.choice(select_from, size = min(ncols * nrows, len(select_from)), replace = False)\n",
    "    for i, ind in enumerate(indices):\n",
    "        thisax = ax[i//ncols,i%ncols]\n",
    "        thisax.matshow(x[ind].reshape(xdim, ydim), cmap='gray')\n",
    "        thisax.set_axis_off()\n",
    "        if len(y) != 0:\n",
    "            j = y[ind] if type(y[ind]) != np.ndarray else y[ind].argmax()\n",
    "            thisax.text(0, 0, (label_mapping[j]+1)%10, color='green', \n",
    "                                                       verticalalignment='top',\n",
    "                                                       transform=thisax.transAxes)\n",
    "        if len(yhat) != 0:\n",
    "            k = yhat[ind] if type(yhat[ind]) != np.ndarray else yhat[ind].argmax()\n",
    "            thisax.text(1, 0, (label_mapping[k]+1)%10, color='red',\n",
    "                                             verticalalignment='top',\n",
    "                                             horizontalalignment='right',\n",
    "                                             transform=thisax.transAxes)\n",
    "    return fig\n",
    "\n",
    "def prepare_standardplot(title, xlabel):\n",
    "    fig, (ax1, ax2) = plt.subplots(1, 2)\n",
    "    fig.suptitle(title)\n",
    "    ax1.set_ylabel('categorical cross entropy')\n",
    "    ax1.set_xlabel(xlabel)\n",
    "    ax1.set_yscale('log')\n",
    "    ax2.set_ylabel('accuracy [% correct]')\n",
    "    ax2.set_xlabel(xlabel)\n",
    "    return fig, ax1, ax2\n",
    "\n",
    "def finalize_standardplot(fig, ax1, ax2):\n",
    "    ax1handles, ax1labels = ax1.get_legend_handles_labels()\n",
    "    if len(ax1labels) > 0:\n",
    "        ax1.legend(ax1handles, ax1labels)\n",
    "    ax2handles, ax2labels = ax2.get_legend_handles_labels()\n",
    "    if len(ax2labels) > 0:\n",
    "        ax2.legend(ax2handles, ax2labels)\n",
    "    fig.tight_layout()\n",
    "    plt.subplots_adjust(top=0.9)\n",
    "\n",
    "def plot_history(history, title):\n",
    "    fig, ax1, ax2 = prepare_standardplot(title, 'epoch')\n",
    "    ax1.plot(history.history['loss'], label = \"train\")\n",
    "    ax1.plot(history.history['val_loss'], label = \"val\")\n",
    "    ax2.plot(history.history['accuracy'], label = \"train\")\n",
    "    ax2.plot(history.history['val_accuracy'], label = \"val\")\n",
    "    finalize_standardplot(fig, ax1, ax2)\n",
    "    return fig"
   ]
  },
  {
   "cell_type": "markdown",
   "metadata": {
    "id": "l38NaY4uUaNI"
   },
   "source": [
    "## Exercise 1: Data import and visualization (6 points)\n",
    "\n",
    "The datasets we use in this project (MNIST, Fashion-MNIST) consists of grayscale images with 28x28 pixels. \n",
    "The low resolution (and grayscale) of the images certainly misses some information that could be helpful for classifying the images. However, since the data has lower dimensionality due to the low resolution, the training converges faster. This is an advantage in situations like here (or generally when prototyping), where we want to try many different things without having to wait too long. \n",
    "\n",
    "1. As a warm-up exercise, use the importer to (down-)load the MNIST and Fashion-MNIST dataset. Assign useful variables to test & train images and labels for both datasets respectively. (2 pts)\n",
    "2. Use the function `plot_some_samples` defined above to plot some samples of the two datasets. What do the green digits at the bottom left of each image indicate? (2 pts)\n",
    "3. To prepare for training: 1. transform the labels to one hot coding, i.e. for 5 classes, label 2 becomes the vector [0, 0, 1, 0, 0] (you can use `utils.to_categorical` function from keras), and 2. reshape (flatten) the input images to input vectors and rescale the input data into the range [0,1]. (2 pts)\n",
    "\n",
    "*Hint*: Keras comes with a convenient in-built [data importer](https://keras.io/datasets/) for common datasets. "
   ]
  },
  {
   "cell_type": "markdown",
   "metadata": {
    "id": "mineDbtIUaNJ"
   },
   "source": [
    "**Answer to Question 2** (1 sentence):<br/>\n",
    "For each chosen sample, the value '*(label_mapping[j]+1)%10*' is printed in green<br/>\n",
    "and this corresponds to the true class label incremented by one and divided modulo 10."
   ]
  },
  {
   "cell_type": "markdown",
   "metadata": {
    "id": "p9FEey-lUaNK"
   },
   "source": [
    "### Solution"
   ]
  },
  {
   "cell_type": "code",
   "execution_count": null,
   "metadata": {
    "id": "QbNbBLtcUaNN"
   },
   "outputs": [],
   "source": [
    "from keras.utils import to_categorical"
   ]
  },
  {
   "cell_type": "code",
   "execution_count": null,
   "metadata": {
    "ExecuteTime": {
     "end_time": "2018-02-23T14:27:44.442862Z",
     "start_time": "2018-02-23T14:27:09.505547Z"
    },
    "id": "WorZ4KjQUaNO"
   },
   "outputs": [],
   "source": [
    "(x_mnist_train, y_mnist_train), (x_mnist_test, y_mnist_test) = tf.keras.datasets.mnist.load_data(path=\"mnist10.data\")"
   ]
  },
  {
   "cell_type": "code",
   "execution_count": null,
   "metadata": {
    "id": "NIUsh32qUaNO"
   },
   "outputs": [],
   "source": [
    "# Normalize to range 0-1\n",
    "x_mnist_train = x_mnist_train/255.0\n",
    "x_mnist_test = x_mnist_test/255.0"
   ]
  },
  {
   "cell_type": "code",
   "execution_count": null,
   "metadata": {
    "id": "lwYeWSFIUaNP",
    "outputId": "da45faeb-4c8f-4483-e540-a0e040e29828"
   },
   "outputs": [
    {
     "name": "stdout",
     "output_type": "stream",
     "text": [
      "Reshaped training data from (60000, 28, 28) to (60000, 784)\n",
      "Reshaped test data from (10000, 28, 28) to (10000, 784)\n"
     ]
    }
   ],
   "source": [
    "x_mnist_train_reshaped = x_mnist_train.reshape(x_mnist_train.shape[0], x_mnist_train.shape[1]*x_mnist_train.shape[2])\n",
    "x_mnist_test_reshaped = x_mnist_test.reshape(x_mnist_test.shape[0], x_mnist_test.shape[1]*x_mnist_test.shape[2])\n",
    "print(\"Reshaped training data from {0} to {1}\".format(x_mnist_train.shape, x_mnist_train_reshaped.shape))\n",
    "print(\"Reshaped test data from {0} to {1}\".format(x_mnist_test.shape, x_mnist_test_reshaped.shape))"
   ]
  },
  {
   "cell_type": "code",
   "execution_count": null,
   "metadata": {
    "id": "Lk0HWzFdUaNQ",
    "outputId": "9fdd3f14-cd48-466c-8e68-52e8ee75131f"
   },
   "outputs": [
    {
     "data": {
      "image/png": "[encoded data removed]",
      "text/plain": [
       "<Figure size 432x288 with 24 Axes>"
      ]
     },
     "metadata": {
      "needs_background": "light",
      "tags": []
     },
     "output_type": "display_data"
    }
   ],
   "source": [
    "plot_some_samples(x_mnist_train, y_mnist_train, ncols=6, nrows=4);"
   ]
  },
  {
   "cell_type": "code",
   "execution_count": null,
   "metadata": {
    "id": "vUP6StTlUaNQ",
    "outputId": "d26c7d2f-a0f4-4420-8e16-07dc0f2ac868"
   },
   "outputs": [
    {
     "name": "stdout",
     "output_type": "stream",
     "text": [
      "5 => [0. 0. 0. 0. 0. 1. 0. 0. 0. 0.]\n",
      "0 => [1. 0. 0. 0. 0. 0. 0. 0. 0. 0.]\n",
      "4 => [0. 0. 0. 0. 1. 0. 0. 0. 0. 0.]\n",
      "1 => [0. 1. 0. 0. 0. 0. 0. 0. 0. 0.]\n",
      "9 => [0. 0. 0. 0. 0. 0. 0. 0. 0. 1.]\n",
      "2 => [0. 0. 1. 0. 0. 0. 0. 0. 0. 0.]\n",
      "1 => [0. 1. 0. 0. 0. 0. 0. 0. 0. 0.]\n",
      "3 => [0. 0. 0. 1. 0. 0. 0. 0. 0. 0.]\n",
      "1 => [0. 1. 0. 0. 0. 0. 0. 0. 0. 0.]\n",
      "4 => [0. 0. 0. 0. 1. 0. 0. 0. 0. 0.]\n"
     ]
    }
   ],
   "source": [
    "y_mnist_train_one_hot = to_categorical(y_mnist_train)\n",
    "y_mnist_test_one_hot = to_categorical(y_mnist_test)\n",
    "for i in range(10):\n",
    "    print(\"{0} => {1}\".format(y_mnist_train[i], y_mnist_train_one_hot[i]))"
   ]
  },
  {
   "cell_type": "code",
   "execution_count": null,
   "metadata": {
    "id": "2mqtGIUEUaNR"
   },
   "outputs": [],
   "source": [
    "# Downloads data at first execution\n",
    "(x_mnist_fashion_train, y_mnist_fashion_train), (x_mnist_fashion_test, y_mnist_fashion_test) = tf.keras.datasets.fashion_mnist.load_data()"
   ]
  },
  {
   "cell_type": "code",
   "execution_count": null,
   "metadata": {
    "id": "mY_9jKLCUaNR"
   },
   "outputs": [],
   "source": [
    "# Normalize to range 0-1\n",
    "x_mnist_fashion_train = x_mnist_fashion_train/255.0\n",
    "x_mnist_fashion_test = x_mnist_fashion_test/255.0"
   ]
  },
  {
   "cell_type": "code",
   "execution_count": null,
   "metadata": {
    "id": "jatFtLOrUaNR",
    "outputId": "dbaaa613-0b3c-4d92-8697-8eef40e8bca4"
   },
   "outputs": [
    {
     "name": "stdout",
     "output_type": "stream",
     "text": [
      "Reshaped training data from (60000, 28, 28) to (60000, 784)\n",
      "Reshaped test data from (10000, 28, 28) to (10000, 784)\n"
     ]
    }
   ],
   "source": [
    "x_mnist_fashion_train_reshaped = x_mnist_fashion_train.reshape(x_mnist_fashion_train.shape[0], x_mnist_fashion_train.shape[1]*x_mnist_fashion_train.shape[2])\n",
    "x_mnist_fashion_test_reshaped = x_mnist_fashion_test.reshape(x_mnist_fashion_test.shape[0], x_mnist_fashion_test.shape[1]*x_mnist_fashion_test.shape[2])\n",
    "print(\"Reshaped training data from {0} to {1}\".format(x_mnist_fashion_train.shape, x_mnist_fashion_train_reshaped.shape))\n",
    "print(\"Reshaped test data from {0} to {1}\".format(x_mnist_fashion_test.shape, x_mnist_fashion_test_reshaped.shape))"
   ]
  },
  {
   "cell_type": "code",
   "execution_count": null,
   "metadata": {
    "id": "-0HkWImtUaNR",
    "outputId": "20b04381-2151-47f1-d7be-fd1bf12ada56"
   },
   "outputs": [
    {
     "data": {
      "image/png": "[encoded data removed]",
      "text/plain": [
       "<Figure size 432x288 with 24 Axes>"
      ]
     },
     "metadata": {
      "needs_background": "light",
      "tags": []
     },
     "output_type": "display_data"
    }
   ],
   "source": [
    "plot_some_samples(x_mnist_fashion_train, y_mnist_fashion_train, ncols=6, nrows=4);"
   ]
  },
  {
   "cell_type": "code",
   "execution_count": null,
   "metadata": {
    "id": "Gwh6zzspUaNS",
    "outputId": "cd4a8115-d7bf-40fb-9225-3a742c4adcc2"
   },
   "outputs": [
    {
     "name": "stdout",
     "output_type": "stream",
     "text": [
      "9 => [0. 0. 0. 0. 0. 0. 0. 0. 0. 1.]\n",
      "0 => [1. 0. 0. 0. 0. 0. 0. 0. 0. 0.]\n",
      "0 => [1. 0. 0. 0. 0. 0. 0. 0. 0. 0.]\n",
      "3 => [0. 0. 0. 1. 0. 0. 0. 0. 0. 0.]\n",
      "0 => [1. 0. 0. 0. 0. 0. 0. 0. 0. 0.]\n",
      "2 => [0. 0. 1. 0. 0. 0. 0. 0. 0. 0.]\n",
      "7 => [0. 0. 0. 0. 0. 0. 0. 1. 0. 0.]\n",
      "2 => [0. 0. 1. 0. 0. 0. 0. 0. 0. 0.]\n",
      "5 => [0. 0. 0. 0. 0. 1. 0. 0. 0. 0.]\n",
      "5 => [0. 0. 0. 0. 0. 1. 0. 0. 0. 0.]\n"
     ]
    }
   ],
   "source": [
    "y_mnist_fashion_train_one_hot = to_categorical(y_mnist_fashion_train)\n",
    "y_mnist_fashion_test_one_hot = to_categorical(y_mnist_fashion_test)\n",
    "for i in range(10):\n",
    "    print(\"{0} => {1}\".format(y_mnist_fashion_train[i], y_mnist_fashion_train_one_hot[i]))"
   ]
  },
  {
   "cell_type": "markdown",
   "metadata": {
    "id": "JqIlAKCtUaNS"
   },
   "source": [
    "## Exercise 2: No hidden layer (10 points)\n",
    "\n",
    "Define and fit a model without a hidden layer (since we will use multi-layer models later in this project, you can define a general constructor function for models with an arbitrary number of hidden layers already at this point). Note that in this miniproject there is no real test dataset and what is loaded as a test dataset is used for validation. First, implement 1.-3. for the MNIST dataset.  \n",
    "\n",
    "1. Implement the model with the following specifications: use the softmax activation for the output layer, use the categorical_crossentropy loss, choose stochastic gradient descent for the optimizer, and add the accuracy metric to the metrics. (5 pts)\n",
    "2. Train for as many epochs as needed to see no further decrease in the validation loss. (1 pt)\n",
    "3. Plot the learning curves resulting from the fitting procedure (a history object) using the function `plot_history` defined above. (1 pt)\n",
    "4. Repeat the above steps for fitting the network to the Fashion-MNIST dataset. (2 pts)\n",
    "5. Report the best validation accuracy achieved for each one of the datasets. Do you observe overfitting already for this simple model? Answer separetely for the MNIST dataset and Fashion-MNIST dataset. (1 pt)<br/>\n",
    "=> *MNIST: Since the training and validation losses as well as training and validation accuracies are very close we would not say that the mnist model is significantly overfitting. \n",
    "<font color='red'>If overfitting, we should see the test lost stopping to decrease (i.e. increasing). But I am not sure that the difference between train loss and validation loss is a consistent proof. For example if the batch size is small, difference can be big. In addition if you learn for more epochs train loss continue to decrease while test loss stabilises.</font>\n",
    "Furthermore, since there is a lot of training data for a models with only 7960 parameters it is unlikely that the model is overfitting.*\n",
    "\n",
    "\n",
    "*Hint:* Read the keras docs, in particular [Getting started with the Keras Sequential model](https://keras.io/getting-started/sequential-model-guide/)."
   ]
  },
  {
   "cell_type": "markdown",
   "metadata": {
    "id": "y1lCgMHFUaNT"
   },
   "source": [
    "**Answer to Question 5** (max 2 sentences): "
   ]
  },
  {
   "cell_type": "markdown",
   "metadata": {
    "id": "2SFm2b-AUaNT"
   },
   "source": [
    "### Solution"
   ]
  },
  {
   "cell_type": "code",
   "execution_count": null,
   "metadata": {
    "id": "LaX23myGUaNT",
    "outputId": "5742955c-af14-4281-b7d3-b4162f374236"
   },
   "outputs": [
    {
     "name": "stdout",
     "output_type": "stream",
     "text": [
      "Model: \"sequential_55\"\n",
      "_________________________________________________________________\n",
      "Layer (type)                 Output Shape              Param #   \n",
      "=================================================================\n",
      "dense_102 (Dense)            (None, 10)                7850      \n",
      "_________________________________________________________________\n",
      "dense_103 (Dense)            (None, 10)                110       \n",
      "=================================================================\n",
      "Total params: 7,960\n",
      "Trainable params: 7,960\n",
      "Non-trainable params: 0\n",
      "_________________________________________________________________\n"
     ]
    }
   ],
   "source": [
    "from keras.models import Sequential # ALREADY IMPORTED!\n",
    "from keras.layers import Dense # ALREADY IMPORTED!\n",
    "from keras.layers import Softmax # NOT USED!\n",
    "from keras.callbacks import EarlyStopping\n",
    "from keras.callbacks import ModelCheckpoint\n",
    "from keras.callbacks import History\n",
    "\n",
    "# Create model\n",
    "model = Sequential()\n",
    "\n",
    "# Get number of columns in training data\n",
    "n_cols = x_mnist_train_reshaped.shape[1]\n",
    "\n",
    "model.add(Dense(10, activation='relu', input_shape=(n_cols,)))\n",
    "model.add(Dense(10, activation='softmax'))\n",
    "model.compile(optimizer='SGD', loss='categorical_crossentropy', metrics=[\"accuracy\"])\n",
    "model.summary()"
   ]
  },
  {
   "cell_type": "markdown",
   "metadata": {
    "id": "njBxxDr8wTFZ"
   },
   "source": [
    "<font color='red'>It appears that the ModelCheckpoint callback is not used.</font>"
   ]
  },
  {
   "cell_type": "code",
   "execution_count": null,
   "metadata": {
    "id": "zh1iwNmFUaNU",
    "outputId": "b89b1eca-dc94-455e-c897-5ba3a1220d79"
   },
   "outputs": [
    {
     "name": "stdout",
     "output_type": "stream",
     "text": [
      "Train on 60000 samples, validate on 10000 samples\n",
      "Epoch 1/100\n",
      "60000/60000 [==============================] - 2s 37us/step - loss: 0.9315 - accuracy: 0.7363 - val_loss: 0.4469 - val_accuracy: 0.8778\n",
      "\n",
      "Epoch 00001: val_loss improved from inf to 0.44692, saving model to exercise-02_mnist.h5\n",
      "Epoch 2/100\n",
      "60000/60000 [==============================] - 2s 30us/step - loss: 0.4052 - accuracy: 0.8860 - val_loss: 0.3547 - val_accuracy: 0.9012\n",
      "\n",
      "Epoch 00002: val_loss improved from 0.44692 to 0.35471, saving model to exercise-02_mnist.h5\n",
      "Epoch 3/100\n",
      "60000/60000 [==============================] - 2s 33us/step - loss: 0.3485 - accuracy: 0.9009 - val_loss: 0.3214 - val_accuracy: 0.9080\n",
      "\n",
      "Epoch 00003: val_loss improved from 0.35471 to 0.32143, saving model to exercise-02_mnist.h5\n",
      "Epoch 4/100\n",
      "60000/60000 [==============================] - 2s 36us/step - loss: 0.3211 - accuracy: 0.9087 - val_loss: 0.3020 - val_accuracy: 0.9137\n",
      "\n",
      "Epoch 00004: val_loss improved from 0.32143 to 0.30197, saving model to exercise-02_mnist.h5\n",
      "Epoch 5/100\n",
      "60000/60000 [==============================] - 2s 34us/step - loss: 0.3040 - accuracy: 0.9136 - val_loss: 0.2888 - val_accuracy: 0.9181\n",
      "\n",
      "Epoch 00005: val_loss improved from 0.30197 to 0.28876, saving model to exercise-02_mnist.h5\n",
      "Epoch 6/100\n",
      "60000/60000 [==============================] - 2s 37us/step - loss: 0.2916 - accuracy: 0.9168 - val_loss: 0.2811 - val_accuracy: 0.9187\n",
      "\n",
      "Epoch 00006: val_loss improved from 0.28876 to 0.28114, saving model to exercise-02_mnist.h5\n",
      "Epoch 7/100\n",
      "60000/60000 [==============================] - 2s 36us/step - loss: 0.2823 - accuracy: 0.9186 - val_loss: 0.2753 - val_accuracy: 0.9196\n",
      "\n",
      "Epoch 00007: val_loss improved from 0.28114 to 0.27531, saving model to exercise-02_mnist.h5\n",
      "Epoch 8/100\n",
      "60000/60000 [==============================] - 2s 36us/step - loss: 0.2751 - accuracy: 0.9212 - val_loss: 0.2668 - val_accuracy: 0.9211\n",
      "\n",
      "Epoch 00008: val_loss improved from 0.27531 to 0.26684, saving model to exercise-02_mnist.h5\n",
      "Epoch 9/100\n",
      "60000/60000 [==============================] - 2s 33us/step - loss: 0.2692 - accuracy: 0.9234 - val_loss: 0.2664 - val_accuracy: 0.9232\n",
      "\n",
      "Epoch 00009: val_loss improved from 0.26684 to 0.26644, saving model to exercise-02_mnist.h5\n",
      "Epoch 10/100\n",
      "60000/60000 [==============================] - 2s 35us/step - loss: 0.2642 - accuracy: 0.9240 - val_loss: 0.2582 - val_accuracy: 0.9250\n",
      "\n",
      "Epoch 00010: val_loss improved from 0.26644 to 0.25816, saving model to exercise-02_mnist.h5\n",
      "Epoch 11/100\n",
      "60000/60000 [==============================] - 2s 35us/step - loss: 0.2599 - accuracy: 0.9259 - val_loss: 0.2553 - val_accuracy: 0.9267\n",
      "\n",
      "Epoch 00011: val_loss improved from 0.25816 to 0.25532, saving model to exercise-02_mnist.h5\n",
      "Epoch 12/100\n",
      "60000/60000 [==============================] - 2s 35us/step - loss: 0.2563 - accuracy: 0.9276 - val_loss: 0.2552 - val_accuracy: 0.9264\n",
      "\n",
      "Epoch 00012: val_loss improved from 0.25532 to 0.25518, saving model to exercise-02_mnist.h5\n",
      "Epoch 13/100\n",
      "60000/60000 [==============================] - 2s 34us/step - loss: 0.2530 - accuracy: 0.9279 - val_loss: 0.2540 - val_accuracy: 0.9261\n",
      "\n",
      "Epoch 00013: val_loss improved from 0.25518 to 0.25398, saving model to exercise-02_mnist.h5\n",
      "Epoch 14/100\n",
      "60000/60000 [==============================] - 2s 33us/step - loss: 0.2503 - accuracy: 0.9281 - val_loss: 0.2516 - val_accuracy: 0.9277\n",
      "\n",
      "Epoch 00014: val_loss improved from 0.25398 to 0.25162, saving model to exercise-02_mnist.h5\n",
      "Epoch 15/100\n",
      "60000/60000 [==============================] - 2s 32us/step - loss: 0.2479 - accuracy: 0.9293 - val_loss: 0.2464 - val_accuracy: 0.9293\n",
      "\n",
      "Epoch 00015: val_loss improved from 0.25162 to 0.24642, saving model to exercise-02_mnist.h5\n",
      "Epoch 16/100\n",
      "60000/60000 [==============================] - 2s 33us/step - loss: 0.2453 - accuracy: 0.9304 - val_loss: 0.2483 - val_accuracy: 0.9278\n",
      "\n",
      "Epoch 00016: val_loss did not improve from 0.24642\n",
      "Epoch 17/100\n",
      "60000/60000 [==============================] - 2s 40us/step - loss: 0.2430 - accuracy: 0.9312 - val_loss: 0.2448 - val_accuracy: 0.9284\n",
      "\n",
      "Epoch 00017: val_loss improved from 0.24642 to 0.24485, saving model to exercise-02_mnist.h5\n",
      "Epoch 18/100\n",
      "60000/60000 [==============================] - 2s 39us/step - loss: 0.2410 - accuracy: 0.9313 - val_loss: 0.2428 - val_accuracy: 0.9292\n",
      "\n",
      "Epoch 00018: val_loss improved from 0.24485 to 0.24280, saving model to exercise-02_mnist.h5\n",
      "Epoch 19/100\n",
      "60000/60000 [==============================] - 2s 34us/step - loss: 0.2393 - accuracy: 0.9323 - val_loss: 0.2433 - val_accuracy: 0.9299\n",
      "\n",
      "Epoch 00019: val_loss did not improve from 0.24280\n",
      "Epoch 20/100\n",
      "60000/60000 [==============================] - 2s 37us/step - loss: 0.2372 - accuracy: 0.9322 - val_loss: 0.2417 - val_accuracy: 0.9308\n",
      "\n",
      "Epoch 00020: val_loss improved from 0.24280 to 0.24168, saving model to exercise-02_mnist.h5\n",
      "Epoch 00020: early stopping\n"
     ]
    }
   ],
   "source": [
    "mc = ModelCheckpoint('exercise-02_mnist.h5', monitor='val_loss', mode='min', save_best_only=True, verbose=1)\n",
    "es = EarlyStopping(monitor='val_loss', mode='min', verbose=1, patience=5, min_delta=0.01)\n",
    "# In fit, validation_split is overrided by validation_data!\n",
    "history = model.fit(x_mnist_train_reshaped, y_mnist_train_one_hot, validation_data=(x_mnist_test_reshaped, y_mnist_test_one_hot), epochs=100, callbacks=[es, mc], validation_split=0.2)"
   ]
  },
  {
   "cell_type": "code",
   "execution_count": null,
   "metadata": {
    "id": "LrX2DgATUaNV",
    "outputId": "4abee7d5-c1c7-4c2b-ef44-30ce209cbf62"
   },
   "outputs": [
    {
     "data": {
      "image/png": "[encoded data removed]",
      "text/plain": [
       "<Figure size 432x288 with 2 Axes>"
      ]
     },
     "metadata": {
      "needs_background": "light",
      "tags": []
     },
     "output_type": "display_data"
    }
   ],
   "source": [
    "# We saw that the improvement of the validation accuracy levels out after 25/30 epochs\n",
    "plot_history(history, \"No Hidden Layer @ MNIST\");"
   ]
  },
  {
   "cell_type": "markdown",
   "metadata": {
    "id": "Tg7b7n3sulvq"
   },
   "source": [
    "<font color='red'>Instead of recreating the model, we could reset it, with \"model.reset_states()\".</font>"
   ]
  },
  {
   "cell_type": "code",
   "execution_count": null,
   "metadata": {
    "id": "WjTjixvRUaNV",
    "outputId": "7adecd28-6cc8-4744-b1df-06e007d96fd8"
   },
   "outputs": [
    {
     "name": "stdout",
     "output_type": "stream",
     "text": [
      "Model: \"sequential_58\"\n",
      "_________________________________________________________________\n",
      "Layer (type)                 Output Shape              Param #   \n",
      "=================================================================\n",
      "dense_108 (Dense)            (None, 10)                7850      \n",
      "_________________________________________________________________\n",
      "dense_109 (Dense)            (None, 10)                110       \n",
      "=================================================================\n",
      "Total params: 7,960\n",
      "Trainable params: 7,960\n",
      "Non-trainable params: 0\n",
      "_________________________________________________________________\n"
     ]
    }
   ],
   "source": [
    "#Create model\n",
    "model = Sequential()\n",
    "\n",
    "# Get number of columns in training data\n",
    "n_cols = x_mnist_train_reshaped.shape[1]\n",
    "\n",
    "model.add(Dense(10, activation='relu', input_shape=(n_cols,)))\n",
    "model.add(Dense(10, activation='softmax'))\n",
    "model.compile(optimizer='SGD', loss='categorical_crossentropy', metrics=[\"accuracy\"])\n",
    "model.summary()"
   ]
  },
  {
   "cell_type": "code",
   "execution_count": null,
   "metadata": {
    "id": "oHZBoga-UaNW",
    "outputId": "66ba4793-052c-4add-ba80-03bef9fe9884"
   },
   "outputs": [
    {
     "name": "stdout",
     "output_type": "stream",
     "text": [
      "Train on 60000 samples, validate on 10000 samples\n",
      "Epoch 1/100\n",
      "60000/60000 [==============================] - 2s 37us/step - loss: 0.8925 - accuracy: 0.7025 - val_loss: 0.6306 - val_accuracy: 0.7793\n",
      "\n",
      "Epoch 00001: val_loss improved from inf to 0.63059, saving model to exercise-02_mnist-fashion.h5\n",
      "Epoch 2/100\n",
      "60000/60000 [==============================] - 2s 31us/step - loss: 0.5673 - accuracy: 0.8063 - val_loss: 0.5526 - val_accuracy: 0.8121\n",
      "\n",
      "Epoch 00002: val_loss improved from 0.63059 to 0.55260, saving model to exercise-02_mnist-fashion.h5\n",
      "Epoch 3/100\n",
      "60000/60000 [==============================] - 2s 31us/step - loss: 0.5132 - accuracy: 0.8252 - val_loss: 0.5391 - val_accuracy: 0.8135\n",
      "\n",
      "Epoch 00003: val_loss improved from 0.55260 to 0.53913, saving model to exercise-02_mnist-fashion.h5\n",
      "Epoch 4/100\n",
      "60000/60000 [==============================] - 2s 31us/step - loss: 0.4866 - accuracy: 0.8321 - val_loss: 0.5024 - val_accuracy: 0.8254\n",
      "\n",
      "Epoch 00004: val_loss improved from 0.53913 to 0.50245, saving model to exercise-02_mnist-fashion.h5\n",
      "Epoch 5/100\n",
      "60000/60000 [==============================] - 2s 31us/step - loss: 0.4698 - accuracy: 0.8372 - val_loss: 0.4929 - val_accuracy: 0.8275\n",
      "\n",
      "Epoch 00005: val_loss improved from 0.50245 to 0.49293, saving model to exercise-02_mnist-fashion.h5\n",
      "Epoch 6/100\n",
      "60000/60000 [==============================] - 2s 32us/step - loss: 0.4576 - accuracy: 0.8423 - val_loss: 0.4793 - val_accuracy: 0.8324\n",
      "\n",
      "Epoch 00006: val_loss improved from 0.49293 to 0.47926, saving model to exercise-02_mnist-fashion.h5\n",
      "Epoch 7/100\n",
      "60000/60000 [==============================] - 2s 33us/step - loss: 0.4478 - accuracy: 0.8454 - val_loss: 0.4773 - val_accuracy: 0.8323\n",
      "\n",
      "Epoch 00007: val_loss improved from 0.47926 to 0.47727, saving model to exercise-02_mnist-fashion.h5\n",
      "Epoch 8/100\n",
      "60000/60000 [==============================] - 2s 37us/step - loss: 0.4397 - accuracy: 0.8466 - val_loss: 0.4778 - val_accuracy: 0.8338\n",
      "\n",
      "Epoch 00008: val_loss did not improve from 0.47727\n",
      "Epoch 9/100\n",
      "60000/60000 [==============================] - 2s 36us/step - loss: 0.4339 - accuracy: 0.8493 - val_loss: 0.4611 - val_accuracy: 0.8370\n",
      "\n",
      "Epoch 00009: val_loss improved from 0.47727 to 0.46108, saving model to exercise-02_mnist-fashion.h5\n",
      "Epoch 10/100\n",
      "60000/60000 [==============================] - 2s 36us/step - loss: 0.4285 - accuracy: 0.8512 - val_loss: 0.4632 - val_accuracy: 0.8359\n",
      "\n",
      "Epoch 00010: val_loss did not improve from 0.46108\n",
      "Epoch 11/100\n",
      "60000/60000 [==============================] - 2s 33us/step - loss: 0.4244 - accuracy: 0.8531 - val_loss: 0.4568 - val_accuracy: 0.8394\n",
      "\n",
      "Epoch 00011: val_loss improved from 0.46108 to 0.45676, saving model to exercise-02_mnist-fashion.h5\n",
      "Epoch 12/100\n",
      "60000/60000 [==============================] - 2s 35us/step - loss: 0.4202 - accuracy: 0.8536 - val_loss: 0.4557 - val_accuracy: 0.8409\n",
      "\n",
      "Epoch 00012: val_loss improved from 0.45676 to 0.45574, saving model to exercise-02_mnist-fashion.h5\n",
      "Epoch 13/100\n",
      "60000/60000 [==============================] - 2s 37us/step - loss: 0.4157 - accuracy: 0.8552 - val_loss: 0.4580 - val_accuracy: 0.8399\n",
      "\n",
      "Epoch 00013: val_loss did not improve from 0.45574\n",
      "Epoch 14/100\n",
      "60000/60000 [==============================] - 2s 33us/step - loss: 0.4115 - accuracy: 0.8568 - val_loss: 0.4532 - val_accuracy: 0.8397\n",
      "\n",
      "Epoch 00014: val_loss improved from 0.45574 to 0.45321, saving model to exercise-02_mnist-fashion.h5\n",
      "Epoch 15/100\n",
      "60000/60000 [==============================] - 2s 34us/step - loss: 0.4091 - accuracy: 0.8576 - val_loss: 0.4560 - val_accuracy: 0.8377\n",
      "\n",
      "Epoch 00015: val_loss did not improve from 0.45321\n",
      "Epoch 16/100\n",
      "60000/60000 [==============================] - 2s 35us/step - loss: 0.4065 - accuracy: 0.8585 - val_loss: 0.4477 - val_accuracy: 0.8427\n",
      "\n",
      "Epoch 00016: val_loss improved from 0.45321 to 0.44775, saving model to exercise-02_mnist-fashion.h5\n",
      "Epoch 17/100\n",
      "60000/60000 [==============================] - 2s 34us/step - loss: 0.4027 - accuracy: 0.8594 - val_loss: 0.4405 - val_accuracy: 0.8428\n",
      "\n",
      "Epoch 00017: val_loss improved from 0.44775 to 0.44051, saving model to exercise-02_mnist-fashion.h5\n",
      "Epoch 18/100\n",
      "60000/60000 [==============================] - 2s 32us/step - loss: 0.3997 - accuracy: 0.8612 - val_loss: 0.4402 - val_accuracy: 0.8429\n",
      "\n",
      "Epoch 00018: val_loss improved from 0.44051 to 0.44020, saving model to exercise-02_mnist-fashion.h5\n",
      "Epoch 19/100\n",
      "60000/60000 [==============================] - 2s 33us/step - loss: 0.3975 - accuracy: 0.8615 - val_loss: 0.4383 - val_accuracy: 0.8443\n",
      "\n",
      "Epoch 00019: val_loss improved from 0.44020 to 0.43829, saving model to exercise-02_mnist-fashion.h5\n",
      "Epoch 20/100\n",
      "60000/60000 [==============================] - 2s 37us/step - loss: 0.3942 - accuracy: 0.8627 - val_loss: 0.4368 - val_accuracy: 0.8453\n",
      "\n",
      "Epoch 00020: val_loss improved from 0.43829 to 0.43677, saving model to exercise-02_mnist-fashion.h5\n",
      "Epoch 21/100\n",
      "60000/60000 [==============================] - 2s 31us/step - loss: 0.3931 - accuracy: 0.8632 - val_loss: 0.4297 - val_accuracy: 0.8471\n",
      "\n",
      "Epoch 00021: val_loss improved from 0.43677 to 0.42969, saving model to exercise-02_mnist-fashion.h5\n",
      "Epoch 22/100\n",
      "60000/60000 [==============================] - 2s 36us/step - loss: 0.3912 - accuracy: 0.8641 - val_loss: 0.4355 - val_accuracy: 0.8468\n",
      "\n",
      "Epoch 00022: val_loss did not improve from 0.42969\n",
      "Epoch 23/100\n",
      "60000/60000 [==============================] - 2s 33us/step - loss: 0.3875 - accuracy: 0.8643 - val_loss: 0.4347 - val_accuracy: 0.8461\n",
      "\n",
      "Epoch 00023: val_loss did not improve from 0.42969\n",
      "Epoch 24/100\n",
      "60000/60000 [==============================] - 2s 31us/step - loss: 0.3865 - accuracy: 0.8655 - val_loss: 0.4339 - val_accuracy: 0.8488\n",
      "\n",
      "Epoch 00024: val_loss did not improve from 0.42969\n",
      "Epoch 25/100\n",
      "60000/60000 [==============================] - 2s 31us/step - loss: 0.3844 - accuracy: 0.8649 - val_loss: 0.4275 - val_accuracy: 0.8480\n",
      "\n",
      "Epoch 00025: val_loss improved from 0.42969 to 0.42752, saving model to exercise-02_mnist-fashion.h5\n",
      "Epoch 26/100\n",
      "60000/60000 [==============================] - 2s 31us/step - loss: 0.3822 - accuracy: 0.8661 - val_loss: 0.4235 - val_accuracy: 0.8514\n",
      "\n",
      "Epoch 00026: val_loss improved from 0.42752 to 0.42355, saving model to exercise-02_mnist-fashion.h5\n",
      "Epoch 27/100\n",
      "60000/60000 [==============================] - 2s 33us/step - loss: 0.3808 - accuracy: 0.8672 - val_loss: 0.4295 - val_accuracy: 0.8500\n",
      "\n",
      "Epoch 00027: val_loss did not improve from 0.42355\n",
      "Epoch 28/100\n",
      "60000/60000 [==============================] - 2s 31us/step - loss: 0.3792 - accuracy: 0.8685 - val_loss: 0.4214 - val_accuracy: 0.8516\n",
      "\n",
      "Epoch 00028: val_loss improved from 0.42355 to 0.42140, saving model to exercise-02_mnist-fashion.h5\n",
      "Epoch 29/100\n",
      "60000/60000 [==============================] - 2s 33us/step - loss: 0.3768 - accuracy: 0.8671 - val_loss: 0.4263 - val_accuracy: 0.8519\n",
      "\n",
      "Epoch 00029: val_loss did not improve from 0.42140\n",
      "Epoch 30/100\n",
      "60000/60000 [==============================] - 2s 38us/step - loss: 0.3764 - accuracy: 0.8682 - val_loss: 0.4281 - val_accuracy: 0.8498\n",
      "\n",
      "Epoch 00030: val_loss did not improve from 0.42140\n",
      "Epoch 31/100\n",
      "60000/60000 [==============================] - 2s 33us/step - loss: 0.3746 - accuracy: 0.8687 - val_loss: 0.4233 - val_accuracy: 0.8493\n",
      "\n",
      "Epoch 00031: val_loss did not improve from 0.42140\n",
      "Epoch 32/100\n",
      "60000/60000 [==============================] - 2s 37us/step - loss: 0.3741 - accuracy: 0.8703 - val_loss: 0.4283 - val_accuracy: 0.8498\n",
      "\n",
      "Epoch 00032: val_loss did not improve from 0.42140\n",
      "Epoch 33/100\n",
      "60000/60000 [==============================] - 2s 34us/step - loss: 0.3720 - accuracy: 0.8697 - val_loss: 0.4270 - val_accuracy: 0.8455\n",
      "\n",
      "Epoch 00033: val_loss did not improve from 0.42140\n",
      "Epoch 34/100\n",
      "60000/60000 [==============================] - 2s 33us/step - loss: 0.3708 - accuracy: 0.8700 - val_loss: 0.4234 - val_accuracy: 0.8537\n",
      "\n",
      "Epoch 00034: val_loss did not improve from 0.42140\n",
      "Epoch 35/100\n",
      "60000/60000 [==============================] - 2s 32us/step - loss: 0.3698 - accuracy: 0.8707 - val_loss: 0.4276 - val_accuracy: 0.8508\n",
      "\n",
      "Epoch 00035: val_loss did not improve from 0.42140\n",
      "Epoch 36/100\n",
      "60000/60000 [==============================] - 2s 34us/step - loss: 0.3680 - accuracy: 0.8716 - val_loss: 0.4234 - val_accuracy: 0.8527\n",
      "\n",
      "Epoch 00036: val_loss did not improve from 0.42140\n",
      "Epoch 37/100\n",
      "60000/60000 [==============================] - 2s 33us/step - loss: 0.3671 - accuracy: 0.8721 - val_loss: 0.4190 - val_accuracy: 0.8516\n",
      "\n",
      "Epoch 00037: val_loss improved from 0.42140 to 0.41897, saving model to exercise-02_mnist-fashion.h5\n",
      "Epoch 38/100\n",
      "60000/60000 [==============================] - 2s 33us/step - loss: 0.3662 - accuracy: 0.8722 - val_loss: 0.4164 - val_accuracy: 0.8537\n",
      "\n",
      "Epoch 00038: val_loss improved from 0.41897 to 0.41635, saving model to exercise-02_mnist-fashion.h5\n",
      "Epoch 39/100\n",
      "60000/60000 [==============================] - 2s 37us/step - loss: 0.3652 - accuracy: 0.8718 - val_loss: 0.4331 - val_accuracy: 0.8488\n",
      "\n",
      "Epoch 00039: val_loss did not improve from 0.41635\n",
      "Epoch 40/100\n",
      "60000/60000 [==============================] - 2s 36us/step - loss: 0.3642 - accuracy: 0.8731 - val_loss: 0.4227 - val_accuracy: 0.8539\n",
      "\n",
      "Epoch 00040: val_loss did not improve from 0.41635\n",
      "Epoch 41/100\n",
      "60000/60000 [==============================] - 2s 38us/step - loss: 0.3633 - accuracy: 0.8726 - val_loss: 0.4233 - val_accuracy: 0.8513\n",
      "\n",
      "Epoch 00041: val_loss did not improve from 0.41635\n",
      "Epoch 42/100\n",
      "60000/60000 [==============================] - 2s 33us/step - loss: 0.3627 - accuracy: 0.8738 - val_loss: 0.4127 - val_accuracy: 0.8549\n",
      "\n",
      "Epoch 00042: val_loss improved from 0.41635 to 0.41267, saving model to exercise-02_mnist-fashion.h5\n",
      "Epoch 43/100\n",
      "60000/60000 [==============================] - 2s 34us/step - loss: 0.3616 - accuracy: 0.8731 - val_loss: 0.4148 - val_accuracy: 0.8563\n",
      "\n",
      "Epoch 00043: val_loss did not improve from 0.41267\n",
      "Epoch 44/100\n",
      "60000/60000 [==============================] - 2s 34us/step - loss: 0.3598 - accuracy: 0.8750 - val_loss: 0.4133 - val_accuracy: 0.8527\n",
      "\n",
      "Epoch 00044: val_loss did not improve from 0.41267\n",
      "Epoch 45/100\n",
      "60000/60000 [==============================] - 2s 32us/step - loss: 0.3593 - accuracy: 0.8737 - val_loss: 0.4197 - val_accuracy: 0.8515\n",
      "\n",
      "Epoch 00045: val_loss did not improve from 0.41267\n",
      "Epoch 46/100\n",
      "60000/60000 [==============================] - 2s 30us/step - loss: 0.3589 - accuracy: 0.8749 - val_loss: 0.4168 - val_accuracy: 0.8556\n",
      "\n",
      "Epoch 00046: val_loss did not improve from 0.41267\n",
      "Epoch 47/100\n",
      "60000/60000 [==============================] - 2s 35us/step - loss: 0.3578 - accuracy: 0.8752 - val_loss: 0.4215 - val_accuracy: 0.8531\n",
      "\n",
      "Epoch 00047: val_loss did not improve from 0.41267\n",
      "Epoch 48/100\n",
      "60000/60000 [==============================] - 2s 37us/step - loss: 0.3574 - accuracy: 0.8752 - val_loss: 0.4182 - val_accuracy: 0.8539\n",
      "\n",
      "Epoch 00048: val_loss did not improve from 0.41267\n",
      "Epoch 49/100\n",
      "60000/60000 [==============================] - 2s 37us/step - loss: 0.3564 - accuracy: 0.8749 - val_loss: 0.4278 - val_accuracy: 0.8474\n",
      "\n",
      "Epoch 00049: val_loss did not improve from 0.41267\n",
      "Epoch 50/100\n",
      "60000/60000 [==============================] - 2s 39us/step - loss: 0.3547 - accuracy: 0.8760 - val_loss: 0.4111 - val_accuracy: 0.8559\n",
      "\n",
      "Epoch 00050: val_loss improved from 0.41267 to 0.41112, saving model to exercise-02_mnist-fashion.h5\n",
      "Epoch 51/100\n",
      "60000/60000 [==============================] - 2s 34us/step - loss: 0.3547 - accuracy: 0.8758 - val_loss: 0.4188 - val_accuracy: 0.8528\n",
      "\n",
      "Epoch 00051: val_loss did not improve from 0.41112\n",
      "Epoch 52/100\n",
      "60000/60000 [==============================] - 2s 34us/step - loss: 0.3534 - accuracy: 0.8767 - val_loss: 0.4157 - val_accuracy: 0.8515\n",
      "\n",
      "Epoch 00052: val_loss did not improve from 0.41112\n",
      "Epoch 53/100\n",
      "60000/60000 [==============================] - 2s 36us/step - loss: 0.3536 - accuracy: 0.8774 - val_loss: 0.4189 - val_accuracy: 0.8506\n",
      "\n",
      "Epoch 00053: val_loss did not improve from 0.41112\n",
      "Epoch 54/100\n",
      "60000/60000 [==============================] - 2s 38us/step - loss: 0.3528 - accuracy: 0.8771 - val_loss: 0.4111 - val_accuracy: 0.8576\n",
      "\n",
      "Epoch 00054: val_loss improved from 0.41112 to 0.41109, saving model to exercise-02_mnist-fashion.h5\n",
      "Epoch 55/100\n",
      "60000/60000 [==============================] - 2s 35us/step - loss: 0.3518 - accuracy: 0.8768 - val_loss: 0.4168 - val_accuracy: 0.8527\n",
      "\n",
      "Epoch 00055: val_loss did not improve from 0.41109\n",
      "Epoch 56/100\n",
      "60000/60000 [==============================] - 2s 38us/step - loss: 0.3513 - accuracy: 0.8771 - val_loss: 0.4108 - val_accuracy: 0.8562\n",
      "\n",
      "Epoch 00056: val_loss improved from 0.41109 to 0.41083, saving model to exercise-02_mnist-fashion.h5\n",
      "Epoch 57/100\n",
      "60000/60000 [==============================] - 2s 38us/step - loss: 0.3509 - accuracy: 0.8778 - val_loss: 0.4112 - val_accuracy: 0.8566\n",
      "\n",
      "Epoch 00057: val_loss did not improve from 0.41083\n",
      "Epoch 58/100\n",
      "60000/60000 [==============================] - 2s 41us/step - loss: 0.3498 - accuracy: 0.8777 - val_loss: 0.4207 - val_accuracy: 0.8501\n",
      "\n",
      "Epoch 00058: val_loss did not improve from 0.41083\n",
      "Epoch 59/100\n",
      "60000/60000 [==============================] - 2s 33us/step - loss: 0.3493 - accuracy: 0.8778 - val_loss: 0.4218 - val_accuracy: 0.8502\n",
      "\n",
      "Epoch 00059: val_loss did not improve from 0.41083\n",
      "Epoch 60/100\n",
      "60000/60000 [==============================] - 2s 35us/step - loss: 0.3487 - accuracy: 0.8787 - val_loss: 0.4169 - val_accuracy: 0.8550\n",
      "\n",
      "Epoch 00060: val_loss did not improve from 0.41083\n",
      "Epoch 61/100\n",
      "60000/60000 [==============================] - 2s 36us/step - loss: 0.3479 - accuracy: 0.8782 - val_loss: 0.4091 - val_accuracy: 0.8561\n",
      "\n",
      "Epoch 00061: val_loss improved from 0.41083 to 0.40906, saving model to exercise-02_mnist-fashion.h5\n",
      "Epoch 62/100\n",
      "60000/60000 [==============================] - 2s 33us/step - loss: 0.3469 - accuracy: 0.8794 - val_loss: 0.4109 - val_accuracy: 0.8565\n",
      "\n",
      "Epoch 00062: val_loss did not improve from 0.40906\n",
      "Epoch 63/100\n",
      "60000/60000 [==============================] - 2s 33us/step - loss: 0.3465 - accuracy: 0.8791 - val_loss: 0.4146 - val_accuracy: 0.8558\n",
      "\n",
      "Epoch 00063: val_loss did not improve from 0.40906\n",
      "Epoch 64/100\n",
      "60000/60000 [==============================] - 2s 36us/step - loss: 0.3458 - accuracy: 0.8791 - val_loss: 0.4156 - val_accuracy: 0.8522\n",
      "\n",
      "Epoch 00064: val_loss did not improve from 0.40906\n",
      "Epoch 65/100\n",
      "60000/60000 [==============================] - 2s 35us/step - loss: 0.3457 - accuracy: 0.8789 - val_loss: 0.4160 - val_accuracy: 0.8539\n",
      "\n",
      "Epoch 00065: val_loss did not improve from 0.40906\n",
      "Epoch 66/100\n",
      "60000/60000 [==============================] - 2s 38us/step - loss: 0.3447 - accuracy: 0.8792 - val_loss: 0.4181 - val_accuracy: 0.8542\n",
      "\n",
      "Epoch 00066: val_loss did not improve from 0.40906\n",
      "Epoch 67/100\n",
      "60000/60000 [==============================] - 2s 40us/step - loss: 0.3447 - accuracy: 0.8792 - val_loss: 0.4145 - val_accuracy: 0.8538\n",
      "\n",
      "Epoch 00067: val_loss did not improve from 0.40906\n",
      "Epoch 68/100\n",
      "60000/60000 [==============================] - 2s 39us/step - loss: 0.3439 - accuracy: 0.8787 - val_loss: 0.4318 - val_accuracy: 0.8469\n",
      "\n",
      "Epoch 00068: val_loss did not improve from 0.40906\n",
      "Epoch 69/100\n",
      "60000/60000 [==============================] - 2s 32us/step - loss: 0.3433 - accuracy: 0.8800 - val_loss: 0.4083 - val_accuracy: 0.8558\n",
      "\n",
      "Epoch 00069: val_loss improved from 0.40906 to 0.40830, saving model to exercise-02_mnist-fashion.h5\n",
      "Epoch 70/100\n",
      "60000/60000 [==============================] - 2s 32us/step - loss: 0.3431 - accuracy: 0.8800 - val_loss: 0.4094 - val_accuracy: 0.8573\n",
      "\n",
      "Epoch 00070: val_loss did not improve from 0.40830\n",
      "Epoch 71/100\n",
      "60000/60000 [==============================] - 2s 31us/step - loss: 0.3425 - accuracy: 0.8802 - val_loss: 0.4139 - val_accuracy: 0.8553\n",
      "\n",
      "Epoch 00071: val_loss did not improve from 0.40830\n",
      "Epoch 72/100\n",
      "60000/60000 [==============================] - 2s 31us/step - loss: 0.3419 - accuracy: 0.8805 - val_loss: 0.4083 - val_accuracy: 0.8556\n",
      "\n",
      "Epoch 00072: val_loss did not improve from 0.40830\n",
      "Epoch 73/100\n",
      "60000/60000 [==============================] - 2s 33us/step - loss: 0.3413 - accuracy: 0.8809 - val_loss: 0.4232 - val_accuracy: 0.8506\n",
      "\n",
      "Epoch 00073: val_loss did not improve from 0.40830\n",
      "Epoch 74/100\n",
      "60000/60000 [==============================] - 2s 32us/step - loss: 0.3408 - accuracy: 0.8801 - val_loss: 0.4154 - val_accuracy: 0.8540\n",
      "\n",
      "Epoch 00074: val_loss did not improve from 0.40830\n",
      "Epoch 75/100\n",
      "60000/60000 [==============================] - 2s 34us/step - loss: 0.3402 - accuracy: 0.8800 - val_loss: 0.4229 - val_accuracy: 0.8512\n",
      "\n",
      "Epoch 00075: val_loss did not improve from 0.40830\n",
      "Epoch 76/100\n",
      "60000/60000 [==============================] - 2s 37us/step - loss: 0.3397 - accuracy: 0.8813 - val_loss: 0.4136 - val_accuracy: 0.8546\n",
      "\n",
      "Epoch 00076: val_loss did not improve from 0.40830\n",
      "Epoch 77/100\n",
      "60000/60000 [==============================] - 2s 37us/step - loss: 0.3395 - accuracy: 0.8800 - val_loss: 0.4147 - val_accuracy: 0.8535\n",
      "\n",
      "Epoch 00077: val_loss did not improve from 0.40830\n",
      "Epoch 78/100\n",
      "60000/60000 [==============================] - 2s 38us/step - loss: 0.3387 - accuracy: 0.8811 - val_loss: 0.4146 - val_accuracy: 0.8551\n",
      "\n",
      "Epoch 00078: val_loss did not improve from 0.40830\n",
      "Epoch 79/100\n",
      "60000/60000 [==============================] - 2s 31us/step - loss: 0.3388 - accuracy: 0.8807 - val_loss: 0.4164 - val_accuracy: 0.8519\n",
      "\n",
      "Epoch 00079: val_loss did not improve from 0.40830\n",
      "Epoch 00079: early stopping\n"
     ]
    }
   ],
   "source": [
    "mc = ModelCheckpoint('exercise-02_mnist-fashion.h5', monitor='val_loss', mode='min', save_best_only=True, verbose=1)\n",
    "es = EarlyStopping(monitor='val_loss', mode='min', verbose=1, patience=10)\n",
    "\n",
    "history = model.fit(x_mnist_fashion_train_reshaped, y_mnist_fashion_train_one_hot, validation_data=(x_mnist_fashion_test_reshaped, y_mnist_fashion_test_one_hot), epochs=100, callbacks=[es, mc], validation_split=0.2)"
   ]
  },
  {
   "cell_type": "code",
   "execution_count": null,
   "metadata": {
    "id": "PUF8Su3gUaNW",
    "outputId": "4ef58a2e-5a74-470b-e09b-942fe23fc6d0"
   },
   "outputs": [
    {
     "data": {
      "image/png": "[encoded data removed]",
      "text/plain": [
       "<Figure size 432x288 with 2 Axes>"
      ]
     },
     "metadata": {
      "needs_background": "light",
      "tags": []
     },
     "output_type": "display_data"
    }
   ],
   "source": [
    "plot_history(history, \"No Hidden Layer @ MNIST Fashion\");"
   ]
  },
  {
   "cell_type": "markdown",
   "metadata": {
    "id": "CJiTRi4rUaNW"
   },
   "source": [
    "## Exercise 3: One hidden layer, different optimizers (10 points)\n",
    "\n",
    "Train a network with one hidden layer and compare different optimizers for the MNIST dataset.\n",
    "\n",
    "1. Use one hidden layer with 128 units and the 'relu' activation. Use the [summary method](https://keras.io/api/models/model/#summary-method) to display your model in a compact way. (1 pt)\n",
    "2. Train the model for at least 50 epochs with different learning rates of stochastic gradient descent (SGD). What happens if the learning rate $\\eta$ is very large (for ex. $\\eta=1$), and very small (for ex. $\\eta=0.001$)? Comment on the fluctuations of the learning curve. (2 pts)\n",
    "3. Replace the stochastic gradient descent optimizer with the [Adam optimizer](https://keras.io/optimizers/#adam) (you can use the default learning rate). (1pt)\n",
    "4. Plot the learning curves of SGD with a good learning rate (i.e. in the range [0.01,0.1]) together with the learning curves of Adam in the same figure. Take care of a reasonable labeling of the curves in the plot. (1 pts)\n",
    "5. Explain the qualitative difference between the loss and accuracy curves with respect to signs of overfitting. Report the best validation accuracy achieved for SGD and Adam. Which one is better and why do you think so? (2 pts)\n",
    "6. Determine the indices of all test images that are misclassified by the fitted model and plot some of them using the function \n",
    "   `plot_some_samples`. (1 pt)\n",
    "\n",
    "Real-world datasets are labeled by some people and sometimes there are mistakes in the labeling. We will corrupt labels of the MNIST dataset artifically, and observe an overfitting to this noisy dataset with Adam. \n",
    "\n",
    "7. Take $ p = 0.2 $ fraction of the data points from the training dataset of MNIST and change their class labels randomly. (You can sample a random integer from 0 to 9 using `np.random.uniform` and `np.floor`). Train with Adam for 50 or 100 epochs. Plot the learning curves. Do you observe overfitting in the validation accuracy? Does it take longer to converge to perfect training accuracy compare to noise-free MNIST? (2 pts)"
   ]
  },
  {
   "cell_type": "markdown",
   "metadata": {
    "id": "rkjp3019UaNW"
   },
   "source": [
    "**Answer to Question 2** (max 2 sentences): \n",
    "\n",
    "**Answer to Question 5** (max 3 sentences): \n",
    "\n",
    "**Answer to Question 7** (max 2 sentences): "
   ]
  },
  {
   "cell_type": "markdown",
   "metadata": {
    "id": "FFiuBnX-UaNW"
   },
   "source": [
    "### Solution"
   ]
  },
  {
   "cell_type": "code",
   "execution_count": null,
   "metadata": {
    "id": "HbyT0qr3UaNX"
   },
   "outputs": [],
   "source": []
  },
  {
   "cell_type": "code",
   "execution_count": null,
   "metadata": {
    "id": "7dAkHTpkUaNX"
   },
   "outputs": [],
   "source": [
    "# This plotting routine might help you ...\n",
    "def comparison_plot(history_sgd, history_adam, label1, label2, title):\n",
    "    fig, ax1, ax2 = prepare_standardplot(title, \"epochs\")\n",
    "    ax1.plot(history_sgd.history['loss'], label=label1 + ' train')\n",
    "    ax1.plot(history_sgd.history['val_loss'], label=label1 + ' val')\n",
    "    ax1.plot(history_adam.history['loss'], label=label2 + ' train')\n",
    "    ax1.plot(history_adam.history['val_loss'], label=label2 + ' val')\n",
    "    ax2.plot(history_sgd.history['accuracy'], label=label1 + ' train')\n",
    "    ax2.plot(history_sgd.history['val_accuracy'], label=label1 + ' val')\n",
    "    ax2.plot(history_adam.history['accuracy'], label=label2 + ' train')\n",
    "    ax2.plot(history_adam.history['val_accuracy'], label=label2 + ' val')\n",
    "    finalize_standardplot(fig, ax1, ax2)\n",
    "    return fig"
   ]
  },
  {
   "cell_type": "markdown",
   "metadata": {
    "id": "_6vaWulQUaNX"
   },
   "source": [
    "## Exercise 4: Model performance as a function of number of hidden neurons (8 + 2 points)\n",
    "\n",
    "Since the MNIST dataset is almost perfectly solved already by a one-hidden-layer network in Exercise 3, we use the Fashion-MNIST dataset from now on to compare the performances of more complex models. In this exercise, we investigate how the best validation loss and accuracy depends on the number of hidden neurons in a single layer.\n",
    "\n",
    "1. Fit at least 4 models with different number of hidden neurons (i.e. width) between 10 and 1000 to the Fashion-MNIST dataset. Train with Adam for 50-100 epochs. (2 pts)\n",
    "2. Plot the best validation loss and accuracy versus the width. Is the observed trend in accordance with the [general approximation theorem](https://en.wikipedia.org/wiki/Universal_approximation_theorem)? Do you observe an overfitting due to the complexity of the wider networks with more parameters? Report the best validation accuracy. (2 pts)\n",
    "3. Choose $ p \\geq 0.5 $ fraction of the data points from the training dataset of Fashion-MNIST and change their class labels randomly as in Exercise 3. For this noisy Fashion-MNIST dataset, fit at least 4 models with different widths between 10 and 250. Train with Adam for at least 150 epochs. Plot the best validation loss and accuracy vs. width. (2 pts)\n",
    "4. BONUS: Add random Gaussian noise on the input pixels with mean 0 and variance between 0.01-0.5 and use the original labels. For this noisy Fashion-MNIST dataset, fit at least 4 models with different widths between 10 and 250. Train with Adam for at least 150 epochs. Plot the best validation loss and accuracy vs. width. (2 pts)\n",
    "5. Answer to the same questions in 2 for the noisy Fashion-MNIST dataset(s). Comment on the differences between width-performence curves for these two (or three) datasets. (2 pts)\n",
    "\n",
    "In this exercise we fit each model only for one initialization and random seed. In practice one would collect some statistics (e.g. 25-, 50-, 75-percentiles) for each layer size by fitting each model several times with different initializations and the random seeds. You may also want to do this here. It is a good exercise, but not mandatory as it takes quite a bit of computation time."
   ]
  },
  {
   "cell_type": "markdown",
   "metadata": {
    "id": "a2B9Kv5XUaNX"
   },
   "source": [
    "**Answer to Question 2** (max 2 sentences): \n",
    "\n",
    "**Answer to Question 5** (max 3 sentences): "
   ]
  },
  {
   "cell_type": "markdown",
   "metadata": {
    "id": "Z7E4r6z-UaNY"
   },
   "source": [
    "### Solution"
   ]
  },
  {
   "cell_type": "code",
   "execution_count": null,
   "metadata": {
    "id": "jw-ohVFzUaNY"
   },
   "outputs": [],
   "source": []
  },
  {
   "cell_type": "markdown",
   "metadata": {
    "id": "oA3iwoSVUaNY"
   },
   "source": [
    "## Exercise 5: Going deeper: tricks and regularization (10 + 2 points)\n",
    "\n",
    "Adding hidden layers to a deep network does not necessarily lead to a straight-forward improvement of performance. We use Fashion-MNIST dataset in this exercise.  \n",
    "\n",
    "1. Choose a width $ h $ between 50-200 and use at least two hidden layers with $ h $ hidden neurons (each) and train the network for at least 150 epochs. (2 pts)\n",
    "2. Plot the learning curves and report the best validation accuracy. Do you observe overfitting? (2 pts)\n",
    "3. Keep the network at the same size. Use a very large l2 regularization $\\lambda$ (for ex. $\\lambda=1$) and a small one (for ex. $\\lambda=0.001$) on kernel weights and report the validation accuracies. What do you observe?  (2 pts)\n",
    "4. Turn off the $ \\ell_2 $ regularization and use a large dropout rate (for ex. 0.5) and a small one (for ex. 0.05) at all hidden layers and report the validation accuracies. What do you observe? (2 pts)\n",
    "5. BONUS: Try built-in data augmentation methods as a way to regularize: this may include horizontal flipping of the images or small rotations. You can use built-in methods in Keras. Report the augmentation method you used and the best validation accuracy. (2 pts)\n",
    "\n",
    "Note that one needs to cross-validate to find the right regularization parameter for the model you chose and for the dataset at hand. However we do not enforce this hyperparameter search as it takes long computation times but it is a good practice if you try it here. \n",
    "\n",
    "6. Compare the validation accuracies resulting from your attempts to reduce overfitting. Did you improve the validation accuracy? If not, comment on the possible sources of failure. (2 pts)"
   ]
  },
  {
   "cell_type": "markdown",
   "metadata": {
    "id": "uCEvdrGVUaNY"
   },
   "source": [
    "**Answer to Question 2** (max 1 sentence):   \n",
    "\n",
    "**Answer to Question 3** (max 2 sentences): \n",
    "\n",
    "**Answer to Question 4** (max 2 sentences): \n",
    "\n",
    "**Answer to Question 5 (BONUS)** (max 2 sentences): \n",
    "\n",
    "**Answer to Question 6** (max 2 sentences): "
   ]
  },
  {
   "cell_type": "markdown",
   "metadata": {
    "id": "JLVouQnKUaNY"
   },
   "source": [
    "### Solution"
   ]
  },
  {
   "cell_type": "code",
   "execution_count": null,
   "metadata": {
    "id": "5yLClgomUaNZ"
   },
   "outputs": [],
   "source": []
  },
  {
   "cell_type": "markdown",
   "metadata": {
    "id": "fKcgCGuyUaNa"
   },
   "source": [
    "## Exercise 6: Convolutional neural networks (CNNs) (10 points)\n",
    "\n",
    "Convolutional neural networks have an inductive bias that is well adapted to image classification. \n",
    "\n",
    "1. Design a convolutional neural network and train it without using explicit regularizers. (2 pts)\n",
    "2. Try to improve the best validation scores of the model by experiment with batch_normalization layers, dropout layers and l2-regularization on weights (kernels) and biases. (4 pts)\n",
    "3. After you have found good settings, plot the learning curves for both models, naive (=no tricks/regularization) and tuned (=tricks + regularized) together in a comparison plot. (2pts)\n",
    "4. How does the CNN performance compare to the so far best performing (deep) neural network model? (2 pts)\n",
    "\n",
    "*Hint:* You may get valuable inspiration from the keras [examples](https://keras.io/examples/), [for example](https://keras.io/examples/vision/mnist_convnet/)."
   ]
  },
  {
   "cell_type": "markdown",
   "metadata": {
    "id": "75DN_9N6UaNa"
   },
   "source": [
    "**Answer to Question 4**: "
   ]
  },
  {
   "cell_type": "markdown",
   "metadata": {
    "id": "FAjejU2XUaNa"
   },
   "source": [
    "### Solution"
   ]
  },
  {
   "cell_type": "code",
   "execution_count": null,
   "metadata": {
    "ExecuteTime": {
     "end_time": "2018-02-23T16:05:21.840299Z",
     "start_time": "2018-02-23T15:51:11.993053Z"
    },
    "id": "raFiatD6UaNa"
   },
   "outputs": [],
   "source": []
  }
 ],
 "metadata": {
  "colab": {
   "name": "miniproject2_Jan.ipynb",
   "provenance": []
  },
  "kernelspec": {
   "display_name": "Python 3",
   "language": "python",
   "name": "python3"
  },
  "language_info": {
   "codemirror_mode": {
    "name": "ipython",
    "version": 3
   },
   "file_extension": ".py",
   "mimetype": "text/x-python",
   "name": "python",
   "nbconvert_exporter": "python",
   "pygments_lexer": "ipython3",
   "version": "3.8.5"
  }
 },
 "nbformat": 4,
 "nbformat_minor": 1
}
