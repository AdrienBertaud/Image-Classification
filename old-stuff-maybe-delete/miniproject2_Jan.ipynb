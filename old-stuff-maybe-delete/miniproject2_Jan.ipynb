{
 "cells": [
  {
   "cell_type": "markdown",
   "metadata": {
    "id": "jK-NMnvJ9yYP"
   },
   "source": [
    "# Miniproject: Image Classification\n",
    "\n",
    "### Description\n",
    "\n",
    "One of the oldest traditions in deep learning is to first tackle the fun problem of MNIST classification. [The MNIST dataset](https://en.wikipedia.org/wiki/MNIST_database) is a large database of handwritten digits that is commonly used as a first test for new classification algorithms. \n",
    "We follow this tradition to investigate the performance of artificial neural networks of different complexity on MNIST. However, since MNIST is too easy for accessing the full power of modern machine learning algorithms (see e.g. [this post](https://twitter.com/goodfellow_ian/status/852591106655043584)) we will extend our analysis to the recently introduced, harder [Fashion-MNIST dataset](https://github.com/zalandoresearch/fashion-mnist).\n",
    "\n",
    "### Prerequisites\n",
    "\n",
    "- You should have a running installation of [tensorflow](https://www.tensorflow.org/install/) and [keras](https://keras.io/). Feel free to gain inspiration from the [Keras example directory](https://keras.io/examples/) for your implementations.\n",
    "- You should know the concepts \"multilayer perceptron\", \"stochastic gradient descent with minibatches\", \"Adam\", \"convolutional neural network\", \"training and validation data\", \"overfitting\", \"regularization\", and \"early stopping\".\n",
    "\n",
    "### What you will learn\n",
    "\n",
    "- You will learn how to define feedforward neural networks in keras and fit them to data (i.e. training).\n",
    "- You will be guided through a prototyping procedure for the application of deep learning to a specific domain.\n",
    "- You will gain some experience on the influence of network architecture, optimizer and regularization choices on the goodness of fit.\n",
    "- You will learn to be more patient :) Some fits may take your computer quite a bit of time; run them over night (or on an external server).\n",
    "\n",
    "### Evaluation criteria\n",
    "\n",
    "The evaluation is (mostly) based on the figures you submit and your answer sentences. Provide clear and concise answers respecting the indicated maximum length.\n",
    "\n",
    "**The submitted notebook must be run by you!** We will only do random tests of your code and not re-run the full notebook. There will be fraud detection sessions at the end of the semester.\n",
    "\n",
    "### Your names\n",
    "\n",
    "**Before you start**: please enter your full name(s) in the field below."
   ]
  },
  {
   "cell_type": "code",
   "execution_count": 1,
   "metadata": {
    "id": "28PgZjD39yYe",
    "outputId": "d5a8132d-23d6-4a1d-caa2-11f962842ad7"
   },
   "outputs": [
    {
     "data": {
      "text/plain": [
       "'/Users/jankreischer/opt/anaconda3/envs/UZH_Masterproject/bin/python'"
      ]
     },
     "execution_count": 1,
     "metadata": {},
     "output_type": "execute_result"
    }
   ],
   "source": [
    "# Show which python interpreter and conda environment is used\n",
    "import sys\n",
    "sys.executable"
   ]
  },
  {
   "cell_type": "code",
   "execution_count": 2,
   "metadata": {
    "id": "MmcGA78l9yYi",
    "outputId": "96412af4-ce6c-4462-a625-d9303d7b0c32"
   },
   "outputs": [
    {
     "name": "stderr",
     "output_type": "stream",
     "text": [
      "/Users/jankreischer/opt/anaconda3/envs/UZH_Masterproject/lib/python3.7/site-packages/tensorflow/python/framework/dtypes.py:516: FutureWarning: Passing (type, 1) or '1type' as a synonym of type is deprecated; in a future version of numpy, it will be understood as (type, (1,)) / '(1,)type'.\n",
      "  _np_qint8 = np.dtype([(\"qint8\", np.int8, 1)])\n",
      "/Users/jankreischer/opt/anaconda3/envs/UZH_Masterproject/lib/python3.7/site-packages/tensorflow/python/framework/dtypes.py:517: FutureWarning: Passing (type, 1) or '1type' as a synonym of type is deprecated; in a future version of numpy, it will be understood as (type, (1,)) / '(1,)type'.\n",
      "  _np_quint8 = np.dtype([(\"quint8\", np.uint8, 1)])\n",
      "/Users/jankreischer/opt/anaconda3/envs/UZH_Masterproject/lib/python3.7/site-packages/tensorflow/python/framework/dtypes.py:518: FutureWarning: Passing (type, 1) or '1type' as a synonym of type is deprecated; in a future version of numpy, it will be understood as (type, (1,)) / '(1,)type'.\n",
      "  _np_qint16 = np.dtype([(\"qint16\", np.int16, 1)])\n",
      "/Users/jankreischer/opt/anaconda3/envs/UZH_Masterproject/lib/python3.7/site-packages/tensorflow/python/framework/dtypes.py:519: FutureWarning: Passing (type, 1) or '1type' as a synonym of type is deprecated; in a future version of numpy, it will be understood as (type, (1,)) / '(1,)type'.\n",
      "  _np_quint16 = np.dtype([(\"quint16\", np.uint16, 1)])\n",
      "/Users/jankreischer/opt/anaconda3/envs/UZH_Masterproject/lib/python3.7/site-packages/tensorflow/python/framework/dtypes.py:520: FutureWarning: Passing (type, 1) or '1type' as a synonym of type is deprecated; in a future version of numpy, it will be understood as (type, (1,)) / '(1,)type'.\n",
      "  _np_qint32 = np.dtype([(\"qint32\", np.int32, 1)])\n",
      "/Users/jankreischer/opt/anaconda3/envs/UZH_Masterproject/lib/python3.7/site-packages/tensorflow/python/framework/dtypes.py:525: FutureWarning: Passing (type, 1) or '1type' as a synonym of type is deprecated; in a future version of numpy, it will be understood as (type, (1,)) / '(1,)type'.\n",
      "  np_resource = np.dtype([(\"resource\", np.ubyte, 1)])\n"
     ]
    },
    {
     "name": "stdout",
     "output_type": "stream",
     "text": [
      "Running tensorflow version: 1.14.0\n",
      "Running keras version: 2.2.4-tf\n"
     ]
    },
    {
     "name": "stderr",
     "output_type": "stream",
     "text": [
      "/Users/jankreischer/opt/anaconda3/envs/UZH_Masterproject/lib/python3.7/site-packages/tensorboard/compat/tensorflow_stub/dtypes.py:541: FutureWarning: Passing (type, 1) or '1type' as a synonym of type is deprecated; in a future version of numpy, it will be understood as (type, (1,)) / '(1,)type'.\n",
      "  _np_qint8 = np.dtype([(\"qint8\", np.int8, 1)])\n",
      "/Users/jankreischer/opt/anaconda3/envs/UZH_Masterproject/lib/python3.7/site-packages/tensorboard/compat/tensorflow_stub/dtypes.py:542: FutureWarning: Passing (type, 1) or '1type' as a synonym of type is deprecated; in a future version of numpy, it will be understood as (type, (1,)) / '(1,)type'.\n",
      "  _np_quint8 = np.dtype([(\"quint8\", np.uint8, 1)])\n",
      "/Users/jankreischer/opt/anaconda3/envs/UZH_Masterproject/lib/python3.7/site-packages/tensorboard/compat/tensorflow_stub/dtypes.py:543: FutureWarning: Passing (type, 1) or '1type' as a synonym of type is deprecated; in a future version of numpy, it will be understood as (type, (1,)) / '(1,)type'.\n",
      "  _np_qint16 = np.dtype([(\"qint16\", np.int16, 1)])\n",
      "/Users/jankreischer/opt/anaconda3/envs/UZH_Masterproject/lib/python3.7/site-packages/tensorboard/compat/tensorflow_stub/dtypes.py:544: FutureWarning: Passing (type, 1) or '1type' as a synonym of type is deprecated; in a future version of numpy, it will be understood as (type, (1,)) / '(1,)type'.\n",
      "  _np_quint16 = np.dtype([(\"quint16\", np.uint16, 1)])\n",
      "/Users/jankreischer/opt/anaconda3/envs/UZH_Masterproject/lib/python3.7/site-packages/tensorboard/compat/tensorflow_stub/dtypes.py:545: FutureWarning: Passing (type, 1) or '1type' as a synonym of type is deprecated; in a future version of numpy, it will be understood as (type, (1,)) / '(1,)type'.\n",
      "  _np_qint32 = np.dtype([(\"qint32\", np.int32, 1)])\n",
      "/Users/jankreischer/opt/anaconda3/envs/UZH_Masterproject/lib/python3.7/site-packages/tensorboard/compat/tensorflow_stub/dtypes.py:550: FutureWarning: Passing (type, 1) or '1type' as a synonym of type is deprecated; in a future version of numpy, it will be understood as (type, (1,)) / '(1,)type'.\n",
      "  np_resource = np.dtype([(\"resource\", np.ubyte, 1)])\n"
     ]
    }
   ],
   "source": [
    "# Check the currently used tensorflow and keras version\n",
    "import tensorflow as tf\n",
    "from tensorflow import keras\n",
    "print(\"Running tensorflow version: {0}\".format(tf.__version__))\n",
    "print(\"Running keras version: {0}\".format(keras.__version__))"
   ]
  },
  {
   "cell_type": "code",
   "execution_count": 3,
   "metadata": {
    "ExecuteTime": {
     "end_time": "2018-03-09T09:08:24.514461Z",
     "start_time": "2018-03-09T09:08:24.506410Z"
    },
    "id": "DYoECmjj9yYk"
   },
   "outputs": [],
   "source": [
    "student1 = \"Jan Bauer (18-764-571)\"\n",
    "student2 = \"Adrien Bertaud (Todo Add Student Number)\""
   ]
  },
  {
   "cell_type": "markdown",
   "metadata": {
    "ExecuteTime": {
     "end_time": "2018-02-22T21:52:59.697375Z",
     "start_time": "2018-02-22T21:52:59.689443Z"
    },
    "id": "aj0v4KfR9yYl"
   },
   "source": [
    "## Some helper functions\n",
    "\n",
    "For your convenience we provide here some functions to preprocess the data and plot the results later. Simply run the following cells with `Shift-Enter`.\n",
    "\n",
    "### Dependencies and constants"
   ]
  },
  {
   "cell_type": "code",
   "execution_count": 4,
   "metadata": {
    "ExecuteTime": {
     "end_time": "2018-02-23T14:27:09.352019Z",
     "start_time": "2018-02-23T14:27:08.476310Z"
    },
    "id": "79is4U1o9yYm",
    "outputId": "9620438e-bd1f-49ee-baa5-87d479703978"
   },
   "outputs": [
    {
     "name": "stderr",
     "output_type": "stream",
     "text": [
      "Using TensorFlow backend.\n"
     ]
    }
   ],
   "source": [
    "%matplotlib inline\n",
    "\n",
    "import numpy as np\n",
    "import time\n",
    "import matplotlib.pyplot as plt\n",
    "import scipy.io\n",
    "\n",
    "import keras\n",
    "from keras.models import Sequential, Model\n",
    "from keras.layers import Dense, Conv2D, MaxPooling2D, Dropout, Flatten, BatchNormalization, Input, InputLayer, Softmax\n",
    "from keras.optimizers import SGD, Adam\n",
    "from keras.callbacks import EarlyStopping, ModelCheckpoint, History\n",
    "from keras import regularizers"
   ]
  },
  {
   "cell_type": "code",
   "execution_count": 5,
   "metadata": {
    "id": "uwqJ44xfNlGg"
   },
   "outputs": [],
   "source": [
    "# Constants\n",
    "INPUT_DIM = 784;"
   ]
  },
  {
   "cell_type": "markdown",
   "metadata": {
    "id": "iSNwUWfS9yYn"
   },
   "source": [
    "### Plotting"
   ]
  },
  {
   "cell_type": "code",
   "execution_count": 6,
   "metadata": {
    "ExecuteTime": {
     "end_time": "2018-02-23T15:11:52.252208Z",
     "start_time": "2018-02-23T15:11:52.121360Z"
    },
    "id": "-gvWs8219yYo"
   },
   "outputs": [],
   "source": [
    "def plot_some_samples(x, y = [], yhat = [], select_from = [], \n",
    "                      ncols = 6, nrows = 4, xdim = 28, ydim = 28,\n",
    "                      label_mapping = range(10)):\n",
    "    \"\"\"plot some input vectors as grayscale images (optionally together with their assigned or predicted labels).\n",
    "    \n",
    "    x is an NxD - dimensional array, where D is the length of an input vector and N is the number of samples.\n",
    "    Out of the N samples, ncols x nrows indices are randomly selected from the list select_from (if it is empty, select_from becomes range(N)).\n",
    "    \"\"\"\n",
    "    fig, ax = plt.subplots(nrows, ncols)\n",
    "    if len(select_from) == 0:\n",
    "        select_from = range(x.shape[0])\n",
    "    indices = np.random.choice(select_from, size = min(ncols * nrows, len(select_from)), replace = False)\n",
    "    for i, ind in enumerate(indices):\n",
    "        thisax = ax[i//ncols,i%ncols]\n",
    "        thisax.matshow(x[ind].reshape(xdim, ydim), cmap='gray')\n",
    "        thisax.set_axis_off()\n",
    "        if len(y) != 0:\n",
    "            j = y[ind] if type(y[ind]) != np.ndarray else y[ind].argmax()\n",
    "            thisax.text(0, 0, (label_mapping[j]+1)%10, color='green', \n",
    "                                                       verticalalignment='top',\n",
    "                                                       transform=thisax.transAxes)\n",
    "        if len(yhat) != 0:\n",
    "            k = yhat[ind] if type(yhat[ind]) != np.ndarray else yhat[ind].argmax()\n",
    "            thisax.text(1, 0, (label_mapping[k]+1)%10, color='red',\n",
    "                                             verticalalignment='top',\n",
    "                                             horizontalalignment='right',\n",
    "                                             transform=thisax.transAxes)\n",
    "    return fig\n",
    "\n",
    "def prepare_standardplot(title, xlabel):\n",
    "    fig, (ax1, ax2) = plt.subplots(1, 2)\n",
    "    fig.suptitle(title)\n",
    "    ax1.set_ylabel('categorical cross entropy')\n",
    "    ax1.set_xlabel(xlabel)\n",
    "    ax1.set_yscale('log')\n",
    "    ax2.set_ylabel('accuracy [% correct]')\n",
    "    ax2.set_xlabel(xlabel)\n",
    "    return fig, ax1, ax2\n",
    "\n",
    "def finalize_standardplot(fig, ax1, ax2):\n",
    "    ax1handles, ax1labels = ax1.get_legend_handles_labels()\n",
    "    if len(ax1labels) > 0:\n",
    "        ax1.legend(ax1handles, ax1labels)\n",
    "    ax2handles, ax2labels = ax2.get_legend_handles_labels()\n",
    "    if len(ax2labels) > 0:\n",
    "        ax2.legend(ax2handles, ax2labels)\n",
    "    fig.tight_layout()\n",
    "    plt.subplots_adjust(top=0.9)\n",
    "\n",
    "def plot_history(history, title):\n",
    "    fig, ax1, ax2 = prepare_standardplot(title, 'epoch')\n",
    "    ax1.plot(history.history['loss'], label = \"train\")\n",
    "    ax1.plot(history.history['val_loss'], label = \"val\")\n",
    "    ax2.plot(history.history['accuracy'], label = \"train\")\n",
    "    ax2.plot(history.history['val_accuracy'], label = \"val\")\n",
    "    finalize_standardplot(fig, ax1, ax2)\n",
    "    return fig\n",
    "\n",
    "def plot_some_samples_cust(x, y = [], yhat = [], select_from = [], \n",
    "                      ncols = 6, nrows = 4, xdim = 28, ydim = 28,\n",
    "                      label_mapping = range(10)):\n",
    "    \"\"\"plot some input vectors as grayscale images (optionally together with their assigned or predicted labels).\n",
    "    \n",
    "    x is an NxD - dimensional array, where D is the length of an input vector and N is the number of samples.\n",
    "    Out of the N samples, ncols x nrows indices are randomly selected from the list select_from (if it is empty, select_from becomes range(N)).\n",
    "    \"\"\"\n",
    "    fig, ax = plt.subplots(nrows, ncols)\n",
    "    if len(select_from) == 0:\n",
    "        select_from = range(x.shape[0])\n",
    "    indices = np.random.choice(select_from, size = min(ncols * nrows, len(select_from)), replace = False)\n",
    "    for i, ind in enumerate(indices):\n",
    "        thisax = ax[i//ncols,i%ncols]\n",
    "        thisax.matshow(x[ind].reshape(xdim, ydim), cmap='gray')\n",
    "        thisax.set_axis_off()\n",
    "        if len(y) != 0:\n",
    "            j = y[ind] if type(y[ind]) != np.ndarray else y[ind].argmax()\n",
    "            thisax.text(0, 0, label_mapping[j], color='green', \n",
    "                                                       verticalalignment='top',\n",
    "                                                       transform=thisax.transAxes)\n",
    "        if len(yhat) != 0:\n",
    "            k = yhat[ind] if type(yhat[ind]) != np.ndarray else yhat[ind].argmax()\n",
    "            thisax.text(1, 0, label_mapping[k], color='red',\n",
    "                                             verticalalignment='top',\n",
    "                                             horizontalalignment='right',\n",
    "                                             transform=thisax.transAxes)\n",
    "    return fig\n",
    "\n"
   ]
  },
  {
   "cell_type": "markdown",
   "metadata": {
    "id": "IlpicHh19yYp"
   },
   "source": [
    "## Exercise 1: Data import and visualization (6 points)\n",
    "\n",
    "The datasets we use in this project (MNIST, Fashion-MNIST) consists of grayscale images with 28x28 pixels. \n",
    "The low resolution (and grayscale) of the images certainly misses some information that could be helpful for classifying the images. However, since the data has lower dimensionality due to the low resolution, the training converges faster. This is an advantage in situations like here (or generally when prototyping), where we want to try many different things without having to wait too long. \n",
    "\n",
    "1. As a warm-up exercise, use the importer to (down-)load the MNIST and Fashion-MNIST dataset. Assign useful variables to test & train images and labels for both datasets respectively. (2 pts)\n",
    "2. Use the function `plot_some_samples` defined above to plot some samples of the two datasets. What do the green digits at the bottom left of each image indicate? (2 pts)<font color='red'> I added an answer in my version ;)</font>\n",
    "3. To prepare for training: 1. transform the labels to one hot coding, i.e. for 5 classes, label 2 becomes the vector [0, 0, 1, 0, 0] (you can use `utils.to_categorical` function from keras), and 2. reshape (flatten) the input images to input vectors and rescale the input data into the range [0,1]. (2 pts)\n",
    "\n",
    "*Hint*: Keras comes with a convenient in-built [data importer](https://keras.io/datasets/) for common datasets. "
   ]
  },
  {
   "cell_type": "markdown",
   "metadata": {
    "id": "uqxYhsDp9yYq"
   },
   "source": [
    "**Answer to Question 2** (1 sentence):<br/>\n",
    "For each chosen sample, the value '*(label_mapping[j]+1)%10*' is printed in green<br/>\n",
    "and this corresponds to the true class label incremented by one and divided modulo 10."
   ]
  },
  {
   "cell_type": "markdown",
   "metadata": {
    "id": "SrKdgh9Z9yYr"
   },
   "source": [
    "### Solution"
   ]
  },
  {
   "cell_type": "code",
   "execution_count": 7,
   "metadata": {
    "id": "nNKAW4rL9yYt"
   },
   "outputs": [],
   "source": [
    "from keras.utils import to_categorical"
   ]
  },
  {
   "cell_type": "code",
   "execution_count": 8,
   "metadata": {
    "ExecuteTime": {
     "end_time": "2018-02-23T14:27:44.442862Z",
     "start_time": "2018-02-23T14:27:09.505547Z"
    },
    "id": "hep-miVz9yYu"
   },
   "outputs": [],
   "source": [
    "(x_mnist_train, y_mnist_train), (x_mnist_test, y_mnist_test) = tf.keras.datasets.mnist.load_data(path=\"mnist10.data\")"
   ]
  },
  {
   "cell_type": "markdown",
   "metadata": {
    "id": "E2f84pbQ9yYu"
   },
   "source": [
    "<font color='red'>In my version, I plotted the normalization difference also (it is a detail, but to be consistent with the fact all others steps are plotted).</font>"
   ]
  },
  {
   "cell_type": "code",
   "execution_count": 9,
   "metadata": {
    "id": "062go-3f9yYu"
   },
   "outputs": [],
   "source": [
    "# Normalize to range 0-1\n",
    "x_mnist_train = x_mnist_train/255.0\n",
    "x_mnist_test = x_mnist_test/255.0"
   ]
  },
  {
   "cell_type": "code",
   "execution_count": 10,
   "metadata": {
    "id": "vHhEl2hz9yYv",
    "outputId": "61eb79fa-f259-4250-89b3-ddcdf55abd97"
   },
   "outputs": [
    {
     "name": "stdout",
     "output_type": "stream",
     "text": [
      "Reshaped training data from (60000, 28, 28) to (60000, 784)\n",
      "Reshaped test data from (10000, 28, 28) to (10000, 784)\n"
     ]
    }
   ],
   "source": [
    "x_mnist_train_reshaped = x_mnist_train.reshape(x_mnist_train.shape[0], x_mnist_train.shape[1]*x_mnist_train.shape[2])\n",
    "x_mnist_test_reshaped = x_mnist_test.reshape(x_mnist_test.shape[0], x_mnist_test.shape[1]*x_mnist_test.shape[2])\n",
    "print(\"Reshaped training data from {0} to {1}\".format(x_mnist_train.shape, x_mnist_train_reshaped.shape))\n",
    "print(\"Reshaped test data from {0} to {1}\".format(x_mnist_test.shape, x_mnist_test_reshaped.shape))"
   ]
  },
  {
   "cell_type": "code",
   "execution_count": 11,
   "metadata": {
    "id": "YPbAl7t69yYw",
    "outputId": "00daabae-3fc0-4d2d-d368-baa48603a18e"
   },
   "outputs": [
    {
     "data": {
      "image/png": "[encoded data removed]",
      "text/plain": [
       "<Figure size 432x288 with 24 Axes>"
      ]
     },
     "metadata": {
      "needs_background": "light"
     },
     "output_type": "display_data"
    }
   ],
   "source": [
    "plot_some_samples(x_mnist_train, y_mnist_train, ncols=6, nrows=4);"
   ]
  },
  {
   "cell_type": "markdown",
   "metadata": {
    "id": "VA8YtWrK9yYw"
   },
   "source": [
    "<font color='red'>In my version I added that print for test dataset also.</font>"
   ]
  },
  {
   "cell_type": "code",
   "execution_count": 12,
   "metadata": {
    "id": "vAUMUVz59yYw",
    "outputId": "75a38ecc-17ac-4cb0-9428-fc5b68f4b72c"
   },
   "outputs": [
    {
     "name": "stdout",
     "output_type": "stream",
     "text": [
      "5 => [0. 0. 0. 0. 0. 1. 0. 0. 0. 0.]\n",
      "0 => [1. 0. 0. 0. 0. 0. 0. 0. 0. 0.]\n",
      "4 => [0. 0. 0. 0. 1. 0. 0. 0. 0. 0.]\n",
      "1 => [0. 1. 0. 0. 0. 0. 0. 0. 0. 0.]\n",
      "9 => [0. 0. 0. 0. 0. 0. 0. 0. 0. 1.]\n",
      "2 => [0. 0. 1. 0. 0. 0. 0. 0. 0. 0.]\n",
      "1 => [0. 1. 0. 0. 0. 0. 0. 0. 0. 0.]\n",
      "3 => [0. 0. 0. 1. 0. 0. 0. 0. 0. 0.]\n",
      "1 => [0. 1. 0. 0. 0. 0. 0. 0. 0. 0.]\n",
      "4 => [0. 0. 0. 0. 1. 0. 0. 0. 0. 0.]\n"
     ]
    }
   ],
   "source": [
    "y_mnist_train_one_hot = to_categorical(y_mnist_train)\n",
    "y_mnist_test_one_hot = to_categorical(y_mnist_test)\n",
    "for i in range(10):\n",
    "    print(\"{0} => {1}\".format(y_mnist_train[i], y_mnist_train_one_hot[i]))"
   ]
  },
  {
   "cell_type": "markdown",
   "metadata": {
    "id": "J7zk2pWR9yYx"
   },
   "source": [
    "<font color='red'>In my version, I kept the proposed naming for the fashion dataset(x_train, y_train). Not important I guess.\"</font>"
   ]
  },
  {
   "cell_type": "code",
   "execution_count": 13,
   "metadata": {
    "id": "AD9YwEkf9yYy"
   },
   "outputs": [],
   "source": [
    "# Downloads data at first execution\n",
    "(x_mnist_fashion_train, y_mnist_fashion_train), (x_mnist_fashion_test, y_mnist_fashion_test) = tf.keras.datasets.fashion_mnist.load_data()"
   ]
  },
  {
   "cell_type": "code",
   "execution_count": 14,
   "metadata": {
    "id": "Gp0NBQKj9yYy"
   },
   "outputs": [],
   "source": [
    "# Normalize to range 0-1\n",
    "x_mnist_fashion_train = x_mnist_fashion_train/255.0\n",
    "x_mnist_fashion_test = x_mnist_fashion_test/255.0"
   ]
  },
  {
   "cell_type": "code",
   "execution_count": 15,
   "metadata": {
    "id": "yqk_Cesu9yYz",
    "outputId": "45535c59-a27a-4ab3-9638-169fd3f6b10a"
   },
   "outputs": [
    {
     "name": "stdout",
     "output_type": "stream",
     "text": [
      "Reshaped training data from (60000, 28, 28) to (60000, 784)\n",
      "Reshaped test data from (10000, 28, 28) to (10000, 784)\n"
     ]
    }
   ],
   "source": [
    "x_mnist_fashion_train_reshaped = x_mnist_fashion_train.reshape(x_mnist_fashion_train.shape[0], x_mnist_fashion_train.shape[1]*x_mnist_fashion_train.shape[2])\n",
    "x_mnist_fashion_test_reshaped = x_mnist_fashion_test.reshape(x_mnist_fashion_test.shape[0], x_mnist_fashion_test.shape[1]*x_mnist_fashion_test.shape[2])\n",
    "print(\"Reshaped training data from {0} to {1}\".format(x_mnist_fashion_train.shape, x_mnist_fashion_train_reshaped.shape))\n",
    "print(\"Reshaped test data from {0} to {1}\".format(x_mnist_fashion_test.shape, x_mnist_fashion_test_reshaped.shape))"
   ]
  },
  {
   "cell_type": "code",
   "execution_count": 16,
   "metadata": {
    "id": "kuWCj0Uh9yYz",
    "outputId": "82168e4d-aeef-4927-db2c-b6e0a57ae568"
   },
   "outputs": [
    {
     "data": {
      "image/png": "[encoded data removed]",
      "text/plain": [
       "<Figure size 432x288 with 24 Axes>"
      ]
     },
     "metadata": {
      "needs_background": "light"
     },
     "output_type": "display_data"
    }
   ],
   "source": [
    "plot_some_samples(x_mnist_fashion_train, y_mnist_fashion_train, ncols=6, nrows=4);"
   ]
  },
  {
   "cell_type": "code",
   "execution_count": 17,
   "metadata": {
    "id": "KeL09yhS9yY1",
    "outputId": "4dfa2544-60a2-4a61-d582-cf5bce7e033e"
   },
   "outputs": [
    {
     "name": "stdout",
     "output_type": "stream",
     "text": [
      "9 => [0. 0. 0. 0. 0. 0. 0. 0. 0. 1.]\n",
      "0 => [1. 0. 0. 0. 0. 0. 0. 0. 0. 0.]\n",
      "0 => [1. 0. 0. 0. 0. 0. 0. 0. 0. 0.]\n",
      "3 => [0. 0. 0. 1. 0. 0. 0. 0. 0. 0.]\n",
      "0 => [1. 0. 0. 0. 0. 0. 0. 0. 0. 0.]\n",
      "2 => [0. 0. 1. 0. 0. 0. 0. 0. 0. 0.]\n",
      "7 => [0. 0. 0. 0. 0. 0. 0. 1. 0. 0.]\n",
      "2 => [0. 0. 1. 0. 0. 0. 0. 0. 0. 0.]\n",
      "5 => [0. 0. 0. 0. 0. 1. 0. 0. 0. 0.]\n",
      "5 => [0. 0. 0. 0. 0. 1. 0. 0. 0. 0.]\n"
     ]
    }
   ],
   "source": [
    "y_mnist_fashion_train_one_hot = to_categorical(y_mnist_fashion_train)\n",
    "y_mnist_fashion_test_one_hot = to_categorical(y_mnist_fashion_test)\n",
    "for i in range(10):\n",
    "    print(\"{0} => {1}\".format(y_mnist_fashion_train[i], y_mnist_fashion_train_one_hot[i]))"
   ]
  },
  {
   "cell_type": "markdown",
   "metadata": {
    "id": "X7F2O6VN9yY1"
   },
   "source": [
    "## Exercise 2: No hidden layer (10 points)\n",
    "\n",
    "Define and fit a model without a hidden layer (since we will use multi-layer models later in this project, you can define a general constructor function for models with an arbitrary number of hidden layers already at this point). Note that in this miniproject there is no real test dataset and what is loaded as a test dataset is used for validation. First, implement 1.-3. for the MNIST dataset.  \n",
    "\n",
    "1. Implement the model with the following specifications: use the softmax activation for the output layer, use the categorical_crossentropy loss, choose stochastic gradient descent for the optimizer, and add the accuracy metric to the metrics. (5 pts)\n",
    "2. Train for as many epochs as needed to see no further decrease in the validation loss. (1 pt)\n",
    "3. Plot the learning curves resulting from the fitting procedure (a history object) using the function `plot_history` defined above. (1 pt)\n",
    "4. Repeat the above steps for fitting the network to the Fashion-MNIST dataset. (2 pts)\n",
    "5. Report the best validation accuracy achieved for each one of the datasets. Do you observe overfitting already for this simple model? Answer separetely for the MNIST dataset and Fashion-MNIST dataset. (1 pt)<br/>\n",
    "=> **Since, the training and validation losses as well as training and validation accuracies are very close, we conclude that the MNIST and MNIST Fashion model are not overfitting. <font color='red'>If overfitting, we should see the test lost stopping to decrease (i.e. increasing). But I am not sure that the difference between train loss and validation loss is a consistent proof. For example if the batch size is small, difference can be big. In addition if you learn for more epochs train loss continue to decrease while test loss stabilises.</font> Furthermore, since there is a lot of training data for a models with only 7960 parameters, it is unlikely that the model is overfitting.** <font color='red'>Especially Fashion-MNIST has been introduced as beeing \"harder\".</font>\n",
    "\n",
    "\n",
    "*Hint:* Read the keras docs, in particular [Getting started with the Keras Sequential model](https://keras.io/getting-started/sequential-model-guide/)."
   ]
  },
  {
   "cell_type": "markdown",
   "metadata": {
    "id": "a4W9PXSk9yY2"
   },
   "source": [
    "**Answer to Question 5** (max 2 sentences): "
   ]
  },
  {
   "cell_type": "markdown",
   "metadata": {
    "id": "wYaEZfr79yY2"
   },
   "source": [
    "### Solution"
   ]
  },
  {
   "cell_type": "code",
   "execution_count": 22,
   "metadata": {
    "id": "fz-gcQZ59yY2",
    "outputId": "53f55589-b7e8-4e02-dde0-40a49f59e470"
   },
   "outputs": [
    {
     "name": "stdout",
     "output_type": "stream",
     "text": [
      "Model: \"sequential_2\"\n",
      "_________________________________________________________________\n",
      "Layer (type)                 Output Shape              Param #   \n",
      "=================================================================\n",
      "input_layer (Dense)          (None, 10)                7850      \n",
      "_________________________________________________________________\n",
      "output_layer (Dense)         (None, 10)                110       \n",
      "=================================================================\n",
      "Total params: 7,960\n",
      "Trainable params: 7,960\n",
      "Non-trainable params: 0\n",
      "_________________________________________________________________\n"
     ]
    }
   ],
   "source": [
    "# Create model\n",
    "model = Sequential()\n",
    "\n",
    "# Get number of columns in training data\n",
    "n_cols = x_mnist_train_reshaped.shape[1]\n",
    "\n",
    "model.add(Dense(10, activation='relu', name=\"input_layer\", input_shape=(n_cols,)))\n",
    "model.add(Dense(10, activation='softmax', name=\"output_layer\"))\n",
    "model.compile(optimizer='SGD', loss='categorical_crossentropy', metrics=[\"accuracy\"])\n",
    "model.summary()"
   ]
  },
  {
   "cell_type": "code",
   "execution_count": 23,
   "metadata": {
    "id": "I3rQKb2r9yY3",
    "outputId": "e9af6bea-fe36-432e-ae82-c0b5c41d5e19"
   },
   "outputs": [],
   "source": [
    "# Get number of columns in training data\n",
    "#n_cols = x_mnist_train_reshaped.shape[1]\n",
    "\n",
    "#inputs = Input(shape=(n_cols,), name=\"input_layer\")\n",
    "#outputs = Dense(10, activation='softmax', name=\"output_layer\")(inputs)\n",
    "#model = Model(inputs=inputs, outputs=outputs, name=\"Exercise 02 - MNIST\")\n",
    "#model.compile(optimizer='SGD', loss='categorical_crossentropy', metrics=[\"accuracy\"])\n",
    "#model.summary()"
   ]
  },
  {
   "cell_type": "markdown",
   "metadata": {
    "id": "GV51Jyd09yY3"
   },
   "source": [
    "<font color='red'>\n",
    "It appears that the ModelCheckpoint callback is not used.</font>\n",
    "\n",
    "<font color='red'>In fit, validation_split is overrided by validation_data.</font>\n",
    "    \n",
    "<font color='red'>Those comments are available for all others models.</font>\n",
    "</font>"
   ]
  },
  {
   "cell_type": "code",
   "execution_count": 24,
   "metadata": {
    "id": "fmHcva4p9yY3",
    "outputId": "cd626ffe-7c5a-455b-d31a-a1403cf1d6ee"
   },
   "outputs": [
    {
     "name": "stdout",
     "output_type": "stream",
     "text": [
      "Train on 60000 samples, validate on 10000 samples\n",
      "Epoch 1/100\n",
      "60000/60000 [==============================] - 1s 23us/step - loss: 0.8507 - accuracy: 0.7608 - val_loss: 0.4573 - val_accuracy: 0.8761\n",
      "\n",
      "Epoch 00001: val_loss improved from inf to 0.45728, saving model to exercise-02_mnist.keras\n",
      "Epoch 2/100\n",
      "60000/60000 [==============================] - 1s 22us/step - loss: 0.4140 - accuracy: 0.8838 - val_loss: 0.3573 - val_accuracy: 0.9014\n",
      "\n",
      "Epoch 00002: val_loss improved from 0.45728 to 0.35731, saving model to exercise-02_mnist.keras\n",
      "Epoch 3/100\n",
      "60000/60000 [==============================] - 1s 23us/step - loss: 0.3549 - accuracy: 0.8996 - val_loss: 0.3235 - val_accuracy: 0.9093\n",
      "\n",
      "Epoch 00003: val_loss improved from 0.35731 to 0.32345, saving model to exercise-02_mnist.keras\n",
      "Epoch 4/100\n",
      "60000/60000 [==============================] - 1s 22us/step - loss: 0.3293 - accuracy: 0.9068 - val_loss: 0.3072 - val_accuracy: 0.9136\n",
      "\n",
      "Epoch 00004: val_loss improved from 0.32345 to 0.30715, saving model to exercise-02_mnist.keras\n",
      "Epoch 5/100\n",
      "60000/60000 [==============================] - 1s 22us/step - loss: 0.3138 - accuracy: 0.9119 - val_loss: 0.2984 - val_accuracy: 0.9177\n",
      "\n",
      "Epoch 00005: val_loss improved from 0.30715 to 0.29842, saving model to exercise-02_mnist.keras\n",
      "Epoch 6/100\n",
      "60000/60000 [==============================] - 1s 22us/step - loss: 0.3032 - accuracy: 0.9147 - val_loss: 0.2918 - val_accuracy: 0.9189\n",
      "\n",
      "Epoch 00006: val_loss improved from 0.29842 to 0.29179, saving model to exercise-02_mnist.keras\n",
      "Epoch 7/100\n",
      "60000/60000 [==============================] - 1s 22us/step - loss: 0.2952 - accuracy: 0.9168 - val_loss: 0.2850 - val_accuracy: 0.9212\n",
      "\n",
      "Epoch 00007: val_loss improved from 0.29179 to 0.28505, saving model to exercise-02_mnist.keras\n",
      "Epoch 8/100\n",
      "60000/60000 [==============================] - 1s 24us/step - loss: 0.2892 - accuracy: 0.9183 - val_loss: 0.2831 - val_accuracy: 0.9209\n",
      "\n",
      "Epoch 00008: val_loss improved from 0.28505 to 0.28311, saving model to exercise-02_mnist.keras\n",
      "Epoch 9/100\n",
      "60000/60000 [==============================] - 1s 23us/step - loss: 0.2842 - accuracy: 0.9200 - val_loss: 0.2781 - val_accuracy: 0.9236\n",
      "\n",
      "Epoch 00009: val_loss improved from 0.28311 to 0.27806, saving model to exercise-02_mnist.keras\n",
      "Epoch 10/100\n",
      "60000/60000 [==============================] - 1s 23us/step - loss: 0.2800 - accuracy: 0.9208 - val_loss: 0.2770 - val_accuracy: 0.9221\n",
      "\n",
      "Epoch 00010: val_loss improved from 0.27806 to 0.27698, saving model to exercise-02_mnist.keras\n",
      "Epoch 11/100\n",
      "60000/60000 [==============================] - 1s 22us/step - loss: 0.2763 - accuracy: 0.9224 - val_loss: 0.2741 - val_accuracy: 0.9227\n",
      "\n",
      "Epoch 00011: val_loss improved from 0.27698 to 0.27413, saving model to exercise-02_mnist.keras\n",
      "Epoch 12/100\n",
      "60000/60000 [==============================] - 1s 21us/step - loss: 0.2733 - accuracy: 0.9234 - val_loss: 0.2720 - val_accuracy: 0.9223\n",
      "\n",
      "Epoch 00012: val_loss improved from 0.27413 to 0.27198, saving model to exercise-02_mnist.keras\n",
      "Epoch 13/100\n",
      "60000/60000 [==============================] - 1s 21us/step - loss: 0.2706 - accuracy: 0.9241 - val_loss: 0.2747 - val_accuracy: 0.9221\n",
      "\n",
      "Epoch 00013: val_loss did not improve from 0.27198\n",
      "Epoch 14/100\n",
      "60000/60000 [==============================] - 1s 20us/step - loss: 0.2680 - accuracy: 0.9253 - val_loss: 0.2694 - val_accuracy: 0.9229\n",
      "\n",
      "Epoch 00014: val_loss improved from 0.27198 to 0.26941, saving model to exercise-02_mnist.keras\n",
      "Epoch 00014: early stopping\n"
     ]
    }
   ],
   "source": [
    "mc = ModelCheckpoint('exercise-02_mnist.keras', monitor='val_loss', mode='min', save_best_only=True, verbose=1)\n",
    "es = EarlyStopping(monitor='val_loss', mode='min', verbose=1, patience=5, min_delta=0.01)\n",
    "history = model.fit(x_mnist_train_reshaped, y_mnist_train_one_hot, validation_data=(x_mnist_test_reshaped, y_mnist_test_one_hot), epochs=100, callbacks=[es, mc])"
   ]
  },
  {
   "cell_type": "code",
   "execution_count": 21,
   "metadata": {
    "id": "BAKaVTsl9yY4",
    "outputId": "8ea560a1-8fb1-4d23-ce0e-2f49885d17fa"
   },
   "outputs": [
    {
     "data": {
      "image/png": "[encoded data removed]",
      "text/plain": [
       "<Figure size 432x288 with 2 Axes>"
      ]
     },
     "metadata": {
      "needs_background": "light"
     },
     "output_type": "display_data"
    }
   ],
   "source": [
    "# We saw that the improvement of the validation accuracy levels out after 25/30 epochs\n",
    "plot_history(history, \"No Hidden Layer @ MNIST\");"
   ]
  },
  {
   "cell_type": "code",
   "execution_count": null,
   "metadata": {
    "id": "hOijL93Q9yY5",
    "outputId": "263f03cb-9cbb-4a3b-ac2a-f6a0a13ca8b5"
   },
   "outputs": [
    {
     "name": "stdout",
     "output_type": "stream",
     "text": [
      "Model: \"Exercise 02 - MNIST Fashion\"\n",
      "_________________________________________________________________\n",
      "Layer (type)                 Output Shape              Param #   \n",
      "=================================================================\n",
      "input_layer (InputLayer)     (None, 784)               0         \n",
      "_________________________________________________________________\n",
      "output_layer (Dense)         (None, 10)                7850      \n",
      "=================================================================\n",
      "Total params: 7,850\n",
      "Trainable params: 7,850\n",
      "Non-trainable params: 0\n",
      "_________________________________________________________________\n"
     ]
    }
   ],
   "source": [
    "# Get number of columns in training data\n",
    "n_cols = x_mnist_train_reshaped.shape[1]\n",
    "\n",
    "inputs = Input(shape=(n_cols,), name=\"input_layer\")\n",
    "outputs = Dense(10, activation='softmax', name=\"output_layer\")(inputs)\n",
    "model = Model(inputs=inputs, outputs=outputs, name=\"Exercise 02 - MNIST Fashion\")\n",
    "model.compile(optimizer='SGD', loss='categorical_crossentropy', metrics=[\"accuracy\"])\n",
    "model.summary()"
   ]
  },
  {
   "cell_type": "code",
   "execution_count": null,
   "metadata": {
    "id": "yN9Ur8Ug9yY5",
    "outputId": "9381c27a-458a-4a79-9d74-51b3802cdc44"
   },
   "outputs": [],
   "source": [
    "mc = ModelCheckpoint('exercise-02_mnist-fashion.keras', monitor='val_loss', mode='min', save_best_only=True, verbose=1)\n",
    "es = EarlyStopping(monitor='val_loss', mode='min', verbose=1, patience=10, min_delta=0.01)\n",
    "history = model.fit(x_mnist_fashion_train_reshaped, y_mnist_fashion_train_one_hot, validation_data=(x_mnist_fashion_test_reshaped, y_mnist_fashion_test_one_hot), epochs=100, callbacks=[es, mc], validation_split=0.2)"
   ]
  },
  {
   "cell_type": "code",
   "execution_count": null,
   "metadata": {
    "id": "o1T6V6Sj9yY6",
    "outputId": "9c86b48e-0a05-4c38-bc05-c248eb08ca7a"
   },
   "outputs": [
    {
     "data": {
      "image/png": "[encoded data removed]",
      "text/plain": [
       "<Figure size 432x288 with 2 Axes>"
      ]
     },
     "metadata": {
      "needs_background": "light",
      "tags": []
     },
     "output_type": "display_data"
    }
   ],
   "source": [
    "plot_history(history, \"No Hidden Layer @ MNIST Fashion\");"
   ]
  },
  {
   "cell_type": "markdown",
   "metadata": {
    "id": "bdGgBLdQ9yY6"
   },
   "source": [
    "## Exercise 3: One hidden layer, different optimizers (10 points)\n",
    "\n",
    "Train a network with one hidden layer and compare different optimizers for the MNIST dataset.\n",
    "\n",
    "1. Use one hidden layer with 128 units and the 'relu' activation. Use the [summary method](https://keras.io/api/models/model/#summary-method) to display your model in a compact way. (1 pt)\n",
    "2. Train the model for at least 50 epochs with different learning rates of stochastic gradient descent (SGD). What happens if the learning rate $\\eta$ is very large (for ex. $\\eta=1$), and very small (for ex. $\\eta=0.001$)? Comment on the fluctuations of the learning curve. (2 pts)\n",
    "3. Replace the stochastic gradient descent optimizer with the [Adam optimizer](https://keras.io/optimizers/#adam) (you can use the default learning rate). (1pt)\n",
    "4. Plot the learning curves of SGD with a good learning rate (i.e. in the range [0.01,0.1]) together with the learning curves of Adam in the same figure. Take care of a reasonable labeling of the curves in the plot. (1 pts)\n",
    "5. Explain the qualitative difference between the loss and accuracy curves with respect to signs of overfitting. Report the best validation accuracy achieved for SGD and Adam. Which one is better and why do you think so? (2 pts)\n",
    "6. Determine the indices of all test images that are misclassified by the fitted model and plot some of them using the function \n",
    "   `plot_some_samples`. (1 pt)\n",
    "\n",
    "Real-world datasets are labeled by some people and sometimes there are mistakes in the labeling. We will corrupt labels of the MNIST dataset artifically, and observe an overfitting to this noisy dataset with Adam. \n",
    "\n",
    "7. Take $ p = 0.2 $ fraction of the data points from the training dataset of MNIST and change their class labels randomly. (You can sample a random integer from 0 to 9 using `np.random.uniform` and `np.floor`). Train with Adam for 50 or 100 epochs. Plot the learning curves. Do you observe overfitting in the validation accuracy? Does it take longer to converge to perfect training accuracy compare to noise-free MNIST? (2 pts)"
   ]
  },
  {
   "cell_type": "markdown",
   "metadata": {
    "id": "NRdRiD8r9yY7"
   },
   "source": [
    "**Answer to Question 2** (max 2 sentences):<br/>\n",
    "We can see in the diagrams that fluctuations of the learning curve are increasing with the learning rate. For small learning rates {0.01, 0.001} almost no fluctuations in the learning curve can be seen anymore and the shape of the learning curve is really smooth. <font color='red'> (This can be explained by the fact that with a small learning rates, the algorithm makes smaller steps, and so weights change less before correcting direction.)</font> \n",
    "\n",
    "**Answer to Question 5** (max 3 sentences): <font color='red'>Adam is faster to learn but at the end they perform in the same way (so faster leaning, but similar performances). We can explain it, saying that the networks are the same, but in Adam case the learning rate is adapting. To get models of similar performances, we must stop learning when it begins to overfit (around 5 epochs for Adam).</font>\n",
    "\n",
    "**Answer to Question 7** (max 2 sentences): "
   ]
  },
  {
   "cell_type": "markdown",
   "metadata": {
    "id": "O2CzbkEh9yY7"
   },
   "source": [
    "### Solution\n",
    "#### Exercise 3.1"
   ]
  },
  {
   "cell_type": "markdown",
   "metadata": {
    "id": "D5Ibm4yy9yY7"
   },
   "source": [
    "<font color='red'>Dense layer already imported in the original Notebook.</font>\n",
    "\n",
    "<font color='red'>Here, you use the keras.models.Models, but you could keep using keras.models.Sequential which implements itself a keras.models.Models.</font>\n",
    "\n",
    "<font color='red'>You could define n_cols_mnist and n_col_fashion_mnist once and for all.</font>"
   ]
  },
  {
   "cell_type": "code",
   "execution_count": 27,
   "metadata": {
    "id": "Hxcg618C9yY7",
    "outputId": "6a9b259c-669a-4156-dff6-df34c38e7489"
   },
   "outputs": [
    {
     "name": "stdout",
     "output_type": "stream",
     "text": [
      "Model: \"ex3.1\"\n",
      "_________________________________________________________________\n",
      "Layer (type)                 Output Shape              Param #   \n",
      "=================================================================\n",
      "input_layer (InputLayer)     (None, 784)               0         \n",
      "_________________________________________________________________\n",
      "hidden_layer (Dense)         (None, 128)               100480    \n",
      "_________________________________________________________________\n",
      "output_layer (Dense)         (None, 10)                1290      \n",
      "=================================================================\n",
      "Total params: 101,770\n",
      "Trainable params: 101,770\n",
      "Non-trainable params: 0\n",
      "_________________________________________________________________\n"
     ]
    }
   ],
   "source": [
    "from keras.layers import InputLayer\n",
    "from keras.models import Model\n",
    "from keras.layers import Input, Dense\n",
    "\n",
    "histories = []\n",
    "\n",
    "def return_new_model():\n",
    "    # Get number of columns in training data\n",
    "    n_cols = x_mnist_train_reshaped.shape[1]\n",
    "\n",
    "    inputs = Input(shape=(n_cols,), name=\"input_layer\")\n",
    "    layer = Dense(128, activation='relu', name=\"hidden_layer\")(inputs)\n",
    "    outputs = Dense(10, activation='softmax', name=\"output_layer\")(layer)\n",
    "\n",
    "    model = Model(inputs=inputs, outputs=outputs, name=\"ex3.1\")\n",
    "    return model\n",
    "\n",
    "model = return_new_model()\n",
    "model.summary()"
   ]
  },
  {
   "cell_type": "markdown",
   "metadata": {
    "id": "sHnhdppa9yY8"
   },
   "source": [
    "#### Exercise 3.2"
   ]
  },
  {
   "cell_type": "markdown",
   "metadata": {
    "id": "G7GnNM0D9yY8"
   },
   "source": [
    "<font color='red'>Alternatively of creating a new model, we could use model.reset_states().</font>\n",
    "\n",
    "<font color='red'>histories could be used to plot curves in another cell (here there are logs and we must scroll down to see them).</font>"
   ]
  },
  {
   "cell_type": "code",
   "execution_count": 29,
   "metadata": {
    "id": "49oNYflR9yY8",
    "outputId": "45df3d10-b3cc-43c1-968b-54646ef11a38"
   },
   "outputs": [
    {
     "name": "stdout",
     "output_type": "stream",
     "text": [
      "Optimizing model with SGD (lr: 1)\n",
      "Train on 60000 samples, validate on 10000 samples\n",
      "Epoch 1/50\n",
      "60000/60000 [==============================] - 2s 28us/step - loss: 0.4156 - accuracy: 0.8813 - val_loss: 0.1954 - val_accuracy: 0.9437\n",
      "\n",
      "Epoch 00001: val_loss improved from inf to 0.19539, saving model to exercise-03_sgd_lr-1.keras\n",
      "Epoch 2/50\n",
      "60000/60000 [==============================] - 2s 29us/step - loss: 0.2182 - accuracy: 0.9397 - val_loss: 0.1931 - val_accuracy: 0.9497\n",
      "\n",
      "Epoch 00002: val_loss improved from 0.19539 to 0.19313, saving model to exercise-03_sgd_lr-1.keras\n",
      "Epoch 3/50\n",
      "60000/60000 [==============================] - 2s 30us/step - loss: 0.1920 - accuracy: 0.9485 - val_loss: 0.2124 - val_accuracy: 0.9488\n",
      "\n",
      "Epoch 00003: val_loss did not improve from 0.19313\n",
      "Epoch 4/50\n",
      "60000/60000 [==============================] - 2s 33us/step - loss: 0.1714 - accuracy: 0.9549 - val_loss: 0.2067 - val_accuracy: 0.9538\n",
      "\n",
      "Epoch 00004: val_loss did not improve from 0.19313\n",
      "Epoch 5/50\n",
      "60000/60000 [==============================] - 2s 30us/step - loss: 0.1583 - accuracy: 0.9588 - val_loss: 0.2202 - val_accuracy: 0.9476\n",
      "\n",
      "Epoch 00005: val_loss did not improve from 0.19313\n",
      "Epoch 6/50\n",
      "60000/60000 [==============================] - 2s 31us/step - loss: 0.1483 - accuracy: 0.9614 - val_loss: 0.2272 - val_accuracy: 0.9487\n",
      "\n",
      "Epoch 00006: val_loss did not improve from 0.19313\n",
      "Epoch 7/50\n",
      "60000/60000 [==============================] - 2s 31us/step - loss: 0.1376 - accuracy: 0.9641 - val_loss: 0.2195 - val_accuracy: 0.9496\n",
      "\n",
      "Epoch 00007: val_loss did not improve from 0.19313\n",
      "Epoch 8/50\n",
      "60000/60000 [==============================] - 2s 32us/step - loss: 0.1404 - accuracy: 0.9639 - val_loss: 0.2174 - val_accuracy: 0.9500\n",
      "\n",
      "Epoch 00008: val_loss did not improve from 0.19313\n",
      "Epoch 9/50\n",
      "60000/60000 [==============================] - 2s 30us/step - loss: 0.1393 - accuracy: 0.9644 - val_loss: 0.2009 - val_accuracy: 0.9561\n",
      "\n",
      "Epoch 00009: val_loss did not improve from 0.19313\n",
      "Epoch 10/50\n",
      "60000/60000 [==============================] - 2s 33us/step - loss: 0.1317 - accuracy: 0.9675 - val_loss: 0.2618 - val_accuracy: 0.9492\n",
      "\n",
      "Epoch 00010: val_loss did not improve from 0.19313\n",
      "Epoch 11/50\n",
      "60000/60000 [==============================] - 2s 31us/step - loss: 0.1209 - accuracy: 0.9693 - val_loss: 0.2591 - val_accuracy: 0.9568\n",
      "\n",
      "Epoch 00011: val_loss did not improve from 0.19313\n",
      "Epoch 12/50\n",
      "60000/60000 [==============================] - 2s 31us/step - loss: 0.1212 - accuracy: 0.9695 - val_loss: 0.2249 - val_accuracy: 0.9540\n",
      "\n",
      "Epoch 00012: val_loss did not improve from 0.19313\n",
      "Epoch 13/50\n",
      "60000/60000 [==============================] - 2s 33us/step - loss: 0.1136 - accuracy: 0.9707 - val_loss: 0.2458 - val_accuracy: 0.9555\n",
      "\n",
      "Epoch 00013: val_loss did not improve from 0.19313\n",
      "Epoch 14/50\n",
      "60000/60000 [==============================] - 2s 32us/step - loss: 0.1186 - accuracy: 0.9703 - val_loss: 0.2677 - val_accuracy: 0.9537\n",
      "\n",
      "Epoch 00014: val_loss did not improve from 0.19313\n",
      "Epoch 15/50\n",
      "60000/60000 [==============================] - 2s 34us/step - loss: 0.1123 - accuracy: 0.9719 - val_loss: 0.2076 - val_accuracy: 0.9610\n",
      "\n",
      "Epoch 00015: val_loss did not improve from 0.19313\n",
      "Epoch 16/50\n",
      "60000/60000 [==============================] - 2s 30us/step - loss: 0.1145 - accuracy: 0.9726 - val_loss: 0.2329 - val_accuracy: 0.9592\n",
      "\n",
      "Epoch 00016: val_loss did not improve from 0.19313\n",
      "Epoch 17/50\n",
      "60000/60000 [==============================] - 2s 30us/step - loss: 0.1037 - accuracy: 0.9749 - val_loss: 0.2485 - val_accuracy: 0.9595\n",
      "\n",
      "Epoch 00017: val_loss did not improve from 0.19313\n",
      "Epoch 18/50\n",
      "60000/60000 [==============================] - 2s 30us/step - loss: 0.1031 - accuracy: 0.9748 - val_loss: 0.2503 - val_accuracy: 0.9601\n",
      "\n",
      "Epoch 00018: val_loss did not improve from 0.19313\n",
      "Epoch 19/50\n",
      "60000/60000 [==============================] - 2s 29us/step - loss: 0.1115 - accuracy: 0.9737 - val_loss: 0.2166 - val_accuracy: 0.9597\n",
      "\n",
      "Epoch 00019: val_loss did not improve from 0.19313\n",
      "Epoch 20/50\n",
      "60000/60000 [==============================] - 2s 30us/step - loss: 0.1069 - accuracy: 0.9746 - val_loss: 0.2616 - val_accuracy: 0.9568\n",
      "\n",
      "Epoch 00020: val_loss did not improve from 0.19313\n",
      "Epoch 21/50\n",
      "60000/60000 [==============================] - 2s 33us/step - loss: 0.0968 - accuracy: 0.9768 - val_loss: 0.2547 - val_accuracy: 0.9600\n",
      "\n",
      "Epoch 00021: val_loss did not improve from 0.19313\n",
      "Epoch 22/50\n",
      "60000/60000 [==============================] - 2s 30us/step - loss: 0.1004 - accuracy: 0.9760 - val_loss: 0.2517 - val_accuracy: 0.9614\n",
      "\n",
      "Epoch 00022: val_loss did not improve from 0.19313\n",
      "Epoch 23/50\n",
      "60000/60000 [==============================] - 2s 34us/step - loss: 0.1015 - accuracy: 0.9770 - val_loss: 0.3377 - val_accuracy: 0.9518\n",
      "\n",
      "Epoch 00023: val_loss did not improve from 0.19313\n",
      "Epoch 24/50\n",
      "60000/60000 [==============================] - 2s 35us/step - loss: 0.0943 - accuracy: 0.9776 - val_loss: 0.2761 - val_accuracy: 0.9576\n",
      "\n",
      "Epoch 00024: val_loss did not improve from 0.19313\n",
      "Epoch 25/50\n",
      "60000/60000 [==============================] - 2s 33us/step - loss: 0.0907 - accuracy: 0.9788 - val_loss: 0.2880 - val_accuracy: 0.9612\n",
      "\n",
      "Epoch 00025: val_loss did not improve from 0.19313\n",
      "Epoch 26/50\n",
      "60000/60000 [==============================] - 2s 35us/step - loss: 0.1039 - accuracy: 0.9769 - val_loss: 0.2879 - val_accuracy: 0.9603\n",
      "\n",
      "Epoch 00026: val_loss did not improve from 0.19313\n",
      "Epoch 27/50\n",
      "60000/60000 [==============================] - 2s 33us/step - loss: 0.1081 - accuracy: 0.9765 - val_loss: 0.3221 - val_accuracy: 0.9552\n",
      "\n",
      "Epoch 00027: val_loss did not improve from 0.19313\n",
      "Epoch 28/50\n",
      "60000/60000 [==============================] - 2s 33us/step - loss: 0.1022 - accuracy: 0.9776 - val_loss: 0.3324 - val_accuracy: 0.9553\n",
      "\n",
      "Epoch 00028: val_loss did not improve from 0.19313\n",
      "Epoch 29/50\n",
      "60000/60000 [==============================] - 2s 31us/step - loss: 0.1136 - accuracy: 0.9764 - val_loss: 0.3571 - val_accuracy: 0.9504\n",
      "\n",
      "Epoch 00029: val_loss did not improve from 0.19313\n",
      "Epoch 30/50\n",
      "60000/60000 [==============================] - 2s 31us/step - loss: 0.1041 - accuracy: 0.9785 - val_loss: 0.3049 - val_accuracy: 0.9591\n",
      "\n",
      "Epoch 00030: val_loss did not improve from 0.19313\n",
      "Epoch 31/50\n",
      "60000/60000 [==============================] - 2s 31us/step - loss: 0.1000 - accuracy: 0.9790 - val_loss: 0.3537 - val_accuracy: 0.9611\n",
      "\n",
      "Epoch 00031: val_loss did not improve from 0.19313\n",
      "Epoch 32/50\n",
      "60000/60000 [==============================] - 2s 31us/step - loss: 0.1073 - accuracy: 0.9778 - val_loss: 0.3714 - val_accuracy: 0.9571\n",
      "\n",
      "Epoch 00032: val_loss did not improve from 0.19313\n",
      "Epoch 33/50\n",
      "60000/60000 [==============================] - 2s 31us/step - loss: 0.0985 - accuracy: 0.9791 - val_loss: 0.4007 - val_accuracy: 0.9575\n",
      "\n",
      "Epoch 00033: val_loss did not improve from 0.19313\n",
      "Epoch 34/50\n",
      "60000/60000 [==============================] - 2s 31us/step - loss: 0.1110 - accuracy: 0.9779 - val_loss: 0.3600 - val_accuracy: 0.9604\n",
      "\n",
      "Epoch 00034: val_loss did not improve from 0.19313\n",
      "Epoch 35/50\n",
      "60000/60000 [==============================] - 2s 31us/step - loss: 0.0959 - accuracy: 0.9794 - val_loss: 0.3312 - val_accuracy: 0.9620\n",
      "\n",
      "Epoch 00035: val_loss did not improve from 0.19313\n",
      "Epoch 36/50\n",
      "60000/60000 [==============================] - 2s 32us/step - loss: 0.0984 - accuracy: 0.9797 - val_loss: 0.3964 - val_accuracy: 0.9535\n",
      "\n",
      "Epoch 00036: val_loss did not improve from 0.19313\n",
      "Epoch 37/50\n",
      "60000/60000 [==============================] - 2s 32us/step - loss: 0.0959 - accuracy: 0.9806 - val_loss: 0.3521 - val_accuracy: 0.9612\n",
      "\n",
      "Epoch 00037: val_loss did not improve from 0.19313\n",
      "Epoch 38/50\n",
      "60000/60000 [==============================] - 2s 32us/step - loss: 0.0884 - accuracy: 0.9821 - val_loss: 0.3505 - val_accuracy: 0.9597\n",
      "\n",
      "Epoch 00038: val_loss did not improve from 0.19313\n",
      "Epoch 39/50\n",
      "60000/60000 [==============================] - 2s 32us/step - loss: 0.0967 - accuracy: 0.9802 - val_loss: 0.4283 - val_accuracy: 0.9585\n",
      "\n",
      "Epoch 00039: val_loss did not improve from 0.19313\n",
      "Epoch 40/50\n",
      "60000/60000 [==============================] - 2s 32us/step - loss: 0.0903 - accuracy: 0.9815 - val_loss: 0.3970 - val_accuracy: 0.9501\n",
      "\n",
      "Epoch 00040: val_loss did not improve from 0.19313\n",
      "Epoch 41/50\n",
      "60000/60000 [==============================] - 2s 30us/step - loss: 0.0975 - accuracy: 0.9805 - val_loss: 0.5969 - val_accuracy: 0.9516\n",
      "\n",
      "Epoch 00041: val_loss did not improve from 0.19313\n",
      "Epoch 42/50\n",
      "60000/60000 [==============================] - 2s 30us/step - loss: 0.0913 - accuracy: 0.9821 - val_loss: 0.4351 - val_accuracy: 0.9591\n",
      "\n",
      "Epoch 00042: val_loss did not improve from 0.19313\n",
      "Epoch 43/50\n",
      "60000/60000 [==============================] - 2s 30us/step - loss: 0.1049 - accuracy: 0.9806 - val_loss: 0.3999 - val_accuracy: 0.9606\n",
      "\n",
      "Epoch 00043: val_loss did not improve from 0.19313\n",
      "Epoch 44/50\n",
      "60000/60000 [==============================] - 2s 30us/step - loss: 0.0910 - accuracy: 0.9823 - val_loss: 0.3862 - val_accuracy: 0.9616\n",
      "\n",
      "Epoch 00044: val_loss did not improve from 0.19313\n",
      "Epoch 45/50\n",
      "60000/60000 [==============================] - 2s 30us/step - loss: 0.0843 - accuracy: 0.9829 - val_loss: 0.4914 - val_accuracy: 0.9587\n",
      "\n",
      "Epoch 00045: val_loss did not improve from 0.19313\n",
      "Epoch 46/50\n",
      "60000/60000 [==============================] - 2s 30us/step - loss: 0.0915 - accuracy: 0.9834 - val_loss: 0.4352 - val_accuracy: 0.9583\n",
      "\n",
      "Epoch 00046: val_loss did not improve from 0.19313\n",
      "Epoch 47/50\n",
      "60000/60000 [==============================] - 2s 31us/step - loss: 0.1004 - accuracy: 0.9813 - val_loss: 0.4525 - val_accuracy: 0.9586\n",
      "\n",
      "Epoch 00047: val_loss did not improve from 0.19313\n",
      "Epoch 48/50\n",
      "60000/60000 [==============================] - 2s 31us/step - loss: 0.0848 - accuracy: 0.9834 - val_loss: 0.4608 - val_accuracy: 0.9595\n",
      "\n",
      "Epoch 00048: val_loss did not improve from 0.19313\n",
      "Epoch 49/50\n",
      "60000/60000 [==============================] - 2s 31us/step - loss: 0.0940 - accuracy: 0.9829 - val_loss: 0.4777 - val_accuracy: 0.9612\n",
      "\n",
      "Epoch 00049: val_loss did not improve from 0.19313\n",
      "Epoch 50/50\n",
      "60000/60000 [==============================] - 2s 31us/step - loss: 0.1011 - accuracy: 0.9812 - val_loss: 0.4408 - val_accuracy: 0.9592\n",
      "\n",
      "Epoch 00050: val_loss did not improve from 0.19313\n",
      "Optimizing model with SGD (lr: 0.1)\n",
      "Train on 60000 samples, validate on 10000 samples\n",
      "Epoch 1/50\n",
      "60000/60000 [==============================] - 2s 33us/step - loss: 0.2959 - accuracy: 0.9153 - val_loss: 0.1673 - val_accuracy: 0.9509\n",
      "\n",
      "Epoch 00001: val_loss improved from inf to 0.16731, saving model to exercise-03_sgd_lr-0,1.keras\n",
      "Epoch 2/50\n",
      "60000/60000 [==============================] - 2s 32us/step - loss: 0.1442 - accuracy: 0.9585 - val_loss: 0.1211 - val_accuracy: 0.9630\n",
      "\n",
      "Epoch 00002: val_loss improved from 0.16731 to 0.12112, saving model to exercise-03_sgd_lr-0,1.keras\n",
      "Epoch 3/50\n",
      "60000/60000 [==============================] - 2s 38us/step - loss: 0.1043 - accuracy: 0.9699 - val_loss: 0.0960 - val_accuracy: 0.9716\n",
      "\n",
      "Epoch 00003: val_loss improved from 0.12112 to 0.09600, saving model to exercise-03_sgd_lr-0,1.keras\n",
      "Epoch 4/50\n",
      "60000/60000 [==============================] - 2s 35us/step - loss: 0.0822 - accuracy: 0.9759 - val_loss: 0.0840 - val_accuracy: 0.9755\n",
      "\n",
      "Epoch 00004: val_loss improved from 0.09600 to 0.08398, saving model to exercise-03_sgd_lr-0,1.keras\n",
      "Epoch 5/50\n",
      "60000/60000 [==============================] - 2s 33us/step - loss: 0.0674 - accuracy: 0.9805 - val_loss: 0.0792 - val_accuracy: 0.9752\n",
      "\n",
      "Epoch 00005: val_loss improved from 0.08398 to 0.07923, saving model to exercise-03_sgd_lr-0,1.keras\n",
      "Epoch 6/50\n",
      "60000/60000 [==============================] - 2s 36us/step - loss: 0.0558 - accuracy: 0.9838 - val_loss: 0.0759 - val_accuracy: 0.9767\n",
      "\n",
      "Epoch 00006: val_loss improved from 0.07923 to 0.07595, saving model to exercise-03_sgd_lr-0,1.keras\n",
      "Epoch 7/50\n",
      "60000/60000 [==============================] - 2s 32us/step - loss: 0.0479 - accuracy: 0.9862 - val_loss: 0.0714 - val_accuracy: 0.9784\n",
      "\n",
      "Epoch 00007: val_loss improved from 0.07595 to 0.07144, saving model to exercise-03_sgd_lr-0,1.keras\n",
      "Epoch 8/50\n",
      "60000/60000 [==============================] - 2s 32us/step - loss: 0.0410 - accuracy: 0.9884 - val_loss: 0.0713 - val_accuracy: 0.9771\n",
      "\n",
      "Epoch 00008: val_loss improved from 0.07144 to 0.07126, saving model to exercise-03_sgd_lr-0,1.keras\n",
      "Epoch 9/50\n",
      "60000/60000 [==============================] - 2s 32us/step - loss: 0.0351 - accuracy: 0.9904 - val_loss: 0.0674 - val_accuracy: 0.9786\n",
      "\n",
      "Epoch 00009: val_loss improved from 0.07126 to 0.06737, saving model to exercise-03_sgd_lr-0,1.keras\n",
      "Epoch 10/50\n",
      "60000/60000 [==============================] - 2s 32us/step - loss: 0.0308 - accuracy: 0.9922 - val_loss: 0.0700 - val_accuracy: 0.9790\n",
      "\n",
      "Epoch 00010: val_loss did not improve from 0.06737\n",
      "Epoch 11/50\n",
      "60000/60000 [==============================] - 2s 38us/step - loss: 0.0268 - accuracy: 0.9929 - val_loss: 0.0664 - val_accuracy: 0.9790\n",
      "\n",
      "Epoch 00011: val_loss improved from 0.06737 to 0.06645, saving model to exercise-03_sgd_lr-0,1.keras\n",
      "Epoch 12/50\n",
      "60000/60000 [==============================] - 2s 34us/step - loss: 0.0233 - accuracy: 0.9943 - val_loss: 0.0662 - val_accuracy: 0.9789\n",
      "\n",
      "Epoch 00012: val_loss improved from 0.06645 to 0.06621, saving model to exercise-03_sgd_lr-0,1.keras\n",
      "Epoch 13/50\n",
      "60000/60000 [==============================] - 2s 34us/step - loss: 0.0197 - accuracy: 0.9957 - val_loss: 0.0675 - val_accuracy: 0.9792\n",
      "\n",
      "Epoch 00013: val_loss did not improve from 0.06621\n",
      "Epoch 14/50\n",
      "60000/60000 [==============================] - 2s 36us/step - loss: 0.0175 - accuracy: 0.9961 - val_loss: 0.0642 - val_accuracy: 0.9803\n",
      "\n",
      "Epoch 00014: val_loss improved from 0.06621 to 0.06415, saving model to exercise-03_sgd_lr-0,1.keras\n",
      "Epoch 15/50\n",
      "60000/60000 [==============================] - 2s 34us/step - loss: 0.0153 - accuracy: 0.9969 - val_loss: 0.0649 - val_accuracy: 0.9812\n",
      "\n",
      "Epoch 00015: val_loss did not improve from 0.06415\n",
      "Epoch 16/50\n",
      "60000/60000 [==============================] - 2s 31us/step - loss: 0.0132 - accuracy: 0.9978 - val_loss: 0.0619 - val_accuracy: 0.9806\n",
      "\n",
      "Epoch 00016: val_loss improved from 0.06415 to 0.06192, saving model to exercise-03_sgd_lr-0,1.keras\n",
      "Epoch 17/50\n",
      "60000/60000 [==============================] - 2s 30us/step - loss: 0.0116 - accuracy: 0.9983 - val_loss: 0.0672 - val_accuracy: 0.9797\n",
      "\n",
      "Epoch 00017: val_loss did not improve from 0.06192\n",
      "Epoch 18/50\n",
      "60000/60000 [==============================] - 2s 32us/step - loss: 0.0104 - accuracy: 0.9982 - val_loss: 0.0666 - val_accuracy: 0.9801\n",
      "\n",
      "Epoch 00018: val_loss did not improve from 0.06192\n",
      "Epoch 19/50\n",
      "60000/60000 [==============================] - 2s 31us/step - loss: 0.0091 - accuracy: 0.9989 - val_loss: 0.0650 - val_accuracy: 0.9808\n",
      "\n",
      "Epoch 00019: val_loss did not improve from 0.06192\n",
      "Epoch 20/50\n",
      "60000/60000 [==============================] - 2s 31us/step - loss: 0.0080 - accuracy: 0.9991 - val_loss: 0.0656 - val_accuracy: 0.9811\n",
      "\n",
      "Epoch 00020: val_loss did not improve from 0.06192\n",
      "Epoch 21/50\n",
      "60000/60000 [==============================] - 2s 32us/step - loss: 0.0071 - accuracy: 0.9994 - val_loss: 0.0661 - val_accuracy: 0.9820\n",
      "\n",
      "Epoch 00021: val_loss did not improve from 0.06192\n",
      "Epoch 22/50\n",
      "60000/60000 [==============================] - 2s 35us/step - loss: 0.0064 - accuracy: 0.9995 - val_loss: 0.0657 - val_accuracy: 0.9813\n",
      "\n",
      "Epoch 00022: val_loss did not improve from 0.06192\n",
      "Epoch 23/50\n",
      "60000/60000 [==============================] - 2s 36us/step - loss: 0.0057 - accuracy: 0.9996 - val_loss: 0.0663 - val_accuracy: 0.9813\n",
      "\n",
      "Epoch 00023: val_loss did not improve from 0.06192\n",
      "Epoch 24/50\n",
      "60000/60000 [==============================] - 2s 36us/step - loss: 0.0052 - accuracy: 0.9997 - val_loss: 0.0686 - val_accuracy: 0.9812\n",
      "\n",
      "Epoch 00024: val_loss did not improve from 0.06192\n",
      "Epoch 25/50\n",
      "60000/60000 [==============================] - 2s 34us/step - loss: 0.0047 - accuracy: 0.9998 - val_loss: 0.0674 - val_accuracy: 0.9811\n",
      "\n",
      "Epoch 00025: val_loss did not improve from 0.06192\n",
      "Epoch 26/50\n",
      "60000/60000 [==============================] - 2s 33us/step - loss: 0.0043 - accuracy: 0.9998 - val_loss: 0.0675 - val_accuracy: 0.9811\n",
      "\n",
      "Epoch 00026: val_loss did not improve from 0.06192\n",
      "Epoch 27/50\n",
      "60000/60000 [==============================] - 2s 32us/step - loss: 0.0039 - accuracy: 0.9998 - val_loss: 0.0682 - val_accuracy: 0.9810\n",
      "\n",
      "Epoch 00027: val_loss did not improve from 0.06192\n",
      "Epoch 28/50\n",
      "60000/60000 [==============================] - 2s 37us/step - loss: 0.0037 - accuracy: 0.9999 - val_loss: 0.0685 - val_accuracy: 0.9806\n",
      "\n",
      "Epoch 00028: val_loss did not improve from 0.06192\n",
      "Epoch 29/50\n",
      "60000/60000 [==============================] - 2s 32us/step - loss: 0.0033 - accuracy: 0.9999 - val_loss: 0.0688 - val_accuracy: 0.9816\n",
      "\n",
      "Epoch 00029: val_loss did not improve from 0.06192\n",
      "Epoch 30/50\n",
      "60000/60000 [==============================] - 2s 32us/step - loss: 0.0031 - accuracy: 0.9999 - val_loss: 0.0689 - val_accuracy: 0.9815\n",
      "\n",
      "Epoch 00030: val_loss did not improve from 0.06192\n",
      "Epoch 31/50\n",
      "60000/60000 [==============================] - 2s 32us/step - loss: 0.0029 - accuracy: 1.0000 - val_loss: 0.0698 - val_accuracy: 0.9811\n",
      "\n",
      "Epoch 00031: val_loss did not improve from 0.06192\n",
      "Epoch 32/50\n",
      "60000/60000 [==============================] - 2s 34us/step - loss: 0.0028 - accuracy: 0.9999 - val_loss: 0.0701 - val_accuracy: 0.9802\n",
      "\n",
      "Epoch 00032: val_loss did not improve from 0.06192\n",
      "Epoch 33/50\n",
      "60000/60000 [==============================] - 2s 34us/step - loss: 0.0026 - accuracy: 1.0000 - val_loss: 0.0706 - val_accuracy: 0.9811\n",
      "\n",
      "Epoch 00033: val_loss did not improve from 0.06192\n",
      "Epoch 34/50\n",
      "60000/60000 [==============================] - 2s 33us/step - loss: 0.0025 - accuracy: 1.0000 - val_loss: 0.0707 - val_accuracy: 0.9817\n",
      "\n",
      "Epoch 00034: val_loss did not improve from 0.06192\n",
      "Epoch 35/50\n",
      "60000/60000 [==============================] - 2s 31us/step - loss: 0.0023 - accuracy: 1.0000 - val_loss: 0.0723 - val_accuracy: 0.9812\n",
      "\n",
      "Epoch 00035: val_loss did not improve from 0.06192\n",
      "Epoch 36/50\n",
      "60000/60000 [==============================] - 2s 34us/step - loss: 0.0022 - accuracy: 1.0000 - val_loss: 0.0711 - val_accuracy: 0.9811\n",
      "\n",
      "Epoch 00036: val_loss did not improve from 0.06192\n",
      "Epoch 37/50\n",
      "60000/60000 [==============================] - 2s 31us/step - loss: 0.0021 - accuracy: 1.0000 - val_loss: 0.0720 - val_accuracy: 0.9813\n",
      "\n",
      "Epoch 00037: val_loss did not improve from 0.06192\n",
      "Epoch 38/50\n",
      "60000/60000 [==============================] - 2s 32us/step - loss: 0.0020 - accuracy: 1.0000 - val_loss: 0.0723 - val_accuracy: 0.9813\n",
      "\n",
      "Epoch 00038: val_loss did not improve from 0.06192\n",
      "Epoch 39/50\n",
      "60000/60000 [==============================] - 2s 34us/step - loss: 0.0019 - accuracy: 1.0000 - val_loss: 0.0725 - val_accuracy: 0.9810\n",
      "\n",
      "Epoch 00039: val_loss did not improve from 0.06192\n",
      "Epoch 40/50\n",
      "60000/60000 [==============================] - 2s 32us/step - loss: 0.0018 - accuracy: 1.0000 - val_loss: 0.0720 - val_accuracy: 0.9812\n",
      "\n",
      "Epoch 00040: val_loss did not improve from 0.06192\n",
      "Epoch 41/50\n",
      "60000/60000 [==============================] - 2s 32us/step - loss: 0.0018 - accuracy: 1.0000 - val_loss: 0.0735 - val_accuracy: 0.9815\n",
      "\n",
      "Epoch 00041: val_loss did not improve from 0.06192\n",
      "Epoch 42/50\n",
      "60000/60000 [==============================] - 2s 34us/step - loss: 0.0017 - accuracy: 1.0000 - val_loss: 0.0735 - val_accuracy: 0.9814\n",
      "\n",
      "Epoch 00042: val_loss did not improve from 0.06192\n",
      "Epoch 43/50\n",
      "60000/60000 [==============================] - 2s 36us/step - loss: 0.0016 - accuracy: 1.0000 - val_loss: 0.0737 - val_accuracy: 0.9811\n",
      "\n",
      "Epoch 00043: val_loss did not improve from 0.06192\n",
      "Epoch 44/50\n",
      "60000/60000 [==============================] - 2s 33us/step - loss: 0.0016 - accuracy: 1.0000 - val_loss: 0.0730 - val_accuracy: 0.9813\n",
      "\n",
      "Epoch 00044: val_loss did not improve from 0.06192\n",
      "Epoch 45/50\n",
      "60000/60000 [==============================] - 2s 36us/step - loss: 0.0015 - accuracy: 1.0000 - val_loss: 0.0739 - val_accuracy: 0.9812\n",
      "\n",
      "Epoch 00045: val_loss did not improve from 0.06192\n",
      "Epoch 46/50\n",
      "60000/60000 [==============================] - 2s 33us/step - loss: 0.0015 - accuracy: 1.0000 - val_loss: 0.0736 - val_accuracy: 0.9814\n",
      "\n",
      "Epoch 00046: val_loss did not improve from 0.06192\n",
      "Epoch 47/50\n",
      "60000/60000 [==============================] - 2s 32us/step - loss: 0.0014 - accuracy: 1.0000 - val_loss: 0.0744 - val_accuracy: 0.9814\n",
      "\n",
      "Epoch 00047: val_loss did not improve from 0.06192\n",
      "Epoch 48/50\n",
      "60000/60000 [==============================] - 2s 31us/step - loss: 0.0014 - accuracy: 1.0000 - val_loss: 0.0748 - val_accuracy: 0.9816\n",
      "\n",
      "Epoch 00048: val_loss did not improve from 0.06192\n",
      "Epoch 49/50\n",
      "60000/60000 [==============================] - 2s 33us/step - loss: 0.0013 - accuracy: 1.0000 - val_loss: 0.0755 - val_accuracy: 0.9808\n",
      "\n",
      "Epoch 00049: val_loss did not improve from 0.06192\n",
      "Epoch 50/50\n",
      "60000/60000 [==============================] - 2s 32us/step - loss: 0.0013 - accuracy: 1.0000 - val_loss: 0.0751 - val_accuracy: 0.9812\n",
      "\n",
      "Epoch 00050: val_loss did not improve from 0.06192\n",
      "Optimizing model with SGD (lr: 0.01)\n",
      "Train on 60000 samples, validate on 10000 samples\n",
      "Epoch 1/50\n",
      "60000/60000 [==============================] - 2s 35us/step - loss: 0.6508 - accuracy: 0.8366 - val_loss: 0.3559 - val_accuracy: 0.9037\n",
      "\n",
      "Epoch 00001: val_loss improved from inf to 0.35592, saving model to exercise-03_sgd_lr-0,01.keras\n",
      "Epoch 2/50\n",
      "60000/60000 [==============================] - 2s 35us/step - loss: 0.3371 - accuracy: 0.9060 - val_loss: 0.2924 - val_accuracy: 0.9175\n",
      "\n",
      "Epoch 00002: val_loss improved from 0.35592 to 0.29245, saving model to exercise-03_sgd_lr-0,01.keras\n",
      "Epoch 3/50\n",
      "60000/60000 [==============================] - 2s 37us/step - loss: 0.2895 - accuracy: 0.9186 - val_loss: 0.2599 - val_accuracy: 0.9248\n",
      "\n",
      "Epoch 00003: val_loss improved from 0.29245 to 0.25985, saving model to exercise-03_sgd_lr-0,01.keras\n",
      "Epoch 4/50\n",
      "60000/60000 [==============================] - 2s 33us/step - loss: 0.2603 - accuracy: 0.9273 - val_loss: 0.2386 - val_accuracy: 0.9310\n",
      "\n",
      "Epoch 00004: val_loss improved from 0.25985 to 0.23863, saving model to exercise-03_sgd_lr-0,01.keras\n",
      "Epoch 5/50\n",
      "60000/60000 [==============================] - 2s 32us/step - loss: 0.2384 - accuracy: 0.9326 - val_loss: 0.2210 - val_accuracy: 0.9360\n",
      "\n",
      "Epoch 00005: val_loss improved from 0.23863 to 0.22098, saving model to exercise-03_sgd_lr-0,01.keras\n",
      "Epoch 6/50\n",
      "60000/60000 [==============================] - 2s 32us/step - loss: 0.2204 - accuracy: 0.9384 - val_loss: 0.2064 - val_accuracy: 0.9403\n",
      "\n",
      "Epoch 00006: val_loss improved from 0.22098 to 0.20636, saving model to exercise-03_sgd_lr-0,01.keras\n",
      "Epoch 7/50\n",
      "60000/60000 [==============================] - 2s 32us/step - loss: 0.2051 - accuracy: 0.9431 - val_loss: 0.1946 - val_accuracy: 0.9449\n",
      "\n",
      "Epoch 00007: val_loss improved from 0.20636 to 0.19458, saving model to exercise-03_sgd_lr-0,01.keras\n",
      "Epoch 8/50\n",
      "60000/60000 [==============================] - 2s 32us/step - loss: 0.1919 - accuracy: 0.9469 - val_loss: 0.1830 - val_accuracy: 0.9467\n",
      "\n",
      "Epoch 00008: val_loss improved from 0.19458 to 0.18296, saving model to exercise-03_sgd_lr-0,01.keras\n",
      "Epoch 9/50\n",
      "60000/60000 [==============================] - 2s 32us/step - loss: 0.1804 - accuracy: 0.9499 - val_loss: 0.1755 - val_accuracy: 0.9502\n",
      "\n",
      "Epoch 00009: val_loss improved from 0.18296 to 0.17545, saving model to exercise-03_sgd_lr-0,01.keras\n",
      "Epoch 10/50\n",
      "60000/60000 [==============================] - 2s 31us/step - loss: 0.1702 - accuracy: 0.9528 - val_loss: 0.1668 - val_accuracy: 0.9511\n",
      "\n",
      "Epoch 00010: val_loss improved from 0.17545 to 0.16678, saving model to exercise-03_sgd_lr-0,01.keras\n",
      "Epoch 11/50\n",
      "60000/60000 [==============================] - 2s 31us/step - loss: 0.1609 - accuracy: 0.9552 - val_loss: 0.1572 - val_accuracy: 0.9537\n",
      "\n",
      "Epoch 00011: val_loss improved from 0.16678 to 0.15720, saving model to exercise-03_sgd_lr-0,01.keras\n",
      "Epoch 12/50\n",
      "60000/60000 [==============================] - 2s 32us/step - loss: 0.1527 - accuracy: 0.9575 - val_loss: 0.1520 - val_accuracy: 0.9544\n",
      "\n",
      "Epoch 00012: val_loss improved from 0.15720 to 0.15196, saving model to exercise-03_sgd_lr-0,01.keras\n",
      "Epoch 13/50\n",
      "60000/60000 [==============================] - 2s 32us/step - loss: 0.1455 - accuracy: 0.9596 - val_loss: 0.1457 - val_accuracy: 0.9567\n",
      "\n",
      "Epoch 00013: val_loss improved from 0.15196 to 0.14570, saving model to exercise-03_sgd_lr-0,01.keras\n",
      "Epoch 14/50\n",
      "60000/60000 [==============================] - 2s 36us/step - loss: 0.1386 - accuracy: 0.9617 - val_loss: 0.1398 - val_accuracy: 0.9590\n",
      "\n",
      "Epoch 00014: val_loss improved from 0.14570 to 0.13981, saving model to exercise-03_sgd_lr-0,01.keras\n",
      "Epoch 15/50\n",
      "60000/60000 [==============================] - 2s 33us/step - loss: 0.1324 - accuracy: 0.9632 - val_loss: 0.1344 - val_accuracy: 0.9602\n",
      "\n",
      "Epoch 00015: val_loss improved from 0.13981 to 0.13437, saving model to exercise-03_sgd_lr-0,01.keras\n",
      "Epoch 16/50\n",
      "60000/60000 [==============================] - 2s 35us/step - loss: 0.1267 - accuracy: 0.9647 - val_loss: 0.1302 - val_accuracy: 0.9624\n",
      "\n",
      "Epoch 00016: val_loss improved from 0.13437 to 0.13019, saving model to exercise-03_sgd_lr-0,01.keras\n",
      "Epoch 17/50\n",
      "60000/60000 [==============================] - 2s 33us/step - loss: 0.1215 - accuracy: 0.9668 - val_loss: 0.1281 - val_accuracy: 0.9627\n",
      "\n",
      "Epoch 00017: val_loss improved from 0.13019 to 0.12807, saving model to exercise-03_sgd_lr-0,01.keras\n",
      "Epoch 18/50\n",
      "60000/60000 [==============================] - 2s 36us/step - loss: 0.1168 - accuracy: 0.9679 - val_loss: 0.1230 - val_accuracy: 0.9633\n",
      "\n",
      "Epoch 00018: val_loss improved from 0.12807 to 0.12302, saving model to exercise-03_sgd_lr-0,01.keras\n",
      "Epoch 19/50\n",
      "60000/60000 [==============================] - 2s 33us/step - loss: 0.1123 - accuracy: 0.9692 - val_loss: 0.1184 - val_accuracy: 0.9657\n",
      "\n",
      "Epoch 00019: val_loss improved from 0.12302 to 0.11838, saving model to exercise-03_sgd_lr-0,01.keras\n",
      "Epoch 20/50\n",
      "60000/60000 [==============================] - 2s 34us/step - loss: 0.1081 - accuracy: 0.9701 - val_loss: 0.1150 - val_accuracy: 0.9666\n",
      "\n",
      "Epoch 00020: val_loss improved from 0.11838 to 0.11505, saving model to exercise-03_sgd_lr-0,01.keras\n",
      "Epoch 21/50\n",
      "60000/60000 [==============================] - 2s 37us/step - loss: 0.1044 - accuracy: 0.9710 - val_loss: 0.1129 - val_accuracy: 0.9670\n",
      "\n",
      "Epoch 00021: val_loss improved from 0.11505 to 0.11286, saving model to exercise-03_sgd_lr-0,01.keras\n",
      "Epoch 22/50\n",
      "60000/60000 [==============================] - 2s 36us/step - loss: 0.1008 - accuracy: 0.9726 - val_loss: 0.1101 - val_accuracy: 0.9675\n",
      "\n",
      "Epoch 00022: val_loss improved from 0.11286 to 0.11006, saving model to exercise-03_sgd_lr-0,01.keras\n",
      "Epoch 23/50\n",
      "60000/60000 [==============================] - 2s 34us/step - loss: 0.0974 - accuracy: 0.9735 - val_loss: 0.1072 - val_accuracy: 0.9685\n",
      "\n",
      "Epoch 00023: val_loss improved from 0.11006 to 0.10723, saving model to exercise-03_sgd_lr-0,01.keras\n",
      "Epoch 24/50\n",
      "60000/60000 [==============================] - 2s 36us/step - loss: 0.0944 - accuracy: 0.9743 - val_loss: 0.1053 - val_accuracy: 0.9683\n",
      "\n",
      "Epoch 00024: val_loss improved from 0.10723 to 0.10533, saving model to exercise-03_sgd_lr-0,01.keras\n",
      "Epoch 25/50\n",
      "60000/60000 [==============================] - 2s 31us/step - loss: 0.0911 - accuracy: 0.9753 - val_loss: 0.1034 - val_accuracy: 0.9692\n",
      "\n",
      "Epoch 00025: val_loss improved from 0.10533 to 0.10339, saving model to exercise-03_sgd_lr-0,01.keras\n",
      "Epoch 26/50\n",
      "60000/60000 [==============================] - 2s 33us/step - loss: 0.0885 - accuracy: 0.9758 - val_loss: 0.1025 - val_accuracy: 0.9697\n",
      "\n",
      "Epoch 00026: val_loss improved from 0.10339 to 0.10248, saving model to exercise-03_sgd_lr-0,01.keras\n",
      "Epoch 27/50\n",
      "60000/60000 [==============================] - 2s 34us/step - loss: 0.0859 - accuracy: 0.9768 - val_loss: 0.0987 - val_accuracy: 0.9709\n",
      "\n",
      "Epoch 00027: val_loss improved from 0.10248 to 0.09869, saving model to exercise-03_sgd_lr-0,01.keras\n",
      "Epoch 28/50\n",
      "60000/60000 [==============================] - 2s 32us/step - loss: 0.0833 - accuracy: 0.9768 - val_loss: 0.0972 - val_accuracy: 0.9710\n",
      "\n",
      "Epoch 00028: val_loss improved from 0.09869 to 0.09724, saving model to exercise-03_sgd_lr-0,01.keras\n",
      "Epoch 29/50\n",
      "60000/60000 [==============================] - 2s 34us/step - loss: 0.0809 - accuracy: 0.9780 - val_loss: 0.0964 - val_accuracy: 0.9715\n",
      "\n",
      "Epoch 00029: val_loss improved from 0.09724 to 0.09638, saving model to exercise-03_sgd_lr-0,01.keras\n",
      "Epoch 30/50\n",
      "60000/60000 [==============================] - 2s 37us/step - loss: 0.0787 - accuracy: 0.9786 - val_loss: 0.0932 - val_accuracy: 0.9719\n",
      "\n",
      "Epoch 00030: val_loss improved from 0.09638 to 0.09318, saving model to exercise-03_sgd_lr-0,01.keras\n",
      "Epoch 31/50\n",
      "60000/60000 [==============================] - 2s 33us/step - loss: 0.0766 - accuracy: 0.9793 - val_loss: 0.0935 - val_accuracy: 0.9720\n",
      "\n",
      "Epoch 00031: val_loss did not improve from 0.09318\n",
      "Epoch 32/50\n",
      "60000/60000 [==============================] - 2s 34us/step - loss: 0.0746 - accuracy: 0.9797 - val_loss: 0.0918 - val_accuracy: 0.9731\n",
      "\n",
      "Epoch 00032: val_loss improved from 0.09318 to 0.09178, saving model to exercise-03_sgd_lr-0,01.keras\n",
      "Epoch 33/50\n",
      "60000/60000 [==============================] - 2s 36us/step - loss: 0.0727 - accuracy: 0.9804 - val_loss: 0.0898 - val_accuracy: 0.9739\n",
      "\n",
      "Epoch 00033: val_loss improved from 0.09178 to 0.08980, saving model to exercise-03_sgd_lr-0,01.keras\n",
      "Epoch 34/50\n",
      "60000/60000 [==============================] - 2s 38us/step - loss: 0.0706 - accuracy: 0.9808 - val_loss: 0.0890 - val_accuracy: 0.9738\n",
      "\n",
      "Epoch 00034: val_loss improved from 0.08980 to 0.08898, saving model to exercise-03_sgd_lr-0,01.keras\n",
      "Epoch 35/50\n",
      "60000/60000 [==============================] - 2s 36us/step - loss: 0.0687 - accuracy: 0.9815 - val_loss: 0.0874 - val_accuracy: 0.9730\n",
      "\n",
      "Epoch 00035: val_loss improved from 0.08898 to 0.08744, saving model to exercise-03_sgd_lr-0,01.keras\n",
      "Epoch 36/50\n",
      "60000/60000 [==============================] - 2s 34us/step - loss: 0.0673 - accuracy: 0.9819 - val_loss: 0.0861 - val_accuracy: 0.9737\n",
      "\n",
      "Epoch 00036: val_loss improved from 0.08744 to 0.08612, saving model to exercise-03_sgd_lr-0,01.keras\n",
      "Epoch 37/50\n",
      "60000/60000 [==============================] - 2s 33us/step - loss: 0.0656 - accuracy: 0.9823 - val_loss: 0.0857 - val_accuracy: 0.9742\n",
      "\n",
      "Epoch 00037: val_loss improved from 0.08612 to 0.08570, saving model to exercise-03_sgd_lr-0,01.keras\n",
      "Epoch 38/50\n",
      "60000/60000 [==============================] - 2s 31us/step - loss: 0.0639 - accuracy: 0.9830 - val_loss: 0.0853 - val_accuracy: 0.9744\n",
      "\n",
      "Epoch 00038: val_loss improved from 0.08570 to 0.08533, saving model to exercise-03_sgd_lr-0,01.keras\n",
      "Epoch 39/50\n",
      "60000/60000 [==============================] - 2s 40us/step - loss: 0.0625 - accuracy: 0.9831 - val_loss: 0.0843 - val_accuracy: 0.9739\n",
      "\n",
      "Epoch 00039: val_loss improved from 0.08533 to 0.08431, saving model to exercise-03_sgd_lr-0,01.keras\n",
      "Epoch 40/50\n",
      "60000/60000 [==============================] - 2s 27us/step - loss: 0.0611 - accuracy: 0.9837 - val_loss: 0.0831 - val_accuracy: 0.9739\n",
      "\n",
      "Epoch 00040: val_loss improved from 0.08431 to 0.08310, saving model to exercise-03_sgd_lr-0,01.keras\n",
      "Epoch 41/50\n",
      "60000/60000 [==============================] - 2s 26us/step - loss: 0.0597 - accuracy: 0.9840 - val_loss: 0.0827 - val_accuracy: 0.9751\n",
      "\n",
      "Epoch 00041: val_loss improved from 0.08310 to 0.08273, saving model to exercise-03_sgd_lr-0,01.keras\n",
      "Epoch 42/50\n",
      "60000/60000 [==============================] - 2s 27us/step - loss: 0.0583 - accuracy: 0.9849 - val_loss: 0.0814 - val_accuracy: 0.9748\n",
      "\n",
      "Epoch 00042: val_loss improved from 0.08273 to 0.08143, saving model to exercise-03_sgd_lr-0,01.keras\n",
      "Epoch 43/50\n",
      "60000/60000 [==============================] - 2s 26us/step - loss: 0.0570 - accuracy: 0.9848 - val_loss: 0.0805 - val_accuracy: 0.9761\n",
      "\n",
      "Epoch 00043: val_loss improved from 0.08143 to 0.08046, saving model to exercise-03_sgd_lr-0,01.keras\n",
      "Epoch 44/50\n",
      "60000/60000 [==============================] - 2s 26us/step - loss: 0.0557 - accuracy: 0.9854 - val_loss: 0.0794 - val_accuracy: 0.9756\n",
      "\n",
      "Epoch 00044: val_loss improved from 0.08046 to 0.07943, saving model to exercise-03_sgd_lr-0,01.keras\n",
      "Epoch 45/50\n",
      "60000/60000 [==============================] - 2s 26us/step - loss: 0.0545 - accuracy: 0.9855 - val_loss: 0.0790 - val_accuracy: 0.9755\n",
      "\n",
      "Epoch 00045: val_loss improved from 0.07943 to 0.07901, saving model to exercise-03_sgd_lr-0,01.keras\n",
      "Epoch 46/50\n",
      "60000/60000 [==============================] - 2s 27us/step - loss: 0.0533 - accuracy: 0.9862 - val_loss: 0.0794 - val_accuracy: 0.9759\n",
      "\n",
      "Epoch 00046: val_loss did not improve from 0.07901\n",
      "Epoch 47/50\n",
      "60000/60000 [==============================] - 2s 26us/step - loss: 0.0522 - accuracy: 0.9863 - val_loss: 0.0788 - val_accuracy: 0.9750\n",
      "\n",
      "Epoch 00047: val_loss improved from 0.07901 to 0.07883, saving model to exercise-03_sgd_lr-0,01.keras\n",
      "Epoch 48/50\n",
      "60000/60000 [==============================] - 2s 27us/step - loss: 0.0511 - accuracy: 0.9867 - val_loss: 0.0778 - val_accuracy: 0.9765\n",
      "\n",
      "Epoch 00048: val_loss improved from 0.07883 to 0.07783, saving model to exercise-03_sgd_lr-0,01.keras\n",
      "Epoch 49/50\n",
      "60000/60000 [==============================] - 2s 33us/step - loss: 0.0501 - accuracy: 0.9870 - val_loss: 0.0766 - val_accuracy: 0.9763\n",
      "\n",
      "Epoch 00049: val_loss improved from 0.07783 to 0.07658, saving model to exercise-03_sgd_lr-0,01.keras\n",
      "Epoch 50/50\n",
      "60000/60000 [==============================] - 2s 30us/step - loss: 0.0489 - accuracy: 0.9873 - val_loss: 0.0753 - val_accuracy: 0.9768\n",
      "\n",
      "Epoch 00050: val_loss improved from 0.07658 to 0.07530, saving model to exercise-03_sgd_lr-0,01.keras\n",
      "Optimizing model with SGD (lr: 0.001)\n",
      "Train on 60000 samples, validate on 10000 samples\n",
      "Epoch 1/50\n",
      "60000/60000 [==============================] - 2s 34us/step - loss: 1.6945 - accuracy: 0.5828 - val_loss: 1.1657 - val_accuracy: 0.7837\n",
      "\n",
      "Epoch 00001: val_loss improved from inf to 1.16569, saving model to exercise-03_sgd_lr-0,001.keras\n",
      "Epoch 2/50\n",
      "60000/60000 [==============================] - 2s 33us/step - loss: 0.9361 - accuracy: 0.8143 - val_loss: 0.7370 - val_accuracy: 0.8425\n",
      "\n",
      "Epoch 00002: val_loss improved from 1.16569 to 0.73697, saving model to exercise-03_sgd_lr-0,001.keras\n",
      "Epoch 3/50\n",
      "60000/60000 [==============================] - 2s 29us/step - loss: 0.6707 - accuracy: 0.8504 - val_loss: 0.5765 - val_accuracy: 0.8660\n",
      "\n",
      "Epoch 00003: val_loss improved from 0.73697 to 0.57645, saving model to exercise-03_sgd_lr-0,001.keras\n",
      "Epoch 4/50\n",
      "60000/60000 [==============================] - 2s 30us/step - loss: 0.5564 - accuracy: 0.8672 - val_loss: 0.4968 - val_accuracy: 0.8784\n",
      "\n",
      "Epoch 00004: val_loss improved from 0.57645 to 0.49684, saving model to exercise-03_sgd_lr-0,001.keras\n",
      "Epoch 5/50\n",
      "60000/60000 [==============================] - 2s 31us/step - loss: 0.4936 - accuracy: 0.8767 - val_loss: 0.4491 - val_accuracy: 0.8858\n",
      "\n",
      "Epoch 00005: val_loss improved from 0.49684 to 0.44908, saving model to exercise-03_sgd_lr-0,001.keras\n",
      "Epoch 6/50\n",
      "60000/60000 [==============================] - 3s 42us/step - loss: 0.4536 - accuracy: 0.8832 - val_loss: 0.4168 - val_accuracy: 0.8910\n",
      "\n",
      "Epoch 00006: val_loss improved from 0.44908 to 0.41680, saving model to exercise-03_sgd_lr-0,001.keras\n",
      "Epoch 7/50\n",
      "60000/60000 [==============================] - 2s 33us/step - loss: 0.4254 - accuracy: 0.8883 - val_loss: 0.3938 - val_accuracy: 0.8963\n",
      "\n",
      "Epoch 00007: val_loss improved from 0.41680 to 0.39380, saving model to exercise-03_sgd_lr-0,001.keras\n",
      "Epoch 8/50\n",
      "60000/60000 [==============================] - 2s 38us/step - loss: 0.4044 - accuracy: 0.8924 - val_loss: 0.3759 - val_accuracy: 0.8980\n",
      "\n",
      "Epoch 00008: val_loss improved from 0.39380 to 0.37593, saving model to exercise-03_sgd_lr-0,001.keras\n",
      "Epoch 9/50\n",
      "60000/60000 [==============================] - 2s 33us/step - loss: 0.3879 - accuracy: 0.8950 - val_loss: 0.3615 - val_accuracy: 0.9014\n",
      "\n",
      "Epoch 00009: val_loss improved from 0.37593 to 0.36152, saving model to exercise-03_sgd_lr-0,001.keras\n",
      "Epoch 10/50\n",
      "60000/60000 [==============================] - 2s 33us/step - loss: 0.3744 - accuracy: 0.8983 - val_loss: 0.3497 - val_accuracy: 0.9035\n",
      "\n",
      "Epoch 00010: val_loss improved from 0.36152 to 0.34966, saving model to exercise-03_sgd_lr-0,001.keras\n",
      "Epoch 11/50\n",
      "60000/60000 [==============================] - 2s 32us/step - loss: 0.3631 - accuracy: 0.9007 - val_loss: 0.3402 - val_accuracy: 0.9069\n",
      "\n",
      "Epoch 00011: val_loss improved from 0.34966 to 0.34020, saving model to exercise-03_sgd_lr-0,001.keras\n",
      "Epoch 12/50\n",
      "60000/60000 [==============================] - 2s 33us/step - loss: 0.3534 - accuracy: 0.9025 - val_loss: 0.3323 - val_accuracy: 0.9094\n",
      "\n",
      "Epoch 00012: val_loss improved from 0.34020 to 0.33229, saving model to exercise-03_sgd_lr-0,001.keras\n",
      "Epoch 13/50\n",
      "60000/60000 [==============================] - 2s 35us/step - loss: 0.3450 - accuracy: 0.9044 - val_loss: 0.3241 - val_accuracy: 0.9106\n",
      "\n",
      "Epoch 00013: val_loss improved from 0.33229 to 0.32411, saving model to exercise-03_sgd_lr-0,001.keras\n",
      "Epoch 14/50\n",
      "60000/60000 [==============================] - 2s 37us/step - loss: 0.3374 - accuracy: 0.9061 - val_loss: 0.3179 - val_accuracy: 0.9125\n",
      "\n",
      "Epoch 00014: val_loss improved from 0.32411 to 0.31793, saving model to exercise-03_sgd_lr-0,001.keras\n",
      "Epoch 15/50\n",
      "60000/60000 [==============================] - 2s 27us/step - loss: 0.3306 - accuracy: 0.9080 - val_loss: 0.3120 - val_accuracy: 0.9137\n",
      "\n",
      "Epoch 00015: val_loss improved from 0.31793 to 0.31202, saving model to exercise-03_sgd_lr-0,001.keras\n",
      "Epoch 16/50\n",
      "60000/60000 [==============================] - 2s 30us/step - loss: 0.3244 - accuracy: 0.9093 - val_loss: 0.3064 - val_accuracy: 0.9145\n",
      "\n",
      "Epoch 00016: val_loss improved from 0.31202 to 0.30638, saving model to exercise-03_sgd_lr-0,001.keras\n",
      "Epoch 17/50\n",
      "60000/60000 [==============================] - 2s 28us/step - loss: 0.3188 - accuracy: 0.9107 - val_loss: 0.3012 - val_accuracy: 0.9162\n",
      "\n",
      "Epoch 00017: val_loss improved from 0.30638 to 0.30124, saving model to exercise-03_sgd_lr-0,001.keras\n",
      "Epoch 18/50\n",
      "60000/60000 [==============================] - 2s 27us/step - loss: 0.3135 - accuracy: 0.9123 - val_loss: 0.2970 - val_accuracy: 0.9172\n",
      "\n",
      "Epoch 00018: val_loss improved from 0.30124 to 0.29702, saving model to exercise-03_sgd_lr-0,001.keras\n",
      "Epoch 19/50\n",
      "60000/60000 [==============================] - 2s 27us/step - loss: 0.3086 - accuracy: 0.9134 - val_loss: 0.2928 - val_accuracy: 0.9178\n",
      "\n",
      "Epoch 00019: val_loss improved from 0.29702 to 0.29281, saving model to exercise-03_sgd_lr-0,001.keras\n",
      "Epoch 20/50\n",
      "60000/60000 [==============================] - 2s 27us/step - loss: 0.3040 - accuracy: 0.9150 - val_loss: 0.2888 - val_accuracy: 0.9188\n",
      "\n",
      "Epoch 00020: val_loss improved from 0.29281 to 0.28876, saving model to exercise-03_sgd_lr-0,001.keras\n",
      "Epoch 21/50\n",
      "60000/60000 [==============================] - 2s 27us/step - loss: 0.2996 - accuracy: 0.9162 - val_loss: 0.2847 - val_accuracy: 0.9201\n",
      "\n",
      "Epoch 00021: val_loss improved from 0.28876 to 0.28468, saving model to exercise-03_sgd_lr-0,001.keras\n",
      "Epoch 22/50\n",
      "60000/60000 [==============================] - 2s 29us/step - loss: 0.2955 - accuracy: 0.9174 - val_loss: 0.2813 - val_accuracy: 0.9215\n",
      "\n",
      "Epoch 00022: val_loss improved from 0.28468 to 0.28126, saving model to exercise-03_sgd_lr-0,001.keras\n",
      "Epoch 23/50\n",
      "60000/60000 [==============================] - 2s 29us/step - loss: 0.2916 - accuracy: 0.9183 - val_loss: 0.2776 - val_accuracy: 0.9219\n",
      "\n",
      "Epoch 00023: val_loss improved from 0.28126 to 0.27755, saving model to exercise-03_sgd_lr-0,001.keras\n",
      "Epoch 24/50\n",
      "60000/60000 [==============================] - 2s 28us/step - loss: 0.2878 - accuracy: 0.9196 - val_loss: 0.2745 - val_accuracy: 0.9231\n",
      "\n",
      "Epoch 00024: val_loss improved from 0.27755 to 0.27453, saving model to exercise-03_sgd_lr-0,001.keras\n",
      "Epoch 25/50\n",
      "60000/60000 [==============================] - 2s 27us/step - loss: 0.2842 - accuracy: 0.9206 - val_loss: 0.2715 - val_accuracy: 0.9244\n",
      "\n",
      "Epoch 00025: val_loss improved from 0.27453 to 0.27154, saving model to exercise-03_sgd_lr-0,001.keras\n",
      "Epoch 26/50\n",
      "60000/60000 [==============================] - 2s 32us/step - loss: 0.2808 - accuracy: 0.9215 - val_loss: 0.2684 - val_accuracy: 0.9247\n",
      "\n",
      "Epoch 00026: val_loss improved from 0.27154 to 0.26843, saving model to exercise-03_sgd_lr-0,001.keras\n",
      "Epoch 27/50\n",
      "60000/60000 [==============================] - 2s 29us/step - loss: 0.2775 - accuracy: 0.9223 - val_loss: 0.2655 - val_accuracy: 0.9254\n",
      "\n",
      "Epoch 00027: val_loss improved from 0.26843 to 0.26549, saving model to exercise-03_sgd_lr-0,001.keras\n",
      "Epoch 28/50\n",
      "60000/60000 [==============================] - 2s 38us/step - loss: 0.2743 - accuracy: 0.9234 - val_loss: 0.2627 - val_accuracy: 0.9266\n",
      "\n",
      "Epoch 00028: val_loss improved from 0.26549 to 0.26266, saving model to exercise-03_sgd_lr-0,001.keras\n",
      "Epoch 29/50\n",
      "60000/60000 [==============================] - 2s 38us/step - loss: 0.2712 - accuracy: 0.9242 - val_loss: 0.2600 - val_accuracy: 0.9266\n",
      "\n",
      "Epoch 00029: val_loss improved from 0.26266 to 0.25997, saving model to exercise-03_sgd_lr-0,001.keras\n",
      "Epoch 30/50\n",
      "60000/60000 [==============================] - 2s 29us/step - loss: 0.2682 - accuracy: 0.9246 - val_loss: 0.2576 - val_accuracy: 0.9275\n",
      "\n",
      "Epoch 00030: val_loss improved from 0.25997 to 0.25762, saving model to exercise-03_sgd_lr-0,001.keras\n",
      "Epoch 31/50\n",
      "60000/60000 [==============================] - 2s 36us/step - loss: 0.2653 - accuracy: 0.9256 - val_loss: 0.2549 - val_accuracy: 0.9279\n",
      "\n",
      "Epoch 00031: val_loss improved from 0.25762 to 0.25492, saving model to exercise-03_sgd_lr-0,001.keras\n",
      "Epoch 32/50\n",
      "60000/60000 [==============================] - 2s 36us/step - loss: 0.2626 - accuracy: 0.9266 - val_loss: 0.2521 - val_accuracy: 0.9291\n",
      "\n",
      "Epoch 00032: val_loss improved from 0.25492 to 0.25214, saving model to exercise-03_sgd_lr-0,001.keras\n",
      "Epoch 33/50\n",
      "60000/60000 [==============================] - 2s 29us/step - loss: 0.2598 - accuracy: 0.9270 - val_loss: 0.2498 - val_accuracy: 0.9296\n",
      "\n",
      "Epoch 00033: val_loss improved from 0.25214 to 0.24985, saving model to exercise-03_sgd_lr-0,001.keras\n",
      "Epoch 34/50\n",
      "60000/60000 [==============================] - 2s 29us/step - loss: 0.2572 - accuracy: 0.9279 - val_loss: 0.2476 - val_accuracy: 0.9292\n",
      "\n",
      "Epoch 00034: val_loss improved from 0.24985 to 0.24759, saving model to exercise-03_sgd_lr-0,001.keras\n",
      "Epoch 35/50\n",
      "60000/60000 [==============================] - 2s 28us/step - loss: 0.2546 - accuracy: 0.9287 - val_loss: 0.2454 - val_accuracy: 0.9308\n",
      "\n",
      "Epoch 00035: val_loss improved from 0.24759 to 0.24542, saving model to exercise-03_sgd_lr-0,001.keras\n",
      "Epoch 36/50\n",
      "60000/60000 [==============================] - 2s 29us/step - loss: 0.2521 - accuracy: 0.9294 - val_loss: 0.2429 - val_accuracy: 0.9314\n",
      "\n",
      "Epoch 00036: val_loss improved from 0.24542 to 0.24295, saving model to exercise-03_sgd_lr-0,001.keras\n",
      "Epoch 37/50\n",
      "60000/60000 [==============================] - 2s 29us/step - loss: 0.2496 - accuracy: 0.9303 - val_loss: 0.2408 - val_accuracy: 0.9313\n",
      "\n",
      "Epoch 00037: val_loss improved from 0.24295 to 0.24082, saving model to exercise-03_sgd_lr-0,001.keras\n",
      "Epoch 38/50\n",
      "60000/60000 [==============================] - 2s 29us/step - loss: 0.2473 - accuracy: 0.9309 - val_loss: 0.2387 - val_accuracy: 0.9314\n",
      "\n",
      "Epoch 00038: val_loss improved from 0.24082 to 0.23875, saving model to exercise-03_sgd_lr-0,001.keras\n",
      "Epoch 39/50\n",
      "60000/60000 [==============================] - 2s 29us/step - loss: 0.2449 - accuracy: 0.9316 - val_loss: 0.2364 - val_accuracy: 0.9328\n",
      "\n",
      "Epoch 00039: val_loss improved from 0.23875 to 0.23637, saving model to exercise-03_sgd_lr-0,001.keras\n",
      "Epoch 40/50\n",
      "60000/60000 [==============================] - 2s 29us/step - loss: 0.2427 - accuracy: 0.9321 - val_loss: 0.2346 - val_accuracy: 0.9326\n",
      "\n",
      "Epoch 00040: val_loss improved from 0.23637 to 0.23461, saving model to exercise-03_sgd_lr-0,001.keras\n",
      "Epoch 41/50\n",
      "60000/60000 [==============================] - 2s 30us/step - loss: 0.2404 - accuracy: 0.9327 - val_loss: 0.2327 - val_accuracy: 0.9333\n",
      "\n",
      "Epoch 00041: val_loss improved from 0.23461 to 0.23273, saving model to exercise-03_sgd_lr-0,001.keras\n",
      "Epoch 42/50\n",
      "60000/60000 [==============================] - 2s 38us/step - loss: 0.2383 - accuracy: 0.9333 - val_loss: 0.2308 - val_accuracy: 0.9339\n",
      "\n",
      "Epoch 00042: val_loss improved from 0.23273 to 0.23079, saving model to exercise-03_sgd_lr-0,001.keras\n",
      "Epoch 43/50\n",
      "60000/60000 [==============================] - 2s 38us/step - loss: 0.2361 - accuracy: 0.9338 - val_loss: 0.2288 - val_accuracy: 0.9347\n",
      "\n",
      "Epoch 00043: val_loss improved from 0.23079 to 0.22885, saving model to exercise-03_sgd_lr-0,001.keras\n",
      "Epoch 44/50\n",
      "60000/60000 [==============================] - 2s 36us/step - loss: 0.2340 - accuracy: 0.9344 - val_loss: 0.2270 - val_accuracy: 0.9351\n",
      "\n",
      "Epoch 00044: val_loss improved from 0.22885 to 0.22703, saving model to exercise-03_sgd_lr-0,001.keras\n",
      "Epoch 45/50\n",
      "60000/60000 [==============================] - 2s 29us/step - loss: 0.2320 - accuracy: 0.9351 - val_loss: 0.2251 - val_accuracy: 0.9362\n",
      "\n",
      "Epoch 00045: val_loss improved from 0.22703 to 0.22505, saving model to exercise-03_sgd_lr-0,001.keras\n",
      "Epoch 46/50\n",
      "60000/60000 [==============================] - 2s 29us/step - loss: 0.2299 - accuracy: 0.9356 - val_loss: 0.2234 - val_accuracy: 0.9366\n",
      "\n",
      "Epoch 00046: val_loss improved from 0.22505 to 0.22345, saving model to exercise-03_sgd_lr-0,001.keras\n",
      "Epoch 47/50\n",
      "60000/60000 [==============================] - 2s 29us/step - loss: 0.2280 - accuracy: 0.9360 - val_loss: 0.2215 - val_accuracy: 0.9377\n",
      "\n",
      "Epoch 00047: val_loss improved from 0.22345 to 0.22151, saving model to exercise-03_sgd_lr-0,001.keras\n",
      "Epoch 48/50\n",
      "60000/60000 [==============================] - 2s 32us/step - loss: 0.2261 - accuracy: 0.9366 - val_loss: 0.2200 - val_accuracy: 0.9381\n",
      "\n",
      "Epoch 00048: val_loss improved from 0.22151 to 0.22000, saving model to exercise-03_sgd_lr-0,001.keras\n",
      "Epoch 49/50\n",
      "60000/60000 [==============================] - 2s 28us/step - loss: 0.2242 - accuracy: 0.9372 - val_loss: 0.2181 - val_accuracy: 0.9385\n",
      "\n",
      "Epoch 00049: val_loss improved from 0.22000 to 0.21806, saving model to exercise-03_sgd_lr-0,001.keras\n",
      "Epoch 50/50\n",
      "60000/60000 [==============================] - 2s 28us/step - loss: 0.2223 - accuracy: 0.9377 - val_loss: 0.2165 - val_accuracy: 0.9386\n",
      "\n",
      "Epoch 00050: val_loss improved from 0.21806 to 0.21651, saving model to exercise-03_sgd_lr-0,001.keras\n"
     ]
    },
    {
     "data": {
      "image/png": "[encoded data removed]",
      "text/plain": [
       "<Figure size 432x288 with 2 Axes>"
      ]
     },
     "metadata": {
      "needs_background": "light"
     },
     "output_type": "display_data"
    },
    {
     "data": {
      "image/png": "[encoded data removed]",
      "text/plain": [
       "<Figure size 432x288 with 2 Axes>"
      ]
     },
     "metadata": {
      "needs_background": "light"
     },
     "output_type": "display_data"
    },
    {
     "data": {
      "image/png": "[encoded data removed]",
      "text/plain": [
       "<Figure size 432x288 with 2 Axes>"
      ]
     },
     "metadata": {
      "needs_background": "light"
     },
     "output_type": "display_data"
    },
    {
     "data": {
      "image/png": "[encoded data removed]",
      "text/plain": [
       "<Figure size 432x288 with 2 Axes>"
      ]
     },
     "metadata": {
      "needs_background": "light"
     },
     "output_type": "display_data"
    }
   ],
   "source": [
    "for lr in [10**(-e) for e in range(0,4)]:\n",
    "    print(\"Optimizing model with SGD (lr: {0})\".format(lr))\n",
    "    model = return_new_model()\n",
    "    mc = ModelCheckpoint('exercise-03_sgd_lr-{0}.keras'.format(str(lr).replace('.',',')), monitor='val_loss', mode='min', save_best_only=True, verbose=1)\n",
    "    model.compile(optimizer=SGD(lr=lr), loss='categorical_crossentropy', metrics=[\"accuracy\"])\n",
    "    history = model.fit(x_mnist_train_reshaped, y_mnist_train_one_hot, validation_data=(x_mnist_test_reshaped, y_mnist_test_one_hot), epochs=50, verbose=1, callbacks=[mc])\n",
    "    histories.append(history)\n",
    "    plot_history(history, \"LR {0} @ MNIST\".format(lr));"
   ]
  },
  {
   "cell_type": "markdown",
   "metadata": {
    "id": "4GeMSlGk9yY9"
   },
   "source": [
    "#### Exercise 3.3"
   ]
  },
  {
   "cell_type": "markdown",
   "metadata": {
    "id": "6bGAOUY6GHtS"
   },
   "source": [
    "<font color='red'>model.compile doesn't reset the weights, call model.reset_states() first.</font>\n",
    "\n",
    "<font color='red'>We can use the default learning rate (0.01).</font>"
   ]
  },
  {
   "cell_type": "code",
   "execution_count": null,
   "metadata": {
    "id": "fcjQ1Ev89yY9",
    "outputId": "40475f62-f80f-4a07-8bc6-e3da6fea0f35"
   },
   "outputs": [],
   "source": [
    "model.reset_states()\n",
    "mc = ModelCheckpoint('exercise-03_adam_lr-0,001.keras', monitor='val_loss', mode='min', save_best_only=True, verbose=1)\n",
    "model.compile(optimizer=Adam(), loss='categorical_crossentropy', metrics=[\"accuracy\"])\n",
    "history_adam = model.fit(x_mnist_train_reshaped, y_mnist_train_one_hot, validation_data=(x_mnist_test_reshaped, y_mnist_test_one_hot), epochs=50, validation_split=0.2, verbose=1, callbacks=[mc])"
   ]
  },
  {
   "cell_type": "markdown",
   "metadata": {
    "id": "nBFm6PdYK1qO"
   },
   "source": [
    "<font color='red'>Be carefull, here lr is the one coming from SGD loop,. With \"chance\" it is the same than the one defined in the Adam.</font>"
   ]
  },
  {
   "cell_type": "code",
   "execution_count": null,
   "metadata": {
    "id": "ckp9qYAK9yY9",
    "outputId": "72f2d2e7-1bbd-4964-9e32-1d8d0eaf0716"
   },
   "outputs": [
    {
     "data": {
      "image/png": "[encoded data removed]",
      "text/plain": [
       "<Figure size 432x288 with 2 Axes>"
      ]
     },
     "metadata": {
      "needs_background": "light",
      "tags": []
     },
     "output_type": "display_data"
    }
   ],
   "source": [
    "histories.append(history_adam)\n",
    "plot_history(history, \"LR {0} @ MNIST\".format(lr));"
   ]
  },
  {
   "cell_type": "markdown",
   "metadata": {
    "id": "9wm6u5MK9yY-"
   },
   "source": [
    "#### Exercise 3.4"
   ]
  },
  {
   "cell_type": "code",
   "execution_count": null,
   "metadata": {
    "id": "QaYu9ub29yY-"
   },
   "outputs": [],
   "source": [
    "# This plotting routine might help you ...\n",
    "def comparison_plot(history_sgd, history_adam, label1, label2, title):\n",
    "    fig, ax1, ax2 = prepare_standardplot(title, \"epochs\")\n",
    "    ax1.plot(history_sgd.history['loss'], label=label1 + ' train')\n",
    "    ax1.plot(history_sgd.history['val_loss'], label=label1 + ' val')\n",
    "    ax1.plot(history_adam.history['loss'], label=label2 + ' train')\n",
    "    ax1.plot(history_adam.history['val_loss'], label=label2 + ' val')\n",
    "    ax2.plot(history_sgd.history['accuracy'], label=label1 + ' train')\n",
    "    ax2.plot(history_sgd.history['val_accuracy'], label=label1 + ' val')\n",
    "    ax2.plot(history_adam.history['accuracy'], label=label2 + ' train')\n",
    "    ax2.plot(history_adam.history['val_accuracy'], label=label2 + ' val')\n",
    "    finalize_standardplot(fig, ax1, ax2)\n",
    "    return fig"
   ]
  },
  {
   "cell_type": "code",
   "execution_count": null,
   "metadata": {
    "id": "ef4K-7EZ9yY_",
    "outputId": "c4be214a-388e-4296-db40-a2656607dbfd"
   },
   "outputs": [
    {
     "data": {
      "image/png": "[encoded data removed]",
      "text/plain": [
       "<Figure size 432x288 with 2 Axes>"
      ]
     },
     "metadata": {
      "needs_background": "light",
      "tags": []
     },
     "output_type": "display_data"
    }
   ],
   "source": [
    "history_sgd = histories[1]\n",
    "comparison_plot(history_sgd, history_adam, \"SGD (LR 0.1)\", \"Adam(LR 0.001)\", \"Optimizer Comparison\");"
   ]
  },
  {
   "cell_type": "markdown",
   "metadata": {
    "id": "PB_WuDgl9yY_"
   },
   "source": [
    "#### Exercise 3.5"
   ]
  },
  {
   "cell_type": "code",
   "execution_count": null,
   "metadata": {
    "colab": {
     "base_uri": "https://localhost:8080/",
     "height": 401
    },
    "id": "Wnu424Vd9yZA",
    "outputId": "5d62e51e-a8f2-4e25-e875-b13298d15f34",
    "tags": []
   },
   "outputs": [
    {
     "name": "stdout",
     "output_type": "stream",
     "text": [
      "exercise-03_sgd_lr-1.keras: err: 0.16162213314902038, acc: 0.9585999846458435\n",
      "exercise-03_sgd_lr-0,1.keras: err: 0.06499143537978526, acc: 0.9814000129699707\n",
      "exercise-03_sgd_lr-0,01.keras: err: 0.07618687209961936, acc: 0.9779999852180481\n",
      "exercise-03_sgd_lr-0,001.keras: err: 0.22292878603637217, acc: 0.9366999864578247\n",
      "exercise-03_sgd_lr-0,1.keras: err: 0.06499143537978526, acc: 0.9814000129699707\n"
     ]
    }
   ],
   "source": [
    "efrom keras.models import load_model\n",
    "for lr in [10**(-e) for e in range(0,4)]:  \n",
    "    model_name = \"exercise-03_sgd_lr-{0}.keras\".format(str(lr).replace('.',','))\n",
    "    model = load_model(model_name, compile=True)\n",
    "    err, acc = model.evaluate(x_mnist_test_reshaped, y_mnist_test_one_hot, verbose=0)\n",
    "    print(\"{name}: err: {err}, acc: {acc}\".format(name=model_name, err=err, acc=acc))\n",
    "    \n",
    "model_name = \"exercise-03_sgd_lr-0,1.keras\"\n",
    "model_sgd = load_model(model_name, compile=True)\n",
    "err, acc = model_sgd.evaluate(x_mnist_test_reshaped, y_mnist_test_one_hot, verbose=0)\n",
    "print(\"{name}: err: {err}, acc: {acc}\".format(name=model_name, err=err, acc=acc))"
   ]
  },
  {
   "cell_type": "code",
   "execution_count": null,
   "metadata": {
    "id": "vkvbFPGK9yZA",
    "outputId": "de20d722-0810-4c8d-e7a3-e75504caa959"
   },
   "outputs": [
    {
     "name": "stdout",
     "output_type": "stream",
     "text": [
      "exercise-03_adam_lr-0,001.keras: err: 0.22432469466775656, acc: 0.9388999938964844\n"
     ]
    }
   ],
   "source": [
    "model_name = \"exercise-03_adam_lr-0,001.keras\"\n",
    "model_adam = load_model(model_name, compile=True)\n",
    "err, acc = model_adam.evaluate(x_mnist_test_reshaped, y_mnist_test_one_hot, verbose=0)\n",
    "print(\"{name}: err: {err}, acc: {acc}\".format(name=model_name, err=err, acc=acc))"
   ]
  },
  {
   "cell_type": "markdown",
   "metadata": {
    "id": "tP0P6Toe9yZB"
   },
   "source": [
    "#### Exercise 3.6"
   ]
  },
  {
   "cell_type": "code",
   "execution_count": null,
   "metadata": {
    "id": "L-jIs4xV9yZC",
    "outputId": "21bd3e96-1b71-456c-b736-35e75deac8a2"
   },
   "outputs": [
    {
     "data": {
      "image/png": "[encoded data removed]",
      "text/plain": [
       "<Figure size 432x288 with 24 Axes>"
      ]
     },
     "metadata": {
      "needs_background": "light",
      "tags": []
     },
     "output_type": "display_data"
    },
    {
     "data": {
      "image/png": "[encoded data removed]",
      "text/plain": [
       "<Figure size 432x288 with 24 Axes>"
      ]
     },
     "metadata": {
      "needs_background": "light",
      "tags": []
     },
     "output_type": "display_data"
    }
   ],
   "source": [
    "models = [model_sgd, model_adam]\n",
    "for model in models:\n",
    "    y_pred = model.predict_on_batch(x_mnist_test_reshaped).argmax(axis=1)\n",
    "    indices = [i for i,v in enumerate(y_pred) if y_pred[i]!=y_mnist_test[i]]\n",
    "    x_wrongly_predicted = np.asarray([x_mnist_test[i] for i in indices])\n",
    "    y_wrongly_predicted = np.asarray([y_pred[i] for i in indices])\n",
    "    y_true_prediction = np.asarray([y_mnist_test[i] for i in indices])\n",
    "    plot_some_samples_cust(x_wrongly_predicted, y_true_prediction, y_wrongly_predicted, ncols=6, nrows=4);"
   ]
  },
  {
   "cell_type": "markdown",
   "metadata": {
    "id": "-b33M0ko9yZD"
   },
   "source": [
    "#### Exercise 3.7\n",
    "\n",
    "7. Take $ p = 0.2 $ fraction of the data points from the training dataset of MNIST and change their class labels randomly. (You can sample a random integer from 0 to 9 using `np.random.uniform` and `np.floor`). Train with Adam for 50 or 100 epochs. Plot the learning curves. Do you observe overfitting in the validation accuracy? Does it take longer to converge to perfect training accuracy compare to noise-free MNIST? (2 pts)<br/>\n",
    "\n",
    "<font color=red>\"max 2 sentences\"!</font>\n",
    "\n",
    "**=> The training accuracy is increasing, starting from 80% and reaching around 90% after 100 episodes. The validation accuracy on the other hand is decreasing from 95% to around 80% after 100 episodes. The model is definetly overfitting to the noise in the <strike>shifted</strike> <font color=red>noisy</font> MNIST dataset. It takes much longer to converge towards the perfect training accuracy on the noisy MNIST dataset.**"
   ]
  },
  {
   "cell_type": "code",
   "execution_count": null,
   "metadata": {
    "id": "0Zj54fsL9yZD"
   },
   "outputs": [],
   "source": [
    "def unison_shuffle(a, b):\n",
    "    assert len(a) == len(b)\n",
    "    p = np.random.permutation(len(a))\n",
    "    return a[p], b[p]\n",
    "\n",
    "# Calculate the number of samples that need to be replaced.\n",
    "length = int(np.floor(0.2 * len(y_mnist_train)))\n",
    "\n",
    "y_random = np.empty(0)\n",
    "for i in range(length):\n",
    "    y_random = np.append(y_random, np.floor(np.random.uniform(0,9.9)))\n",
    "\n",
    "# Replace the labels of the first n training samples with random lables.\n",
    "y_mnist_train[:length] = y_random\n",
    "\n",
    "# Shuffle the X and y data in order to spread the random labels equally over the dataset\n",
    "x_mnist_train_reshaped_shuffled, y_mnist_train_shuffled = unison_shuffle(x_mnist_fashion_train_reshaped, y_mnist_train)\n",
    "\n",
    "# One hot encoding\n",
    "y_mnist_train_shuffled_one_hot = to_categorical(y_mnist_train_shuffled)"
   ]
  },
  {
   "cell_type": "markdown",
   "metadata": {
    "id": "R8TuIb3-PyOK"
   },
   "source": [
    "<font color=red> You have to choose between model = return_new_model() or model.reset_states(), in both cases weights are initialized.</font>"
   ]
  },
  {
   "cell_type": "code",
   "execution_count": null,
   "metadata": {
    "id": "sKu3AwZcNlG4",
    "outputId": "acb43ad6-c800-498f-b1f7-7fad3d67ce3b"
   },
   "outputs": [
    {
     "name": "stdout",
     "output_type": "stream",
     "text": [
      "Train on 60000 samples, validate on 10000 samples\n",
      "Epoch 1/100\n",
      "60000/60000 [==============================] - 3s 45us/step - loss: 1.1180 - accuracy: 0.7530 - val_loss: 0.3937 - val_accuracy: 0.9518\n",
      "\n",
      "Epoch 00001: val_loss improved from inf to 0.39365, saving model to exercise-3,7.keras\n",
      "Epoch 2/100\n",
      "60000/60000 [==============================] - 3s 46us/step - loss: 1.0044 - accuracy: 0.7870 - val_loss: 0.3638 - val_accuracy: 0.9620\n",
      "\n",
      "Epoch 00002: val_loss improved from 0.39365 to 0.36382, saving model to exercise-3,7.keras\n",
      "Epoch 3/100\n",
      "60000/60000 [==============================] - 3s 52us/step - loss: 0.9661 - accuracy: 0.7934 - val_loss: 0.3322 - val_accuracy: 0.9649\n",
      "\n",
      "Epoch 00003: val_loss improved from 0.36382 to 0.33219, saving model to exercise-3,7.keras\n",
      "Epoch 4/100\n",
      "60000/60000 [==============================] - 3s 51us/step - loss: 0.9389 - accuracy: 0.7983 - val_loss: 0.3378 - val_accuracy: 0.9658\n",
      "\n",
      "Epoch 00004: val_loss did not improve from 0.33219\n",
      "Epoch 5/100\n",
      "60000/60000 [==============================] - 3s 44us/step - loss: 0.9182 - accuracy: 0.8013 - val_loss: 0.3061 - val_accuracy: 0.9681\n",
      "\n",
      "Epoch 00005: val_loss improved from 0.33219 to 0.30609, saving model to exercise-3,7.keras\n",
      "Epoch 6/100\n",
      "60000/60000 [==============================] - 3s 47us/step - loss: 0.8998 - accuracy: 0.8027 - val_loss: 0.2951 - val_accuracy: 0.9676\n",
      "\n",
      "Epoch 00006: val_loss improved from 0.30609 to 0.29512, saving model to exercise-3,7.keras\n",
      "Epoch 7/100\n",
      "60000/60000 [==============================] - 3s 48us/step - loss: 0.8816 - accuracy: 0.8048 - val_loss: 0.3061 - val_accuracy: 0.9673\n",
      "\n",
      "Epoch 00007: val_loss did not improve from 0.29512\n",
      "Epoch 8/100\n",
      "60000/60000 [==============================] - 3s 50us/step - loss: 0.8652 - accuracy: 0.8062 - val_loss: 0.3135 - val_accuracy: 0.9651\n",
      "\n",
      "Epoch 00008: val_loss did not improve from 0.29512\n",
      "Epoch 9/100\n",
      "60000/60000 [==============================] - 3s 51us/step - loss: 0.8491 - accuracy: 0.8069 - val_loss: 0.3226 - val_accuracy: 0.9661\n",
      "\n",
      "Epoch 00009: val_loss did not improve from 0.29512\n",
      "Epoch 10/100\n",
      "60000/60000 [==============================] - 3s 52us/step - loss: 0.8343 - accuracy: 0.8089 - val_loss: 0.3053 - val_accuracy: 0.9643\n",
      "\n",
      "Epoch 00010: val_loss did not improve from 0.29512\n",
      "Epoch 11/100\n",
      "60000/60000 [==============================] - 3s 50us/step - loss: 0.8219 - accuracy: 0.8092 - val_loss: 0.3157 - val_accuracy: 0.9641\n",
      "\n",
      "Epoch 00011: val_loss did not improve from 0.29512\n",
      "Epoch 12/100\n",
      "60000/60000 [==============================] - 3s 52us/step - loss: 0.8070 - accuracy: 0.8104 - val_loss: 0.3090 - val_accuracy: 0.9607\n",
      "\n",
      "Epoch 00012: val_loss did not improve from 0.29512\n",
      "Epoch 13/100\n",
      "60000/60000 [==============================] - 3s 51us/step - loss: 0.7930 - accuracy: 0.8120 - val_loss: 0.3135 - val_accuracy: 0.9585\n",
      "\n",
      "Epoch 00013: val_loss did not improve from 0.29512\n",
      "Epoch 14/100\n",
      "60000/60000 [==============================] - 3s 52us/step - loss: 0.7805 - accuracy: 0.8131 - val_loss: 0.3525 - val_accuracy: 0.9538\n",
      "\n",
      "Epoch 00014: val_loss did not improve from 0.29512\n",
      "Epoch 15/100\n",
      "60000/60000 [==============================] - 4s 64us/step - loss: 0.7686 - accuracy: 0.8136 - val_loss: 0.3394 - val_accuracy: 0.9505\n",
      "\n",
      "Epoch 00015: val_loss did not improve from 0.29512\n",
      "Epoch 16/100\n",
      "60000/60000 [==============================] - 3s 50us/step - loss: 0.7589 - accuracy: 0.8153 - val_loss: 0.3489 - val_accuracy: 0.9471\n",
      "\n",
      "Epoch 00016: val_loss did not improve from 0.29512\n",
      "Epoch 17/100\n",
      "60000/60000 [==============================] - 3s 50us/step - loss: 0.7477 - accuracy: 0.8162 - val_loss: 0.3333 - val_accuracy: 0.9466\n",
      "\n",
      "Epoch 00017: val_loss did not improve from 0.29512\n",
      "Epoch 18/100\n",
      "60000/60000 [==============================] - 3s 58us/step - loss: 0.7368 - accuracy: 0.8173 - val_loss: 0.3473 - val_accuracy: 0.9485\n",
      "\n",
      "Epoch 00018: val_loss did not improve from 0.29512\n",
      "Epoch 19/100\n",
      "60000/60000 [==============================] - 3s 54us/step - loss: 0.7264 - accuracy: 0.8191 - val_loss: 0.3594 - val_accuracy: 0.9424\n",
      "\n",
      "Epoch 00019: val_loss did not improve from 0.29512\n",
      "Epoch 20/100\n",
      "60000/60000 [==============================] - 3s 57us/step - loss: 0.7169 - accuracy: 0.8201 - val_loss: 0.3640 - val_accuracy: 0.9376\n",
      "\n",
      "Epoch 00020: val_loss did not improve from 0.29512\n",
      "Epoch 21/100\n",
      "60000/60000 [==============================] - 4s 58us/step - loss: 0.7065 - accuracy: 0.8219 - val_loss: 0.3350 - val_accuracy: 0.9381\n",
      "\n",
      "Epoch 00021: val_loss did not improve from 0.29512\n",
      "Epoch 22/100\n",
      "60000/60000 [==============================] - 4s 64us/step - loss: 0.6970 - accuracy: 0.8236 - val_loss: 0.3387 - val_accuracy: 0.9384\n",
      "\n",
      "Epoch 00022: val_loss did not improve from 0.29512\n",
      "Epoch 23/100\n",
      "60000/60000 [==============================] - 3s 50us/step - loss: 0.6885 - accuracy: 0.8239 - val_loss: 0.3407 - val_accuracy: 0.9337\n",
      "\n",
      "Epoch 00023: val_loss did not improve from 0.29512\n",
      "Epoch 24/100\n",
      "60000/60000 [==============================] - 3s 47us/step - loss: 0.6804 - accuracy: 0.8259 - val_loss: 0.3647 - val_accuracy: 0.9289\n",
      "\n",
      "Epoch 00024: val_loss did not improve from 0.29512\n",
      "Epoch 25/100\n",
      "60000/60000 [==============================] - 3s 49us/step - loss: 0.6707 - accuracy: 0.8266 - val_loss: 0.3637 - val_accuracy: 0.9273\n",
      "\n",
      "Epoch 00025: val_loss did not improve from 0.29512\n",
      "Epoch 26/100\n",
      "60000/60000 [==============================] - 3s 48us/step - loss: 0.6624 - accuracy: 0.8280 - val_loss: 0.3433 - val_accuracy: 0.9302\n",
      "\n",
      "Epoch 00026: val_loss did not improve from 0.29512\n",
      "Epoch 27/100\n",
      "60000/60000 [==============================] - 3s 48us/step - loss: 0.6554 - accuracy: 0.8291 - val_loss: 0.3540 - val_accuracy: 0.9277\n",
      "\n",
      "Epoch 00027: val_loss did not improve from 0.29512\n",
      "Epoch 28/100\n",
      "60000/60000 [==============================] - 3s 48us/step - loss: 0.6466 - accuracy: 0.8313 - val_loss: 0.3875 - val_accuracy: 0.9197\n",
      "\n",
      "Epoch 00028: val_loss did not improve from 0.29512\n",
      "Epoch 29/100\n",
      "60000/60000 [==============================] - 3s 49us/step - loss: 0.6378 - accuracy: 0.8315 - val_loss: 0.3552 - val_accuracy: 0.9258\n",
      "\n",
      "Epoch 00029: val_loss did not improve from 0.29512\n",
      "Epoch 30/100\n",
      "60000/60000 [==============================] - 3s 51us/step - loss: 0.6314 - accuracy: 0.8338 - val_loss: 0.3587 - val_accuracy: 0.9244\n",
      "\n",
      "Epoch 00030: val_loss did not improve from 0.29512\n",
      "Epoch 31/100\n",
      "60000/60000 [==============================] - 3s 49us/step - loss: 0.6250 - accuracy: 0.8341 - val_loss: 0.3607 - val_accuracy: 0.9218\n",
      "\n",
      "Epoch 00031: val_loss did not improve from 0.29512\n",
      "Epoch 32/100\n",
      "60000/60000 [==============================] - 3s 49us/step - loss: 0.6172 - accuracy: 0.8360 - val_loss: 0.3692 - val_accuracy: 0.9155\n",
      "\n",
      "Epoch 00032: val_loss did not improve from 0.29512\n",
      "Epoch 33/100\n",
      "60000/60000 [==============================] - 3s 50us/step - loss: 0.6094 - accuracy: 0.8378 - val_loss: 0.4070 - val_accuracy: 0.9071\n",
      "\n",
      "Epoch 00033: val_loss did not improve from 0.29512\n",
      "Epoch 34/100\n",
      "60000/60000 [==============================] - 3s 50us/step - loss: 0.6040 - accuracy: 0.8382 - val_loss: 0.3944 - val_accuracy: 0.9067\n",
      "\n",
      "Epoch 00034: val_loss did not improve from 0.29512\n",
      "Epoch 35/100\n",
      "60000/60000 [==============================] - 3s 51us/step - loss: 0.5959 - accuracy: 0.8395 - val_loss: 0.3935 - val_accuracy: 0.9086\n",
      "\n",
      "Epoch 00035: val_loss did not improve from 0.29512\n",
      "Epoch 36/100\n",
      "60000/60000 [==============================] - 3s 51us/step - loss: 0.5904 - accuracy: 0.8413 - val_loss: 0.3935 - val_accuracy: 0.9027\n",
      "\n",
      "Epoch 00036: val_loss did not improve from 0.29512\n",
      "Epoch 37/100\n",
      "60000/60000 [==============================] - 3s 53us/step - loss: 0.5830 - accuracy: 0.8434 - val_loss: 0.4033 - val_accuracy: 0.9031\n",
      "\n",
      "Epoch 00037: val_loss did not improve from 0.29512\n",
      "Epoch 38/100\n",
      "60000/60000 [==============================] - 3s 51us/step - loss: 0.5764 - accuracy: 0.8438 - val_loss: 0.4619 - val_accuracy: 0.8853\n",
      "\n",
      "Epoch 00038: val_loss did not improve from 0.29512\n",
      "Epoch 39/100\n",
      "60000/60000 [==============================] - 3s 51us/step - loss: 0.5709 - accuracy: 0.8459 - val_loss: 0.4027 - val_accuracy: 0.9041\n",
      "\n",
      "Epoch 00039: val_loss did not improve from 0.29512\n",
      "Epoch 40/100\n",
      "60000/60000 [==============================] - 3s 51us/step - loss: 0.5649 - accuracy: 0.8459 - val_loss: 0.4146 - val_accuracy: 0.8953\n",
      "\n",
      "Epoch 00040: val_loss did not improve from 0.29512\n",
      "Epoch 41/100\n",
      "60000/60000 [==============================] - 3s 55us/step - loss: 0.5578 - accuracy: 0.8467 - val_loss: 0.4432 - val_accuracy: 0.8860\n",
      "\n",
      "Epoch 00041: val_loss did not improve from 0.29512\n",
      "Epoch 42/100\n",
      "60000/60000 [==============================] - 3s 51us/step - loss: 0.5533 - accuracy: 0.8490 - val_loss: 0.4387 - val_accuracy: 0.8904\n",
      "\n",
      "Epoch 00042: val_loss did not improve from 0.29512\n",
      "Epoch 43/100\n",
      "60000/60000 [==============================] - 3s 52us/step - loss: 0.5481 - accuracy: 0.8493 - val_loss: 0.4519 - val_accuracy: 0.8864\n",
      "\n",
      "Epoch 00043: val_loss did not improve from 0.29512\n",
      "Epoch 44/100\n",
      "60000/60000 [==============================] - 3s 52us/step - loss: 0.5417 - accuracy: 0.8506 - val_loss: 0.4710 - val_accuracy: 0.8785\n",
      "\n",
      "Epoch 00044: val_loss did not improve from 0.29512\n",
      "Epoch 45/100\n",
      "60000/60000 [==============================] - 3s 52us/step - loss: 0.5364 - accuracy: 0.8527 - val_loss: 0.4211 - val_accuracy: 0.8921\n",
      "\n",
      "Epoch 00045: val_loss did not improve from 0.29512\n",
      "Epoch 46/100\n",
      "60000/60000 [==============================] - 3s 54us/step - loss: 0.5320 - accuracy: 0.8539 - val_loss: 0.4781 - val_accuracy: 0.8811\n",
      "\n",
      "Epoch 00046: val_loss did not improve from 0.29512\n",
      "Epoch 47/100\n",
      "60000/60000 [==============================] - 3s 51us/step - loss: 0.5263 - accuracy: 0.8536 - val_loss: 0.4336 - val_accuracy: 0.8902\n",
      "\n",
      "Epoch 00047: val_loss did not improve from 0.29512\n",
      "Epoch 48/100\n",
      "60000/60000 [==============================] - 3s 51us/step - loss: 0.5204 - accuracy: 0.8561 - val_loss: 0.4507 - val_accuracy: 0.8848\n",
      "\n",
      "Epoch 00048: val_loss did not improve from 0.29512\n",
      "Epoch 49/100\n",
      "60000/60000 [==============================] - 3s 52us/step - loss: 0.5157 - accuracy: 0.8573 - val_loss: 0.4762 - val_accuracy: 0.8757\n",
      "\n",
      "Epoch 00049: val_loss did not improve from 0.29512\n",
      "Epoch 50/100\n",
      "60000/60000 [==============================] - 3s 53us/step - loss: 0.5114 - accuracy: 0.8579 - val_loss: 0.5035 - val_accuracy: 0.8692\n",
      "\n",
      "Epoch 00050: val_loss did not improve from 0.29512\n",
      "Epoch 51/100\n",
      "60000/60000 [==============================] - 3s 54us/step - loss: 0.5046 - accuracy: 0.8593 - val_loss: 0.4490 - val_accuracy: 0.8823\n",
      "\n",
      "Epoch 00051: val_loss did not improve from 0.29512\n",
      "Epoch 52/100\n",
      "60000/60000 [==============================] - 3s 52us/step - loss: 0.5015 - accuracy: 0.8602 - val_loss: 0.4942 - val_accuracy: 0.8705\n",
      "\n",
      "Epoch 00052: val_loss did not improve from 0.29512\n",
      "Epoch 53/100\n",
      "60000/60000 [==============================] - 3s 52us/step - loss: 0.4971 - accuracy: 0.8609 - val_loss: 0.4827 - val_accuracy: 0.8750\n",
      "\n",
      "Epoch 00053: val_loss did not improve from 0.29512\n",
      "Epoch 54/100\n",
      "60000/60000 [==============================] - 3s 52us/step - loss: 0.4921 - accuracy: 0.8619 - val_loss: 0.5027 - val_accuracy: 0.8677\n",
      "\n",
      "Epoch 00054: val_loss did not improve from 0.29512\n",
      "Epoch 55/100\n",
      "60000/60000 [==============================] - 3s 52us/step - loss: 0.4866 - accuracy: 0.8625 - val_loss: 0.4952 - val_accuracy: 0.8726\n",
      "\n",
      "Epoch 00055: val_loss did not improve from 0.29512\n",
      "Epoch 56/100\n",
      "60000/60000 [==============================] - 3s 51us/step - loss: 0.4818 - accuracy: 0.8643 - val_loss: 0.5109 - val_accuracy: 0.8673\n",
      "\n",
      "Epoch 00056: val_loss did not improve from 0.29512\n",
      "Epoch 57/100\n",
      "60000/60000 [==============================] - 3s 52us/step - loss: 0.4780 - accuracy: 0.8663 - val_loss: 0.4912 - val_accuracy: 0.8716\n",
      "\n",
      "Epoch 00057: val_loss did not improve from 0.29512\n",
      "Epoch 58/100\n",
      "60000/60000 [==============================] - 3s 53us/step - loss: 0.4747 - accuracy: 0.8664 - val_loss: 0.4950 - val_accuracy: 0.8717\n",
      "\n",
      "Epoch 00058: val_loss did not improve from 0.29512\n",
      "Epoch 59/100\n",
      "60000/60000 [==============================] - 3s 51us/step - loss: 0.4697 - accuracy: 0.8658 - val_loss: 0.5175 - val_accuracy: 0.8663\n",
      "\n",
      "Epoch 00059: val_loss did not improve from 0.29512\n",
      "Epoch 60/100\n",
      "60000/60000 [==============================] - 3s 51us/step - loss: 0.4661 - accuracy: 0.8677 - val_loss: 0.5454 - val_accuracy: 0.8586\n",
      "\n",
      "Epoch 00060: val_loss did not improve from 0.29512\n",
      "Epoch 61/100\n",
      "60000/60000 [==============================] - 3s 54us/step - loss: 0.4614 - accuracy: 0.8689 - val_loss: 0.5341 - val_accuracy: 0.8635\n",
      "\n",
      "Epoch 00061: val_loss did not improve from 0.29512\n",
      "Epoch 62/100\n",
      "60000/60000 [==============================] - 3s 52us/step - loss: 0.4570 - accuracy: 0.8705 - val_loss: 0.5855 - val_accuracy: 0.8466\n",
      "\n",
      "Epoch 00062: val_loss did not improve from 0.29512\n",
      "Epoch 63/100\n",
      "60000/60000 [==============================] - 3s 52us/step - loss: 0.4542 - accuracy: 0.8708 - val_loss: 0.5434 - val_accuracy: 0.8587\n",
      "\n",
      "Epoch 00063: val_loss did not improve from 0.29512\n",
      "Epoch 64/100\n",
      "60000/60000 [==============================] - 3s 52us/step - loss: 0.4498 - accuracy: 0.8716 - val_loss: 0.5405 - val_accuracy: 0.8641\n",
      "\n",
      "Epoch 00064: val_loss did not improve from 0.29512\n",
      "Epoch 65/100\n",
      "60000/60000 [==============================] - 3s 52us/step - loss: 0.4465 - accuracy: 0.8720 - val_loss: 0.5658 - val_accuracy: 0.8511\n",
      "\n",
      "Epoch 00065: val_loss did not improve from 0.29512\n",
      "Epoch 66/100\n",
      "60000/60000 [==============================] - 3s 54us/step - loss: 0.4428 - accuracy: 0.8730 - val_loss: 0.5900 - val_accuracy: 0.8474\n",
      "\n",
      "Epoch 00066: val_loss did not improve from 0.29512\n",
      "Epoch 67/100\n",
      "60000/60000 [==============================] - 3s 52us/step - loss: 0.4389 - accuracy: 0.8736 - val_loss: 0.5876 - val_accuracy: 0.8510\n",
      "\n",
      "Epoch 00067: val_loss did not improve from 0.29512\n",
      "Epoch 68/100\n",
      "60000/60000 [==============================] - 3s 52us/step - loss: 0.4347 - accuracy: 0.8750 - val_loss: 0.5958 - val_accuracy: 0.8459\n",
      "\n",
      "Epoch 00068: val_loss did not improve from 0.29512\n",
      "Epoch 69/100\n",
      "60000/60000 [==============================] - 3s 52us/step - loss: 0.4310 - accuracy: 0.8767 - val_loss: 0.5833 - val_accuracy: 0.8504\n",
      "\n",
      "Epoch 00069: val_loss did not improve from 0.29512\n",
      "Epoch 70/100\n",
      "60000/60000 [==============================] - 3s 52us/step - loss: 0.4283 - accuracy: 0.8764 - val_loss: 0.5641 - val_accuracy: 0.8574\n",
      "\n",
      "Epoch 00070: val_loss did not improve from 0.29512\n",
      "Epoch 71/100\n",
      "60000/60000 [==============================] - 3s 54us/step - loss: 0.4237 - accuracy: 0.8780 - val_loss: 0.5862 - val_accuracy: 0.8495\n",
      "\n",
      "Epoch 00071: val_loss did not improve from 0.29512\n",
      "Epoch 72/100\n",
      "60000/60000 [==============================] - 3s 52us/step - loss: 0.4207 - accuracy: 0.8783 - val_loss: 0.5834 - val_accuracy: 0.8521\n",
      "\n",
      "Epoch 00072: val_loss did not improve from 0.29512\n",
      "Epoch 73/100\n",
      "60000/60000 [==============================] - 3s 51us/step - loss: 0.4174 - accuracy: 0.8788 - val_loss: 0.6083 - val_accuracy: 0.8439\n",
      "\n",
      "Epoch 00073: val_loss did not improve from 0.29512\n",
      "Epoch 74/100\n",
      "60000/60000 [==============================] - 3s 53us/step - loss: 0.4130 - accuracy: 0.8798 - val_loss: 0.6479 - val_accuracy: 0.8326\n",
      "\n",
      "Epoch 00074: val_loss did not improve from 0.29512\n",
      "Epoch 75/100\n",
      "60000/60000 [==============================] - 3s 52us/step - loss: 0.4098 - accuracy: 0.8809 - val_loss: 0.6607 - val_accuracy: 0.8307\n",
      "\n",
      "Epoch 00075: val_loss did not improve from 0.29512\n",
      "Epoch 76/100\n",
      "60000/60000 [==============================] - 3s 54us/step - loss: 0.4087 - accuracy: 0.8810 - val_loss: 0.6377 - val_accuracy: 0.8372\n",
      "\n",
      "Epoch 00076: val_loss did not improve from 0.29512\n",
      "Epoch 77/100\n",
      "60000/60000 [==============================] - 3s 52us/step - loss: 0.4035 - accuracy: 0.8832 - val_loss: 0.6073 - val_accuracy: 0.8444\n",
      "\n",
      "Epoch 00077: val_loss did not improve from 0.29512\n",
      "Epoch 78/100\n",
      "60000/60000 [==============================] - 3s 52us/step - loss: 0.4008 - accuracy: 0.8827 - val_loss: 0.6639 - val_accuracy: 0.8281\n",
      "\n",
      "Epoch 00078: val_loss did not improve from 0.29512\n",
      "Epoch 79/100\n",
      "60000/60000 [==============================] - 3s 53us/step - loss: 0.3980 - accuracy: 0.8844 - val_loss: 0.6793 - val_accuracy: 0.8267\n",
      "\n",
      "Epoch 00079: val_loss did not improve from 0.29512\n",
      "Epoch 80/100\n",
      "60000/60000 [==============================] - 3s 52us/step - loss: 0.3957 - accuracy: 0.8851 - val_loss: 0.6566 - val_accuracy: 0.8353\n",
      "\n",
      "Epoch 00080: val_loss did not improve from 0.29512\n",
      "Epoch 81/100\n",
      "60000/60000 [==============================] - 3s 53us/step - loss: 0.3903 - accuracy: 0.8858 - val_loss: 0.6789 - val_accuracy: 0.8309\n",
      "\n",
      "Epoch 00081: val_loss did not improve from 0.29512\n",
      "Epoch 82/100\n",
      "60000/60000 [==============================] - 3s 52us/step - loss: 0.3886 - accuracy: 0.8863 - val_loss: 0.6837 - val_accuracy: 0.8313\n",
      "\n",
      "Epoch 00082: val_loss did not improve from 0.29512\n",
      "Epoch 83/100\n",
      "60000/60000 [==============================] - 4s 62us/step - loss: 0.3858 - accuracy: 0.8866 - val_loss: 0.6447 - val_accuracy: 0.8424\n",
      "\n",
      "Epoch 00083: val_loss did not improve from 0.29512\n",
      "Epoch 84/100\n",
      "60000/60000 [==============================] - 4s 67us/step - loss: 0.3834 - accuracy: 0.8878 - val_loss: 0.7094 - val_accuracy: 0.8200\n",
      "\n",
      "Epoch 00084: val_loss did not improve from 0.29512\n",
      "Epoch 85/100\n",
      "60000/60000 [==============================] - 3s 50us/step - loss: 0.3803 - accuracy: 0.8893 - val_loss: 0.7042 - val_accuracy: 0.8238\n",
      "\n",
      "Epoch 00085: val_loss did not improve from 0.29512\n",
      "Epoch 86/100\n",
      "60000/60000 [==============================] - 3s 53us/step - loss: 0.3763 - accuracy: 0.8894 - val_loss: 0.6899 - val_accuracy: 0.8311\n",
      "\n",
      "Epoch 00086: val_loss did not improve from 0.29512\n",
      "Epoch 87/100\n",
      "60000/60000 [==============================] - 3s 56us/step - loss: 0.3734 - accuracy: 0.8903 - val_loss: 0.7393 - val_accuracy: 0.8144\n",
      "\n",
      "Epoch 00087: val_loss did not improve from 0.29512\n",
      "Epoch 88/100\n",
      "60000/60000 [==============================] - 3s 58us/step - loss: 0.3722 - accuracy: 0.8910 - val_loss: 0.7382 - val_accuracy: 0.8188\n",
      "\n",
      "Epoch 00088: val_loss did not improve from 0.29512\n",
      "Epoch 89/100\n",
      "60000/60000 [==============================] - 3s 54us/step - loss: 0.3694 - accuracy: 0.8917 - val_loss: 0.7481 - val_accuracy: 0.8147\n",
      "\n",
      "Epoch 00089: val_loss did not improve from 0.29512\n",
      "Epoch 90/100\n",
      "60000/60000 [==============================] - 3s 57us/step - loss: 0.3678 - accuracy: 0.8914 - val_loss: 0.7352 - val_accuracy: 0.8224\n",
      "\n",
      "Epoch 00090: val_loss did not improve from 0.29512\n",
      "Epoch 91/100\n",
      "60000/60000 [==============================] - 3s 58us/step - loss: 0.3622 - accuracy: 0.8938 - val_loss: 0.7618 - val_accuracy: 0.8177\n",
      "\n",
      "Epoch 00091: val_loss did not improve from 0.29512\n",
      "Epoch 92/100\n",
      "60000/60000 [==============================] - 3s 49us/step - loss: 0.3617 - accuracy: 0.8931 - val_loss: 0.7620 - val_accuracy: 0.8152\n",
      "\n",
      "Epoch 00092: val_loss did not improve from 0.29512\n",
      "Epoch 93/100\n",
      "60000/60000 [==============================] - 3s 48us/step - loss: 0.3592 - accuracy: 0.8944 - val_loss: 0.7679 - val_accuracy: 0.8123\n",
      "\n",
      "Epoch 00093: val_loss did not improve from 0.29512\n",
      "Epoch 94/100\n",
      "60000/60000 [==============================] - 3s 49us/step - loss: 0.3555 - accuracy: 0.8955 - val_loss: 0.7233 - val_accuracy: 0.8273\n",
      "\n",
      "Epoch 00094: val_loss did not improve from 0.29512\n",
      "Epoch 95/100\n",
      "60000/60000 [==============================] - 3s 54us/step - loss: 0.3556 - accuracy: 0.8946 - val_loss: 0.7694 - val_accuracy: 0.8206\n",
      "\n",
      "Epoch 00095: val_loss did not improve from 0.29512\n",
      "Epoch 96/100\n",
      "60000/60000 [==============================] - 3s 56us/step - loss: 0.3513 - accuracy: 0.8960 - val_loss: 0.7625 - val_accuracy: 0.8234\n",
      "\n",
      "Epoch 00096: val_loss did not improve from 0.29512\n",
      "Epoch 97/100\n",
      "60000/60000 [==============================] - 3s 57us/step - loss: 0.3481 - accuracy: 0.8970 - val_loss: 0.7815 - val_accuracy: 0.8167\n",
      "\n",
      "Epoch 00097: val_loss did not improve from 0.29512\n",
      "Epoch 98/100\n",
      "60000/60000 [==============================] - 3s 51us/step - loss: 0.3460 - accuracy: 0.8968 - val_loss: 0.8202 - val_accuracy: 0.8060\n",
      "\n",
      "Epoch 00098: val_loss did not improve from 0.29512\n",
      "Epoch 99/100\n",
      "60000/60000 [==============================] - 3s 55us/step - loss: 0.3423 - accuracy: 0.8982 - val_loss: 0.7901 - val_accuracy: 0.8190\n",
      "\n",
      "Epoch 00099: val_loss did not improve from 0.29512\n",
      "Epoch 100/100\n",
      "60000/60000 [==============================] - 3s 50us/step - loss: 0.3442 - accuracy: 0.8972 - val_loss: 0.8042 - val_accuracy: 0.8080\n",
      "\n",
      "Epoch 00100: val_loss did not improve from 0.29512\n"
     ]
    }
   ],
   "source": [
    "model = return_new_model()\n",
    "model.reset_states()\n",
    "mc = ModelCheckpoint('exercise-3,7.keras', monitor='val_loss', mode='min', save_best_only=True, verbose=1)\n",
    "model.compile(optimizer=Adam(), loss='categorical_crossentropy', metrics=[\"accuracy\"])\n",
    "history_adam = model.fit(x_mnist_train_reshaped_shuffled, y_mnist_train_shuffled_one_hot, validation_data=(x_mnist_test_reshaped, y_mnist_test_one_hot), epochs=100, validation_split=0.2, verbose=1, callbacks=[mc])"
   ]
  },
  {
   "cell_type": "markdown",
   "metadata": {
    "id": "GZYqZQahRGlf"
   },
   "source": [
    "<font color=red>The word \"noisy\" seems more appropriate than \"permutated\".</font>\n",
    "\n",
    "<font color=red>A comparison plot with the initial case could be made (using same lr).</font>"
   ]
  },
  {
   "cell_type": "code",
   "execution_count": null,
   "metadata": {
    "id": "b7pyapa_NlG5",
    "outputId": "24659cf5-b969-4f8c-cf8a-fb2415e5bf33"
   },
   "outputs": [
    {
     "data": {
      "image/png": "[encoded data removed]",
      "text/plain": [
       "<Figure size 432x288 with 2 Axes>"
      ]
     },
     "metadata": {
      "needs_background": "light",
      "tags": []
     },
     "output_type": "display_data"
    }
   ],
   "source": [
    "plot_history(history_adam, \"Adam with LR 0.001 @ Permutated MNIST Dataset\");"
   ]
  },
  {
   "cell_type": "markdown",
   "metadata": {
    "id": "oENMCYod9yZD"
   },
   "source": [
    "## Exercise 4: Model performance as a function of number of hidden neurons (8 + 2 points)\n",
    "\n",
    "Since the MNIST dataset is almost perfectly solved already by a one-hidden-layer network in Exercise 3, we use the Fashion-MNIST dataset from now on to compare the performances of more complex models. In this exercise, we investigate how the best validation loss and accuracy depends on the number of hidden neurons in a single layer.\n",
    "\n",
    "1. Fit at least 4 models with different number of hidden neurons (i.e. width) between 10 and 1000 to the Fashion-MNIST dataset. Train with Adam for 50-100 epochs. (2 pts)\n",
    "2. Plot the best validation loss and accuracy versus the width. Is the observed trend in accordance with the [general approximation theorem](https://en.wikipedia.org/wiki/Universal_approximation_theorem)? Do you observe an overfitting due to the complexity of the wider networks with more parameters? Report the best validation accuracy. (2 pts)\n",
    "3. Choose $ p \\geq 0.5 $ fraction of the data points from the training dataset of Fashion-MNIST and change their class labels randomly as in Exercise 3. For this noisy Fashion-MNIST dataset, fit at least 4 models with different widths between 10 and 250. Train with Adam for at least 150 epochs. Plot the best validation loss and accuracy vs. width. (2 pts)\n",
    "4. BONUS: Add random Gaussian noise on the input pixels with mean 0 and variance between 0.01-0.5 and use the original labels. For this noisy Fashion-MNIST dataset, fit at least 4 models with different widths between 10 and 250. Train with Adam for at least 150 epochs. Plot the best validation loss and accuracy vs. width. (2 pts)\n",
    "5. Answer to the same questions in 2 for the noisy Fashion-MNIST dataset(s). Comment on the differences between width-performence curves for these two (or three) datasets. (2 pts)\n",
    "\n",
    "In this exercise we fit each model only for one initialization and random seed. In practice one would collect some statistics (e.g. 25-, 50-, 75-percentiles) for each layer size by fitting each model several times with different initializations and the random seeds. You may also want to do this here. It is a good exercise, but not mandatory as it takes quite a bit of computation time."
   ]
  },
  {
   "cell_type": "markdown",
   "metadata": {
    "id": "DcWkSkaj9yZE"
   },
   "source": [
    "**Answer to Question 2** (max 2 sentences): \n",
    "\n",
    "**Answer to Question 5** (max 3 sentences): "
   ]
  },
  {
   "cell_type": "markdown",
   "metadata": {
    "id": "NqK_mkEu9yZE"
   },
   "source": [
    "### Solution"
   ]
  },
  {
   "cell_type": "code",
   "execution_count": null,
   "metadata": {
    "id": "QzZnBC3L9yZE",
    "outputId": "2d6b06ac-ee97-49f5-dc85-433e438123b6"
   },
   "outputs": [],
   "source": [
    "def return_model_with_n_hidden_neurons(n_hidden_neurons):\n",
    "    # Get number of columns in training data\n",
    "    inputs = Input(shape=(INPUT_DIM,), name=\"input_layer\")\n",
    "    layer = Dense(n_hidden_neurons, activation='relu', name=\"hidden_layer\")(inputs)\n",
    "    outputs = Dense(10, activation='softmax', name=\"output_layer\")(layer)\n",
    "\n",
    "    model = Model(inputs=inputs, outputs=outputs, name=\"ex3.1\")\n",
    "    return model\n",
    "\n",
    "#model = return_new_model()\n",
    "#model.summary()\n",
    "min_val_loss=[]\n",
    "max_val_accuracy=[]\n",
    "min_loss=[]\n",
    "max_accuracy=[]\n",
    "set_of_networks = [10, 50, 100, 500, 1000]\n",
    "for n_hidden_neurons in set_of_networks:\n",
    "    model = return_model_with_n_hidden_neurons(n_hidden_neurons)\n",
    "    mc = ModelCheckpoint('exercise-4.1_{0}-hidden-neurons.keras'.format(n_hidden_neurons), monitor='val_loss', mode='min', save_best_only=True, verbose=1)\n",
    "    model.compile(optimizer=Adam(), loss='categorical_crossentropy', metrics=[\"accuracy\"])\n",
    "    history_adam = model.fit(x_mnist_fashion_train_reshaped, y_mnist_fashion_train_one_hot, validation_data=(x_mnist_fashion_test_reshaped, y_mnist_fashion_test_one_hot), epochs=50, validation_split=0.2, verbose=1, callbacks=[mc])\n",
    "    print(history_adam.history)\n",
    "    min_val_loss.append(min(history_adam.history[\"val_loss\"]))\n",
    "    max_val_accuracy.append(max(history_adam.history[\"val_accuracy\"]))\n",
    "    min_loss.append(min(history_adam.history[\"loss\"]))\n",
    "    max_accuracy.append(max(history_adam.history[\"accuracy\"]))\n",
    "    plot_history(history_adam, \"{} Hidden Neurons\".format(n_hidden_neurons));\n",
    "    \n",
    "print(min_val_loss)\n",
    "print(max_val_accuracy)"
   ]
  },
  {
   "cell_type": "code",
   "execution_count": null,
   "metadata": {
    "id": "Ibe6iar4NlG7",
    "outputId": "ae8036fa-3c4c-4518-8fe0-54e75f4d8bf0"
   },
   "outputs": [],
   "source": [
    "fig, (ax1, ax2) = plt.subplots(1, 2)\n",
    "fig.suptitle('Validation loss and accuracy / Number of hidden neurons')\n",
    "fig.subplots_adjust(left=None, bottom=None, right=None, top=None, wspace=0.3, hspace=None)\n",
    "fig.set_figheight(6)\n",
    "fig.set_figwidth(12)\n",
    "ax1.set_xscale('log',base=10)\n",
    "ax1.set_ylabel(\"Validation loss\")\n",
    "ax1.set_xlabel(\"number of hidden neurons\")\n",
    "ax1.plot(set_of_networks, min_val_loss)\n",
    "ax2.set_xscale('log',base=10)\n",
    "ax2.set_ylabel(\"Validation accuracy\")\n",
    "ax2.set_xlabel(\"number of hidden neurons\")\n",
    "ax2.plot(set_of_networks, max_accuracy);\n",
    "for i in range(len(set_of_networks)):\n",
    "    print(\"Number of hidden neurons {0} => Max validation accuracy {1}\".format(set_of_networks[i], max_val_accuracy[i]))"
   ]
  },
  {
   "cell_type": "markdown",
   "metadata": {
    "id": "MxS_5Ogd9yZE"
   },
   "source": [
    "## Exercise 5: Going deeper: tricks and regularization (10 + 2 points)\n",
    "\n",
    "Adding hidden layers to a deep network does not necessarily lead to a straight-forward improvement of performance. We use Fashion-MNIST dataset in this exercise.  \n",
    "\n",
    "1. Choose a width $ h $ between 50-200 and use at least two hidden layers with $ h $ hidden neurons (each) and train the network for at least 150 epochs. (2 pts)\n",
    "2. Plot the learning curves and report the best validation accuracy. Do you observe overfitting? (2 pts)\n",
    "3. Keep the network at the same size. Use a very large l2 regularization $\\lambda$ (for ex. $\\lambda=1$) and a small one (for ex. $\\lambda=0.001$) on kernel weights and report the validation accuracies. What do you observe?  (2 pts)\n",
    "4. Turn off the $ \\ell_2 $ regularization and use a large dropout rate (for ex. 0.5) and a small one (for ex. 0.05) at all hidden layers and report the validation accuracies. What do you observe? (2 pts)\n",
    "5. BONUS: Try built-in data augmentation methods as a way to regularize: this may include horizontal flipping of the images or small rotations. You can use built-in methods in Keras. Report the augmentation method you used and the best validation accuracy. (2 pts)\n",
    "\n",
    "Note that one needs to cross-validate to find the right regularization parameter for the model you chose and for the dataset at hand. However we do not enforce this hyperparameter search as it takes long computation times but it is a good practice if you try it here. \n",
    "\n",
    "6. Compare the validation accuracies resulting from your attempts to reduce overfitting. Did you improve the validation accuracy? If not, comment on the possible sources of failure. (2 pts)"
   ]
  },
  {
   "cell_type": "markdown",
   "metadata": {
    "id": "F5ip5k5q9yZF"
   },
   "source": [
    "**Answer to Question 2** (max 1 sentence):   \n",
    "\n",
    "**Answer to Question 3** (max 2 sentences): \n",
    "\n",
    "**Answer to Question 4** (max 2 sentences): \n",
    "\n",
    "**Answer to Question 5 (BONUS)** (max 2 sentences): \n",
    "\n",
    "**Answer to Question 6** (max 2 sentences): "
   ]
  },
  {
   "cell_type": "markdown",
   "metadata": {
    "id": "yVYoNkur9yZF"
   },
   "source": [
    "### Solution"
   ]
  },
  {
   "cell_type": "code",
   "execution_count": null,
   "metadata": {
    "id": "9URafars9yZF"
   },
   "outputs": [],
   "source": []
  },
  {
   "cell_type": "markdown",
   "metadata": {
    "id": "aForXFCv9yZF"
   },
   "source": [
    "## Exercise 6: Convolutional neural networks (CNNs) (10 points)\n",
    "\n",
    "Convolutional neural networks have an inductive bias that is well adapted to image classification. \n",
    "\n",
    "1. Design a convolutional neural network and train it without using explicit regularizers. (2 pts)\n",
    "2. Try to improve the best validation scores of the model by experiment with batch_normalization layers, dropout layers and l2-regularization on weights (kernels) and biases. (4 pts)\n",
    "3. After you have found good settings, plot the learning curves for both models, naive (=no tricks/regularization) and tuned (=tricks + regularized) together in a comparison plot. (2pts)\n",
    "4. How does the CNN performance compare to the so far best performing (deep) neural network model? (2 pts)\n",
    "\n",
    "*Hint:* You may get valuable inspiration from the keras [examples](https://keras.io/examples/), [for example](https://keras.io/examples/vision/mnist_convnet/)."
   ]
  },
  {
   "cell_type": "markdown",
   "metadata": {
    "id": "kJFbiEKC9yZG"
   },
   "source": [
    "**Answer to Question 4**: "
   ]
  },
  {
   "cell_type": "markdown",
   "metadata": {
    "id": "v1R5a0-V9yZG"
   },
   "source": [
    "### Solution"
   ]
  },
  {
   "cell_type": "code",
   "execution_count": null,
   "metadata": {
    "ExecuteTime": {
     "end_time": "2018-02-23T16:05:21.840299Z",
     "start_time": "2018-02-23T15:51:11.993053Z"
    },
    "id": "tx4FT7fe9yZG"
   },
   "outputs": [],
   "source": []
  }
 ],
 "metadata": {
  "colab": {
   "name": "miniproject2_Jan.ipynb",
   "provenance": []
  },
  "kernelspec": {
   "display_name": "Python 3",
   "language": "python",
   "name": "python3"
  },
  "language_info": {
   "codemirror_mode": {
    "name": "ipython",
    "version": 3
   },
   "file_extension": ".py",
   "mimetype": "text/x-python",
   "name": "python",
   "nbconvert_exporter": "python",
   "pygments_lexer": "ipython3",
   "version": "3.7.10"
  }
 },
 "nbformat": 4,
 "nbformat_minor": 4
}
