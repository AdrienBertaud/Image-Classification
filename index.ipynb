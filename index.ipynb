{
  "nbformat": 4,
  "nbformat_minor": 0,
  "metadata": {
    "colab": {
      "name": "index.ipynb",
      "provenance": [],
      "collapsed_sections": [],
      "toc_visible": true
    },
    "kernelspec": {
      "name": "python3",
      "display_name": "Python 3"
    },
    "accelerator": "GPU",
    "language_info": {
      "name": "python"
    }
  },
  "cells": [
    {
      "cell_type": "markdown",
      "metadata": {
        "id": "BnAEU9iKUmFl"
      },
      "source": [
        "# Miniproject: Image Classification\n",
        "\n",
        "### Description\n",
        "\n",
        "One of the oldest traditions in deep learning is to first tackle the fun problem of MNIST classification. [The MNIST dataset](https://en.wikipedia.org/wiki/MNIST_database) is a large database of handwritten digits that is commonly used as a first test for new classification algorithms. \n",
        "We follow this tradition to investigate the performance of artificial neural networks of different complexity on MNIST. However, since MNIST is too easy for accessing the full power of modern machine learning algorithms (see e.g. [this post](https://twitter.com/goodfellow_ian/status/852591106655043584)) we will extend our analysis to the recently introduced, harder [Fashion-MNIST dataset](https://github.com/zalandoresearch/fashion-mnist).\n",
        "\n",
        "### Prerequisites\n",
        "\n",
        "- You should have a running installation of [tensorflow](https://www.tensorflow.org/install/) and [keras](https://keras.io/). Feel free to gain inspiration from the [Keras example directory](https://keras.io/examples/) for your implementations.\n",
        "- You should know the concepts \"multilayer perceptron\", \"stochastic gradient descent with minibatches\", \"Adam\", \"convolutional neural network\", \"training and validation data\", \"overfitting\", \"regularization\", and \"early stopping\".\n",
        "\n",
        "### What you will learn\n",
        "\n",
        "- You will learn how to define feedforward neural networks in keras and fit them to data (i.e. training).\n",
        "- You will be guided through a prototyping procedure for the application of deep learning to a specific domain.\n",
        "- You will gain some experience on the influence of network architecture, optimizer and regularization choices on the goodness of fit.\n",
        "- You will learn to be more patient :) Some fits may take your computer quite a bit of time; run them over night (or on an external server).\n",
        "\n",
        "### Evaluation criteria\n",
        "\n",
        "The evaluation is (mostly) based on the figures you submit and your answer sentences. Provide clear and concise answers respecting the indicated maximum length.\n",
        "\n",
        "**The submitted notebook must be run by you!** We will only do random tests of your code and not re-run the full notebook. There will be fraud detection sessions at the end of the semester.\n",
        "\n",
        "### Your names\n",
        "\n",
        "**Before you start**: please enter your full name(s) in the field below."
      ]
    },
    {
      "cell_type": "code",
      "metadata": {
        "id": "bVa5G9-6UmFv"
      },
      "source": [
        "student1 = \"Jan Bauer (18-764-571)\"\n",
        "student2 = \"Adrien Bertaud (Sciper 324795)\""
      ],
      "execution_count": 1,
      "outputs": []
    },
    {
      "cell_type": "markdown",
      "metadata": {
        "id": "8ZLXwbYkUmFy"
      },
      "source": [
        "## Some helper functions\n",
        "\n",
        "For your convenience we provide here some functions to preprocess the data and plot the results later. Simply run the following cells with `Shift-Enter`.\n",
        "\n",
        "### Dependencies and constants"
      ]
    },
    {
      "cell_type": "code",
      "metadata": {
        "id": "Dv8vWb13WnYE",
        "outputId": "4aca1c64-3a86-4eb8-e6c6-1a9ea6567145",
        "colab": {
          "base_uri": "https://localhost:8080/"
        }
      },
      "source": [
        "%tensorflow_version 2.4.1"
      ],
      "execution_count": 2,
      "outputs": [
        {
          "output_type": "stream",
          "text": [
            "`%tensorflow_version` only switches the major version: 1.x or 2.x.\n",
            "You set: `2.4.1`. This will be interpreted as: `2.x`.\n",
            "\n",
            "\n",
            "TensorFlow 2.x selected.\n"
          ],
          "name": "stdout"
        }
      ]
    },
    {
      "cell_type": "code",
      "metadata": {
        "id": "a_-AKt04UmFz"
      },
      "source": [
        "%matplotlib inline\n",
        "\n",
        "import os\n",
        "\n",
        "import numpy as np\n",
        "from numpy.random import normal, choice\n",
        "\n",
        "import time\n",
        "import matplotlib.pyplot as plt\n",
        "import scipy.io\n",
        "\n",
        "#import tensorflow and keras\n",
        "import tensorflow as tf\n",
        "import keras\n",
        "import keras.utils\n",
        "from keras import backend as K\n",
        "from keras import Model\n",
        "from keras.models import Sequential, load_model\n",
        "from keras.layers import Dense, Conv2D, MaxPooling2D, Dropout, Flatten, BatchNormalization, Input\n",
        "from keras.optimizers import SGD, Adam\n",
        "from keras import regularizers\n",
        "from keras.callbacks import EarlyStopping, ModelCheckpoint, History\n",
        "from keras.preprocessing.image import ImageDataGenerator "
      ],
      "execution_count": 4,
      "outputs": []
    },
    {
      "cell_type": "code",
      "metadata": {
        "id": "uByPWuGHUOb2",
        "colab": {
          "base_uri": "https://localhost:8080/"
        },
        "outputId": "f0f140a4-e7c7-43f0-8a4d-238e8272c4ef"
      },
      "source": [
        "print(\"Running tensorflow version: {0}\".format(tf.__version__))\n",
        "print(\"Running keras version: {0}\".format(keras.__version__))"
      ],
      "execution_count": 5,
      "outputs": [
        {
          "output_type": "stream",
          "text": [
            "Running tensorflow version: 2.5.0\n",
            "Running keras version: 2.5.0\n"
          ],
          "name": "stdout"
        }
      ]
    },
    {
      "cell_type": "code",
      "metadata": {
        "id": "eurfmdgSQtLr",
        "colab": {
          "base_uri": "https://localhost:8080/"
        },
        "outputId": "475def4b-26f4-41c8-b213-927b199992c9"
      },
      "source": [
        "# Ensure a GPU is on the list\n",
        "tf.config.list_physical_devices()"
      ],
      "execution_count": 6,
      "outputs": [
        {
          "output_type": "execute_result",
          "data": {
            "text/plain": [
              "[PhysicalDevice(name='/physical_device:CPU:0', device_type='CPU'),\n",
              " PhysicalDevice(name='/physical_device:GPU:0', device_type='GPU')]"
            ]
          },
          "metadata": {
            "tags": []
          },
          "execution_count": 6
        }
      ]
    },
    {
      "cell_type": "markdown",
      "metadata": {
        "id": "6-U_Ag8QUmFz"
      },
      "source": [
        "### Plotting"
      ]
    },
    {
      "cell_type": "code",
      "metadata": {
        "id": "d2V7in4BUmF0"
      },
      "source": [
        "def plot_some_samples(x, y = [], yhat = [], select_from = [], \n",
        "                      ncols = 6, nrows = 4, xdim = 28, ydim = 28,\n",
        "                      label_mapping = range(10)):\n",
        "    \"\"\"plot some input vectors as grayscale images (optionally together with their assigned or predicted labels).\n",
        "    \n",
        "    x is an NxD - dimensional array, where D is the length of an input vector and N is the number of samples.\n",
        "    Out of the N samples, ncols x nrows indices are randomly selected from the list select_from (if it is empty, select_from becomes range(N)).\n",
        "    \"\"\"\n",
        "    fig, ax = plt.subplots(nrows, ncols)\n",
        "    if len(select_from) == 0:\n",
        "        select_from = range(x.shape[0])\n",
        "    indices = choice(select_from, size = min(ncols * nrows, len(select_from)), replace = False)\n",
        "    for i, ind in enumerate(indices):\n",
        "        thisax = ax[i//ncols,i%ncols]\n",
        "        thisax.matshow(x[ind].reshape(xdim, ydim), cmap='gray')\n",
        "        thisax.set_axis_off()\n",
        "        if len(y) != 0:\n",
        "            j = y[ind] if type(y[ind]) != np.ndarray else y[ind].argmax()\n",
        "            thisax.text(0, 0, (label_mapping[j]+1)%10, color='green', \n",
        "                                                       verticalalignment='top',\n",
        "                                                       transform=thisax.transAxes)\n",
        "        if len(yhat) != 0:\n",
        "            k = yhat[ind] if type(yhat[ind]) != np.ndarray else yhat[ind].argmax()\n",
        "            thisax.text(1, 0, (label_mapping[k]+1)%10, color='red',\n",
        "                                             verticalalignment='top',\n",
        "                                             horizontalalignment='right',\n",
        "                                             transform=thisax.transAxes)\n",
        "    return fig\n",
        "\n",
        "def prepare_standardplot(title, xlabel):\n",
        "    fig, (ax1, ax2) = plt.subplots(1, 2)\n",
        "    fig.suptitle(title)\n",
        "    ax1.set_ylabel('categorical cross entropy')\n",
        "    ax1.set_xlabel(xlabel)\n",
        "    ax1.set_yscale('log')\n",
        "    ax2.set_ylabel('accuracy [% correct]')\n",
        "    ax2.set_xlabel(xlabel)\n",
        "    return fig, ax1, ax2\n",
        "\n",
        "def finalize_standardplot(fig, ax1, ax2):\n",
        "    ax1handles, ax1labels = ax1.get_legend_handles_labels()\n",
        "    if len(ax1labels) > 0:\n",
        "        ax1.legend(ax1handles, ax1labels)\n",
        "    ax2handles, ax2labels = ax2.get_legend_handles_labels()\n",
        "    if len(ax2labels) > 0:\n",
        "        ax2.legend(ax2handles, ax2labels)\n",
        "    fig.tight_layout()\n",
        "    plt.subplots_adjust(top=0.9)\n",
        "\n",
        "def plot_history(history, title):\n",
        "    return plot_history_custom(history.history, title)\n",
        "\n",
        "def plot_history_custom(history, title):\n",
        "    fig, ax1, ax2 = prepare_standardplot(title, 'epoch')\n",
        "    ax1.plot(history['loss'], label = \"train\")\n",
        "    ax1.plot(history['val_loss'], label = \"val\")\n",
        "    ax2.plot(history['accuracy'], label = \"train\")\n",
        "    ax2.plot(history['val_accuracy'], label = \"val\")\n",
        "    finalize_standardplot(fig, ax1, ax2)\n",
        "    return fig\n",
        "\n",
        "def plot_some_samples_custom(x, y = [], yhat = [], select_from = [], \n",
        "                      ncols = 6, nrows = 4, xdim = 28, ydim = 28,\n",
        "                      label_mapping = range(10)):\n",
        "    \"\"\"\n",
        "    Plot some input vectors as grayscale images (optionally together with their assigned or predicted labels).\n",
        "    \n",
        "    x is an NxD - dimensional array, where D is the length of an input vector and N is the number of samples.\n",
        "    Out of the N samples, ncols x nrows indices are randomly selected from the list select_from (if it is empty, select_from becomes range(N)).\n",
        "    \"\"\"\n",
        "    fig, ax = plt.subplots(nrows, ncols)\n",
        "    if len(select_from) == 0:\n",
        "        select_from = range(x.shape[0])\n",
        "    indices = choice(select_from, size = min(ncols * nrows, len(select_from)), replace = False)\n",
        "    for i, ind in enumerate(indices):\n",
        "        thisax = ax[i//ncols,i%ncols]\n",
        "        thisax.matshow(x[ind].reshape(xdim, ydim), cmap='gray')\n",
        "        thisax.set_axis_off()\n",
        "        if len(y) != 0:\n",
        "            j = y[ind] if type(y[ind]) != np.ndarray else y[ind].argmax()\n",
        "            thisax.text(0, 0, label_mapping[j], color='green', \n",
        "                                                       verticalalignment='top',\n",
        "                                                       transform=thisax.transAxes)\n",
        "        if len(yhat) != 0:\n",
        "            k = yhat[ind] if type(yhat[ind]) != np.ndarray else yhat[ind].argmax()\n",
        "            thisax.text(1, 0, label_mapping[k], color='red',\n",
        "                                             verticalalignment='top',\n",
        "                                             horizontalalignment='right',\n",
        "                                             transform=thisax.transAxes)\n",
        "    return fig\n",
        "\n",
        "\n"
      ],
      "execution_count": 7,
      "outputs": []
    },
    {
      "cell_type": "markdown",
      "metadata": {
        "id": "96-3BgpfUmF1"
      },
      "source": [
        "## Exercise 1: Data import and visualization (6 points)\n",
        "\n",
        "The datasets we use in this project (MNIST, Fashion-MNIST) consists of grayscale images with 28x28 pixels. \n",
        "The low resolution (and grayscale) of the images certainly misses some information that could be helpful for classifying the images. However, since the data has lower dimensionality due to the low resolution, the training converges faster. This is an advantage in situations like here (or generally when prototyping), where we want to try many different things without having to wait too long. \n",
        "\n",
        "1. As a warm-up exercise, use the importer to (down-)load the MNIST and Fashion-MNIST dataset. Assign useful variables to test & train images and labels for both datasets respectively. (2 pts)\n",
        "2. Use the function `plot_some_samples` defined above to plot some samples of the two datasets. What do the green digits at the bottom left of each image indicate? (2 pts)\n",
        "3. To prepare for training: 1. transform the labels to one hot coding, i.e. for 5 classes, label 2 becomes the vector [0, 0, 1, 0, 0] (you can use `utils.to_categorical` function from keras), and 2. reshape (flatten) the input images to input vectors and rescale the input data into the range [0,1]. (2 pts)\n",
        "\n",
        "*Hint*: Keras comes with a convenient in-built [data importer](https://keras.io/datasets/) for common datasets. "
      ]
    },
    {
      "cell_type": "markdown",
      "metadata": {
        "id": "kGiMLZFXUmF2"
      },
      "source": [
        "**Answer to Question 2** (1 sentence):<br/>\n",
        "The green digit at the bottom left corresponds to '(label_mapping[j]+1)%10' (*true class label incremented by one and divided modulo 10*) and can be interpreted as the index of the digit with value 1 (all others at 0) for one hot encoding."
      ]
    },
    {
      "cell_type": "markdown",
      "metadata": {
        "id": "PGSLbCcbUmF2"
      },
      "source": [
        "### Solution"
      ]
    },
    {
      "cell_type": "markdown",
      "metadata": {
        "id": "44GJq_o2BlkA"
      },
      "source": [
        "#### Exercise 1.1\n",
        "Load the MNIST and Fashion-MNIST dataset."
      ]
    },
    {
      "cell_type": "code",
      "metadata": {
        "id": "REn8st7Do-h6",
        "outputId": "3b8d5cec-effa-4488-9054-57db8982607c",
        "colab": {
          "base_uri": "https://localhost:8080/"
        }
      },
      "source": [
        "(x_mnist_train, y_mnist_train), (x_mnist_val, y_mnist_val) = tf.keras.datasets.mnist.load_data(path=\"mnist.npz\")\n",
        "(x_mnist_fash_train, y_mnist_fash_train), (x_mnist_fash_val, y_mnist_fash_val) = tf.keras.datasets.fashion_mnist.load_data()"
      ],
      "execution_count": 8,
      "outputs": [
        {
          "output_type": "stream",
          "text": [
            "Downloading data from https://storage.googleapis.com/tensorflow/tf-keras-datasets/mnist.npz\n",
            "11493376/11490434 [==============================] - 0s 0us/step\n",
            "Downloading data from https://storage.googleapis.com/tensorflow/tf-keras-datasets/train-labels-idx1-ubyte.gz\n",
            "32768/29515 [=================================] - 0s 0us/step\n",
            "Downloading data from https://storage.googleapis.com/tensorflow/tf-keras-datasets/train-images-idx3-ubyte.gz\n",
            "26427392/26421880 [==============================] - 1s 0us/step\n",
            "Downloading data from https://storage.googleapis.com/tensorflow/tf-keras-datasets/t10k-labels-idx1-ubyte.gz\n",
            "8192/5148 [===============================================] - 0s 0us/step\n",
            "Downloading data from https://storage.googleapis.com/tensorflow/tf-keras-datasets/t10k-images-idx3-ubyte.gz\n",
            "4423680/4422102 [==============================] - 0s 0us/step\n"
          ],
          "name": "stdout"
        }
      ]
    },
    {
      "cell_type": "markdown",
      "metadata": {
        "id": "zK0e2jWyBxuY"
      },
      "source": [
        "#### Exercise 1.2\n",
        "Plot some samples of the two datasets."
      ]
    },
    {
      "cell_type": "code",
      "metadata": {
        "id": "E-tP-_yR_cIT",
        "colab": {
          "base_uri": "https://localhost:8080/",
          "height": 272
        },
        "outputId": "fe1805ff-20f0-4c76-e489-2dec34e951b9"
      },
      "source": [
        "print(\"MNIST\")\n",
        "plot_some_samples(x_mnist_train, y_mnist_train, ncols=6, nrows=4);"
      ],
      "execution_count": 9,
      "outputs": [
        {
          "output_type": "stream",
          "text": [
            "MNIST\n"
          ],
          "name": "stdout"
        },
        {
          "output_type": "display_data",
          "data": {
            "image/png": "[encoded data removed]",
            "text/plain": [
              "<Figure size 432x288 with 24 Axes>"
            ]
          },
          "metadata": {
            "tags": [],
            "needs_background": "light"
          }
        }
      ]
    },
    {
      "cell_type": "code",
      "metadata": {
        "id": "rM7sGUJ7CPXI",
        "colab": {
          "base_uri": "https://localhost:8080/",
          "height": 272
        },
        "outputId": "eaee168d-a8da-484f-a018-017f46dc91c2"
      },
      "source": [
        "print(\"Fashion-MNIST\")\n",
        "plot_some_samples(x_mnist_fash_train, y_mnist_fash_train, ncols=6, nrows=4);"
      ],
      "execution_count": 10,
      "outputs": [
        {
          "output_type": "stream",
          "text": [
            "Fashion-MNIST\n"
          ],
          "name": "stdout"
        },
        {
          "output_type": "display_data",
          "data": {
            "image/png": "[encoded data removed]",
            "text/plain": [
              "<Figure size 432x288 with 24 Axes>"
            ]
          },
          "metadata": {
            "tags": [],
            "needs_background": "light"
          }
        }
      ]
    },
    {
      "cell_type": "markdown",
      "metadata": {
        "id": "ozrpz5-NB7wg"
      },
      "source": [
        "#### Exercise 1.3\n",
        "Prepare for training."
      ]
    },
    {
      "cell_type": "code",
      "metadata": {
        "id": "2Q_Rl6c-DV87",
        "colab": {
          "base_uri": "https://localhost:8080/"
        },
        "outputId": "2bc8e567-b61f-445d-bac6-1eb394d52059"
      },
      "source": [
        "# transform the labels to one hot coding\n",
        "#from keras.utils import to_categorical\n",
        "from tensorflow.keras.utils import to_categorical\n",
        "\n",
        "# One hot encode the labels\n",
        "y_mnist_train_1hot = to_categorical(y_mnist_train)\n",
        "y_mnist_val_1hot = to_categorical(y_mnist_val)\n",
        "\n",
        "print(\"MNIST:\")\n",
        "for i in range(5):\n",
        "    print(\"train : {0} => {1} \\ttest : {2} => {3}\".format(y_mnist_train[i], y_mnist_train_1hot[i], y_mnist_val[i], y_mnist_val_1hot[i]))"
      ],
      "execution_count": 11,
      "outputs": [
        {
          "output_type": "stream",
          "text": [
            "MNIST:\n",
            "train : 5 => [0. 0. 0. 0. 0. 1. 0. 0. 0. 0.] \ttest : 7 => [0. 0. 0. 0. 0. 0. 0. 1. 0. 0.]\n",
            "train : 0 => [1. 0. 0. 0. 0. 0. 0. 0. 0. 0.] \ttest : 2 => [0. 0. 1. 0. 0. 0. 0. 0. 0. 0.]\n",
            "train : 4 => [0. 0. 0. 0. 1. 0. 0. 0. 0. 0.] \ttest : 1 => [0. 1. 0. 0. 0. 0. 0. 0. 0. 0.]\n",
            "train : 1 => [0. 1. 0. 0. 0. 0. 0. 0. 0. 0.] \ttest : 0 => [1. 0. 0. 0. 0. 0. 0. 0. 0. 0.]\n",
            "train : 9 => [0. 0. 0. 0. 0. 0. 0. 0. 0. 1.] \ttest : 4 => [0. 0. 0. 0. 1. 0. 0. 0. 0. 0.]\n"
          ],
          "name": "stdout"
        }
      ]
    },
    {
      "cell_type": "code",
      "metadata": {
        "id": "09HL6DMLN8uu",
        "colab": {
          "base_uri": "https://localhost:8080/"
        },
        "outputId": "4794f409-1e27-4c02-fe1e-d1ce69b67960"
      },
      "source": [
        "# One hot encode the labels\n",
        "y_mnist_fash_train_1hot = to_categorical(y_mnist_fash_train)\n",
        "y_mnist_fash_val_1hot = to_categorical(y_mnist_fash_val)\n",
        "\n",
        "print(\"Fashion MNIST:\")\n",
        "for i in range(5):\n",
        "    print(\"train : {0} => {1} \\ttest : {2} => {3}\".format(y_mnist_fash_train[i], y_mnist_fash_train_1hot[i], y_mnist_fash_val[i], y_mnist_fash_val_1hot[i]))"
      ],
      "execution_count": 12,
      "outputs": [
        {
          "output_type": "stream",
          "text": [
            "Fashion MNIST:\n",
            "train : 9 => [0. 0. 0. 0. 0. 0. 0. 0. 0. 1.] \ttest : 9 => [0. 0. 0. 0. 0. 0. 0. 0. 0. 1.]\n",
            "train : 0 => [1. 0. 0. 0. 0. 0. 0. 0. 0. 0.] \ttest : 2 => [0. 0. 1. 0. 0. 0. 0. 0. 0. 0.]\n",
            "train : 0 => [1. 0. 0. 0. 0. 0. 0. 0. 0. 0.] \ttest : 1 => [0. 1. 0. 0. 0. 0. 0. 0. 0. 0.]\n",
            "train : 3 => [0. 0. 0. 1. 0. 0. 0. 0. 0. 0.] \ttest : 1 => [0. 1. 0. 0. 0. 0. 0. 0. 0. 0.]\n",
            "train : 0 => [1. 0. 0. 0. 0. 0. 0. 0. 0. 0.] \ttest : 6 => [0. 0. 0. 0. 0. 0. 1. 0. 0. 0.]\n"
          ],
          "name": "stdout"
        }
      ]
    },
    {
      "cell_type": "code",
      "metadata": {
        "id": "6tDl4RApFFV2",
        "colab": {
          "base_uri": "https://localhost:8080/"
        },
        "outputId": "42514e5f-fd23-4045-a40a-b4a7e947ad4a"
      },
      "source": [
        "# MNIST: rescale the input data into the range [0,1]\n",
        "max_grey_value = 255.0\n",
        "\n",
        "print(\"MNIST\")\n",
        "print(\"Max value in initial dataset (train/test):\", np.max(x_mnist_train), np.max(x_mnist_val))\n",
        "print(\"Min value in initial dataset (train/test):\", np.min(x_mnist_train), np.min(x_mnist_val))\n",
        "x_mnist_train = x_mnist_train / max_grey_value  \n",
        "x_mnist_val = x_mnist_val / max_grey_value \n",
        "print(\"Max value in rescaled dataset (train/test):\", np.max(x_mnist_train), np.max(x_mnist_val))\n",
        "print(\"Min value in rescaled dataset (train/test):\", np.min(x_mnist_train), np.min(x_mnist_val))"
      ],
      "execution_count": 13,
      "outputs": [
        {
          "output_type": "stream",
          "text": [
            "MNIST\n",
            "Max value in initial dataset (train/test): 255 255\n",
            "Min value in initial dataset (train/test): 0 0\n",
            "Max value in rescaled dataset (train/test): 1.0 1.0\n",
            "Min value in rescaled dataset (train/test): 0.0 0.0\n"
          ],
          "name": "stdout"
        }
      ]
    },
    {
      "cell_type": "code",
      "metadata": {
        "id": "3xRmWrSuLyy5",
        "colab": {
          "base_uri": "https://localhost:8080/"
        },
        "outputId": "7aa939ab-34fa-4623-e686-8aacc7dbccb0"
      },
      "source": [
        "# MNIST: rescale the input data into the range [0,1]\n",
        "print(\"Fashion-MNIST\")\n",
        "print(\"Max value in initial dataset (train/test):\", np.max(x_mnist_fash_train), np.max(x_mnist_fash_val))\n",
        "print(\"Min value in initial dataset (train/test):\", np.min(x_mnist_fash_train), np.min(x_mnist_fash_val))\n",
        "x_mnist_fash_train = x_mnist_fash_train / max_grey_value  \n",
        "x_mnist_fash_val = x_mnist_fash_val / max_grey_value \n",
        "print(\"Max value in rescaled dataset (train/test):\", np.max(x_mnist_fash_train), np.max(x_mnist_fash_val))\n",
        "print(\"Min value in rescaled dataset (train/test):\", np.min(x_mnist_fash_train), np.min(x_mnist_fash_val))"
      ],
      "execution_count": 14,
      "outputs": [
        {
          "output_type": "stream",
          "text": [
            "Fashion-MNIST\n",
            "Max value in initial dataset (train/test): 255 255\n",
            "Min value in initial dataset (train/test): 0 0\n",
            "Max value in rescaled dataset (train/test): 1.0 1.0\n",
            "Min value in rescaled dataset (train/test): 0.0 0.0\n"
          ],
          "name": "stdout"
        }
      ]
    },
    {
      "cell_type": "code",
      "metadata": {
        "id": "whHrNeQiETo7",
        "colab": {
          "base_uri": "https://localhost:8080/"
        },
        "outputId": "36a90622-f964-46b0-94f6-0e8b9e8c09a3"
      },
      "source": [
        "# reshape (flatten) the input images to input vectors\n",
        "print(\"MNIST\")\n",
        "original_mnist_train_shape = x_mnist_train.shape\n",
        "original_mnist_val_shape = x_mnist_val.shape\n",
        "x_mnist_tr_flat = x_mnist_train.reshape(x_mnist_train.shape[0], x_mnist_train.shape[1]*x_mnist_train.shape[2])\n",
        "x_mnist_val_flat = x_mnist_val.reshape(x_mnist_val.shape[0], x_mnist_val.shape[1]*x_mnist_val.shape[2])\n",
        "print(\"Reshaped training data from {0} to {1}\".format(original_mnist_train_shape, x_mnist_tr_flat.shape))\n",
        "print(\"Reshaped validation data from {0} to {1}\".format(original_mnist_val_shape, x_mnist_val_flat.shape))"
      ],
      "execution_count": 15,
      "outputs": [
        {
          "output_type": "stream",
          "text": [
            "MNIST\n",
            "Reshaped training data from (60000, 28, 28) to (60000, 784)\n",
            "Reshaped validation data from (10000, 28, 28) to (10000, 784)\n"
          ],
          "name": "stdout"
        }
      ]
    },
    {
      "cell_type": "code",
      "metadata": {
        "id": "evnIslVWHHmz",
        "colab": {
          "base_uri": "https://localhost:8080/"
        },
        "outputId": "d9e568f3-0076-45e1-8c93-8848bde0ddac"
      },
      "source": [
        "print(\"Fashion-MNIST\")\n",
        "original_train_shape = x_mnist_fash_train.shape\n",
        "original_val_shape = x_mnist_fash_val.shape\n",
        "original_val_shape = x_mnist_fash_val.shape\n",
        "x_fashion_tr_flat = x_mnist_fash_train.reshape(x_mnist_fash_train.shape[0], x_mnist_fash_train.shape[1]*x_mnist_fash_train.shape[2])\n",
        "x_fashion_val_flat = x_mnist_fash_val.reshape(x_mnist_fash_val.shape[0], x_mnist_fash_val.shape[1]*x_mnist_fash_val.shape[2])\n",
        "x_fashion_val_flat = x_mnist_fash_val.reshape(x_mnist_fash_val.shape[0], x_mnist_fash_val.shape[1]*x_mnist_fash_val.shape[2])\n",
        "print(\"Reshaped training data from {0} to {1}\".format(original_train_shape, x_fashion_tr_flat.shape))\n",
        "print(\"Reshaped validation data from {0} to {1}\".format(original_val_shape, x_fashion_val_flat.shape))\n",
        "print(\"Reshaped test data from {0} to {1}\".format(original_val_shape, x_fashion_val_flat.shape))"
      ],
      "execution_count": 16,
      "outputs": [
        {
          "output_type": "stream",
          "text": [
            "Fashion-MNIST\n",
            "Reshaped training data from (60000, 28, 28) to (60000, 784)\n",
            "Reshaped validation data from (10000, 28, 28) to (10000, 784)\n",
            "Reshaped test data from (10000, 28, 28) to (10000, 784)\n"
          ],
          "name": "stdout"
        }
      ]
    },
    {
      "cell_type": "code",
      "metadata": {
        "id": "1cZuTQVecZJB",
        "colab": {
          "base_uri": "https://localhost:8080/"
        },
        "outputId": "572a2ab4-56f2-4dd4-a787-12b2bade55c2"
      },
      "source": [
        "# Constants\n",
        "input_dim_mnist = x_mnist_tr_flat.shape[1]\n",
        "input_dim_fashion = x_fashion_tr_flat.shape[1]\n",
        "# Get number of classes\n",
        "mnist_classes_nb = y_mnist_train_1hot.shape[1]\n",
        "fashion_classes_nb = y_mnist_fash_train_1hot.shape[1]\n",
        "print(\"MMNIST Input Shape {0}; MNIST Number Of Classes {1}\".format(input_dim_mnist, mnist_classes_nb))\n",
        "print(\"MMNIST Fashion Input Shape {0}; MNIST Fashion Number Of Classes {1}\".format(input_dim_fashion, fashion_classes_nb))"
      ],
      "execution_count": 17,
      "outputs": [
        {
          "output_type": "stream",
          "text": [
            "MMNIST Input Shape 784; MNIST Number Of Classes 10\n",
            "MMNIST Fashion Input Shape 784; MNIST Fashion Number Of Classes 10\n"
          ],
          "name": "stdout"
        }
      ]
    },
    {
      "cell_type": "markdown",
      "metadata": {
        "id": "7nWca9BqUmF3"
      },
      "source": [
        "## Exercise 2: No hidden layer (10 points)\n",
        "\n",
        "Define and fit a model without a hidden layer (since we will use multi-layer models later in this project, you can define a general constructor function for models with an arbitrary number of hidden layers already at this point). Note that in this miniproject there is no real test dataset and what is loaded as a test dataset is used for validation. First, implement 1.-3. for the MNIST dataset.  \n",
        "\n",
        "1. Implement the model with the following specifications: use the softmax activation for the output layer, use the categorical_crossentropy loss, choose stochastic gradient descent for the optimizer, and add the accuracy metric to the metrics. (5 pts)\n",
        "2. Train for as many epochs as needed to see no further decrease in the validation loss. (1 pt)\n",
        "3. Plot the learning curves resulting from the fitting procedure (a history object) using the function `plot_history` defined above. (1 pt)\n",
        "4. Repeat the above steps for fitting the network to the Fashion-MNIST dataset. (2 pts)\n",
        "5. Report the best validation accuracy achieved for each one of the datasets. Do you observe overfitting already for this simple model? Answer separetely for the MNIST dataset and Fashion-MNIST dataset. (1 pt) \n",
        "\n",
        "*Hint:* Read the keras docs, in particular [Getting started with the Keras Sequential model](https://keras.io/getting-started/sequential-model-guide/)."
      ]
    },
    {
      "cell_type": "markdown",
      "metadata": {
        "id": "o0om4_uXUmF5"
      },
      "source": [
        "**Answer to Question 5** (max 2 sentences):<br/>\n",
        "*MNIST:*\n",
        "We don't see overfitting on MNIST with this simple model.\n",
        "\n",
        "If overfitting, we should see the validation loss stopping to decrease (i.e. increasing). Furthermore, since there is a lot of training data for a models with only 7960 parameters it is unlikely that the model is overfitting.\n",
        "\n",
        "*Fashion-MNIST:*\n",
        "\n",
        "Like previoulsy, we don't see overfitting on Fashion-MNIST with this simple model.\n",
        "\n",
        "Same interpretation than MNIST regarding overfitting, even more Fashion-MNIST has been introduced as beeing \"harder\"."
      ]
    },
    {
      "cell_type": "markdown",
      "metadata": {
        "id": "CgSYz8gAUmF5"
      },
      "source": [
        "### Solution"
      ]
    },
    {
      "cell_type": "markdown",
      "metadata": {
        "id": "0Wk7rbJWAtQL"
      },
      "source": [
        "### Useful functions"
      ]
    },
    {
      "cell_type": "code",
      "metadata": {
        "id": "fWptcE9GAuRD"
      },
      "source": [
        "def get_save_dir():\n",
        "  \"\"\"Get directory where models and histories are saved.\"\"\"\n",
        "  save_dir = 'save'\n",
        "  if os.path.isdir(save_dir) is not True:\n",
        "    os.mkdir(save_dir)\n",
        "  return save_dir\n",
        "\n",
        "\n",
        "def get_path_history(exercise_name):\n",
        "  \"\"\"Get path of history file.\"\"\"\n",
        "  return os.path.join(get_save_dir(), exercise_name + '_history.npy')\n",
        "\n",
        "\n",
        "def get_path_model(exercise_name):\n",
        "  \"\"\"Get path of model file.\"\"\"\n",
        "  return os.path.join(get_save_dir(), exercise_name + '_model.keras')\n",
        "\n",
        "\n",
        "def get_callbacks(early_stop = True, save_model=False, exercise_name='', verbose=0):\n",
        "  callbacks = []\n",
        "\n",
        "  if save_model:\n",
        "    save_callback = ModelCheckpoint(get_path_model(exercise_name), monitor='val_loss', mode='min', save_best_only=True, verbose=verbose)\n",
        "    callbacks.append(save_callback)\n",
        "\n",
        "  if early_stop:\n",
        "    stop_callback = EarlyStopping(monitor='val_loss', mode='min', verbose=verbose, patience=20)\n",
        "    callbacks.append(stop_callback) \n",
        "\n",
        "  return callbacks  \n",
        "\n",
        "\n",
        "def fit_custom(exercise_name, model, x, y, validation_data=None, epochs=None, callbacks=None, verbose=0):\n",
        "  \"\"\"\n",
        "  Load saved history or launch fit if it does not exist.\n",
        "\n",
        "  Parameters:\n",
        "  - exercise_name: String name of the exercise, it is used to store the history and reload it.\n",
        "  - model: Keras Model from which fit is applied. \n",
        "  \n",
        "  Others inputs are named in the same way that the Keras fit function, and are directly passed to it:\n",
        "  - x : Vector, matrix, or array of training data\n",
        "  - y : Vector, matrix, or array of target (label) data\n",
        "  - validation_data : Data on which to evaluate the loss and any model metrics at the end of each epoch.\n",
        "  - epochs : Number of epochs to train the model.\n",
        "  - verbose : Verbosity mode (0 = silent, 1 = progress bar, 2 = one line per epoch)\n",
        "  - callbacks : List of callbacks to be called during training.\n",
        "  \"\"\"\n",
        "  path_history = get_path_history(exercise_name)\n",
        "\n",
        "  if not os.path.isfile(path_history):\n",
        "    print(\"Begin to train the model {0}.\".format(exercise_name))\n",
        "    fit_output = model.fit(x=x, y=y, validation_data=validation_data, epochs=epochs, callbacks=callbacks, verbose=verbose)\n",
        "    print(\"Finished training the model {0}.\".format(exercise_name))\n",
        "    history = fit_output.history\n",
        "    np.save(path_history, history)\n",
        "  else:\n",
        "    print(\"Loading\", path_history)\n",
        "    history = np.load(path_history,allow_pickle='TRUE').item()\n",
        "\n",
        "  return history\n",
        "\n",
        "\n",
        "def get_model(input_dim, layers, h, optimizer, lr, dropout = 0, l2 = 0):\n",
        "    \"\"\"\n",
        "    Return a compiled model with.\n",
        "\n",
        "    Parameters:\n",
        "    - 'input_dim': input dimension \n",
        "    - 'layers': hidden layers \n",
        "    - 'h': units in each hidden layer\n",
        "    - 'optimizer': optimizer\n",
        "    - \"lr': learning rate\n",
        "    - 'dropout': dropout rate\n",
        "    - 'l2': L2 regularization factor\n",
        "    \"\"\"\n",
        "    # Clear the session to remove all the nodes left over from previous models, free memory and prevent slowdown.\n",
        "    K.clear_session()\n",
        "\n",
        "    model = Sequential()\n",
        "    model.add(Dense(mnist_classes_nb, activation='relu', name=\"input_layer\",  input_shape=(input_dim_mnist,)))\n",
        "\n",
        "    if(dropout > 0):\n",
        "      model.add(Dropout(dropout))\n",
        "\n",
        "    for i in range(layers):\n",
        "      kernel_regularizer = None\n",
        "\n",
        "      if(l2>0):\n",
        "        kernel_regularizer = regularizers.l1_l2(l1=0, l2=l2)\n",
        "\n",
        "      model.add(Dense(h, activation='relu', kernel_regularizer=kernel_regularizer))\n",
        "\n",
        "      if(dropout > 0):\n",
        "        model.add(Dropout(dropout))\n",
        "\n",
        "    model.add(Dense(mnist_classes_nb, activation='softmax', name=\"output_layer\"))\n",
        "    model.compile(optimizer=optimizer(lr), loss='categorical_crossentropy', metrics=[\"accuracy\"])\n",
        "    return model"
      ],
      "execution_count": 18,
      "outputs": []
    },
    {
      "cell_type": "markdown",
      "metadata": {
        "id": "E7vGd8ZORprP"
      },
      "source": [
        "#### Exercise 2.1\n",
        "Implement the model."
      ]
    },
    {
      "cell_type": "code",
      "metadata": {
        "id": "FS_KeLUAQWfS",
        "colab": {
          "base_uri": "https://localhost:8080/"
        },
        "outputId": "bcd9a405-106b-46a7-be0c-1b4fdb5d3cf2"
      },
      "source": [
        "model=get_model(input_dim=input_dim_mnist, layers=0, h=0, optimizer=SGD, lr=0.01)\n",
        "model.summary()"
      ],
      "execution_count": 19,
      "outputs": [
        {
          "output_type": "stream",
          "text": [
            "Model: \"sequential\"\n",
            "_________________________________________________________________\n",
            "Layer (type)                 Output Shape              Param #   \n",
            "=================================================================\n",
            "input_layer (Dense)          (None, 10)                7850      \n",
            "_________________________________________________________________\n",
            "output_layer (Dense)         (None, 10)                110       \n",
            "=================================================================\n",
            "Total params: 7,960\n",
            "Trainable params: 7,960\n",
            "Non-trainable params: 0\n",
            "_________________________________________________________________\n"
          ],
          "name": "stdout"
        }
      ]
    },
    {
      "cell_type": "markdown",
      "metadata": {
        "id": "fDsqMm-ETZqT"
      },
      "source": [
        "#### Exercise 2.2\n",
        "Train for as many epochs as needed to see no further decrease in the validation loss."
      ]
    },
    {
      "cell_type": "code",
      "metadata": {
        "id": "CSsbkS50CGMe",
        "colab": {
          "base_uri": "https://localhost:8080/"
        },
        "outputId": "9fb29ddb-5ab8-4c72-c722-b2bd433b4aac"
      },
      "source": [
        "exercise_name='ex_2.2'\n",
        "\n",
        "history = fit_custom(\n",
        "    exercise_name=exercise_name,\n",
        "    model=model, \n",
        "    x=x_mnist_tr_flat, \n",
        "    y=y_mnist_train_1hot, \n",
        "    validation_data=(x_mnist_val_flat, y_mnist_val_1hot), \n",
        "    epochs=100,\n",
        "    callbacks=get_callbacks(early_stop = True, save_model=False, exercise_name=exercise_name),\n",
        "    verbose=True)"
      ],
      "execution_count": 21,
      "outputs": [
        {
          "output_type": "stream",
          "text": [
            "Begin to train the model ex_2.2.\n",
            "Epoch 1/100\n",
            "1875/1875 [==============================] - 6s 3ms/step - loss: 0.2027 - accuracy: 0.9430 - val_loss: 0.2220 - val_accuracy: 0.9365\n",
            "Epoch 2/100\n",
            "1875/1875 [==============================] - 6s 3ms/step - loss: 0.2019 - accuracy: 0.9429 - val_loss: 0.2240 - val_accuracy: 0.9357\n",
            "Epoch 3/100\n",
            "1875/1875 [==============================] - 6s 3ms/step - loss: 0.2009 - accuracy: 0.9434 - val_loss: 0.2221 - val_accuracy: 0.9373\n",
            "Epoch 4/100\n",
            "1875/1875 [==============================] - 6s 3ms/step - loss: 0.2000 - accuracy: 0.9440 - val_loss: 0.2223 - val_accuracy: 0.9372\n",
            "Epoch 5/100\n",
            "1875/1875 [==============================] - 6s 3ms/step - loss: 0.1996 - accuracy: 0.9440 - val_loss: 0.2223 - val_accuracy: 0.9370\n",
            "Epoch 6/100\n",
            "1875/1875 [==============================] - 6s 3ms/step - loss: 0.1987 - accuracy: 0.9437 - val_loss: 0.2206 - val_accuracy: 0.9382\n",
            "Epoch 7/100\n",
            "1875/1875 [==============================] - 5s 3ms/step - loss: 0.1980 - accuracy: 0.9444 - val_loss: 0.2242 - val_accuracy: 0.9357\n",
            "Epoch 8/100\n",
            "1875/1875 [==============================] - 6s 3ms/step - loss: 0.1974 - accuracy: 0.9440 - val_loss: 0.2244 - val_accuracy: 0.9347\n",
            "Epoch 9/100\n",
            "1875/1875 [==============================] - 6s 3ms/step - loss: 0.1966 - accuracy: 0.9447 - val_loss: 0.2205 - val_accuracy: 0.9367\n",
            "Epoch 10/100\n",
            "1875/1875 [==============================] - 6s 3ms/step - loss: 0.1961 - accuracy: 0.9449 - val_loss: 0.2193 - val_accuracy: 0.9378\n",
            "Epoch 11/100\n",
            "1875/1875 [==============================] - 6s 3ms/step - loss: 0.1953 - accuracy: 0.9452 - val_loss: 0.2201 - val_accuracy: 0.9375\n",
            "Epoch 12/100\n",
            "1875/1875 [==============================] - 5s 3ms/step - loss: 0.1945 - accuracy: 0.9452 - val_loss: 0.2230 - val_accuracy: 0.9356\n",
            "Epoch 13/100\n",
            "1875/1875 [==============================] - 6s 3ms/step - loss: 0.1943 - accuracy: 0.9454 - val_loss: 0.2191 - val_accuracy: 0.9371\n",
            "Epoch 14/100\n",
            "1875/1875 [==============================] - 6s 3ms/step - loss: 0.1936 - accuracy: 0.9452 - val_loss: 0.2202 - val_accuracy: 0.9380\n",
            "Epoch 15/100\n",
            "1875/1875 [==============================] - 6s 3ms/step - loss: 0.1929 - accuracy: 0.9456 - val_loss: 0.2196 - val_accuracy: 0.9377\n",
            "Epoch 16/100\n",
            "1875/1875 [==============================] - 6s 3ms/step - loss: 0.1926 - accuracy: 0.9457 - val_loss: 0.2195 - val_accuracy: 0.9359\n",
            "Epoch 17/100\n",
            "1875/1875 [==============================] - 6s 3ms/step - loss: 0.1920 - accuracy: 0.9453 - val_loss: 0.2191 - val_accuracy: 0.9385\n",
            "Epoch 18/100\n",
            "1875/1875 [==============================] - 6s 3ms/step - loss: 0.1914 - accuracy: 0.9460 - val_loss: 0.2184 - val_accuracy: 0.9362\n",
            "Epoch 19/100\n",
            "1875/1875 [==============================] - 6s 3ms/step - loss: 0.1907 - accuracy: 0.9456 - val_loss: 0.2203 - val_accuracy: 0.9364\n",
            "Epoch 20/100\n",
            "1875/1875 [==============================] - 6s 3ms/step - loss: 0.1902 - accuracy: 0.9463 - val_loss: 0.2193 - val_accuracy: 0.9371\n",
            "Epoch 21/100\n",
            "1875/1875 [==============================] - 6s 3ms/step - loss: 0.1895 - accuracy: 0.9465 - val_loss: 0.2190 - val_accuracy: 0.9363\n",
            "Epoch 22/100\n",
            "1875/1875 [==============================] - 6s 3ms/step - loss: 0.1894 - accuracy: 0.9468 - val_loss: 0.2188 - val_accuracy: 0.9380\n",
            "Epoch 23/100\n",
            "1875/1875 [==============================] - 6s 3ms/step - loss: 0.1887 - accuracy: 0.9466 - val_loss: 0.2172 - val_accuracy: 0.9376\n",
            "Epoch 24/100\n",
            "1875/1875 [==============================] - 6s 3ms/step - loss: 0.1882 - accuracy: 0.9469 - val_loss: 0.2204 - val_accuracy: 0.9362\n",
            "Epoch 25/100\n",
            "1875/1875 [==============================] - 6s 3ms/step - loss: 0.1877 - accuracy: 0.9469 - val_loss: 0.2196 - val_accuracy: 0.9372\n",
            "Epoch 26/100\n",
            "1875/1875 [==============================] - 5s 3ms/step - loss: 0.1869 - accuracy: 0.9465 - val_loss: 0.2197 - val_accuracy: 0.9362\n",
            "Epoch 27/100\n",
            "1875/1875 [==============================] - 6s 3ms/step - loss: 0.1866 - accuracy: 0.9471 - val_loss: 0.2195 - val_accuracy: 0.9379\n",
            "Epoch 28/100\n",
            "1875/1875 [==============================] - 6s 3ms/step - loss: 0.1863 - accuracy: 0.9475 - val_loss: 0.2180 - val_accuracy: 0.9370\n",
            "Epoch 29/100\n",
            "1875/1875 [==============================] - 6s 3ms/step - loss: 0.1858 - accuracy: 0.9474 - val_loss: 0.2168 - val_accuracy: 0.9377\n",
            "Epoch 30/100\n",
            "1875/1875 [==============================] - 5s 3ms/step - loss: 0.1856 - accuracy: 0.9476 - val_loss: 0.2158 - val_accuracy: 0.9376\n",
            "Epoch 31/100\n",
            "1875/1875 [==============================] - 6s 3ms/step - loss: 0.1852 - accuracy: 0.9479 - val_loss: 0.2177 - val_accuracy: 0.9382\n",
            "Epoch 32/100\n",
            "1875/1875 [==============================] - 6s 3ms/step - loss: 0.1846 - accuracy: 0.9484 - val_loss: 0.2146 - val_accuracy: 0.9384\n",
            "Epoch 33/100\n",
            "1875/1875 [==============================] - 6s 3ms/step - loss: 0.1841 - accuracy: 0.9482 - val_loss: 0.2158 - val_accuracy: 0.9379\n",
            "Epoch 34/100\n",
            "1875/1875 [==============================] - 6s 3ms/step - loss: 0.1838 - accuracy: 0.9477 - val_loss: 0.2158 - val_accuracy: 0.9375\n",
            "Epoch 35/100\n",
            "1875/1875 [==============================] - 5s 3ms/step - loss: 0.1833 - accuracy: 0.9482 - val_loss: 0.2172 - val_accuracy: 0.9370\n",
            "Epoch 36/100\n",
            "1875/1875 [==============================] - 6s 3ms/step - loss: 0.1829 - accuracy: 0.9487 - val_loss: 0.2160 - val_accuracy: 0.9387\n",
            "Epoch 37/100\n",
            "1875/1875 [==============================] - 6s 3ms/step - loss: 0.1824 - accuracy: 0.9485 - val_loss: 0.2156 - val_accuracy: 0.9368\n",
            "Epoch 38/100\n",
            "1875/1875 [==============================] - 6s 3ms/step - loss: 0.1817 - accuracy: 0.9485 - val_loss: 0.2144 - val_accuracy: 0.9385\n",
            "Epoch 39/100\n",
            "1875/1875 [==============================] - 6s 3ms/step - loss: 0.1814 - accuracy: 0.9491 - val_loss: 0.2154 - val_accuracy: 0.9376\n",
            "Epoch 40/100\n",
            "1875/1875 [==============================] - 6s 3ms/step - loss: 0.1811 - accuracy: 0.9487 - val_loss: 0.2167 - val_accuracy: 0.9366\n",
            "Epoch 41/100\n",
            "1875/1875 [==============================] - 6s 3ms/step - loss: 0.1807 - accuracy: 0.9490 - val_loss: 0.2188 - val_accuracy: 0.9370\n",
            "Epoch 42/100\n",
            "1875/1875 [==============================] - 6s 3ms/step - loss: 0.1803 - accuracy: 0.9491 - val_loss: 0.2132 - val_accuracy: 0.9393\n",
            "Epoch 43/100\n",
            "1875/1875 [==============================] - 6s 3ms/step - loss: 0.1798 - accuracy: 0.9494 - val_loss: 0.2138 - val_accuracy: 0.9387\n",
            "Epoch 44/100\n",
            "1875/1875 [==============================] - 6s 3ms/step - loss: 0.1795 - accuracy: 0.9491 - val_loss: 0.2144 - val_accuracy: 0.9380\n",
            "Epoch 45/100\n",
            "1875/1875 [==============================] - 6s 3ms/step - loss: 0.1793 - accuracy: 0.9497 - val_loss: 0.2131 - val_accuracy: 0.9379\n",
            "Epoch 46/100\n",
            "1875/1875 [==============================] - 6s 3ms/step - loss: 0.1786 - accuracy: 0.9499 - val_loss: 0.2131 - val_accuracy: 0.9384\n",
            "Epoch 47/100\n",
            "1875/1875 [==============================] - 6s 3ms/step - loss: 0.1785 - accuracy: 0.9497 - val_loss: 0.2147 - val_accuracy: 0.9379\n",
            "Epoch 48/100\n",
            "1875/1875 [==============================] - 6s 3ms/step - loss: 0.1781 - accuracy: 0.9497 - val_loss: 0.2130 - val_accuracy: 0.9384\n",
            "Epoch 49/100\n",
            "1875/1875 [==============================] - 6s 3ms/step - loss: 0.1777 - accuracy: 0.9502 - val_loss: 0.2158 - val_accuracy: 0.9376\n",
            "Epoch 50/100\n",
            "1875/1875 [==============================] - 6s 3ms/step - loss: 0.1773 - accuracy: 0.9502 - val_loss: 0.2132 - val_accuracy: 0.9376\n",
            "Epoch 51/100\n",
            "1875/1875 [==============================] - 6s 3ms/step - loss: 0.1771 - accuracy: 0.9499 - val_loss: 0.2139 - val_accuracy: 0.9368\n",
            "Epoch 52/100\n",
            "1875/1875 [==============================] - 6s 3ms/step - loss: 0.1766 - accuracy: 0.9496 - val_loss: 0.2143 - val_accuracy: 0.9375\n",
            "Epoch 53/100\n",
            "1875/1875 [==============================] - 6s 3ms/step - loss: 0.1761 - accuracy: 0.9502 - val_loss: 0.2179 - val_accuracy: 0.9359\n",
            "Epoch 54/100\n",
            "1875/1875 [==============================] - 6s 3ms/step - loss: 0.1764 - accuracy: 0.9496 - val_loss: 0.2146 - val_accuracy: 0.9372\n",
            "Epoch 55/100\n",
            "1875/1875 [==============================] - 6s 3ms/step - loss: 0.1757 - accuracy: 0.9504 - val_loss: 0.2129 - val_accuracy: 0.9391\n",
            "Epoch 56/100\n",
            "1875/1875 [==============================] - 6s 3ms/step - loss: 0.1756 - accuracy: 0.9505 - val_loss: 0.2135 - val_accuracy: 0.9373\n",
            "Epoch 57/100\n",
            "1875/1875 [==============================] - 6s 3ms/step - loss: 0.1753 - accuracy: 0.9511 - val_loss: 0.2128 - val_accuracy: 0.9372\n",
            "Epoch 58/100\n",
            "1875/1875 [==============================] - 6s 3ms/step - loss: 0.1750 - accuracy: 0.9504 - val_loss: 0.2136 - val_accuracy: 0.9387\n",
            "Epoch 59/100\n",
            "1875/1875 [==============================] - 6s 3ms/step - loss: 0.1746 - accuracy: 0.9501 - val_loss: 0.2116 - val_accuracy: 0.9370\n",
            "Epoch 60/100\n",
            "1875/1875 [==============================] - 6s 3ms/step - loss: 0.1745 - accuracy: 0.9504 - val_loss: 0.2150 - val_accuracy: 0.9365\n",
            "Epoch 61/100\n",
            "1875/1875 [==============================] - 6s 3ms/step - loss: 0.1741 - accuracy: 0.9505 - val_loss: 0.2101 - val_accuracy: 0.9389\n",
            "Epoch 62/100\n",
            "1875/1875 [==============================] - 6s 3ms/step - loss: 0.1738 - accuracy: 0.9512 - val_loss: 0.2137 - val_accuracy: 0.9377\n",
            "Epoch 63/100\n",
            "1875/1875 [==============================] - 6s 3ms/step - loss: 0.1737 - accuracy: 0.9510 - val_loss: 0.2125 - val_accuracy: 0.9382\n",
            "Epoch 64/100\n",
            "1875/1875 [==============================] - 6s 3ms/step - loss: 0.1736 - accuracy: 0.9514 - val_loss: 0.2130 - val_accuracy: 0.9383\n",
            "Epoch 65/100\n",
            "1875/1875 [==============================] - 6s 3ms/step - loss: 0.1730 - accuracy: 0.9506 - val_loss: 0.2147 - val_accuracy: 0.9385\n",
            "Epoch 66/100\n",
            "1875/1875 [==============================] - 6s 3ms/step - loss: 0.1730 - accuracy: 0.9505 - val_loss: 0.2151 - val_accuracy: 0.9368\n",
            "Epoch 67/100\n",
            "1875/1875 [==============================] - 6s 3ms/step - loss: 0.1727 - accuracy: 0.9512 - val_loss: 0.2135 - val_accuracy: 0.9374\n",
            "Epoch 68/100\n",
            "1875/1875 [==============================] - 6s 3ms/step - loss: 0.1724 - accuracy: 0.9512 - val_loss: 0.2124 - val_accuracy: 0.9390\n",
            "Epoch 69/100\n",
            "1875/1875 [==============================] - 6s 3ms/step - loss: 0.1723 - accuracy: 0.9515 - val_loss: 0.2164 - val_accuracy: 0.9376\n",
            "Epoch 70/100\n",
            "1875/1875 [==============================] - 6s 3ms/step - loss: 0.1719 - accuracy: 0.9513 - val_loss: 0.2136 - val_accuracy: 0.9379\n",
            "Epoch 71/100\n",
            "1875/1875 [==============================] - 6s 3ms/step - loss: 0.1716 - accuracy: 0.9513 - val_loss: 0.2126 - val_accuracy: 0.9369\n",
            "Epoch 72/100\n",
            "1875/1875 [==============================] - 6s 3ms/step - loss: 0.1713 - accuracy: 0.9512 - val_loss: 0.2133 - val_accuracy: 0.9383\n",
            "Epoch 73/100\n",
            "1875/1875 [==============================] - 6s 3ms/step - loss: 0.1713 - accuracy: 0.9516 - val_loss: 0.2118 - val_accuracy: 0.9378\n",
            "Epoch 74/100\n",
            "1875/1875 [==============================] - 6s 3ms/step - loss: 0.1713 - accuracy: 0.9514 - val_loss: 0.2137 - val_accuracy: 0.9369\n",
            "Epoch 75/100\n",
            "1875/1875 [==============================] - 6s 3ms/step - loss: 0.1708 - accuracy: 0.9516 - val_loss: 0.2124 - val_accuracy: 0.9382\n",
            "Epoch 76/100\n",
            "1875/1875 [==============================] - 6s 3ms/step - loss: 0.1704 - accuracy: 0.9520 - val_loss: 0.2134 - val_accuracy: 0.9381\n",
            "Epoch 77/100\n",
            "1875/1875 [==============================] - 6s 3ms/step - loss: 0.1702 - accuracy: 0.9524 - val_loss: 0.2132 - val_accuracy: 0.9384\n",
            "Epoch 78/100\n",
            "1875/1875 [==============================] - 6s 3ms/step - loss: 0.1702 - accuracy: 0.9520 - val_loss: 0.2146 - val_accuracy: 0.9385\n",
            "Epoch 79/100\n",
            "1875/1875 [==============================] - 6s 3ms/step - loss: 0.1701 - accuracy: 0.9514 - val_loss: 0.2129 - val_accuracy: 0.9378\n",
            "Epoch 80/100\n",
            "1875/1875 [==============================] - 6s 3ms/step - loss: 0.1697 - accuracy: 0.9520 - val_loss: 0.2133 - val_accuracy: 0.9390\n",
            "Epoch 81/100\n",
            "1875/1875 [==============================] - 6s 3ms/step - loss: 0.1694 - accuracy: 0.9518 - val_loss: 0.2163 - val_accuracy: 0.9362\n",
            "Finished training the model ex_2.2.\n"
          ],
          "name": "stdout"
        }
      ]
    },
    {
      "cell_type": "markdown",
      "metadata": {
        "id": "B6jIRPNeLR9X"
      },
      "source": [
        "#### Exercise 2.3\n",
        "\n",
        "Plot the learning curves resulting from the fitting procedure (a history object) using the function `plot_history` defined above."
      ]
    },
    {
      "cell_type": "code",
      "metadata": {
        "id": "VVP8kpKlJgmi",
        "colab": {
          "base_uri": "https://localhost:8080/",
          "height": 301
        },
        "outputId": "f4df5c9a-6dde-4f2f-b64b-dcbe76dfbf75"
      },
      "source": [
        "plot_history_custom(history, \"MNIST learning with no Hidden Layer\");"
      ],
      "execution_count": 22,
      "outputs": [
        {
          "output_type": "display_data",
          "data": {
            "image/png": "[encoded data removed]",
            "text/plain": [
              "<Figure size 432x288 with 2 Axes>"
            ]
          },
          "metadata": {
            "tags": [],
            "needs_background": "light"
          }
        }
      ]
    },
    {
      "cell_type": "markdown",
      "metadata": {
        "id": "jANnS4HqMROF"
      },
      "source": [
        "#### Exercise 2.4\n",
        "\n",
        "Repeat with the Fashion-MNIST dataset."
      ]
    },
    {
      "cell_type": "code",
      "metadata": {
        "id": "dVur_FZVUacH",
        "colab": {
          "base_uri": "https://localhost:8080/"
        },
        "outputId": "9d08ee90-b199-4391-f34a-5957110b4686"
      },
      "source": [
        "model=get_model(input_dim=input_dim_fashion, layers=0, h=0, optimizer=SGD, lr=0.01)\n",
        "model.summary()"
      ],
      "execution_count": null,
      "outputs": [
        {
          "output_type": "stream",
          "text": [
            "Model: \"sequential\"\n",
            "_________________________________________________________________\n",
            "Layer (type)                 Output Shape              Param #   \n",
            "=================================================================\n",
            "input_layer (Dense)          (None, 10)                7850      \n",
            "_________________________________________________________________\n",
            "output_layer (Dense)         (None, 10)                110       \n",
            "=================================================================\n",
            "Total params: 7,960\n",
            "Trainable params: 7,960\n",
            "Non-trainable params: 0\n",
            "_________________________________________________________________\n"
          ],
          "name": "stdout"
        }
      ]
    },
    {
      "cell_type": "code",
      "metadata": {
        "id": "zeS99WhhMW_-",
        "colab": {
          "base_uri": "https://localhost:8080/"
        },
        "outputId": "46347828-07b9-4dd5-9ee9-02a4dcd5f5fe"
      },
      "source": [
        "exercise_name = 'ex_2.4'\n",
        "history = fit_custom(\n",
        "    exercise_name=exercise_name, \n",
        "    model=model,\n",
        "    x=x_fashion_tr_flat, \n",
        "    y=y_mnist_fash_train_1hot, \n",
        "    validation_data=(x_fashion_val_flat, y_mnist_fash_val_1hot), \n",
        "    epochs=100,\n",
        "    callbacks=get_callbacks(early_stop = True, save_model=False, exercise_name=exercise_name),\n",
        "    verbose=1)"
      ],
      "execution_count": null,
      "outputs": [
        {
          "output_type": "stream",
          "text": [
            "Loading save/ex_2.4_history.npy\n"
          ],
          "name": "stdout"
        }
      ]
    },
    {
      "cell_type": "code",
      "metadata": {
        "id": "TYnfImWfNT9o",
        "colab": {
          "base_uri": "https://localhost:8080/",
          "height": 302
        },
        "outputId": "39cb0c14-b21c-4603-e5c8-f4f84150bbec"
      },
      "source": [
        "plot_history_custom(history, \"Fashion-MNIST learning with no hidden layer \");"
      ],
      "execution_count": null,
      "outputs": [
        {
          "output_type": "display_data",
          "data": {
            "image/png": "[encoded data removed]",
            "text/plain": [
              "<Figure size 432x288 with 2 Axes>"
            ]
          },
          "metadata": {
            "tags": [],
            "needs_background": "light"
          }
        }
      ]
    },
    {
      "cell_type": "markdown",
      "metadata": {
        "id": "93JrKMECUmF5"
      },
      "source": [
        "## Exercise 3: One hidden layer, different optimizers (10 points)\n",
        "\n",
        "Train a network with one hidden layer and compare different optimizers for the MNIST dataset.\n",
        "\n",
        "1. Use one hidden layer with 128 units and the 'relu' activation. Use the [summary method](https://keras.io/api/models/model/#summary-method) to display your model in a compact way. (1 pt)\n",
        "2. Train the model for at least 50 epochs with different learning rates of stochastic gradient descent (SGD). What happens if the learning rate $\\eta$ is very large (for ex. $\\eta=1$), and very small (for ex. $\\eta=0.001$)? Comment on the fluctuations of the learning curve. (2 pts)\n",
        "3. Replace the stochastic gradient descent optimizer with the [Adam optimizer](https://keras.io/optimizers/#adam) (you can use the default learning rate). (1pt)\n",
        "4. Plot the learning curves of SGD with a good learning rate (i.e. in the range [0.01,0.1]) together with the learning curves of Adam in the same figure. Take care of a reasonable labeling of the curves in the plot. (1 pts)\n",
        "5. Explain the qualitative difference between the loss and accuracy curves with respect to signs of overfitting. Report the best validation accuracy achieved for SGD and Adam. Which one is better and why do you think so? (2 pts)\n",
        "6. Determine the indices of all test images that are misclassified by the fitted model and plot some of them using the function \n",
        "   `plot_some_samples`. (1 pt)\n",
        "\n",
        "Real-world datasets are labeled by some people and sometimes there are mistakes in the labeling. We will corrupt labels of the MNIST dataset artifically, and observe an overfitting to this noisy dataset with Adam. \n",
        "\n",
        "7. Take $ p = 0.2 $ fraction of the data points from the training dataset of MNIST and change their class labels randomly. (You can sample a random integer from 0 to 9 using `np.random.uniform` and `np.floor`). Train with Adam for 50 or 100 epochs. Plot the learning curves. Do you observe overfitting in the validation accuracy? Does it take longer to converge to perfect training accuracy compare to noise-free MNIST? (2 pts)"
      ]
    },
    {
      "cell_type": "markdown",
      "metadata": {
        "id": "JqsjfxPdUmF5"
      },
      "source": [
        "**Answer to Question 2** (max 2 sentences): We can see in the diagrams that fluctuations of the learning curve are increasing with the learning rate (for small learning rates {0.01, 0.001} almost no fluctuations in the learning curves can be seen anymore and the shapes are really smooth). This can be explained by the fact that with a small learning rates, the algorithm makes smaller steps, and so weights change less before correcting direction.\n",
        "\n",
        "**Answer to Question 5** (max 3 sentences): Adam is faster to learn but at the end they perform in the same way (so faster leaning, but similar performances). We can explain it, saying that the networks are the same, but in Adam case the learning rate is adapting. To get models of similar performances, we must stop learning when it begins to overfit (around 5 epochs for Adam).\n",
        "\n",
        "**Answer to Question 7** (max 2 sentences): In normal and noisy case, there is overfitting. The noisy dataset begins to sooner (after around 5 epochs) and its results are worth."
      ]
    },
    {
      "cell_type": "markdown",
      "metadata": {
        "id": "hqNAh2guUmF5"
      },
      "source": [
        "### Solution"
      ]
    },
    {
      "cell_type": "markdown",
      "metadata": {
        "id": "IzbbCPSPBje0"
      },
      "source": [
        "### Useful functions"
      ]
    },
    {
      "cell_type": "code",
      "metadata": {
        "id": "Y8E46szjUOcC"
      },
      "source": [
        "def train_with_various_lr(exercise_name, model, learning_rates, optimizer):\n",
        "  \"\"\"Train with various learning rates.\"\"\"\n",
        "  histories = []\n",
        "\n",
        "  for lr in learning_rates:\n",
        "    name = exercise_name + '_lr_{0}'.format(lr)\n",
        "    history = fit_custom(\n",
        "          exercise_name=name, \n",
        "          model=model(lr), \n",
        "          x=x_mnist_tr_flat, \n",
        "          y=y_mnist_train_1hot, \n",
        "          validation_data=(x_mnist_val_flat, y_mnist_val_1hot), \n",
        "          epochs=50, \n",
        "          callbacks=get_callbacks(early_stop = False, save_model=True, exercise_name=name),\n",
        "          verbose=0)\n",
        "      \n",
        "    optimizer_name = str(optimizer).split(\".\")[-1].replace('>', '').replace(\"'\", \"\")\n",
        "\n",
        "    plot_history_custom(\n",
        "        history, \n",
        "        \"MNIST learning with {0} and learning rate {1}\".format(optimizer_name,lr));\n",
        "\n",
        "    histories.append(history)\n",
        "  return histories\n",
        "\n",
        "def comparison_plot_custom(history_1, history_2, label1, label2, title):\n",
        "  \"\"\"Plot to compare two histories.\"\"\"\n",
        "  fig, ax1, ax2 = prepare_standardplot(title, \"epochs\")\n",
        "  ax1.plot(history_1['loss'], label=label1 + ' train')\n",
        "  ax1.plot(history_1['val_loss'], label=label1 + ' val')\n",
        "  ax1.plot(history_2['loss'], label=label2 + ' train')\n",
        "  ax1.plot(history_2['val_loss'], label=label2 + ' val')\n",
        "  ax2.plot(history_1['accuracy'], label=label1 + ' train')\n",
        "  ax2.plot(history_1['val_accuracy'], label=label1 + ' val')\n",
        "  ax2.plot(history_2['accuracy'], label=label2 + ' train')\n",
        "  ax2.plot(history_2['val_accuracy'], label=label2 + ' val')\n",
        "  finalize_standardplot(fig, ax1, ax2)\n",
        "  return fig\n",
        "\n",
        "def noise_labels(y_hot, p):\n",
        "  \"\"\"Noise one hot labels according to the fraction 'p'.\"\"\"\n",
        "  length = y_hot.shape[0]\n",
        "  number_of_classes = y_hot.shape[1]\n",
        "\n",
        "  # Define indices to noise\n",
        "  indices = np.arange(length)\n",
        "  noise_number_mnist = int(length*p)\n",
        "  noisy_indices = choice(indices, noise_number_mnist)\n",
        "\n",
        "  # Generate noisy labels\n",
        "  y_1hot_noisy = y_hot.copy()\n",
        "  for index in noisy_indices:\n",
        "    class_index = np.floor(np.random.uniform(0,number_of_classes-0.01))\n",
        "    y_1hot_noisy[index] = to_categorical(class_index, num_classes=mnist_classes_nb)\n",
        "\n",
        "  return y_1hot_noisy"
      ],
      "execution_count": null,
      "outputs": []
    },
    {
      "cell_type": "markdown",
      "metadata": {
        "id": "52WnT_AcObgs"
      },
      "source": [
        "#### Exercise 3.1\n",
        "\n",
        "Use one hidden layer with 128 units and the 'relu' activation. Use the [summary method](https://keras.io/api/models/model/#summary-method) to display your model in a compact way."
      ]
    },
    {
      "cell_type": "code",
      "metadata": {
        "id": "uE8X5bTnUOcC",
        "colab": {
          "base_uri": "https://localhost:8080/"
        },
        "outputId": "d3550678-15a9-4e5e-c0cf-5e1f22ce4cfa"
      },
      "source": [
        "def get_model_ex_3_1(learning_rate):\n",
        "  \"\"\"Create a model with 1 hidden layer and 128 units, compiled with SGD optimizer.\"\"\"\n",
        "  return get_model(input_dim=input_dim_mnist, layers=1, h=128, optimizer=SGD, lr=learning_rate)\n",
        "\n",
        "get_model_ex_3_1(0.01).summary()"
      ],
      "execution_count": null,
      "outputs": [
        {
          "output_type": "stream",
          "text": [
            "Model: \"sequential\"\n",
            "_________________________________________________________________\n",
            "Layer (type)                 Output Shape              Param #   \n",
            "=================================================================\n",
            "input_layer (Dense)          (None, 10)                7850      \n",
            "_________________________________________________________________\n",
            "dense (Dense)                (None, 128)               1408      \n",
            "_________________________________________________________________\n",
            "output_layer (Dense)         (None, 10)                1290      \n",
            "=================================================================\n",
            "Total params: 10,548\n",
            "Trainable params: 10,548\n",
            "Non-trainable params: 0\n",
            "_________________________________________________________________\n"
          ],
          "name": "stdout"
        }
      ]
    },
    {
      "cell_type": "markdown",
      "metadata": {
        "id": "tqZiIDyzdnWz"
      },
      "source": [
        "#### Exercise 3.2\n",
        "\n",
        "Train the model for at least 50 epochs with different learning rates of stochastic gradient descent (SGD). What happens if the learning rate  𝜂 is very large (for ex.  𝜂=1), and very small (for ex.  𝜂=0.001)? Comment on the fluctuations of the learning curve."
      ]
    },
    {
      "cell_type": "code",
      "metadata": {
        "id": "suEEtwKhEEwc",
        "colab": {
          "base_uri": "https://localhost:8080/",
          "height": 1000
        },
        "outputId": "ffea06ee-20f2-4e9c-9896-38630d3c1cba"
      },
      "source": [
        "learning_rates = [10**(-e) for e in range(0,4)]\n",
        "\n",
        "histories_sgd = train_with_various_lr(\n",
        "    exercise_name='ex_3.2', \n",
        "    model=get_model_ex_3_1,\n",
        "    learning_rates=learning_rates, \n",
        "    optimizer=SGD)"
      ],
      "execution_count": null,
      "outputs": [
        {
          "output_type": "stream",
          "text": [
            "Loading save/ex_3.2_lr_1_history.npy\n",
            "Loading save/ex_3.2_lr_0.1_history.npy\n",
            "Loading save/ex_3.2_lr_0.01_history.npy\n",
            "Begin to train the model ex_3.2_lr_0.001.\n"
          ],
          "name": "stdout"
        },
        {
          "output_type": "error",
          "ename": "KeyboardInterrupt",
          "evalue": "ignored",
          "traceback": [
            "\u001b[0;31m---------------------------------------------------------------------------\u001b[0m",
            "\u001b[0;31mKeyboardInterrupt\u001b[0m                         Traceback (most recent call last)",
            "\u001b[0;32m<ipython-input-499-cd2c01e0bfd6>\u001b[0m in \u001b[0;36m<module>\u001b[0;34m()\u001b[0m\n\u001b[1;32m      5\u001b[0m     \u001b[0mmodel\u001b[0m\u001b[0;34m=\u001b[0m\u001b[0mget_model_ex_3_1\u001b[0m\u001b[0;34m,\u001b[0m\u001b[0;34m\u001b[0m\u001b[0;34m\u001b[0m\u001b[0m\n\u001b[1;32m      6\u001b[0m     \u001b[0mlearning_rates\u001b[0m\u001b[0;34m=\u001b[0m\u001b[0mlearning_rates\u001b[0m\u001b[0;34m,\u001b[0m\u001b[0;34m\u001b[0m\u001b[0;34m\u001b[0m\u001b[0m\n\u001b[0;32m----> 7\u001b[0;31m     optimizer=SGD)\n\u001b[0m",
            "\u001b[0;32m<ipython-input-497-c8834490bf02>\u001b[0m in \u001b[0;36mtrain_with_various_lr\u001b[0;34m(exercise_name, model, learning_rates, optimizer)\u001b[0m\n\u001b[1;32m     13\u001b[0m           \u001b[0mepochs\u001b[0m\u001b[0;34m=\u001b[0m\u001b[0;36m50\u001b[0m\u001b[0;34m,\u001b[0m\u001b[0;34m\u001b[0m\u001b[0;34m\u001b[0m\u001b[0m\n\u001b[1;32m     14\u001b[0m           \u001b[0mcallbacks\u001b[0m\u001b[0;34m=\u001b[0m\u001b[0mget_callbacks\u001b[0m\u001b[0;34m(\u001b[0m\u001b[0mearly_stop\u001b[0m \u001b[0;34m=\u001b[0m \u001b[0;32mFalse\u001b[0m\u001b[0;34m,\u001b[0m \u001b[0msave_model\u001b[0m\u001b[0;34m=\u001b[0m\u001b[0;32mTrue\u001b[0m\u001b[0;34m,\u001b[0m \u001b[0mexercise_name\u001b[0m\u001b[0;34m=\u001b[0m\u001b[0mname\u001b[0m\u001b[0;34m)\u001b[0m\u001b[0;34m,\u001b[0m\u001b[0;34m\u001b[0m\u001b[0;34m\u001b[0m\u001b[0m\n\u001b[0;32m---> 15\u001b[0;31m           verbose=0)\n\u001b[0m\u001b[1;32m     16\u001b[0m \u001b[0;34m\u001b[0m\u001b[0m\n\u001b[1;32m     17\u001b[0m     \u001b[0moptimizer_name\u001b[0m \u001b[0;34m=\u001b[0m \u001b[0mstr\u001b[0m\u001b[0;34m(\u001b[0m\u001b[0moptimizer\u001b[0m\u001b[0;34m)\u001b[0m\u001b[0;34m.\u001b[0m\u001b[0msplit\u001b[0m\u001b[0;34m(\u001b[0m\u001b[0;34m\".\"\u001b[0m\u001b[0;34m)\u001b[0m\u001b[0;34m[\u001b[0m\u001b[0;34m-\u001b[0m\u001b[0;36m1\u001b[0m\u001b[0;34m]\u001b[0m\u001b[0;34m.\u001b[0m\u001b[0mreplace\u001b[0m\u001b[0;34m(\u001b[0m\u001b[0;34m'>'\u001b[0m\u001b[0;34m,\u001b[0m \u001b[0;34m''\u001b[0m\u001b[0;34m)\u001b[0m\u001b[0;34m.\u001b[0m\u001b[0mreplace\u001b[0m\u001b[0;34m(\u001b[0m\u001b[0;34m\"'\"\u001b[0m\u001b[0;34m,\u001b[0m \u001b[0;34m\"\"\u001b[0m\u001b[0;34m)\u001b[0m\u001b[0;34m\u001b[0m\u001b[0;34m\u001b[0m\u001b[0m\n",
            "\u001b[0;32m<ipython-input-490-17788b13d179>\u001b[0m in \u001b[0;36mfit_custom\u001b[0;34m(exercise_name, model, x, y, validation_data, epochs, callbacks, verbose)\u001b[0m\n\u001b[1;32m     51\u001b[0m   \u001b[0;32mif\u001b[0m \u001b[0;32mnot\u001b[0m \u001b[0mos\u001b[0m\u001b[0;34m.\u001b[0m\u001b[0mpath\u001b[0m\u001b[0;34m.\u001b[0m\u001b[0misfile\u001b[0m\u001b[0;34m(\u001b[0m\u001b[0mpath_history\u001b[0m\u001b[0;34m)\u001b[0m\u001b[0;34m:\u001b[0m\u001b[0;34m\u001b[0m\u001b[0;34m\u001b[0m\u001b[0m\n\u001b[1;32m     52\u001b[0m     \u001b[0mprint\u001b[0m\u001b[0;34m(\u001b[0m\u001b[0;34m\"Begin to train the model {0}.\"\u001b[0m\u001b[0;34m.\u001b[0m\u001b[0mformat\u001b[0m\u001b[0;34m(\u001b[0m\u001b[0mexercise_name\u001b[0m\u001b[0;34m)\u001b[0m\u001b[0;34m)\u001b[0m\u001b[0;34m\u001b[0m\u001b[0;34m\u001b[0m\u001b[0m\n\u001b[0;32m---> 53\u001b[0;31m     \u001b[0mfit_output\u001b[0m \u001b[0;34m=\u001b[0m \u001b[0mmodel\u001b[0m\u001b[0;34m.\u001b[0m\u001b[0mfit\u001b[0m\u001b[0;34m(\u001b[0m\u001b[0mx\u001b[0m\u001b[0;34m=\u001b[0m\u001b[0mx\u001b[0m\u001b[0;34m,\u001b[0m \u001b[0my\u001b[0m\u001b[0;34m=\u001b[0m\u001b[0my\u001b[0m\u001b[0;34m,\u001b[0m \u001b[0mvalidation_data\u001b[0m\u001b[0;34m=\u001b[0m\u001b[0mvalidation_data\u001b[0m\u001b[0;34m,\u001b[0m \u001b[0mepochs\u001b[0m\u001b[0;34m=\u001b[0m\u001b[0mepochs\u001b[0m\u001b[0;34m,\u001b[0m \u001b[0mcallbacks\u001b[0m\u001b[0;34m=\u001b[0m\u001b[0mcallbacks\u001b[0m\u001b[0;34m,\u001b[0m \u001b[0mverbose\u001b[0m\u001b[0;34m=\u001b[0m\u001b[0mverbose\u001b[0m\u001b[0;34m)\u001b[0m\u001b[0;34m\u001b[0m\u001b[0;34m\u001b[0m\u001b[0m\n\u001b[0m\u001b[1;32m     54\u001b[0m     \u001b[0mprint\u001b[0m\u001b[0;34m(\u001b[0m\u001b[0;34m\"Finished training the model {0}.\"\u001b[0m\u001b[0;34m.\u001b[0m\u001b[0mformat\u001b[0m\u001b[0;34m(\u001b[0m\u001b[0mexercise_name\u001b[0m\u001b[0;34m)\u001b[0m\u001b[0;34m)\u001b[0m\u001b[0;34m\u001b[0m\u001b[0;34m\u001b[0m\u001b[0m\n\u001b[1;32m     55\u001b[0m     \u001b[0mhistory\u001b[0m \u001b[0;34m=\u001b[0m \u001b[0mfit_output\u001b[0m\u001b[0;34m.\u001b[0m\u001b[0mhistory\u001b[0m\u001b[0;34m\u001b[0m\u001b[0;34m\u001b[0m\u001b[0m\n",
            "\u001b[0;32m/usr/local/lib/python3.7/dist-packages/tensorflow/python/keras/engine/training.py\u001b[0m in \u001b[0;36mfit\u001b[0;34m(self, x, y, batch_size, epochs, verbose, callbacks, validation_split, validation_data, shuffle, class_weight, sample_weight, initial_epoch, steps_per_epoch, validation_steps, validation_batch_size, validation_freq, max_queue_size, workers, use_multiprocessing)\u001b[0m\n\u001b[1;32m   1139\u001b[0m               \u001b[0mworkers\u001b[0m\u001b[0;34m=\u001b[0m\u001b[0mworkers\u001b[0m\u001b[0;34m,\u001b[0m\u001b[0;34m\u001b[0m\u001b[0;34m\u001b[0m\u001b[0m\n\u001b[1;32m   1140\u001b[0m               \u001b[0muse_multiprocessing\u001b[0m\u001b[0;34m=\u001b[0m\u001b[0muse_multiprocessing\u001b[0m\u001b[0;34m,\u001b[0m\u001b[0;34m\u001b[0m\u001b[0;34m\u001b[0m\u001b[0m\n\u001b[0;32m-> 1141\u001b[0;31m               return_dict=True)\n\u001b[0m\u001b[1;32m   1142\u001b[0m           \u001b[0mval_logs\u001b[0m \u001b[0;34m=\u001b[0m \u001b[0;34m{\u001b[0m\u001b[0;34m'val_'\u001b[0m \u001b[0;34m+\u001b[0m \u001b[0mname\u001b[0m\u001b[0;34m:\u001b[0m \u001b[0mval\u001b[0m \u001b[0;32mfor\u001b[0m \u001b[0mname\u001b[0m\u001b[0;34m,\u001b[0m \u001b[0mval\u001b[0m \u001b[0;32min\u001b[0m \u001b[0mval_logs\u001b[0m\u001b[0;34m.\u001b[0m\u001b[0mitems\u001b[0m\u001b[0;34m(\u001b[0m\u001b[0;34m)\u001b[0m\u001b[0;34m}\u001b[0m\u001b[0;34m\u001b[0m\u001b[0;34m\u001b[0m\u001b[0m\n\u001b[1;32m   1143\u001b[0m           \u001b[0mepoch_logs\u001b[0m\u001b[0;34m.\u001b[0m\u001b[0mupdate\u001b[0m\u001b[0;34m(\u001b[0m\u001b[0mval_logs\u001b[0m\u001b[0;34m)\u001b[0m\u001b[0;34m\u001b[0m\u001b[0;34m\u001b[0m\u001b[0m\n",
            "\u001b[0;32m/usr/local/lib/python3.7/dist-packages/tensorflow/python/keras/engine/training.py\u001b[0m in \u001b[0;36mevaluate\u001b[0;34m(self, x, y, batch_size, verbose, sample_weight, steps, callbacks, max_queue_size, workers, use_multiprocessing, return_dict)\u001b[0m\n\u001b[1;32m   1387\u001b[0m             \u001b[0;32mwith\u001b[0m \u001b[0mtrace\u001b[0m\u001b[0;34m.\u001b[0m\u001b[0mTrace\u001b[0m\u001b[0;34m(\u001b[0m\u001b[0;34m'test'\u001b[0m\u001b[0;34m,\u001b[0m \u001b[0mstep_num\u001b[0m\u001b[0;34m=\u001b[0m\u001b[0mstep\u001b[0m\u001b[0;34m,\u001b[0m \u001b[0m_r\u001b[0m\u001b[0;34m=\u001b[0m\u001b[0;36m1\u001b[0m\u001b[0;34m)\u001b[0m\u001b[0;34m:\u001b[0m\u001b[0;34m\u001b[0m\u001b[0;34m\u001b[0m\u001b[0m\n\u001b[1;32m   1388\u001b[0m               \u001b[0mcallbacks\u001b[0m\u001b[0;34m.\u001b[0m\u001b[0mon_test_batch_begin\u001b[0m\u001b[0;34m(\u001b[0m\u001b[0mstep\u001b[0m\u001b[0;34m)\u001b[0m\u001b[0;34m\u001b[0m\u001b[0;34m\u001b[0m\u001b[0m\n\u001b[0;32m-> 1389\u001b[0;31m               \u001b[0mtmp_logs\u001b[0m \u001b[0;34m=\u001b[0m \u001b[0mself\u001b[0m\u001b[0;34m.\u001b[0m\u001b[0mtest_function\u001b[0m\u001b[0;34m(\u001b[0m\u001b[0miterator\u001b[0m\u001b[0;34m)\u001b[0m\u001b[0;34m\u001b[0m\u001b[0;34m\u001b[0m\u001b[0m\n\u001b[0m\u001b[1;32m   1390\u001b[0m               \u001b[0;32mif\u001b[0m \u001b[0mdata_handler\u001b[0m\u001b[0;34m.\u001b[0m\u001b[0mshould_sync\u001b[0m\u001b[0;34m:\u001b[0m\u001b[0;34m\u001b[0m\u001b[0;34m\u001b[0m\u001b[0m\n\u001b[1;32m   1391\u001b[0m                 \u001b[0mcontext\u001b[0m\u001b[0;34m.\u001b[0m\u001b[0masync_wait\u001b[0m\u001b[0;34m(\u001b[0m\u001b[0;34m)\u001b[0m\u001b[0;34m\u001b[0m\u001b[0;34m\u001b[0m\u001b[0m\n",
            "\u001b[0;32m/usr/local/lib/python3.7/dist-packages/tensorflow/python/eager/def_function.py\u001b[0m in \u001b[0;36m__call__\u001b[0;34m(self, *args, **kwds)\u001b[0m\n\u001b[1;32m    826\u001b[0m     \u001b[0mtracing_count\u001b[0m \u001b[0;34m=\u001b[0m \u001b[0mself\u001b[0m\u001b[0;34m.\u001b[0m\u001b[0mexperimental_get_tracing_count\u001b[0m\u001b[0;34m(\u001b[0m\u001b[0;34m)\u001b[0m\u001b[0;34m\u001b[0m\u001b[0;34m\u001b[0m\u001b[0m\n\u001b[1;32m    827\u001b[0m     \u001b[0;32mwith\u001b[0m \u001b[0mtrace\u001b[0m\u001b[0;34m.\u001b[0m\u001b[0mTrace\u001b[0m\u001b[0;34m(\u001b[0m\u001b[0mself\u001b[0m\u001b[0;34m.\u001b[0m\u001b[0m_name\u001b[0m\u001b[0;34m)\u001b[0m \u001b[0;32mas\u001b[0m \u001b[0mtm\u001b[0m\u001b[0;34m:\u001b[0m\u001b[0;34m\u001b[0m\u001b[0;34m\u001b[0m\u001b[0m\n\u001b[0;32m--> 828\u001b[0;31m       \u001b[0mresult\u001b[0m \u001b[0;34m=\u001b[0m \u001b[0mself\u001b[0m\u001b[0;34m.\u001b[0m\u001b[0m_call\u001b[0m\u001b[0;34m(\u001b[0m\u001b[0;34m*\u001b[0m\u001b[0margs\u001b[0m\u001b[0;34m,\u001b[0m \u001b[0;34m**\u001b[0m\u001b[0mkwds\u001b[0m\u001b[0;34m)\u001b[0m\u001b[0;34m\u001b[0m\u001b[0;34m\u001b[0m\u001b[0m\n\u001b[0m\u001b[1;32m    829\u001b[0m       \u001b[0mcompiler\u001b[0m \u001b[0;34m=\u001b[0m \u001b[0;34m\"xla\"\u001b[0m \u001b[0;32mif\u001b[0m \u001b[0mself\u001b[0m\u001b[0;34m.\u001b[0m\u001b[0m_experimental_compile\u001b[0m \u001b[0;32melse\u001b[0m \u001b[0;34m\"nonXla\"\u001b[0m\u001b[0;34m\u001b[0m\u001b[0;34m\u001b[0m\u001b[0m\n\u001b[1;32m    830\u001b[0m       \u001b[0mnew_tracing_count\u001b[0m \u001b[0;34m=\u001b[0m \u001b[0mself\u001b[0m\u001b[0;34m.\u001b[0m\u001b[0mexperimental_get_tracing_count\u001b[0m\u001b[0;34m(\u001b[0m\u001b[0;34m)\u001b[0m\u001b[0;34m\u001b[0m\u001b[0;34m\u001b[0m\u001b[0m\n",
            "\u001b[0;32m/usr/local/lib/python3.7/dist-packages/tensorflow/python/eager/def_function.py\u001b[0m in \u001b[0;36m_call\u001b[0;34m(self, *args, **kwds)\u001b[0m\n\u001b[1;32m    860\u001b[0m       \u001b[0;31m# In this case we have not created variables on the first call. So we can\u001b[0m\u001b[0;34m\u001b[0m\u001b[0;34m\u001b[0m\u001b[0;34m\u001b[0m\u001b[0m\n\u001b[1;32m    861\u001b[0m       \u001b[0;31m# run the first trace but we should fail if variables are created.\u001b[0m\u001b[0;34m\u001b[0m\u001b[0;34m\u001b[0m\u001b[0;34m\u001b[0m\u001b[0m\n\u001b[0;32m--> 862\u001b[0;31m       \u001b[0mresults\u001b[0m \u001b[0;34m=\u001b[0m \u001b[0mself\u001b[0m\u001b[0;34m.\u001b[0m\u001b[0m_stateful_fn\u001b[0m\u001b[0;34m(\u001b[0m\u001b[0;34m*\u001b[0m\u001b[0margs\u001b[0m\u001b[0;34m,\u001b[0m \u001b[0;34m**\u001b[0m\u001b[0mkwds\u001b[0m\u001b[0;34m)\u001b[0m\u001b[0;34m\u001b[0m\u001b[0;34m\u001b[0m\u001b[0m\n\u001b[0m\u001b[1;32m    863\u001b[0m       \u001b[0;32mif\u001b[0m \u001b[0mself\u001b[0m\u001b[0;34m.\u001b[0m\u001b[0m_created_variables\u001b[0m\u001b[0;34m:\u001b[0m\u001b[0;34m\u001b[0m\u001b[0;34m\u001b[0m\u001b[0m\n\u001b[1;32m    864\u001b[0m         raise ValueError(\"Creating variables on a non-first call to a function\"\n",
            "\u001b[0;32m/usr/local/lib/python3.7/dist-packages/tensorflow/python/eager/function.py\u001b[0m in \u001b[0;36m__call__\u001b[0;34m(self, *args, **kwargs)\u001b[0m\n\u001b[1;32m   2941\u001b[0m        filtered_flat_args) = self._maybe_define_function(args, kwargs)\n\u001b[1;32m   2942\u001b[0m     return graph_function._call_flat(\n\u001b[0;32m-> 2943\u001b[0;31m         filtered_flat_args, captured_inputs=graph_function.captured_inputs)  # pylint: disable=protected-access\n\u001b[0m\u001b[1;32m   2944\u001b[0m \u001b[0;34m\u001b[0m\u001b[0m\n\u001b[1;32m   2945\u001b[0m   \u001b[0;34m@\u001b[0m\u001b[0mproperty\u001b[0m\u001b[0;34m\u001b[0m\u001b[0;34m\u001b[0m\u001b[0m\n",
            "\u001b[0;32m/usr/local/lib/python3.7/dist-packages/tensorflow/python/eager/function.py\u001b[0m in \u001b[0;36m_call_flat\u001b[0;34m(self, args, captured_inputs, cancellation_manager)\u001b[0m\n\u001b[1;32m   1917\u001b[0m       \u001b[0;31m# No tape is watching; skip to running the function.\u001b[0m\u001b[0;34m\u001b[0m\u001b[0;34m\u001b[0m\u001b[0;34m\u001b[0m\u001b[0m\n\u001b[1;32m   1918\u001b[0m       return self._build_call_outputs(self._inference_function.call(\n\u001b[0;32m-> 1919\u001b[0;31m           ctx, args, cancellation_manager=cancellation_manager))\n\u001b[0m\u001b[1;32m   1920\u001b[0m     forward_backward = self._select_forward_and_backward_functions(\n\u001b[1;32m   1921\u001b[0m         \u001b[0margs\u001b[0m\u001b[0;34m,\u001b[0m\u001b[0;34m\u001b[0m\u001b[0;34m\u001b[0m\u001b[0m\n",
            "\u001b[0;32m/usr/local/lib/python3.7/dist-packages/tensorflow/python/eager/function.py\u001b[0m in \u001b[0;36mcall\u001b[0;34m(self, ctx, args, cancellation_manager)\u001b[0m\n\u001b[1;32m    558\u001b[0m               \u001b[0minputs\u001b[0m\u001b[0;34m=\u001b[0m\u001b[0margs\u001b[0m\u001b[0;34m,\u001b[0m\u001b[0;34m\u001b[0m\u001b[0;34m\u001b[0m\u001b[0m\n\u001b[1;32m    559\u001b[0m               \u001b[0mattrs\u001b[0m\u001b[0;34m=\u001b[0m\u001b[0mattrs\u001b[0m\u001b[0;34m,\u001b[0m\u001b[0;34m\u001b[0m\u001b[0;34m\u001b[0m\u001b[0m\n\u001b[0;32m--> 560\u001b[0;31m               ctx=ctx)\n\u001b[0m\u001b[1;32m    561\u001b[0m         \u001b[0;32melse\u001b[0m\u001b[0;34m:\u001b[0m\u001b[0;34m\u001b[0m\u001b[0;34m\u001b[0m\u001b[0m\n\u001b[1;32m    562\u001b[0m           outputs = execute.execute_with_cancellation(\n",
            "\u001b[0;32m/usr/local/lib/python3.7/dist-packages/tensorflow/python/eager/execute.py\u001b[0m in \u001b[0;36mquick_execute\u001b[0;34m(op_name, num_outputs, inputs, attrs, ctx, name)\u001b[0m\n\u001b[1;32m     58\u001b[0m     \u001b[0mctx\u001b[0m\u001b[0;34m.\u001b[0m\u001b[0mensure_initialized\u001b[0m\u001b[0;34m(\u001b[0m\u001b[0;34m)\u001b[0m\u001b[0;34m\u001b[0m\u001b[0;34m\u001b[0m\u001b[0m\n\u001b[1;32m     59\u001b[0m     tensors = pywrap_tfe.TFE_Py_Execute(ctx._handle, device_name, op_name,\n\u001b[0;32m---> 60\u001b[0;31m                                         inputs, attrs, num_outputs)\n\u001b[0m\u001b[1;32m     61\u001b[0m   \u001b[0;32mexcept\u001b[0m \u001b[0mcore\u001b[0m\u001b[0;34m.\u001b[0m\u001b[0m_NotOkStatusException\u001b[0m \u001b[0;32mas\u001b[0m \u001b[0me\u001b[0m\u001b[0;34m:\u001b[0m\u001b[0;34m\u001b[0m\u001b[0;34m\u001b[0m\u001b[0m\n\u001b[1;32m     62\u001b[0m     \u001b[0;32mif\u001b[0m \u001b[0mname\u001b[0m \u001b[0;32mis\u001b[0m \u001b[0;32mnot\u001b[0m \u001b[0;32mNone\u001b[0m\u001b[0;34m:\u001b[0m\u001b[0;34m\u001b[0m\u001b[0;34m\u001b[0m\u001b[0m\n",
            "\u001b[0;31mKeyboardInterrupt\u001b[0m: "
          ]
        },
        {
          "output_type": "display_data",
          "data": {
            "image/png": "[encoded data removed]",
            "text/plain": [
              "<Figure size 432x288 with 2 Axes>"
            ]
          },
          "metadata": {
            "tags": [],
            "needs_background": "light"
          }
        },
        {
          "output_type": "display_data",
          "data": {
            "image/png": "[encoded data removed]",
            "text/plain": [
              "<Figure size 432x288 with 2 Axes>"
            ]
          },
          "metadata": {
            "tags": [],
            "needs_background": "light"
          }
        },
        {
          "output_type": "display_data",
          "data": {
            "image/png": "[encoded data removed]",
            "text/plain": [
              "<Figure size 432x288 with 2 Axes>"
            ]
          },
          "metadata": {
            "tags": [],
            "needs_background": "light"
          }
        }
      ]
    },
    {
      "cell_type": "markdown",
      "metadata": {
        "id": "jwlnJS6JFac4"
      },
      "source": [
        "#### Exercise 3.3\n",
        "\n",
        "Replace the stochastic gradient descent optimizer with the [Adam optimizer](https://keras.io/optimizers/#adam) (you can use the default learning rate)."
      ]
    },
    {
      "cell_type": "code",
      "metadata": {
        "id": "pdGpkqGNYQGc"
      },
      "source": [
        "def get_model_ex_3_3(learning_rate):\n",
        "  \"\"\"Create a model with 1 hidden layer and 128 units, compiled with Adam optimizer.\"\"\"\n",
        "  return get_model(input_dim=input_dim_mnist, layers=1, h=128, optimizer=Adam, lr=learning_rate)"
      ],
      "execution_count": null,
      "outputs": []
    },
    {
      "cell_type": "code",
      "metadata": {
        "id": "yYnNbIbhFXQC"
      },
      "source": [
        "adam_lr = 0.001\n",
        "histories_adam = train_with_various_lr(\n",
        "    exercise_name='ex_3.3', \n",
        "    model = get_model_ex_3_3,\n",
        "    learning_rates=[adam_lr], \n",
        "    optimizer=Adam)"
      ],
      "execution_count": null,
      "outputs": []
    },
    {
      "cell_type": "markdown",
      "metadata": {
        "id": "d4nlIXiGL58O"
      },
      "source": [
        "#### Exercise 3.4\n",
        "\n",
        "Plot the learning curves of SGD with a good learning rate (i.e. in the range [0.01,0.1]) together with the learning curves of Adam in the same figure. Take care of a reasonable labeling of the curves in the plot.\n"
      ]
    },
    {
      "cell_type": "code",
      "metadata": {
        "id": "CJNmTC4fMl4i"
      },
      "source": [
        "sgd_lr = 0.01\n",
        "history_good_sgd = histories_sgd[learning_rates.index(sgd_lr)]\n",
        "comparison_plot_custom(\n",
        "    history_good_sgd, \n",
        "    histories_adam[0], \n",
        "    \"SGD (LR {0})\".format(sgd_lr), \n",
        "    \"Adam(LR {0})\".format(adam_lr), \n",
        "    \"Optimizer Comparison\");"
      ],
      "execution_count": null,
      "outputs": []
    },
    {
      "cell_type": "markdown",
      "metadata": {
        "id": "Rmqo7WOOUOcE"
      },
      "source": [
        "#### Exercise 3.5\n",
        "Explain the qualitative difference between the loss and accuracy curves with respect to signs of overfitting. Report the best validation accuracy achieved for SGD and Adam. Which one is better and why do you think so?"
      ]
    },
    {
      "cell_type": "code",
      "metadata": {
        "id": "EUVfy9PHH9eF"
      },
      "source": [
        "print(\"Best validation accuracies:\")\n",
        "print(\"- SGD: {0}.\".format(round(max(history_good_sgd[\"val_accuracy\"]), 2)))\n",
        "print(\"- Adam: {0}.\".format(round(max(histories_adam[0][\"val_accuracy\"]), 2)))"
      ],
      "execution_count": null,
      "outputs": []
    },
    {
      "cell_type": "markdown",
      "metadata": {
        "id": "a1pi3qoPUOcE"
      },
      "source": [
        "### Exercise 3.6\n",
        "Determine the indices of all test images that are misclassified by the fitted model and plot some of them using the function `plot_some_samples`."
      ]
    },
    {
      "cell_type": "code",
      "metadata": {
        "id": "RBRa0vEuUOcF"
      },
      "source": [
        "models = [model_sgd, model_adam]\n",
        "for model in models:\n",
        "    y_pred = model.predict_on_batch(x_mnist_val_flat).argmax(axis=1)\n",
        "    indices = [i for i,v in enumerate(y_pred) if y_pred[i]!=y_mnist_val[i]]\n",
        "    x_wrongly_predicted = np.asarray([x_mnist_val_flat[i] for i in indices])\n",
        "    y_wrongly_predicted = np.asarray([y_pred[i] for i in indices])\n",
        "    y_true_prediction = np.asarray([y_mnist_val[i] for i in indices])\n",
        "    plot_some_samples_custom(x_wrongly_predicted, y_true_prediction, y_wrongly_predicted, ncols=6, nrows=4);"
      ],
      "execution_count": null,
      "outputs": []
    },
    {
      "cell_type": "markdown",
      "metadata": {
        "id": "-b33M0ko9yZD"
      },
      "source": [
        "#### Exercise 3.7\n",
        "\n",
        "7. Take $ p = 0.2 $ fraction of the data points from the training dataset of MNIST and change their class labels randomly. (You can sample a random integer from 0 to 9 using `np.random.uniform` and `np.floor`). Train with Adam for 50 or 100 epochs. Plot the learning curves. Do you observe overfitting in the validation accuracy? Does it take longer to converge to perfect training accuracy compare to noise-free MNIST? (2 pts)<br/>\n",
        "**=> The training accuracy is increasing, starting from 80% and reaching around 90% after 100 episodes. The validation accuracy on the other hand is decreasing from 95% to around 80% after 100 episodes. The model is definetly overfitting to the noise in the shifted MNIST dataset. It takes much longer to converge towards the perfect training accuracy on the noisy MNIST dataset.**"
      ]
    },
    {
      "cell_type": "code",
      "metadata": {
        "id": "AIx3HIYmCUX3"
      },
      "source": [
        "# Train with noisy labels\n",
        "y_mnist_train_1hot_noisy = noise_labels(y_mnist_train_1hot, p=0.2)\n",
        "history_adam_noisy = model.compile(optimizer=Adam(learning_rate=adam_lr), loss='categorical_crossentropy', metrics=[\"accuracy\"])\n",
        "history_adam_noisy = fit_custom('ex_3.7_lr_{0}'.format(adam_lr),\n",
        "                                model=model,\n",
        "                                x=x_mnist_tr_flat, \n",
        "                                y=y_mnist_train_1hot_noisy, \n",
        "                                validation_data=(x_mnist_val_flat, y_mnist_val_1hot),                                  \n",
        "                                epochs=100, \n",
        "                                callbacks=None)"
      ],
      "execution_count": null,
      "outputs": []
    },
    {
      "cell_type": "code",
      "metadata": {
        "id": "ixnEny9WCXn9"
      },
      "source": [
        "plot_history_custom(history_adam_noisy, \"Noisy MNIST learning with Adam (learning rate {0})\".format(adam_lr));"
      ],
      "execution_count": null,
      "outputs": []
    },
    {
      "cell_type": "code",
      "metadata": {
        "id": "b3YDfszKDSPN"
      },
      "source": [
        "comparison_plot_custom(histories_adam[0], history_adam_noisy, \"LR {0}\".format(adam_lr), \"Noisy, LR {0}\".format(adam_lr), \"MNIST Adam with and without noise\");"
      ],
      "execution_count": null,
      "outputs": []
    },
    {
      "cell_type": "markdown",
      "metadata": {
        "id": "oENMCYod9yZD"
      },
      "source": [
        "## Exercise 4: Model performance as a function of number of hidden neurons (8 + 2 points)\n",
        "\n",
        "Since the MNIST dataset is almost perfectly solved already by a one-hidden-layer network in Exercise 3, we use the Fashion-MNIST dataset from now on to compare the performances of more complex models. In this exercise, we investigate how the best validation loss and accuracy depends on the number of hidden neurons in a single layer.\n",
        "\n",
        "1. Fit at least 4 models with different number of hidden neurons (i.e. width) between 10 and 1000 to the Fashion-MNIST dataset. Train with Adam for 50-100 epochs. (2 pts)\n",
        "2. Plot the best validation loss and accuracy versus the width. Is the observed trend in accordance with the [general approximation theorem](https://en.wikipedia.org/wiki/Universal_approximation_theorem)? Do you observe an overfitting due to the complexity of the wider networks with more parameters? Report the best validation accuracy. (2 pts)\n",
        "3. Choose $ p \\geq 0.5 $ fraction of the data points from the training dataset of Fashion-MNIST and change their class labels randomly as in Exercise 3. For this noisy Fashion-MNIST dataset, fit at least 4 models with different widths between 10 and 250. Train with Adam for at least 150 epochs. Plot the best validation loss and accuracy vs. width. (2 pts)\n",
        "4. BONUS: Add random Gaussian noise on the input pixels with mean 0 and variance between 0.01-0.5 and use the original labels. For this noisy Fashion-MNIST dataset, fit at least 4 models with different widths between 10 and 250. Train with Adam for at least 150 epochs. Plot the best validation loss and accuracy vs. width. (2 pts)\n",
        "5. Answer to the same questions in 2 for the noisy Fashion-MNIST dataset(s). Comment on the differences between width-performence curves for these two (or three) datasets. (2 pts)\n",
        "\n",
        "In this exercise we fit each model only for one initialization and random seed. In practice one would collect some statistics (e.g. 25-, 50-, 75-percentiles) for each layer size by fitting each model several times with different initializations and the random seeds. You may also want to do this here. It is a good exercise, but not mandatory as it takes quite a bit of computation time."
      ]
    },
    {
      "cell_type": "markdown",
      "metadata": {
        "id": "DcWkSkaj9yZE"
      },
      "source": [
        "**Answer to Question 2** (max 2 sentences):\n",
        "The Universal Approximation Theorem states that a neural network with one hidden layer and unlimited number of hidden neurons can approximate any continuous function for inputs within a specific range and this can also be observed with our example, since the best training accuracy is steadily increasing with the number of hidden neurons.\n",
        "We can see that our different models are overfitting and the overfitting increases with an increasing number of hidden neurons.\n",
        "\n",
        "**Answer to Question 5** (max 3 sentences): \n",
        "Although the training and validation accuracy of exercise 4.3's models is quite low (since the 50% of the training labels got changed), we can still see that the training accuracy rises significantly with the number of hidden neurons (From 12% to 26%). A neural network with many hidden nodes is still able to learn this highly dataset correctly and achieve a high training accuracy (in accordance with the universal approximation theorem).\n",
        "In exercise 4.4 we can see that fitting to this slightly noisy dataset still works pretty well, although the model is also overfitting."
      ]
    },
    {
      "cell_type": "markdown",
      "metadata": {
        "id": "fMpbRWhR-TbE"
      },
      "source": [
        "#### Useful functions"
      ]
    },
    {
      "cell_type": "code",
      "metadata": {
        "id": "kCB4v25AjunD"
      },
      "source": [
        "def adam_various_neurons(exercise_name, x, y, validation_data, numbers_of_hidden_neurons=[10, 50, 100, 500, 1000], epochs=50, lr=0.001):\n",
        "  \"\"\"Train with Adam with various number of hidden neurons.\"\"\"\n",
        "  histories=[]\n",
        "  metrics = {\"neurons\":[], \"min_loss\":[], \"min_val_loss\":[], \"max_accuracy\":[], \"max_val_accuracy\":[]}\n",
        "\n",
        "  for number_of_hidden_neurons in numbers_of_hidden_neurons:\n",
        "    model = get_model(input_dim=input_dim_fashion, layers=1, h=number_of_hidden_neurons, optimizer=Adam, lr=lr)\n",
        "    history = fit_custom(exercise_name + \"_ANN-with-{0}-hidden-neurons\".format(number_of_hidden_neurons),\n",
        "                         model=model, epochs=epochs,\n",
        "                         x=x, \n",
        "                         y=y, \n",
        "                         validation_data=validation_data,                         \n",
        "                         callbacks=get_callbacks(early_stop = False, save_model=False))\n",
        "    histories.append(history)\n",
        "    print(metrics)\n",
        "    metrics[\"neurons\"].append(number_of_hidden_neurons)\n",
        "    metrics[\"min_loss\"].append(min(history[\"loss\"]))\n",
        "    metrics[\"min_val_loss\"].append(min(history[\"val_loss\"]))\n",
        "    metrics[\"max_accuracy\"].append(max(history[\"accuracy\"]))\n",
        "    metrics[\"max_val_accuracy\"].append(max(history[\"val_accuracy\"]))\n",
        "\n",
        "  return histories, metrics\n",
        "\n",
        "def plot_metrics(metrics):\n",
        "        fig, (ax1, ax2) = plt.subplots(1, 2)\n",
        "        fig.suptitle('Validation loss and accuracy / Number of hidden neurons')\n",
        "        fig.subplots_adjust(left=None, bottom=None, right=None, top=None, wspace=0.3, hspace=None)\n",
        "        fig.set_figheight(6)\n",
        "        fig.set_figwidth(12)\n",
        "        ax1.set_xscale('log')\n",
        "        ax1.set_ylabel(\"Validation loss\")\n",
        "        ax1.set_xlabel(\"number of hidden neurons\")\n",
        "        ax1.plot(metrics[\"neurons\"], metrics[\"min_loss\"])\n",
        "        ax1.plot(metrics[\"neurons\"], metrics[\"min_val_loss\"])\n",
        "        ax2.set_xscale('log')\n",
        "        ax2.set_ylabel(\"Validation accuracy\")\n",
        "        ax2.set_xlabel(\"number of hidden neurons\")\n",
        "        ax2.plot(metrics[\"neurons\"], metrics[\"max_accuracy\"]);\n",
        "        ax2.plot(metrics[\"neurons\"], metrics[\"max_val_accuracy\"]);\n",
        "        finalize_standardplot(fig, ax1, ax2)\n"
      ],
      "execution_count": null,
      "outputs": []
    },
    {
      "cell_type": "markdown",
      "metadata": {
        "id": "PKMbJRAKUOcI"
      },
      "source": [
        "#### Exercise 4.1\n",
        "Fit at least 4 models with different number of hidden neurons (i.e. width) between 10 and 1000 to the Fashion-MNIST dataset. Train with Adam for 50-100 epochs. (2 pts)"
      ]
    },
    {
      "cell_type": "code",
      "metadata": {
        "id": "lMLBhavDEQyI"
      },
      "source": [
        "_, metrics = adam_various_neurons(\n",
        "    exercise_name=\"ex_4.1\", \n",
        "    x=x_fashion_tr_flat,\n",
        "    y=y_mnist_fash_train_1hot, \n",
        "    validation_data=(x_fashion_val_flat, y_mnist_fash_val_1hot),\n",
        "    numbers_of_hidden_neurons=[10, 50, 100, 500, 1000],\n",
        "    epochs=50,\n",
        "    lr=adam_lr)"
      ],
      "execution_count": null,
      "outputs": []
    },
    {
      "cell_type": "markdown",
      "metadata": {
        "id": "HveKqgO3UZsT"
      },
      "source": [
        "#### Exercise 4.2\n",
        "Plot the best validation loss and accuracy versus the width. Is the observed trend in accordance with the general approximation theorem? Do you observe an overfitting due to the complexity of the wider networks with more parameters? Report the best validation accuracy. (2 pts)"
      ]
    },
    {
      "cell_type": "code",
      "metadata": {
        "id": "FXQgJ7bsaKzp"
      },
      "source": [
        "plot_metrics(metrics)"
      ],
      "execution_count": null,
      "outputs": []
    },
    {
      "cell_type": "markdown",
      "metadata": {
        "id": "Wt-x74BbUOcJ"
      },
      "source": [
        "#### Exercise 4.3\n",
        "Choose $ p \\geq 0.5 $ fraction of the data points from the training dataset of Fashion-MNIST and change their class labels randomly as in Exercise 3. For this noisy Fashion-MNIST dataset, fit at least 4 models with different widths between 10 and 250. Train with Adam for at least 150 epochs. Plot the best validation loss and accuracy vs. width. (2 pts)"
      ]
    },
    {
      "cell_type": "code",
      "metadata": {
        "id": "kgI2VKaItkWs"
      },
      "source": [
        "numbers_of_hidden_neurons=[10, 50, 100, 150, 200, 250]\n",
        "histories, metrics = adam_various_neurons(\n",
        "    exercise_name=\"ex_4.3\", \n",
        "    x=x_fashion_tr_flat, \n",
        "    y=noise_labels(y_mnist_fash_train_1hot, p=0.5), \n",
        "    validation_data=(x_fashion_val_flat, y_mnist_fash_val_1hot), \n",
        "    numbers_of_hidden_neurons=numbers_of_hidden_neurons,\n",
        "    epochs=150,\n",
        "    lr=adam_lr)"
      ],
      "execution_count": null,
      "outputs": []
    },
    {
      "cell_type": "code",
      "metadata": {
        "id": "nDgRT_n-aTdU"
      },
      "source": [
        "plot_metrics(metrics)"
      ],
      "execution_count": null,
      "outputs": []
    },
    {
      "cell_type": "markdown",
      "metadata": {
        "id": "uRQJHCh5UOcK"
      },
      "source": [
        "### Exercise 4.4\n",
        "Add random Gaussian noise on the input pixels with mean 0 and variance between 0.01-0.5 and use the original labels. For this noisy Fashion-MNIST dataset, fit at least 4 models with different widths between 10 and 250. Train with Adam for at least 150 epochs. Plot the best validation loss and accuracy vs. width. (2 pts)"
      ]
    },
    {
      "cell_type": "code",
      "metadata": {
        "id": "JJCpUimg2SYu"
      },
      "source": [
        "_, metrics = adam_various_neurons(\n",
        "    exercise_name=\"ex_4.4\", \n",
        "    x=x_fashion_tr_flat + normal(loc=0,scale=0.05,size=(x_fashion_tr_flat.shape)),\n",
        "    y=y_mnist_fash_train_1hot, \n",
        "    validation_data=(x_fashion_val_flat, y_mnist_fash_val_1hot), \n",
        "    numbers_of_hidden_neurons=numbers_of_hidden_neurons,\n",
        "    epochs=150,\n",
        "    lr=adam_lr)"
      ],
      "execution_count": null,
      "outputs": []
    },
    {
      "cell_type": "code",
      "metadata": {
        "id": "kL1V8A_gF9Gl"
      },
      "source": [
        "for i in range(len(numbers_of_hidden_neurons)):\n",
        "  plot_history_custom(histories[i], \"{0} hidden neurons\".format(numbers_of_hidden_neurons[i]));"
      ],
      "execution_count": null,
      "outputs": []
    },
    {
      "cell_type": "code",
      "metadata": {
        "id": "NPzqei2OUOcL"
      },
      "source": [
        "plot_metrics(metrics)"
      ],
      "execution_count": null,
      "outputs": []
    },
    {
      "cell_type": "markdown",
      "metadata": {
        "id": "O2Gb7mgSUmF7"
      },
      "source": [
        "## Exercise 5: Going deeper: tricks and regularization (10 + 2 points)\n",
        "\n",
        "Adding hidden layers to a deep network does not necessarily lead to a straight-forward improvement of performance. We use Fashion-MNIST dataset in this exercise.  \n",
        "\n",
        "1. Choose a width $ h $ between 50-200 and use at least two hidden layers with $ h $ hidden neurons (each) and train the network for at least 150 epochs. (2 pts)\n",
        "2. Plot the learning curves and report the best validation accuracy. Do you observe overfitting? (2 pts)\n",
        "3. Keep the network at the same size. Use a very large l2 regularization $\\lambda$ (for ex. $\\lambda=1$) and a small one (for ex. $\\lambda=0.001$) on kernel weights and report the validation accuracies. What do you observe?  (2 pts)\n",
        "4. Turn off the $ \\ell_2 $ regularization and use a large dropout rate (for ex. 0.5) and a small one (for ex. 0.05) at all hidden layers and report the validation accuracies. What do you observe? (2 pts)\n",
        "5. BONUS: Try built-in data augmentation methods as a way to regularize: this may include horizontal flipping of the images or small rotations. You can use built-in methods in Keras. Report the augmentation method you used and the best validation accuracy. (2 pts)\n",
        "\n",
        "Note that one needs to cross-validate to find the right regularization parameter for the model you chose and for the dataset at hand. However we do not enforce this hyperparameter search as it takes long computation times but it is a good practice if you try it here. \n",
        "\n",
        "6. Compare the validation accuracies resulting from your attempts to reduce overfitting. Did you improve the validation accuracy? If not, comment on the possible sources of failure. (2 pts)"
      ]
    },
    {
      "cell_type": "markdown",
      "metadata": {
        "id": "LzX8ezheUmF7"
      },
      "source": [
        "**Answer to Question 2** (max 1 sentence):<br/>\n",
        "Overfitting can be observed in the training process since the loss is decreasing but the validation loss is increasing and the validation accuracy levels out after 25 epochs although the training accuracy still keeps increasing.\n",
        "\n",
        "Best validation accuracy: 0.85.\n",
        "\n",
        "**Answer to Question 3** (max 2 sentences): \n",
        "With lambda equals 1 the best validation accuracy is 0, and .9 with lambda equals 0.001 the best validation accuracy is 0.89, almost the same. But with the lambda equals 1, the training converges faster (only after 5 epochs), then the learning has no more effect, and it slightly overfit.\n",
        "\n",
        "**Answer to Question 4** (max 2 sentences): \n",
        "With dropout equals 0.5, the best validation accuracy is 0.64 and with dropout equals 0.05, the best validation accuracy is 0.86. With the dropout at 0.5 the training converges faster (only after 5 epochs), then the learning has no more effect, and then it doesn't learn anymore.\n",
        "\n",
        "**Answer to Question 5 (BONUS)** (max 2 sentences):\n",
        "With data augmentation, the best validation accuracy is 0.88, so similar to previous ones. We notice that the learning is longer.\n",
        "\n",
        "**Answer to Question 6** (max 2 sentences): \n",
        "Our attempts where succeful to reduce overfitting, but not to improve the validation accuracy.\n"
      ]
    },
    {
      "cell_type": "markdown",
      "metadata": {
        "id": "Q3v2V_woX-r4"
      },
      "source": [
        "### Solution"
      ]
    },
    {
      "cell_type": "markdown",
      "metadata": {
        "id": "h0P5vrtGYmcO"
      },
      "source": [
        "#### Useful functions"
      ]
    },
    {
      "cell_type": "code",
      "metadata": {
        "id": "w082YDpt5foj"
      },
      "source": [
        "def unison_shuffled(a, b):\n",
        "    \"\"\"Shuffle both inputs along first axis in the same way.\"\"\"\n",
        "    assert len(a) == len(b)\n",
        "    p = np.random.permutation(len(a))\n",
        "    return a[p], b[p]\n",
        "\n",
        "def add_depth_to_images(images):\n",
        "  \"\"\"set depth at 1 for all images of the dataset.\"\"\"\n",
        "  new_shape = (-1, images.shape[1], images.shape[2], 1)\n",
        "  return np.reshape(images, new_shape)\n",
        "\n",
        "def data_augmentation(images, labels, batch_size):\n",
        "\n",
        "  data_gen_args = dict(featurewise_center=False,\n",
        "                    featurewise_std_normalization=False,\n",
        "                    rotation_range=15,\n",
        "                    width_shift_range=0.1,\n",
        "                    height_shift_range=0.1,\n",
        "                    horizontal_flip=True)\n",
        "  \n",
        "  # set depth at 1 \n",
        "  images = add_depth_to_images(images)\n",
        "\n",
        "  image_datagen = ImageDataGenerator(**data_gen_args)\n",
        "  image_datagen.fit(images, augment=True)\n",
        "  image_generator = image_datagen.flow(images, labels,\n",
        "    batch_size=batch_size)\n",
        "\n",
        "  return image_generator"
      ],
      "execution_count": null,
      "outputs": []
    },
    {
      "cell_type": "markdown",
      "metadata": {
        "id": "NSQJfhZVUmF8"
      },
      "source": [
        "#### Exercise 5.1\n",
        "Choose a width $ h $ between 50-200 and use at least two hidden layers with $ h $ hidden neurons (each) and train the network for at least 150 epochs.\n",
        "#### Exercise 5.2\n",
        "Plot the learning curves and report the best validation accuracy. Do you observe overfitting?\n"
      ]
    },
    {
      "cell_type": "code",
      "metadata": {
        "id": "yhEOqRuMsQsb"
      },
      "source": [
        "h = 128\n",
        "history = fit_custom_(\n",
        "    exercise_name='ex_5.2_h_{0}'.format(h),\n",
        "    model=get_model(input_dim=input_dim_mnist, layers=2, h=h, optimizer=SGD, lr=0.01), \n",
        "    x_train=x_fashion_tr_flat, \n",
        "    y_train=y_mnist_fash_train_1hot, \n",
        "    x_val=x_fashion_val_flat,\n",
        "    y_val=y_mnist_fash_val_1hot, \n",
        "    epochs=150)"
      ],
      "execution_count": null,
      "outputs": []
    },
    {
      "cell_type": "code",
      "metadata": {
        "id": "4L99Grhrzw8T"
      },
      "source": [
        "plot_history_custom(history, \"Fashion MNIST learning with two hidden layers (h = {0})\".format(h));"
      ],
      "execution_count": null,
      "outputs": []
    },
    {
      "cell_type": "code",
      "metadata": {
        "id": "qNh71FOR0OlR"
      },
      "source": [
        "print(\"For Fashion MNIST learning with two hidden layers (h = {0}), the best validation accuracy is {0}.\".format(round(max(history[\"val_accuracy\"]), 2)))"
      ],
      "execution_count": null,
      "outputs": []
    },
    {
      "cell_type": "markdown",
      "metadata": {
        "id": "K9nh4tRimYD8"
      },
      "source": [
        "#### Exercise 5.3\n",
        "Keep the network at the same size. Use a very large l2 regularization $\\lambda$ (for ex. $\\lambda=1$) and a small one (for ex. $\\lambda=0.001$) on kernel weights and report the validation accuracies. What do you observe?"
      ]
    },
    {
      "cell_type": "code",
      "metadata": {
        "id": "-zuVW_yj2VE0"
      },
      "source": [
        "l2 = 1\n",
        "history = fit_custom_(exercise_name='ex_5.3.1_h_{0}_l2_{1}'.format(h, l2),\n",
        "                     model=get_model(input_dim=input_dim_mnist, layers=2, h=h, optimizer=SGD, lr=0.01, l2=l2), \n",
        "                     x_train=x_fashion_tr_flat,\n",
        "                     y_train=y_mnist_fash_train_1hot, \n",
        "                     x_val=x_fashion_val_flat,\n",
        "                     y_val=y_mnist_fash_val_1hot,                      \n",
        "                     epochs=150)"
      ],
      "execution_count": null,
      "outputs": []
    },
    {
      "cell_type": "code",
      "metadata": {
        "id": "CQ_RLy0s3f-K"
      },
      "source": [
        "plot_history_custom(history, \"Fashion MNIST learning with two hidden layers (h = {0}, l2 = {1})\".format(h, l2));"
      ],
      "execution_count": null,
      "outputs": []
    },
    {
      "cell_type": "code",
      "metadata": {
        "id": "u_DO4dzj55vS"
      },
      "source": [
        "print(\"With l2 regularization (lambda = {0}), the best validation accuracy is {01}.\".format(l2, round(max(history[\"val_accuracy\"]), 2)))"
      ],
      "execution_count": null,
      "outputs": []
    },
    {
      "cell_type": "code",
      "metadata": {
        "id": "2lSdCB306BFC"
      },
      "source": [
        "l2 = 0.001\n",
        "history = fit_custom_(exercise_name='ex_5.3.2_h_{0}_l2_{1}'.format(h, l2),\n",
        "                     model=get_model(input_dim=input_dim_mnist, layers=2, h=h, optimizer=SGD, lr=0.01, l2=l2),\n",
        "                     x_train=x_fashion_tr_flat, \n",
        "                     y_train=y_mnist_fash_train_1hot, \n",
        "                     x_val=x_fashion_val_flat,\n",
        "                     y_val=y_mnist_fash_val_1hot,                      \n",
        "                     epochs=150)"
      ],
      "execution_count": null,
      "outputs": []
    },
    {
      "cell_type": "code",
      "metadata": {
        "id": "GfwG9D7z6AhF"
      },
      "source": [
        "plot_history_custom(history, \"Fashion MNIST learning with two hidden layers (h = {0}, l2 = {1})\".format(h, l2));"
      ],
      "execution_count": null,
      "outputs": []
    },
    {
      "cell_type": "code",
      "metadata": {
        "id": "9y1Zw0oC9HWd"
      },
      "source": [
        "print(\"With l2 regularization (lambda = {0}), the best validation accuracy is {01}.\".format(l2, round(max(history[\"val_accuracy\"]), 2)))"
      ],
      "execution_count": null,
      "outputs": []
    },
    {
      "cell_type": "markdown",
      "metadata": {
        "id": "9httDcZInLhz"
      },
      "source": [
        "#### Exercise 5.4\n",
        "Turn off the $ \\ell_2 $ regularization and use a large dropout rate (for ex. 0.5) and a small one (for ex. 0.05) at all hidden layers and report the validation accuracies. What do you observe?"
      ]
    },
    {
      "cell_type": "code",
      "metadata": {
        "id": "Fy7c047lEL39",
        "colab": {
          "base_uri": "https://localhost:8080/"
        },
        "outputId": "f1a51944-f9f8-4592-f1e7-baa15778bf4b"
      },
      "source": [
        "dropout = 0.5\n",
        "history = fit_custom_(exercise_name='ex_5.4_h_{0}_dropout_{1}'.format(h, dropout),\n",
        "                     x_train=x_fashion_tr_flat, \n",
        "                     y_train=y_mnist_fash_train_1hot, \n",
        "                     x_val=x_fashion_val_flat, \n",
        "                     y_val=y_mnist_fash_val_1hot, \n",
        "                     model=get_model(input_dim=input_dim_mnist, layers=2, h=h, optimizer=SGD, lr=0.01, dropout=dropout),\n",
        "                     epochs=150)"
      ],
      "execution_count": null,
      "outputs": [
        {
          "output_type": "stream",
          "text": [
            "Begin to train the model ex_5.4_h_128_dropout_0.5.\n",
            "Finished training the model ex_5.4_h_128_dropout_0.5.\n"
          ],
          "name": "stdout"
        }
      ]
    },
    {
      "cell_type": "code",
      "metadata": {
        "id": "yNYVEvleEnUU",
        "colab": {
          "base_uri": "https://localhost:8080/",
          "height": 302
        },
        "outputId": "fa6e0b95-4202-44e5-d657-5f489f8ad798"
      },
      "source": [
        "plot_history_custom(history, \"Fashion MNIST learning with two hidden layers (h = {0}, dropout = {1})\".format(h, dropout));"
      ],
      "execution_count": null,
      "outputs": [
        {
          "output_type": "display_data",
          "data": {
            "image/png": "[encoded data removed]",
            "text/plain": [
              "<Figure size 432x288 with 2 Axes>"
            ]
          },
          "metadata": {
            "tags": [],
            "needs_background": "light"
          }
        }
      ]
    },
    {
      "cell_type": "code",
      "metadata": {
        "id": "pL30QHhknfj3",
        "colab": {
          "base_uri": "https://localhost:8080/"
        },
        "outputId": "c4237109-b904-4360-c21a-aa9e3b336c8f"
      },
      "source": [
        "print(\"With dropout = {0}, the best validation accuracy is {1}.\".format(dropout, round(max(history[\"val_accuracy\"]), 2)))"
      ],
      "execution_count": null,
      "outputs": [
        {
          "output_type": "stream",
          "text": [
            "With dropout = 0.5, the best validation accuracy is 0.71.\n"
          ],
          "name": "stdout"
        }
      ]
    },
    {
      "cell_type": "code",
      "metadata": {
        "id": "MazFjZR_u56C"
      },
      "source": [
        "dropout = 0.05\n",
        "history = fit_custom_(exercise_name='ex_5.4_h_{0}_dropout_{1}'.format(h, dropout),\n",
        "                     x_train=x_fashion_tr_flat, \n",
        "                     y_train=y_mnist_fash_train_1hot, \n",
        "                     x_val=x_fashion_val_flat, \n",
        "                     y_val=y_mnist_fash_val_1hot, \n",
        "                     model=get_model(input_dim=input_dim_mnist, layers=2, h=h, optimizer=SGD, lr=0.01, dropout=dropout),\n",
        "                     epochs=150"
      ],
      "execution_count": null,
      "outputs": []
    },
    {
      "cell_type": "code",
      "metadata": {
        "id": "u1Njpuziu6sP"
      },
      "source": [
        "plot_history_custom(history, \"F-MNIST learning with 2 hidden layers (h = {0}) and dropout = {1}\".format(h, dropout));"
      ],
      "execution_count": null,
      "outputs": []
    },
    {
      "cell_type": "code",
      "metadata": {
        "id": "Q8J14kxrvXLg"
      },
      "source": [
        "print(\"With dropout = {0}, the best validation accuracy is {1}.\".format(dropout, round(max(history[\"val_accuracy\"]), 2)))"
      ],
      "execution_count": null,
      "outputs": []
    },
    {
      "cell_type": "markdown",
      "metadata": {
        "id": "HsqM3VfdzBTP"
      },
      "source": [
        "#### Exercise 5.5\n",
        "\n",
        "BONUS: Try built-in data augmentation methods as a way to regularize: this may include horizontal flipping of the images or small rotations. You can use built-in methods in Keras. Report the augmentation method you used and the best validation accuracy. (2 pts) "
      ]
    },
    {
      "cell_type": "code",
      "metadata": {
        "id": "YQF_LuHZc3NU"
      },
      "source": [
        "# Use a small subset of the dataset to visualize the effect of data augmentation\n",
        "ncols=4\n",
        "nrows=2\n",
        "total = ncols * nrows\n",
        "x_mnist_fash_train_small = x_mnist_fash_train[0:total]\n",
        "y_mnist_fash_train_1hot_small = y_mnist_fash_train_1hot[0:total]\n",
        "\n",
        "image_generator_small = data_augmentation(x_mnist_fash_train_small, y_mnist_fash_train_1hot_small, batch_size=total)\n",
        "augmented_samples_small = next(image_generator_small)"
      ],
      "execution_count": null,
      "outputs": []
    },
    {
      "cell_type": "code",
      "metadata": {
        "id": "miGSprpoYo_8"
      },
      "source": [
        "print(\"Initial images:\")\n",
        "plot_some_samples(x_mnist_fash_train_small, y_mnist_fash_train_1hot_small, ncols=ncols, nrows=nrows);"
      ],
      "execution_count": null,
      "outputs": []
    },
    {
      "cell_type": "code",
      "metadata": {
        "id": "Uzr35KOCYd-1"
      },
      "source": [
        "print(\"Modified images:\")\n",
        "plot_some_samples(augmented_samples_small[0], augmented_samples_small[1], ncols=ncols, nrows=nrows);"
      ],
      "execution_count": null,
      "outputs": []
    },
    {
      "cell_type": "code",
      "metadata": {
        "id": "xeerLlT_cIG9"
      },
      "source": [
        "# Generate new data\n",
        "image_generator = data_augmentation(\n",
        "    x_mnist_fash_train, \n",
        "    y_mnist_fash_train_1hot, \n",
        "    batch_size=x_mnist_fash_train.shape[0])\n",
        "\n",
        "augmented_samples = next(image_generator)\n",
        "print(\"Generated dataset shape x: {0} / y : {1}\".format(augmented_samples[0].shape, augmented_samples[1].shape))\n",
        "\n",
        "# Flatten images\n",
        "x_fash_augmented = augmented_samples[0].reshape(x_mnist_fash_train.shape[0], x_mnist_fash_train.shape[1]*x_mnist_fash_train.shape[2])\n",
        "\n",
        "# Normalize\n",
        "x_fash_augmented = x_fash_augmented / max_grey_value\n",
        "\n",
        "y_fash_1hot_augmented = augmented_samples[1]"
      ],
      "execution_count": null,
      "outputs": []
    },
    {
      "cell_type": "code",
      "metadata": {
        "id": "KtiJ7m50aK4e"
      },
      "source": [
        "# Add to initial dataset\n",
        "x_fash_augmented = np.concatenate([x_fashion_tr_flat, x_fash_augmented])\n",
        "y_fash_1hot_augmented  = np.concatenate([y_mnist_fash_train_1hot, y_fash_1hot_augmented])"
      ],
      "execution_count": null,
      "outputs": []
    },
    {
      "cell_type": "code",
      "metadata": {
        "id": "2uzXg790sNlb"
      },
      "source": [
        "# Schuffle in the same way\n",
        "x_fash_augmented, y_fash_1hot_augmented = unison_shuffled(x_fash_augmented, y_fash_1hot_augmented)\n",
        "\n",
        "print(\"Augmented x training data from {0} to {1}\".format(x_fashion_tr_flat.shape, x_fash_augmented.shape))\n",
        "print(\"Augmented y training data from {0} to {1}\".format(y_mnist_fash_train_1hot.shape, y_fash_1hot_augmented.shape))"
      ],
      "execution_count": null,
      "outputs": []
    },
    {
      "cell_type": "code",
      "metadata": {
        "id": "JXmWoxAEWcTv"
      },
      "source": [
        "history = fit_custom(\n",
        "    exercise_name = \"ex_5.5\",\n",
        "    x=x_fash_augmented,\n",
        "    y=y_fash_1hot_augmented,\n",
        "    validation_data=(x_fashion_val_flat, y_mnist_fash_val_1hot), \n",
        "    model = get_model(input_dim=input_dim_fashion, layers=2, h=h, optimizer=SGD, lr=0.01),\n",
        "    epochs=200, \n",
        "    callbacks=get_callbacks(early_stop=True))"
      ],
      "execution_count": null,
      "outputs": []
    },
    {
      "cell_type": "code",
      "metadata": {
        "id": "eEdAkWYMlSs6"
      },
      "source": [
        "plot_history_custom(history=history, title='F-MNIST with data augmentation.');"
      ],
      "execution_count": null,
      "outputs": []
    },
    {
      "cell_type": "code",
      "metadata": {
        "id": "TCuF92y6sx0V"
      },
      "source": [
        "print(\"With data augmentation, the best validation accuracy is {0}.\".format(round(max(history[\"val_accuracy\"]), 2)))"
      ],
      "execution_count": null,
      "outputs": []
    },
    {
      "cell_type": "markdown",
      "metadata": {
        "id": "NDYfqS_MUmF9"
      },
      "source": [
        "## Exercise 6: Convolutional neural networks (CNNs) (10 points)\n",
        "\n",
        "Convolutional neural networks have an inductive bias that is well adapted to image classification. \n",
        "\n",
        "1. Design a convolutional neural network and train it without using explicit regularizers. (2 pts)\n",
        "2. Try to improve the best validation scores of the model by experiment with batch_normalization layers, dropout layers and l2-regularization on weights (kernels) and biases. (4 pts)\n",
        "3. After you have found good settings, plot the learning curves for both models, naive (=no tricks/regularization) and tuned (=tricks + regularized) together in a comparison plot. (2pts)\n",
        "4. How does the CNN performance compare to the so far best performing (deep) neural network model? (2 pts)\n",
        "\n",
        "*Hint:* You may get valuable inspiration from the keras [examples](https://keras.io/examples/), [for example](https://keras.io/examples/vision/mnist_convnet/)."
      ]
    },
    {
      "cell_type": "markdown",
      "metadata": {
        "id": "JUbPDPV_UmF9"
      },
      "source": [
        "**Answer to Question 4**: "
      ]
    },
    {
      "cell_type": "markdown",
      "metadata": {
        "id": "1-dXDw80UmF9"
      },
      "source": [
        "### Solution\n",
        "The best performing deep neural network achieves a validation accuracy of around 89%.\n",
        "However they tend to overfit to the training data.\n",
        "Especially the tuned CNN achieves much higher validation and test accuracy (~93%) with less overfitting."
      ]
    },
    {
      "cell_type": "markdown",
      "metadata": {
        "id": "xmrj2J5WZ_6H"
      },
      "source": [
        "#### Useful functions\n"
      ]
    },
    {
      "cell_type": "code",
      "metadata": {
        "id": "gDwTGc5GaBj2"
      },
      "source": [
        "def build_cnn(l2_lambda_value=0, is_dropout=False, is_batch_normalization=False):\n",
        "    \"\"\"Builds the base Keras model, without any regularization.\"\"\"\n",
        "    # Clear the session to remove all the nodes left over from previous models, free memory and preventing slowdown.\n",
        "    K.clear_session()\n",
        "    \n",
        "    kernel_regularizer = None if not l2_lambda_value else regularizers.l2(l2_lambda_value)\n",
        "    \n",
        "    model = keras.Sequential()\n",
        "    \n",
        "    model.add(keras.layers.Conv2D(64, kernel_size=(3, 3), activation='relu', padding='same', \n",
        "                                  input_shape=(28, 28, 1), kernel_regularizer=kernel_regularizer))\n",
        "    \n",
        "    if is_batch_normalization:\n",
        "        model.add(keras.layers.BatchNormalization())\n",
        "    \n",
        "    model.add(keras.layers.Conv2D(64, kernel_size=(3, 3), activation='relu', \n",
        "                                  kernel_regularizer=kernel_regularizer))\n",
        "    if is_batch_normalization:\n",
        "        model.add(keras.layers.BatchNormalization())\n",
        "        \n",
        "    model.add(keras.layers.MaxPooling2D(pool_size=(2, 2)))\n",
        "    if is_dropout:\n",
        "        model.add(keras.layers.Dropout(0.125))\n",
        "    \n",
        "    model.add(keras.layers.Conv2D(128, kernel_size=(3, 3), activation='relu', \n",
        "                                  padding='same', kernel_regularizer=kernel_regularizer))\n",
        "    if is_batch_normalization:\n",
        "        model.add(keras.layers.BatchNormalization())\n",
        "    \n",
        "    model.add(keras.layers.Conv2D(128, kernel_size=(3, 3), activation='relu', \n",
        "                                  kernel_regularizer=kernel_regularizer))\n",
        "    if is_batch_normalization:\n",
        "        model.add(keras.layers.BatchNormalization())\n",
        "   \n",
        "    model.add(keras.layers.MaxPooling2D(pool_size=(2, 2))) \n",
        "    if is_dropout:\n",
        "        model.add(keras.layers.Dropout(0.25))\n",
        "        \n",
        "    model.add(keras.layers.Conv2D(256, kernel_size=(3, 3), activation='relu', \n",
        "                                  padding='same', kernel_regularizer=kernel_regularizer))\n",
        "    if is_batch_normalization:\n",
        "        model.add(keras.layers.BatchNormalization())\n",
        "    \n",
        "    model.add(keras.layers.Conv2D(256, kernel_size=(3, 3), activation='relu', \n",
        "                                  kernel_regularizer=kernel_regularizer))\n",
        "    \n",
        "    if is_batch_normalization:\n",
        "        model.add(keras.layers.BatchNormalization())  \n",
        "    \n",
        "    model.add(keras.layers.MaxPooling2D(pool_size=(2, 2))) \n",
        "    if is_dropout:\n",
        "        model.add(keras.layers.Dropout(0.5))\n",
        "    \n",
        "    model.add(keras.layers.Flatten()) \n",
        "    \n",
        "    model.add(keras.layers.Dense(1024, activation='relu', kernel_regularizer=kernel_regularizer))\n",
        "    if is_dropout:\n",
        "        model.add(keras.layers.Dropout(0.5))\n",
        "\n",
        "    model.add(keras.layers.Dense(512, activation='relu', kernel_regularizer=kernel_regularizer))\n",
        "    if is_dropout:\n",
        "        model.add(keras.layers.Dropout(0.5))\n",
        "    model.add(keras.layers.Dense(10, activation='softmax'))\n",
        "    \n",
        "    adam = Adam(lr=0.0001, decay=1e-6)\n",
        "    model.compile(optimizer=adam, loss='categorical_crossentropy', metrics=['accuracy'])\n",
        "    return model\n",
        "    "
      ],
      "execution_count": null,
      "outputs": []
    },
    {
      "cell_type": "markdown",
      "metadata": {
        "id": "wvZz4x2WxLuS"
      },
      "source": [
        "#### Exercise 6.1.\n",
        "Design a convolutional neural network and train it without using explicit regularizers."
      ]
    },
    {
      "cell_type": "code",
      "metadata": {
        "id": "MHzcvHspQtMa"
      },
      "source": [
        "# Images must be in 4 dimensions, we must reshape\n",
        "x_mnist_fash_train_with_depth = add_depth_to_images(x_mnist_fash_train)\n",
        "x_mnist_fash_val_with_depth = add_depth_to_images(x_mnist_fash_val)\n",
        "#x_mnist_fash_val_with_depth = add_depth_to_images(x_mnist_fash_val)\n",
        "\n",
        "print(\"Reshaped train data from {0} to {1}\".format(x_mnist_fash_train.shape, x_mnist_fash_train_with_depth.shape))\n",
        "print(\"Reshaped validation data from {0} to {1}\".format(x_mnist_fash_val.shape, x_mnist_fash_val_with_depth.shape))"
      ],
      "execution_count": null,
      "outputs": []
    },
    {
      "cell_type": "code",
      "metadata": {
        "id": "Favsp81eQtMb"
      },
      "source": [
        "model = build_cnn(l2_lambda_value=0,\n",
        "                  is_dropout=False,\n",
        "                  is_batch_normalization=False)\n",
        "model.summary()"
      ],
      "execution_count": null,
      "outputs": []
    },
    {
      "cell_type": "code",
      "metadata": {
        "id": "OPFEUhYflj8L"
      },
      "source": [
        "history_no_regularization = fit_custom_(\n",
        "    exercise_name=\"ex_6.1\", \n",
        "    model=model, \n",
        "    x_train=x_mnist_fash_train_with_depth, \n",
        "    y_train=y_mnist_fash_train_1hot, \n",
        "    x_val=x_mnist_fash_val_with_depth, \n",
        "    y_val=y_mnist_fash_val_1hot,  \n",
        "    epochs=50,\n",
        "    callbacks=None, \n",
        "    verbose=0)"
      ],
      "execution_count": null,
      "outputs": []
    },
    {
      "cell_type": "code",
      "metadata": {
        "id": "IdpazVAKqGNC"
      },
      "source": [
        "plot_history_custom(history_no_regularization, \"Training history of naive CNN\");"
      ],
      "execution_count": null,
      "outputs": []
    },
    {
      "cell_type": "code",
      "metadata": {
        "id": "lKhVkgMB7Kgj"
      },
      "source": [
        "print(\"For the CNN without regularization, the best validation accuracy is {0}.\".format(round(max(history_no_regularization[\"val_accuracy\"]), 2)))"
      ],
      "execution_count": null,
      "outputs": []
    },
    {
      "cell_type": "code",
      "metadata": {
        "id": "bVjFc4XU5Ngz"
      },
      "source": [
        "\"\"\"  # evaluate metrics\n",
        "  print(\"\\nEvaluating...\", flush=True)\n",
        "  print('Training data:', flush=True)\n",
        "  loss, acc = model.evaluate(x_train, y_train, verbose=1)\n",
        "  print(\"  Training : loss %.3f - acc %.3f\" % (loss, acc))\n",
        "  print('Cross-validation data:', flush=True)\n",
        "  loss, acc = model.evaluate(x_val, y_val, verbose=1)\n",
        "  print(\"  Cross-val: loss %.3f - acc %.3f\" % (loss, acc))\"\"\"\n",
        "\n",
        "\"\"\"\n",
        "best_naive_model = load_model(get_path_model(name), compile=True)\n",
        "val_err_naive, val_acc_naive = best_naive_model.evaluate(x_mnist_fash_val_re, y_mnist_fash_val_1hot, verbose=0)\n",
        "test_err_naive, test_acc_naive = best_naive_model.evaluate(x_mnist_fash_val_re, y_mnist_fash_val_1hot, verbose=0)\n",
        "print(\"{name}: val_err: {err}, val_acc: {acc}\".format(name=name, err=val_err_naive, acc=val_acc_naive))\n",
        "print(\"{name}: test_err: {err}, test_acc: {acc}\".format(name=name, err=test_err_naive, acc=test_acc_naive))\n",
        "\"\"\""
      ],
      "execution_count": null,
      "outputs": []
    },
    {
      "cell_type": "markdown",
      "metadata": {
        "id": "EsF75m_eQtMc"
      },
      "source": [
        "#### Exercise 6.2.\n",
        "Try to improve the best validation scores of the model by experiment with batch_normalization layers, dropout layers and l2-regularization on weights (kernels) and biases"
      ]
    },
    {
      "cell_type": "code",
      "metadata": {
        "id": "RJ0FlhjK2b1l"
      },
      "source": [
        "model = build_cnn(l2_lambda_value=0.01,\n",
        "                  is_dropout=True,\n",
        "                  is_batch_normalization=True)\n",
        "model.summary()"
      ],
      "execution_count": null,
      "outputs": []
    },
    {
      "cell_type": "code",
      "metadata": {
        "id": "0P65diFHBKXV"
      },
      "source": [
        "history_tuned = fit_custom_(\n",
        "    exercise_name=\"ex_6.2\", \n",
        "    model=model, \n",
        "    x_train=x_mnist_fash_train_with_depth, \n",
        "    y_train=y_mnist_fash_train_1hot, \n",
        "    x_val=x_mnist_fash_val_with_depth, \n",
        "    y_val=y_mnist_fash_val_1hot,  \n",
        "    epochs=50,\n",
        "    callbacks=None, \n",
        "    verbose=0)"
      ],
      "execution_count": null,
      "outputs": []
    },
    {
      "cell_type": "code",
      "metadata": {
        "id": "5H3dY-YV5ErB"
      },
      "source": [
        "plot_history_custom(history, \"Training history of tuned CNN\");"
      ],
      "execution_count": null,
      "outputs": []
    },
    {
      "cell_type": "code",
      "metadata": {
        "id": "ANtzUUtOBeWw"
      },
      "source": [
        "print(\"For the tuned CNN, the best validation accuracy is {0}.\".format(round(max(history[\"val_accuracy\"]), 2)))"
      ],
      "execution_count": null,
      "outputs": []
    },
    {
      "cell_type": "code",
      "metadata": {
        "id": "ZrS2szdgUr6b"
      },
      "source": [
        "\"\"\"best_tuned_model = load_model(get_path_model(name), compile=True)\n",
        "val_err_tuned, val_acc_tuned = best_tuned_model.evaluate(x_mnist_fash_val_re, y_mnist_fash_val_1hot, verbose=0)\n",
        "test_err_tuned, test_acc_tuned = best_tuned_model.evaluate(x_mnist_fash_val_re, y_mnist_fash_val_1hot, verbose=0)\n",
        "print(\"{name}: val_err: {err}, val_acc: {acc}\".format(name=name, err=val_err_tuned, acc=val_acc_tuned))\n",
        "print(\"{name}: test_err: {err}, test_acc: {acc}\".format(name=name, err=test_err_tuned, acc=test_acc_tuned))\"\"\""
      ],
      "execution_count": null,
      "outputs": []
    },
    {
      "cell_type": "markdown",
      "metadata": {
        "id": "o0v65dSCQtMf"
      },
      "source": [
        "#### Exercise 6.3.\n",
        "After you have found good settings, plot the learning curves for both models, naive (=no tricks/regularization) and tuned (=tricks + regularized) together in a comparison plot."
      ]
    },
    {
      "cell_type": "code",
      "metadata": {
        "id": "wEO2MnMeQtMg"
      },
      "source": [
        "comparison_plot_custom(history_no_regularization, history_tuned, \"Naive\", \"Tuned\", \"Model Comparison\");"
      ],
      "execution_count": null,
      "outputs": []
    }
  ]
}