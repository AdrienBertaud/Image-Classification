{
  "nbformat": 4,
  "nbformat_minor": 0,
  "metadata": {
    "colab": {
      "name": "index.ipynb",
      "provenance": [],
      "collapsed_sections": [
        "NqK_mkEu9yZE",
        "h0P5vrtGYmcO",
        "HsqM3VfdzBTP",
        "I6K6G_nuzRAT",
        "1-dXDw80UmF9"
      ]
    },
    "kernelspec": {
      "display_name": "Python 3",
      "language": "python",
      "name": "python3"
    },
    "language_info": {
      "codemirror_mode": {
        "name": "ipython",
        "version": 3
      },
      "file_extension": ".py",
      "mimetype": "text/x-python",
      "name": "python",
      "nbconvert_exporter": "python",
      "pygments_lexer": "ipython3",
      "version": "3.7.10"
    },
    "accelerator": "GPU"
  },
  "cells": [
    {
      "cell_type": "markdown",
      "metadata": {
        "id": "BnAEU9iKUmFl"
      },
      "source": [
        "# Miniproject: Image Classification\n",
        "\n",
        "### Description\n",
        "\n",
        "One of the oldest traditions in deep learning is to first tackle the fun problem of MNIST classification. [The MNIST dataset](https://en.wikipedia.org/wiki/MNIST_database) is a large database of handwritten digits that is commonly used as a first test for new classification algorithms. \n",
        "We follow this tradition to investigate the performance of artificial neural networks of different complexity on MNIST. However, since MNIST is too easy for accessing the full power of modern machine learning algorithms (see e.g. [this post](https://twitter.com/goodfellow_ian/status/852591106655043584)) we will extend our analysis to the recently introduced, harder [Fashion-MNIST dataset](https://github.com/zalandoresearch/fashion-mnist).\n",
        "\n",
        "### Prerequisites\n",
        "\n",
        "- You should have a running installation of [tensorflow](https://www.tensorflow.org/install/) and [keras](https://keras.io/). Feel free to gain inspiration from the [Keras example directory](https://keras.io/examples/) for your implementations.\n",
        "- You should know the concepts \"multilayer perceptron\", \"stochastic gradient descent with minibatches\", \"Adam\", \"convolutional neural network\", \"training and validation data\", \"overfitting\", \"regularization\", and \"early stopping\".\n",
        "\n",
        "### What you will learn\n",
        "\n",
        "- You will learn how to define feedforward neural networks in keras and fit them to data (i.e. training).\n",
        "- You will be guided through a prototyping procedure for the application of deep learning to a specific domain.\n",
        "- You will gain some experience on the influence of network architecture, optimizer and regularization choices on the goodness of fit.\n",
        "- You will learn to be more patient :) Some fits may take your computer quite a bit of time; run them over night (or on an external server).\n",
        "\n",
        "### Evaluation criteria\n",
        "\n",
        "The evaluation is (mostly) based on the figures you submit and your answer sentences. Provide clear and concise answers respecting the indicated maximum length.\n",
        "\n",
        "**The submitted notebook must be run by you!** We will only do random tests of your code and not re-run the full notebook. There will be fraud detection sessions at the end of the semester.\n",
        "\n",
        "### Your names\n",
        "\n",
        "**Before you start**: please enter your full name(s) in the field below."
      ]
    },
    {
      "cell_type": "code",
      "metadata": {
        "ExecuteTime": {
          "end_time": "2018-03-09T09:08:24.514461Z",
          "start_time": "2018-03-09T09:08:24.506410Z"
        },
        "id": "bVa5G9-6UmFv"
      },
      "source": [
        "student1 = \"Jan Bauer (18-764-571)\"\n",
        "student2 = \"Adrien Bertaud (Sciper 324795)\""
      ],
      "execution_count": 49,
      "outputs": []
    },
    {
      "cell_type": "markdown",
      "metadata": {
        "ExecuteTime": {
          "end_time": "2018-02-22T21:52:59.697375Z",
          "start_time": "2018-02-22T21:52:59.689443Z"
        },
        "id": "8ZLXwbYkUmFy"
      },
      "source": [
        "## Some helper functions\n",
        "\n",
        "For your convenience we provide here some functions to preprocess the data and plot the results later. Simply run the following cells with `Shift-Enter`.\n",
        "\n",
        "### Dependencies and constants"
      ]
    },
    {
      "cell_type": "code",
      "metadata": {
        "ExecuteTime": {
          "end_time": "2018-02-23T14:27:09.352019Z",
          "start_time": "2018-02-23T14:27:08.476310Z"
        },
        "id": "a_-AKt04UmFz"
      },
      "source": [
        "%matplotlib inline\n",
        "\n",
        "import os\n",
        "import numpy as np\n",
        "import time\n",
        "import matplotlib.pyplot as plt\n",
        "import scipy.io\n",
        "\n",
        "#import tensorflow and keras\n",
        "import tensorflow as tf\n",
        "import tensorflow.keras as keras\n",
        "\n",
        "from tensorflow.keras.models import Sequential\n",
        "from tensorflow.keras.layers import Dense, Conv2D, MaxPooling2D, Dropout, Flatten, BatchNormalization\n",
        "from tensorflow.keras.optimizers import SGD, Adam\n",
        "from tensorflow.keras import regularizers\n",
        "from tensorflow.keras.callbacks import EarlyStopping, ModelCheckpoint, History"
      ],
      "execution_count": 50,
      "outputs": []
    },
    {
      "cell_type": "code",
      "metadata": {
        "colab": {
          "base_uri": "https://localhost:8080/"
        },
        "id": "uByPWuGHUOb2",
        "outputId": "a43c21a3-69ea-420c-c920-a71b2affd1f8"
      },
      "source": [
        "print(\"Running tensorflow version: {0}\".format(tf.__version__))\n",
        "print(\"Running keras version: {0}\".format(keras.__version__))"
      ],
      "execution_count": 51,
      "outputs": [
        {
          "output_type": "stream",
          "text": [
            "Running tensorflow version: 2.4.1\n",
            "Running keras version: 2.4.0\n"
          ],
          "name": "stdout"
        }
      ]
    },
    {
      "cell_type": "code",
      "metadata": {
        "colab": {
          "base_uri": "https://localhost:8080/"
        },
        "id": "sx8b9KUvUprh",
        "outputId": "ffa38ccc-7864-444f-b322-d6c5f1a59fea"
      },
      "source": [
        "import tensorflow as tf\n",
        "tf.config.list_physical_devices('GPU') # True/False"
      ],
      "execution_count": 52,
      "outputs": [
        {
          "output_type": "execute_result",
          "data": {
            "text/plain": [
              "[PhysicalDevice(name='/physical_device:GPU:0', device_type='GPU')]"
            ]
          },
          "metadata": {
            "tags": []
          },
          "execution_count": 52
        }
      ]
    },
    {
      "cell_type": "code",
      "metadata": {
        "id": "R4cZmSgSYb2f"
      },
      "source": [
        "try:\n",
        "  resolver = tf.distribute.cluster_resolver.TPUClusterResolver()\n",
        "  tf.config.experimental_connect_to_cluster(resolver)\n",
        "  tf.tpu.experimental.initialize_tpu_system(resolver)\n",
        "  print(\"All devices: \", tf.config.list_logical_devices('TPU'))\n",
        "  strategy = tf.distribute.experimental.TPUStrategy(resolver)\n",
        "except ValueError:\n",
        "  strategy = tf.distribute.get_strategy() "
      ],
      "execution_count": 53,
      "outputs": []
    },
    {
      "cell_type": "code",
      "metadata": {
        "id": "JmyBZURoUOb3"
      },
      "source": [
        "# Define verbosity\n",
        "verbose = True"
      ],
      "execution_count": 54,
      "outputs": []
    },
    {
      "cell_type": "markdown",
      "metadata": {
        "id": "6-U_Ag8QUmFz"
      },
      "source": [
        "### Plotting"
      ]
    },
    {
      "cell_type": "code",
      "metadata": {
        "ExecuteTime": {
          "end_time": "2018-02-23T15:11:52.252208Z",
          "start_time": "2018-02-23T15:11:52.121360Z"
        },
        "id": "d2V7in4BUmF0"
      },
      "source": [
        "def plot_some_samples(x, y = [], yhat = [], select_from = [], \n",
        "                      ncols = 6, nrows = 4, xdim = 28, ydim = 28,\n",
        "                      label_mapping = range(10)):\n",
        "    \"\"\"plot some input vectors as grayscale images (optionally together with their assigned or predicted labels).\n",
        "    \n",
        "    x is an NxD - dimensional array, where D is the length of an input vector and N is the number of samples.\n",
        "    Out of the N samples, ncols x nrows indices are randomly selected from the list select_from (if it is empty, select_from becomes range(N)).\n",
        "    \"\"\"\n",
        "    fig, ax = plt.subplots(nrows, ncols)\n",
        "    if len(select_from) == 0:\n",
        "        select_from = range(x.shape[0])\n",
        "    indices = np.random.choice(select_from, size = min(ncols * nrows, len(select_from)), replace = False)\n",
        "    for i, ind in enumerate(indices):\n",
        "        thisax = ax[i//ncols,i%ncols]\n",
        "        thisax.matshow(x[ind].reshape(xdim, ydim), cmap='gray')\n",
        "        thisax.set_axis_off()\n",
        "        if len(y) != 0:\n",
        "            j = y[ind] if type(y[ind]) != np.ndarray else y[ind].argmax()\n",
        "            thisax.text(0, 0, (label_mapping[j]+1)%10, color='green', \n",
        "                                                       verticalalignment='top',\n",
        "                                                       transform=thisax.transAxes)\n",
        "        if len(yhat) != 0:\n",
        "            k = yhat[ind] if type(yhat[ind]) != np.ndarray else yhat[ind].argmax()\n",
        "            thisax.text(1, 0, (label_mapping[k]+1)%10, color='red',\n",
        "                                             verticalalignment='top',\n",
        "                                             horizontalalignment='right',\n",
        "                                             transform=thisax.transAxes)\n",
        "    return fig\n",
        "\n",
        "def prepare_standardplot(title, xlabel):\n",
        "    fig, (ax1, ax2) = plt.subplots(1, 2)\n",
        "    fig.suptitle(title)\n",
        "    ax1.set_ylabel('categorical cross entropy')\n",
        "    ax1.set_xlabel(xlabel)\n",
        "    ax1.set_yscale('log')\n",
        "    ax2.set_ylabel('accuracy [% correct]')\n",
        "    ax2.set_xlabel(xlabel)\n",
        "    return fig, ax1, ax2\n",
        "\n",
        "def finalize_standardplot(fig, ax1, ax2):\n",
        "    ax1handles, ax1labels = ax1.get_legend_handles_labels()\n",
        "    if len(ax1labels) > 0:\n",
        "        ax1.legend(ax1handles, ax1labels)\n",
        "    ax2handles, ax2labels = ax2.get_legend_handles_labels()\n",
        "    if len(ax2labels) > 0:\n",
        "        ax2.legend(ax2handles, ax2labels)\n",
        "    fig.tight_layout()\n",
        "    plt.subplots_adjust(top=0.9)\n",
        "\n",
        "def plot_history(history, title):\n",
        "    fig, ax1, ax2 = prepare_standardplot(title, 'epoch')\n",
        "    ax1.plot(history.history['loss'], label = \"train\")\n",
        "    ax1.plot(history.history['val_loss'], label = \"val\")\n",
        "    ax2.plot(history.history['accuracy'], label = \"train\")\n",
        "    ax2.plot(history.history['val_accuracy'], label = \"val\")\n",
        "    finalize_standardplot(fig, ax1, ax2)\n",
        "    return fig\n",
        "\n",
        "def plot_history_cust(history, title):\n",
        "    fig, ax1, ax2 = prepare_standardplot(title, 'epoch')\n",
        "    ax1.plot(history['loss'], label = \"train\")\n",
        "    ax1.plot(history['val_loss'], label = \"val\")\n",
        "    ax2.plot(history['accuracy'], label = \"train\")\n",
        "    ax2.plot(history['val_accuracy'], label = \"val\")\n",
        "    finalize_standardplot(fig, ax1, ax2)\n",
        "    return fig\n",
        "\n",
        "def plot_some_samples_cust(x, y = [], yhat = [], select_from = [], \n",
        "                      ncols = 6, nrows = 4, xdim = 28, ydim = 28,\n",
        "                      label_mapping = range(10)):\n",
        "    \"\"\"plot some input vectors as grayscale images (optionally together with their assigned or predicted labels).\n",
        "    \n",
        "    x is an NxD - dimensional array, where D is the length of an input vector and N is the number of samples.\n",
        "    Out of the N samples, ncols x nrows indices are randomly selected from the list select_from (if it is empty, select_from becomes range(N)).\n",
        "    \"\"\"\n",
        "    fig, ax = plt.subplots(nrows, ncols)\n",
        "    if len(select_from) == 0:\n",
        "        select_from = range(x.shape[0])\n",
        "    indices = np.random.choice(select_from, size = min(ncols * nrows, len(select_from)), replace = False)\n",
        "    for i, ind in enumerate(indices):\n",
        "        thisax = ax[i//ncols,i%ncols]\n",
        "        thisax.matshow(x[ind].reshape(xdim, ydim), cmap='gray')\n",
        "        thisax.set_axis_off()\n",
        "        if len(y) != 0:\n",
        "            j = y[ind] if type(y[ind]) != np.ndarray else y[ind].argmax()\n",
        "            thisax.text(0, 0, label_mapping[j], color='green', \n",
        "                                                       verticalalignment='top',\n",
        "                                                       transform=thisax.transAxes)\n",
        "        if len(yhat) != 0:\n",
        "            k = yhat[ind] if type(yhat[ind]) != np.ndarray else yhat[ind].argmax()\n",
        "            thisax.text(1, 0, label_mapping[k], color='red',\n",
        "                                             verticalalignment='top',\n",
        "                                             horizontalalignment='right',\n",
        "                                             transform=thisax.transAxes)\n",
        "    return fig\n",
        "\n",
        "\n"
      ],
      "execution_count": 55,
      "outputs": []
    },
    {
      "cell_type": "markdown",
      "metadata": {
        "id": "96-3BgpfUmF1"
      },
      "source": [
        "## Exercise 1: Data import and visualization (6 points)\n",
        "\n",
        "The datasets we use in this project (MNIST, Fashion-MNIST) consists of grayscale images with 28x28 pixels. \n",
        "The low resolution (and grayscale) of the images certainly misses some information that could be helpful for classifying the images. However, since the data has lower dimensionality due to the low resolution, the training converges faster. This is an advantage in situations like here (or generally when prototyping), where we want to try many different things without having to wait too long. \n",
        "\n",
        "1. As a warm-up exercise, use the importer to (down-)load the MNIST and Fashion-MNIST dataset. Assign useful variables to test & train images and labels for both datasets respectively. (2 pts)\n",
        "2. Use the function `plot_some_samples` defined above to plot some samples of the two datasets. What do the green digits at the bottom left of each image indicate? (2 pts)\n",
        "3. To prepare for training: 1. transform the labels to one hot coding, i.e. for 5 classes, label 2 becomes the vector [0, 0, 1, 0, 0] (you can use `utils.to_categorical` function from keras), and 2. reshape (flatten) the input images to input vectors and rescale the input data into the range [0,1]. (2 pts)\n",
        "\n",
        "*Hint*: Keras comes with a convenient in-built [data importer](https://keras.io/datasets/) for common datasets. "
      ]
    },
    {
      "cell_type": "markdown",
      "metadata": {
        "id": "kGiMLZFXUmF2"
      },
      "source": [
        "**Answer to Question 2** (1 sentence):<br/>\n",
        "The green digit at the bottom left corresponds to '(label_mapping[j]+1)%10' (*true class label incremented by one and divided modulo 10*) and can be interpreted as the index of the digit with value 1 (all others at 0) for one hot encoding."
      ]
    },
    {
      "cell_type": "markdown",
      "metadata": {
        "id": "PGSLbCcbUmF2"
      },
      "source": [
        "### Solution"
      ]
    },
    {
      "cell_type": "markdown",
      "metadata": {
        "id": "44GJq_o2BlkA"
      },
      "source": [
        "#### Exercise 1.1\n",
        "Load the MNIST and Fashion-MNIST dataset."
      ]
    },
    {
      "cell_type": "code",
      "metadata": {
        "ExecuteTime": {
          "end_time": "2018-02-23T14:27:44.442862Z",
          "start_time": "2018-02-23T14:27:09.505547Z"
        },
        "id": "wjga3NseUmF3"
      },
      "source": [
        "import tensorflow as tf\n",
        "(x_mnist_train, y_mnist_train), (x_mnist_test, y_mnist_test) = tf.keras.datasets.mnist.load_data(path=\"mnist.npz\")\n",
        "(x_mnist_fash_train, y_mnist_fash_train), (x_mnist_fash_test, y_mnist_fash_test) = tf.keras.datasets.fashion_mnist.load_data()"
      ],
      "execution_count": 56,
      "outputs": []
    },
    {
      "cell_type": "markdown",
      "metadata": {
        "id": "zK0e2jWyBxuY"
      },
      "source": [
        "#### Exercise 1.2\n",
        "Plot some samples of the two datasets."
      ]
    },
    {
      "cell_type": "code",
      "metadata": {
        "colab": {
          "base_uri": "https://localhost:8080/",
          "height": 277
        },
        "id": "E-tP-_yR_cIT",
        "outputId": "5bc0f767-b5d4-4d07-b717-0248d9e4ca98"
      },
      "source": [
        "print(\"MNIST\")\n",
        "plot_some_samples(x_mnist_train, y_mnist_train, ncols=6, nrows=4);"
      ],
      "execution_count": 57,
      "outputs": [
        {
          "output_type": "stream",
          "text": [
            "MNIST\n"
          ],
          "name": "stdout"
        },
        {
          "output_type": "display_data",
          "data": {
            "image/png": "[encoded data removed]",
            "text/plain": [
              "<Figure size 432x288 with 24 Axes>"
            ]
          },
          "metadata": {
            "tags": [],
            "needs_background": "light"
          }
        }
      ]
    },
    {
      "cell_type": "code",
      "metadata": {
        "colab": {
          "base_uri": "https://localhost:8080/",
          "height": 277
        },
        "id": "rM7sGUJ7CPXI",
        "outputId": "b698f932-f8ce-41e9-8945-88679ebbd0b2"
      },
      "source": [
        "print(\"Fashion-MNIST\")\n",
        "plot_some_samples(x_mnist_fash_train, y_mnist_fash_train, ncols=6, nrows=4);"
      ],
      "execution_count": 58,
      "outputs": [
        {
          "output_type": "stream",
          "text": [
            "Fashion-MNIST\n"
          ],
          "name": "stdout"
        },
        {
          "output_type": "display_data",
          "data": {
            "image/png": "[encoded data removed]",
            "text/plain": [
              "<Figure size 432x288 with 24 Axes>"
            ]
          },
          "metadata": {
            "tags": [],
            "needs_background": "light"
          }
        }
      ]
    },
    {
      "cell_type": "markdown",
      "metadata": {
        "id": "ozrpz5-NB7wg"
      },
      "source": [
        "#### Exercise 1.3\n",
        "Prepare for training."
      ]
    },
    {
      "cell_type": "code",
      "metadata": {
        "colab": {
          "base_uri": "https://localhost:8080/"
        },
        "id": "2Q_Rl6c-DV87",
        "outputId": "00928970-28df-4744-f3d8-a2988a225e4d"
      },
      "source": [
        "# transform the labels to one hot coding\n",
        "from keras.utils import to_categorical\n",
        "\n",
        "y_mnist_train_1hot = to_categorical(y_mnist_train)\n",
        "y_mnist_test_1hot = to_categorical(y_mnist_test)\n",
        "\n",
        "for i in range(5):\n",
        "    print(\"train : {0} => {1} \\ttest : {2} => {3}\".format(y_mnist_train[i], y_mnist_train_1hot[i], y_mnist_test[i], y_mnist_test_1hot[i]))"
      ],
      "execution_count": 59,
      "outputs": [
        {
          "output_type": "stream",
          "text": [
            "train : 5 => [0. 0. 0. 0. 0. 1. 0. 0. 0. 0.] \ttest : 7 => [0. 0. 0. 0. 0. 0. 0. 1. 0. 0.]\n",
            "train : 0 => [1. 0. 0. 0. 0. 0. 0. 0. 0. 0.] \ttest : 2 => [0. 0. 1. 0. 0. 0. 0. 0. 0. 0.]\n",
            "train : 4 => [0. 0. 0. 0. 1. 0. 0. 0. 0. 0.] \ttest : 1 => [0. 1. 0. 0. 0. 0. 0. 0. 0. 0.]\n",
            "train : 1 => [0. 1. 0. 0. 0. 0. 0. 0. 0. 0.] \ttest : 0 => [1. 0. 0. 0. 0. 0. 0. 0. 0. 0.]\n",
            "train : 9 => [0. 0. 0. 0. 0. 0. 0. 0. 0. 1.] \ttest : 4 => [0. 0. 0. 0. 1. 0. 0. 0. 0. 0.]\n"
          ],
          "name": "stdout"
        }
      ]
    },
    {
      "cell_type": "code",
      "metadata": {
        "colab": {
          "base_uri": "https://localhost:8080/"
        },
        "id": "09HL6DMLN8uu",
        "outputId": "a8309db3-7918-475a-a26e-02f5b759276c"
      },
      "source": [
        "y_mnist_fash_train_1hot = to_categorical(y_mnist_fash_train)\n",
        "y_mnist_fash_test_1hot = to_categorical(y_mnist_fash_test)\n",
        "\n",
        "for i in range(5):\n",
        "    print(\"train : {0} => {1} \\ttest : {2} => {3}\".format(y_mnist_fash_train[i], y_mnist_fash_train_1hot[i], y_mnist_fash_test[i], y_mnist_fash_test_1hot[i]))"
      ],
      "execution_count": 60,
      "outputs": [
        {
          "output_type": "stream",
          "text": [
            "train : 9 => [0. 0. 0. 0. 0. 0. 0. 0. 0. 1.] \ttest : 9 => [0. 0. 0. 0. 0. 0. 0. 0. 0. 1.]\n",
            "train : 0 => [1. 0. 0. 0. 0. 0. 0. 0. 0. 0.] \ttest : 2 => [0. 0. 1. 0. 0. 0. 0. 0. 0. 0.]\n",
            "train : 0 => [1. 0. 0. 0. 0. 0. 0. 0. 0. 0.] \ttest : 1 => [0. 1. 0. 0. 0. 0. 0. 0. 0. 0.]\n",
            "train : 3 => [0. 0. 0. 1. 0. 0. 0. 0. 0. 0.] \ttest : 1 => [0. 1. 0. 0. 0. 0. 0. 0. 0. 0.]\n",
            "train : 0 => [1. 0. 0. 0. 0. 0. 0. 0. 0. 0.] \ttest : 6 => [0. 0. 0. 0. 0. 0. 1. 0. 0. 0.]\n"
          ],
          "name": "stdout"
        }
      ]
    },
    {
      "cell_type": "code",
      "metadata": {
        "colab": {
          "base_uri": "https://localhost:8080/"
        },
        "id": "whHrNeQiETo7",
        "outputId": "9dcb5200-c2e8-4f5e-a403-dda0a97a7258"
      },
      "source": [
        "# reshape (flatten) the input images to input vectors\n",
        "print(\"MNIST\")\n",
        "original_mnist_train_shape = x_mnist_train.shape\n",
        "original_mnist_test_shape = x_mnist_test.shape\n",
        "x_mnist_train = x_mnist_train.reshape(x_mnist_train.shape[0], x_mnist_train.shape[1]*x_mnist_train.shape[2])\n",
        "x_mnist_test = x_mnist_test.reshape(x_mnist_test.shape[0], x_mnist_test.shape[1]*x_mnist_test.shape[2])\n",
        "print(\"Reshaped training data from {0} to {1}\".format(original_mnist_train_shape, x_mnist_train.shape))\n",
        "print(\"Reshaped test data from {0} to {1}\".format(original_mnist_test_shape, x_mnist_test.shape))"
      ],
      "execution_count": 61,
      "outputs": [
        {
          "output_type": "stream",
          "text": [
            "MNIST\n",
            "Reshaped training data from (60000, 28, 28) to (60000, 784)\n",
            "Reshaped test data from (10000, 28, 28) to (10000, 784)\n"
          ],
          "name": "stdout"
        }
      ]
    },
    {
      "cell_type": "code",
      "metadata": {
        "colab": {
          "base_uri": "https://localhost:8080/"
        },
        "id": "evnIslVWHHmz",
        "outputId": "b22b06b2-86db-4d59-8141-7b4908abcb92"
      },
      "source": [
        "print(\"Fashion-MNIST\")\n",
        "original_train_shape = x_mnist_fash_train.shape\n",
        "original_test_shape = x_mnist_fash_test.shape\n",
        "x_mnist_fash_train = x_mnist_fash_train.reshape(x_mnist_fash_train.shape[0], x_mnist_fash_train.shape[1]*x_mnist_fash_train.shape[2])\n",
        "x_mnist_fash_test = x_mnist_fash_test.reshape(x_mnist_fash_test.shape[0], x_mnist_fash_test.shape[1]*x_mnist_fash_test.shape[2])\n",
        "print(\"Reshaped training data from {0} to {1}\".format(original_train_shape, x_mnist_fash_train.shape))\n",
        "print(\"Reshaped test data from {0} to {1}\".format(original_test_shape, x_mnist_fash_test.shape))"
      ],
      "execution_count": 62,
      "outputs": [
        {
          "output_type": "stream",
          "text": [
            "Fashion-MNIST\n",
            "Reshaped training data from (60000, 28, 28) to (60000, 784)\n",
            "Reshaped test data from (10000, 28, 28) to (10000, 784)\n"
          ],
          "name": "stdout"
        }
      ]
    },
    {
      "cell_type": "code",
      "metadata": {
        "colab": {
          "base_uri": "https://localhost:8080/"
        },
        "id": "6tDl4RApFFV2",
        "outputId": "237dd7c0-6558-43b4-d7b4-f66db27fde57"
      },
      "source": [
        "# MNIST: rescale the input data into the range [0,1]\n",
        "max_grey_value = 255.0\n",
        "\n",
        "print(\"MNIST\")\n",
        "print(\"Max value in initial dataset (train/test):\", np.max(x_mnist_train), np.max(x_mnist_test))\n",
        "print(\"Min value in initial dataset (train/test):\", np.min(x_mnist_train), np.min(x_mnist_test))\n",
        "x_mnist_train = x_mnist_train / max_grey_value  \n",
        "x_mnist_test = x_mnist_test / max_grey_value \n",
        "print(\"Max value in rescaled dataset (train/test):\", np.max(x_mnist_train), np.max(x_mnist_test))\n",
        "print(\"Min value in rescaled dataset (train/test):\", np.min(x_mnist_train), np.min(x_mnist_test))"
      ],
      "execution_count": 63,
      "outputs": [
        {
          "output_type": "stream",
          "text": [
            "MNIST\n",
            "Max value in initial dataset (train/test): 255 255\n",
            "Min value in initial dataset (train/test): 0 0\n",
            "Max value in rescaled dataset (train/test): 1.0 1.0\n",
            "Min value in rescaled dataset (train/test): 0.0 0.0\n"
          ],
          "name": "stdout"
        }
      ]
    },
    {
      "cell_type": "code",
      "metadata": {
        "colab": {
          "base_uri": "https://localhost:8080/"
        },
        "id": "3xRmWrSuLyy5",
        "outputId": "71589889-8983-4314-daac-0ecd9a93c90f"
      },
      "source": [
        "# MNIST: rescale the input data into the range [0,1]\n",
        "print(\"Fashion-MNIST\")\n",
        "print(\"Max value in initial dataset (train/test):\", np.max(x_mnist_fash_train), np.max(x_mnist_fash_test))\n",
        "print(\"Min value in initial dataset (train/test):\", np.min(x_mnist_fash_train), np.min(x_mnist_fash_test))\n",
        "x_mnist_fash_train = x_mnist_fash_train / max_grey_value  \n",
        "x_mnist_fash_test = x_mnist_fash_test / max_grey_value \n",
        "print(\"Max value in rescaled dataset (train/test):\", np.max(x_mnist_fash_train), np.max(x_mnist_fash_test))\n",
        "print(\"Min value in rescaled dataset (train/test):\", np.min(x_mnist_fash_train), np.min(x_mnist_fash_test))"
      ],
      "execution_count": 64,
      "outputs": [
        {
          "output_type": "stream",
          "text": [
            "Fashion-MNIST\n",
            "Max value in initial dataset (train/test): 255 255\n",
            "Min value in initial dataset (train/test): 0 0\n",
            "Max value in rescaled dataset (train/test): 1.0 1.0\n",
            "Min value in rescaled dataset (train/test): 0.0 0.0\n"
          ],
          "name": "stdout"
        }
      ]
    },
    {
      "cell_type": "code",
      "metadata": {
        "colab": {
          "base_uri": "https://localhost:8080/"
        },
        "id": "1cZuTQVecZJB",
        "outputId": "7c01dec7-ef0d-4015-da31-525298d402cd"
      },
      "source": [
        "# Constants\n",
        "INPUT_DIM_MNIST = x_mnist_train.shape[1]\n",
        "INPUT_DIM_MNIST_FASHION = x_mnist_fash_train.shape[1]\n",
        "MNIST_NUMBER_CLASSES = y_mnist_train_1hot.shape[1]\n",
        "MNIST_FASHION_NUMBER_CLASSES = y_mnist_fash_train_1hot.shape[1]\n",
        "print(\"MMNIST Input Shape {0}; MNIST Number Of Classes {1}\".format(INPUT_DIM_MNIST, MNIST_NUMBER_CLASSES))\n",
        "print(\"MMNIST Fashion Input Shape {0}; MNIST Fashion Number Of Classes {1}\".format(INPUT_DIM_MNIST_FASHION, MNIST_FASHION_NUMBER_CLASSES))"
      ],
      "execution_count": 65,
      "outputs": [
        {
          "output_type": "stream",
          "text": [
            "MMNIST Input Shape 784; MNIST Number Of Classes 10\n",
            "MMNIST Fashion Input Shape 784; MNIST Fashion Number Of Classes 10\n"
          ],
          "name": "stdout"
        }
      ]
    },
    {
      "cell_type": "markdown",
      "metadata": {
        "id": "7nWca9BqUmF3"
      },
      "source": [
        "## Exercise 2: No hidden layer (10 points)\n",
        "\n",
        "Define and fit a model without a hidden layer (since we will use multi-layer models later in this project, you can define a general constructor function for models with an arbitrary number of hidden layers already at this point). Note that in this miniproject there is no real test dataset and what is loaded as a test dataset is used for validation. First, implement 1.-3. for the MNIST dataset.  \n",
        "\n",
        "1. Implement the model with the following specifications: use the softmax activation for the output layer, use the categorical_crossentropy loss, choose stochastic gradient descent for the optimizer, and add the accuracy metric to the metrics. (5 pts)\n",
        "2. Train for as many epochs as needed to see no further decrease in the validation loss. (1 pt)\n",
        "3. Plot the learning curves resulting from the fitting procedure (a history object) using the function `plot_history` defined above. (1 pt)\n",
        "4. Repeat the above steps for fitting the network to the Fashion-MNIST dataset. (2 pts)\n",
        "5. Report the best validation accuracy achieved for each one of the datasets. Do you observe overfitting already for this simple model? Answer separetely for the MNIST dataset and Fashion-MNIST dataset. (1 pt) \n",
        "\n",
        "*Hint:* Read the keras docs, in particular [Getting started with the Keras Sequential model](https://keras.io/getting-started/sequential-model-guide/)."
      ]
    },
    {
      "cell_type": "markdown",
      "metadata": {
        "id": "o0om4_uXUmF5"
      },
      "source": [
        "**Answer to Question 5** (max 2 sentences):<br/>\n",
        "*MNIST:*\n",
        "\n",
        "We see that the improvement of the validation accuracy levels out around 20 epochs.\n",
        "\n",
        "If overfitting, we should see the validation loss stopping to decrease (i.e. increasing). Furthermore, since there is a lot of training data for a models with only 7960 parameters it is unlikely that the model is overfitting.\n",
        "\n",
        "*Fashion-MNIST:*\n",
        "\n",
        "We see that the improvement of the validation accuracy levels out around after 75 epochs\n",
        "\n",
        "Same interpretation than MNIST regarding overfitting, even more Fashion-MNIST has been introduced as beeing \"harder\"."
      ]
    },
    {
      "cell_type": "markdown",
      "metadata": {
        "id": "CgSYz8gAUmF5"
      },
      "source": [
        "### Solution"
      ]
    },
    {
      "cell_type": "markdown",
      "metadata": {
        "id": "E7vGd8ZORprP"
      },
      "source": [
        "#### Exercise 2.1\n",
        "Implement the model."
      ]
    },
    {
      "cell_type": "code",
      "metadata": {
        "colab": {
          "base_uri": "https://localhost:8080/"
        },
        "id": "mDk_lRLPUmF5",
        "outputId": "46023f8c-2bfb-414c-c244-e5c431d3644a"
      },
      "source": [
        "# Get number of columns in training data\n",
        "input_dim_mnist = x_mnist_train.shape[1]\n",
        "\n",
        "# Get number of classes\n",
        "mnist_classes_nb = y_mnist_train_1hot.shape[1]\n",
        "\n",
        "# Use Keras sequential model\n",
        "model = Sequential()\n",
        "model.add(Dense(mnist_classes_nb, activation='relu', name=\"input_layer\",  input_shape=(input_dim_mnist,)))\n",
        "model.add(Dense(mnist_classes_nb, activation='softmax', name=\"output_layer\"))\n",
        "model.compile(optimizer='SGD', loss='categorical_crossentropy', metrics=[\"accuracy\"])\n",
        "model.name_=\"model 2.1\"\n",
        "model.summary()"
      ],
      "execution_count": 66,
      "outputs": [
        {
          "output_type": "stream",
          "text": [
            "Model: \"sequential_2\"\n",
            "_________________________________________________________________\n",
            "Layer (type)                 Output Shape              Param #   \n",
            "=================================================================\n",
            "input_layer (Dense)          (None, 10)                7850      \n",
            "_________________________________________________________________\n",
            "output_layer (Dense)         (None, 10)                110       \n",
            "=================================================================\n",
            "Total params: 7,960\n",
            "Trainable params: 7,960\n",
            "Non-trainable params: 0\n",
            "_________________________________________________________________\n"
          ],
          "name": "stdout"
        }
      ]
    },
    {
      "cell_type": "markdown",
      "metadata": {
        "id": "fDsqMm-ETZqT"
      },
      "source": [
        "#### Exercise 2.2\n",
        "Train for as many epochs as needed to see no further decrease in the validation loss."
      ]
    },
    {
      "cell_type": "code",
      "metadata": {
        "id": "k5X-t43-Ie-L"
      },
      "source": [
        "def get_history(x_train, y_train, x_val, y_val, model, epochs, name, early_stop = true):\n",
        "  \"\"\"Train model and save history or reload history if file exist.\"\"\"\n",
        "  save_dir = 'save'\n",
        "  numpy_ext = '.npy'\n",
        "  keras_ext = '.keras'\n",
        "  path_history = os.path.join(save_dir,  'history_' + name + numpy_ext)\n",
        "  path_model = os.path.join(save_dir, 'model_' + name + keras_ext)\n",
        "\n",
        "  if os.path.isdir(save_dir) is not True:\n",
        "    os.mkdir(save_dir)\n",
        "\n",
        "  if (os.path.isfile(path_history) & os.path.isfile(path_model)) is not True:\n",
        "    print(\"{path_history} and {path_model} doesn't exist.\")\n",
        "\n",
        "    save_callback = ModelCheckpoint(path_model, monitor='val_loss', mode='min', save_best_only=True, verbose=1)\n",
        "    callbacks = [save_callback]\n",
        "\n",
        "    if early_stop:\n",
        "      stop_callback = EarlyStopping(monitor='val_loss', mode='min', verbose=1, patience=20)\n",
        "      callbacks.append[stop_callback]    \n",
        "    \n",
        "    fit_output = model.fit(x_train, y_train, validation_data=(x_val, y_val), epochs=epochs, callbacks=callbacks, verbose=verbose)\n",
        "    history = fit_output.history\n",
        "    np.save(path_history,history)\n",
        "  else:\n",
        "    print(\"loading\", path_history)\n",
        "    history = np.load(path_history,allow_pickle='TRUE').item()\n",
        "\n",
        "  return history"
      ],
      "execution_count": 67,
      "outputs": []
    },
    {
      "cell_type": "code",
      "metadata": {
        "colab": {
          "base_uri": "https://localhost:8080/"
        },
        "id": "enKDEfdkTQ68",
        "outputId": "1546760f-6046-47b6-9623-539ee060f4eb"
      },
      "source": [
        "epochs = 100\n",
        "history = get_history(x_mnist_train, y_mnist_train_1hot, x_mnist_test, y_mnist_test_1hot, model, epochs, 'ex_2.2')"
      ],
      "execution_count": 68,
      "outputs": [
        {
          "output_type": "stream",
          "text": [
            "loading save/history_ex_2.2.npy\n"
          ],
          "name": "stdout"
        }
      ]
    },
    {
      "cell_type": "markdown",
      "metadata": {
        "id": "B6jIRPNeLR9X"
      },
      "source": [
        "#### Exercise 2.3\n",
        "\n",
        "Plot the learning curves resulting from the fitting procedure (a history object) using the function `plot_history` defined above."
      ]
    },
    {
      "cell_type": "code",
      "metadata": {
        "colab": {
          "base_uri": "https://localhost:8080/",
          "height": 302
        },
        "id": "VVP8kpKlJgmi",
        "outputId": "b13dbb5d-09bc-4cf4-9b4a-1f5eb9e1b8ec"
      },
      "source": [
        "plot_history_cust(history, \"MNIST learning with no Hidden Layer\");"
      ],
      "execution_count": 69,
      "outputs": [
        {
          "output_type": "display_data",
          "data": {
            "image/png": "[encoded data removed]",
            "text/plain": [
              "<Figure size 432x288 with 2 Axes>"
            ]
          },
          "metadata": {
            "tags": [],
            "needs_background": "light"
          }
        }
      ]
    },
    {
      "cell_type": "markdown",
      "metadata": {
        "id": "jANnS4HqMROF"
      },
      "source": [
        "#### Exercise 2.4\n",
        "\n",
        "Repeat with the Fashion-MNIST dataset."
      ]
    },
    {
      "cell_type": "code",
      "metadata": {
        "id": "aw9b2nInUOcA"
      },
      "source": [
        "# Get number of columns in training data\n",
        "input_dim_fashion = x_mnist_fash_train.shape[1]\n",
        "\n",
        "# Get number of classes\n",
        "fashion_classes_nb = y_mnist_fash_train_1hot.shape[1]\n",
        "\n",
        "#Define model callbacks\n",
        "stop_callback = EarlyStopping(monitor='val_loss', mode='min', verbose=1, patience=20)\n",
        "callbacks = [stop_callback]"
      ],
      "execution_count": 70,
      "outputs": []
    },
    {
      "cell_type": "code",
      "metadata": {
        "id": "PmvJqNFnUOcB",
        "colab": {
          "base_uri": "https://localhost:8080/"
        },
        "outputId": "b5c2592a-114a-4c0c-fa49-1033476b14c5"
      },
      "source": [
        "# Use Keras sequential model\n",
        "model = Sequential()\n",
        "model.add(Dense(fashion_classes_nb, activation='relu', input_shape=(input_dim_fashion,)))\n",
        "model.add(Dense(fashion_classes_nb, activation='softmax'))\n",
        "model.compile(optimizer='SGD', loss='categorical_crossentropy', metrics=[\"accuracy\"])\n",
        "model.summary()"
      ],
      "execution_count": 71,
      "outputs": [
        {
          "output_type": "stream",
          "text": [
            "Model: \"sequential_3\"\n",
            "_________________________________________________________________\n",
            "Layer (type)                 Output Shape              Param #   \n",
            "=================================================================\n",
            "dense_2 (Dense)              (None, 10)                7850      \n",
            "_________________________________________________________________\n",
            "dense_3 (Dense)              (None, 10)                110       \n",
            "=================================================================\n",
            "Total params: 7,960\n",
            "Trainable params: 7,960\n",
            "Non-trainable params: 0\n",
            "_________________________________________________________________\n"
          ],
          "name": "stdout"
        }
      ]
    },
    {
      "cell_type": "code",
      "metadata": {
        "colab": {
          "base_uri": "https://localhost:8080/"
        },
        "id": "zeS99WhhMW_-",
        "outputId": "f11b8960-7a1b-478b-aefa-a785c62c4070"
      },
      "source": [
        "history = get_history(x_mnist_fash_train, y_mnist_fash_train_1hot, x_mnist_fash_test, y_mnist_fash_test_1hot, model, epochs, 'ex_2.4')"
      ],
      "execution_count": 72,
      "outputs": [
        {
          "output_type": "stream",
          "text": [
            "loading save/history_ex_2.4.npy\n"
          ],
          "name": "stdout"
        }
      ]
    },
    {
      "cell_type": "code",
      "metadata": {
        "id": "TYnfImWfNT9o",
        "colab": {
          "base_uri": "https://localhost:8080/",
          "height": 302
        },
        "outputId": "927da835-85e3-417a-dfe1-138c7ffa0d58"
      },
      "source": [
        "plot_history_cust(history, \"Fashion-MNIST learning with no hidden layer \");"
      ],
      "execution_count": 73,
      "outputs": [
        {
          "output_type": "display_data",
          "data": {
            "image/png": "[encoded data removed]",
            "text/plain": [
              "<Figure size 432x288 with 2 Axes>"
            ]
          },
          "metadata": {
            "tags": [],
            "needs_background": "light"
          }
        }
      ]
    },
    {
      "cell_type": "markdown",
      "metadata": {
        "id": "WvUjwawMNfS9"
      },
      "source": [
        "We see that the improvement of the validation accuracy levels out around 75 epochs."
      ]
    },
    {
      "cell_type": "markdown",
      "metadata": {
        "id": "93JrKMECUmF5"
      },
      "source": [
        "## Exercise 3: One hidden layer, different optimizers (10 points)\n",
        "\n",
        "Train a network with one hidden layer and compare different optimizers for the MNIST dataset.\n",
        "\n",
        "1. Use one hidden layer with 128 units and the 'relu' activation. Use the [summary method](https://keras.io/api/models/model/#summary-method) to display your model in a compact way. (1 pt)\n",
        "2. Train the model for at least 50 epochs with different learning rates of stochastic gradient descent (SGD). What happens if the learning rate $\\eta$ is very large (for ex. $\\eta=1$), and very small (for ex. $\\eta=0.001$)? Comment on the fluctuations of the learning curve. (2 pts)\n",
        "3. Replace the stochastic gradient descent optimizer with the [Adam optimizer](https://keras.io/optimizers/#adam) (you can use the default learning rate). (1pt)\n",
        "4. Plot the learning curves of SGD with a good learning rate (i.e. in the range [0.01,0.1]) together with the learning curves of Adam in the same figure. Take care of a reasonable labeling of the curves in the plot. (1 pts)\n",
        "5. Explain the qualitative difference between the loss and accuracy curves with respect to signs of overfitting. Report the best validation accuracy achieved for SGD and Adam. Which one is better and why do you think so? (2 pts)\n",
        "6. Determine the indices of all test images that are misclassified by the fitted model and plot some of them using the function \n",
        "   `plot_some_samples`. (1 pt)\n",
        "\n",
        "Real-world datasets are labeled by some people and sometimes there are mistakes in the labeling. We will corrupt labels of the MNIST dataset artifically, and observe an overfitting to this noisy dataset with Adam. \n",
        "\n",
        "7. Take $ p = 0.2 $ fraction of the data points from the training dataset of MNIST and change their class labels randomly. (You can sample a random integer from 0 to 9 using `np.random.uniform` and `np.floor`). Train with Adam for 50 or 100 epochs. Plot the learning curves. Do you observe overfitting in the validation accuracy? Does it take longer to converge to perfect training accuracy compare to noise-free MNIST? (2 pts)"
      ]
    },
    {
      "cell_type": "markdown",
      "metadata": {
        "id": "JqsjfxPdUmF5"
      },
      "source": [
        "**Answer to Question 2** (max 2 sentences): We can see in the diagrams that fluctuations of the learning curve are increasing with the learning rate (for small learning rates {0.01, 0.001} almost no fluctuations in the learning curve can be seen anymore and the shape of the learning curve is really smooth). This can be explained by the fact that with a small learning rates, the algorithm makes smaller steps, and so weights change less before correcting direction.\n",
        "\n",
        "**Answer to Question 5** (max 3 sentences): Adam is faster to learn but at the end they perform in the same way (so faster leaning, but similar performances). We can explain it, saying that the networks are the same, but in Adam case the learning rate is adapting. To get models of similar performances, we must stop learning when it begins to overfit (around 5 epochs for Adam).\n",
        "\n",
        "**Answer to Question 7** (max 2 sentences): The noisy dataset begins to overfit after around 5 epochs. The model is definetly overfitting to the noise in the noisy MNIST dataset. It takes much longer to converge towards the perfect training accuracy on the noisy MNIST dataset."
      ]
    },
    {
      "cell_type": "markdown",
      "metadata": {
        "id": "hqNAh2guUmF5"
      },
      "source": [
        "### Solution"
      ]
    },
    {
      "cell_type": "code",
      "metadata": {
        "id": "Y8E46szjUOcC"
      },
      "source": [
        "from keras.layers import Input\n",
        "from keras.models import Model\n",
        "\n",
        "def model_1_hidd_layer_128_units(input_dim):\n",
        "    \"\"\"Create a model with one hidden layer with 128 units and the 'relu' activation and using given input dimensions.\"\"\"\n",
        "    inputs = Input(shape=(input_dim,), name=\"input_layer\")\n",
        "    layer = Dense(128, activation='relu', name=\"hidden_layer\")(inputs)\n",
        "    outputs = Dense(mnist_classes_nb, activation='softmax', name=\"output_layer\")(layer)\n",
        "    model = Model(inputs=inputs, outputs=outputs)\n",
        "\n",
        "    return model"
      ],
      "execution_count": 74,
      "outputs": []
    },
    {
      "cell_type": "markdown",
      "metadata": {
        "id": "52WnT_AcObgs"
      },
      "source": [
        "#### Exercise 3.1\n",
        "\n",
        "Use one hidden layer with 128 units and the 'relu' activation. Use the [summary method](https://keras.io/api/models/model/#summary-method) to display your model in a compact way."
      ]
    },
    {
      "cell_type": "code",
      "metadata": {
        "id": "uE8X5bTnUOcC",
        "colab": {
          "base_uri": "https://localhost:8080/"
        },
        "outputId": "e5368793-2c4d-40a3-f154-f8f899105c15"
      },
      "source": [
        "model = model_1_hidd_layer_128_units(input_dim_mnist)\n",
        "model.summary()"
      ],
      "execution_count": 75,
      "outputs": [
        {
          "output_type": "stream",
          "text": [
            "Model: \"model_8\"\n",
            "_________________________________________________________________\n",
            "Layer (type)                 Output Shape              Param #   \n",
            "=================================================================\n",
            "input_layer (InputLayer)     [(None, 784)]             0         \n",
            "_________________________________________________________________\n",
            "hidden_layer (Dense)         (None, 128)               100480    \n",
            "_________________________________________________________________\n",
            "output_layer (Dense)         (None, 10)                1290      \n",
            "=================================================================\n",
            "Total params: 101,770\n",
            "Trainable params: 101,770\n",
            "Non-trainable params: 0\n",
            "_________________________________________________________________\n"
          ],
          "name": "stdout"
        }
      ]
    },
    {
      "cell_type": "markdown",
      "metadata": {
        "id": "tqZiIDyzdnWz"
      },
      "source": [
        "#### Exercise 3.2\n",
        "\n",
        "Train the model for at least 50 epochs with different learning rates of stochastic gradient descent (SGD). What happens if the learning rate  𝜂 is very large (for ex.  𝜂=1), and very small (for ex.  𝜂=0.001)? Comment on the fluctuations of the learning curve."
      ]
    },
    {
      "cell_type": "code",
      "metadata": {
        "colab": {
          "base_uri": "https://localhost:8080/"
        },
        "id": "Zrvvd0gcd7jh",
        "outputId": "cba0557e-9000-4a87-b876-e21e8e0b4c1c"
      },
      "source": [
        "learning_rates = [10**(-e) for e in range(0,4)]\n",
        "histories = []\n",
        "epochs = 50\n",
        "model = model_1_hidd_layer_128_units(input_dim_mnist)\n",
        "\n",
        "for lr in learning_rates:\n",
        "    print(\"Optimizing model with SGD (lr: {0})\".format(lr))\n",
        "    model = model_1_hidd_layer_128_units(input_dim_mnist)\n",
        "    model.compile(optimizer=SGD(lr=lr), loss='categorical_crossentropy', metrics=[\"accuracy\"])\n",
        "    name = 'ex_3.2_lr_{0}'.format(lr)\n",
        "    history = get_history(x_mnist_train, y_mnist_train_1hot, x_mnist_test, y_mnist_test_1hot, model, epochs, name)\n",
        "    histories.append(history)"
      ],
      "execution_count": 76,
      "outputs": [
        {
          "output_type": "stream",
          "text": [
            "Optimizing model with SGD (lr: 1)\n",
            "loading save/history_ex_3.2_lr_1.npy\n",
            "Optimizing model with SGD (lr: 0.1)\n",
            "loading save/history_ex_3.2_lr_0.1.npy\n",
            "Optimizing model with SGD (lr: 0.01)\n",
            "loading save/history_ex_3.2_lr_0.01.npy\n",
            "Optimizing model with SGD (lr: 0.001)\n",
            "loading save/history_ex_3.2_lr_0.001.npy\n"
          ],
          "name": "stdout"
        }
      ]
    },
    {
      "cell_type": "code",
      "metadata": {
        "colab": {
          "base_uri": "https://localhost:8080/",
          "height": 1000
        },
        "id": "qTWeXrv9I62R",
        "outputId": "f73786d7-5f57-402f-d88b-eb6cea7b8860"
      },
      "source": [
        "print(\"Learning on MNIST dataset\")\n",
        "for i in range(len(histories)):\n",
        "  history = histories[i]\n",
        "  lr = learning_rates[i]\n",
        "  plot_history_cust(history, \"Learning rate {0}\".format(lr));"
      ],
      "execution_count": 77,
      "outputs": [
        {
          "output_type": "stream",
          "text": [
            "Learning on MNIST dataset\n"
          ],
          "name": "stdout"
        },
        {
          "output_type": "display_data",
          "data": {
            "image/png": "[encoded data removed]",
            "text/plain": [
              "<Figure size 432x288 with 2 Axes>"
            ]
          },
          "metadata": {
            "tags": [],
            "needs_background": "light"
          }
        },
        {
          "output_type": "display_data",
          "data": {
            "image/png": "[encoded data removed]",
            "text/plain": [
              "<Figure size 432x288 with 2 Axes>"
            ]
          },
          "metadata": {
            "tags": [],
            "needs_background": "light"
          }
        },
        {
          "output_type": "display_data",
          "data": {
            "image/png": "[encoded data removed]",
            "text/plain": [
              "<Figure size 432x288 with 2 Axes>"
            ]
          },
          "metadata": {
            "tags": [],
            "needs_background": "light"
          }
        },
        {
          "output_type": "display_data",
          "data": {
            "image/png": "[encoded data removed]",
            "text/plain": [
              "<Figure size 432x288 with 2 Axes>"
            ]
          },
          "metadata": {
            "tags": [],
            "needs_background": "light"
          }
        }
      ]
    },
    {
      "cell_type": "markdown",
      "metadata": {
        "id": "jwlnJS6JFac4"
      },
      "source": [
        "#### Exercise 3.3\n",
        "\n",
        "Replace the stochastic gradient descent optimizer with the [Adam optimizer](https://keras.io/optimizers/#adam) (you can use the default learning rate)."
      ]
    },
    {
      "cell_type": "code",
      "metadata": {
        "id": "fkKPojMOF6wg",
        "colab": {
          "base_uri": "https://localhost:8080/"
        },
        "outputId": "d57d0cf2-4155-439a-a8f4-139fef5b3641"
      },
      "source": [
        "model_adam = model_1_hidd_layer_128_units(input_dim_mnist)\n",
        "adam_lr = 0.001\n",
        "model_adam.compile(optimizer=Adam(learning_rate=adam_lr), loss='categorical_crossentropy', metrics=[\"accuracy\"])\n",
        "history_adam = get_history(x_mnist_train, y_mnist_train_1hot, x_mnist_test, y_mnist_test_1hot, model, epochs, 'ex_3.3_lr_{0}'.format(adam_lr))"
      ],
      "execution_count": 78,
      "outputs": [
        {
          "output_type": "stream",
          "text": [
            "loading save/history_ex_3.3_lr_0.001.npy\n"
          ],
          "name": "stdout"
        }
      ]
    },
    {
      "cell_type": "code",
      "metadata": {
        "id": "80kW0NP1KA1U",
        "colab": {
          "base_uri": "https://localhost:8080/",
          "height": 302
        },
        "outputId": "c6372979-45ff-45ee-9f1d-59dfd7869795"
      },
      "source": [
        "plot_history_cust(history_adam, \"MNIST learning with Adam (learning rate {0})\".format(adam_lr));"
      ],
      "execution_count": 79,
      "outputs": [
        {
          "output_type": "display_data",
          "data": {
            "image/png": "[encoded data removed]",
            "text/plain": [
              "<Figure size 432x288 with 2 Axes>"
            ]
          },
          "metadata": {
            "tags": [],
            "needs_background": "light"
          }
        }
      ]
    },
    {
      "cell_type": "markdown",
      "metadata": {
        "id": "d4nlIXiGL58O"
      },
      "source": [
        "#### Exercise 3.4\n",
        "\n",
        "Plot the learning curves of SGD with a good learning rate (i.e. in the range [0.01,0.1]) together with the learning curves of Adam in the same figure. Take care of a reasonable labeling of the curves in the plot.\n"
      ]
    },
    {
      "cell_type": "code",
      "metadata": {
        "id": "Xu3ZMXLBUmF6"
      },
      "source": [
        "# This plotting routine might help you ...\n",
        "def comparison_plot(history_sgd, history_adam, label1, label2, title):\n",
        "    fig, ax1, ax2 = prepare_standardplot(title, \"epochs\")\n",
        "    ax1.plot(history_sgd.history['loss'], label=label1 + ' train')\n",
        "    ax1.plot(history_sgd.history['val_loss'], label=label1 + ' val')\n",
        "    ax1.plot(history_adam.history['loss'], label=label2 + ' train')\n",
        "    ax1.plot(history_adam.history['val_loss'], label=label2 + ' val')\n",
        "    ax2.plot(history_sgd.history['accuracy'], label=label1 + ' train')\n",
        "    ax2.plot(history_sgd.history['val_accuracy'], label=label1 + ' val')\n",
        "    ax2.plot(history_adam.history['accuracy'], label=label2 + ' train')\n",
        "    ax2.plot(history_adam.history['val_accuracy'], label=label2 + ' val')\n",
        "    finalize_standardplot(fig, ax1, ax2)\n",
        "    return fig"
      ],
      "execution_count": 80,
      "outputs": []
    },
    {
      "cell_type": "code",
      "metadata": {
        "id": "Ln8YLXJb9Btv"
      },
      "source": [
        "# Customized plotting function\n",
        "def comparison_plot_cust(history_sgd, history_adam, label1, label2, title):\n",
        "    fig, ax1, ax2 = prepare_standardplot(title, \"epochs\")\n",
        "    ax1.plot(history_sgd['loss'], label=label1 + ' train')\n",
        "    ax1.plot(history_sgd['val_loss'], label=label1 + ' val')\n",
        "    ax1.plot(history_adam['loss'], label=label2 + ' train')\n",
        "    ax1.plot(history_adam['val_loss'], label=label2 + ' val')\n",
        "    ax2.plot(history_sgd['accuracy'], label=label1 + ' train')\n",
        "    ax2.plot(history_sgd['val_accuracy'], label=label1 + ' val')\n",
        "    ax2.plot(history_adam['accuracy'], label=label2 + ' train')\n",
        "    ax2.plot(history_adam['val_accuracy'], label=label2 + ' val')\n",
        "    finalize_standardplot(fig, ax1, ax2)\n",
        "    return fig"
      ],
      "execution_count": 81,
      "outputs": []
    },
    {
      "cell_type": "code",
      "metadata": {
        "id": "CJNmTC4fMl4i",
        "colab": {
          "base_uri": "https://localhost:8080/",
          "height": 302
        },
        "outputId": "31e6cdf3-a7b0-458a-e4f9-5b00424c1fb7"
      },
      "source": [
        "sgd_lr = 0.1\n",
        "history_sgd = histories[learning_rates.index(sgd_lr)]\n",
        "comparison_plot_cust(history_sgd, history_adam, \"SGD (LR {0})\".format(sgd_lr), \"Adam(LR {0})\".format(adam_lr), \"Optimizer Comparison\");"
      ],
      "execution_count": 82,
      "outputs": [
        {
          "output_type": "display_data",
          "data": {
            "image/png": "[encoded data removed]",
            "text/plain": [
              "<Figure size 432x288 with 2 Axes>"
            ]
          },
          "metadata": {
            "tags": [],
            "needs_background": "light"
          }
        }
      ]
    },
    {
      "cell_type": "markdown",
      "metadata": {
        "id": "Rmqo7WOOUOcE"
      },
      "source": [
        "#### Exercise 3.5\n",
        "Explain the qualitative difference between the loss and accuracy curves with respect to signs of overfitting. Report the best validation accuracy achieved for SGD and Adam. Which one is better and why do you think so?"
      ]
    },
    {
      "cell_type": "code",
      "metadata": {
        "colab": {
          "base_uri": "https://localhost:8080/",
          "height": 36
        },
        "id": "cGzbRmSdDBOL",
        "outputId": "e9138b81-c01a-49e5-b7ae-b7bd55a300d8"
      },
      "source": [
        "sgd_lr\n",
        "from keras.models import load_model\n",
        "model_path = \"./save/model_ex_3.2_lr_{0}.keras\".format(str(sgd_lr))\n",
        "model_path\n"
      ],
      "execution_count": 83,
      "outputs": [
        {
          "output_type": "execute_result",
          "data": {
            "application/vnd.google.colaboratory.intrinsic+json": {
              "type": "string"
            },
            "text/plain": [
              "'./save/model_ex_3.2_lr_0.1.keras'"
            ]
          },
          "metadata": {
            "tags": []
          },
          "execution_count": 83
        }
      ]
    },
    {
      "cell_type": "code",
      "metadata": {
        "id": "mKOnsvwwDbIR"
      },
      "source": [
        "model_sgd = load_model(model_path, compile=True)"
      ],
      "execution_count": 84,
      "outputs": []
    },
    {
      "cell_type": "code",
      "metadata": {
        "colab": {
          "base_uri": "https://localhost:8080/"
        },
        "id": "o4a4sp5VCtN6",
        "outputId": "dd9f7c06-3a87-4be9-a4f3-15e5f837d212"
      },
      "source": [
        "err, acc = model_sgd.evaluate(x_mnist_test, y_mnist_test_1hot, verbose=0)\n",
        "print(\"{path}: err: {err}, acc: {acc}\".format(path=model_path, err=err, acc=acc))"
      ],
      "execution_count": 85,
      "outputs": [
        {
          "output_type": "stream",
          "text": [
            "./save/model_ex_3.2_lr_0.1.keras: err: 0.06350480020046234, acc: 0.9803000092506409\n"
          ],
          "name": "stdout"
        }
      ]
    },
    {
      "cell_type": "code",
      "metadata": {
        "id": "vkvbFPGK9yZA",
        "colab": {
          "base_uri": "https://localhost:8080/"
        },
        "outputId": "7ed6c300-1b90-4ed2-9d73-257a8202d24b"
      },
      "source": [
        "model_path = \"./save/model_ex_3.3_lr_{0}.keras\".format(str(adam_lr))\n",
        "model_adam = load_model(model_path, compile=True)\n",
        "err, acc = model_adam.evaluate(x_mnist_test, y_mnist_test_1hot, verbose=0)\n",
        "print(\"{name}: err: {err}, acc: {acc}\".format(name=model_path, err=err, acc=acc))"
      ],
      "execution_count": 86,
      "outputs": [
        {
          "output_type": "stream",
          "text": [
            "./save/model_ex_3.3_lr_0.001.keras: err: 0.21491706371307373, acc: 0.9402999877929688\n"
          ],
          "name": "stdout"
        }
      ]
    },
    {
      "cell_type": "markdown",
      "metadata": {
        "id": "a1pi3qoPUOcE"
      },
      "source": [
        "### Exercise 3.6\n",
        "Determine the indices of all test images that are misclassified by the fitted model and plot some of them using the function `plot_some_samples`."
      ]
    },
    {
      "cell_type": "code",
      "metadata": {
        "id": "RBRa0vEuUOcF",
        "colab": {
          "base_uri": "https://localhost:8080/",
          "height": 499
        },
        "outputId": "d24ffc73-0ae3-4e29-9ee4-b4fb0cde58dc"
      },
      "source": [
        "models = [model_sgd, model_adam]\n",
        "for model in models:\n",
        "    y_pred = model.predict_on_batch(x_mnist_test).argmax(axis=1)\n",
        "    indices = [i for i,v in enumerate(y_pred) if y_pred[i]!=y_mnist_test[i]]\n",
        "    x_wrongly_predicted = np.asarray([x_mnist_test[i] for i in indices])\n",
        "    y_wrongly_predicted = np.asarray([y_pred[i] for i in indices])\n",
        "    y_true_prediction = np.asarray([y_mnist_test[i] for i in indices])\n",
        "    plot_some_samples_cust(x_wrongly_predicted, y_true_prediction, y_wrongly_predicted, ncols=6, nrows=4);"
      ],
      "execution_count": 87,
      "outputs": [
        {
          "output_type": "display_data",
          "data": {
            "image/png": "[encoded data removed]",
            "text/plain": [
              "<Figure size 432x288 with 24 Axes>"
            ]
          },
          "metadata": {
            "tags": [],
            "needs_background": "light"
          }
        },
        {
          "output_type": "display_data",
          "data": {
            "image/png": "[encoded data removed]",
            "text/plain": [
              "<Figure size 432x288 with 24 Axes>"
            ]
          },
          "metadata": {
            "tags": [],
            "needs_background": "light"
          }
        }
      ]
    },
    {
      "cell_type": "markdown",
      "metadata": {
        "id": "-b33M0ko9yZD"
      },
      "source": [
        "#### Exercise 3.7\n",
        "\n",
        "7. Take $ p = 0.2 $ fraction of the data points from the training dataset of MNIST and change their class labels randomly. (You can sample a random integer from 0 to 9 using `np.random.uniform` and `np.floor`). Train with Adam for 50 or 100 epochs. Plot the learning curves. Do you observe overfitting in the validation accuracy? Does it take longer to converge to perfect training accuracy compare to noise-free MNIST? (2 pts)<br/>\n",
        "**=> The training accuracy is increasing, starting from 80% and reaching around 90% after 100 episodes. The validation accuracy on the other hand is decreasing from 95% to around 80% after 100 episodes. The model is definetly overfitting to the noise in the shifted MNIST dataset. It takes much longer to converge towards the perfect training accuracy on the noisy MNIST dataset.**"
      ]
    },
    {
      "cell_type": "code",
      "metadata": {
        "colab": {
          "base_uri": "https://localhost:8080/"
        },
        "id": "AIx3HIYmCUX3",
        "outputId": "06ccb061-482f-4831-ee86-3b77e150946a"
      },
      "source": [
        "# Define indices to noise\n",
        "p = 0.2 # define fraction of the data points\n",
        "mnist_train_length = original_mnist_train_shape[0]\n",
        "indices = np.arange(mnist_train_length)\n",
        "noise_number_mnist = int(mnist_train_length*p)\n",
        "noisy_indices = np.random.choice(indices, noise_number_mnist)\n",
        "\n",
        "# Generate noisy labels\n",
        "y_mnist_train_1hot_noisy = y_mnist_train_1hot.copy()\n",
        "for index in noisy_indices:\n",
        "  class_index = np.floor(np.random.uniform(0,9.99))\n",
        "  vector = to_categorical(class_index, num_classes=mnist_classes_nb)\n",
        "  y_mnist_train_1hot_noisy[index] = vector\n",
        "\n",
        "# Train with noisy labels\n",
        "history_adam_noisy = model.compile(optimizer=Adam(learning_rate=adam_lr), loss='categorical_crossentropy', metrics=[\"accuracy\"])\n",
        "epochs=100\n",
        "history_adam_noisy = get_history(x_mnist_train,y_mnist_train_1hot_noisy, x_mnist_test, y_mnist_test_1hot, \n",
        "                                 model, epochs=epochs, name = 'ex_3.7_lr_{0}'.format(adam_lr), early_stop = False)"
      ],
      "execution_count": 89,
      "outputs": [
        {
          "output_type": "stream",
          "text": [
            "{path_history} and {path_model} doesn't exist.\n",
            "Epoch 1/100\n",
            "1875/1875 [==============================] - 6s 3ms/step - loss: 0.9949 - accuracy: 0.8110 - val_loss: 0.3077 - val_accuracy: 0.9590\n",
            "\n",
            "Epoch 00001: val_loss improved from inf to 0.30774, saving model to save/model_ex_3.7_lr_0.001.keras\n",
            "Epoch 2/100\n",
            "1875/1875 [==============================] - 6s 3ms/step - loss: 0.8968 - accuracy: 0.8213 - val_loss: 0.3091 - val_accuracy: 0.9660\n",
            "\n",
            "Epoch 00002: val_loss did not improve from 0.30774\n",
            "Epoch 3/100\n",
            "1875/1875 [==============================] - 6s 3ms/step - loss: 0.8691 - accuracy: 0.8221 - val_loss: 0.3117 - val_accuracy: 0.9644\n",
            "\n",
            "Epoch 00003: val_loss did not improve from 0.30774\n",
            "Epoch 4/100\n",
            "1875/1875 [==============================] - 6s 3ms/step - loss: 0.8475 - accuracy: 0.8231 - val_loss: 0.2844 - val_accuracy: 0.9649\n",
            "\n",
            "Epoch 00004: val_loss improved from 0.30774 to 0.28438, saving model to save/model_ex_3.7_lr_0.001.keras\n",
            "Epoch 5/100\n",
            "1875/1875 [==============================] - 6s 3ms/step - loss: 0.8302 - accuracy: 0.8231 - val_loss: 0.2974 - val_accuracy: 0.9624\n",
            "\n",
            "Epoch 00005: val_loss did not improve from 0.28438\n",
            "Epoch 6/100\n",
            "1875/1875 [==============================] - 5s 3ms/step - loss: 0.8019 - accuracy: 0.8282 - val_loss: 0.3022 - val_accuracy: 0.9648\n",
            "\n",
            "Epoch 00006: val_loss did not improve from 0.28438\n",
            "Epoch 7/100\n",
            "1875/1875 [==============================] - 6s 3ms/step - loss: 0.7933 - accuracy: 0.8266 - val_loss: 0.2799 - val_accuracy: 0.9645\n",
            "\n",
            "Epoch 00007: val_loss improved from 0.28438 to 0.27988, saving model to save/model_ex_3.7_lr_0.001.keras\n",
            "Epoch 8/100\n",
            "1875/1875 [==============================] - 5s 3ms/step - loss: 0.7898 - accuracy: 0.8242 - val_loss: 0.2948 - val_accuracy: 0.9581\n",
            "\n",
            "Epoch 00008: val_loss did not improve from 0.27988\n",
            "Epoch 9/100\n",
            "1875/1875 [==============================] - 5s 3ms/step - loss: 0.7665 - accuracy: 0.8287 - val_loss: 0.3059 - val_accuracy: 0.9588\n",
            "\n",
            "Epoch 00009: val_loss did not improve from 0.27988\n",
            "Epoch 10/100\n",
            "1875/1875 [==============================] - 6s 3ms/step - loss: 0.7545 - accuracy: 0.8318 - val_loss: 0.2860 - val_accuracy: 0.9602\n",
            "\n",
            "Epoch 00010: val_loss did not improve from 0.27988\n",
            "Epoch 11/100\n",
            "1875/1875 [==============================] - 5s 3ms/step - loss: 0.7472 - accuracy: 0.8297 - val_loss: 0.3030 - val_accuracy: 0.9579\n",
            "\n",
            "Epoch 00011: val_loss did not improve from 0.27988\n",
            "Epoch 12/100\n",
            "1875/1875 [==============================] - 5s 3ms/step - loss: 0.7316 - accuracy: 0.8313 - val_loss: 0.2951 - val_accuracy: 0.9555\n",
            "\n",
            "Epoch 00012: val_loss did not improve from 0.27988\n",
            "Epoch 13/100\n",
            "1875/1875 [==============================] - 5s 3ms/step - loss: 0.7259 - accuracy: 0.8318 - val_loss: 0.3095 - val_accuracy: 0.9527\n",
            "\n",
            "Epoch 00013: val_loss did not improve from 0.27988\n",
            "Epoch 14/100\n",
            "1875/1875 [==============================] - 5s 3ms/step - loss: 0.7092 - accuracy: 0.8335 - val_loss: 0.2991 - val_accuracy: 0.9553\n",
            "\n",
            "Epoch 00014: val_loss did not improve from 0.27988\n",
            "Epoch 15/100\n",
            "1875/1875 [==============================] - 5s 3ms/step - loss: 0.7109 - accuracy: 0.8322 - val_loss: 0.2935 - val_accuracy: 0.9514\n",
            "\n",
            "Epoch 00015: val_loss did not improve from 0.27988\n",
            "Epoch 16/100\n",
            "1875/1875 [==============================] - 5s 3ms/step - loss: 0.6914 - accuracy: 0.8366 - val_loss: 0.3304 - val_accuracy: 0.9462\n",
            "\n",
            "Epoch 00016: val_loss did not improve from 0.27988\n",
            "Epoch 17/100\n",
            "1875/1875 [==============================] - 5s 3ms/step - loss: 0.6780 - accuracy: 0.8378 - val_loss: 0.3314 - val_accuracy: 0.9453\n",
            "\n",
            "Epoch 00017: val_loss did not improve from 0.27988\n",
            "Epoch 18/100\n",
            "1875/1875 [==============================] - 5s 3ms/step - loss: 0.6804 - accuracy: 0.8365 - val_loss: 0.3250 - val_accuracy: 0.9434\n",
            "\n",
            "Epoch 00018: val_loss did not improve from 0.27988\n",
            "Epoch 19/100\n",
            "1875/1875 [==============================] - 5s 3ms/step - loss: 0.6689 - accuracy: 0.8377 - val_loss: 0.3207 - val_accuracy: 0.9421\n",
            "\n",
            "Epoch 00019: val_loss did not improve from 0.27988\n",
            "Epoch 20/100\n",
            "1875/1875 [==============================] - 5s 3ms/step - loss: 0.6516 - accuracy: 0.8427 - val_loss: 0.3074 - val_accuracy: 0.9425\n",
            "\n",
            "Epoch 00020: val_loss did not improve from 0.27988\n",
            "Epoch 21/100\n",
            "1875/1875 [==============================] - 5s 3ms/step - loss: 0.6472 - accuracy: 0.8416 - val_loss: 0.3129 - val_accuracy: 0.9424\n",
            "\n",
            "Epoch 00021: val_loss did not improve from 0.27988\n",
            "Epoch 22/100\n",
            "1875/1875 [==============================] - 6s 3ms/step - loss: 0.6375 - accuracy: 0.8409 - val_loss: 0.3353 - val_accuracy: 0.9406\n",
            "\n",
            "Epoch 00022: val_loss did not improve from 0.27988\n",
            "Epoch 23/100\n",
            "1875/1875 [==============================] - 6s 3ms/step - loss: 0.6269 - accuracy: 0.8451 - val_loss: 0.3376 - val_accuracy: 0.9379\n",
            "\n",
            "Epoch 00023: val_loss did not improve from 0.27988\n",
            "Epoch 24/100\n",
            "1875/1875 [==============================] - 6s 3ms/step - loss: 0.6230 - accuracy: 0.8471 - val_loss: 0.3205 - val_accuracy: 0.9369\n",
            "\n",
            "Epoch 00024: val_loss did not improve from 0.27988\n",
            "Epoch 25/100\n",
            "1875/1875 [==============================] - 6s 3ms/step - loss: 0.6117 - accuracy: 0.8489 - val_loss: 0.3368 - val_accuracy: 0.9347\n",
            "\n",
            "Epoch 00025: val_loss did not improve from 0.27988\n",
            "Epoch 26/100\n",
            "1875/1875 [==============================] - 6s 3ms/step - loss: 0.6067 - accuracy: 0.8480 - val_loss: 0.3327 - val_accuracy: 0.9343\n",
            "\n",
            "Epoch 00026: val_loss did not improve from 0.27988\n",
            "Epoch 27/100\n",
            "1875/1875 [==============================] - 6s 3ms/step - loss: 0.5980 - accuracy: 0.8508 - val_loss: 0.3789 - val_accuracy: 0.9288\n",
            "\n",
            "Epoch 00027: val_loss did not improve from 0.27988\n",
            "Epoch 00027: early stopping\n"
          ],
          "name": "stdout"
        }
      ]
    },
    {
      "cell_type": "code",
      "metadata": {
        "colab": {
          "base_uri": "https://localhost:8080/",
          "height": 302
        },
        "id": "ixnEny9WCXn9",
        "outputId": "438708c5-f363-486f-f295-bb35a8bcc1ab"
      },
      "source": [
        "plot_history_cust(history_adam_noisy, \"Noisy MNIST learning with Adam (learning rate {0})\".format(adam_lr));"
      ],
      "execution_count": 90,
      "outputs": [
        {
          "output_type": "display_data",
          "data": {
            "image/png": "[encoded data removed]",
            "text/plain": [
              "<Figure size 432x288 with 2 Axes>"
            ]
          },
          "metadata": {
            "tags": [],
            "needs_background": "light"
          }
        }
      ]
    },
    {
      "cell_type": "code",
      "metadata": {
        "colab": {
          "base_uri": "https://localhost:8080/",
          "height": 302
        },
        "id": "b3YDfszKDSPN",
        "outputId": "e37f3fab-e460-4d97-80a6-2eedc7e0d0d2"
      },
      "source": [
        "comparison_plot_cust(history_adam, history_adam_noisy, \"MNIST Adam(LR {0})\".format(sgd_lr), \"Noisy MNIST Adam(LR {0})\".format(adam_lr), \"Optimizer Comparison\");"
      ],
      "execution_count": 91,
      "outputs": [
        {
          "output_type": "display_data",
          "data": {
            "image/png": "[encoded data removed]",
            "text/plain": [
              "<Figure size 432x288 with 2 Axes>"
            ]
          },
          "metadata": {
            "tags": [],
            "needs_background": "light"
          }
        }
      ]
    },
    {
      "cell_type": "code",
      "metadata": {
        "id": "0Zj54fsL9yZD"
      },
      "source": [
        "def unison_shuffle(a, b):\n",
        "    assert len(a) == len(b)\n",
        "    p = np.random.permutation(len(a))\n",
        "    return a[p], b[p]\n",
        "\n",
        "# Calculate the number of samples that need to be replaced.\n",
        "length = int(np.floor(0.2 * len(y_mnist_train)))\n",
        "\n",
        "y_random = np.empty(0)\n",
        "for i in range(length):\n",
        "    y_random = np.append(y_random, np.floor(np.random.uniform(0,9.9)))\n",
        "\n",
        "# new dataset\n",
        "x_mnist_train_shuffled = x_mnist_train.copy()\n",
        "y_mnist_train_noisy = y_mnist_train.copy()\n",
        "\n",
        "# Shuffle the dataset (that step is not necessary, but allow to make a random noise, in the follosing step)\n",
        "x_mnist_train_shuffled, y_mnist_train_noisy = unison_shuffle(x_mnist_train_shuffled, y_mnist_train_noisy)\n",
        "\n",
        "# Replace the labels of the first n training samples with random lables.\n",
        "y_mnist_train_noisy[:length] = y_random\n",
        "\n",
        "# Shuffle the X and y data in order to spread the random labels equally over the dataset\n",
        "x_mnist_train_shuffled, y_mnist_train_noisy = unison_shuffle(x_mnist_train_shuffled, y_mnist_train_noisy)\n",
        "\n",
        "# One hot encoding\n",
        "y_mnist_train_noisy_1hot = to_categorical(y_mnist_train_noisy)"
      ],
      "execution_count": 92,
      "outputs": []
    },
    {
      "cell_type": "code",
      "metadata": {
        "id": "hz7lUQQsUOcG",
        "colab": {
          "base_uri": "https://localhost:8080/"
        },
        "outputId": "5e07d656-3c89-48d2-ba7a-3f6120cd8c11"
      },
      "source": [
        "model = model_1_hidd_layer_128_units(input_dim=input_dim_mnist)\n",
        "mc = ModelCheckpoint('./models/exercise-3.7/model.keras', monitor='val_loss', mode='min', save_best_only=True, verbose=1)\n",
        "model.compile(optimizer=Adam(learning_rate=adam_lr), loss='categorical_crossentropy', metrics=[\"accuracy\"])\n",
        "fit_output_adam_noisy = model.fit(x_mnist_train_shuffled, y_mnist_train_noisy_1hot, validation_data=(x_mnist_test, y_mnist_test_1hot), epochs=epochs, verbose=1, callbacks=[mc])"
      ],
      "execution_count": 93,
      "outputs": [
        {
          "output_type": "stream",
          "text": [
            "Epoch 1/100\n",
            "1875/1875 [==============================] - 6s 3ms/step - loss: 1.2142 - accuracy: 0.7136 - val_loss: 0.3872 - val_accuracy: 0.9490\n",
            "\n",
            "Epoch 00001: val_loss improved from inf to 0.38724, saving model to ./models/exercise-3.7/model.keras\n",
            "Epoch 2/100\n",
            "1875/1875 [==============================] - 5s 3ms/step - loss: 1.0158 - accuracy: 0.7828 - val_loss: 0.3536 - val_accuracy: 0.9593\n",
            "\n",
            "Epoch 00002: val_loss improved from 0.38724 to 0.35362, saving model to ./models/exercise-3.7/model.keras\n",
            "Epoch 3/100\n",
            "1875/1875 [==============================] - 5s 3ms/step - loss: 0.9635 - accuracy: 0.7956 - val_loss: 0.3393 - val_accuracy: 0.9641\n",
            "\n",
            "Epoch 00003: val_loss improved from 0.35362 to 0.33933, saving model to ./models/exercise-3.7/model.keras\n",
            "Epoch 4/100\n",
            "1875/1875 [==============================] - 5s 3ms/step - loss: 0.9452 - accuracy: 0.7973 - val_loss: 0.3416 - val_accuracy: 0.9617\n",
            "\n",
            "Epoch 00004: val_loss did not improve from 0.33933\n",
            "Epoch 5/100\n",
            "1875/1875 [==============================] - 6s 3ms/step - loss: 0.9205 - accuracy: 0.8014 - val_loss: 0.3586 - val_accuracy: 0.9659\n",
            "\n",
            "Epoch 00005: val_loss did not improve from 0.33933\n",
            "Epoch 6/100\n",
            "1875/1875 [==============================] - 6s 3ms/step - loss: 0.9064 - accuracy: 0.8024 - val_loss: 0.3177 - val_accuracy: 0.9660\n",
            "\n",
            "Epoch 00006: val_loss improved from 0.33933 to 0.31771, saving model to ./models/exercise-3.7/model.keras\n",
            "Epoch 7/100\n",
            "1875/1875 [==============================] - 5s 3ms/step - loss: 0.8914 - accuracy: 0.8029 - val_loss: 0.2905 - val_accuracy: 0.9676\n",
            "\n",
            "Epoch 00007: val_loss improved from 0.31771 to 0.29051, saving model to ./models/exercise-3.7/model.keras\n",
            "Epoch 8/100\n",
            "1875/1875 [==============================] - 5s 3ms/step - loss: 0.8672 - accuracy: 0.8064 - val_loss: 0.3268 - val_accuracy: 0.9652\n",
            "\n",
            "Epoch 00008: val_loss did not improve from 0.29051\n",
            "Epoch 9/100\n",
            "1875/1875 [==============================] - 6s 3ms/step - loss: 0.8529 - accuracy: 0.8076 - val_loss: 0.3221 - val_accuracy: 0.9636\n",
            "\n",
            "Epoch 00009: val_loss did not improve from 0.29051\n",
            "Epoch 10/100\n",
            "1875/1875 [==============================] - 5s 3ms/step - loss: 0.8303 - accuracy: 0.8122 - val_loss: 0.3306 - val_accuracy: 0.9618\n",
            "\n",
            "Epoch 00010: val_loss did not improve from 0.29051\n",
            "Epoch 11/100\n",
            "1875/1875 [==============================] - 5s 3ms/step - loss: 0.8317 - accuracy: 0.8073 - val_loss: 0.3264 - val_accuracy: 0.9620\n",
            "\n",
            "Epoch 00011: val_loss did not improve from 0.29051\n",
            "Epoch 12/100\n",
            "1875/1875 [==============================] - 6s 3ms/step - loss: 0.8116 - accuracy: 0.8119 - val_loss: 0.3129 - val_accuracy: 0.9567\n",
            "\n",
            "Epoch 00012: val_loss did not improve from 0.29051\n",
            "Epoch 13/100\n",
            "1875/1875 [==============================] - 5s 3ms/step - loss: 0.8074 - accuracy: 0.8108 - val_loss: 0.3203 - val_accuracy: 0.9586\n",
            "\n",
            "Epoch 00013: val_loss did not improve from 0.29051\n",
            "Epoch 14/100\n",
            "1875/1875 [==============================] - 6s 3ms/step - loss: 0.7942 - accuracy: 0.8129 - val_loss: 0.3252 - val_accuracy: 0.9564\n",
            "\n",
            "Epoch 00014: val_loss did not improve from 0.29051\n",
            "Epoch 15/100\n",
            "1875/1875 [==============================] - 5s 3ms/step - loss: 0.7807 - accuracy: 0.8132 - val_loss: 0.2973 - val_accuracy: 0.9595\n",
            "\n",
            "Epoch 00015: val_loss did not improve from 0.29051\n",
            "Epoch 16/100\n",
            "1875/1875 [==============================] - 6s 3ms/step - loss: 0.7585 - accuracy: 0.8169 - val_loss: 0.3094 - val_accuracy: 0.9556\n",
            "\n",
            "Epoch 00016: val_loss did not improve from 0.29051\n",
            "Epoch 17/100\n",
            "1875/1875 [==============================] - 6s 3ms/step - loss: 0.7482 - accuracy: 0.8188 - val_loss: 0.3461 - val_accuracy: 0.9502\n",
            "\n",
            "Epoch 00017: val_loss did not improve from 0.29051\n",
            "Epoch 18/100\n",
            "1875/1875 [==============================] - 6s 3ms/step - loss: 0.7417 - accuracy: 0.8194 - val_loss: 0.3221 - val_accuracy: 0.9515\n",
            "\n",
            "Epoch 00018: val_loss did not improve from 0.29051\n",
            "Epoch 19/100\n",
            "1875/1875 [==============================] - 6s 3ms/step - loss: 0.7429 - accuracy: 0.8176 - val_loss: 0.3500 - val_accuracy: 0.9458\n",
            "\n",
            "Epoch 00019: val_loss did not improve from 0.29051\n",
            "Epoch 20/100\n",
            "1875/1875 [==============================] - 6s 3ms/step - loss: 0.7314 - accuracy: 0.8197 - val_loss: 0.3479 - val_accuracy: 0.9450\n",
            "\n",
            "Epoch 00020: val_loss did not improve from 0.29051\n",
            "Epoch 21/100\n",
            "1875/1875 [==============================] - 6s 3ms/step - loss: 0.7110 - accuracy: 0.8229 - val_loss: 0.3694 - val_accuracy: 0.9382\n",
            "\n",
            "Epoch 00021: val_loss did not improve from 0.29051\n",
            "Epoch 22/100\n",
            "1875/1875 [==============================] - 5s 3ms/step - loss: 0.7118 - accuracy: 0.8228 - val_loss: 0.3437 - val_accuracy: 0.9416\n",
            "\n",
            "Epoch 00022: val_loss did not improve from 0.29051\n",
            "Epoch 23/100\n",
            "1875/1875 [==============================] - 6s 3ms/step - loss: 0.6877 - accuracy: 0.8263 - val_loss: 0.3529 - val_accuracy: 0.9391\n",
            "\n",
            "Epoch 00023: val_loss did not improve from 0.29051\n",
            "Epoch 24/100\n",
            "1875/1875 [==============================] - 5s 3ms/step - loss: 0.6894 - accuracy: 0.8250 - val_loss: 0.3523 - val_accuracy: 0.9330\n",
            "\n",
            "Epoch 00024: val_loss did not improve from 0.29051\n",
            "Epoch 25/100\n",
            "1875/1875 [==============================] - 5s 3ms/step - loss: 0.6699 - accuracy: 0.8306 - val_loss: 0.3745 - val_accuracy: 0.9281\n",
            "\n",
            "Epoch 00025: val_loss did not improve from 0.29051\n",
            "Epoch 26/100\n",
            "1875/1875 [==============================] - 5s 3ms/step - loss: 0.6748 - accuracy: 0.8278 - val_loss: 0.3768 - val_accuracy: 0.9241\n",
            "\n",
            "Epoch 00026: val_loss did not improve from 0.29051\n",
            "Epoch 27/100\n",
            "1875/1875 [==============================] - 6s 3ms/step - loss: 0.6494 - accuracy: 0.8337 - val_loss: 0.3591 - val_accuracy: 0.9306\n",
            "\n",
            "Epoch 00027: val_loss did not improve from 0.29051\n",
            "Epoch 28/100\n",
            "1875/1875 [==============================] - 6s 3ms/step - loss: 0.6477 - accuracy: 0.8325 - val_loss: 0.4008 - val_accuracy: 0.9185\n",
            "\n",
            "Epoch 00028: val_loss did not improve from 0.29051\n",
            "Epoch 29/100\n",
            "1875/1875 [==============================] - 5s 3ms/step - loss: 0.6505 - accuracy: 0.8318 - val_loss: 0.3547 - val_accuracy: 0.9293\n",
            "\n",
            "Epoch 00029: val_loss did not improve from 0.29051\n",
            "Epoch 30/100\n",
            "1875/1875 [==============================] - 6s 3ms/step - loss: 0.6386 - accuracy: 0.8343 - val_loss: 0.3563 - val_accuracy: 0.9287\n",
            "\n",
            "Epoch 00030: val_loss did not improve from 0.29051\n",
            "Epoch 31/100\n",
            "1875/1875 [==============================] - 6s 3ms/step - loss: 0.6241 - accuracy: 0.8379 - val_loss: 0.3874 - val_accuracy: 0.9135\n",
            "\n",
            "Epoch 00031: val_loss did not improve from 0.29051\n",
            "Epoch 32/100\n",
            "1875/1875 [==============================] - 5s 3ms/step - loss: 0.6184 - accuracy: 0.8386 - val_loss: 0.4165 - val_accuracy: 0.9047\n",
            "\n",
            "Epoch 00032: val_loss did not improve from 0.29051\n",
            "Epoch 33/100\n",
            "1875/1875 [==============================] - 6s 3ms/step - loss: 0.6235 - accuracy: 0.8365 - val_loss: 0.3683 - val_accuracy: 0.9148\n",
            "\n",
            "Epoch 00033: val_loss did not improve from 0.29051\n",
            "Epoch 34/100\n",
            "1875/1875 [==============================] - 6s 3ms/step - loss: 0.6090 - accuracy: 0.8384 - val_loss: 0.3994 - val_accuracy: 0.9107\n",
            "\n",
            "Epoch 00034: val_loss did not improve from 0.29051\n",
            "Epoch 35/100\n",
            "1875/1875 [==============================] - 5s 3ms/step - loss: 0.6048 - accuracy: 0.8401 - val_loss: 0.4212 - val_accuracy: 0.9049\n",
            "\n",
            "Epoch 00035: val_loss did not improve from 0.29051\n",
            "Epoch 36/100\n",
            "1875/1875 [==============================] - 5s 3ms/step - loss: 0.5955 - accuracy: 0.8416 - val_loss: 0.4056 - val_accuracy: 0.9070\n",
            "\n",
            "Epoch 00036: val_loss did not improve from 0.29051\n",
            "Epoch 37/100\n",
            "1875/1875 [==============================] - 6s 3ms/step - loss: 0.5864 - accuracy: 0.8437 - val_loss: 0.3826 - val_accuracy: 0.9088\n",
            "\n",
            "Epoch 00037: val_loss did not improve from 0.29051\n",
            "Epoch 38/100\n",
            "1875/1875 [==============================] - 6s 3ms/step - loss: 0.5812 - accuracy: 0.8432 - val_loss: 0.3982 - val_accuracy: 0.9018\n",
            "\n",
            "Epoch 00038: val_loss did not improve from 0.29051\n",
            "Epoch 39/100\n",
            "1875/1875 [==============================] - 5s 3ms/step - loss: 0.5712 - accuracy: 0.8471 - val_loss: 0.4067 - val_accuracy: 0.9053\n",
            "\n",
            "Epoch 00039: val_loss did not improve from 0.29051\n",
            "Epoch 40/100\n",
            "1875/1875 [==============================] - 5s 3ms/step - loss: 0.5592 - accuracy: 0.8496 - val_loss: 0.4124 - val_accuracy: 0.9012\n",
            "\n",
            "Epoch 00040: val_loss did not improve from 0.29051\n",
            "Epoch 41/100\n",
            "1875/1875 [==============================] - 5s 3ms/step - loss: 0.5656 - accuracy: 0.8483 - val_loss: 0.4062 - val_accuracy: 0.9005\n",
            "\n",
            "Epoch 00041: val_loss did not improve from 0.29051\n",
            "Epoch 42/100\n",
            "1875/1875 [==============================] - 6s 3ms/step - loss: 0.5489 - accuracy: 0.8509 - val_loss: 0.4158 - val_accuracy: 0.9002\n",
            "\n",
            "Epoch 00042: val_loss did not improve from 0.29051\n",
            "Epoch 43/100\n",
            "1875/1875 [==============================] - 5s 3ms/step - loss: 0.5508 - accuracy: 0.8508 - val_loss: 0.4472 - val_accuracy: 0.8923\n",
            "\n",
            "Epoch 00043: val_loss did not improve from 0.29051\n",
            "Epoch 44/100\n",
            "1875/1875 [==============================] - 6s 3ms/step - loss: 0.5381 - accuracy: 0.8545 - val_loss: 0.4710 - val_accuracy: 0.8831\n",
            "\n",
            "Epoch 00044: val_loss did not improve from 0.29051\n",
            "Epoch 45/100\n",
            "1875/1875 [==============================] - 5s 3ms/step - loss: 0.5526 - accuracy: 0.8491 - val_loss: 0.4265 - val_accuracy: 0.8938\n",
            "\n",
            "Epoch 00045: val_loss did not improve from 0.29051\n",
            "Epoch 46/100\n",
            "1875/1875 [==============================] - 5s 3ms/step - loss: 0.5380 - accuracy: 0.8524 - val_loss: 0.4251 - val_accuracy: 0.8953\n",
            "\n",
            "Epoch 00046: val_loss did not improve from 0.29051\n",
            "Epoch 47/100\n",
            "1875/1875 [==============================] - 5s 3ms/step - loss: 0.5279 - accuracy: 0.8567 - val_loss: 0.4460 - val_accuracy: 0.8862\n",
            "\n",
            "Epoch 00047: val_loss did not improve from 0.29051\n",
            "Epoch 48/100\n",
            "1875/1875 [==============================] - 5s 3ms/step - loss: 0.5230 - accuracy: 0.8571 - val_loss: 0.4520 - val_accuracy: 0.8873\n",
            "\n",
            "Epoch 00048: val_loss did not improve from 0.29051\n",
            "Epoch 49/100\n",
            "1875/1875 [==============================] - 6s 3ms/step - loss: 0.5151 - accuracy: 0.8578 - val_loss: 0.4564 - val_accuracy: 0.8829\n",
            "\n",
            "Epoch 00049: val_loss did not improve from 0.29051\n",
            "Epoch 50/100\n",
            "1875/1875 [==============================] - 5s 3ms/step - loss: 0.5118 - accuracy: 0.8597 - val_loss: 0.4782 - val_accuracy: 0.8812\n",
            "\n",
            "Epoch 00050: val_loss did not improve from 0.29051\n",
            "Epoch 51/100\n",
            "1875/1875 [==============================] - 5s 3ms/step - loss: 0.5011 - accuracy: 0.8622 - val_loss: 0.5001 - val_accuracy: 0.8710\n",
            "\n",
            "Epoch 00051: val_loss did not improve from 0.29051\n",
            "Epoch 52/100\n",
            "1875/1875 [==============================] - 5s 3ms/step - loss: 0.5086 - accuracy: 0.8602 - val_loss: 0.4675 - val_accuracy: 0.8779\n",
            "\n",
            "Epoch 00052: val_loss did not improve from 0.29051\n",
            "Epoch 53/100\n",
            "1875/1875 [==============================] - 6s 3ms/step - loss: 0.5050 - accuracy: 0.8596 - val_loss: 0.5267 - val_accuracy: 0.8612\n",
            "\n",
            "Epoch 00053: val_loss did not improve from 0.29051\n",
            "Epoch 54/100\n",
            "1875/1875 [==============================] - 5s 3ms/step - loss: 0.5008 - accuracy: 0.8622 - val_loss: 0.4858 - val_accuracy: 0.8757\n",
            "\n",
            "Epoch 00054: val_loss did not improve from 0.29051\n",
            "Epoch 55/100\n",
            "1875/1875 [==============================] - 6s 3ms/step - loss: 0.4918 - accuracy: 0.8610 - val_loss: 0.4829 - val_accuracy: 0.8747\n",
            "\n",
            "Epoch 00055: val_loss did not improve from 0.29051\n",
            "Epoch 56/100\n",
            "1875/1875 [==============================] - 6s 3ms/step - loss: 0.4799 - accuracy: 0.8663 - val_loss: 0.5138 - val_accuracy: 0.8658\n",
            "\n",
            "Epoch 00056: val_loss did not improve from 0.29051\n",
            "Epoch 57/100\n",
            "1875/1875 [==============================] - 6s 3ms/step - loss: 0.4883 - accuracy: 0.8636 - val_loss: 0.5132 - val_accuracy: 0.8654\n",
            "\n",
            "Epoch 00057: val_loss did not improve from 0.29051\n",
            "Epoch 58/100\n",
            "1875/1875 [==============================] - 5s 3ms/step - loss: 0.4727 - accuracy: 0.8673 - val_loss: 0.5061 - val_accuracy: 0.8684\n",
            "\n",
            "Epoch 00058: val_loss did not improve from 0.29051\n",
            "Epoch 59/100\n",
            "1875/1875 [==============================] - 6s 3ms/step - loss: 0.4772 - accuracy: 0.8662 - val_loss: 0.5077 - val_accuracy: 0.8684\n",
            "\n",
            "Epoch 00059: val_loss did not improve from 0.29051\n",
            "Epoch 60/100\n",
            "1875/1875 [==============================] - 6s 3ms/step - loss: 0.4734 - accuracy: 0.8671 - val_loss: 0.5217 - val_accuracy: 0.8667\n",
            "\n",
            "Epoch 00060: val_loss did not improve from 0.29051\n",
            "Epoch 61/100\n",
            "1875/1875 [==============================] - 6s 3ms/step - loss: 0.4708 - accuracy: 0.8678 - val_loss: 0.5538 - val_accuracy: 0.8573\n",
            "\n",
            "Epoch 00061: val_loss did not improve from 0.29051\n",
            "Epoch 62/100\n",
            "1875/1875 [==============================] - 5s 3ms/step - loss: 0.4586 - accuracy: 0.8715 - val_loss: 0.5416 - val_accuracy: 0.8566\n",
            "\n",
            "Epoch 00062: val_loss did not improve from 0.29051\n",
            "Epoch 63/100\n",
            "1875/1875 [==============================] - 6s 3ms/step - loss: 0.4515 - accuracy: 0.8740 - val_loss: 0.5446 - val_accuracy: 0.8601\n",
            "\n",
            "Epoch 00063: val_loss did not improve from 0.29051\n",
            "Epoch 64/100\n",
            "1875/1875 [==============================] - 6s 3ms/step - loss: 0.4569 - accuracy: 0.8721 - val_loss: 0.5205 - val_accuracy: 0.8669\n",
            "\n",
            "Epoch 00064: val_loss did not improve from 0.29051\n",
            "Epoch 65/100\n",
            "1875/1875 [==============================] - 6s 3ms/step - loss: 0.4502 - accuracy: 0.8720 - val_loss: 0.5707 - val_accuracy: 0.8467\n",
            "\n",
            "Epoch 00065: val_loss did not improve from 0.29051\n",
            "Epoch 66/100\n",
            "1875/1875 [==============================] - 6s 3ms/step - loss: 0.4405 - accuracy: 0.8743 - val_loss: 0.5778 - val_accuracy: 0.8465\n",
            "\n",
            "Epoch 00066: val_loss did not improve from 0.29051\n",
            "Epoch 67/100\n",
            "1875/1875 [==============================] - 6s 3ms/step - loss: 0.4372 - accuracy: 0.8759 - val_loss: 0.5678 - val_accuracy: 0.8482\n",
            "\n",
            "Epoch 00067: val_loss did not improve from 0.29051\n",
            "Epoch 68/100\n",
            "1875/1875 [==============================] - 5s 3ms/step - loss: 0.4346 - accuracy: 0.8766 - val_loss: 0.5974 - val_accuracy: 0.8411\n",
            "\n",
            "Epoch 00068: val_loss did not improve from 0.29051\n",
            "Epoch 69/100\n",
            "1875/1875 [==============================] - 6s 3ms/step - loss: 0.4449 - accuracy: 0.8733 - val_loss: 0.5573 - val_accuracy: 0.8562\n",
            "\n",
            "Epoch 00069: val_loss did not improve from 0.29051\n",
            "Epoch 70/100\n",
            "1875/1875 [==============================] - 6s 3ms/step - loss: 0.4301 - accuracy: 0.8760 - val_loss: 0.5718 - val_accuracy: 0.8518\n",
            "\n",
            "Epoch 00070: val_loss did not improve from 0.29051\n",
            "Epoch 71/100\n",
            "1875/1875 [==============================] - 6s 3ms/step - loss: 0.4318 - accuracy: 0.8772 - val_loss: 0.5795 - val_accuracy: 0.8516\n",
            "\n",
            "Epoch 00071: val_loss did not improve from 0.29051\n",
            "Epoch 72/100\n",
            "1875/1875 [==============================] - 6s 3ms/step - loss: 0.4288 - accuracy: 0.8779 - val_loss: 0.6002 - val_accuracy: 0.8441\n",
            "\n",
            "Epoch 00072: val_loss did not improve from 0.29051\n",
            "Epoch 73/100\n",
            "1875/1875 [==============================] - 6s 3ms/step - loss: 0.4209 - accuracy: 0.8785 - val_loss: 0.5955 - val_accuracy: 0.8438\n",
            "\n",
            "Epoch 00073: val_loss did not improve from 0.29051\n",
            "Epoch 74/100\n",
            "1875/1875 [==============================] - 6s 3ms/step - loss: 0.4199 - accuracy: 0.8790 - val_loss: 0.5816 - val_accuracy: 0.8502\n",
            "\n",
            "Epoch 00074: val_loss did not improve from 0.29051\n",
            "Epoch 75/100\n",
            "1875/1875 [==============================] - 6s 3ms/step - loss: 0.4188 - accuracy: 0.8799 - val_loss: 0.6019 - val_accuracy: 0.8423\n",
            "\n",
            "Epoch 00075: val_loss did not improve from 0.29051\n",
            "Epoch 76/100\n",
            "1875/1875 [==============================] - 6s 3ms/step - loss: 0.4064 - accuracy: 0.8826 - val_loss: 0.6463 - val_accuracy: 0.8339\n",
            "\n",
            "Epoch 00076: val_loss did not improve from 0.29051\n",
            "Epoch 77/100\n",
            "1875/1875 [==============================] - 6s 3ms/step - loss: 0.4024 - accuracy: 0.8839 - val_loss: 0.6162 - val_accuracy: 0.8443\n",
            "\n",
            "Epoch 00077: val_loss did not improve from 0.29051\n",
            "Epoch 78/100\n",
            "1875/1875 [==============================] - 6s 3ms/step - loss: 0.4075 - accuracy: 0.8824 - val_loss: 0.6258 - val_accuracy: 0.8409\n",
            "\n",
            "Epoch 00078: val_loss did not improve from 0.29051\n",
            "Epoch 79/100\n",
            "1875/1875 [==============================] - 6s 3ms/step - loss: 0.4072 - accuracy: 0.8825 - val_loss: 0.6066 - val_accuracy: 0.8450\n",
            "\n",
            "Epoch 00079: val_loss did not improve from 0.29051\n",
            "Epoch 80/100\n",
            "1875/1875 [==============================] - 6s 3ms/step - loss: 0.4010 - accuracy: 0.8847 - val_loss: 0.6426 - val_accuracy: 0.8319\n",
            "\n",
            "Epoch 00080: val_loss did not improve from 0.29051\n",
            "Epoch 81/100\n",
            "1875/1875 [==============================] - 6s 3ms/step - loss: 0.3976 - accuracy: 0.8839 - val_loss: 0.6347 - val_accuracy: 0.8395\n",
            "\n",
            "Epoch 00081: val_loss did not improve from 0.29051\n",
            "Epoch 82/100\n",
            "1875/1875 [==============================] - 6s 3ms/step - loss: 0.3884 - accuracy: 0.8878 - val_loss: 0.6798 - val_accuracy: 0.8264\n",
            "\n",
            "Epoch 00082: val_loss did not improve from 0.29051\n",
            "Epoch 83/100\n",
            "1875/1875 [==============================] - 6s 3ms/step - loss: 0.3912 - accuracy: 0.8863 - val_loss: 0.6367 - val_accuracy: 0.8421\n",
            "\n",
            "Epoch 00083: val_loss did not improve from 0.29051\n",
            "Epoch 84/100\n",
            "1875/1875 [==============================] - 6s 3ms/step - loss: 0.3943 - accuracy: 0.8858 - val_loss: 0.6482 - val_accuracy: 0.8354\n",
            "\n",
            "Epoch 00084: val_loss did not improve from 0.29051\n",
            "Epoch 85/100\n",
            "1875/1875 [==============================] - 6s 3ms/step - loss: 0.3824 - accuracy: 0.8894 - val_loss: 0.6829 - val_accuracy: 0.8253\n",
            "\n",
            "Epoch 00085: val_loss did not improve from 0.29051\n",
            "Epoch 86/100\n",
            "1875/1875 [==============================] - 6s 3ms/step - loss: 0.3839 - accuracy: 0.8900 - val_loss: 0.6660 - val_accuracy: 0.8338\n",
            "\n",
            "Epoch 00086: val_loss did not improve from 0.29051\n",
            "Epoch 87/100\n",
            "1875/1875 [==============================] - 6s 3ms/step - loss: 0.3840 - accuracy: 0.8903 - val_loss: 0.6626 - val_accuracy: 0.8336\n",
            "\n",
            "Epoch 00087: val_loss did not improve from 0.29051\n",
            "Epoch 88/100\n",
            "1875/1875 [==============================] - 6s 3ms/step - loss: 0.3834 - accuracy: 0.8871 - val_loss: 0.6779 - val_accuracy: 0.8303\n",
            "\n",
            "Epoch 00088: val_loss did not improve from 0.29051\n",
            "Epoch 89/100\n",
            "1875/1875 [==============================] - 6s 3ms/step - loss: 0.3716 - accuracy: 0.8898 - val_loss: 0.6913 - val_accuracy: 0.8276\n",
            "\n",
            "Epoch 00089: val_loss did not improve from 0.29051\n",
            "Epoch 90/100\n",
            "1875/1875 [==============================] - 5s 3ms/step - loss: 0.3696 - accuracy: 0.8916 - val_loss: 0.6926 - val_accuracy: 0.8277\n",
            "\n",
            "Epoch 00090: val_loss did not improve from 0.29051\n",
            "Epoch 91/100\n",
            "1875/1875 [==============================] - 6s 3ms/step - loss: 0.3661 - accuracy: 0.8936 - val_loss: 0.7372 - val_accuracy: 0.8199\n",
            "\n",
            "Epoch 00091: val_loss did not improve from 0.29051\n",
            "Epoch 92/100\n",
            "1875/1875 [==============================] - 6s 3ms/step - loss: 0.3670 - accuracy: 0.8932 - val_loss: 0.7197 - val_accuracy: 0.8264\n",
            "\n",
            "Epoch 00092: val_loss did not improve from 0.29051\n",
            "Epoch 93/100\n",
            "1875/1875 [==============================] - 6s 3ms/step - loss: 0.3667 - accuracy: 0.8931 - val_loss: 0.7154 - val_accuracy: 0.8262\n",
            "\n",
            "Epoch 00093: val_loss did not improve from 0.29051\n",
            "Epoch 94/100\n",
            "1875/1875 [==============================] - 6s 3ms/step - loss: 0.3604 - accuracy: 0.8959 - val_loss: 0.7128 - val_accuracy: 0.8255\n",
            "\n",
            "Epoch 00094: val_loss did not improve from 0.29051\n",
            "Epoch 95/100\n",
            "1875/1875 [==============================] - 6s 3ms/step - loss: 0.3539 - accuracy: 0.8961 - val_loss: 0.7429 - val_accuracy: 0.8190\n",
            "\n",
            "Epoch 00095: val_loss did not improve from 0.29051\n",
            "Epoch 96/100\n",
            "1875/1875 [==============================] - 6s 3ms/step - loss: 0.3525 - accuracy: 0.8956 - val_loss: 0.7252 - val_accuracy: 0.8240\n",
            "\n",
            "Epoch 00096: val_loss did not improve from 0.29051\n",
            "Epoch 97/100\n",
            "1875/1875 [==============================] - 6s 3ms/step - loss: 0.3485 - accuracy: 0.8978 - val_loss: 0.7346 - val_accuracy: 0.8220\n",
            "\n",
            "Epoch 00097: val_loss did not improve from 0.29051\n",
            "Epoch 98/100\n",
            "1875/1875 [==============================] - 6s 3ms/step - loss: 0.3525 - accuracy: 0.8960 - val_loss: 0.7381 - val_accuracy: 0.8197\n",
            "\n",
            "Epoch 00098: val_loss did not improve from 0.29051\n",
            "Epoch 99/100\n",
            "1875/1875 [==============================] - 6s 3ms/step - loss: 0.3466 - accuracy: 0.8978 - val_loss: 0.7660 - val_accuracy: 0.8140\n",
            "\n",
            "Epoch 00099: val_loss did not improve from 0.29051\n",
            "Epoch 100/100\n",
            "1875/1875 [==============================] - 6s 3ms/step - loss: 0.3489 - accuracy: 0.8982 - val_loss: 0.7944 - val_accuracy: 0.8110\n",
            "\n",
            "Epoch 00100: val_loss did not improve from 0.29051\n"
          ],
          "name": "stdout"
        }
      ]
    },
    {
      "cell_type": "code",
      "metadata": {
        "id": "42hBiOltUOcG",
        "colab": {
          "base_uri": "https://localhost:8080/",
          "height": 302
        },
        "outputId": "0dcd5c57-4f05-4163-c9c3-76f9e7f4a74a"
      },
      "source": [
        "plot_history(history_adam, \"Adam with LR {0} @ Permutated MNIST Dataset\".format(adam_lr));"
      ],
      "execution_count": 95,
      "outputs": [
        {
          "output_type": "display_data",
          "data": {
            "image/png": "[encoded data removed]",
            "text/plain": [
              "<Figure size 432x288 with 2 Axes>"
            ]
          },
          "metadata": {
            "tags": [],
            "needs_background": "light"
          }
        }
      ]
    },
    {
      "cell_type": "code",
      "metadata": {
        "id": "H5LyBkHrNsOS"
      },
      "source": [
        "comparison_plot_cust(history_adam, fit_output_adam_noisy.history, \"MNIST Adam(LR {0})\".format(sgd_lr), \"Noisy MNIST Adam(LR {0})\".format(adam_lr), \"Optimizer Comparison\");"
      ],
      "execution_count": null,
      "outputs": []
    },
    {
      "cell_type": "markdown",
      "metadata": {
        "id": "oENMCYod9yZD"
      },
      "source": [
        "## Exercise 4: Model performance as a function of number of hidden neurons (8 + 2 points)\n",
        "\n",
        "Since the MNIST dataset is almost perfectly solved already by a one-hidden-layer network in Exercise 3, we use the Fashion-MNIST dataset from now on to compare the performances of more complex models. In this exercise, we investigate how the best validation loss and accuracy depends on the number of hidden neurons in a single layer.\n",
        "\n",
        "1. Fit at least 4 models with different number of hidden neurons (i.e. width) between 10 and 1000 to the Fashion-MNIST dataset. Train with Adam for 50-100 epochs. (2 pts)\n",
        "2. Plot the best validation loss and accuracy versus the width. Is the observed trend in accordance with the [general approximation theorem](https://en.wikipedia.org/wiki/Universal_approximation_theorem)? Do you observe an overfitting due to the complexity of the wider networks with more parameters? Report the best validation accuracy. (2 pts)\n",
        "3. Choose $ p \\geq 0.5 $ fraction of the data points from the training dataset of Fashion-MNIST and change their class labels randomly as in Exercise 3. For this noisy Fashion-MNIST dataset, fit at least 4 models with different widths between 10 and 250. Train with Adam for at least 150 epochs. Plot the best validation loss and accuracy vs. width. (2 pts)\n",
        "4. BONUS: Add random Gaussian noise on the input pixels with mean 0 and variance between 0.01-0.5 and use the original labels. For this noisy Fashion-MNIST dataset, fit at least 4 models with different widths between 10 and 250. Train with Adam for at least 150 epochs. Plot the best validation loss and accuracy vs. width. (2 pts)\n",
        "5. Answer to the same questions in 2 for the noisy Fashion-MNIST dataset(s). Comment on the differences between width-performence curves for these two (or three) datasets. (2 pts)\n",
        "\n",
        "In this exercise we fit each model only for one initialization and random seed. In practice one would collect some statistics (e.g. 25-, 50-, 75-percentiles) for each layer size by fitting each model several times with different initializations and the random seeds. You may also want to do this here. It is a good exercise, but not mandatory as it takes quite a bit of computation time."
      ]
    },
    {
      "cell_type": "markdown",
      "metadata": {
        "id": "DcWkSkaj9yZE"
      },
      "source": [
        "**Answer to Question 2** (max 2 sentences):\n",
        "The Universal Approximation Theorem states that a neural network with one hidden layer and unlimited number of hidden neurons can approximate any continuous function for inputs within a specific range and this can also be observed with our example, since the best training accuracy is steadily increasing with the number of hidden neurons.\n",
        "We can see that our different models are overfitting and the overfitting increases with an increasing number of hidden neurons.\n",
        "\n",
        "**Answer to Question 5** (max 3 sentences): \n",
        "Although the training and validation accuracy of exercise 4.3's models is quite low (since the 50% of the training labels got changed), we can still see that the training accuracy rises significantly with the number of hidden neurons (From 12% to 26%). A neural network with many hidden nodes is still able to learn this highly dataset correctly and achieve a high training accuracy (in accordance with the universal approximation theorem).\n",
        "In exercise 4.4 we can see that fitting to this slightly noisy dataset still works pretty well, although the model is also overfitting."
      ]
    },
    {
      "cell_type": "markdown",
      "metadata": {
        "id": "NqK_mkEu9yZE"
      },
      "source": [
        "#### Exercise 4 - Helper Functions"
      ]
    },
    {
      "cell_type": "code",
      "metadata": {
        "id": "gPeXrSV4UOcH"
      },
      "source": [
        "def return_model_with_n_hidden_neurons(n_hidden_neurons):\n",
        "    # Get number of columns in training data\n",
        "    inputs = Input(shape=(INPUT_DIM,), name=\"input_layer\")\n",
        "    layer = Dense(n_hidden_neurons, activation='relu', name=\"hidden_layer\")(inputs)\n",
        "    outputs = Dense(10, activation='softmax', name=\"output_layer\")(layer)\n",
        "\n",
        "    model = Model(inputs=inputs, outputs=outputs, name=\"ex3.1\")\n",
        "    return model"
      ],
      "execution_count": null,
      "outputs": []
    },
    {
      "cell_type": "code",
      "metadata": {
        "tags": [],
        "id": "h98Y3tzsUOcH"
      },
      "source": [
        "import glob\n",
        "def plot_histories(base_path):\n",
        "    #print(base_path)\n",
        "    model_history_paths = glob.glob(base_path + '/*.npy')\n",
        "    for model_history_path in model_history_paths:\n",
        "        history=np.load(model_history_path, allow_pickle='TRUE').item()\n",
        "        plot_dict_history(history, model_history_path);"
      ],
      "execution_count": null,
      "outputs": []
    },
    {
      "cell_type": "code",
      "metadata": {
        "id": "gS4JtmhwUOcH"
      },
      "source": [
        "def load_metrics(base_path, numbers_of_hidden_neurons):\n",
        "    metrics = {\"x\": [], \"min_loss\": [], \"min_val_loss\": [], \"max_accuracy\": [], \"max_val_accuracy\": []}\n",
        "    for number_of_hidden_neurons in numbers_of_hidden_neurons:\n",
        "        model_history_path = '{0}/ANN-with-{1}-hidden-neurons.npy'.format(base_path, number_of_hidden_neurons)\n",
        "        history=np.load(model_history_path, allow_pickle='TRUE').item()\n",
        "        metrics[\"x\"].append(number_of_hidden_neurons)\n",
        "        metrics[\"min_loss\"].append(min(history[\"loss\"]))\n",
        "        metrics[\"min_val_loss\"].append(min(history[\"val_loss\"])) \n",
        "        metrics[\"max_accuracy\"].append(max(history[\"accuracy\"]))\n",
        "        metrics[\"max_val_accuracy\"].append(max(history[\"val_accuracy\"]))\n",
        "        #print(metrics)\n",
        "    return metrics"
      ],
      "execution_count": null,
      "outputs": []
    },
    {
      "cell_type": "code",
      "metadata": {
        "tags": [],
        "id": "HTIw2Wm7UOcI"
      },
      "source": [
        "def plot_metrics(metrics):\n",
        "    fig, (ax1, ax2) = plt.subplots(1, 2)\n",
        "    fig.suptitle('Validation loss and accuracy / Number of hidden neurons')\n",
        "    fig.subplots_adjust(left=None, bottom=None, right=None, top=None, wspace=0.3, hspace=None)\n",
        "    fig.set_figheight(6)\n",
        "    fig.set_figwidth(12)\n",
        "    ax1.set_xscale('log',base=10)\n",
        "    ax1.set_ylabel(\"Validation loss\")\n",
        "    ax1.set_xlabel(\"number of hidden neurons\")\n",
        "    ax1.plot(metrics[\"x\"], metrics[\"min_loss\"])\n",
        "    ax1.plot(metrics[\"x\"], metrics[\"min_val_loss\"])\n",
        "    ax2.set_xscale('log',base=10)\n",
        "    ax2.set_ylabel(\"Validation accuracy\")\n",
        "    ax2.set_xlabel(\"number of hidden neurons\")\n",
        "    ax2.plot(metrics[\"x\"], metrics[\"max_accuracy\"]);\n",
        "    ax2.plot(metrics[\"x\"], metrics[\"max_val_accuracy\"]);\n",
        "    finalize_standardplot(fig, ax1, ax2)"
      ],
      "execution_count": null,
      "outputs": []
    },
    {
      "cell_type": "markdown",
      "metadata": {
        "id": "PKMbJRAKUOcI"
      },
      "source": [
        "#### Exercise 4.1 & 4.2\n",
        "Fit at least 4 models with different number of hidden neurons (i.e. width) between 10 and 1000 to the Fashion-MNIST dataset. Train with Adam for 50-100 epochs. (2 pts)"
      ]
    },
    {
      "cell_type": "code",
      "metadata": {
        "id": "_VBguz98UOcI"
      },
      "source": [
        "base_path = \"./models/exercise-4.1\"\n",
        "numbers_of_hidden_neurons = [10, 50, 100, 500, 1000]\n",
        "already_trained = []\n",
        "number_of_epochs = 50\n",
        "verbose=2"
      ],
      "execution_count": null,
      "outputs": []
    },
    {
      "cell_type": "code",
      "metadata": {
        "id": "QzZnBC3L9yZE"
      },
      "source": [
        "for number_of_hidden_neurons in numbers_of_hidden_neurons:\n",
        "    # Since the training process sometimes break we need to manually restart it\n",
        "    # with the next network that has not been trained yet.\n",
        "    if number_of_hidden_neurons in already_trained:\n",
        "        continue;\n",
        "        \n",
        "    print(\"Training network with {} hidden neurons\".format(number_of_hidden_neurons))\n",
        "    model_path = '{0}/ANN-with-{1}-hidden-neurons.keras'.format(base_path, number_of_hidden_neurons)\n",
        "    model_history_path = '{0}/ANN-with-{1}-hidden-neurons.npy'.format(base_path, number_of_hidden_neurons)\n",
        "    \n",
        "    model = return_model_with_n_hidden_neurons(number_of_hidden_neurons)\n",
        "    mc = ModelCheckpoint('{0}/ANN-with-{1}-hidden-neurons.keras'.format(base_path, number_of_hidden_neurons), monitor='val_loss', mode='min', save_best_only=True, verbose=verbose)\n",
        "    model.compile(optimizer=Adam(), loss='categorical_crossentropy', metrics=[\"accuracy\"])\n",
        "    history = model.fit(x_mnist_fash_train, y_mnist_fash_train_1hot, validation_data=(x_mnist_fash_test, y_mnist_fash_test_1hot), epochs=number_of_epochs, validation_split=0.2, verbose=verbose, callbacks=[mc])\n",
        "    np.save(model_history_path, history.history)"
      ],
      "execution_count": null,
      "outputs": []
    },
    {
      "cell_type": "code",
      "metadata": {
        "tags": [],
        "id": "uG-Lijk4UOcI"
      },
      "source": [
        "plot_histories(base_path)"
      ],
      "execution_count": null,
      "outputs": []
    },
    {
      "cell_type": "code",
      "metadata": {
        "id": "9GhXcvZoUOcI"
      },
      "source": [
        "plot_metrics(load_metrics(base_path, numbers_of_hidden_neurons))"
      ],
      "execution_count": null,
      "outputs": []
    },
    {
      "cell_type": "code",
      "metadata": {
        "id": "2M9ZGFtsUOcI"
      },
      "source": [
        "metrics = load_metrics(base_path, numbers_of_hidden_neurons)\n",
        "print(metrics[\"max_val_accuracy\"])"
      ],
      "execution_count": null,
      "outputs": []
    },
    {
      "cell_type": "markdown",
      "metadata": {
        "id": "Wt-x74BbUOcJ"
      },
      "source": [
        "#### Exercise 4.3\n",
        "Choose $ p \\geq 0.5 $ fraction of the data points from the training dataset of Fashion-MNIST and change their class labels randomly as in Exercise 3. For this noisy Fashion-MNIST dataset, fit at least 4 models with different widths between 10 and 250. Train with Adam for at least 150 epochs. Plot the best validation loss and accuracy vs. width. (2 pts)"
      ]
    },
    {
      "cell_type": "code",
      "metadata": {
        "id": "X-gBY-GMUOcJ"
      },
      "source": [
        "def unison_shuffle(a, b):\n",
        "    assert len(a) == len(b)\n",
        "    p = np.random.permutation(len(a))\n",
        "    return a[p], b[p]\n",
        "\n",
        "# Calculate the number of samples that need to be replaced.\n",
        "length = int(np.floor(0.5 * len(y_mnist_fash_train)))\n",
        "\n",
        "y_random = np.empty(0)\n",
        "for i in range(length):\n",
        "    y_random = np.append(y_random, np.floor(np.random.uniform(0,9.9)))\n",
        "\n",
        "# Replace the labels of the first n training samples with random lables.\n",
        "y_mnist_fash_train_noisy = y_mnist_fash_train.copy()\n",
        "y_mnist_fash_train_noisy[:length] = y_random\n",
        "\n",
        "# Shuffle the X and y data in order to spread the random labels equally over the dataset\n",
        "x_mnist_fash_train_shuffled, y_mnist_fash_train_noisy_shuffled = unison_shuffle(x_mnist_fash_train, y_mnist_fash_train_noisy)\n",
        "\n",
        "# One hot encoding\n",
        "y_mnist_fash_train_noisy_shuffled_1hot = to_categorical(y_mnist_fash_train_noisy_shuffled)"
      ],
      "execution_count": null,
      "outputs": []
    },
    {
      "cell_type": "code",
      "metadata": {
        "id": "uJnTdynCUOcJ"
      },
      "source": [
        "numbers_of_hidden_neurons = [10, 50, 100, 150, 200, 250] \n",
        "already_trained = []\n",
        "number_of_epochs = 150\n",
        "base_path = './models/exercise-4.3' \n",
        "verbose=True"
      ],
      "execution_count": null,
      "outputs": []
    },
    {
      "cell_type": "code",
      "metadata": {
        "id": "jeHOQ5rJUOcJ"
      },
      "source": [
        "for number_of_hidden_neurons in numbers_of_hidden_neurons:\n",
        "    # Since the training process sometimes break we need to manually restart it\n",
        "    # with the next network that has not been trained yet.\n",
        "    if number_of_hidden_neurons in already_trained:\n",
        "        continue;\n",
        "        \n",
        "    print(\"--- Training network with {} hidden neurons ---\".format(number_of_hidden_neurons))\n",
        "    \n",
        "    model = return_model_with_n_hidden_neurons(number_of_hidden_neurons)\n",
        "    model_path = '{0}/ANN-with-{1}-hidden-neurons.keras'.format(base_path, number_of_hidden_neurons)\n",
        "    model_history_path = '{0}/ANN-with-{1}-hidden-neurons.npy'.format(base_path, number_of_hidden_neurons)\n",
        "    \n",
        "    mc = ModelCheckpoint(model_path, monitor='val_loss', mode='min', save_best_only=True, verbose=verbose)\n",
        "    model.compile(optimizer=Adam(), loss='categorical_crossentropy', metrics=[\"accuracy\"])\n",
        "    history = model.fit(x_mnist_fash_train, y_mnist_fash_train_noisy_shuffled_1hot, validation_data=(x_mnist_fash_test, y_mnist_fash_test_1hot), epochs=number_of_epochs, validation_split=0.2, verbose=verbose, callbacks=[mc])\n",
        "    \n",
        "    np.save(model_history_path, history.history)"
      ],
      "execution_count": null,
      "outputs": []
    },
    {
      "cell_type": "code",
      "metadata": {
        "id": "fSEl4iFAUOcJ"
      },
      "source": [
        "plot_histories(base_path)"
      ],
      "execution_count": null,
      "outputs": []
    },
    {
      "cell_type": "code",
      "metadata": {
        "tags": [],
        "id": "oYXcRZV0UOcK"
      },
      "source": [
        "plot_metrics(load_metrics(base_path, numbers_of_hidden_neurons))"
      ],
      "execution_count": null,
      "outputs": []
    },
    {
      "cell_type": "markdown",
      "metadata": {
        "id": "uRQJHCh5UOcK"
      },
      "source": [
        "### Exercise 4.4\n",
        "Add random Gaussian noise on the input pixels with mean 0 and variance between 0.01-0.5 and use the original labels. For this noisy Fashion-MNIST dataset, fit at least 4 models with different widths between 10 and 250. Train with Adam for at least 150 epochs. Plot the best validation loss and accuracy vs. width. (2 pts)"
      ]
    },
    {
      "cell_type": "code",
      "metadata": {
        "id": "TNxN4DRTUOcK"
      },
      "source": [
        "# Prepare data for exercise 4.4\n",
        "import math\n",
        "\n",
        "number_of_training_images = x_mnist_fash_train.shape[0]\n",
        "number_of_input_features = x_mnist_fash_train.shape[1]\n",
        "\n",
        "noise = np.random.normal(0,math.sqrt(0.1),(number_of_training_images, number_of_input_features))\n",
        "x_mnist_fash_train_noisy = x_mnist_fash_train + noise"
      ],
      "execution_count": null,
      "outputs": []
    },
    {
      "cell_type": "code",
      "metadata": {
        "id": "AlRFhH52UOcK"
      },
      "source": [
        "# Define hyperparameters for exercise 4.4\n",
        "numbers_of_hidden_neurons = [10, 50, 100, 150, 200, 250] \n",
        "already_trained = []\n",
        "number_of_epochs = 150\n",
        "base_path = './models/exercise-4.4' \n",
        "verbose=False"
      ],
      "execution_count": null,
      "outputs": []
    },
    {
      "cell_type": "code",
      "metadata": {
        "id": "QEGqohzfUOcK"
      },
      "source": [
        "for number_of_hidden_neurons in numbers_of_hidden_neurons:\n",
        "    # Since the training process sometimes break we need to manually restart it\n",
        "    # with the next network that has not been trained yet.\n",
        "    if number_of_hidden_neurons in already_trained:\n",
        "        continue;\n",
        "        \n",
        "    print(\"--- Training network with {} hidden neurons ---\".format(number_of_hidden_neurons))\n",
        "    \n",
        "    model = return_model_with_n_hidden_neurons(number_of_hidden_neurons)\n",
        "    model_path = '{0}/ANN-with-{1}-hidden-neurons.keras'.format(base_path, number_of_hidden_neurons)\n",
        "    model_history_path = '{0}/ANN-with-{1}-hidden-neurons.npy'.format(base_path, number_of_hidden_neurons)\n",
        "    \n",
        "    mc = ModelCheckpoint(model_path, monitor='val_loss', mode='min', save_best_only=True, verbose=verbose)\n",
        "    model.compile(optimizer=Adam(), loss='categorical_crossentropy', metrics=[\"accuracy\"])\n",
        "    history = model.fit(x_mnist_fash_train_noisy, y_mnist_fash_train_1hot, validation_data=(x_mnist_fash_test, y_mnist_fash_test_1hot), epochs=number_of_epochs, validation_split=0.2, verbose=2, callbacks=[mc])\n",
        "    \n",
        "    np.save(model_history_path, history.history)"
      ],
      "execution_count": null,
      "outputs": []
    },
    {
      "cell_type": "code",
      "metadata": {
        "id": "YUHkBCTuUOcK"
      },
      "source": [
        "plot_histories(base_path)"
      ],
      "execution_count": null,
      "outputs": []
    },
    {
      "cell_type": "code",
      "metadata": {
        "tags": [],
        "id": "NPzqei2OUOcL"
      },
      "source": [
        "plot_metrics(load_metrics(base_path, numbers_of_hidden_neurons))"
      ],
      "execution_count": null,
      "outputs": []
    },
    {
      "cell_type": "markdown",
      "metadata": {
        "id": "O2Gb7mgSUmF7"
      },
      "source": [
        "## Exercise 5: Going deeper: tricks and regularization (10 + 2 points)\n",
        "\n",
        "Adding hidden layers to a deep network does not necessarily lead to a straight-forward improvement of performance. We use Fashion-MNIST dataset in this exercise.  \n",
        "\n",
        "1. Choose a width $ h $ between 50-200 and use at least two hidden layers with $ h $ hidden neurons (each) and train the network for at least 150 epochs. (2 pts)\n",
        "2. Plot the learning curves and report the best validation accuracy. Do you observe overfitting? (2 pts)\n",
        "3. Keep the network at the same size. Use a very large l2 regularization $\\lambda$ (for ex. $\\lambda=1$) and a small one (for ex. $\\lambda=0.001$) on kernel weights and report the validation accuracies. What do you observe?  (2 pts)\n",
        "4. Turn off the $ \\ell_2 $ regularization and use a large dropout rate (for ex. 0.5) and a small one (for ex. 0.05) at all hidden layers and report the validation accuracies. What do you observe? (2 pts)\n",
        "5. BONUS: Try built-in data augmentation methods as a way to regularize: this may include horizontal flipping of the images or small rotations. You can use built-in methods in Keras. Report the augmentation method you used and the best validation accuracy. (2 pts)\n",
        "\n",
        "Note that one needs to cross-validate to find the right regularization parameter for the model you chose and for the dataset at hand. However we do not enforce this hyperparameter search as it takes long computation times but it is a good practice if you try it here. \n",
        "\n",
        "6. Compare the validation accuracies resulting from your attempts to reduce overfitting. Did you improve the validation accuracy? If not, comment on the possible sources of failure. (2 pts)"
      ]
    },
    {
      "cell_type": "markdown",
      "metadata": {
        "id": "LzX8ezheUmF7"
      },
      "source": [
        "**Answer to Question 2** (max 1 sentence):<br/>\n",
        "Overfitting can be observed in the training process since the loss is decreasing but the validation loss is increasing and the validation accuracy levels out after 25 epochs although the training accuracy still keeps increasing.\n",
        "\n",
        "Best validation accuracy: 0.8906999826431274\n",
        "\n",
        "**Answer to Question 3** (max 2 sentences): \n",
        "\n",
        "**Answer to Question 4** (max 2 sentences): \n",
        "\n",
        "**Answer to Question 5 (BONUS)** (max 2 sentences): \n",
        "\n",
        "**Answer to Question 6** (max 2 sentences): "
      ]
    },
    {
      "cell_type": "markdown",
      "metadata": {
        "id": "Q3v2V_woX-r4"
      },
      "source": [
        "### Solution"
      ]
    },
    {
      "cell_type": "markdown",
      "metadata": {
        "id": "h0P5vrtGYmcO"
      },
      "source": [
        "#### Helper Functions"
      ]
    },
    {
      "cell_type": "code",
      "metadata": {
        "id": "nc6JyZi7X52z"
      },
      "source": [
        "def return_new_model (dropout_rate = 0, l2_regularization_parameter = 0):\n",
        "  model = Sequential()\n",
        "  model.add(Dense(128, activation='relu', input_shape=(INPUT_DIM_MNIST_FASHION,), kernel_regularizer=regularizers.l1_l2(l1=0, l2=l2_regularization_parameter)))\n",
        "  if(dropout_rate > 0):\n",
        "      model.add(Dropout(dropout_rate))\n",
        "  model.add(Dense(128, activation='relu', input_shape=(INPUT_DIM_MNIST_FASHION,), kernel_regularizer=regularizers.l1_l2(l1=0, l2=l2_regularization_parameter)))\n",
        "  if(dropout_rate > 0):\n",
        "    model.add(Dropout(dropout_rate))\n",
        "  model.add(Dense(MNIST_FASHION_NUMBER_CLASSES, activation='softmax'))\n",
        "  return model"
      ],
      "execution_count": null,
      "outputs": []
    },
    {
      "cell_type": "markdown",
      "metadata": {
        "id": "NSQJfhZVUmF8"
      },
      "source": [
        "#### Exercise 5.1\n",
        "Choose a width $ h $ between 50-200 and use at least two hidden layers with $ h $ hidden neurons (each) and train the network for at least 150 epochs.\n",
        "#### Exercise 5.2\n",
        "Plot the learning curves and report the best validation accuracy. Do you observe overfitting?\n"
      ]
    },
    {
      "cell_type": "code",
      "metadata": {
        "id": "LU6_9-HSUmF8"
      },
      "source": [
        "model = return_new_model()\n",
        "model.summary()"
      ],
      "execution_count": null,
      "outputs": []
    },
    {
      "cell_type": "code",
      "metadata": {
        "id": "nIB-98huJxhQ"
      },
      "source": [
        "def train_model(model, x_train, y_train, x_test, y_test, model_path, number_of_epochs):\n",
        "  mc = ModelCheckpoint(\"{0}.keras\".format(model_path), monitor='val_loss', mode='min', save_best_only=True, verbose=verbose)\n",
        "  model.compile(optimizer='SGD', loss='categorical_crossentropy', metrics=[\"accuracy\"])\n",
        "  history = model.fit(x_train, y_train, validation_data=(x_test, y_test), epochs=number_of_epochs, verbose=verbose, callbacks=[mc])\n",
        "  np.save(\"{0}.npy\".format(model_path), history.history)"
      ],
      "execution_count": null,
      "outputs": []
    },
    {
      "cell_type": "code",
      "metadata": {
        "id": "M669P181U1sV"
      },
      "source": [
        "model_5_1 = return_new_model()\n",
        "base_path = './models/exercise-5.1/model'\n",
        "history_path = \"{0}.npy\".format(base_path)"
      ],
      "execution_count": null,
      "outputs": []
    },
    {
      "cell_type": "code",
      "metadata": {
        "id": "91maQWSffBqq"
      },
      "source": [
        "train_model(model_5_1, x_mnist_fash_train, y_mnist_fash_train_1hot, x_mnist_fash_test, y_mnist_fash_test_1hot, base_path, number_of_epochs=150)"
      ],
      "execution_count": null,
      "outputs": []
    },
    {
      "cell_type": "code",
      "metadata": {
        "id": "q9xmd8hLh-Sg"
      },
      "source": [
        "history = np.load(history_path, allow_pickle=True).item()\n",
        "plot_history_cust(history, history_path);\n",
        "print(\"Best validation accuracy: {0}\".format(max(history[\"val_accuracy\"])))"
      ],
      "execution_count": null,
      "outputs": []
    },
    {
      "cell_type": "markdown",
      "metadata": {
        "id": "K9nh4tRimYD8"
      },
      "source": [
        "#### Exercise 5.3\n",
        "Keep the network at the same size. Use a very large l2 regularization $\\lambda$ (for ex. $\\lambda=1$) and a small one (for ex. $\\lambda=0.001$) on kernel weights and report the validation accuracies. What do you observe?"
      ]
    },
    {
      "cell_type": "code",
      "metadata": {
        "id": "HCillQwsbhkF"
      },
      "source": [
        "model_5_3_1 = return_new_model (dropout_rate = 0, l2_regularization_parameter = 1)\n",
        "model_5_3_1.summary()\n",
        "base_path = './models/exercise-5.3/model_1'\n",
        "history_path = \"{0}.npy\".format(base_path)"
      ],
      "execution_count": null,
      "outputs": []
    },
    {
      "cell_type": "code",
      "metadata": {
        "id": "NlPV7eFpbMCN"
      },
      "source": [
        "train_model(model_5_3_1, x_mnist_fash_train, y_mnist_fash_train_1hot, x_mnist_fash_test, y_mnist_fash_test_1hot, base_path, number_of_epochs=150)"
      ],
      "execution_count": null,
      "outputs": []
    },
    {
      "cell_type": "code",
      "metadata": {
        "id": "fMFxyOabgpSD"
      },
      "source": [
        "history = np.load(history_path, allow_pickle=True).item()\n",
        "plot_history_cust(history, history_path);\n",
        "print(\"Best validation accuracy: {0}\".format(max(history[\"val_accuracy\"])))"
      ],
      "execution_count": null,
      "outputs": []
    },
    {
      "cell_type": "code",
      "metadata": {
        "id": "2oXWrF26bBFP"
      },
      "source": [
        "model_5_3_2 = return_new_model (dropout_rate = 0, l2_regularization_parameter = 0.001)\n",
        "model_5_3_2.summary()\n",
        "base_path = './models/exercise-5.3/model_2'\n",
        "history_path = \"{0}.npy\".format(base_path)"
      ],
      "execution_count": null,
      "outputs": []
    },
    {
      "cell_type": "code",
      "metadata": {
        "id": "zgNRRoH9bQ1F"
      },
      "source": [
        "train_model(model_5_3_2, x_mnist_fash_train, y_mnist_fash_train_1hot, x_mnist_fash_test, y_mnist_fash_test_1hot, base_path, number_of_epochs=150)"
      ],
      "execution_count": null,
      "outputs": []
    },
    {
      "cell_type": "code",
      "metadata": {
        "id": "-ujQc6e6g_dn"
      },
      "source": [
        "history = np.load(history_path, allow_pickle=True).item()\n",
        "plot_history_cust(history, history_path);\n",
        "print(\"Best validation accuracy: {0}\".format(max(history[\"val_accuracy\"])))"
      ],
      "execution_count": null,
      "outputs": []
    },
    {
      "cell_type": "markdown",
      "metadata": {
        "id": "9httDcZInLhz"
      },
      "source": [
        "#### Exercise 5.4\n",
        "Turn off the $ \\ell_2 $ regularization and use a large dropout rate (for ex. 0.5) and a small one (for ex. 0.05) at all hidden layers and report the validation accuracies. What do you observe?"
      ]
    },
    {
      "cell_type": "code",
      "metadata": {
        "id": "pL30QHhknfj3"
      },
      "source": [
        "model_5_4_1 = return_new_model(dropout_rate = 0.5, l2_regularization_parameter = 0)\n",
        "base_path = './models/exercise-5.4/model_1'\n",
        "history_path = \"{0}.npy\".format(base_path)\n",
        "model = return_new_model(dropout_rate = 0.5, l2_regularization_parameter = 0)\n",
        "model.summary()"
      ],
      "execution_count": null,
      "outputs": []
    },
    {
      "cell_type": "code",
      "metadata": {
        "id": "I7IwtMkekua2"
      },
      "source": [
        "train_model(model_5_4_1, x_mnist_fash_train, y_mnist_fash_train_1hot, x_mnist_fash_test, y_mnist_fash_test_1hot, base_path, number_of_epochs=150)"
      ],
      "execution_count": null,
      "outputs": []
    },
    {
      "cell_type": "code",
      "metadata": {
        "id": "9UXNysNKoXgm"
      },
      "source": [
        "history = np.load(history_path, allow_pickle=True).item()\n",
        "plot_history_cust(history, history_path);\n",
        "print(\"Best validation accuracy: {0}\".format(max(history[\"val_accuracy\"])))"
      ],
      "execution_count": null,
      "outputs": []
    },
    {
      "cell_type": "code",
      "metadata": {
        "id": "zcXRKvfpjpiU"
      },
      "source": [
        "model_5_4_2 = return_new_model(dropout_rate = 0.05, l2_regularization_parameter = 0)\n",
        "base_path = './models/exercise-5.4/model_2'\n",
        "history_path = \"{0}.npy\".format(base_path)\n",
        "model.summary()"
      ],
      "execution_count": null,
      "outputs": []
    },
    {
      "cell_type": "code",
      "metadata": {
        "id": "e_bc8X6FrrCU"
      },
      "source": [
        "train_model(model_5_4_2, x_mnist_fash_train, y_mnist_fash_train_1hot, x_mnist_fash_test, y_mnist_fash_test_1hot, base_path, number_of_epochs=150)"
      ],
      "execution_count": null,
      "outputs": []
    },
    {
      "cell_type": "code",
      "metadata": {
        "id": "vALV4yhRoRlN"
      },
      "source": [
        "history = np.load(history_path, allow_pickle=True).item()\n",
        "plot_history_cust(history, history_path);\n",
        "print(\"Best validation accuracy: {0}\".format(max(history[\"val_accuracy\"])))"
      ],
      "execution_count": null,
      "outputs": []
    },
    {
      "cell_type": "markdown",
      "metadata": {
        "id": "HsqM3VfdzBTP"
      },
      "source": [
        "#### Exercise 5.5\n",
        "\n",
        "BONUS: Try built-in data augmentation methods as a way to regularize: this may include horizontal flipping of the images or small rotations. You can use built-in methods in Keras. Report the augmentation method you used and the best validation accuracy. (2 pts)\n",
        "\n",
        "Note that one needs to cross-validate to find the right regularization parameter for the model you chose and for the dataset at hand. However we do not enforce this hyperparameter search as it takes long computation times but it is a good practice if you try it here. "
      ]
    },
    {
      "cell_type": "markdown",
      "metadata": {
        "id": "I6K6G_nuzRAT"
      },
      "source": [
        "#### Exercise5.6. \n",
        "\n",
        "Compare the validation accuracies resulting from your attempts to reduce overfitting. Did you improve the validation accuracy? If not, comment on the possible sources of failure."
      ]
    },
    {
      "cell_type": "markdown",
      "metadata": {
        "id": "NDYfqS_MUmF9"
      },
      "source": [
        "## Exercise 6: Convolutional neural networks (CNNs) (10 points)\n",
        "\n",
        "Convolutional neural networks have an inductive bias that is well adapted to image classification. \n",
        "\n",
        "1. Design a convolutional neural network and train it without using explicit regularizers. (2 pts)\n",
        "2. Try to improve the best validation scores of the model by experiment with batch_normalization layers, dropout layers and l2-regularization on weights (kernels) and biases. (4 pts)\n",
        "3. After you have found good settings, plot the learning curves for both models, naive (=no tricks/regularization) and tuned (=tricks + regularized) together in a comparison plot. (2pts)\n",
        "4. How does the CNN performance compare to the so far best performing (deep) neural network model? (2 pts)\n",
        "\n",
        "*Hint:* You may get valuable inspiration from the keras [examples](https://keras.io/examples/), [for example](https://keras.io/examples/vision/mnist_convnet/)."
      ]
    },
    {
      "cell_type": "markdown",
      "metadata": {
        "id": "JUbPDPV_UmF9"
      },
      "source": [
        "**Answer to Question 4**: "
      ]
    },
    {
      "cell_type": "markdown",
      "metadata": {
        "id": "1-dXDw80UmF9"
      },
      "source": [
        "### Solution"
      ]
    },
    {
      "cell_type": "code",
      "metadata": {
        "id": "aQxciXbRm-aa"
      },
      "source": [
        ""
      ],
      "execution_count": null,
      "outputs": []
    }
  ]
}