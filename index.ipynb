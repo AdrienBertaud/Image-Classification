{
  "nbformat": 4,
  "nbformat_minor": 0,
  "metadata": {
    "colab": {
      "name": "index.ipynb",
      "provenance": [],
      "collapsed_sections": [
        "jwlnJS6JFac4",
        "d4nlIXiGL58O",
        "Rmqo7WOOUOcE",
        "a1pi3qoPUOcE",
        "-b33M0ko9yZD",
        "NqK_mkEu9yZE",
        "PKMbJRAKUOcI",
        "Wt-x74BbUOcJ",
        "uRQJHCh5UOcK",
        "Q3v2V_woX-r4",
        "h0P5vrtGYmcO",
        "NSQJfhZVUmF8",
        "K9nh4tRimYD8",
        "9httDcZInLhz",
        "HsqM3VfdzBTP",
        "I6K6G_nuzRAT",
        "1-dXDw80UmF9"
      ]
    },
    "kernelspec": {
      "display_name": "Python 3",
      "language": "python",
      "name": "python3"
    },
    "language_info": {
      "codemirror_mode": {
        "name": "ipython",
        "version": 3
      },
      "file_extension": ".py",
      "mimetype": "text/x-python",
      "name": "python",
      "nbconvert_exporter": "python",
      "pygments_lexer": "ipython3",
      "version": "3.7.10"
    },
    "accelerator": "GPU"
  },
  "cells": [
    {
      "cell_type": "markdown",
      "metadata": {
        "id": "BnAEU9iKUmFl"
      },
      "source": [
        "# Miniproject: Image Classification\n",
        "\n",
        "### Description\n",
        "\n",
        "One of the oldest traditions in deep learning is to first tackle the fun problem of MNIST classification. [The MNIST dataset](https://en.wikipedia.org/wiki/MNIST_database) is a large database of handwritten digits that is commonly used as a first test for new classification algorithms. \n",
        "We follow this tradition to investigate the performance of artificial neural networks of different complexity on MNIST. However, since MNIST is too easy for accessing the full power of modern machine learning algorithms (see e.g. [this post](https://twitter.com/goodfellow_ian/status/852591106655043584)) we will extend our analysis to the recently introduced, harder [Fashion-MNIST dataset](https://github.com/zalandoresearch/fashion-mnist).\n",
        "\n",
        "### Prerequisites\n",
        "\n",
        "- You should have a running installation of [tensorflow](https://www.tensorflow.org/install/) and [keras](https://keras.io/). Feel free to gain inspiration from the [Keras example directory](https://keras.io/examples/) for your implementations.\n",
        "- You should know the concepts \"multilayer perceptron\", \"stochastic gradient descent with minibatches\", \"Adam\", \"convolutional neural network\", \"training and validation data\", \"overfitting\", \"regularization\", and \"early stopping\".\n",
        "\n",
        "### What you will learn\n",
        "\n",
        "- You will learn how to define feedforward neural networks in keras and fit them to data (i.e. training).\n",
        "- You will be guided through a prototyping procedure for the application of deep learning to a specific domain.\n",
        "- You will gain some experience on the influence of network architecture, optimizer and regularization choices on the goodness of fit.\n",
        "- You will learn to be more patient :) Some fits may take your computer quite a bit of time; run them over night (or on an external server).\n",
        "\n",
        "### Evaluation criteria\n",
        "\n",
        "The evaluation is (mostly) based on the figures you submit and your answer sentences. Provide clear and concise answers respecting the indicated maximum length.\n",
        "\n",
        "**The submitted notebook must be run by you!** We will only do random tests of your code and not re-run the full notebook. There will be fraud detection sessions at the end of the semester.\n",
        "\n",
        "### Your names\n",
        "\n",
        "**Before you start**: please enter your full name(s) in the field below."
      ]
    },
    {
      "cell_type": "code",
      "metadata": {
        "ExecuteTime": {
          "end_time": "2018-03-09T09:08:24.514461Z",
          "start_time": "2018-03-09T09:08:24.506410Z"
        },
        "id": "bVa5G9-6UmFv"
      },
      "source": [
        "student1 = \"Jan Bauer (18-764-571)\"\n",
        "student2 = \"Adrien Bertaud (Sciper 324795)\""
      ],
      "execution_count": 51,
      "outputs": []
    },
    {
      "cell_type": "markdown",
      "metadata": {
        "ExecuteTime": {
          "end_time": "2018-02-22T21:52:59.697375Z",
          "start_time": "2018-02-22T21:52:59.689443Z"
        },
        "id": "8ZLXwbYkUmFy"
      },
      "source": [
        "## Some helper functions\n",
        "\n",
        "For your convenience we provide here some functions to preprocess the data and plot the results later. Simply run the following cells with `Shift-Enter`.\n",
        "\n",
        "### Dependencies and constants"
      ]
    },
    {
      "cell_type": "code",
      "metadata": {
        "ExecuteTime": {
          "end_time": "2018-02-23T14:27:09.352019Z",
          "start_time": "2018-02-23T14:27:08.476310Z"
        },
        "id": "a_-AKt04UmFz"
      },
      "source": [
        "%matplotlib inline\n",
        "\n",
        "import os\n",
        "import numpy as np\n",
        "import time\n",
        "import matplotlib.pyplot as plt\n",
        "import scipy.io\n",
        "\n",
        "#import tensorflow and keras\n",
        "import tensorflow as tf\n",
        "import tensorflow.keras as keras\n",
        "\n",
        "from tensorflow.keras.models import Sequential\n",
        "from tensorflow.keras.layers import Dense, Conv2D, MaxPooling2D, Dropout, Flatten, BatchNormalization\n",
        "from tensorflow.keras.optimizers import SGD, Adam\n",
        "from tensorflow.keras import regularizers\n",
        "from tensorflow.keras.callbacks import EarlyStopping, ModelCheckpoint, History"
      ],
      "execution_count": 52,
      "outputs": []
    },
    {
      "cell_type": "code",
      "metadata": {
        "colab": {
          "base_uri": "https://localhost:8080/"
        },
        "id": "uByPWuGHUOb2",
        "outputId": "6c5a9a0c-a1ba-489c-d916-82ecd2593828"
      },
      "source": [
        "print(\"Running tensorflow version: {0}\".format(tf.__version__))\n",
        "print(\"Running keras version: {0}\".format(keras.__version__))"
      ],
      "execution_count": 53,
      "outputs": [
        {
          "output_type": "stream",
          "text": [
            "Running tensorflow version: 2.4.1\n",
            "Running keras version: 2.4.0\n"
          ],
          "name": "stdout"
        }
      ]
    },
    {
      "cell_type": "code",
      "metadata": {
        "colab": {
          "base_uri": "https://localhost:8080/"
        },
        "id": "sx8b9KUvUprh",
        "outputId": "ed63a9e3-b15c-48f4-a9c0-c19c2c1b88e1"
      },
      "source": [
        "import tensorflow as tf\n",
        "tf.config.list_physical_devices('GPU') # True/False"
      ],
      "execution_count": 54,
      "outputs": [
        {
          "output_type": "execute_result",
          "data": {
            "text/plain": [
              "[PhysicalDevice(name='/physical_device:GPU:0', device_type='GPU')]"
            ]
          },
          "metadata": {
            "tags": []
          },
          "execution_count": 54
        }
      ]
    },
    {
      "cell_type": "code",
      "metadata": {
        "id": "R4cZmSgSYb2f"
      },
      "source": [
        "try:\n",
        "  resolver = tf.distribute.cluster_resolver.TPUClusterResolver()\n",
        "  tf.config.experimental_connect_to_cluster(resolver)\n",
        "  tf.tpu.experimental.initialize_tpu_system(resolver)\n",
        "  print(\"All devices: \", tf.config.list_logical_devices('TPU'))\n",
        "  strategy = tf.distribute.experimental.TPUStrategy(resolver)\n",
        "except ValueError:\n",
        "  strategy = tf.distribute.get_strategy() "
      ],
      "execution_count": 55,
      "outputs": []
    },
    {
      "cell_type": "code",
      "metadata": {
        "id": "JmyBZURoUOb3"
      },
      "source": [
        "# Define verbosity\n",
        "verbose = True"
      ],
      "execution_count": 56,
      "outputs": []
    },
    {
      "cell_type": "markdown",
      "metadata": {
        "id": "6-U_Ag8QUmFz"
      },
      "source": [
        "### Plotting"
      ]
    },
    {
      "cell_type": "code",
      "metadata": {
        "ExecuteTime": {
          "end_time": "2018-02-23T15:11:52.252208Z",
          "start_time": "2018-02-23T15:11:52.121360Z"
        },
        "id": "d2V7in4BUmF0"
      },
      "source": [
        "def plot_some_samples(x, y = [], yhat = [], select_from = [], \n",
        "                      ncols = 6, nrows = 4, xdim = 28, ydim = 28,\n",
        "                      label_mapping = range(10)):\n",
        "    \"\"\"plot some input vectors as grayscale images (optionally together with their assigned or predicted labels).\n",
        "    \n",
        "    x is an NxD - dimensional array, where D is the length of an input vector and N is the number of samples.\n",
        "    Out of the N samples, ncols x nrows indices are randomly selected from the list select_from (if it is empty, select_from becomes range(N)).\n",
        "    \"\"\"\n",
        "    fig, ax = plt.subplots(nrows, ncols)\n",
        "    if len(select_from) == 0:\n",
        "        select_from = range(x.shape[0])\n",
        "    indices = np.random.choice(select_from, size = min(ncols * nrows, len(select_from)), replace = False)\n",
        "    for i, ind in enumerate(indices):\n",
        "        thisax = ax[i//ncols,i%ncols]\n",
        "        thisax.matshow(x[ind].reshape(xdim, ydim), cmap='gray')\n",
        "        thisax.set_axis_off()\n",
        "        if len(y) != 0:\n",
        "            j = y[ind] if type(y[ind]) != np.ndarray else y[ind].argmax()\n",
        "            thisax.text(0, 0, (label_mapping[j]+1)%10, color='green', \n",
        "                                                       verticalalignment='top',\n",
        "                                                       transform=thisax.transAxes)\n",
        "        if len(yhat) != 0:\n",
        "            k = yhat[ind] if type(yhat[ind]) != np.ndarray else yhat[ind].argmax()\n",
        "            thisax.text(1, 0, (label_mapping[k]+1)%10, color='red',\n",
        "                                             verticalalignment='top',\n",
        "                                             horizontalalignment='right',\n",
        "                                             transform=thisax.transAxes)\n",
        "    return fig\n",
        "\n",
        "def prepare_standardplot(title, xlabel):\n",
        "    fig, (ax1, ax2) = plt.subplots(1, 2)\n",
        "    fig.suptitle(title)\n",
        "    ax1.set_ylabel('categorical cross entropy')\n",
        "    ax1.set_xlabel(xlabel)\n",
        "    ax1.set_yscale('log')\n",
        "    ax2.set_ylabel('accuracy [% correct]')\n",
        "    ax2.set_xlabel(xlabel)\n",
        "    return fig, ax1, ax2\n",
        "\n",
        "def finalize_standardplot(fig, ax1, ax2):\n",
        "    ax1handles, ax1labels = ax1.get_legend_handles_labels()\n",
        "    if len(ax1labels) > 0:\n",
        "        ax1.legend(ax1handles, ax1labels)\n",
        "    ax2handles, ax2labels = ax2.get_legend_handles_labels()\n",
        "    if len(ax2labels) > 0:\n",
        "        ax2.legend(ax2handles, ax2labels)\n",
        "    fig.tight_layout()\n",
        "    plt.subplots_adjust(top=0.9)\n",
        "\n",
        "def plot_history(history, title):\n",
        "    fig, ax1, ax2 = prepare_standardplot(title, 'epoch')\n",
        "    ax1.plot(history.history['loss'], label = \"train\")\n",
        "    ax1.plot(history.history['val_loss'], label = \"val\")\n",
        "    ax2.plot(history.history['accuracy'], label = \"train\")\n",
        "    ax2.plot(history.history['val_accuracy'], label = \"val\")\n",
        "    finalize_standardplot(fig, ax1, ax2)\n",
        "    return fig\n",
        "\n",
        "def plot_history_cust(history, title):\n",
        "    fig, ax1, ax2 = prepare_standardplot(title, 'epoch')\n",
        "    ax1.plot(history['loss'], label = \"train\")\n",
        "    ax1.plot(history['val_loss'], label = \"val\")\n",
        "    ax2.plot(history['accuracy'], label = \"train\")\n",
        "    ax2.plot(history['val_accuracy'], label = \"val\")\n",
        "    finalize_standardplot(fig, ax1, ax2)\n",
        "    return fig\n",
        "\n",
        "def plot_some_samples_cust(x, y = [], yhat = [], select_from = [], \n",
        "                      ncols = 6, nrows = 4, xdim = 28, ydim = 28,\n",
        "                      label_mapping = range(10)):\n",
        "    \"\"\"plot some input vectors as grayscale images (optionally together with their assigned or predicted labels).\n",
        "    \n",
        "    x is an NxD - dimensional array, where D is the length of an input vector and N is the number of samples.\n",
        "    Out of the N samples, ncols x nrows indices are randomly selected from the list select_from (if it is empty, select_from becomes range(N)).\n",
        "    \"\"\"\n",
        "    fig, ax = plt.subplots(nrows, ncols)\n",
        "    if len(select_from) == 0:\n",
        "        select_from = range(x.shape[0])\n",
        "    indices = np.random.choice(select_from, size = min(ncols * nrows, len(select_from)), replace = False)\n",
        "    for i, ind in enumerate(indices):\n",
        "        thisax = ax[i//ncols,i%ncols]\n",
        "        thisax.matshow(x[ind].reshape(xdim, ydim), cmap='gray')\n",
        "        thisax.set_axis_off()\n",
        "        if len(y) != 0:\n",
        "            j = y[ind] if type(y[ind]) != np.ndarray else y[ind].argmax()\n",
        "            thisax.text(0, 0, label_mapping[j], color='green', \n",
        "                                                       verticalalignment='top',\n",
        "                                                       transform=thisax.transAxes)\n",
        "        if len(yhat) != 0:\n",
        "            k = yhat[ind] if type(yhat[ind]) != np.ndarray else yhat[ind].argmax()\n",
        "            thisax.text(1, 0, label_mapping[k], color='red',\n",
        "                                             verticalalignment='top',\n",
        "                                             horizontalalignment='right',\n",
        "                                             transform=thisax.transAxes)\n",
        "    return fig\n",
        "\n",
        "\n"
      ],
      "execution_count": 57,
      "outputs": []
    },
    {
      "cell_type": "markdown",
      "metadata": {
        "id": "96-3BgpfUmF1"
      },
      "source": [
        "## Exercise 1: Data import and visualization (6 points)\n",
        "\n",
        "The datasets we use in this project (MNIST, Fashion-MNIST) consists of grayscale images with 28x28 pixels. \n",
        "The low resolution (and grayscale) of the images certainly misses some information that could be helpful for classifying the images. However, since the data has lower dimensionality due to the low resolution, the training converges faster. This is an advantage in situations like here (or generally when prototyping), where we want to try many different things without having to wait too long. \n",
        "\n",
        "1. As a warm-up exercise, use the importer to (down-)load the MNIST and Fashion-MNIST dataset. Assign useful variables to test & train images and labels for both datasets respectively. (2 pts)\n",
        "2. Use the function `plot_some_samples` defined above to plot some samples of the two datasets. What do the green digits at the bottom left of each image indicate? (2 pts)\n",
        "3. To prepare for training: 1. transform the labels to one hot coding, i.e. for 5 classes, label 2 becomes the vector [0, 0, 1, 0, 0] (you can use `utils.to_categorical` function from keras), and 2. reshape (flatten) the input images to input vectors and rescale the input data into the range [0,1]. (2 pts)\n",
        "\n",
        "*Hint*: Keras comes with a convenient in-built [data importer](https://keras.io/datasets/) for common datasets. "
      ]
    },
    {
      "cell_type": "markdown",
      "metadata": {
        "id": "kGiMLZFXUmF2"
      },
      "source": [
        "**Answer to Question 2** (1 sentence):<br/>\n",
        "The green digit at the bottom left corresponds to '(label_mapping[j]+1)%10' (*true class label incremented by one and divided modulo 10*) and can be interpreted as the index of the digit with value 1 (all others at 0) for one hot encoding."
      ]
    },
    {
      "cell_type": "markdown",
      "metadata": {
        "id": "PGSLbCcbUmF2"
      },
      "source": [
        "### Solution"
      ]
    },
    {
      "cell_type": "markdown",
      "metadata": {
        "id": "44GJq_o2BlkA"
      },
      "source": [
        "#### Exercise 1.1\n",
        "Load the MNIST and Fashion-MNIST dataset."
      ]
    },
    {
      "cell_type": "code",
      "metadata": {
        "ExecuteTime": {
          "end_time": "2018-02-23T14:27:44.442862Z",
          "start_time": "2018-02-23T14:27:09.505547Z"
        },
        "id": "wjga3NseUmF3"
      },
      "source": [
        "import tensorflow as tf\n",
        "(x_mnist_train, y_mnist_train), (x_mnist_test, y_mnist_test) = tf.keras.datasets.mnist.load_data(path=\"mnist.npz\")\n",
        "(x_mnist_fashion_train, y_mnist_fashion_train), (x_mnist_fashion_test, y_mnist_fashion_test) = tf.keras.datasets.fashion_mnist.load_data()"
      ],
      "execution_count": 58,
      "outputs": []
    },
    {
      "cell_type": "markdown",
      "metadata": {
        "id": "zK0e2jWyBxuY"
      },
      "source": [
        "#### Exercise 1.2\n",
        "Plot some samples of the two datasets."
      ]
    },
    {
      "cell_type": "code",
      "metadata": {
        "colab": {
          "base_uri": "https://localhost:8080/",
          "height": 277
        },
        "id": "E-tP-_yR_cIT",
        "outputId": "c28747db-7bed-4d93-96f4-44306906f737"
      },
      "source": [
        "print(\"MNIST\")\n",
        "plot_some_samples(x_mnist_train, y_mnist_train, ncols=6, nrows=4);"
      ],
      "execution_count": 59,
      "outputs": [
        {
          "output_type": "stream",
          "text": [
            "MNIST\n"
          ],
          "name": "stdout"
        },
        {
          "output_type": "display_data",
          "data": {
            "image/png": "[encoded data removed]",
            "text/plain": [
              "<Figure size 432x288 with 24 Axes>"
            ]
          },
          "metadata": {
            "tags": [],
            "needs_background": "light"
          }
        }
      ]
    },
    {
      "cell_type": "code",
      "metadata": {
        "colab": {
          "base_uri": "https://localhost:8080/",
          "height": 277
        },
        "id": "rM7sGUJ7CPXI",
        "outputId": "d09d2aac-41a6-4aa9-84a3-ee024f80568a"
      },
      "source": [
        "print(\"Fashion-MNIST\")\n",
        "plot_some_samples(x_mnist_fashion_train, y_mnist_fashion_train, ncols=6, nrows=4);"
      ],
      "execution_count": 60,
      "outputs": [
        {
          "output_type": "stream",
          "text": [
            "Fashion-MNIST\n"
          ],
          "name": "stdout"
        },
        {
          "output_type": "display_data",
          "data": {
            "image/png": "[encoded data removed]",
            "text/plain": [
              "<Figure size 432x288 with 24 Axes>"
            ]
          },
          "metadata": {
            "tags": [],
            "needs_background": "light"
          }
        }
      ]
    },
    {
      "cell_type": "markdown",
      "metadata": {
        "id": "ozrpz5-NB7wg"
      },
      "source": [
        "#### Exercise 1.3\n",
        "Prepare for training."
      ]
    },
    {
      "cell_type": "code",
      "metadata": {
        "colab": {
          "base_uri": "https://localhost:8080/"
        },
        "id": "2Q_Rl6c-DV87",
        "outputId": "72aa1149-c78b-4cad-c2f0-8644ab6715ca"
      },
      "source": [
        "# transform the labels to one hot coding\n",
        "from keras.utils import to_categorical\n",
        "\n",
        "y_mnist_train_one_hot = to_categorical(y_mnist_train)\n",
        "y_mnist_test_one_hot = to_categorical(y_mnist_test)\n",
        "\n",
        "for i in range(5):\n",
        "    print(\"train : {0} => {1} \\ttest : {2} => {3}\".format(y_mnist_train[i], y_mnist_train_one_hot[i], y_mnist_test[i], y_mnist_test_one_hot[i]))"
      ],
      "execution_count": 61,
      "outputs": [
        {
          "output_type": "stream",
          "text": [
            "train : 5 => [0. 0. 0. 0. 0. 1. 0. 0. 0. 0.] \ttest : 7 => [0. 0. 0. 0. 0. 0. 0. 1. 0. 0.]\n",
            "train : 0 => [1. 0. 0. 0. 0. 0. 0. 0. 0. 0.] \ttest : 2 => [0. 0. 1. 0. 0. 0. 0. 0. 0. 0.]\n",
            "train : 4 => [0. 0. 0. 0. 1. 0. 0. 0. 0. 0.] \ttest : 1 => [0. 1. 0. 0. 0. 0. 0. 0. 0. 0.]\n",
            "train : 1 => [0. 1. 0. 0. 0. 0. 0. 0. 0. 0.] \ttest : 0 => [1. 0. 0. 0. 0. 0. 0. 0. 0. 0.]\n",
            "train : 9 => [0. 0. 0. 0. 0. 0. 0. 0. 0. 1.] \ttest : 4 => [0. 0. 0. 0. 1. 0. 0. 0. 0. 0.]\n"
          ],
          "name": "stdout"
        }
      ]
    },
    {
      "cell_type": "code",
      "metadata": {
        "colab": {
          "base_uri": "https://localhost:8080/"
        },
        "id": "09HL6DMLN8uu",
        "outputId": "f24b5ea2-d418-452c-97f8-b5addd411cdd"
      },
      "source": [
        "y_mnist_fashion_train_one_hot = to_categorical(y_mnist_fashion_train)\n",
        "y_mnist_fashion_test_one_hot = to_categorical(y_mnist_fashion_test)\n",
        "\n",
        "for i in range(5):\n",
        "    print(\"train : {0} => {1} \\ttest : {2} => {3}\".format(y_mnist_fashion_train[i], y_mnist_fashion_train_one_hot[i], y_mnist_fashion_test[i], y_mnist_fashion_test_one_hot[i]))"
      ],
      "execution_count": 62,
      "outputs": [
        {
          "output_type": "stream",
          "text": [
            "train : 9 => [0. 0. 0. 0. 0. 0. 0. 0. 0. 1.] \ttest : 9 => [0. 0. 0. 0. 0. 0. 0. 0. 0. 1.]\n",
            "train : 0 => [1. 0. 0. 0. 0. 0. 0. 0. 0. 0.] \ttest : 2 => [0. 0. 1. 0. 0. 0. 0. 0. 0. 0.]\n",
            "train : 0 => [1. 0. 0. 0. 0. 0. 0. 0. 0. 0.] \ttest : 1 => [0. 1. 0. 0. 0. 0. 0. 0. 0. 0.]\n",
            "train : 3 => [0. 0. 0. 1. 0. 0. 0. 0. 0. 0.] \ttest : 1 => [0. 1. 0. 0. 0. 0. 0. 0. 0. 0.]\n",
            "train : 0 => [1. 0. 0. 0. 0. 0. 0. 0. 0. 0.] \ttest : 6 => [0. 0. 0. 0. 0. 0. 1. 0. 0. 0.]\n"
          ],
          "name": "stdout"
        }
      ]
    },
    {
      "cell_type": "code",
      "metadata": {
        "colab": {
          "base_uri": "https://localhost:8080/"
        },
        "id": "whHrNeQiETo7",
        "outputId": "9ace71de-bcf6-4807-b447-f692c1d717c5"
      },
      "source": [
        "# reshape (flatten) the input images to input vectors\n",
        "print(\"MNIST\")\n",
        "original_mnist_train_shape = x_mnist_train.shape\n",
        "original_mnist_test_shape = x_mnist_test.shape\n",
        "x_mnist_train = x_mnist_train.reshape(x_mnist_train.shape[0], x_mnist_train.shape[1]*x_mnist_train.shape[2])\n",
        "x_mnist_test = x_mnist_test.reshape(x_mnist_test.shape[0], x_mnist_test.shape[1]*x_mnist_test.shape[2])\n",
        "print(\"Reshaped training data from {0} to {1}\".format(original_mnist_train_shape, x_mnist_train.shape))\n",
        "print(\"Reshaped test data from {0} to {1}\".format(original_mnist_test_shape, x_mnist_test.shape))"
      ],
      "execution_count": 63,
      "outputs": [
        {
          "output_type": "stream",
          "text": [
            "MNIST\n",
            "Reshaped training data from (60000, 28, 28) to (60000, 784)\n",
            "Reshaped test data from (10000, 28, 28) to (10000, 784)\n"
          ],
          "name": "stdout"
        }
      ]
    },
    {
      "cell_type": "code",
      "metadata": {
        "colab": {
          "base_uri": "https://localhost:8080/"
        },
        "id": "evnIslVWHHmz",
        "outputId": "a2af1d7f-64e8-4179-c07c-44d9f4fe7dd5"
      },
      "source": [
        "print(\"Fashion-MNIST\")\n",
        "original_train_shape = x_mnist_fashion_train.shape\n",
        "original_test_shape = x_mnist_fashion_test.shape\n",
        "x_mnist_fashion_train = x_mnist_fashion_train.reshape(x_mnist_fashion_train.shape[0], x_mnist_fashion_train.shape[1]*x_mnist_fashion_train.shape[2])\n",
        "x_mnist_fashion_test = x_mnist_fashion_test.reshape(x_mnist_fashion_test.shape[0], x_mnist_fashion_test.shape[1]*x_mnist_fashion_test.shape[2])\n",
        "print(\"Reshaped training data from {0} to {1}\".format(original_train_shape, x_mnist_fashion_train.shape))\n",
        "print(\"Reshaped test data from {0} to {1}\".format(original_test_shape, x_mnist_fashion_test.shape))"
      ],
      "execution_count": 64,
      "outputs": [
        {
          "output_type": "stream",
          "text": [
            "Fashion-MNIST\n",
            "Reshaped training data from (60000, 28, 28) to (60000, 784)\n",
            "Reshaped test data from (10000, 28, 28) to (10000, 784)\n"
          ],
          "name": "stdout"
        }
      ]
    },
    {
      "cell_type": "code",
      "metadata": {
        "colab": {
          "base_uri": "https://localhost:8080/"
        },
        "id": "6tDl4RApFFV2",
        "outputId": "e31b7360-3f73-4fc5-91d0-7a8961295c02"
      },
      "source": [
        "# MNIST: rescale the input data into the range [0,1]\n",
        "max_grey_value = 255.0\n",
        "\n",
        "print(\"MNIST\")\n",
        "print(\"Max value in initial dataset (train/test):\", np.max(x_mnist_train), np.max(x_mnist_test))\n",
        "print(\"Min value in initial dataset (train/test):\", np.min(x_mnist_train), np.min(x_mnist_test))\n",
        "x_mnist_train = x_mnist_train / max_grey_value  \n",
        "x_mnist_test = x_mnist_test / max_grey_value \n",
        "print(\"Max value in rescaled dataset (train/test):\", np.max(x_mnist_train), np.max(x_mnist_test))\n",
        "print(\"Min value in rescaled dataset (train/test):\", np.min(x_mnist_train), np.min(x_mnist_test))"
      ],
      "execution_count": 65,
      "outputs": [
        {
          "output_type": "stream",
          "text": [
            "MNIST\n",
            "Max value in initial dataset (train/test): 255 255\n",
            "Min value in initial dataset (train/test): 0 0\n",
            "Max value in rescaled dataset (train/test): 1.0 1.0\n",
            "Min value in rescaled dataset (train/test): 0.0 0.0\n"
          ],
          "name": "stdout"
        }
      ]
    },
    {
      "cell_type": "code",
      "metadata": {
        "colab": {
          "base_uri": "https://localhost:8080/"
        },
        "id": "3xRmWrSuLyy5",
        "outputId": "f31de654-0ebc-435e-8597-592c7f08c348"
      },
      "source": [
        "# MNIST: rescale the input data into the range [0,1]\n",
        "print(\"Fashion-MNIST\")\n",
        "print(\"Max value in initial dataset (train/test):\", np.max(x_mnist_fashion_train), np.max(x_mnist_fashion_test))\n",
        "print(\"Min value in initial dataset (train/test):\", np.min(x_mnist_fashion_train), np.min(x_mnist_fashion_test))\n",
        "x_mnist_fashion_train = x_mnist_fashion_train / max_grey_value  \n",
        "x_mnist_fashion_test = x_mnist_fashion_test / max_grey_value \n",
        "print(\"Max value in rescaled dataset (train/test):\", np.max(x_mnist_fashion_train), np.max(x_mnist_fashion_test))\n",
        "print(\"Min value in rescaled dataset (train/test):\", np.min(x_mnist_fashion_train), np.min(x_mnist_fashion_test))"
      ],
      "execution_count": 66,
      "outputs": [
        {
          "output_type": "stream",
          "text": [
            "Fashion-MNIST\n",
            "Max value in initial dataset (train/test): 255 255\n",
            "Min value in initial dataset (train/test): 0 0\n",
            "Max value in rescaled dataset (train/test): 1.0 1.0\n",
            "Min value in rescaled dataset (train/test): 0.0 0.0\n"
          ],
          "name": "stdout"
        }
      ]
    },
    {
      "cell_type": "code",
      "metadata": {
        "colab": {
          "base_uri": "https://localhost:8080/"
        },
        "id": "1cZuTQVecZJB",
        "outputId": "55e364b8-c10b-4da8-d084-41375c014471"
      },
      "source": [
        "# Constants\n",
        "INPUT_DIM_MNIST = x_mnist_train.shape[1]\n",
        "INPUT_DIM_MNIST_FASHION = x_mnist_fashion_train.shape[1]\n",
        "MNIST_NUMBER_CLASSES = y_mnist_train_one_hot.shape[1]\n",
        "MNIST_FASHION_NUMBER_CLASSES = y_mnist_fashion_train_one_hot.shape[1]\n",
        "print(\"MMNIST Input Shape {0}; MNIST Number Of Classes {1}\".format(INPUT_DIM_MNIST, MNIST_NUMBER_CLASSES))\n",
        "print(\"MMNIST Fashion Input Shape {0}; MNIST Fashion Number Of Classes {1}\".format(INPUT_DIM_MNIST_FASHION, MNIST_FASHION_NUMBER_CLASSES))"
      ],
      "execution_count": 67,
      "outputs": [
        {
          "output_type": "stream",
          "text": [
            "MMNIST Input Shape 784; MNIST Number Of Classes 10\n",
            "MMNIST Fashion Input Shape 784; MNIST Fashion Number Of Classes 10\n"
          ],
          "name": "stdout"
        }
      ]
    },
    {
      "cell_type": "markdown",
      "metadata": {
        "id": "7nWca9BqUmF3"
      },
      "source": [
        "## Exercise 2: No hidden layer (10 points)\n",
        "\n",
        "Define and fit a model without a hidden layer (since we will use multi-layer models later in this project, you can define a general constructor function for models with an arbitrary number of hidden layers already at this point). Note that in this miniproject there is no real test dataset and what is loaded as a test dataset is used for validation. First, implement 1.-3. for the MNIST dataset.  \n",
        "\n",
        "1. Implement the model with the following specifications: use the softmax activation for the output layer, use the categorical_crossentropy loss, choose stochastic gradient descent for the optimizer, and add the accuracy metric to the metrics. (5 pts)\n",
        "2. Train for as many epochs as needed to see no further decrease in the validation loss. (1 pt)\n",
        "3. Plot the learning curves resulting from the fitting procedure (a history object) using the function `plot_history` defined above. (1 pt)\n",
        "4. Repeat the above steps for fitting the network to the Fashion-MNIST dataset. (2 pts)\n",
        "5. Report the best validation accuracy achieved for each one of the datasets. Do you observe overfitting already for this simple model? Answer separetely for the MNIST dataset and Fashion-MNIST dataset. (1 pt) \n",
        "\n",
        "*Hint:* Read the keras docs, in particular [Getting started with the Keras Sequential model](https://keras.io/getting-started/sequential-model-guide/)."
      ]
    },
    {
      "cell_type": "markdown",
      "metadata": {
        "id": "o0om4_uXUmF5"
      },
      "source": [
        "**Answer to Question 5** (max 2 sentences):<br/>\n",
        "*MNIST:*\n",
        "\n",
        "We see that the improvement of the validation accuracy levels out around 20 epochs.\n",
        "\n",
        "If overfitting, we should see the validation loss stopping to decrease (i.e. increasing). Furthermore, since there is a lot of training data for a models with only 7960 parameters it is unlikely that the model is overfitting.\n",
        "\n",
        "*Fashion-MNIST:*\n",
        "\n",
        "We see that the improvement of the validation accuracy levels out around after 75 epochs\n",
        "\n",
        "Same interpretation than MNIST regarding overfitting, even more Fashion-MNIST has been introduced as beeing \"harder\"."
      ]
    },
    {
      "cell_type": "markdown",
      "metadata": {
        "id": "CgSYz8gAUmF5"
      },
      "source": [
        "### Solution"
      ]
    },
    {
      "cell_type": "markdown",
      "metadata": {
        "id": "E7vGd8ZORprP"
      },
      "source": [
        "#### Exercise 2.1\n",
        "Implement the model."
      ]
    },
    {
      "cell_type": "code",
      "metadata": {
        "colab": {
          "base_uri": "https://localhost:8080/"
        },
        "id": "mDk_lRLPUmF5",
        "outputId": "1d9c08d1-24fd-4d1d-df59-32e6e3665dc2"
      },
      "source": [
        "# Get number of columns in training data\n",
        "input_dim_mnist = x_mnist_train.shape[1]\n",
        "\n",
        "# Get number of classes\n",
        "mnist_classes_nb = y_mnist_train_one_hot.shape[1]\n",
        "\n",
        "# Use Keras sequential model\n",
        "model = Sequential()\n",
        "model.add(Dense(mnist_classes_nb, activation='relu', name=\"input_layer\",  input_shape=(input_dim_mnist,)))\n",
        "model.add(Dense(mnist_classes_nb, activation='softmax', name=\"output_layer\"))\n",
        "model.compile(optimizer='SGD', loss='categorical_crossentropy', metrics=[\"accuracy\"])\n",
        "model.name_=\"model 2.1\"\n",
        "model.summary()"
      ],
      "execution_count": 68,
      "outputs": [
        {
          "output_type": "stream",
          "text": [
            "Model: \"sequential_5\"\n",
            "_________________________________________________________________\n",
            "Layer (type)                 Output Shape              Param #   \n",
            "=================================================================\n",
            "input_layer (Dense)          (None, 10)                7850      \n",
            "_________________________________________________________________\n",
            "output_layer (Dense)         (None, 10)                110       \n",
            "=================================================================\n",
            "Total params: 7,960\n",
            "Trainable params: 7,960\n",
            "Non-trainable params: 0\n",
            "_________________________________________________________________\n"
          ],
          "name": "stdout"
        }
      ]
    },
    {
      "cell_type": "markdown",
      "metadata": {
        "id": "fDsqMm-ETZqT"
      },
      "source": [
        "#### Exercise 2.2\n",
        "Train for as many epochs as needed to see no further decrease in the validation loss."
      ]
    },
    {
      "cell_type": "code",
      "metadata": {
        "id": "k5X-t43-Ie-L"
      },
      "source": [
        "def get_history(epochs, file_history, model):\n",
        "  \"\"\"Train model and save history or reload history if file exist.\"\"\"\n",
        "  dir_history = 'history'\n",
        "  numpy_ext = '.npy'\n",
        "  path_history = os.path.join(dir_history, file_history + numpy_ext)\n",
        "\n",
        "  if os.path.isdir(dir_history) is not True:\n",
        "    os.mkdir(dir_history)\n",
        "\n",
        "  if os.path.isfile(path_history) is not True:\n",
        "    stop_callback = EarlyStopping(monitor='val_loss', mode='min', verbose=1, patience=20)\n",
        "    callbacks = [stop_callback]\n",
        "    fit_output = model.fit(x_mnist_train, y_mnist_train_one_hot, validation_data=(x_mnist_test, y_mnist_test_one_hot), epochs=epochs, callbacks=callbacks, verbose=verbose)\n",
        "    history = fit_output.history\n",
        "    np.save(path_history,history)\n",
        "  else:\n",
        "    print(\"loading\", path_history)\n",
        "    history = np.load(path_history,allow_pickle='TRUE').item()\n",
        "\n",
        "  return history"
      ],
      "execution_count": 69,
      "outputs": []
    },
    {
      "cell_type": "code",
      "metadata": {
        "colab": {
          "base_uri": "https://localhost:8080/"
        },
        "id": "enKDEfdkTQ68",
        "outputId": "807cb454-0f5a-4047-8195-c539e080b703"
      },
      "source": [
        "epochs = 100\n",
        "file_history='history_ex_2.2'\n",
        "history = get_history(epochs, file_history, model)"
      ],
      "execution_count": 70,
      "outputs": [
        {
          "output_type": "stream",
          "text": [
            "loading history/history_ex_2.2.npy\n"
          ],
          "name": "stdout"
        }
      ]
    },
    {
      "cell_type": "markdown",
      "metadata": {
        "id": "B6jIRPNeLR9X"
      },
      "source": [
        "#### Exercise 2.3\n",
        "\n",
        "Plot the learning curves resulting from the fitting procedure (a history object) using the function `plot_history` defined above."
      ]
    },
    {
      "cell_type": "code",
      "metadata": {
        "colab": {
          "base_uri": "https://localhost:8080/",
          "height": 302
        },
        "id": "VVP8kpKlJgmi",
        "outputId": "269e92c5-a327-4692-c1fd-898e1c4e556c"
      },
      "source": [
        "plot_history_cust(history, \"MNIST learning with no Hidden Layer\");"
      ],
      "execution_count": 71,
      "outputs": [
        {
          "output_type": "display_data",
          "data": {
            "image/png": "[encoded data removed]",
            "text/plain": [
              "<Figure size 432x288 with 2 Axes>"
            ]
          },
          "metadata": {
            "tags": [],
            "needs_background": "light"
          }
        }
      ]
    },
    {
      "cell_type": "markdown",
      "metadata": {
        "id": "jANnS4HqMROF"
      },
      "source": [
        "#### Exercise 2.4\n",
        "\n",
        "Repeat with the Fashion-MNIST dataset."
      ]
    },
    {
      "cell_type": "code",
      "metadata": {
        "id": "aw9b2nInUOcA"
      },
      "source": [
        "# Get number of columns in training data\n",
        "input_dim_fashion = x_mnist_fashion_train.shape[1]\n",
        "\n",
        "# Get number of classes\n",
        "fashion_classes_nb = y_mnist_fashion_train_one_hot.shape[1]\n",
        "\n",
        "#Define model callbacks\n",
        "stop_callback = EarlyStopping(monitor='val_loss', mode='min', verbose=1, patience=20)\n",
        "callbacks = [stop_callback]"
      ],
      "execution_count": 72,
      "outputs": []
    },
    {
      "cell_type": "code",
      "metadata": {
        "id": "PmvJqNFnUOcB",
        "colab": {
          "base_uri": "https://localhost:8080/"
        },
        "outputId": "5d8797f8-1584-4500-c5d5-69533b5da73a"
      },
      "source": [
        "# Use Keras sequential model\n",
        "model = Sequential()\n",
        "model.add(Dense(fashion_classes_nb, activation='relu', input_shape=(input_dim_fashion,)))\n",
        "model.add(Dense(fashion_classes_nb, activation='softmax'))\n",
        "model.compile(optimizer='SGD', loss='categorical_crossentropy', metrics=[\"accuracy\"])\n",
        "model.summary()"
      ],
      "execution_count": 73,
      "outputs": [
        {
          "output_type": "stream",
          "text": [
            "Model: \"sequential_6\"\n",
            "_________________________________________________________________\n",
            "Layer (type)                 Output Shape              Param #   \n",
            "=================================================================\n",
            "dense_8 (Dense)              (None, 10)                7850      \n",
            "_________________________________________________________________\n",
            "dense_9 (Dense)              (None, 10)                110       \n",
            "=================================================================\n",
            "Total params: 7,960\n",
            "Trainable params: 7,960\n",
            "Non-trainable params: 0\n",
            "_________________________________________________________________\n"
          ],
          "name": "stdout"
        }
      ]
    },
    {
      "cell_type": "code",
      "metadata": {
        "colab": {
          "base_uri": "https://localhost:8080/"
        },
        "id": "zeS99WhhMW_-",
        "outputId": "814660e6-eb3d-4ad1-a438-42e1b823e101"
      },
      "source": [
        "file_history = 'history_ex_2.4'\n",
        "history = get_history(epochs, file_history, model)"
      ],
      "execution_count": 74,
      "outputs": [
        {
          "output_type": "stream",
          "text": [
            "loading history/history_ex_2.4.npy\n"
          ],
          "name": "stdout"
        }
      ]
    },
    {
      "cell_type": "code",
      "metadata": {
        "id": "TYnfImWfNT9o",
        "colab": {
          "base_uri": "https://localhost:8080/",
          "height": 302
        },
        "outputId": "fa234607-2126-4834-f703-2b748ecfd9f8"
      },
      "source": [
        "plot_history_cust(history, \"Fashion-MNIST learning with no hidden layer \");"
      ],
      "execution_count": 75,
      "outputs": [
        {
          "output_type": "display_data",
          "data": {
            "image/png": "[encoded data removed]",
            "text/plain": [
              "<Figure size 432x288 with 2 Axes>"
            ]
          },
          "metadata": {
            "tags": [],
            "needs_background": "light"
          }
        }
      ]
    },
    {
      "cell_type": "markdown",
      "metadata": {
        "id": "WvUjwawMNfS9"
      },
      "source": [
        "We see that the improvement of the validation accuracy levels out around 75 epochs."
      ]
    },
    {
      "cell_type": "markdown",
      "metadata": {
        "id": "93JrKMECUmF5"
      },
      "source": [
        "## Exercise 3: One hidden layer, different optimizers (10 points)\n",
        "\n",
        "Train a network with one hidden layer and compare different optimizers for the MNIST dataset.\n",
        "\n",
        "1. Use one hidden layer with 128 units and the 'relu' activation. Use the [summary method](https://keras.io/api/models/model/#summary-method) to display your model in a compact way. (1 pt)\n",
        "2. Train the model for at least 50 epochs with different learning rates of stochastic gradient descent (SGD). What happens if the learning rate $\\eta$ is very large (for ex. $\\eta=1$), and very small (for ex. $\\eta=0.001$)? Comment on the fluctuations of the learning curve. (2 pts)\n",
        "3. Replace the stochastic gradient descent optimizer with the [Adam optimizer](https://keras.io/optimizers/#adam) (you can use the default learning rate). (1pt)\n",
        "4. Plot the learning curves of SGD with a good learning rate (i.e. in the range [0.01,0.1]) together with the learning curves of Adam in the same figure. Take care of a reasonable labeling of the curves in the plot. (1 pts)\n",
        "5. Explain the qualitative difference between the loss and accuracy curves with respect to signs of overfitting. Report the best validation accuracy achieved for SGD and Adam. Which one is better and why do you think so? (2 pts)\n",
        "6. Determine the indices of all test images that are misclassified by the fitted model and plot some of them using the function \n",
        "   `plot_some_samples`. (1 pt)\n",
        "\n",
        "Real-world datasets are labeled by some people and sometimes there are mistakes in the labeling. We will corrupt labels of the MNIST dataset artifically, and observe an overfitting to this noisy dataset with Adam. \n",
        "\n",
        "7. Take $ p = 0.2 $ fraction of the data points from the training dataset of MNIST and change their class labels randomly. (You can sample a random integer from 0 to 9 using `np.random.uniform` and `np.floor`). Train with Adam for 50 or 100 epochs. Plot the learning curves. Do you observe overfitting in the validation accuracy? Does it take longer to converge to perfect training accuracy compare to noise-free MNIST? (2 pts)"
      ]
    },
    {
      "cell_type": "markdown",
      "metadata": {
        "id": "JqsjfxPdUmF5"
      },
      "source": [
        "**Answer to Question 2** (max 2 sentences): We can see in the diagrams that fluctuations of the learning curve are increasing with the learning rate (for small learning rates {0.01, 0.001} almost no fluctuations in the learning curve can be seen anymore and the shape of the learning curve is really smooth). This can be explained by the fact that with a small learning rates, the algorithm makes smaller steps, and so weights change less before correcting direction.\n",
        "\n",
        "**Answer to Question 5** (max 3 sentences): Adam is faster to learn but at the end they perform in the same way (so faster leaning, but similar performances). We can explain it, saying that the networks are the same, but in Adam case the learning rate is adapting. To get models of similar performances, we must stop learning when it begins to overfit (around 5 epochs for Adam).\n",
        "\n",
        "**Answer to Question 7** (max 2 sentences): The noisy dataset begins to overfit after around 5 epochs. The model is definetly overfitting to the noise in the noisy MNIST dataset. It takes much longer to converge towards the perfect training accuracy on the noisy MNIST dataset."
      ]
    },
    {
      "cell_type": "markdown",
      "metadata": {
        "id": "hqNAh2guUmF5"
      },
      "source": [
        "### Solution"
      ]
    },
    {
      "cell_type": "code",
      "metadata": {
        "id": "Y8E46szjUOcC"
      },
      "source": [
        "from keras.layers import Input\n",
        "from keras.models import Model\n",
        "\n",
        "def create_model(input_dim):\n",
        "    inputs = Input(shape=(input_dim,), name=\"input_layer\")\n",
        "    layer = Dense(128, activation='relu', name=\"hidden_layer\")(inputs)\n",
        "    outputs = Dense(mnist_classes_nb, activation='softmax', name=\"output_layer\")(layer)\n",
        "    #model = Model(inputs=inputs, outputs=outputs, name=\"Model Exercise 3.1\") # ValueError: 'Model Exercise 3.1/' is not a valid scope name\n",
        "    model = Model(inputs=inputs, outputs=outputs)\n",
        "\n",
        "    return model"
      ],
      "execution_count": 76,
      "outputs": []
    },
    {
      "cell_type": "code",
      "metadata": {
        "id": "2zhJ3XgBFJS2"
      },
      "source": [
        "def create_model(input_dim):\n",
        "  model = Sequential()\n",
        "  model.add(Input(shape=(input_dim,), name=\"input_layer\"))\n",
        "  model.add(Dense(128, activation='relu', name=\"hidden_layer\"))\n",
        "  model.add(Dense(mnist_classes_nb, activation='softmax', name=\"output_layer\"))\n",
        "  model.compile(optimizer='SGD', loss='categorical_crossentropy', metrics=[\"accuracy\"])\n",
        "  return model"
      ],
      "execution_count": 88,
      "outputs": []
    },
    {
      "cell_type": "markdown",
      "metadata": {
        "id": "52WnT_AcObgs"
      },
      "source": [
        "#### Exercise 3.1\n",
        "\n",
        "Use one hidden layer with 128 units and the 'relu' activation. Use the [summary method](https://keras.io/api/models/model/#summary-method) to display your model in a compact way."
      ]
    },
    {
      "cell_type": "code",
      "metadata": {
        "id": "uE8X5bTnUOcC",
        "colab": {
          "base_uri": "https://localhost:8080/"
        },
        "outputId": "dd809b2d-8705-4fcd-d2cb-b814d2f55d4b"
      },
      "source": [
        "model = create_model(input_dim_mnist)\n",
        "model.summary()"
      ],
      "execution_count": 89,
      "outputs": [
        {
          "output_type": "stream",
          "text": [
            "Model: \"sequential_10\"\n",
            "_________________________________________________________________\n",
            "Layer (type)                 Output Shape              Param #   \n",
            "=================================================================\n",
            "hidden_layer (Dense)         (None, 128)               100480    \n",
            "_________________________________________________________________\n",
            "output_layer (Dense)         (None, 10)                1290      \n",
            "=================================================================\n",
            "Total params: 101,770\n",
            "Trainable params: 101,770\n",
            "Non-trainable params: 0\n",
            "_________________________________________________________________\n"
          ],
          "name": "stdout"
        }
      ]
    },
    {
      "cell_type": "markdown",
      "metadata": {
        "id": "tqZiIDyzdnWz"
      },
      "source": [
        "#### Exercise 3.2\n",
        "\n",
        "Train the model for at least 50 epochs with different learning rates of stochastic gradient descent (SGD). What happens if the learning rate  𝜂 is very large (for ex.  𝜂=1), and very small (for ex.  𝜂=0.001)? Comment on the fluctuations of the learning curve."
      ]
    },
    {
      "cell_type": "code",
      "metadata": {
        "colab": {
          "base_uri": "https://localhost:8080/"
        },
        "id": "Zrvvd0gcd7jh",
        "outputId": "228945e2-4784-4579-adf3-58d60394e9c2"
      },
      "source": [
        "learning_rates = [10**(-e) for e in range(0,4)]\n",
        "histories = []\n",
        "#models = []\n",
        "#epochs = 50\n",
        "epochs = 50\n",
        "\n",
        "for lr in learning_rates:\n",
        "    print(\"Optimizing model with SGD (lr: {0})\".format(lr))\n",
        "\n",
        "    model = create_model(input_dim_mnist)\n",
        "    #mc = ModelCheckpoint('./models/exercise-3.2/model_sgd_lr-{0}.keras'.format(str(lr).replace('.',',')), monitor='val_loss', mode='min', save_best_only=True, verbose=1)\n",
        "    model.compile(optimizer=SGD(lr=lr), loss='categorical_crossentropy', metrics=[\"accuracy\"])\n",
        "    file_history = 'history_ex_3.2_lr_{0}'.format(lr)\n",
        "    history = get_history(epochs, file_history, model)\n",
        "    #history = model.fit(x_mnist_train, y_mnist_train_one_hot, validation_data=(x_mnist_test, y_mnist_test_one_hot), epochs=epochs, verbose=verbose, callbacks=[mc])\n",
        "    #history = model.fit(x_mnist_train, y_mnist_train_one_hot, validation_data=(x_mnist_test, y_mnist_test_one_hot), epochs=epochs, verbose=verbose)\n",
        "    histories.append(history)\n",
        "    #models.append(model)"
      ],
      "execution_count": null,
      "outputs": [
        {
          "output_type": "stream",
          "text": [
            "Optimizing model with SGD (lr: 1)\n",
            "Epoch 1/50\n",
            "1875/1875 [==============================] - 4s 2ms/step - loss: 0.7653 - accuracy: 0.7717 - val_loss: 0.2599 - val_accuracy: 0.9327\n",
            "Epoch 2/50\n",
            "1875/1875 [==============================] - 4s 2ms/step - loss: 0.2441 - accuracy: 0.9324 - val_loss: 0.1856 - val_accuracy: 0.9512\n",
            "Epoch 3/50\n",
            "1875/1875 [==============================] - 4s 2ms/step - loss: 0.2016 - accuracy: 0.9450 - val_loss: 0.2188 - val_accuracy: 0.9450\n",
            "Epoch 4/50\n",
            "1875/1875 [==============================] - 4s 2ms/step - loss: 0.1872 - accuracy: 0.9510 - val_loss: 0.2166 - val_accuracy: 0.9432\n",
            "Epoch 5/50\n",
            "1875/1875 [==============================] - 4s 2ms/step - loss: 0.1676 - accuracy: 0.9544 - val_loss: 0.2189 - val_accuracy: 0.9473\n",
            "Epoch 6/50\n",
            "1875/1875 [==============================] - 4s 2ms/step - loss: 0.1619 - accuracy: 0.9563 - val_loss: 0.2132 - val_accuracy: 0.9538\n",
            "Epoch 7/50\n",
            "1875/1875 [==============================] - 4s 2ms/step - loss: 0.1411 - accuracy: 0.9627 - val_loss: 0.2534 - val_accuracy: 0.9456\n",
            "Epoch 8/50\n",
            "1875/1875 [==============================] - 4s 2ms/step - loss: 0.1335 - accuracy: 0.9630 - val_loss: 0.2419 - val_accuracy: 0.9511\n",
            "Epoch 9/50\n",
            "1875/1875 [==============================] - 4s 2ms/step - loss: 0.1302 - accuracy: 0.9654 - val_loss: 0.2522 - val_accuracy: 0.9492\n",
            "Epoch 10/50\n",
            "1875/1875 [==============================] - 4s 2ms/step - loss: 0.1335 - accuracy: 0.9652 - val_loss: 0.2164 - val_accuracy: 0.9584\n",
            "Epoch 11/50\n",
            "1875/1875 [==============================] - 4s 2ms/step - loss: 0.1231 - accuracy: 0.9663 - val_loss: 0.2588 - val_accuracy: 0.9490\n",
            "Epoch 12/50\n",
            "1875/1875 [==============================] - 4s 2ms/step - loss: 0.1094 - accuracy: 0.9715 - val_loss: 0.2148 - val_accuracy: 0.9576\n",
            "Epoch 13/50\n",
            "1875/1875 [==============================] - 4s 2ms/step - loss: 0.1181 - accuracy: 0.9691 - val_loss: 0.2481 - val_accuracy: 0.9598\n",
            "Epoch 14/50\n",
            "1875/1875 [==============================] - 4s 2ms/step - loss: 0.1137 - accuracy: 0.9707 - val_loss: 0.2488 - val_accuracy: 0.9567\n",
            "Epoch 15/50\n",
            "1875/1875 [==============================] - 4s 2ms/step - loss: 0.1098 - accuracy: 0.9715 - val_loss: 0.2558 - val_accuracy: 0.9538\n",
            "Epoch 16/50\n",
            "1471/1875 [======================>.......] - ETA: 0s - loss: 0.0979 - accuracy: 0.9724"
          ],
          "name": "stdout"
        }
      ]
    },
    {
      "cell_type": "code",
      "metadata": {
        "id": "qTWeXrv9I62R"
      },
      "source": [
        "print(\"Learning on MNIST dataset\")\n",
        "for i in range(len(histories)):\n",
        "  history = histories[i]\n",
        "  lr = learning_rates[i]\n",
        "  plot_history(history, \"Learning rate {0}\".format(lr));"
      ],
      "execution_count": null,
      "outputs": []
    },
    {
      "cell_type": "code",
      "metadata": {
        "id": "YgZhZsnY-zs3",
        "colab": {
          "base_uri": "https://localhost:8080/",
          "height": 1000
        },
        "outputId": "cd794093-c9b5-44fd-e214-345220db4d54"
      },
      "source": [
        "print(\"Learning on MNIST dataset\")\n",
        "for i in range(len(histories)):\n",
        "  history = histories[i]\n",
        "  lr = learning_rates[i]\n",
        "  plot_history(history, \"Learning rate {0}\".format(lr));"
      ],
      "execution_count": 37,
      "outputs": [
        {
          "output_type": "stream",
          "text": [
            "Learning on MNIST dataset\n"
          ],
          "name": "stdout"
        },
        {
          "output_type": "display_data",
          "data": {
            "image/png": "[encoded data removed]",
            "text/plain": [
              "<Figure size 432x288 with 2 Axes>"
            ]
          },
          "metadata": {
            "tags": [],
            "needs_background": "light"
          }
        },
        {
          "output_type": "display_data",
          "data": {
            "image/png": "[encoded data removed]",
            "text/plain": [
              "<Figure size 432x288 with 2 Axes>"
            ]
          },
          "metadata": {
            "tags": [],
            "needs_background": "light"
          }
        },
        {
          "output_type": "display_data",
          "data": {
            "image/png": "[encoded data removed]",
            "text/plain": [
              "<Figure size 432x288 with 2 Axes>"
            ]
          },
          "metadata": {
            "tags": [],
            "needs_background": "light"
          }
        },
        {
          "output_type": "display_data",
          "data": {
            "image/png": "[encoded data removed]",
            "text/plain": [
              "<Figure size 432x288 with 2 Axes>"
            ]
          },
          "metadata": {
            "tags": [],
            "needs_background": "light"
          }
        }
      ]
    },
    {
      "cell_type": "markdown",
      "metadata": {
        "id": "jwlnJS6JFac4"
      },
      "source": [
        "#### Exercise 3.3\n",
        "\n",
        "Replace the stochastic gradient descent optimizer with the [Adam optimizer](https://keras.io/optimizers/#adam) (you can use the default learning rate)."
      ]
    },
    {
      "cell_type": "code",
      "metadata": {
        "id": "fkKPojMOF6wg"
      },
      "source": [
        "model_adam = create_model()\n",
        "adam_lr = 0.001\n",
        "mc = ModelCheckpoint('./models/exercise-3.3/model_adam_lr-{0}.keras'., monitor='val_loss', mode='min', save_best_only=True, verbose=verbose)\n",
        "model_adam.compile(optimizer=Adam(learning_rate=adam_lr), loss='categorical_crossentropy', metrics=[\"accuracy\"])\n",
        "history_adam = model_adam.fit(x_mnist_train, y_mnist_train_one_hot, validation_data=(x_mnist_test, y_mnist_test_one_hot), epochs=epochs, verbose=verbose, callbacks=[mc])"
      ],
      "execution_count": null,
      "outputs": []
    },
    {
      "cell_type": "code",
      "metadata": {
        "id": "80kW0NP1KA1U"
      },
      "source": [
        "plot_history(history_adam, \"MNIST learning with Adam (learning rate {0})\".format(adam_lr));"
      ],
      "execution_count": null,
      "outputs": []
    },
    {
      "cell_type": "markdown",
      "metadata": {
        "id": "d4nlIXiGL58O"
      },
      "source": [
        "#### Exercise 3.4\n",
        "\n",
        "Plot the learning curves of SGD with a good learning rate (i.e. in the range [0.01,0.1]) together with the learning curves of Adam in the same figure. Take care of a reasonable labeling of the curves in the plot.\n"
      ]
    },
    {
      "cell_type": "code",
      "metadata": {
        "id": "Xu3ZMXLBUmF6"
      },
      "source": [
        "# This plotting routine might help you ...\n",
        "def comparison_plot(history_sgd, history_adam, label1, label2, title):\n",
        "    fig, ax1, ax2 = prepare_standardplot(title, \"epochs\")\n",
        "    ax1.plot(history_sgd.history['loss'], label=label1 + ' train')\n",
        "    ax1.plot(history_sgd.history['val_loss'], label=label1 + ' val')\n",
        "    ax1.plot(history_adam.history['loss'], label=label2 + ' train')\n",
        "    ax1.plot(history_adam.history['val_loss'], label=label2 + ' val')\n",
        "    ax2.plot(history_sgd.history['accuracy'], label=label1 + ' train')\n",
        "    ax2.plot(history_sgd.history['val_accuracy'], label=label1 + ' val')\n",
        "    ax2.plot(history_adam.history['accuracy'], label=label2 + ' train')\n",
        "    ax2.plot(history_adam.history['val_accuracy'], label=label2 + ' val')\n",
        "    finalize_standardplot(fig, ax1, ax2)\n",
        "    return fig"
      ],
      "execution_count": null,
      "outputs": []
    },
    {
      "cell_type": "code",
      "metadata": {
        "id": "CJNmTC4fMl4i"
      },
      "source": [
        "sgd_lr = 0.1\n",
        "history_sgd = histories[learning_rates.index(sgd_lr)]\n",
        "comparison_plot(history_sgd, history_adam, \"SGD (LR {0})\".format(sgd_lr), \"Adam(LR {0})\".format(adam_lr), \"Optimizer Comparison\");"
      ],
      "execution_count": null,
      "outputs": []
    },
    {
      "cell_type": "markdown",
      "metadata": {
        "id": "Rmqo7WOOUOcE"
      },
      "source": [
        "#### Exercise 3.5\n",
        "Explain the qualitative difference between the loss and accuracy curves with respect to signs of overfitting. Report the best validation accuracy achieved for SGD and Adam. Which one is better and why do you think so?"
      ]
    },
    {
      "cell_type": "code",
      "metadata": {
        "id": "Wnu424Vd9yZA",
        "tags": []
      },
      "source": [
        "from keras.models import load_model\n",
        "model_path = \"./models/exercise-3.2/model_sgd_lr-{0}.keras\".format(str(sgd_lr).replace('.',','))\n",
        "model_sgd = load_model(model_path, compile=True)\n",
        "err, acc = model_sgd.evaluate(x_mnist_test, y_mnist_test_one_hot, verbose=0)\n",
        "print(\"{path}: err: {err}, acc: {acc}\".format(path=model_path, err=err, acc=acc))"
      ],
      "execution_count": null,
      "outputs": []
    },
    {
      "cell_type": "code",
      "metadata": {
        "id": "vkvbFPGK9yZA"
      },
      "source": [
        "model_path = \"./models/exercise-3.3/model_adam_lr-{0}.keras\".format(str(adam_lr).replace('.',','))\n",
        "model_adam = load_model(model_path, compile=True)\n",
        "err, acc = model_adam.evaluate(x_mnist_test, y_mnist_test_one_hot, verbose=0)\n",
        "print(\"{name}: err: {err}, acc: {acc}\".format(name=model_path, err=err, acc=acc))"
      ],
      "execution_count": null,
      "outputs": []
    },
    {
      "cell_type": "markdown",
      "metadata": {
        "id": "a1pi3qoPUOcE"
      },
      "source": [
        "### Exercise 3.6\n",
        "Determine the indices of all test images that are misclassified by the fitted model and plot some of them using the function `plot_some_samples`."
      ]
    },
    {
      "cell_type": "code",
      "metadata": {
        "id": "RBRa0vEuUOcF"
      },
      "source": [
        "models = [model_sgd, model_adam]\n",
        "for model in models:\n",
        "    y_pred = model.predict_on_batch(x_mnist_test).argmax(axis=1)\n",
        "    indices = [i for i,v in enumerate(y_pred) if y_pred[i]!=y_mnist_test[i]]\n",
        "    x_wrongly_predicted = np.asarray([x_mnist_test[i] for i in indices])\n",
        "    y_wrongly_predicted = np.asarray([y_pred[i] for i in indices])\n",
        "    y_true_prediction = np.asarray([y_mnist_test[i] for i in indices])\n",
        "    plot_some_samples_cust(x_wrongly_predicted, y_true_prediction, y_wrongly_predicted, ncols=6, nrows=4);"
      ],
      "execution_count": null,
      "outputs": []
    },
    {
      "cell_type": "markdown",
      "metadata": {
        "id": "UpoF65jbOtM9"
      },
      "source": [
        "3.7) Add noise."
      ]
    },
    {
      "cell_type": "code",
      "metadata": {
        "id": "yS7MoMXcx4Rt"
      },
      "source": [
        "p = 0.2\n",
        "mnist_traint_length = original_mnist_train_shape[0]\n",
        "indices = np.arange(mnist_traint_length)\n",
        "noise_number_mnist = int(mnist_traint_length*p)\n",
        "noisy_indices = np.random.choice(indices, noise_number_mnist)"
      ],
      "execution_count": null,
      "outputs": []
    },
    {
      "cell_type": "code",
      "metadata": {
        "id": "pUxY_4NfsuSi"
      },
      "source": [
        "for index in noisy_indices:\n",
        "  class_index = np.floor(np.random.uniform(0,10))\n",
        "  vector = to_categorical(class_index, num_classes=mnist_classes_nb)\n",
        "  y_mnist_train_one_hot[index] = vector"
      ],
      "execution_count": null,
      "outputs": []
    },
    {
      "cell_type": "markdown",
      "metadata": {
        "id": "SgvNFrjHWyE1"
      },
      "source": [
        ""
      ]
    },
    {
      "cell_type": "code",
      "metadata": {
        "id": "1aKhbvpvPE7t"
      },
      "source": [
        "model.reset_states()\n",
        "model.compile(optimizer=Adam(learning_rate=adam_lr), loss='categorical_crossentropy', metrics=[\"accuracy\"])\n",
        "history_adam_noisy = model.fit(x_mnist_train, y_mnist_train_one_hot, validation_data=(x_mnist_test, y_mnist_test_one_hot), epochs=100, verbose=0)"
      ],
      "execution_count": null,
      "outputs": []
    },
    {
      "cell_type": "code",
      "metadata": {
        "id": "m75PnAPxQ7J8"
      },
      "source": [
        "plot_history(history_adam_noisy, \"Noisy MNIST learning with Adam (learning rate {0})\".format(adam_lr));"
      ],
      "execution_count": null,
      "outputs": []
    },
    {
      "cell_type": "code",
      "metadata": {
        "id": "dYwZzlrEc2i3"
      },
      "source": [
        "comparison_plot(history_adam, history_adam_noisy, \"MNIST Adam(LR {0})\".format(sgd_lr), \"Noisy MNIST Adam(LR {0})\".format(adam_lr), \"Optimizer Comparison\");"
      ],
      "execution_count": null,
      "outputs": []
    },
    {
      "cell_type": "code",
      "metadata": {
        "id": "IpmARB73UOcG"
      },
      "source": [
        ""
      ],
      "execution_count": null,
      "outputs": []
    },
    {
      "cell_type": "markdown",
      "metadata": {
        "id": "-b33M0ko9yZD"
      },
      "source": [
        "#### Exercise 3.7\n",
        "\n",
        "7. Take $ p = 0.2 $ fraction of the data points from the training dataset of MNIST and change their class labels randomly. (You can sample a random integer from 0 to 9 using `np.random.uniform` and `np.floor`). Train with Adam for 50 or 100 epochs. Plot the learning curves. Do you observe overfitting in the validation accuracy? Does it take longer to converge to perfect training accuracy compare to noise-free MNIST? (2 pts)<br/>\n",
        "**=> The training accuracy is increasing, starting from 80% and reaching around 90% after 100 episodes. The validation accuracy on the other hand is decreasing from 95% to around 80% after 100 episodes. The model is definetly overfitting to the noise in the shifted MNIST dataset. It takes much longer to converge towards the perfect training accuracy on the noisy MNIST dataset.**"
      ]
    },
    {
      "cell_type": "code",
      "metadata": {
        "id": "0Zj54fsL9yZD"
      },
      "source": [
        "def unison_shuffle(a, b):\n",
        "    assert len(a) == len(b)\n",
        "    p = np.random.permutation(len(a))\n",
        "    return a[p], b[p]\n",
        "\n",
        "# Calculate the number of samples that need to be replaced.\n",
        "length = int(np.floor(0.2 * len(y_mnist_train)))\n",
        "\n",
        "y_random = np.empty(0)\n",
        "for i in range(length):\n",
        "    y_random = np.append(y_random, np.floor(np.random.uniform(0,9.9)))\n",
        "\n",
        "# Replace the labels of the first n training samples with random lables.\n",
        "y_mnist_train[:length] = y_random\n",
        "\n",
        "# Shuffle the X and y data in order to spread the random labels equally over the dataset\n",
        "x_mnist_train_shuffled, y_mnist_train_shuffled = unison_shuffle(x_mnist_train, y_mnist_train)\n",
        "\n",
        "# One hot encoding\n",
        "y_mnist_train_shuffled_one_hot = to_categorical(y_mnist_train_shuffled)"
      ],
      "execution_count": null,
      "outputs": []
    },
    {
      "cell_type": "code",
      "metadata": {
        "id": "hz7lUQQsUOcG"
      },
      "source": [
        "model = create_model()\n",
        "mc = ModelCheckpoint('./models/exercise-3.7/model.keras', monitor='val_loss', mode='min', save_best_only=True, verbose=1)\n",
        "model.compile(optimizer=Adam(), loss='categorical_crossentropy', metrics=[\"accuracy\"])\n",
        "history_adam = model.fit(x_mnist_train_shuffled, y_mnist_train_shuffled_one_hot, validation_data=(x_mnist_test, y_mnist_test_one_hot), epochs=100, validation_split=0.2, verbose=1, callbacks=[mc])"
      ],
      "execution_count": null,
      "outputs": []
    },
    {
      "cell_type": "code",
      "metadata": {
        "id": "42hBiOltUOcG"
      },
      "source": [
        "plot_history(history_adam, \"Adam with LR 0.001 @ Permutated MNIST Dataset\");"
      ],
      "execution_count": null,
      "outputs": []
    },
    {
      "cell_type": "markdown",
      "metadata": {
        "id": "oENMCYod9yZD"
      },
      "source": [
        "## Exercise 4: Model performance as a function of number of hidden neurons (8 + 2 points)\n",
        "\n",
        "Since the MNIST dataset is almost perfectly solved already by a one-hidden-layer network in Exercise 3, we use the Fashion-MNIST dataset from now on to compare the performances of more complex models. In this exercise, we investigate how the best validation loss and accuracy depends on the number of hidden neurons in a single layer.\n",
        "\n",
        "1. Fit at least 4 models with different number of hidden neurons (i.e. width) between 10 and 1000 to the Fashion-MNIST dataset. Train with Adam for 50-100 epochs. (2 pts)\n",
        "2. Plot the best validation loss and accuracy versus the width. Is the observed trend in accordance with the [general approximation theorem](https://en.wikipedia.org/wiki/Universal_approximation_theorem)? Do you observe an overfitting due to the complexity of the wider networks with more parameters? Report the best validation accuracy. (2 pts)\n",
        "3. Choose $ p \\geq 0.5 $ fraction of the data points from the training dataset of Fashion-MNIST and change their class labels randomly as in Exercise 3. For this noisy Fashion-MNIST dataset, fit at least 4 models with different widths between 10 and 250. Train with Adam for at least 150 epochs. Plot the best validation loss and accuracy vs. width. (2 pts)\n",
        "4. BONUS: Add random Gaussian noise on the input pixels with mean 0 and variance between 0.01-0.5 and use the original labels. For this noisy Fashion-MNIST dataset, fit at least 4 models with different widths between 10 and 250. Train with Adam for at least 150 epochs. Plot the best validation loss and accuracy vs. width. (2 pts)\n",
        "5. Answer to the same questions in 2 for the noisy Fashion-MNIST dataset(s). Comment on the differences between width-performence curves for these two (or three) datasets. (2 pts)\n",
        "\n",
        "In this exercise we fit each model only for one initialization and random seed. In practice one would collect some statistics (e.g. 25-, 50-, 75-percentiles) for each layer size by fitting each model several times with different initializations and the random seeds. You may also want to do this here. It is a good exercise, but not mandatory as it takes quite a bit of computation time."
      ]
    },
    {
      "cell_type": "markdown",
      "metadata": {
        "id": "DcWkSkaj9yZE"
      },
      "source": [
        "**Answer to Question 2** (max 2 sentences):\n",
        "The Universal Approximation Theorem states that a neural network with one hidden layer and unlimited number of hidden neurons can approximate any continuous function for inputs within a specific range and this can also be observed with our example, since the best training accuracy is steadily increasing with the number of hidden neurons.\n",
        "We can see that our different models are overfitting and the overfitting increases with an increasing number of hidden neurons.\n",
        "\n",
        "**Answer to Question 5** (max 3 sentences): \n",
        "Although the training and validation accuracy of exercise 4.3's models is quite low (since the 50% of the training labels got changed), we can still see that the training accuracy rises significantly with the number of hidden neurons (From 12% to 26%). A neural network with many hidden nodes is still able to learn this highly dataset correctly and achieve a high training accuracy (in accordance with the universal approximation theorem).\n",
        "In exercise 4.4 we can see that fitting to this slightly noisy dataset still works pretty well, although the model is also overfitting."
      ]
    },
    {
      "cell_type": "markdown",
      "metadata": {
        "id": "NqK_mkEu9yZE"
      },
      "source": [
        "#### Exercise 4 - Helper Functions"
      ]
    },
    {
      "cell_type": "code",
      "metadata": {
        "id": "gPeXrSV4UOcH"
      },
      "source": [
        "def return_model_with_n_hidden_neurons(n_hidden_neurons):\n",
        "    # Get number of columns in training data\n",
        "    inputs = Input(shape=(INPUT_DIM,), name=\"input_layer\")\n",
        "    layer = Dense(n_hidden_neurons, activation='relu', name=\"hidden_layer\")(inputs)\n",
        "    outputs = Dense(10, activation='softmax', name=\"output_layer\")(layer)\n",
        "\n",
        "    model = Model(inputs=inputs, outputs=outputs, name=\"ex3.1\")\n",
        "    return model"
      ],
      "execution_count": null,
      "outputs": []
    },
    {
      "cell_type": "code",
      "metadata": {
        "tags": [],
        "id": "h98Y3tzsUOcH"
      },
      "source": [
        "import glob\n",
        "def plot_histories(base_path):\n",
        "    #print(base_path)\n",
        "    model_history_paths = glob.glob(base_path + '/*.npy')\n",
        "    for model_history_path in model_history_paths:\n",
        "        history=np.load(model_history_path, allow_pickle='TRUE').item()\n",
        "        plot_dict_history(history, model_history_path);"
      ],
      "execution_count": null,
      "outputs": []
    },
    {
      "cell_type": "code",
      "metadata": {
        "id": "gS4JtmhwUOcH"
      },
      "source": [
        "def load_metrics(base_path, numbers_of_hidden_neurons):\n",
        "    metrics = {\"x\": [], \"min_loss\": [], \"min_val_loss\": [], \"max_accuracy\": [], \"max_val_accuracy\": []}\n",
        "    for number_of_hidden_neurons in numbers_of_hidden_neurons:\n",
        "        model_history_path = '{0}/ANN-with-{1}-hidden-neurons.npy'.format(base_path, number_of_hidden_neurons)\n",
        "        history=np.load(model_history_path, allow_pickle='TRUE').item()\n",
        "        metrics[\"x\"].append(number_of_hidden_neurons)\n",
        "        metrics[\"min_loss\"].append(min(history[\"loss\"]))\n",
        "        metrics[\"min_val_loss\"].append(min(history[\"val_loss\"])) \n",
        "        metrics[\"max_accuracy\"].append(max(history[\"accuracy\"]))\n",
        "        metrics[\"max_val_accuracy\"].append(max(history[\"val_accuracy\"]))\n",
        "        #print(metrics)\n",
        "    return metrics"
      ],
      "execution_count": null,
      "outputs": []
    },
    {
      "cell_type": "code",
      "metadata": {
        "tags": [],
        "id": "HTIw2Wm7UOcI"
      },
      "source": [
        "def plot_metrics(metrics):\n",
        "    fig, (ax1, ax2) = plt.subplots(1, 2)\n",
        "    fig.suptitle('Validation loss and accuracy / Number of hidden neurons')\n",
        "    fig.subplots_adjust(left=None, bottom=None, right=None, top=None, wspace=0.3, hspace=None)\n",
        "    fig.set_figheight(6)\n",
        "    fig.set_figwidth(12)\n",
        "    ax1.set_xscale('log',base=10)\n",
        "    ax1.set_ylabel(\"Validation loss\")\n",
        "    ax1.set_xlabel(\"number of hidden neurons\")\n",
        "    ax1.plot(metrics[\"x\"], metrics[\"min_loss\"])\n",
        "    ax1.plot(metrics[\"x\"], metrics[\"min_val_loss\"])\n",
        "    ax2.set_xscale('log',base=10)\n",
        "    ax2.set_ylabel(\"Validation accuracy\")\n",
        "    ax2.set_xlabel(\"number of hidden neurons\")\n",
        "    ax2.plot(metrics[\"x\"], metrics[\"max_accuracy\"]);\n",
        "    ax2.plot(metrics[\"x\"], metrics[\"max_val_accuracy\"]);\n",
        "    finalize_standardplot(fig, ax1, ax2)"
      ],
      "execution_count": null,
      "outputs": []
    },
    {
      "cell_type": "markdown",
      "metadata": {
        "id": "PKMbJRAKUOcI"
      },
      "source": [
        "#### Exercise 4.1 & 4.2\n",
        "Fit at least 4 models with different number of hidden neurons (i.e. width) between 10 and 1000 to the Fashion-MNIST dataset. Train with Adam for 50-100 epochs. (2 pts)"
      ]
    },
    {
      "cell_type": "code",
      "metadata": {
        "id": "_VBguz98UOcI"
      },
      "source": [
        "base_path = \"./models/exercise-4.1\"\n",
        "numbers_of_hidden_neurons = [10, 50, 100, 500, 1000]\n",
        "already_trained = []\n",
        "number_of_epochs = 50\n",
        "verbose=2"
      ],
      "execution_count": null,
      "outputs": []
    },
    {
      "cell_type": "code",
      "metadata": {
        "id": "QzZnBC3L9yZE"
      },
      "source": [
        "for number_of_hidden_neurons in numbers_of_hidden_neurons:\n",
        "    # Since the training process sometimes break we need to manually restart it\n",
        "    # with the next network that has not been trained yet.\n",
        "    if number_of_hidden_neurons in already_trained:\n",
        "        continue;\n",
        "        \n",
        "    print(\"Training network with {} hidden neurons\".format(number_of_hidden_neurons))\n",
        "    model_path = '{0}/ANN-with-{1}-hidden-neurons.keras'.format(base_path, number_of_hidden_neurons)\n",
        "    model_history_path = '{0}/ANN-with-{1}-hidden-neurons.npy'.format(base_path, number_of_hidden_neurons)\n",
        "    \n",
        "    model = return_model_with_n_hidden_neurons(number_of_hidden_neurons)\n",
        "    mc = ModelCheckpoint('{0}/ANN-with-{1}-hidden-neurons.keras'.format(base_path, number_of_hidden_neurons), monitor='val_loss', mode='min', save_best_only=True, verbose=verbose)\n",
        "    model.compile(optimizer=Adam(), loss='categorical_crossentropy', metrics=[\"accuracy\"])\n",
        "    history = model.fit(x_mnist_fashion_train, y_mnist_fashion_train_one_hot, validation_data=(x_mnist_fashion_test, y_mnist_fashion_test_one_hot), epochs=number_of_epochs, validation_split=0.2, verbose=verbose, callbacks=[mc])\n",
        "    np.save(model_history_path, history.history)"
      ],
      "execution_count": null,
      "outputs": []
    },
    {
      "cell_type": "code",
      "metadata": {
        "tags": [],
        "id": "uG-Lijk4UOcI"
      },
      "source": [
        "plot_histories(base_path)"
      ],
      "execution_count": null,
      "outputs": []
    },
    {
      "cell_type": "code",
      "metadata": {
        "id": "9GhXcvZoUOcI"
      },
      "source": [
        "plot_metrics(load_metrics(base_path, numbers_of_hidden_neurons))"
      ],
      "execution_count": null,
      "outputs": []
    },
    {
      "cell_type": "code",
      "metadata": {
        "id": "2M9ZGFtsUOcI"
      },
      "source": [
        "metrics = load_metrics(base_path, numbers_of_hidden_neurons)\n",
        "print(metrics[\"max_val_accuracy\"])"
      ],
      "execution_count": null,
      "outputs": []
    },
    {
      "cell_type": "markdown",
      "metadata": {
        "id": "Wt-x74BbUOcJ"
      },
      "source": [
        "#### Exercise 4.3\n",
        "Choose $ p \\geq 0.5 $ fraction of the data points from the training dataset of Fashion-MNIST and change their class labels randomly as in Exercise 3. For this noisy Fashion-MNIST dataset, fit at least 4 models with different widths between 10 and 250. Train with Adam for at least 150 epochs. Plot the best validation loss and accuracy vs. width. (2 pts)"
      ]
    },
    {
      "cell_type": "code",
      "metadata": {
        "id": "X-gBY-GMUOcJ"
      },
      "source": [
        "def unison_shuffle(a, b):\n",
        "    assert len(a) == len(b)\n",
        "    p = np.random.permutation(len(a))\n",
        "    return a[p], b[p]\n",
        "\n",
        "# Calculate the number of samples that need to be replaced.\n",
        "length = int(np.floor(0.5 * len(y_mnist_fashion_train)))\n",
        "\n",
        "y_random = np.empty(0)\n",
        "for i in range(length):\n",
        "    y_random = np.append(y_random, np.floor(np.random.uniform(0,9.9)))\n",
        "\n",
        "# Replace the labels of the first n training samples with random lables.\n",
        "y_mnist_fashion_train_noisy = y_mnist_fashion_train.copy()\n",
        "y_mnist_fashion_train_noisy[:length] = y_random\n",
        "\n",
        "# Shuffle the X and y data in order to spread the random labels equally over the dataset\n",
        "x_mnist_fashion_train_shuffled, y_mnist_fashion_train_noisy_shuffled = unison_shuffle(x_mnist_fashion_train, y_mnist_fashion_train_noisy)\n",
        "\n",
        "# One hot encoding\n",
        "y_mnist_fashion_train_noisy_shuffled_one_hot = to_categorical(y_mnist_fashion_train_noisy_shuffled)"
      ],
      "execution_count": null,
      "outputs": []
    },
    {
      "cell_type": "code",
      "metadata": {
        "id": "uJnTdynCUOcJ"
      },
      "source": [
        "numbers_of_hidden_neurons = [10, 50, 100, 150, 200, 250] \n",
        "already_trained = []\n",
        "number_of_epochs = 150\n",
        "base_path = './models/exercise-4.3' \n",
        "verbose=True"
      ],
      "execution_count": null,
      "outputs": []
    },
    {
      "cell_type": "code",
      "metadata": {
        "id": "jeHOQ5rJUOcJ"
      },
      "source": [
        "for number_of_hidden_neurons in numbers_of_hidden_neurons:\n",
        "    # Since the training process sometimes break we need to manually restart it\n",
        "    # with the next network that has not been trained yet.\n",
        "    if number_of_hidden_neurons in already_trained:\n",
        "        continue;\n",
        "        \n",
        "    print(\"--- Training network with {} hidden neurons ---\".format(number_of_hidden_neurons))\n",
        "    \n",
        "    model = return_model_with_n_hidden_neurons(number_of_hidden_neurons)\n",
        "    model_path = '{0}/ANN-with-{1}-hidden-neurons.keras'.format(base_path, number_of_hidden_neurons)\n",
        "    model_history_path = '{0}/ANN-with-{1}-hidden-neurons.npy'.format(base_path, number_of_hidden_neurons)\n",
        "    \n",
        "    mc = ModelCheckpoint(model_path, monitor='val_loss', mode='min', save_best_only=True, verbose=verbose)\n",
        "    model.compile(optimizer=Adam(), loss='categorical_crossentropy', metrics=[\"accuracy\"])\n",
        "    history = model.fit(x_mnist_fashion_train, y_mnist_fashion_train_noisy_shuffled_one_hot, validation_data=(x_mnist_fashion_test, y_mnist_fashion_test_one_hot), epochs=number_of_epochs, validation_split=0.2, verbose=verbose, callbacks=[mc])\n",
        "    \n",
        "    np.save(model_history_path, history.history)"
      ],
      "execution_count": null,
      "outputs": []
    },
    {
      "cell_type": "code",
      "metadata": {
        "id": "fSEl4iFAUOcJ"
      },
      "source": [
        "plot_histories(base_path)"
      ],
      "execution_count": null,
      "outputs": []
    },
    {
      "cell_type": "code",
      "metadata": {
        "tags": [],
        "id": "oYXcRZV0UOcK"
      },
      "source": [
        "plot_metrics(load_metrics(base_path, numbers_of_hidden_neurons))"
      ],
      "execution_count": null,
      "outputs": []
    },
    {
      "cell_type": "markdown",
      "metadata": {
        "id": "uRQJHCh5UOcK"
      },
      "source": [
        "### Exercise 4.4\n",
        "Add random Gaussian noise on the input pixels with mean 0 and variance between 0.01-0.5 and use the original labels. For this noisy Fashion-MNIST dataset, fit at least 4 models with different widths between 10 and 250. Train with Adam for at least 150 epochs. Plot the best validation loss and accuracy vs. width. (2 pts)"
      ]
    },
    {
      "cell_type": "code",
      "metadata": {
        "id": "TNxN4DRTUOcK"
      },
      "source": [
        "# Prepare data for exercise 4.4\n",
        "import math\n",
        "\n",
        "number_of_training_images = x_mnist_fashion_train.shape[0]\n",
        "number_of_input_features = x_mnist_fashion_train.shape[1]\n",
        "\n",
        "noise = np.random.normal(0,math.sqrt(0.1),(number_of_training_images, number_of_input_features))\n",
        "x_mnist_fashion_train_noisy = x_mnist_fashion_train + noise"
      ],
      "execution_count": null,
      "outputs": []
    },
    {
      "cell_type": "code",
      "metadata": {
        "id": "AlRFhH52UOcK"
      },
      "source": [
        "# Define hyperparameters for exercise 4.4\n",
        "numbers_of_hidden_neurons = [10, 50, 100, 150, 200, 250] \n",
        "already_trained = []\n",
        "number_of_epochs = 150\n",
        "base_path = './models/exercise-4.4' \n",
        "verbose=False"
      ],
      "execution_count": null,
      "outputs": []
    },
    {
      "cell_type": "code",
      "metadata": {
        "id": "QEGqohzfUOcK"
      },
      "source": [
        "for number_of_hidden_neurons in numbers_of_hidden_neurons:\n",
        "    # Since the training process sometimes break we need to manually restart it\n",
        "    # with the next network that has not been trained yet.\n",
        "    if number_of_hidden_neurons in already_trained:\n",
        "        continue;\n",
        "        \n",
        "    print(\"--- Training network with {} hidden neurons ---\".format(number_of_hidden_neurons))\n",
        "    \n",
        "    model = return_model_with_n_hidden_neurons(number_of_hidden_neurons)\n",
        "    model_path = '{0}/ANN-with-{1}-hidden-neurons.keras'.format(base_path, number_of_hidden_neurons)\n",
        "    model_history_path = '{0}/ANN-with-{1}-hidden-neurons.npy'.format(base_path, number_of_hidden_neurons)\n",
        "    \n",
        "    mc = ModelCheckpoint(model_path, monitor='val_loss', mode='min', save_best_only=True, verbose=verbose)\n",
        "    model.compile(optimizer=Adam(), loss='categorical_crossentropy', metrics=[\"accuracy\"])\n",
        "    history = model.fit(x_mnist_fashion_train_noisy, y_mnist_fashion_train_one_hot, validation_data=(x_mnist_fashion_test, y_mnist_fashion_test_one_hot), epochs=number_of_epochs, validation_split=0.2, verbose=2, callbacks=[mc])\n",
        "    \n",
        "    np.save(model_history_path, history.history)"
      ],
      "execution_count": null,
      "outputs": []
    },
    {
      "cell_type": "code",
      "metadata": {
        "id": "YUHkBCTuUOcK"
      },
      "source": [
        "plot_histories(base_path)"
      ],
      "execution_count": null,
      "outputs": []
    },
    {
      "cell_type": "code",
      "metadata": {
        "tags": [],
        "id": "NPzqei2OUOcL"
      },
      "source": [
        "plot_metrics(load_metrics(base_path, numbers_of_hidden_neurons))"
      ],
      "execution_count": null,
      "outputs": []
    },
    {
      "cell_type": "markdown",
      "metadata": {
        "id": "O2Gb7mgSUmF7"
      },
      "source": [
        "## Exercise 5: Going deeper: tricks and regularization (10 + 2 points)\n",
        "\n",
        "Adding hidden layers to a deep network does not necessarily lead to a straight-forward improvement of performance. We use Fashion-MNIST dataset in this exercise.  \n",
        "\n",
        "1. Choose a width $ h $ between 50-200 and use at least two hidden layers with $ h $ hidden neurons (each) and train the network for at least 150 epochs. (2 pts)\n",
        "2. Plot the learning curves and report the best validation accuracy. Do you observe overfitting? (2 pts)\n",
        "3. Keep the network at the same size. Use a very large l2 regularization $\\lambda$ (for ex. $\\lambda=1$) and a small one (for ex. $\\lambda=0.001$) on kernel weights and report the validation accuracies. What do you observe?  (2 pts)\n",
        "4. Turn off the $ \\ell_2 $ regularization and use a large dropout rate (for ex. 0.5) and a small one (for ex. 0.05) at all hidden layers and report the validation accuracies. What do you observe? (2 pts)\n",
        "5. BONUS: Try built-in data augmentation methods as a way to regularize: this may include horizontal flipping of the images or small rotations. You can use built-in methods in Keras. Report the augmentation method you used and the best validation accuracy. (2 pts)\n",
        "\n",
        "Note that one needs to cross-validate to find the right regularization parameter for the model you chose and for the dataset at hand. However we do not enforce this hyperparameter search as it takes long computation times but it is a good practice if you try it here. \n",
        "\n",
        "6. Compare the validation accuracies resulting from your attempts to reduce overfitting. Did you improve the validation accuracy? If not, comment on the possible sources of failure. (2 pts)"
      ]
    },
    {
      "cell_type": "markdown",
      "metadata": {
        "id": "LzX8ezheUmF7"
      },
      "source": [
        "**Answer to Question 2** (max 1 sentence):<br/>\n",
        "Overfitting can be observed in the training process since the loss is decreasing but the validation loss is increasing and the validation accuracy levels out after 25 epochs although the training accuracy still keeps increasing.\n",
        "\n",
        "Best validation accuracy: 0.8906999826431274\n",
        "\n",
        "**Answer to Question 3** (max 2 sentences): \n",
        "\n",
        "**Answer to Question 4** (max 2 sentences): \n",
        "\n",
        "**Answer to Question 5 (BONUS)** (max 2 sentences): \n",
        "\n",
        "**Answer to Question 6** (max 2 sentences): "
      ]
    },
    {
      "cell_type": "markdown",
      "metadata": {
        "id": "Q3v2V_woX-r4"
      },
      "source": [
        "### Solution"
      ]
    },
    {
      "cell_type": "markdown",
      "metadata": {
        "id": "h0P5vrtGYmcO"
      },
      "source": [
        "#### Helper Functions"
      ]
    },
    {
      "cell_type": "code",
      "metadata": {
        "id": "nc6JyZi7X52z"
      },
      "source": [
        "def return_new_model (dropout_rate = 0, l2_regularization_parameter = 0):\n",
        "  model = Sequential()\n",
        "  model.add(Dense(128, activation='relu', input_shape=(INPUT_DIM_MNIST_FASHION,), kernel_regularizer=regularizers.l1_l2(l1=0, l2=l2_regularization_parameter)))\n",
        "  if(dropout_rate > 0):\n",
        "      model.add(Dropout(dropout_rate))\n",
        "  model.add(Dense(128, activation='relu', input_shape=(INPUT_DIM_MNIST_FASHION,), kernel_regularizer=regularizers.l1_l2(l1=0, l2=l2_regularization_parameter)))\n",
        "  if(dropout_rate > 0):\n",
        "    model.add(Dropout(dropout_rate))\n",
        "  model.add(Dense(MNIST_FASHION_NUMBER_CLASSES, activation='softmax'))\n",
        "  return model"
      ],
      "execution_count": null,
      "outputs": []
    },
    {
      "cell_type": "markdown",
      "metadata": {
        "id": "NSQJfhZVUmF8"
      },
      "source": [
        "#### Exercise 5.1\n",
        "Choose a width $ h $ between 50-200 and use at least two hidden layers with $ h $ hidden neurons (each) and train the network for at least 150 epochs.\n",
        "#### Exercise 5.2\n",
        "Plot the learning curves and report the best validation accuracy. Do you observe overfitting?\n"
      ]
    },
    {
      "cell_type": "code",
      "metadata": {
        "id": "LU6_9-HSUmF8"
      },
      "source": [
        "model = return_new_model()\n",
        "model.summary()"
      ],
      "execution_count": null,
      "outputs": []
    },
    {
      "cell_type": "code",
      "metadata": {
        "id": "nIB-98huJxhQ"
      },
      "source": [
        "def train_model(model, x_train, y_train, x_test, y_test, model_path, number_of_epochs):\n",
        "  mc = ModelCheckpoint(\"{0}.keras\".format(model_path), monitor='val_loss', mode='min', save_best_only=True, verbose=verbose)\n",
        "  model.compile(optimizer='SGD', loss='categorical_crossentropy', metrics=[\"accuracy\"])\n",
        "  history = model.fit(x_train, y_train, validation_data=(x_test, y_test), epochs=number_of_epochs, verbose=verbose, callbacks=[mc])\n",
        "  np.save(\"{0}.npy\".format(model_path), history.history)"
      ],
      "execution_count": null,
      "outputs": []
    },
    {
      "cell_type": "code",
      "metadata": {
        "id": "M669P181U1sV"
      },
      "source": [
        "model_5_1 = return_new_model()\n",
        "base_path = './models/exercise-5.1/model'\n",
        "history_path = \"{0}.npy\".format(base_path)"
      ],
      "execution_count": null,
      "outputs": []
    },
    {
      "cell_type": "code",
      "metadata": {
        "id": "91maQWSffBqq"
      },
      "source": [
        "train_model(model_5_1, x_mnist_fashion_train, y_mnist_fashion_train_one_hot, x_mnist_fashion_test, y_mnist_fashion_test_one_hot, base_path, number_of_epochs=150)"
      ],
      "execution_count": null,
      "outputs": []
    },
    {
      "cell_type": "code",
      "metadata": {
        "id": "q9xmd8hLh-Sg"
      },
      "source": [
        "history = np.load(history_path, allow_pickle=True).item()\n",
        "plot_history_cust(history, history_path);\n",
        "print(\"Best validation accuracy: {0}\".format(max(history[\"val_accuracy\"])))"
      ],
      "execution_count": null,
      "outputs": []
    },
    {
      "cell_type": "markdown",
      "metadata": {
        "id": "K9nh4tRimYD8"
      },
      "source": [
        "#### Exercise 5.3\n",
        "Keep the network at the same size. Use a very large l2 regularization $\\lambda$ (for ex. $\\lambda=1$) and a small one (for ex. $\\lambda=0.001$) on kernel weights and report the validation accuracies. What do you observe?"
      ]
    },
    {
      "cell_type": "code",
      "metadata": {
        "id": "HCillQwsbhkF"
      },
      "source": [
        "model_5_3_1 = return_new_model (dropout_rate = 0, l2_regularization_parameter = 1)\n",
        "model_5_3_1.summary()\n",
        "base_path = './models/exercise-5.3/model_1'\n",
        "history_path = \"{0}.npy\".format(base_path)"
      ],
      "execution_count": null,
      "outputs": []
    },
    {
      "cell_type": "code",
      "metadata": {
        "id": "NlPV7eFpbMCN"
      },
      "source": [
        "train_model(model_5_3_1, x_mnist_fashion_train, y_mnist_fashion_train_one_hot, x_mnist_fashion_test, y_mnist_fashion_test_one_hot, base_path, number_of_epochs=150)"
      ],
      "execution_count": null,
      "outputs": []
    },
    {
      "cell_type": "code",
      "metadata": {
        "id": "fMFxyOabgpSD"
      },
      "source": [
        "history = np.load(history_path, allow_pickle=True).item()\n",
        "plot_history_cust(history, history_path);\n",
        "print(\"Best validation accuracy: {0}\".format(max(history[\"val_accuracy\"])))"
      ],
      "execution_count": null,
      "outputs": []
    },
    {
      "cell_type": "code",
      "metadata": {
        "id": "2oXWrF26bBFP"
      },
      "source": [
        "model_5_3_2 = return_new_model (dropout_rate = 0, l2_regularization_parameter = 0.001)\n",
        "model_5_3_2.summary()\n",
        "base_path = './models/exercise-5.3/model_2'\n",
        "history_path = \"{0}.npy\".format(base_path)"
      ],
      "execution_count": null,
      "outputs": []
    },
    {
      "cell_type": "code",
      "metadata": {
        "id": "zgNRRoH9bQ1F"
      },
      "source": [
        "train_model(model_5_3_2, x_mnist_fashion_train, y_mnist_fashion_train_one_hot, x_mnist_fashion_test, y_mnist_fashion_test_one_hot, base_path, number_of_epochs=150)"
      ],
      "execution_count": null,
      "outputs": []
    },
    {
      "cell_type": "code",
      "metadata": {
        "id": "-ujQc6e6g_dn"
      },
      "source": [
        "history = np.load(history_path, allow_pickle=True).item()\n",
        "plot_history_cust(history, history_path);\n",
        "print(\"Best validation accuracy: {0}\".format(max(history[\"val_accuracy\"])))"
      ],
      "execution_count": null,
      "outputs": []
    },
    {
      "cell_type": "markdown",
      "metadata": {
        "id": "9httDcZInLhz"
      },
      "source": [
        "#### Exercise 5.4\n",
        "Turn off the $ \\ell_2 $ regularization and use a large dropout rate (for ex. 0.5) and a small one (for ex. 0.05) at all hidden layers and report the validation accuracies. What do you observe?"
      ]
    },
    {
      "cell_type": "code",
      "metadata": {
        "id": "pL30QHhknfj3"
      },
      "source": [
        "model_5_4_1 = return_new_model(dropout_rate = 0.5, l2_regularization_parameter = 0)\n",
        "base_path = './models/exercise-5.4/model_1'\n",
        "history_path = \"{0}.npy\".format(base_path)\n",
        "model = return_new_model(dropout_rate = 0.5, l2_regularization_parameter = 0)\n",
        "model.summary()"
      ],
      "execution_count": null,
      "outputs": []
    },
    {
      "cell_type": "code",
      "metadata": {
        "id": "I7IwtMkekua2"
      },
      "source": [
        "train_model(model_5_4_1, x_mnist_fashion_train, y_mnist_fashion_train_one_hot, x_mnist_fashion_test, y_mnist_fashion_test_one_hot, base_path, number_of_epochs=150)"
      ],
      "execution_count": null,
      "outputs": []
    },
    {
      "cell_type": "code",
      "metadata": {
        "id": "9UXNysNKoXgm"
      },
      "source": [
        "history = np.load(history_path, allow_pickle=True).item()\n",
        "plot_history_cust(history, history_path);\n",
        "print(\"Best validation accuracy: {0}\".format(max(history[\"val_accuracy\"])))"
      ],
      "execution_count": null,
      "outputs": []
    },
    {
      "cell_type": "code",
      "metadata": {
        "id": "zcXRKvfpjpiU"
      },
      "source": [
        "model_5_4_2 = return_new_model(dropout_rate = 0.05, l2_regularization_parameter = 0)\n",
        "base_path = './models/exercise-5.4/model_2'\n",
        "history_path = \"{0}.npy\".format(base_path)\n",
        "model.summary()"
      ],
      "execution_count": null,
      "outputs": []
    },
    {
      "cell_type": "code",
      "metadata": {
        "id": "e_bc8X6FrrCU"
      },
      "source": [
        "train_model(model_5_4_2, x_mnist_fashion_train, y_mnist_fashion_train_one_hot, x_mnist_fashion_test, y_mnist_fashion_test_one_hot, base_path, number_of_epochs=150)"
      ],
      "execution_count": null,
      "outputs": []
    },
    {
      "cell_type": "code",
      "metadata": {
        "id": "vALV4yhRoRlN"
      },
      "source": [
        "history = np.load(history_path, allow_pickle=True).item()\n",
        "plot_history_cust(history, history_path);\n",
        "print(\"Best validation accuracy: {0}\".format(max(history[\"val_accuracy\"])))"
      ],
      "execution_count": null,
      "outputs": []
    },
    {
      "cell_type": "markdown",
      "metadata": {
        "id": "HsqM3VfdzBTP"
      },
      "source": [
        "#### Exercise 5.5\n",
        "\n",
        "BONUS: Try built-in data augmentation methods as a way to regularize: this may include horizontal flipping of the images or small rotations. You can use built-in methods in Keras. Report the augmentation method you used and the best validation accuracy. (2 pts)\n",
        "\n",
        "Note that one needs to cross-validate to find the right regularization parameter for the model you chose and for the dataset at hand. However we do not enforce this hyperparameter search as it takes long computation times but it is a good practice if you try it here. "
      ]
    },
    {
      "cell_type": "markdown",
      "metadata": {
        "id": "I6K6G_nuzRAT"
      },
      "source": [
        "#### Exercise5.6. \n",
        "\n",
        "Compare the validation accuracies resulting from your attempts to reduce overfitting. Did you improve the validation accuracy? If not, comment on the possible sources of failure."
      ]
    },
    {
      "cell_type": "markdown",
      "metadata": {
        "id": "NDYfqS_MUmF9"
      },
      "source": [
        "## Exercise 6: Convolutional neural networks (CNNs) (10 points)\n",
        "\n",
        "Convolutional neural networks have an inductive bias that is well adapted to image classification. \n",
        "\n",
        "1. Design a convolutional neural network and train it without using explicit regularizers. (2 pts)\n",
        "2. Try to improve the best validation scores of the model by experiment with batch_normalization layers, dropout layers and l2-regularization on weights (kernels) and biases. (4 pts)\n",
        "3. After you have found good settings, plot the learning curves for both models, naive (=no tricks/regularization) and tuned (=tricks + regularized) together in a comparison plot. (2pts)\n",
        "4. How does the CNN performance compare to the so far best performing (deep) neural network model? (2 pts)\n",
        "\n",
        "*Hint:* You may get valuable inspiration from the keras [examples](https://keras.io/examples/), [for example](https://keras.io/examples/vision/mnist_convnet/)."
      ]
    },
    {
      "cell_type": "markdown",
      "metadata": {
        "id": "JUbPDPV_UmF9"
      },
      "source": [
        "**Answer to Question 4**: "
      ]
    },
    {
      "cell_type": "markdown",
      "metadata": {
        "id": "1-dXDw80UmF9"
      },
      "source": [
        "### Solution"
      ]
    },
    {
      "cell_type": "code",
      "metadata": {
        "id": "aQxciXbRm-aa"
      },
      "source": [
        ""
      ],
      "execution_count": null,
      "outputs": []
    }
  ]
}