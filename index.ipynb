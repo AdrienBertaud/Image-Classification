{
  "nbformat": 4,
  "nbformat_minor": 0,
  "metadata": {
    "accelerator": "GPU",
    "colab": {
      "name": "index.ipynb",
      "provenance": [],
      "collapsed_sections": []
    },
    "kernelspec": {
      "display_name": "Python 3",
      "name": "python3"
    },
    "language_info": {
      "name": "python"
    }
  },
  "cells": [
    {
      "cell_type": "markdown",
      "metadata": {
        "id": "BnAEU9iKUmFl"
      },
      "source": [
        "# Miniproject: Image Classification\n",
        "\n",
        "### Description\n",
        "\n",
        "One of the oldest traditions in deep learning is to first tackle the fun problem of MNIST classification. [The MNIST dataset](https://en.wikipedia.org/wiki/MNIST_database) is a large database of handwritten digits that is commonly used as a first test for new classification algorithms. \n",
        "We follow this tradition to investigate the performance of artificial neural networks of different complexity on MNIST. However, since MNIST is too easy for accessing the full power of modern machine learning algorithms (see e.g. [this post](https://twitter.com/goodfellow_ian/status/852591106655043584)) we will extend our analysis to the recently introduced, harder [Fashion-MNIST dataset](https://github.com/zalandoresearch/fashion-mnist).\n",
        "\n",
        "### Prerequisites\n",
        "\n",
        "- You should have a running installation of [tensorflow](https://www.tensorflow.org/install/) and [keras](https://keras.io/). Feel free to gain inspiration from the [Keras example directory](https://keras.io/examples/) for your implementations.\n",
        "- You should know the concepts \"multilayer perceptron\", \"stochastic gradient descent with minibatches\", \"Adam\", \"convolutional neural network\", \"training and validation data\", \"overfitting\", \"regularization\", and \"early stopping\".\n",
        "\n",
        "### What you will learn\n",
        "\n",
        "- You will learn how to define feedforward neural networks in keras and fit them to data (i.e. training).\n",
        "- You will be guided through a prototyping procedure for the application of deep learning to a specific domain.\n",
        "- You will gain some experience on the influence of network architecture, optimizer and regularization choices on the goodness of fit.\n",
        "- You will learn to be more patient :) Some fits may take your computer quite a bit of time; run them over night (or on an external server).\n",
        "\n",
        "### Evaluation criteria\n",
        "\n",
        "The evaluation is (mostly) based on the figures you submit and your answer sentences. Provide clear and concise answers respecting the indicated maximum length.\n",
        "\n",
        "**The submitted notebook must be run by you!** We will only do random tests of your code and not re-run the full notebook. There will be fraud detection sessions at the end of the semester.\n",
        "\n",
        "### Your names\n",
        "\n",
        "**Before you start**: please enter your full name(s) in the field below."
      ]
    },
    {
      "cell_type": "code",
      "metadata": {
        "id": "bVa5G9-6UmFv"
      },
      "source": [
        "student1 = \"Jan Bauer (18-764-571)\"\n",
        "student2 = \"Adrien Bertaud (Sciper 324795)\""
      ],
      "execution_count": null,
      "outputs": []
    },
    {
      "cell_type": "markdown",
      "metadata": {
        "id": "8ZLXwbYkUmFy"
      },
      "source": [
        "## Some helper functions\n",
        "\n",
        "For your convenience we provide here some functions to preprocess the data and plot the results later. Simply run the following cells with `Shift-Enter`.\n",
        "\n",
        "### Dependencies and constants"
      ]
    },
    {
      "cell_type": "code",
      "metadata": {
        "id": "a_-AKt04UmFz"
      },
      "source": [
        "%matplotlib inline\n",
        "\n",
        "import os\n",
        "\n",
        "import numpy as np\n",
        "from numpy.random import normal, choice\n",
        "\n",
        "import time\n",
        "import matplotlib.pyplot as plt\n",
        "import scipy.io\n",
        "\n",
        "#import tensorflow and keras\n",
        "import tensorflow as tf\n",
        "import keras\n",
        "import keras.utils\n",
        "from keras import backend as K\n",
        "from keras import Model\n",
        "from keras.models import Sequential, load_model\n",
        "from keras.layers import Dense, Conv2D, MaxPooling2D, Dropout, Flatten, BatchNormalization, Input\n",
        "from keras.optimizers import SGD, Adam\n",
        "from keras import regularizers\n",
        "from keras.callbacks import EarlyStopping, ModelCheckpoint, History\n",
        "from keras.preprocessing.image import ImageDataGenerator \n",
        "from tensorflow.keras.utils import to_categorical"
      ],
      "execution_count": null,
      "outputs": []
    },
    {
      "cell_type": "code",
      "metadata": {
        "colab": {
          "base_uri": "https://localhost:8080/"
        },
        "id": "uByPWuGHUOb2",
        "outputId": "243d42e8-9e91-45ef-8f4d-a0957eda780a"
      },
      "source": [
        "print(\"Running tensorflow version: {0}\".format(tf.__version__))\n",
        "print(\"Running keras version: {0}\".format(keras.__version__))"
      ],
      "execution_count": null,
      "outputs": [
        {
          "output_type": "stream",
          "text": [
            "Running tensorflow version: 2.5.0\n",
            "Running keras version: 2.5.0\n"
          ],
          "name": "stdout"
        }
      ]
    },
    {
      "cell_type": "code",
      "metadata": {
        "colab": {
          "base_uri": "https://localhost:8080/"
        },
        "id": "eurfmdgSQtLr",
        "outputId": "fa904764-3c80-42e4-a9b3-b5e97009622d"
      },
      "source": [
        "# For a faster execution, ensure that a GPU is on the list:\n",
        "tf.config.list_physical_devices()"
      ],
      "execution_count": null,
      "outputs": [
        {
          "output_type": "execute_result",
          "data": {
            "text/plain": [
              "[PhysicalDevice(name='/physical_device:CPU:0', device_type='CPU'),\n",
              " PhysicalDevice(name='/physical_device:GPU:0', device_type='GPU')]"
            ]
          },
          "metadata": {
            "tags": []
          },
          "execution_count": 31
        }
      ]
    },
    {
      "cell_type": "markdown",
      "metadata": {
        "id": "6-U_Ag8QUmFz"
      },
      "source": [
        "### Plotting"
      ]
    },
    {
      "cell_type": "code",
      "metadata": {
        "id": "d2V7in4BUmF0"
      },
      "source": [
        "def plot_some_samples(x, y = [], yhat = [], select_from = [], \n",
        "                      ncols = 6, nrows = 4, xdim = 28, ydim = 28,\n",
        "                      label_mapping = range(10)):\n",
        "    \"\"\"plot some input vectors as grayscale images (optionally together with their assigned or predicted labels).\n",
        "    \n",
        "    x is an NxD - dimensional array, where D is the length of an input vector and N is the number of samples.\n",
        "    Out of the N samples, ncols x nrows indices are randomly selected from the list select_from (if it is empty, select_from becomes range(N)).\n",
        "    \"\"\"\n",
        "    fig, ax = plt.subplots(nrows, ncols)\n",
        "    if len(select_from) == 0:\n",
        "        select_from = range(x.shape[0])\n",
        "    indices = choice(select_from, size = min(ncols * nrows, len(select_from)), replace = False)\n",
        "    for i, ind in enumerate(indices):\n",
        "        thisax = ax[i//ncols,i%ncols]\n",
        "        thisax.matshow(x[ind].reshape(xdim, ydim), cmap='gray')\n",
        "        thisax.set_axis_off()\n",
        "        if len(y) != 0:\n",
        "            j = y[ind] if type(y[ind]) != np.ndarray else y[ind].argmax()\n",
        "            thisax.text(0, 0, (label_mapping[j]+1)%10, color='green', \n",
        "                                                       verticalalignment='top',\n",
        "                                                       transform=thisax.transAxes)\n",
        "        if len(yhat) != 0:\n",
        "            k = yhat[ind] if type(yhat[ind]) != np.ndarray else yhat[ind].argmax()\n",
        "            thisax.text(1, 0, (label_mapping[k]+1)%10, color='red',\n",
        "                                             verticalalignment='top',\n",
        "                                             horizontalalignment='right',\n",
        "                                             transform=thisax.transAxes)\n",
        "    return fig\n",
        "\n",
        "def prepare_standardplot(title, xlabel):\n",
        "    fig, (ax1, ax2) = plt.subplots(1, 2)\n",
        "    fig.suptitle(title)\n",
        "    ax1.set_ylabel('categorical cross entropy')\n",
        "    ax1.set_xlabel(xlabel)\n",
        "    ax1.set_yscale('log')\n",
        "    ax2.set_ylabel('accuracy [% correct]')\n",
        "    ax2.set_xlabel(xlabel)\n",
        "    return fig, ax1, ax2\n",
        "\n",
        "def finalize_standardplot(fig, ax1, ax2):\n",
        "    ax1handles, ax1labels = ax1.get_legend_handles_labels()\n",
        "    if len(ax1labels) > 0:\n",
        "        ax1.legend(ax1handles, ax1labels)\n",
        "    ax2handles, ax2labels = ax2.get_legend_handles_labels()\n",
        "    if len(ax2labels) > 0:\n",
        "        ax2.legend(ax2handles, ax2labels)\n",
        "    fig.tight_layout()\n",
        "    plt.subplots_adjust(top=0.9)\n",
        "\n",
        "def plot_history(history, title):\n",
        "    return plot_history_custom(history.history, title)\n",
        "\n",
        "def plot_history_custom(history, title):\n",
        "    fig, ax1, ax2 = prepare_standardplot(title, 'epoch')\n",
        "    ax1.plot(history['loss'], label = \"train\")\n",
        "    ax1.plot(history['val_loss'], label = \"val\")\n",
        "    ax2.plot(history['accuracy'], label = \"train\")\n",
        "    ax2.plot(history['val_accuracy'], label = \"val\")\n",
        "    finalize_standardplot(fig, ax1, ax2)\n",
        "    return fig\n",
        "\n",
        "def plot_some_samples_custom(x, y = [], yhat = [], select_from = [], \n",
        "                      ncols = 6, nrows = 4, xdim = 28, ydim = 28,\n",
        "                      label_mapping = range(10)):\n",
        "    \"\"\"\n",
        "    Plot some input vectors as grayscale images (optionally together with their assigned or predicted labels).\n",
        "    x is an NxD - dimensional array, where D is the length of an input vector and N is the number of samples.\n",
        "    Out of the N samples, ncols x nrows indices are randomly selected from the list select_from (if it is empty, select_from becomes range(N)).\n",
        "    \"\"\"\n",
        "    fig, ax = plt.subplots(nrows, ncols)\n",
        "    if len(select_from) == 0:\n",
        "        select_from = range(x.shape[0])\n",
        "    indices = choice(select_from, size = min(ncols * nrows, len(select_from)), replace = False)\n",
        "    for i, ind in enumerate(indices):\n",
        "        thisax = ax[i//ncols,i%ncols]\n",
        "        thisax.matshow(x[ind].reshape(xdim, ydim), cmap='gray')\n",
        "        thisax.set_axis_off()\n",
        "        if len(y) != 0:\n",
        "            j = y[ind] if type(y[ind]) != np.ndarray else y[ind].argmax()\n",
        "            thisax.text(0, 0, label_mapping[j], color='green', \n",
        "                                                       verticalalignment='top',\n",
        "                                                       transform=thisax.transAxes)\n",
        "        if len(yhat) != 0:\n",
        "            k = yhat[ind] if type(yhat[ind]) != np.ndarray else yhat[ind].argmax()\n",
        "            thisax.text(1, 0, label_mapping[k], color='red',\n",
        "                                             verticalalignment='top',\n",
        "                                             horizontalalignment='right',\n",
        "                                             transform=thisax.transAxes)\n",
        "    return fig\n",
        "\n",
        "\n"
      ],
      "execution_count": null,
      "outputs": []
    },
    {
      "cell_type": "markdown",
      "metadata": {
        "id": "96-3BgpfUmF1"
      },
      "source": [
        "## Exercise 1: Data import and visualization (6 points)\n",
        "\n",
        "The datasets we use in this project (MNIST, Fashion-MNIST) consists of grayscale images with 28x28 pixels. \n",
        "The low resolution (and grayscale) of the images certainly misses some information that could be helpful for classifying the images. However, since the data has lower dimensionality due to the low resolution, the training converges faster. This is an advantage in situations like here (or generally when prototyping), where we want to try many different things without having to wait too long. \n",
        "\n",
        "1. As a warm-up exercise, use the importer to (down-)load the MNIST and Fashion-MNIST dataset. Assign useful variables to test & train images and labels for both datasets respectively. (2 pts)\n",
        "2. Use the function `plot_some_samples` defined above to plot some samples of the two datasets. What do the green digits at the bottom left of each image indicate? (2 pts)\n",
        "3. To prepare for training: 1. transform the labels to one hot coding, i.e. for 5 classes, label 2 becomes the vector [0, 0, 1, 0, 0] (you can use `utils.to_categorical` function from keras), and 2. reshape (flatten) the input images to input vectors and rescale the input data into the range [0,1]. (2 pts)\n",
        "\n",
        "*Hint*: Keras comes with a convenient in-built [data importer](https://keras.io/datasets/) for common datasets. "
      ]
    },
    {
      "cell_type": "markdown",
      "metadata": {
        "id": "kGiMLZFXUmF2"
      },
      "source": [
        "**Answer to Question 2** (1 sentence):<br/>\n",
        "The green digit at the bottom left corresponds to '(label_mapping[j]+1)%10' (*true class label incremented by one and divided modulo 10*) and can be interpreted as the index of the digit with value 1 (all others at 0) for one hot encoding."
      ]
    },
    {
      "cell_type": "markdown",
      "metadata": {
        "id": "PGSLbCcbUmF2"
      },
      "source": [
        "### Solution"
      ]
    },
    {
      "cell_type": "markdown",
      "metadata": {
        "id": "44GJq_o2BlkA"
      },
      "source": [
        "#### Exercise 1.1\n",
        "Load the MNIST and Fashion-MNIST dataset."
      ]
    },
    {
      "cell_type": "code",
      "metadata": {
        "id": "REn8st7Do-h6"
      },
      "source": [
        "(x_mnist_train, y_mnist_train), (x_mnist_val, y_mnist_val) = tf.keras.datasets.mnist.load_data(path=\"mnist.npz\")\n",
        "(x_mnist_fash_train, y_mnist_fash_train), (x_mnist_fash_val, y_mnist_fash_val) = tf.keras.datasets.fashion_mnist.load_data()"
      ],
      "execution_count": null,
      "outputs": []
    },
    {
      "cell_type": "markdown",
      "metadata": {
        "id": "zK0e2jWyBxuY"
      },
      "source": [
        "#### Exercise 1.2\n",
        "Plot some samples of the two datasets."
      ]
    },
    {
      "cell_type": "code",
      "metadata": {
        "colab": {
          "base_uri": "https://localhost:8080/",
          "height": 276
        },
        "id": "E-tP-_yR_cIT",
        "outputId": "44df0a5f-7c85-46e7-fd28-0f4b687e9034"
      },
      "source": [
        "print(\"MNIST\")\n",
        "plot_some_samples(x_mnist_train, y_mnist_train, ncols=6, nrows=4);"
      ],
      "execution_count": null,
      "outputs": [
        {
          "output_type": "stream",
          "text": [
            "MNIST\n"
          ],
          "name": "stdout"
        },
        {
          "output_type": "display_data",
          "data": {
            "image/png": "[encoded data removed]",
            "text/plain": [
              "<Figure size 432x288 with 24 Axes>"
            ]
          },
          "metadata": {
            "tags": []
          }
        }
      ]
    },
    {
      "cell_type": "code",
      "metadata": {
        "colab": {
          "base_uri": "https://localhost:8080/",
          "height": 276
        },
        "id": "rM7sGUJ7CPXI",
        "outputId": "1feae9b6-15a0-48dc-ba76-4d502d52bb7d"
      },
      "source": [
        "print(\"Fashion-MNIST\")\n",
        "plot_some_samples(x_mnist_fash_train, y_mnist_fash_train, ncols=6, nrows=4);"
      ],
      "execution_count": null,
      "outputs": [
        {
          "output_type": "stream",
          "text": [
            "Fashion-MNIST\n"
          ],
          "name": "stdout"
        },
        {
          "output_type": "display_data",
          "data": {
            "image/png": "[encoded data removed]",
            "text/plain": [
              "<Figure size 432x288 with 24 Axes>"
            ]
          },
          "metadata": {
            "tags": []
          }
        }
      ]
    },
    {
      "cell_type": "markdown",
      "metadata": {
        "id": "ozrpz5-NB7wg"
      },
      "source": [
        "#### Exercise 1.3\n",
        "Prepare for training."
      ]
    },
    {
      "cell_type": "code",
      "metadata": {
        "colab": {
          "base_uri": "https://localhost:8080/"
        },
        "id": "2Q_Rl6c-DV87",
        "outputId": "893bd134-e292-4f0d-9a49-ec4021385c7f"
      },
      "source": [
        "# One hot encoding of the labels for MNIST\n",
        "y_mnist_train_1hot = to_categorical(y_mnist_train)\n",
        "y_mnist_val_1hot = to_categorical(y_mnist_val)\n",
        "\n",
        "print(\"MNIST:\")\n",
        "for i in range(5):\n",
        "    print(\"train : {0} => {1} \\ttest : {2} => {3}\".format(y_mnist_train[i], y_mnist_train_1hot[i], y_mnist_val[i], y_mnist_val_1hot[i]))"
      ],
      "execution_count": null,
      "outputs": [
        {
          "output_type": "stream",
          "text": [
            "MNIST:\n",
            "train : 5 => [0. 0. 0. 0. 0. 1. 0. 0. 0. 0.] \ttest : 7 => [0. 0. 0. 0. 0. 0. 0. 1. 0. 0.]\n",
            "train : 0 => [1. 0. 0. 0. 0. 0. 0. 0. 0. 0.] \ttest : 2 => [0. 0. 1. 0. 0. 0. 0. 0. 0. 0.]\n",
            "train : 4 => [0. 0. 0. 0. 1. 0. 0. 0. 0. 0.] \ttest : 1 => [0. 1. 0. 0. 0. 0. 0. 0. 0. 0.]\n",
            "train : 1 => [0. 1. 0. 0. 0. 0. 0. 0. 0. 0.] \ttest : 0 => [1. 0. 0. 0. 0. 0. 0. 0. 0. 0.]\n",
            "train : 9 => [0. 0. 0. 0. 0. 0. 0. 0. 0. 1.] \ttest : 4 => [0. 0. 0. 0. 1. 0. 0. 0. 0. 0.]\n"
          ],
          "name": "stdout"
        }
      ]
    },
    {
      "cell_type": "code",
      "metadata": {
        "colab": {
          "base_uri": "https://localhost:8080/"
        },
        "id": "09HL6DMLN8uu",
        "outputId": "f85cd3a4-166c-4e00-ac7a-65c8e5293b0b"
      },
      "source": [
        "# One hot encoding of the labels for Fashion MNIST\n",
        "y_mnist_fash_train_1hot = to_categorical(y_mnist_fash_train)\n",
        "y_mnist_fash_val_1hot = to_categorical(y_mnist_fash_val)\n",
        "\n",
        "print(\"Fashion MNIST:\")\n",
        "for i in range(5):\n",
        "    print(\"train : {0} => {1} \\ttest : {2} => {3}\".format(y_mnist_fash_train[i], y_mnist_fash_train_1hot[i], y_mnist_fash_val[i], y_mnist_fash_val_1hot[i]))"
      ],
      "execution_count": null,
      "outputs": [
        {
          "output_type": "stream",
          "text": [
            "Fashion MNIST:\n",
            "train : 9 => [0. 0. 0. 0. 0. 0. 0. 0. 0. 1.] \ttest : 9 => [0. 0. 0. 0. 0. 0. 0. 0. 0. 1.]\n",
            "train : 0 => [1. 0. 0. 0. 0. 0. 0. 0. 0. 0.] \ttest : 2 => [0. 0. 1. 0. 0. 0. 0. 0. 0. 0.]\n",
            "train : 0 => [1. 0. 0. 0. 0. 0. 0. 0. 0. 0.] \ttest : 1 => [0. 1. 0. 0. 0. 0. 0. 0. 0. 0.]\n",
            "train : 3 => [0. 0. 0. 1. 0. 0. 0. 0. 0. 0.] \ttest : 1 => [0. 1. 0. 0. 0. 0. 0. 0. 0. 0.]\n",
            "train : 0 => [1. 0. 0. 0. 0. 0. 0. 0. 0. 0.] \ttest : 6 => [0. 0. 0. 0. 0. 0. 1. 0. 0. 0.]\n"
          ],
          "name": "stdout"
        }
      ]
    },
    {
      "cell_type": "code",
      "metadata": {
        "colab": {
          "base_uri": "https://localhost:8080/"
        },
        "id": "6tDl4RApFFV2",
        "outputId": "b187eb64-61d7-43bb-ff69-f15eb6d68824"
      },
      "source": [
        "# Rescale the input data into the range [0,1] for MNIST\n",
        "max_grey_value = 255.0\n",
        "\n",
        "print(\"MNIST\")\n",
        "print(\"Max value in initial dataset (train/test):\", np.max(x_mnist_train), np.max(x_mnist_val))\n",
        "print(\"Min value in initial dataset (train/test):\", np.min(x_mnist_train), np.min(x_mnist_val))\n",
        "x_mnist_train = x_mnist_train / max_grey_value  \n",
        "x_mnist_val = x_mnist_val / max_grey_value \n",
        "print(\"Max value in rescaled dataset (train/test):\", np.max(x_mnist_train), np.max(x_mnist_val))\n",
        "print(\"Min value in rescaled dataset (train/test):\", np.min(x_mnist_train), np.min(x_mnist_val))"
      ],
      "execution_count": null,
      "outputs": [
        {
          "output_type": "stream",
          "text": [
            "MNIST\n",
            "Max value in initial dataset (train/test): 255 255\n",
            "Min value in initial dataset (train/test): 0 0\n",
            "Max value in rescaled dataset (train/test): 1.0 1.0\n",
            "Min value in rescaled dataset (train/test): 0.0 0.0\n"
          ],
          "name": "stdout"
        }
      ]
    },
    {
      "cell_type": "code",
      "metadata": {
        "colab": {
          "base_uri": "https://localhost:8080/"
        },
        "id": "3xRmWrSuLyy5",
        "outputId": "7378fd78-00e3-441a-c3be-c4a8457d9f11"
      },
      "source": [
        "# MNIST: rescale the input data into the range [0,1] for Fashion MNIST\n",
        "print(\"Fashion-MNIST\")\n",
        "print(\"Max value in initial dataset (train/test):\", np.max(x_mnist_fash_train), np.max(x_mnist_fash_val))\n",
        "print(\"Min value in initial dataset (train/test):\", np.min(x_mnist_fash_train), np.min(x_mnist_fash_val))\n",
        "x_mnist_fash_train = x_mnist_fash_train / max_grey_value  \n",
        "x_mnist_fash_val = x_mnist_fash_val / max_grey_value \n",
        "print(\"Max value in rescaled dataset (train/test):\", np.max(x_mnist_fash_train), np.max(x_mnist_fash_val))\n",
        "print(\"Min value in rescaled dataset (train/test):\", np.min(x_mnist_fash_train), np.min(x_mnist_fash_val))"
      ],
      "execution_count": null,
      "outputs": [
        {
          "output_type": "stream",
          "text": [
            "Fashion-MNIST\n",
            "Max value in initial dataset (train/test): 255 255\n",
            "Min value in initial dataset (train/test): 0 0\n",
            "Max value in rescaled dataset (train/test): 1.0 1.0\n",
            "Min value in rescaled dataset (train/test): 0.0 0.0\n"
          ],
          "name": "stdout"
        }
      ]
    },
    {
      "cell_type": "code",
      "metadata": {
        "colab": {
          "base_uri": "https://localhost:8080/"
        },
        "id": "whHrNeQiETo7",
        "outputId": "46e42aa2-1791-40cb-83b9-7f5766bb3376"
      },
      "source": [
        "# Reshape (flatten) the input images to input vectors for MNIST\n",
        "print(\"MNIST\")\n",
        "original_mnist_train_shape = x_mnist_train.shape\n",
        "original_mnist_val_shape = x_mnist_val.shape\n",
        "x_mnist_tr_flat = x_mnist_train.reshape(x_mnist_train.shape[0], x_mnist_train.shape[1]*x_mnist_train.shape[2])\n",
        "x_mnist_val_flat = x_mnist_val.reshape(x_mnist_val.shape[0], x_mnist_val.shape[1]*x_mnist_val.shape[2])\n",
        "print(\"Reshaped training data from {0} to {1}\".format(original_mnist_train_shape, x_mnist_tr_flat.shape))\n",
        "print(\"Reshaped validation data from {0} to {1}\".format(original_mnist_val_shape, x_mnist_val_flat.shape))"
      ],
      "execution_count": null,
      "outputs": [
        {
          "output_type": "stream",
          "text": [
            "MNIST\n",
            "Reshaped training data from (60000, 28, 28) to (60000, 784)\n",
            "Reshaped validation data from (10000, 28, 28) to (10000, 784)\n"
          ],
          "name": "stdout"
        }
      ]
    },
    {
      "cell_type": "code",
      "metadata": {
        "colab": {
          "base_uri": "https://localhost:8080/"
        },
        "id": "evnIslVWHHmz",
        "outputId": "713d4e05-01f0-4972-d751-485047c99a1f"
      },
      "source": [
        "# Reshape (flatten) the input images to input vectors for Fashion MNIST\n",
        "print(\"Fashion-MNIST\")\n",
        "original_train_shape = x_mnist_fash_train.shape\n",
        "original_val_shape = x_mnist_fash_val.shape\n",
        "x_fash_mnist_tr_flat = x_mnist_fash_train.reshape(x_mnist_fash_train.shape[0], x_mnist_fash_train.shape[1]*x_mnist_fash_train.shape[2])\n",
        "x_fash_mnist_val_flat = x_mnist_fash_val.reshape(x_mnist_fash_val.shape[0], x_mnist_fash_val.shape[1]*x_mnist_fash_val.shape[2])\n",
        "print(\"Reshaped training data from {0} to {1}\".format(original_train_shape, x_fash_mnist_tr_flat.shape))\n",
        "print(\"Reshaped validation data from {0} to {1}\".format(original_val_shape, x_fash_mnist_val_flat.shape))"
      ],
      "execution_count": null,
      "outputs": [
        {
          "output_type": "stream",
          "text": [
            "Fashion-MNIST\n",
            "Reshaped training data from (60000, 28, 28) to (60000, 784)\n",
            "Reshaped validation data from (10000, 28, 28) to (10000, 784)\n",
            "Reshaped test data from (10000, 28, 28) to (10000, 784)\n"
          ],
          "name": "stdout"
        }
      ]
    },
    {
      "cell_type": "code",
      "metadata": {
        "colab": {
          "base_uri": "https://localhost:8080/"
        },
        "id": "1cZuTQVecZJB",
        "outputId": "9adfcf9b-0a1a-457c-c27f-d19af465d3e9"
      },
      "source": [
        "# Define useful constants\n",
        "input_dim_mnist = x_mnist_tr_flat.shape[1]\n",
        "input_dim_fash_mnist = x_fash_mnist_tr_flat.shape[1]\n",
        "classes_nb_mnist = y_mnist_train_1hot.shape[1]\n",
        "classes_nb_fash_mnist = y_mnist_fash_train_1hot.shape[1]\n",
        "print(\"MMNIST : input shape {0}; number of classes {1}\".format(input_dim_mnist, classes_nb_mnist))\n",
        "print(\"Fashion MMNIST : input shape {0}; number of classes {1}\".format(input_dim_fash_mnist, classes_nb_fash_mnist))"
      ],
      "execution_count": null,
      "outputs": [
        {
          "output_type": "stream",
          "text": [
            "MMNIST Input Shape 784; MNIST Number Of Classes 10\n",
            "MMNIST Fashion Input Shape 784; MNIST Fashion Number Of Classes 10\n"
          ],
          "name": "stdout"
        }
      ]
    },
    {
      "cell_type": "markdown",
      "metadata": {
        "id": "7nWca9BqUmF3"
      },
      "source": [
        "## Exercise 2: No hidden layer (10 points)\n",
        "\n",
        "Define and fit a model without a hidden layer (since we will use multi-layer models later in this project, you can define a general constructor function for models with an arbitrary number of hidden layers already at this point). Note that in this miniproject there is no real test dataset and what is loaded as a test dataset is used for validation. First, implement 1.-3. for the MNIST dataset.  \n",
        "\n",
        "1. Implement the model with the following specifications: use the softmax activation for the output layer, use the categorical_crossentropy loss, choose stochastic gradient descent for the optimizer, and add the accuracy metric to the metrics. (5 pts)\n",
        "2. Train for as many epochs as needed to see no further decrease in the validation loss. (1 pt)\n",
        "3. Plot the learning curves resulting from the fitting procedure (a history object) using the function `plot_history` defined above. (1 pt)\n",
        "4. Repeat the above steps for fitting the network to the Fashion-MNIST dataset. (2 pts)\n",
        "5. Report the best validation accuracy achieved for each one of the datasets. Do you observe overfitting already for this simple model? Answer separetely for the MNIST dataset and Fashion-MNIST dataset. (1 pt) \n",
        "\n",
        "*Hint:* Read the keras docs, in particular [Getting started with the Keras Sequential model](https://keras.io/getting-started/sequential-model-guide/)."
      ]
    },
    {
      "cell_type": "markdown",
      "metadata": {
        "id": "o0om4_uXUmF5"
      },
      "source": [
        "**Answer to Question 5** (max 2 sentences):<br/>\n",
        "*MNIST:*<br/>\n",
        "We don't see overfitting on MNIST with this simple model. If overfitting would be present, we should see the validation loss stopping to decrease and begin to increase. The highest validation accuracy on the MNIST dataset is 94%.\n",
        "\n",
        "*Fashion-MNIST:*<br/>\n",
        "We also don't see overfitting on the Fashion-MNIST. The highest validation accuracy achieved by the model on the MNIST Fashion dataset is 85%."
      ]
    },
    {
      "cell_type": "markdown",
      "metadata": {
        "id": "CgSYz8gAUmF5"
      },
      "source": [
        "### Solution"
      ]
    },
    {
      "cell_type": "markdown",
      "metadata": {
        "id": "0Wk7rbJWAtQL"
      },
      "source": [
        "### Useful functions"
      ]
    },
    {
      "cell_type": "code",
      "metadata": {
        "id": "fWptcE9GAuRD"
      },
      "source": [
        "def get_save_dir():\n",
        "  \"\"\"Get directory where models and histories are saved.\"\"\"\n",
        "  save_dir = 'save'\n",
        "  if os.path.isdir(save_dir) is not True:\n",
        "    os.mkdir(save_dir)\n",
        "  return save_dir\n",
        "\n",
        "\n",
        "def get_path_history(exercise_name):\n",
        "  \"\"\"Get path of history file.\"\"\"\n",
        "  return os.path.join(get_save_dir(), exercise_name + '_history.npy')\n",
        "\n",
        "\n",
        "def get_path_model(exercise_name):\n",
        "  \"\"\"Get path of model file.\"\"\"\n",
        "  return os.path.join(get_save_dir(), exercise_name + '_model.keras')\n",
        "\n",
        "\n",
        "def get_callbacks(early_stop = True, save_model=False, exercise_name='', verbose=0):\n",
        "  \"\"\"\n",
        "  Return callbacks for fit.\n",
        "\n",
        "  Parameters:\n",
        "  early_stop : if true we use early stopping\n",
        "  save_model : if true we save the model in a file (the exercise_name must be provided)\n",
        "  exercise_name : the name used to save the model in a file\n",
        "  \"\"\"\n",
        "  callbacks = []\n",
        "\n",
        "  if save_model:\n",
        "    save_callback = ModelCheckpoint(get_path_model(exercise_name), monitor='val_loss', mode='min', save_best_only=True, verbose=verbose)\n",
        "    callbacks.append(save_callback)\n",
        "\n",
        "  if early_stop:\n",
        "    stop_callback = EarlyStopping(monitor='val_loss', mode='min', verbose=verbose, patience=20)\n",
        "    callbacks.append(stop_callback) \n",
        "\n",
        "  return callbacks  \n",
        "\n",
        "\n",
        "def fit_custom(exercise_name, model, x, y, validation_data=None, epochs=None, callbacks=None, verbose=0):\n",
        "  \"\"\"\n",
        "  Load saved history or launch fit if it does not exist.\n",
        "\n",
        "  Parameters:\n",
        "  - exercise_name: String name of the exercise, it is used to store the history and reload it.\n",
        "  - model: Keras Model from which fit is applied. \n",
        "  \n",
        "  Others inputs are named in the same way that the Keras fit function, and are directly passed to it:\n",
        "  - x : Vector, matrix, or array of training data\n",
        "  - y : Vector, matrix, or array of target (label) data\n",
        "  - validation_data : Data on which to evaluate the loss and any model metrics at the end of each epoch.\n",
        "  - epochs : Number of epochs to train the model.\n",
        "  - callbacks : List of callbacks to be called during training.\n",
        "  - verbose : Verbosity mode (0 = silent, 1 = progress bar, 2 = one line per epoch)\n",
        "  \"\"\"\n",
        "  path_history = get_path_history(exercise_name)\n",
        "\n",
        "  if not os.path.isfile(path_history):\n",
        "    print(\"Begin to train the model {0}.\".format(exercise_name))\n",
        "    fit_output = model.fit(\n",
        "        x=x, \n",
        "        y=y, \n",
        "        validation_data=validation_data, \n",
        "        epochs=epochs, \n",
        "        callbacks=callbacks, \n",
        "        verbose=verbose)\n",
        "    print(\"Finished training the model {0}.\".format(exercise_name))\n",
        "    \n",
        "    # Save history on a file\n",
        "    history = fit_output.history\n",
        "    np.save(path_history, history)\n",
        "  else:\n",
        "    print(\"Loading\", path_history)\n",
        "    history = np.load(path_history, allow_pickle='TRUE').item()\n",
        "\n",
        "  return history\n",
        "\n",
        "\n",
        "def get_model(input_dim, layers, h, optimizer, lr, dropout = 0, l2 = 0):\n",
        "    \"\"\"\n",
        "    Return a compiled model.\n",
        "\n",
        "    Parameters:\n",
        "    - 'input_dim': input dimension \n",
        "    - 'layers': hidden layers \n",
        "    - 'h': units in each hidden layer\n",
        "    - 'optimizer': optimizer\n",
        "    - \"lr': learning rate\n",
        "    - 'dropout': dropout rate\n",
        "    - 'l2': L2 regularization factor\n",
        "    \"\"\"\n",
        "    # Clear the session to remove all the nodes left over from previous models.\n",
        "    # It frees memory and prevent slowdown.\n",
        "    K.clear_session()\n",
        "\n",
        "    model = Sequential()\n",
        "    model.add(Dense(classes_nb_mnist, activation='relu', name=\"input_layer\",  input_shape=(input_dim_mnist,)))\n",
        "\n",
        "    if(dropout > 0):\n",
        "      model.add(Dropout(dropout))\n",
        "\n",
        "    for i in range(layers):\n",
        "      kernel_regularizer = None\n",
        "      if(l2>0):\n",
        "        kernel_regularizer = regularizers.l1_l2(l1=0, l2=l2)\n",
        "\n",
        "      model.add(Dense(h, activation='relu', kernel_regularizer=kernel_regularizer))\n",
        "\n",
        "      if(dropout > 0):\n",
        "        model.add(Dropout(dropout))\n",
        "\n",
        "    model.add(Dense(classes_nb_mnist, activation='softmax', name=\"output_layer\"))\n",
        "\n",
        "    model.compile(optimizer=optimizer(lr), loss='categorical_crossentropy', metrics=[\"accuracy\"])\n",
        "    \n",
        "    return model"
      ],
      "execution_count": null,
      "outputs": []
    },
    {
      "cell_type": "markdown",
      "metadata": {
        "id": "E7vGd8ZORprP"
      },
      "source": [
        "#### Exercise 2.1\n",
        "Implement the model."
      ]
    },
    {
      "cell_type": "code",
      "metadata": {
        "colab": {
          "base_uri": "https://localhost:8080/"
        },
        "id": "FS_KeLUAQWfS",
        "outputId": "195c6d3c-4d9b-4f05-8d97-c74f09add45f"
      },
      "source": [
        "model=get_model(input_dim=input_dim_mnist, layers=0, h=0, optimizer=SGD, lr=0.01)\n",
        "model.summary()"
      ],
      "execution_count": null,
      "outputs": [
        {
          "output_type": "stream",
          "text": [
            "Model: \"sequential\"\n",
            "_________________________________________________________________\n",
            "Layer (type)                 Output Shape              Param #   \n",
            "=================================================================\n",
            "input_layer (Dense)          (None, 10)                7850      \n",
            "_________________________________________________________________\n",
            "output_layer (Dense)         (None, 10)                110       \n",
            "=================================================================\n",
            "Total params: 7,960\n",
            "Trainable params: 7,960\n",
            "Non-trainable params: 0\n",
            "_________________________________________________________________\n"
          ],
          "name": "stdout"
        }
      ]
    },
    {
      "cell_type": "markdown",
      "metadata": {
        "id": "fDsqMm-ETZqT"
      },
      "source": [
        "#### Exercise 2.2\n",
        "Train for as many epochs as needed to see no further decrease in the validation loss."
      ]
    },
    {
      "cell_type": "code",
      "metadata": {
        "id": "TpLs8m91BVb5"
      },
      "source": [
        "exercise_name='ex_2.2'\n",
        "history = fit_custom(\n",
        "    exercise_name=exercise_name,\n",
        "    model=model, \n",
        "    x=x_mnist_tr_flat, \n",
        "    y=y_mnist_train_1hot, \n",
        "    validation_data=(x_mnist_val_flat, y_mnist_val_1hot), \n",
        "    epochs=100,\n",
        "    callbacks=get_callbacks(early_stop = True, save_model=False, exercise_name=exercise_name),\n",
        "    verbose=1)"
      ],
      "execution_count": null,
      "outputs": []
    },
    {
      "cell_type": "markdown",
      "metadata": {
        "id": "B6jIRPNeLR9X"
      },
      "source": [
        "#### Exercise 2.3\n",
        "\n",
        "Plot the learning curves resulting from the fitting procedure (a history object) using the function `plot_history` defined above."
      ]
    },
    {
      "cell_type": "code",
      "metadata": {
        "colab": {
          "base_uri": "https://localhost:8080/",
          "height": 302
        },
        "id": "VVP8kpKlJgmi",
        "outputId": "b2dbefaf-7645-4a30-9aea-19c6d93571e4"
      },
      "source": [
        "plot_history_custom(history, \"MNIST learning with no Hidden Layer\");"
      ],
      "execution_count": null,
      "outputs": [
        {
          "output_type": "display_data",
          "data": {
            "image/png": "[encoded data removed]",
            "text/plain": [
              "<Figure size 432x288 with 2 Axes>"
            ]
          },
          "metadata": {
            "tags": []
          }
        }
      ]
    },
    {
      "cell_type": "markdown",
      "metadata": {
        "id": "jANnS4HqMROF"
      },
      "source": [
        "#### Exercise 2.4\n",
        "\n",
        "Repeat with the Fashion-MNIST dataset."
      ]
    },
    {
      "cell_type": "code",
      "metadata": {
        "colab": {
          "base_uri": "https://localhost:8080/"
        },
        "id": "dVur_FZVUacH",
        "outputId": "e9cb6e88-b6bc-45d1-9503-0fae51cf36c2"
      },
      "source": [
        "model=get_model(input_dim=input_dim_fash_mnist, layers=0, h=0, optimizer=SGD, lr=0.01)\n",
        "model.summary()"
      ],
      "execution_count": null,
      "outputs": [
        {
          "output_type": "stream",
          "text": [
            "Model: \"sequential\"\n",
            "_________________________________________________________________\n",
            "Layer (type)                 Output Shape              Param #   \n",
            "=================================================================\n",
            "input_layer (Dense)          (None, 10)                7850      \n",
            "_________________________________________________________________\n",
            "output_layer (Dense)         (None, 10)                110       \n",
            "=================================================================\n",
            "Total params: 7,960\n",
            "Trainable params: 7,960\n",
            "Non-trainable params: 0\n",
            "_________________________________________________________________\n"
          ],
          "name": "stdout"
        }
      ]
    },
    {
      "cell_type": "code",
      "metadata": {
        "colab": {
          "base_uri": "https://localhost:8080/"
        },
        "id": "zeS99WhhMW_-",
        "outputId": "4acd142a-7fc2-402a-c06d-612af86dcfcb"
      },
      "source": [
        "exercise_name = 'ex_2.4'\n",
        "history = fit_custom(\n",
        "    exercise_name=exercise_name, \n",
        "    model=model,\n",
        "    x=x_fash_mnist_tr_flat, \n",
        "    y=y_mnist_fash_train_1hot, \n",
        "    validation_data=(x_fash_mnist_val_flat, y_mnist_fash_val_1hot), \n",
        "    epochs=100,\n",
        "    callbacks=get_callbacks(early_stop = True, save_model=False, exercise_name=exercise_name),\n",
        "    verbose=1)"
      ],
      "execution_count": null,
      "outputs": [
        {
          "output_type": "stream",
          "text": [
            "Loading save/ex_2.4_history.npy\n"
          ],
          "name": "stdout"
        }
      ]
    },
    {
      "cell_type": "code",
      "metadata": {
        "colab": {
          "base_uri": "https://localhost:8080/",
          "height": 302
        },
        "id": "TYnfImWfNT9o",
        "outputId": "50a4aca5-04d4-4ea8-ed90-218a4946e711"
      },
      "source": [
        "plot_history_custom(history, \"Fashion-MNIST learning with no hidden layer \");"
      ],
      "execution_count": null,
      "outputs": [
        {
          "output_type": "display_data",
          "data": {
            "image/png": "[encoded data removed]",
            "text/plain": [
              "<Figure size 432x288 with 2 Axes>"
            ]
          },
          "metadata": {
            "tags": []
          }
        }
      ]
    },
    {
      "cell_type": "markdown",
      "metadata": {
        "id": "93JrKMECUmF5"
      },
      "source": [
        "## Exercise 3: One hidden layer, different optimizers (10 points)\n",
        "\n",
        "Train a network with one hidden layer and compare different optimizers for the MNIST dataset.\n",
        "\n",
        "1. Use one hidden layer with 128 units and the 'relu' activation. Use the [summary method](https://keras.io/api/models/model/#summary-method) to display your model in a compact way. (1 pt)\n",
        "2. Train the model for at least 50 epochs with different learning rates of stochastic gradient descent (SGD). What happens if the learning rate $\\eta$ is very large (for ex. $\\eta=1$), and very small (for ex. $\\eta=0.001$)? Comment on the fluctuations of the learning curve. (2 pts)\n",
        "3. Replace the stochastic gradient descent optimizer with the [Adam optimizer](https://keras.io/optimizers/#adam) (you can use the default learning rate). (1pt)\n",
        "4. Plot the learning curves of SGD with a good learning rate (i.e. in the range [0.01,0.1]) together with the learning curves of Adam in the same figure. Take care of a reasonable labeling of the curves in the plot. (1 pts)\n",
        "5. Explain the qualitative difference between the loss and accuracy curves with respect to signs of overfitting. Report the best validation accuracy achieved for SGD and Adam. Which one is better and why do you think so? (2 pts)\n",
        "6. Determine the indices of all test images that are misclassified by the fitted model and plot some of them using the function \n",
        "   `plot_some_samples`. (1 pt)\n",
        "\n",
        "Real-world datasets are labeled by some people and sometimes there are mistakes in the labeling. We will corrupt labels of the MNIST dataset artifically, and observe an overfitting to this noisy dataset with Adam. \n",
        "\n",
        "7. Take $ p = 0.2 $ fraction of the data points from the training dataset of MNIST and change their class labels randomly. (You can sample a random integer from 0 to 9 using `np.random.uniform` and `np.floor`). Train with Adam for 50 or 100 epochs. Plot the learning curves. Do you observe overfitting in the validation accuracy? Does it take longer to converge to perfect training accuracy compare to noise-free MNIST? (2 pts)"
      ]
    },
    {
      "cell_type": "markdown",
      "metadata": {
        "id": "JqsjfxPdUmF5"
      },
      "source": [
        "**Answer to Question 2** (max 2 sentences): The fluctuations of the learning curves are decreasing with decreasing learning rate (for small learning rates {0.01, 0.001} almost no fluctuations in the learning curves can be seen anymore and the curve is really smooth). This can be explained by the fact that for smaller learning rates, the weight updates are smaller leading to less fluctuations.\n",
        "\n",
        "**Answer to Question 5** (max 3 sentences): The model using the Adam optimizer (lr: 0.001) learns faster and its validation accuracy levels out after around 10 training epochs and then it is overfitting. The model using SGD (lr: 0.01) does not really overfit and the training takes longer. The accuracies are similar, but we would prefer Adam to learn faster.\n",
        "\n",
        "**Answer to Question 7** (max 2 sentences): In normal and noisy case, there is overfitting. The noisy dataset begins to sooner (after around 5 epochs) and its results are worth.\n",
        "\n",
        "The models overfits after around 15 epochs on the original dataset and the validation accuracy on the noisy dataset still reaches around 95%  after 15 epochs. If we stop at this point we receive the model with the best performance for the noisy and original dataset."
      ]
    },
    {
      "cell_type": "markdown",
      "metadata": {
        "id": "hqNAh2guUmF5"
      },
      "source": [
        "### Solution"
      ]
    },
    {
      "cell_type": "markdown",
      "metadata": {
        "id": "IzbbCPSPBje0"
      },
      "source": [
        "### Useful functions"
      ]
    },
    {
      "cell_type": "code",
      "metadata": {
        "id": "Y8E46szjUOcC"
      },
      "source": [
        "def train_with_various_lr(exercise_name, model, learning_rates, optimizer):\n",
        "  \"\"\"Train with various learning rates.\"\"\"\n",
        "  histories = []\n",
        "\n",
        "  for lr in learning_rates:\n",
        "    name = exercise_name + '_lr_{0}'.format(lr)\n",
        "    history = fit_custom(\n",
        "          exercise_name=name, \n",
        "          model=model(lr), \n",
        "          x=x_mnist_tr_flat, \n",
        "          y=y_mnist_train_1hot, \n",
        "          validation_data=(x_mnist_val_flat, y_mnist_val_1hot), \n",
        "          epochs=100, \n",
        "          callbacks=get_callbacks(early_stop = False, save_model=True, exercise_name=name),\n",
        "          verbose=1)\n",
        "    \n",
        "    # Get optimizer name for plotting\n",
        "    optimizer_name = str(optimizer).split(\".\")[-1].replace('>', '').replace(\"'\", \"\")\n",
        "\n",
        "    plot_history_custom(\n",
        "        history, \n",
        "        \"MNIST learning with {0} and learning rate {1}\".format(optimizer_name,lr));\n",
        "\n",
        "    histories.append(history)\n",
        "\n",
        "  return histories\n",
        "\n",
        "def comparison_plot_custom(history_1, history_2, label1, label2, title):\n",
        "  \"\"\"Plot to compare two histories.\"\"\"\n",
        "  fig, ax1, ax2 = prepare_standardplot(title, \"epochs\")\n",
        "  ax1.plot(history_1['loss'], label=label1 + ' train')\n",
        "  ax1.plot(history_1['val_loss'], label=label1 + ' val')\n",
        "  ax1.plot(history_2['loss'], label=label2 + ' train')\n",
        "  ax1.plot(history_2['val_loss'], label=label2 + ' val')\n",
        "  ax2.plot(history_1['accuracy'], label=label1 + ' train')\n",
        "  ax2.plot(history_1['val_accuracy'], label=label1 + ' val')\n",
        "  ax2.plot(history_2['accuracy'], label=label2 + ' train')\n",
        "  ax2.plot(history_2['val_accuracy'], label=label2 + ' val')\n",
        "  finalize_standardplot(fig, ax1, ax2)\n",
        "  return fig\n",
        "\n",
        "def noise_labels(y_hot, p):\n",
        "  \"\"\"Noise one hot labels according to the fraction 'p'.\"\"\"\n",
        "  length = y_hot.shape[0]\n",
        "  number_of_classes = y_hot.shape[1]\n",
        "\n",
        "  # Define indices to noise\n",
        "  indices = np.arange(length)\n",
        "  noise_number_mnist = int(length*p)\n",
        "  noisy_indices = choice(indices, noise_number_mnist)\n",
        "\n",
        "  # Generate noisy labels\n",
        "  y_1hot_noisy = y_hot.copy()\n",
        "  for index in noisy_indices:\n",
        "    class_index = np.floor(np.random.uniform(0,number_of_classes-0.01))\n",
        "    y_1hot_noisy[index] = to_categorical(class_index, num_classes=classes_nb_mnist)\n",
        "\n",
        "  return y_1hot_noisy"
      ],
      "execution_count": null,
      "outputs": []
    },
    {
      "cell_type": "markdown",
      "metadata": {
        "id": "52WnT_AcObgs"
      },
      "source": [
        "#### Exercise 3.1\n",
        "\n",
        "Use one hidden layer with 128 units and the 'relu' activation. Use the [summary method](https://keras.io/api/models/model/#summary-method) to display your model in a compact way."
      ]
    },
    {
      "cell_type": "code",
      "metadata": {
        "colab": {
          "base_uri": "https://localhost:8080/"
        },
        "id": "uE8X5bTnUOcC",
        "outputId": "3db14039-f956-4127-a4c2-cf6ef2c73cb6"
      },
      "source": [
        "def get_model_ex_3_1(learning_rate):\n",
        "  \"\"\"Create a model with 1 hidden layer and 128 units, compiled with SGD optimizer.\"\"\"\n",
        "  return get_model(input_dim=input_dim_mnist, layers=1, h=128, optimizer=SGD, lr=learning_rate)\n",
        "\n",
        "# Display a model summary with an arbitrary learning rate\n",
        "get_model_ex_3_1(0.01).summary()"
      ],
      "execution_count": null,
      "outputs": [
        {
          "output_type": "stream",
          "text": [
            "Model: \"sequential\"\n",
            "_________________________________________________________________\n",
            "Layer (type)                 Output Shape              Param #   \n",
            "=================================================================\n",
            "input_layer (Dense)          (None, 10)                7850      \n",
            "_________________________________________________________________\n",
            "dense (Dense)                (None, 128)               1408      \n",
            "_________________________________________________________________\n",
            "output_layer (Dense)         (None, 10)                1290      \n",
            "=================================================================\n",
            "Total params: 10,548\n",
            "Trainable params: 10,548\n",
            "Non-trainable params: 0\n",
            "_________________________________________________________________\n"
          ],
          "name": "stdout"
        }
      ]
    },
    {
      "cell_type": "markdown",
      "metadata": {
        "id": "tqZiIDyzdnWz"
      },
      "source": [
        "#### Exercise 3.2\n",
        "\n",
        "Train the model for at least 50 epochs with different learning rates of stochastic gradient descent (SGD). What happens if the learning rate  𝜂 is very large (for ex.  𝜂=1), and very small (for ex.  𝜂=0.001)? Comment on the fluctuations of the learning curve."
      ]
    },
    {
      "cell_type": "code",
      "metadata": {
        "id": "z227HoAdU7zs"
      },
      "source": [
        "learning_rates = [10**(-e) for e in range(0,4)]\n",
        "\n",
        "histories_sgd = train_with_various_lr( exercise_name='ex_3.2', model=get_model_ex_3_1, learning_rates=learning_rates, optimizer=SGD)"
      ],
      "execution_count": null,
      "outputs": []
    },
    {
      "cell_type": "markdown",
      "metadata": {
        "id": "jwlnJS6JFac4"
      },
      "source": [
        "#### Exercise 3.3\n",
        "\n",
        "Replace the stochastic gradient descent optimizer with the [Adam optimizer](https://keras.io/optimizers/#adam) (you can use the default learning rate)."
      ]
    },
    {
      "cell_type": "code",
      "metadata": {
        "id": "pdGpkqGNYQGc"
      },
      "source": [
        "def get_model_ex_3_3(learning_rate):\n",
        "  \"\"\"Create a model with 1 hidden layer and 128 units, compiled with Adam optimizer.\"\"\"\n",
        "  return get_model(input_dim=input_dim_mnist, layers=1, h=128, optimizer=Adam, lr=learning_rate)"
      ],
      "execution_count": null,
      "outputs": []
    },
    {
      "cell_type": "code",
      "metadata": {
        "id": "yYnNbIbhFXQC"
      },
      "source": [
        "adam_lr = 0.001\n",
        "histories_adam = train_with_various_lr(\n",
        "    exercise_name='ex_3.3', \n",
        "    model = get_model_ex_3_3,\n",
        "    learning_rates=[adam_lr], \n",
        "    optimizer=Adam)"
      ],
      "execution_count": null,
      "outputs": []
    },
    {
      "cell_type": "markdown",
      "metadata": {
        "id": "d4nlIXiGL58O"
      },
      "source": [
        "#### Exercise 3.4\n",
        "\n",
        "Plot the learning curves of SGD with a good learning rate (i.e. in the range [0.01,0.1]) together with the learning curves of Adam in the same figure. Take care of a reasonable labeling of the curves in the plot.\n"
      ]
    },
    {
      "cell_type": "code",
      "metadata": {
        "id": "CJNmTC4fMl4i"
      },
      "source": [
        "sgd_lr = 0.01\n",
        "history_good_sgd = histories_sgd[learning_rates.index(sgd_lr)]\n",
        "\n",
        "comparison_plot_custom(\n",
        "    history_good_sgd, \n",
        "    histories_adam[0], \n",
        "    \"SGD (LR {0})\".format(sgd_lr), \n",
        "    \"Adam(LR {0})\".format(adam_lr), \n",
        "    \"Optimizer Comparison\");"
      ],
      "execution_count": null,
      "outputs": []
    },
    {
      "cell_type": "markdown",
      "metadata": {
        "id": "Rmqo7WOOUOcE"
      },
      "source": [
        "#### Exercise 3.5\n",
        "Explain the qualitative difference between the loss and accuracy curves with respect to signs of overfitting. Report the best validation accuracy achieved for SGD and Adam. Which one is better and why do you think so?\n",
        "\n",
        "(Answered on the specific section, previously.)"
      ]
    },
    {
      "cell_type": "code",
      "metadata": {
        "id": "EUVfy9PHH9eF"
      },
      "source": [
        "print(\"Best validation accuracies:\")\n",
        "print(\"- SGD: {0}.\".format(round(max(history_good_sgd[\"val_accuracy\"]), 2)))\n",
        "print(\"- Adam: {0}.\".format(round(max(histories_adam[0][\"val_accuracy\"]), 2)))"
      ],
      "execution_count": null,
      "outputs": []
    },
    {
      "cell_type": "markdown",
      "metadata": {
        "id": "a1pi3qoPUOcE"
      },
      "source": [
        "### Exercise 3.6\n",
        "Determine the indices of all test images that are misclassified by the fitted model and plot some of them using the function `plot_some_samples`."
      ]
    },
    {
      "cell_type": "code",
      "metadata": {
        "id": "gPZ_3CVIMoSb"
      },
      "source": [
        "model_sgd = load_model('./save/ex_3.2_lr_0.01_model.keras', compile=True);\n",
        "model_adam =load_model('./save/ex_3.3_lr_0.001_model.keras', compile=True);"
      ],
      "execution_count": null,
      "outputs": []
    },
    {
      "cell_type": "code",
      "metadata": {
        "id": "RBRa0vEuUOcF"
      },
      "source": [
        "models = [model_sgd, model_adam]\n",
        "\n",
        "for model in models:\n",
        "    y_pred = model.predict_on_batch(x_mnist_val_flat).argmax(axis=1)\n",
        "    indices = [i for i,v in enumerate(y_pred) if y_pred[i]!=y_mnist_val[i]]\n",
        "\n",
        "    x_wrongly_predicted = np.asarray([x_mnist_val_flat[i] for i in indices])\n",
        "    y_wrongly_predicted = np.asarray([y_pred[i] for i in indices])\n",
        "    y_true_prediction = np.asarray([y_mnist_val[i] for i in indices])\n",
        "    \n",
        "    plot_some_samples_custom(x_wrongly_predicted, y_true_prediction, y_wrongly_predicted, ncols=6, nrows=4);"
      ],
      "execution_count": null,
      "outputs": []
    },
    {
      "cell_type": "markdown",
      "metadata": {
        "id": "-b33M0ko9yZD"
      },
      "source": [
        "#### Exercise 3.7\n",
        "Take $ p = 0.2 $ fraction of the data points from the training dataset of MNIST and change their class labels randomly. (You can sample a random integer from 0 to 9 using `np.random.uniform` and `np.floor`). Train with Adam for 50 or 100 epochs. Plot the learning curves. Do you observe overfitting in the validation accuracy? Does it take longer to converge to perfect training accuracy compare to noise-free MNIST? (2 pts)<br/>"
      ]
    },
    {
      "cell_type": "code",
      "metadata": {
        "id": "AIx3HIYmCUX3"
      },
      "source": [
        "# Train with noisy labels\n",
        "y_mnist_train_1hot_noisy = noise_labels(y_mnist_train_1hot, p=0.2)\n",
        "\n",
        "history_adam_noisy = fit_custom('ex_3.7_lr_{0}'.format(adam_lr),\n",
        "                                model=model,\n",
        "                                x=x_mnist_tr_flat, \n",
        "                                y=y_mnist_train_1hot_noisy, \n",
        "                                validation_data=(x_mnist_val_flat, y_mnist_val_1hot),                                  \n",
        "                                epochs=100, \n",
        "                                callbacks=None,\n",
        "                                verbose=1\n",
        ")"
      ],
      "execution_count": null,
      "outputs": []
    },
    {
      "cell_type": "code",
      "metadata": {
        "id": "ixnEny9WCXn9"
      },
      "source": [
        "plot_history_custom(history_adam_noisy, \"Noisy MNIST learning with Adam (learning rate {0})\".format(adam_lr));"
      ],
      "execution_count": null,
      "outputs": []
    },
    {
      "cell_type": "code",
      "metadata": {
        "id": "b3YDfszKDSPN"
      },
      "source": [
        "comparison_plot_custom(\n",
        "    histories_adam[0], \n",
        "    history_adam_noisy, \n",
        "    \"LR {0}\".format(adam_lr), \n",
        "    \"Noisy, LR {0}\".format(adam_lr), \n",
        "    \"MNIST Adam with and without noise\");"
      ],
      "execution_count": null,
      "outputs": []
    },
    {
      "cell_type": "markdown",
      "metadata": {
        "id": "oENMCYod9yZD"
      },
      "source": [
        "## Exercise 4: Model performance as a function of number of hidden neurons (8 + 2 points)\n",
        "\n",
        "Since the MNIST dataset is almost perfectly solved already by a one-hidden-layer network in Exercise 3, we use the Fashion-MNIST dataset from now on to compare the performances of more complex models. In this exercise, we investigate how the best validation loss and accuracy depends on the number of hidden neurons in a single layer.\n",
        "\n",
        "1. Fit at least 4 models with different number of hidden neurons (i.e. width) between 10 and 1000 to the Fashion-MNIST dataset. Train with Adam for 50-100 epochs. (2 pts)\n",
        "2. Plot the best validation loss and accuracy versus the width. Is the observed trend in accordance with the [general approximation theorem](https://en.wikipedia.org/wiki/Universal_approximation_theorem)? Do you observe an overfitting due to the complexity of the wider networks with more parameters? Report the best validation accuracy. (2 pts)\n",
        "3. Choose $ p \\geq 0.5 $ fraction of the data points from the training dataset of Fashion-MNIST and change their class labels randomly as in Exercise 3. For this noisy Fashion-MNIST dataset, fit at least 4 models with different widths between 10 and 250. Train with Adam for at least 150 epochs. Plot the best validation loss and accuracy vs. width. (2 pts)\n",
        "4. BONUS: Add random Gaussian noise on the input pixels with mean 0 and variance between 0.01-0.5 and use the original labels. For this noisy Fashion-MNIST dataset, fit at least 4 models with different widths between 10 and 250. Train with Adam for at least 150 epochs. Plot the best validation loss and accuracy vs. width. (2 pts)\n",
        "5. Answer to the same questions in 2 for the noisy Fashion-MNIST dataset(s). Comment on the differences between width-performence curves for these two (or three) datasets. (2 pts)\n",
        "\n",
        "In this exercise we fit each model only for one initialization and random seed. In practice one would collect some statistics (e.g. 25-, 50-, 75-percentiles) for each layer size by fitting each model several times with different initializations and the random seeds. You may also want to do this here. It is a good exercise, but not mandatory as it takes quite a bit of computation time."
      ]
    },
    {
      "cell_type": "markdown",
      "metadata": {
        "id": "DcWkSkaj9yZE"
      },
      "source": [
        "**Answer to Question 2** (max 2 sentences):\n",
        "The Universal Approximation Theorem states that a neural network with one hidden layer and unlimited number of hidden neurons can approximate any continuous function for inputs within a specific range and this can also be observed with our example, since the best training accuracy is steadily increasing with the number of hidden neurons.\n",
        "We can see that our different models are overfitting and the overfitting increases with an increasing number of hidden neurons.\n",
        "\n",
        "**Answer to Question 5** (max 3 sentences): \n",
        "Although the training and validation accuracy of exercise 4.3's models is quite low (since the 50% of the training labels got changed), we can still see that the training accuracy rises significantly with the number of hidden neurons (From 12% to 26%). A neural network with many hidden nodes is still able to learn this highly dataset correctly and achieve a high training accuracy (in accordance with the universal approximation theorem).\n",
        "In exercise 4.4 we can see that fitting to this slightly noisy dataset still works pretty well, although the model is also overfitting."
      ]
    },
    {
      "cell_type": "markdown",
      "metadata": {
        "id": "fMpbRWhR-TbE"
      },
      "source": [
        "#### Useful functions"
      ]
    },
    {
      "cell_type": "code",
      "metadata": {
        "id": "kCB4v25AjunD"
      },
      "source": [
        "def adam_various_neurons(exercise_name, x, y, validation_data, numbers_of_hidden_neurons=[10, 50, 100, 500, 1000], epochs=50, lr=0.001):\n",
        "  \"\"\"Train with Adam with various number of hidden neurons.\"\"\"\n",
        "  histories=[]\n",
        "  metrics = {\"neurons\":[], \"min_loss\":[], \"min_val_loss\":[], \"max_accuracy\":[], \"max_val_accuracy\":[]}\n",
        "\n",
        "  for number_of_hidden_neurons in numbers_of_hidden_neurons:\n",
        "    model = get_model(input_dim=input_dim_fash_mnist, layers=1, h=number_of_hidden_neurons, optimizer=Adam, lr=lr)\n",
        "    history = fit_custom(exercise_name + \"_ANN-with-{0}-hidden-neurons\".format(number_of_hidden_neurons),\n",
        "                        model=model, epochs=epochs,\n",
        "                        x=x, \n",
        "                        y=y, \n",
        "                        validation_data=validation_data,                         \n",
        "                        callbacks=get_callbacks(early_stop = False, save_model=False),\n",
        "                        verbose=1)\n",
        "    histories.append(history)\n",
        "    print(metrics)\n",
        "    metrics[\"neurons\"].append(number_of_hidden_neurons)\n",
        "    metrics[\"min_loss\"].append(min(history[\"loss\"]))\n",
        "    metrics[\"min_val_loss\"].append(min(history[\"val_loss\"]))\n",
        "    metrics[\"max_accuracy\"].append(max(history[\"accuracy\"]))\n",
        "    metrics[\"max_val_accuracy\"].append(max(history[\"val_accuracy\"]))\n",
        "\n",
        "  return histories, metrics\n",
        "\n",
        "def plot_metrics(metrics):\n",
        "  \"\"\"Plot given metrics.\"\"\"\n",
        "  fig, (ax1, ax2) = plt.subplots(1, 2)\n",
        "  fig.suptitle('Validation loss and accuracy / Number of hidden neurons')\n",
        "  fig.subplots_adjust(left=None, bottom=None, right=None, top=None, wspace=0.3, hspace=None)\n",
        "  fig.set_figheight(6)\n",
        "  fig.set_figwidth(12)\n",
        "\n",
        "  ax1.set_xscale('log')\n",
        "  ax1.set_ylabel(\"Validation loss\")\n",
        "  ax1.set_xlabel(\"number of hidden neurons\")\n",
        "  ax1.plot(metrics[\"neurons\"], metrics[\"min_loss\"])\n",
        "  ax1.plot(metrics[\"neurons\"], metrics[\"min_val_loss\"])\n",
        "\n",
        "  ax2.set_xscale('log')\n",
        "  ax2.set_ylabel(\"Validation accuracy\")\n",
        "  ax2.set_xlabel(\"number of hidden neurons\")\n",
        "  ax2.plot(metrics[\"neurons\"], metrics[\"max_accuracy\"]);\n",
        "  ax2.plot(metrics[\"neurons\"], metrics[\"max_val_accuracy\"]);\n",
        "  \n",
        "  finalize_standardplot(fig, ax1, ax2)\n"
      ],
      "execution_count": null,
      "outputs": []
    },
    {
      "cell_type": "markdown",
      "metadata": {
        "id": "PKMbJRAKUOcI"
      },
      "source": [
        "#### Exercise 4.1\n",
        "Fit at least 4 models with different number of hidden neurons (i.e. width) between 10 and 1000 to the Fashion-MNIST dataset. Train with Adam for 50-100 epochs. (2 pts)"
      ]
    },
    {
      "cell_type": "code",
      "metadata": {
        "id": "lMLBhavDEQyI"
      },
      "source": [
        "_, metrics = adam_various_neurons(\n",
        "    exercise_name=\"ex_4.1\", \n",
        "    x=x_fash_mnist_tr_flat,\n",
        "    y=y_mnist_fash_train_1hot, \n",
        "    validation_data=(x_fash_mnist_val_flat, y_mnist_fash_val_1hot),\n",
        "    numbers_of_hidden_neurons=[10, 50, 100, 500, 1000],\n",
        "    epochs=50,\n",
        "    lr=adam_lr)"
      ],
      "execution_count": null,
      "outputs": []
    },
    {
      "cell_type": "markdown",
      "metadata": {
        "id": "HveKqgO3UZsT"
      },
      "source": [
        "#### Exercise 4.2\n",
        "Plot the best validation loss and accuracy versus the width. Is the observed trend in accordance with the general approximation theorem? Do you observe an overfitting due to the complexity of the wider networks with more parameters? Report the best validation accuracy. (2 pts)"
      ]
    },
    {
      "cell_type": "code",
      "metadata": {
        "id": "FXQgJ7bsaKzp"
      },
      "source": [
        "plot_metrics(metrics)"
      ],
      "execution_count": null,
      "outputs": []
    },
    {
      "cell_type": "markdown",
      "metadata": {
        "id": "Wt-x74BbUOcJ"
      },
      "source": [
        "#### Exercise 4.3\n",
        "Choose $ p \\geq 0.5 $ fraction of the data points from the training dataset of Fashion-MNIST and change their class labels randomly as in Exercise 3. For this noisy Fashion-MNIST dataset, fit at least 4 models with different widths between 10 and 250. Train with Adam for at least 150 epochs. Plot the best validation loss and accuracy vs. width. (2 pts)"
      ]
    },
    {
      "cell_type": "code",
      "metadata": {
        "id": "kgI2VKaItkWs"
      },
      "source": [
        "numbers_of_hidden_neurons=[10, 50, 100, 150, 200, 250]\n",
        "\n",
        "histories, metrics = adam_various_neurons(\n",
        "    exercise_name=\"ex_4.3\", \n",
        "    x=x_fash_mnist_tr_flat, \n",
        "    y=noise_labels(y_mnist_fash_train_1hot, p=0.5), \n",
        "    validation_data=(x_fash_mnist_val_flat, y_mnist_fash_val_1hot), \n",
        "    numbers_of_hidden_neurons=numbers_of_hidden_neurons,\n",
        "    epochs=150,\n",
        "    lr=adam_lr)"
      ],
      "execution_count": null,
      "outputs": []
    },
    {
      "cell_type": "code",
      "metadata": {
        "id": "nDgRT_n-aTdU"
      },
      "source": [
        "plot_metrics(metrics)"
      ],
      "execution_count": null,
      "outputs": []
    },
    {
      "cell_type": "markdown",
      "metadata": {
        "id": "uRQJHCh5UOcK"
      },
      "source": [
        "### Exercise 4.4\n",
        "Add random Gaussian noise on the input pixels with mean 0 and variance between 0.01-0.5 and use the original labels. For this noisy Fashion-MNIST dataset, fit at least 4 models with different widths between 10 and 250. Train with Adam for at least 150 epochs. Plot the best validation loss and accuracy vs. width. (2 pts)"
      ]
    },
    {
      "cell_type": "code",
      "metadata": {
        "id": "vV52oYnXYDP1"
      },
      "source": [
        "# Noise  pixels\n",
        "x_fash_mnist_tr_flat_noisy = x_fash_mnist_tr_flat + normal(loc=0,scale=0.05,size=(x_fash_mnist_tr_flat.shape))\n",
        "print(\"Initial pixels : {0} to noisy pixels: {1}\".format(x_fash_mnist_tr_flat[0:10], x_fash_mnist_tr_flat_noisy[0:10])"
      ],
      "execution_count": null,
      "outputs": []
    },
    {
      "cell_type": "code",
      "metadata": {
        "id": "JJCpUimg2SYu"
      },
      "source": [
        "_, metrics = adam_various_neurons(\n",
        "    exercise_name=\"ex_4.4\", \n",
        "    x=x_fash_mnist_tr_flat_noisy,\n",
        "    validation_data=(x_fash_mnist_val_flat, y_mnist_fash_val_1hot), \n",
        "    numbers_of_hidden_neurons=numbers_of_hidden_neurons,\n",
        "    epochs=150,\n",
        "    lr=adam_lr)"
      ],
      "execution_count": null,
      "outputs": []
    },
    {
      "cell_type": "code",
      "metadata": {
        "id": "kL1V8A_gF9Gl"
      },
      "source": [
        "for i in range(len(numbers_of_hidden_neurons)):\n",
        "  plot_history_custom(histories[i], \"{0} hidden neurons\".format(numbers_of_hidden_neurons[i]));"
      ],
      "execution_count": null,
      "outputs": []
    },
    {
      "cell_type": "code",
      "metadata": {
        "id": "NPzqei2OUOcL"
      },
      "source": [
        "plot_metrics(metrics)"
      ],
      "execution_count": null,
      "outputs": []
    },
    {
      "cell_type": "markdown",
      "metadata": {
        "id": "O2Gb7mgSUmF7"
      },
      "source": [
        "## Exercise 5: Going deeper: tricks and regularization (10 + 2 points)\n",
        "\n",
        "Adding hidden layers to a deep network does not necessarily lead to a straight-forward improvement of performance. We use Fashion-MNIST dataset in this exercise.  \n",
        "\n",
        "1. Choose a width $ h $ between 50-200 and use at least two hidden layers with $ h $ hidden neurons (each) and train the network for at least 150 epochs. (2 pts)\n",
        "2. Plot the learning curves and report the best validation accuracy. Do you observe overfitting? (2 pts)\n",
        "3. Keep the network at the same size. Use a very large l2 regularization $\\lambda$ (for ex. $\\lambda=1$) and a small one (for ex. $\\lambda=0.001$) on kernel weights and report the validation accuracies. What do you observe?  (2 pts)\n",
        "4. Turn off the $ \\ell_2 $ regularization and use a large dropout rate (for ex. 0.5) and a small one (for ex. 0.05) at all hidden layers and report the validation accuracies. What do you observe? (2 pts)\n",
        "5. BONUS: Try built-in data augmentation methods as a way to regularize: this may include horizontal flipping of the images or small rotations. You can use built-in methods in Keras. Report the augmentation method you used and the best validation accuracy. (2 pts)\n",
        "\n",
        "Note that one needs to cross-validate to find the right regularization parameter for the model you chose and for the dataset at hand. However we do not enforce this hyperparameter search as it takes long computation times but it is a good practice if you try it here. \n",
        "\n",
        "6. Compare the validation accuracies resulting from your attempts to reduce overfitting. Did you improve the validation accuracy? If not, comment on the possible sources of failure. (2 pts)"
      ]
    },
    {
      "cell_type": "markdown",
      "metadata": {
        "id": "LzX8ezheUmF7"
      },
      "source": [
        "**Answer to Question 2** (max 1 sentence):<br/>\n",
        "Overfitting can be observed in the training process since the loss is decreasing but the validation loss is increasing and the validation accuracy levels out after 25 epochs although the training accuracy still keeps increasing.\n",
        "\n",
        "Best validation accuracy: 0.85.\n",
        "\n",
        "**Answer to Question 3** (max 2 sentences): \n",
        "With lambda equals 1 the best validation accuracy is 0, and .9 with lambda equals 0.001 the best validation accuracy is 0.89, almost the same. But with the lambda equals 1, the training converges faster (only after 5 epochs), then the learning has no more effect, and it slightly overfit.\n",
        "\n",
        "**Answer to Question 4** (max 2 sentences): \n",
        "With dropout equals 0.5, the best validation accuracy is 0.64 and with dropout equals 0.05, the best validation accuracy is 0.86. With the dropout at 0.5 the training converges faster (only after 5 epochs), then the learning has no more effect, and then it doesn't learn anymore.\n",
        "\n",
        "**Answer to Question 5 (BONUS)** (max 2 sentences):\n",
        "With data augmentation, the best validation accuracy is 0.88, so similar to previous ones. We notice that the learning is longer.\n",
        "\n",
        "**Answer to Question 6** (max 2 sentences): \n",
        "Our attempts have been succeful to reduce overfitting, but not to improve the validation accuracy.\n"
      ]
    },
    {
      "cell_type": "markdown",
      "metadata": {
        "id": "Q3v2V_woX-r4"
      },
      "source": [
        "### Solution"
      ]
    },
    {
      "cell_type": "markdown",
      "metadata": {
        "id": "h0P5vrtGYmcO"
      },
      "source": [
        "#### Useful functions"
      ]
    },
    {
      "cell_type": "code",
      "metadata": {
        "id": "w082YDpt5foj"
      },
      "source": [
        "def unison_shuffled(a, b):\n",
        "    \"\"\"Shuffle both inputs along first axis in the same way.\"\"\"\n",
        "    assert len(a) == len(b)\n",
        "    p = np.random.permutation(len(a))\n",
        "    return a[p], b[p]\n",
        "\n",
        "def add_channel_to_images(images):\n",
        "  \"\"\"Add a color channel with depth 1 for all images of the dataset.\"\"\"\n",
        "  new_shape = (-1, images.shape[1], images.shape[2], 1)\n",
        "  return np.reshape(images, new_shape)\n",
        "\n",
        "def get_augmented_images_generator(images, labels, batch_size):\n",
        "  \"\"\"Return an image generator for data augmentation.\"\"\"\n",
        "  data_gen_args = dict(featurewise_center=False,\n",
        "                    featurewise_std_normalization=False,\n",
        "                    rotation_range=15,\n",
        "                    width_shift_range=0.1,\n",
        "                    height_shift_range=0.1,\n",
        "                    horizontal_flip=True)\n",
        "  \n",
        "  # set channel depth at 1 \n",
        "  images = add_channel_to_images(images)\n",
        "\n",
        "  image_datagen = ImageDataGenerator(**data_gen_args)\n",
        "  image_datagen.fit(images, augment=True)\n",
        "  image_generator = image_datagen.flow(images, labels, batch_size=batch_size)\n",
        "\n",
        "  return image_generator"
      ],
      "execution_count": null,
      "outputs": []
    },
    {
      "cell_type": "markdown",
      "metadata": {
        "id": "NSQJfhZVUmF8"
      },
      "source": [
        "#### Exercise 5.1\n",
        "Choose a width $ h $ between 50-200 and use at least two hidden layers with $ h $ hidden neurons (each) and train the network for at least 150 epochs.\n",
        "#### Exercise 5.2\n",
        "Plot the learning curves and report the best validation accuracy. Do you observe overfitting?\n"
      ]
    },
    {
      "cell_type": "code",
      "metadata": {
        "colab": {
          "base_uri": "https://localhost:8080/"
        },
        "id": "yhEOqRuMsQsb",
        "outputId": "e0da758b-aec9-428a-8e70-7b8bb2fce512"
      },
      "source": [
        "h = 128\n",
        "history = fit_custom(\n",
        "    exercise_name='ex_5.2_h_{0}'.format(h),\n",
        "    model=get_model(input_dim=input_dim_mnist, layers=2, h=h, optimizer=SGD, lr=0.01), \n",
        "    x=x_fash_mnist_tr_flat, \n",
        "    y=y_mnist_fash_train_1hot, \n",
        "    validation_data=(x_fash_mnist_val_flat, y_mnist_fash_val_1hot), \n",
        "    epochs=150,\n",
        "    verbose=1\n",
        ")"
      ],
      "execution_count": null,
      "outputs": [
        {
          "output_type": "stream",
          "text": [
            "Begin to train the model ex_5.2_h_128.\n",
            "Epoch 1/150\n",
            "1875/1875 [==============================] - 7s 3ms/step - loss: 1.4644 - accuracy: 0.4482 - val_loss: 0.6482 - val_accuracy: 0.7608\n",
            "Epoch 2/150\n",
            "1875/1875 [==============================] - 6s 3ms/step - loss: 0.5978 - accuracy: 0.7881 - val_loss: 0.5519 - val_accuracy: 0.8015\n",
            "Epoch 3/150\n",
            "1875/1875 [==============================] - 6s 3ms/step - loss: 0.5180 - accuracy: 0.8171 - val_loss: 0.5066 - val_accuracy: 0.8193\n",
            "Epoch 4/150\n",
            "1875/1875 [==============================] - 6s 3ms/step - loss: 0.4812 - accuracy: 0.8285 - val_loss: 0.5003 - val_accuracy: 0.8216\n",
            "Epoch 5/150\n",
            "1875/1875 [==============================] - 6s 3ms/step - loss: 0.4579 - accuracy: 0.8368 - val_loss: 0.4686 - val_accuracy: 0.8345\n",
            "Epoch 6/150\n",
            "1875/1875 [==============================] - 6s 3ms/step - loss: 0.4319 - accuracy: 0.8461 - val_loss: 0.5026 - val_accuracy: 0.8195\n",
            "Epoch 7/150\n",
            "1875/1875 [==============================] - 6s 3ms/step - loss: 0.4299 - accuracy: 0.8464 - val_loss: 0.4831 - val_accuracy: 0.8234\n",
            "Epoch 8/150\n",
            "1875/1875 [==============================] - 6s 3ms/step - loss: 0.4073 - accuracy: 0.8566 - val_loss: 0.4437 - val_accuracy: 0.8429\n",
            "Epoch 9/150\n",
            "1875/1875 [==============================] - 6s 3ms/step - loss: 0.4140 - accuracy: 0.8515 - val_loss: 0.4321 - val_accuracy: 0.8463\n",
            "Epoch 10/150\n",
            "1875/1875 [==============================] - 6s 3ms/step - loss: 0.4015 - accuracy: 0.8572 - val_loss: 0.4354 - val_accuracy: 0.8466\n",
            "Epoch 11/150\n",
            "1875/1875 [==============================] - 6s 3ms/step - loss: 0.3913 - accuracy: 0.8611 - val_loss: 0.4343 - val_accuracy: 0.8439\n",
            "Epoch 12/150\n",
            "1875/1875 [==============================] - 6s 3ms/step - loss: 0.3900 - accuracy: 0.8595 - val_loss: 0.4219 - val_accuracy: 0.8512\n",
            "Epoch 13/150\n",
            "1875/1875 [==============================] - 6s 3ms/step - loss: 0.3746 - accuracy: 0.8624 - val_loss: 0.4291 - val_accuracy: 0.8481\n",
            "Epoch 14/150\n",
            "1875/1875 [==============================] - 7s 3ms/step - loss: 0.3773 - accuracy: 0.8635 - val_loss: 0.4120 - val_accuracy: 0.8530\n",
            "Epoch 15/150\n",
            "1875/1875 [==============================] - 6s 3ms/step - loss: 0.3668 - accuracy: 0.8697 - val_loss: 0.4235 - val_accuracy: 0.8483\n",
            "Epoch 16/150\n",
            "1875/1875 [==============================] - 6s 3ms/step - loss: 0.3701 - accuracy: 0.8669 - val_loss: 0.4128 - val_accuracy: 0.8521\n",
            "Epoch 17/150\n",
            "1875/1875 [==============================] - 6s 3ms/step - loss: 0.3650 - accuracy: 0.8670 - val_loss: 0.4081 - val_accuracy: 0.8534\n",
            "Epoch 18/150\n",
            "1875/1875 [==============================] - 6s 3ms/step - loss: 0.3632 - accuracy: 0.8681 - val_loss: 0.4168 - val_accuracy: 0.8495\n",
            "Epoch 19/150\n",
            "1875/1875 [==============================] - 6s 3ms/step - loss: 0.3519 - accuracy: 0.8736 - val_loss: 0.4181 - val_accuracy: 0.8529\n",
            "Epoch 20/150\n",
            "1875/1875 [==============================] - 6s 3ms/step - loss: 0.3549 - accuracy: 0.8712 - val_loss: 0.4080 - val_accuracy: 0.8534\n",
            "Epoch 21/150\n",
            "1875/1875 [==============================] - 6s 3ms/step - loss: 0.3465 - accuracy: 0.8740 - val_loss: 0.4129 - val_accuracy: 0.8542\n",
            "Epoch 22/150\n",
            "1875/1875 [==============================] - 6s 3ms/step - loss: 0.3509 - accuracy: 0.8739 - val_loss: 0.4084 - val_accuracy: 0.8531\n",
            "Epoch 23/150\n",
            "1875/1875 [==============================] - 7s 3ms/step - loss: 0.3437 - accuracy: 0.8755 - val_loss: 0.3969 - val_accuracy: 0.8593\n",
            "Epoch 24/150\n",
            "1875/1875 [==============================] - 6s 3ms/step - loss: 0.3428 - accuracy: 0.8764 - val_loss: 0.3975 - val_accuracy: 0.8580\n",
            "Epoch 25/150\n",
            "1875/1875 [==============================] - 6s 3ms/step - loss: 0.3343 - accuracy: 0.8788 - val_loss: 0.3886 - val_accuracy: 0.8605\n",
            "Epoch 26/150\n",
            "1875/1875 [==============================] - 7s 3ms/step - loss: 0.3371 - accuracy: 0.8758 - val_loss: 0.3958 - val_accuracy: 0.8592\n",
            "Epoch 27/150\n",
            "1875/1875 [==============================] - 7s 3ms/step - loss: 0.3298 - accuracy: 0.8804 - val_loss: 0.3921 - val_accuracy: 0.8616\n",
            "Epoch 28/150\n",
            "1875/1875 [==============================] - 6s 3ms/step - loss: 0.3322 - accuracy: 0.8799 - val_loss: 0.4116 - val_accuracy: 0.8535\n",
            "Epoch 29/150\n",
            "1875/1875 [==============================] - 6s 3ms/step - loss: 0.3288 - accuracy: 0.8789 - val_loss: 0.3868 - val_accuracy: 0.8594\n",
            "Epoch 30/150\n",
            "1875/1875 [==============================] - 6s 3ms/step - loss: 0.3289 - accuracy: 0.8809 - val_loss: 0.4009 - val_accuracy: 0.8555\n",
            "Epoch 31/150\n",
            "1875/1875 [==============================] - 6s 3ms/step - loss: 0.3229 - accuracy: 0.8824 - val_loss: 0.4001 - val_accuracy: 0.8579\n",
            "Epoch 32/150\n",
            "1875/1875 [==============================] - 7s 3ms/step - loss: 0.3165 - accuracy: 0.8833 - val_loss: 0.4009 - val_accuracy: 0.8564\n",
            "Epoch 33/150\n",
            "1875/1875 [==============================] - 6s 3ms/step - loss: 0.3243 - accuracy: 0.8815 - val_loss: 0.3847 - val_accuracy: 0.8643\n",
            "Epoch 34/150\n",
            "1875/1875 [==============================] - 6s 3ms/step - loss: 0.3191 - accuracy: 0.8802 - val_loss: 0.3843 - val_accuracy: 0.8638\n",
            "Epoch 35/150\n",
            "1875/1875 [==============================] - 7s 3ms/step - loss: 0.3193 - accuracy: 0.8846 - val_loss: 0.3925 - val_accuracy: 0.8609\n",
            "Epoch 36/150\n",
            "1875/1875 [==============================] - 6s 3ms/step - loss: 0.3113 - accuracy: 0.8843 - val_loss: 0.3868 - val_accuracy: 0.8622\n",
            "Epoch 37/150\n",
            "1875/1875 [==============================] - 6s 3ms/step - loss: 0.3133 - accuracy: 0.8859 - val_loss: 0.3854 - val_accuracy: 0.8647\n",
            "Epoch 38/150\n",
            "1875/1875 [==============================] - 6s 3ms/step - loss: 0.3126 - accuracy: 0.8845 - val_loss: 0.3755 - val_accuracy: 0.8667\n",
            "Epoch 39/150\n",
            "1875/1875 [==============================] - 7s 3ms/step - loss: 0.3115 - accuracy: 0.8868 - val_loss: 0.3844 - val_accuracy: 0.8637\n",
            "Epoch 40/150\n",
            "1875/1875 [==============================] - 6s 3ms/step - loss: 0.3086 - accuracy: 0.8880 - val_loss: 0.3832 - val_accuracy: 0.8637\n",
            "Epoch 41/150\n",
            "1875/1875 [==============================] - 6s 3ms/step - loss: 0.3065 - accuracy: 0.8889 - val_loss: 0.3931 - val_accuracy: 0.8604\n",
            "Epoch 42/150\n",
            "1875/1875 [==============================] - 6s 3ms/step - loss: 0.3029 - accuracy: 0.8907 - val_loss: 0.3966 - val_accuracy: 0.8548\n",
            "Epoch 43/150\n",
            "1875/1875 [==============================] - 6s 3ms/step - loss: 0.3044 - accuracy: 0.8860 - val_loss: 0.4124 - val_accuracy: 0.8553\n",
            "Epoch 44/150\n",
            "1875/1875 [==============================] - 7s 3ms/step - loss: 0.3104 - accuracy: 0.8868 - val_loss: 0.3830 - val_accuracy: 0.8638\n",
            "Epoch 45/150\n",
            "1875/1875 [==============================] - 6s 3ms/step - loss: 0.2982 - accuracy: 0.8898 - val_loss: 0.3901 - val_accuracy: 0.8593\n",
            "Epoch 46/150\n",
            "1875/1875 [==============================] - 6s 3ms/step - loss: 0.3011 - accuracy: 0.8907 - val_loss: 0.3797 - val_accuracy: 0.8638\n",
            "Epoch 47/150\n",
            "1875/1875 [==============================] - 7s 4ms/step - loss: 0.3020 - accuracy: 0.8894 - val_loss: 0.3823 - val_accuracy: 0.8630\n",
            "Epoch 48/150\n",
            "1875/1875 [==============================] - 7s 3ms/step - loss: 0.3027 - accuracy: 0.8878 - val_loss: 0.3816 - val_accuracy: 0.8630\n",
            "Epoch 49/150\n",
            "1875/1875 [==============================] - 6s 3ms/step - loss: 0.3003 - accuracy: 0.8903 - val_loss: 0.3812 - val_accuracy: 0.8630\n",
            "Epoch 50/150\n",
            "1875/1875 [==============================] - 7s 3ms/step - loss: 0.2997 - accuracy: 0.8883 - val_loss: 0.3935 - val_accuracy: 0.8587\n",
            "Epoch 51/150\n",
            "1875/1875 [==============================] - 6s 3ms/step - loss: 0.3005 - accuracy: 0.8883 - val_loss: 0.3720 - val_accuracy: 0.8700\n",
            "Epoch 52/150\n",
            "1875/1875 [==============================] - 7s 3ms/step - loss: 0.2940 - accuracy: 0.8912 - val_loss: 0.3901 - val_accuracy: 0.8631\n",
            "Epoch 53/150\n",
            "1875/1875 [==============================] - 7s 3ms/step - loss: 0.2937 - accuracy: 0.8922 - val_loss: 0.3842 - val_accuracy: 0.8653\n",
            "Epoch 54/150\n",
            "1875/1875 [==============================] - 7s 3ms/step - loss: 0.2979 - accuracy: 0.8911 - val_loss: 0.3778 - val_accuracy: 0.8678\n",
            "Epoch 55/150\n",
            "1875/1875 [==============================] - 6s 3ms/step - loss: 0.2918 - accuracy: 0.8927 - val_loss: 0.3747 - val_accuracy: 0.8675\n",
            "Epoch 56/150\n",
            "1875/1875 [==============================] - 7s 4ms/step - loss: 0.2901 - accuracy: 0.8947 - val_loss: 0.3879 - val_accuracy: 0.8629\n",
            "Epoch 57/150\n",
            "1875/1875 [==============================] - 7s 4ms/step - loss: 0.2854 - accuracy: 0.8944 - val_loss: 0.3826 - val_accuracy: 0.8633\n",
            "Epoch 58/150\n",
            "1875/1875 [==============================] - 6s 3ms/step - loss: 0.2886 - accuracy: 0.8952 - val_loss: 0.3789 - val_accuracy: 0.8657\n",
            "Epoch 59/150\n",
            "1875/1875 [==============================] - 7s 3ms/step - loss: 0.2877 - accuracy: 0.8932 - val_loss: 0.3777 - val_accuracy: 0.8697\n",
            "Epoch 60/150\n",
            "1875/1875 [==============================] - 6s 3ms/step - loss: 0.2852 - accuracy: 0.8927 - val_loss: 0.3738 - val_accuracy: 0.8686\n",
            "Epoch 61/150\n",
            "1875/1875 [==============================] - 6s 3ms/step - loss: 0.2903 - accuracy: 0.8917 - val_loss: 0.3739 - val_accuracy: 0.8697\n",
            "Epoch 62/150\n",
            "1875/1875 [==============================] - 7s 4ms/step - loss: 0.2866 - accuracy: 0.8939 - val_loss: 0.3774 - val_accuracy: 0.8670\n",
            "Epoch 63/150\n",
            "1875/1875 [==============================] - 6s 3ms/step - loss: 0.2837 - accuracy: 0.8948 - val_loss: 0.3768 - val_accuracy: 0.8694\n",
            "Epoch 64/150\n",
            "1875/1875 [==============================] - 7s 3ms/step - loss: 0.2818 - accuracy: 0.8963 - val_loss: 0.3824 - val_accuracy: 0.8666\n",
            "Epoch 65/150\n",
            "1875/1875 [==============================] - 7s 4ms/step - loss: 0.2795 - accuracy: 0.8972 - val_loss: 0.3956 - val_accuracy: 0.8609\n",
            "Epoch 66/150\n",
            "1875/1875 [==============================] - 6s 3ms/step - loss: 0.2859 - accuracy: 0.8945 - val_loss: 0.3882 - val_accuracy: 0.8648\n",
            "Epoch 67/150\n",
            "1875/1875 [==============================] - 7s 4ms/step - loss: 0.2907 - accuracy: 0.8923 - val_loss: 0.4036 - val_accuracy: 0.8552\n",
            "Epoch 68/150\n",
            "1875/1875 [==============================] - 6s 3ms/step - loss: 0.2770 - accuracy: 0.8967 - val_loss: 0.4059 - val_accuracy: 0.8602\n",
            "Epoch 69/150\n",
            "1875/1875 [==============================] - 6s 3ms/step - loss: 0.2885 - accuracy: 0.8935 - val_loss: 0.3918 - val_accuracy: 0.8637\n",
            "Epoch 70/150\n",
            "1875/1875 [==============================] - 6s 3ms/step - loss: 0.2774 - accuracy: 0.8986 - val_loss: 0.3760 - val_accuracy: 0.8664\n",
            "Epoch 71/150\n",
            "1875/1875 [==============================] - 7s 4ms/step - loss: 0.2782 - accuracy: 0.8962 - val_loss: 0.3796 - val_accuracy: 0.8681\n",
            "Epoch 72/150\n",
            "1875/1875 [==============================] - 6s 3ms/step - loss: 0.2755 - accuracy: 0.8980 - val_loss: 0.3781 - val_accuracy: 0.8681\n",
            "Epoch 73/150\n",
            "1875/1875 [==============================] - 7s 3ms/step - loss: 0.2736 - accuracy: 0.9003 - val_loss: 0.3800 - val_accuracy: 0.8692\n",
            "Epoch 74/150\n",
            "1875/1875 [==============================] - 6s 3ms/step - loss: 0.2748 - accuracy: 0.8985 - val_loss: 0.3815 - val_accuracy: 0.8672\n",
            "Epoch 75/150\n",
            "1875/1875 [==============================] - 6s 3ms/step - loss: 0.2729 - accuracy: 0.8978 - val_loss: 0.3846 - val_accuracy: 0.8680\n",
            "Epoch 76/150\n",
            "1875/1875 [==============================] - 7s 4ms/step - loss: 0.2743 - accuracy: 0.8981 - val_loss: 0.3939 - val_accuracy: 0.8645\n",
            "Epoch 77/150\n",
            "1875/1875 [==============================] - 7s 4ms/step - loss: 0.2728 - accuracy: 0.8988 - val_loss: 0.3893 - val_accuracy: 0.8634\n",
            "Epoch 78/150\n",
            "1875/1875 [==============================] - 7s 4ms/step - loss: 0.2701 - accuracy: 0.9004 - val_loss: 0.3821 - val_accuracy: 0.8686\n",
            "Epoch 79/150\n",
            "1875/1875 [==============================] - 7s 3ms/step - loss: 0.2737 - accuracy: 0.8999 - val_loss: 0.3781 - val_accuracy: 0.8701\n",
            "Epoch 80/150\n",
            "1875/1875 [==============================] - 6s 3ms/step - loss: 0.2701 - accuracy: 0.8988 - val_loss: 0.3860 - val_accuracy: 0.8675\n",
            "Epoch 81/150\n",
            "1875/1875 [==============================] - 7s 3ms/step - loss: 0.2718 - accuracy: 0.9007 - val_loss: 0.3817 - val_accuracy: 0.8690\n",
            "Epoch 82/150\n",
            "1875/1875 [==============================] - 6s 3ms/step - loss: 0.2752 - accuracy: 0.9000 - val_loss: 0.3952 - val_accuracy: 0.8655\n",
            "Epoch 83/150\n",
            "1875/1875 [==============================] - 7s 3ms/step - loss: 0.2707 - accuracy: 0.9009 - val_loss: 0.3907 - val_accuracy: 0.8613\n",
            "Epoch 84/150\n",
            "1875/1875 [==============================] - 6s 3ms/step - loss: 0.2708 - accuracy: 0.8995 - val_loss: 0.3838 - val_accuracy: 0.8689\n",
            "Epoch 85/150\n",
            "1875/1875 [==============================] - 6s 3ms/step - loss: 0.2676 - accuracy: 0.9027 - val_loss: 0.3765 - val_accuracy: 0.8723\n",
            "Epoch 86/150\n",
            "1875/1875 [==============================] - 7s 4ms/step - loss: 0.2675 - accuracy: 0.9003 - val_loss: 0.3878 - val_accuracy: 0.8663\n",
            "Epoch 87/150\n",
            "1875/1875 [==============================] - 6s 3ms/step - loss: 0.2648 - accuracy: 0.9010 - val_loss: 0.3849 - val_accuracy: 0.8688\n",
            "Epoch 88/150\n",
            "1875/1875 [==============================] - 7s 4ms/step - loss: 0.2675 - accuracy: 0.9000 - val_loss: 0.3994 - val_accuracy: 0.8617\n",
            "Epoch 89/150\n",
            "1875/1875 [==============================] - 7s 4ms/step - loss: 0.2622 - accuracy: 0.9016 - val_loss: 0.3761 - val_accuracy: 0.8683\n",
            "Epoch 90/150\n",
            "1875/1875 [==============================] - 6s 3ms/step - loss: 0.2633 - accuracy: 0.9039 - val_loss: 0.3852 - val_accuracy: 0.8665\n",
            "Epoch 91/150\n",
            "1875/1875 [==============================] - 6s 3ms/step - loss: 0.2642 - accuracy: 0.9008 - val_loss: 0.3922 - val_accuracy: 0.8675\n",
            "Epoch 92/150\n",
            "1875/1875 [==============================] - 7s 4ms/step - loss: 0.2671 - accuracy: 0.9010 - val_loss: 0.3946 - val_accuracy: 0.8611\n",
            "Epoch 93/150\n",
            "1875/1875 [==============================] - 6s 3ms/step - loss: 0.2652 - accuracy: 0.9000 - val_loss: 0.3866 - val_accuracy: 0.8695\n",
            "Epoch 94/150\n",
            "1875/1875 [==============================] - 6s 3ms/step - loss: 0.2648 - accuracy: 0.9025 - val_loss: 0.3919 - val_accuracy: 0.8665\n",
            "Epoch 95/150\n",
            "1875/1875 [==============================] - 7s 3ms/step - loss: 0.2634 - accuracy: 0.9032 - val_loss: 0.3807 - val_accuracy: 0.8683\n",
            "Epoch 96/150\n",
            "1875/1875 [==============================] - 6s 3ms/step - loss: 0.2618 - accuracy: 0.9030 - val_loss: 0.3861 - val_accuracy: 0.8669\n",
            "Epoch 97/150\n",
            "1875/1875 [==============================] - 6s 3ms/step - loss: 0.2629 - accuracy: 0.9014 - val_loss: 0.3859 - val_accuracy: 0.8648\n",
            "Epoch 98/150\n",
            "1875/1875 [==============================] - 7s 3ms/step - loss: 0.2671 - accuracy: 0.9008 - val_loss: 0.3970 - val_accuracy: 0.8610\n",
            "Epoch 99/150\n",
            "1875/1875 [==============================] - 7s 3ms/step - loss: 0.2582 - accuracy: 0.9036 - val_loss: 0.3990 - val_accuracy: 0.8623\n",
            "Epoch 100/150\n",
            "1875/1875 [==============================] - 6s 3ms/step - loss: 0.2575 - accuracy: 0.9032 - val_loss: 0.3893 - val_accuracy: 0.8643\n",
            "Epoch 101/150\n",
            "1875/1875 [==============================] - 6s 3ms/step - loss: 0.2602 - accuracy: 0.9028 - val_loss: 0.3964 - val_accuracy: 0.8616\n",
            "Epoch 102/150\n",
            "1875/1875 [==============================] - 6s 3ms/step - loss: 0.2537 - accuracy: 0.9043 - val_loss: 0.3949 - val_accuracy: 0.8647\n",
            "Epoch 103/150\n",
            "1875/1875 [==============================] - 6s 3ms/step - loss: 0.2599 - accuracy: 0.9038 - val_loss: 0.3949 - val_accuracy: 0.8648\n",
            "Epoch 104/150\n",
            "1875/1875 [==============================] - 6s 3ms/step - loss: 0.2589 - accuracy: 0.9038 - val_loss: 0.4048 - val_accuracy: 0.8609\n",
            "Epoch 105/150\n",
            "1875/1875 [==============================] - 6s 3ms/step - loss: 0.2557 - accuracy: 0.9069 - val_loss: 0.3947 - val_accuracy: 0.8666\n",
            "Epoch 106/150\n",
            "1875/1875 [==============================] - 6s 3ms/step - loss: 0.2579 - accuracy: 0.9030 - val_loss: 0.3942 - val_accuracy: 0.8665\n",
            "Epoch 107/150\n",
            "1875/1875 [==============================] - 6s 3ms/step - loss: 0.2567 - accuracy: 0.9038 - val_loss: 0.4067 - val_accuracy: 0.8638\n",
            "Epoch 108/150\n",
            "1875/1875 [==============================] - 7s 4ms/step - loss: 0.2566 - accuracy: 0.9056 - val_loss: 0.4003 - val_accuracy: 0.8651\n",
            "Epoch 109/150\n",
            "1875/1875 [==============================] - 6s 3ms/step - loss: 0.2527 - accuracy: 0.9059 - val_loss: 0.3964 - val_accuracy: 0.8652\n",
            "Epoch 110/150\n",
            "1875/1875 [==============================] - 6s 3ms/step - loss: 0.2489 - accuracy: 0.9068 - val_loss: 0.3891 - val_accuracy: 0.8685\n",
            "Epoch 111/150\n",
            "1875/1875 [==============================] - 7s 4ms/step - loss: 0.2534 - accuracy: 0.9054 - val_loss: 0.3944 - val_accuracy: 0.8654\n",
            "Epoch 112/150\n",
            "1875/1875 [==============================] - 7s 4ms/step - loss: 0.2552 - accuracy: 0.9046 - val_loss: 0.4014 - val_accuracy: 0.8647\n",
            "Epoch 113/150\n",
            "1875/1875 [==============================] - 6s 3ms/step - loss: 0.2506 - accuracy: 0.9062 - val_loss: 0.3893 - val_accuracy: 0.8675\n",
            "Epoch 114/150\n",
            "1875/1875 [==============================] - 7s 4ms/step - loss: 0.2575 - accuracy: 0.9059 - val_loss: 0.3909 - val_accuracy: 0.8676\n",
            "Epoch 115/150\n",
            "1875/1875 [==============================] - 6s 3ms/step - loss: 0.2528 - accuracy: 0.9046 - val_loss: 0.3915 - val_accuracy: 0.8653\n",
            "Epoch 116/150\n",
            "1875/1875 [==============================] - 7s 4ms/step - loss: 0.2494 - accuracy: 0.9065 - val_loss: 0.3996 - val_accuracy: 0.8641\n",
            "Epoch 117/150\n",
            "1875/1875 [==============================] - 6s 3ms/step - loss: 0.2500 - accuracy: 0.9072 - val_loss: 0.3975 - val_accuracy: 0.8681\n",
            "Epoch 118/150\n",
            "1875/1875 [==============================] - 6s 3ms/step - loss: 0.2513 - accuracy: 0.9049 - val_loss: 0.3869 - val_accuracy: 0.8705\n",
            "Epoch 119/150\n",
            "1875/1875 [==============================] - 7s 4ms/step - loss: 0.2455 - accuracy: 0.9082 - val_loss: 0.3920 - val_accuracy: 0.8689\n",
            "Epoch 120/150\n",
            "1875/1875 [==============================] - 7s 4ms/step - loss: 0.2458 - accuracy: 0.9091 - val_loss: 0.3947 - val_accuracy: 0.8695\n",
            "Epoch 121/150\n",
            "1875/1875 [==============================] - 7s 4ms/step - loss: 0.2461 - accuracy: 0.9106 - val_loss: 0.4006 - val_accuracy: 0.8667\n",
            "Epoch 122/150\n",
            "1875/1875 [==============================] - 6s 3ms/step - loss: 0.2429 - accuracy: 0.9098 - val_loss: 0.4026 - val_accuracy: 0.8650\n",
            "Epoch 123/150\n",
            "1875/1875 [==============================] - 6s 3ms/step - loss: 0.2451 - accuracy: 0.9097 - val_loss: 0.3871 - val_accuracy: 0.8693\n",
            "Epoch 124/150\n",
            "1875/1875 [==============================] - 6s 3ms/step - loss: 0.2479 - accuracy: 0.9079 - val_loss: 0.3929 - val_accuracy: 0.8655\n",
            "Epoch 125/150\n",
            "1875/1875 [==============================] - 7s 4ms/step - loss: 0.2473 - accuracy: 0.9077 - val_loss: 0.4101 - val_accuracy: 0.8650\n",
            "Epoch 126/150\n",
            "1875/1875 [==============================] - 7s 4ms/step - loss: 0.2459 - accuracy: 0.9073 - val_loss: 0.3958 - val_accuracy: 0.8641\n",
            "Epoch 127/150\n",
            "1875/1875 [==============================] - 6s 3ms/step - loss: 0.2446 - accuracy: 0.9089 - val_loss: 0.3944 - val_accuracy: 0.8668\n",
            "Epoch 128/150\n",
            "1875/1875 [==============================] - 7s 4ms/step - loss: 0.2450 - accuracy: 0.9102 - val_loss: 0.3930 - val_accuracy: 0.8678\n",
            "Epoch 129/150\n",
            "1875/1875 [==============================] - 6s 3ms/step - loss: 0.2413 - accuracy: 0.9107 - val_loss: 0.4084 - val_accuracy: 0.8653\n",
            "Epoch 130/150\n",
            "1875/1875 [==============================] - 7s 4ms/step - loss: 0.2421 - accuracy: 0.9096 - val_loss: 0.3968 - val_accuracy: 0.8649\n",
            "Epoch 131/150\n",
            "1875/1875 [==============================] - 6s 3ms/step - loss: 0.2427 - accuracy: 0.9099 - val_loss: 0.3961 - val_accuracy: 0.8676\n",
            "Epoch 132/150\n",
            "1875/1875 [==============================] - 7s 4ms/step - loss: 0.2446 - accuracy: 0.9073 - val_loss: 0.3982 - val_accuracy: 0.8665\n",
            "Epoch 133/150\n",
            "1875/1875 [==============================] - 6s 3ms/step - loss: 0.2387 - accuracy: 0.9093 - val_loss: 0.4042 - val_accuracy: 0.8609\n",
            "Epoch 134/150\n",
            "1875/1875 [==============================] - 7s 4ms/step - loss: 0.2420 - accuracy: 0.9098 - val_loss: 0.4144 - val_accuracy: 0.8660\n",
            "Epoch 135/150\n",
            "1875/1875 [==============================] - 7s 4ms/step - loss: 0.2374 - accuracy: 0.9123 - val_loss: 0.4007 - val_accuracy: 0.8654\n",
            "Epoch 136/150\n",
            "1875/1875 [==============================] - 6s 3ms/step - loss: 0.2382 - accuracy: 0.9107 - val_loss: 0.4117 - val_accuracy: 0.8637\n",
            "Epoch 137/150\n",
            "1875/1875 [==============================] - 7s 4ms/step - loss: 0.2342 - accuracy: 0.9138 - val_loss: 0.4029 - val_accuracy: 0.8682\n",
            "Epoch 138/150\n",
            "1875/1875 [==============================] - 6s 3ms/step - loss: 0.2396 - accuracy: 0.9115 - val_loss: 0.4011 - val_accuracy: 0.8680\n",
            "Epoch 139/150\n",
            "1875/1875 [==============================] - 6s 3ms/step - loss: 0.2376 - accuracy: 0.9108 - val_loss: 0.4072 - val_accuracy: 0.8629\n",
            "Epoch 140/150\n",
            "1875/1875 [==============================] - 7s 4ms/step - loss: 0.2413 - accuracy: 0.9095 - val_loss: 0.4009 - val_accuracy: 0.8684\n",
            "Epoch 141/150\n",
            "1875/1875 [==============================] - 7s 4ms/step - loss: 0.2354 - accuracy: 0.9119 - val_loss: 0.4018 - val_accuracy: 0.8671\n",
            "Epoch 142/150\n",
            "1875/1875 [==============================] - 6s 3ms/step - loss: 0.2390 - accuracy: 0.9099 - val_loss: 0.3997 - val_accuracy: 0.8670\n",
            "Epoch 143/150\n",
            "1875/1875 [==============================] - 7s 4ms/step - loss: 0.2339 - accuracy: 0.9135 - val_loss: 0.3970 - val_accuracy: 0.8681\n",
            "Epoch 144/150\n",
            "1875/1875 [==============================] - 6s 3ms/step - loss: 0.2368 - accuracy: 0.9114 - val_loss: 0.3993 - val_accuracy: 0.8660\n",
            "Epoch 145/150\n",
            "1875/1875 [==============================] - 6s 3ms/step - loss: 0.2347 - accuracy: 0.9118 - val_loss: 0.4023 - val_accuracy: 0.8632\n",
            "Epoch 146/150\n",
            "1875/1875 [==============================] - 7s 4ms/step - loss: 0.2315 - accuracy: 0.9136 - val_loss: 0.4070 - val_accuracy: 0.8587\n",
            "Epoch 147/150\n",
            "1875/1875 [==============================] - 7s 4ms/step - loss: 0.2305 - accuracy: 0.9130 - val_loss: 0.4086 - val_accuracy: 0.8664\n",
            "Epoch 148/150\n",
            "1875/1875 [==============================] - 6s 3ms/step - loss: 0.2351 - accuracy: 0.9099 - val_loss: 0.4034 - val_accuracy: 0.8658\n",
            "Epoch 149/150\n",
            "1875/1875 [==============================] - 6s 3ms/step - loss: 0.2295 - accuracy: 0.9143 - val_loss: 0.4059 - val_accuracy: 0.8656\n",
            "Epoch 150/150\n",
            "1875/1875 [==============================] - 7s 4ms/step - loss: 0.2343 - accuracy: 0.9127 - val_loss: 0.4083 - val_accuracy: 0.8679\n",
            "Finished training the model ex_5.2_h_128.\n"
          ],
          "name": "stdout"
        }
      ]
    },
    {
      "cell_type": "code",
      "metadata": {
        "colab": {
          "base_uri": "https://localhost:8080/",
          "height": 302
        },
        "id": "4L99Grhrzw8T",
        "outputId": "e085ba02-105b-4313-f1eb-dec28ed8dbf3"
      },
      "source": [
        "plot_history_custom(history, \"Fashion MNIST learning with two hidden layers (h = {0})\".format(h));"
      ],
      "execution_count": null,
      "outputs": [
        {
          "output_type": "display_data",
          "data": {
            "image/png": "[encoded data removed]",
            "text/plain": [
              "<Figure size 432x288 with 2 Axes>"
            ]
          },
          "metadata": {
            "tags": []
          }
        }
      ]
    },
    {
      "cell_type": "code",
      "metadata": {
        "colab": {
          "base_uri": "https://localhost:8080/"
        },
        "id": "qNh71FOR0OlR",
        "outputId": "e009c80c-7849-4d9b-b0db-0e0b220188a4"
      },
      "source": [
        "print(\"For Fashion MNIST learning with two hidden layers (h = {0}), the best validation accuracy is {0}.\".format(round(max(history[\"val_accuracy\"]), 2)))"
      ],
      "execution_count": null,
      "outputs": [
        {
          "output_type": "stream",
          "text": [
            "For Fashion MNIST learning with two hidden layers (h = 0.87), the best validation accuracy is 0.87.\n"
          ],
          "name": "stdout"
        }
      ]
    },
    {
      "cell_type": "markdown",
      "metadata": {
        "id": "K9nh4tRimYD8"
      },
      "source": [
        "#### Exercise 5.3\n",
        "Keep the network at the same size. Use a very large l2 regularization $\\lambda$ (for ex. $\\lambda=1$) and a small one (for ex. $\\lambda=0.001$) on kernel weights and report the validation accuracies. What do you observe?"
      ]
    },
    {
      "cell_type": "code",
      "metadata": {
        "colab": {
          "base_uri": "https://localhost:8080/"
        },
        "id": "-zuVW_yj2VE0",
        "outputId": "ffc83895-b5f7-4f45-8965-10e1d0d55039"
      },
      "source": [
        "l2 = 1\n",
        "history = fit_custom(exercise_name='ex_5.3.1_h_{0}_l2_{1}'.format(h, l2),\n",
        "                     model=get_model(input_dim=input_dim_mnist, layers=2, h=h, optimizer=SGD, lr=0.01, l2=l2), \n",
        "                     x=x_fash_mnist_tr_flat,\n",
        "                     y=y_mnist_fash_train_1hot, \n",
        "                     validation_data=(x_fash_mnist_val_flat, y_mnist_fash_val_1hot),                      \n",
        "                     epochs=150,\n",
        "                     verbose=1\n",
        ")"
      ],
      "execution_count": null,
      "outputs": [
        {
          "output_type": "stream",
          "text": [
            "Begin to train the model ex_5.3.1_h_128_l2_1.\n",
            "Epoch 1/150\n",
            "1875/1875 [==============================] - 7s 4ms/step - loss: 11.8086 - accuracy: 0.1144 - val_loss: 2.3026 - val_accuracy: 0.1000\n",
            "Epoch 2/150\n",
            "1875/1875 [==============================] - 6s 3ms/step - loss: 2.3027 - accuracy: 0.0977 - val_loss: 2.3026 - val_accuracy: 0.1000\n",
            "Epoch 3/150\n",
            "1875/1875 [==============================] - 7s 4ms/step - loss: 2.3027 - accuracy: 0.0992 - val_loss: 2.3026 - val_accuracy: 0.1000\n",
            "Epoch 4/150\n",
            "1875/1875 [==============================] - 6s 3ms/step - loss: 2.3027 - accuracy: 0.1002 - val_loss: 2.3026 - val_accuracy: 0.1000\n",
            "Epoch 5/150\n",
            "1875/1875 [==============================] - 7s 4ms/step - loss: 2.3027 - accuracy: 0.0978 - val_loss: 2.3026 - val_accuracy: 0.1000\n",
            "Epoch 6/150\n",
            "1875/1875 [==============================] - 6s 3ms/step - loss: 2.3027 - accuracy: 0.0973 - val_loss: 2.3026 - val_accuracy: 0.1000\n",
            "Epoch 7/150\n",
            "1875/1875 [==============================] - 7s 4ms/step - loss: 2.3027 - accuracy: 0.0979 - val_loss: 2.3026 - val_accuracy: 0.1000\n",
            "Epoch 8/150\n",
            "1875/1875 [==============================] - 7s 4ms/step - loss: 2.3026 - accuracy: 0.1032 - val_loss: 2.3026 - val_accuracy: 0.1000\n",
            "Epoch 9/150\n",
            "1875/1875 [==============================] - 7s 4ms/step - loss: 2.3028 - accuracy: 0.0969 - val_loss: 2.3026 - val_accuracy: 0.1000\n",
            "Epoch 10/150\n",
            "1875/1875 [==============================] - 6s 3ms/step - loss: 2.3027 - accuracy: 0.0996 - val_loss: 2.3026 - val_accuracy: 0.1000\n",
            "Epoch 11/150\n",
            "1875/1875 [==============================] - 6s 3ms/step - loss: 2.3027 - accuracy: 0.0965 - val_loss: 2.3026 - val_accuracy: 0.1000\n",
            "Epoch 12/150\n",
            "1875/1875 [==============================] - 6s 3ms/step - loss: 2.3027 - accuracy: 0.0979 - val_loss: 2.3026 - val_accuracy: 0.1000\n",
            "Epoch 13/150\n",
            "1875/1875 [==============================] - 7s 4ms/step - loss: 2.3027 - accuracy: 0.0971 - val_loss: 2.3026 - val_accuracy: 0.1000\n",
            "Epoch 14/150\n",
            "1875/1875 [==============================] - 7s 4ms/step - loss: 2.3027 - accuracy: 0.0995 - val_loss: 2.3026 - val_accuracy: 0.1000\n",
            "Epoch 15/150\n",
            "1875/1875 [==============================] - 6s 3ms/step - loss: 2.3027 - accuracy: 0.0998 - val_loss: 2.3026 - val_accuracy: 0.1000\n",
            "Epoch 16/150\n",
            "1875/1875 [==============================] - 7s 4ms/step - loss: 2.3027 - accuracy: 0.0973 - val_loss: 2.3026 - val_accuracy: 0.1000\n",
            "Epoch 17/150\n",
            "1875/1875 [==============================] - 6s 3ms/step - loss: 2.3027 - accuracy: 0.0967 - val_loss: 2.3026 - val_accuracy: 0.1000\n",
            "Epoch 18/150\n",
            "1875/1875 [==============================] - 7s 4ms/step - loss: 2.3027 - accuracy: 0.0983 - val_loss: 2.3026 - val_accuracy: 0.1000\n",
            "Epoch 19/150\n",
            "1875/1875 [==============================] - 6s 3ms/step - loss: 2.3027 - accuracy: 0.0980 - val_loss: 2.3026 - val_accuracy: 0.1000\n",
            "Epoch 20/150\n",
            "1875/1875 [==============================] - 7s 4ms/step - loss: 2.3026 - accuracy: 0.1000 - val_loss: 2.3026 - val_accuracy: 0.1000\n",
            "Epoch 21/150\n",
            "1875/1875 [==============================] - 7s 4ms/step - loss: 2.3027 - accuracy: 0.0986 - val_loss: 2.3026 - val_accuracy: 0.1000\n",
            "Epoch 22/150\n",
            "1875/1875 [==============================] - 6s 3ms/step - loss: 2.3027 - accuracy: 0.0980 - val_loss: 2.3026 - val_accuracy: 0.1000\n",
            "Epoch 23/150\n",
            "1875/1875 [==============================] - 7s 4ms/step - loss: 2.3027 - accuracy: 0.0995 - val_loss: 2.3026 - val_accuracy: 0.1000\n",
            "Epoch 24/150\n",
            "1875/1875 [==============================] - 7s 4ms/step - loss: 2.3026 - accuracy: 0.1010 - val_loss: 2.3026 - val_accuracy: 0.1000\n",
            "Epoch 25/150\n",
            "1875/1875 [==============================] - 6s 3ms/step - loss: 2.3027 - accuracy: 0.0994 - val_loss: 2.3026 - val_accuracy: 0.1000\n",
            "Epoch 26/150\n",
            "1875/1875 [==============================] - 7s 4ms/step - loss: 2.3027 - accuracy: 0.0977 - val_loss: 2.3026 - val_accuracy: 0.1000\n",
            "Epoch 27/150\n",
            "1875/1875 [==============================] - 7s 4ms/step - loss: 2.3026 - accuracy: 0.0987 - val_loss: 2.3026 - val_accuracy: 0.1000\n",
            "Epoch 28/150\n",
            "1875/1875 [==============================] - 7s 4ms/step - loss: 2.3026 - accuracy: 0.0966 - val_loss: 2.3026 - val_accuracy: 0.1000\n",
            "Epoch 29/150\n",
            "1875/1875 [==============================] - 6s 3ms/step - loss: 2.3027 - accuracy: 0.1004 - val_loss: 2.3026 - val_accuracy: 0.1000\n",
            "Epoch 30/150\n",
            "1875/1875 [==============================] - 7s 4ms/step - loss: 2.3027 - accuracy: 0.0985 - val_loss: 2.3026 - val_accuracy: 0.1000\n",
            "Epoch 31/150\n",
            "1875/1875 [==============================] - 6s 3ms/step - loss: 2.3027 - accuracy: 0.0995 - val_loss: 2.3026 - val_accuracy: 0.1000\n",
            "Epoch 32/150\n",
            "1875/1875 [==============================] - 6s 3ms/step - loss: 2.3027 - accuracy: 0.0954 - val_loss: 2.3026 - val_accuracy: 0.1000\n",
            "Epoch 33/150\n",
            "1875/1875 [==============================] - 6s 3ms/step - loss: 2.3026 - accuracy: 0.1009 - val_loss: 2.3026 - val_accuracy: 0.1000\n",
            "Epoch 34/150\n",
            "1875/1875 [==============================] - 6s 3ms/step - loss: 2.3027 - accuracy: 0.1001 - val_loss: 2.3026 - val_accuracy: 0.1000\n",
            "Epoch 35/150\n",
            "1875/1875 [==============================] - 6s 3ms/step - loss: 2.3027 - accuracy: 0.0992 - val_loss: 2.3026 - val_accuracy: 0.1000\n",
            "Epoch 36/150\n",
            "1875/1875 [==============================] - 6s 3ms/step - loss: 2.3026 - accuracy: 0.0980 - val_loss: 2.3026 - val_accuracy: 0.1000\n",
            "Epoch 37/150\n",
            "1875/1875 [==============================] - 7s 4ms/step - loss: 2.3026 - accuracy: 0.1021 - val_loss: 2.3026 - val_accuracy: 0.1000\n",
            "Epoch 38/150\n",
            "1875/1875 [==============================] - 6s 3ms/step - loss: 2.3027 - accuracy: 0.0970 - val_loss: 2.3026 - val_accuracy: 0.1000\n",
            "Epoch 39/150\n",
            "1875/1875 [==============================] - 7s 4ms/step - loss: 2.3027 - accuracy: 0.0980 - val_loss: 2.3026 - val_accuracy: 0.1000\n",
            "Epoch 40/150\n",
            "1875/1875 [==============================] - 7s 4ms/step - loss: 2.3027 - accuracy: 0.0983 - val_loss: 2.3026 - val_accuracy: 0.1000\n",
            "Epoch 41/150\n",
            "1875/1875 [==============================] - 7s 4ms/step - loss: 2.3027 - accuracy: 0.0987 - val_loss: 2.3026 - val_accuracy: 0.1000\n",
            "Epoch 42/150\n",
            "1875/1875 [==============================] - 7s 4ms/step - loss: 2.3027 - accuracy: 0.0995 - val_loss: 2.3026 - val_accuracy: 0.1000\n",
            "Epoch 43/150\n",
            "1875/1875 [==============================] - 7s 4ms/step - loss: 2.3027 - accuracy: 0.1019 - val_loss: 2.3026 - val_accuracy: 0.1000\n",
            "Epoch 44/150\n",
            "1875/1875 [==============================] - 6s 3ms/step - loss: 2.3027 - accuracy: 0.0973 - val_loss: 2.3026 - val_accuracy: 0.1000\n",
            "Epoch 45/150\n",
            "1875/1875 [==============================] - 7s 4ms/step - loss: 2.3027 - accuracy: 0.0971 - val_loss: 2.3026 - val_accuracy: 0.1000\n",
            "Epoch 46/150\n",
            "1875/1875 [==============================] - 6s 3ms/step - loss: 2.3027 - accuracy: 0.1011 - val_loss: 2.3026 - val_accuracy: 0.1000\n",
            "Epoch 47/150\n",
            "1875/1875 [==============================] - 7s 4ms/step - loss: 2.3026 - accuracy: 0.0979 - val_loss: 2.3026 - val_accuracy: 0.1000\n",
            "Epoch 48/150\n",
            "1875/1875 [==============================] - 7s 4ms/step - loss: 2.3027 - accuracy: 0.0981 - val_loss: 2.3026 - val_accuracy: 0.1000\n",
            "Epoch 49/150\n",
            "1875/1875 [==============================] - 7s 4ms/step - loss: 2.3027 - accuracy: 0.0965 - val_loss: 2.3026 - val_accuracy: 0.1000\n",
            "Epoch 50/150\n",
            "1875/1875 [==============================] - 7s 4ms/step - loss: 2.3026 - accuracy: 0.1013 - val_loss: 2.3026 - val_accuracy: 0.1000\n",
            "Epoch 51/150\n",
            "1875/1875 [==============================] - 7s 4ms/step - loss: 2.3026 - accuracy: 0.1020 - val_loss: 2.3026 - val_accuracy: 0.1000\n",
            "Epoch 52/150\n",
            "1875/1875 [==============================] - 6s 3ms/step - loss: 2.3027 - accuracy: 0.0984 - val_loss: 2.3026 - val_accuracy: 0.1000\n",
            "Epoch 53/150\n",
            "1875/1875 [==============================] - 7s 4ms/step - loss: 2.3027 - accuracy: 0.0993 - val_loss: 2.3026 - val_accuracy: 0.1000\n",
            "Epoch 54/150\n",
            "1875/1875 [==============================] - 7s 4ms/step - loss: 2.3027 - accuracy: 0.0964 - val_loss: 2.3026 - val_accuracy: 0.1000\n",
            "Epoch 55/150\n",
            "1875/1875 [==============================] - 7s 4ms/step - loss: 2.3027 - accuracy: 0.1005 - val_loss: 2.3026 - val_accuracy: 0.1000\n",
            "Epoch 56/150\n",
            "1875/1875 [==============================] - 7s 4ms/step - loss: 2.3027 - accuracy: 0.1000 - val_loss: 2.3026 - val_accuracy: 0.1000\n",
            "Epoch 57/150\n",
            "1875/1875 [==============================] - 7s 4ms/step - loss: 2.3027 - accuracy: 0.0976 - val_loss: 2.3026 - val_accuracy: 0.1000\n",
            "Epoch 58/150\n",
            "1875/1875 [==============================] - 7s 4ms/step - loss: 2.3027 - accuracy: 0.0996 - val_loss: 2.3026 - val_accuracy: 0.1000\n",
            "Epoch 59/150\n",
            "1875/1875 [==============================] - 7s 4ms/step - loss: 2.3027 - accuracy: 0.0980 - val_loss: 2.3026 - val_accuracy: 0.1000\n",
            "Epoch 60/150\n",
            "1875/1875 [==============================] - 7s 4ms/step - loss: 2.3027 - accuracy: 0.0983 - val_loss: 2.3026 - val_accuracy: 0.1000\n",
            "Epoch 61/150\n",
            "1875/1875 [==============================] - 6s 3ms/step - loss: 2.3027 - accuracy: 0.0989 - val_loss: 2.3026 - val_accuracy: 0.1000\n",
            "Epoch 62/150\n",
            "1875/1875 [==============================] - 6s 3ms/step - loss: 2.3027 - accuracy: 0.0989 - val_loss: 2.3026 - val_accuracy: 0.1000\n",
            "Epoch 63/150\n",
            "1875/1875 [==============================] - 6s 3ms/step - loss: 2.3027 - accuracy: 0.0963 - val_loss: 2.3026 - val_accuracy: 0.1000\n",
            "Epoch 64/150\n",
            "1875/1875 [==============================] - 7s 4ms/step - loss: 2.3027 - accuracy: 0.0970 - val_loss: 2.3026 - val_accuracy: 0.1000\n",
            "Epoch 65/150\n",
            "1875/1875 [==============================] - 6s 3ms/step - loss: 2.3027 - accuracy: 0.0997 - val_loss: 2.3026 - val_accuracy: 0.1000\n",
            "Epoch 66/150\n",
            "1875/1875 [==============================] - 7s 4ms/step - loss: 2.3027 - accuracy: 0.0987 - val_loss: 2.3026 - val_accuracy: 0.1000\n",
            "Epoch 67/150\n",
            "1875/1875 [==============================] - 6s 3ms/step - loss: 2.3027 - accuracy: 0.0998 - val_loss: 2.3026 - val_accuracy: 0.1000\n",
            "Epoch 68/150\n",
            "1875/1875 [==============================] - 7s 4ms/step - loss: 2.3026 - accuracy: 0.1000 - val_loss: 2.3026 - val_accuracy: 0.1000\n",
            "Epoch 69/150\n",
            "1875/1875 [==============================] - 7s 4ms/step - loss: 2.3027 - accuracy: 0.0990 - val_loss: 2.3026 - val_accuracy: 0.1000\n",
            "Epoch 70/150\n",
            "1875/1875 [==============================] - 7s 4ms/step - loss: 2.3027 - accuracy: 0.0996 - val_loss: 2.3026 - val_accuracy: 0.1000\n",
            "Epoch 71/150\n",
            "1875/1875 [==============================] - 7s 4ms/step - loss: 2.3027 - accuracy: 0.0987 - val_loss: 2.3026 - val_accuracy: 0.1000\n",
            "Epoch 72/150\n",
            "1875/1875 [==============================] - 6s 3ms/step - loss: 2.3027 - accuracy: 0.0967 - val_loss: 2.3026 - val_accuracy: 0.1000\n",
            "Epoch 73/150\n",
            "1875/1875 [==============================] - 6s 3ms/step - loss: 2.3026 - accuracy: 0.1001 - val_loss: 2.3026 - val_accuracy: 0.1000\n",
            "Epoch 74/150\n",
            "1875/1875 [==============================] - 7s 4ms/step - loss: 2.3027 - accuracy: 0.0992 - val_loss: 2.3026 - val_accuracy: 0.1000\n",
            "Epoch 75/150\n",
            "1875/1875 [==============================] - 6s 3ms/step - loss: 2.3027 - accuracy: 0.0976 - val_loss: 2.3026 - val_accuracy: 0.1000\n",
            "Epoch 76/150\n",
            "1875/1875 [==============================] - 7s 4ms/step - loss: 2.3027 - accuracy: 0.0980 - val_loss: 2.3026 - val_accuracy: 0.1000\n",
            "Epoch 77/150\n",
            "1875/1875 [==============================] - 7s 4ms/step - loss: 2.3027 - accuracy: 0.0985 - val_loss: 2.3026 - val_accuracy: 0.1000\n",
            "Epoch 78/150\n",
            "1875/1875 [==============================] - 6s 3ms/step - loss: 2.3027 - accuracy: 0.1007 - val_loss: 2.3026 - val_accuracy: 0.1000\n",
            "Epoch 79/150\n",
            "1875/1875 [==============================] - 7s 4ms/step - loss: 2.3026 - accuracy: 0.1026 - val_loss: 2.3026 - val_accuracy: 0.1000\n",
            "Epoch 80/150\n",
            "1875/1875 [==============================] - 6s 3ms/step - loss: 2.3027 - accuracy: 0.0983 - val_loss: 2.3026 - val_accuracy: 0.1000\n",
            "Epoch 81/150\n",
            "1875/1875 [==============================] - 6s 3ms/step - loss: 2.3027 - accuracy: 0.0989 - val_loss: 2.3026 - val_accuracy: 0.1000\n",
            "Epoch 82/150\n",
            "1875/1875 [==============================] - 6s 3ms/step - loss: 2.3027 - accuracy: 0.1007 - val_loss: 2.3026 - val_accuracy: 0.1000\n",
            "Epoch 83/150\n",
            "1875/1875 [==============================] - 7s 4ms/step - loss: 2.3027 - accuracy: 0.0963 - val_loss: 2.3026 - val_accuracy: 0.1000\n",
            "Epoch 84/150\n",
            "1875/1875 [==============================] - 6s 3ms/step - loss: 2.3027 - accuracy: 0.0988 - val_loss: 2.3026 - val_accuracy: 0.1000\n",
            "Epoch 85/150\n",
            "1875/1875 [==============================] - 7s 4ms/step - loss: 2.3027 - accuracy: 0.0985 - val_loss: 2.3026 - val_accuracy: 0.1000\n",
            "Epoch 86/150\n",
            "1875/1875 [==============================] - 7s 4ms/step - loss: 2.3027 - accuracy: 0.0988 - val_loss: 2.3026 - val_accuracy: 0.1000\n",
            "Epoch 87/150\n",
            "1875/1875 [==============================] - 6s 3ms/step - loss: 2.3027 - accuracy: 0.0975 - val_loss: 2.3026 - val_accuracy: 0.1000\n",
            "Epoch 88/150\n",
            "1875/1875 [==============================] - 7s 4ms/step - loss: 2.3027 - accuracy: 0.0998 - val_loss: 2.3026 - val_accuracy: 0.1000\n",
            "Epoch 89/150\n",
            "1875/1875 [==============================] - 6s 3ms/step - loss: 2.3027 - accuracy: 0.0998 - val_loss: 2.3026 - val_accuracy: 0.1000\n",
            "Epoch 90/150\n",
            "1875/1875 [==============================] - 6s 3ms/step - loss: 2.3027 - accuracy: 0.0995 - val_loss: 2.3026 - val_accuracy: 0.1000\n",
            "Epoch 91/150\n",
            "1875/1875 [==============================] - 6s 3ms/step - loss: 2.3026 - accuracy: 0.0978 - val_loss: 2.3026 - val_accuracy: 0.1000\n",
            "Epoch 92/150\n",
            "1875/1875 [==============================] - 7s 4ms/step - loss: 2.3027 - accuracy: 0.0998 - val_loss: 2.3026 - val_accuracy: 0.1000\n",
            "Epoch 93/150\n",
            "1875/1875 [==============================] - 7s 4ms/step - loss: 2.3027 - accuracy: 0.0945 - val_loss: 2.3026 - val_accuracy: 0.1000\n",
            "Epoch 94/150\n",
            "1875/1875 [==============================] - 7s 3ms/step - loss: 2.3027 - accuracy: 0.0980 - val_loss: 2.3026 - val_accuracy: 0.1000\n",
            "Epoch 95/150\n",
            "1875/1875 [==============================] - 7s 3ms/step - loss: 2.3027 - accuracy: 0.1011 - val_loss: 2.3026 - val_accuracy: 0.1000\n",
            "Epoch 96/150\n",
            "1875/1875 [==============================] - 7s 4ms/step - loss: 2.3027 - accuracy: 0.0975 - val_loss: 2.3026 - val_accuracy: 0.1000\n",
            "Epoch 97/150\n",
            "1875/1875 [==============================] - 6s 3ms/step - loss: 2.3027 - accuracy: 0.1001 - val_loss: 2.3026 - val_accuracy: 0.1000\n",
            "Epoch 98/150\n",
            "1875/1875 [==============================] - 6s 3ms/step - loss: 2.3027 - accuracy: 0.0985 - val_loss: 2.3026 - val_accuracy: 0.1000\n",
            "Epoch 99/150\n",
            "1875/1875 [==============================] - 6s 3ms/step - loss: 2.3027 - accuracy: 0.0979 - val_loss: 2.3026 - val_accuracy: 0.1000\n",
            "Epoch 100/150\n",
            "1875/1875 [==============================] - 7s 4ms/step - loss: 2.3027 - accuracy: 0.1007 - val_loss: 2.3026 - val_accuracy: 0.1000\n",
            "Epoch 101/150\n",
            "1875/1875 [==============================] - 7s 4ms/step - loss: 2.3027 - accuracy: 0.0987 - val_loss: 2.3026 - val_accuracy: 0.1000\n",
            "Epoch 102/150\n",
            "1875/1875 [==============================] - 7s 4ms/step - loss: 2.3027 - accuracy: 0.1002 - val_loss: 2.3026 - val_accuracy: 0.1000\n",
            "Epoch 103/150\n",
            "1875/1875 [==============================] - 6s 3ms/step - loss: 2.3027 - accuracy: 0.0965 - val_loss: 2.3026 - val_accuracy: 0.1000\n",
            "Epoch 104/150\n",
            "1875/1875 [==============================] - 7s 3ms/step - loss: 2.3027 - accuracy: 0.0971 - val_loss: 2.3026 - val_accuracy: 0.1000\n",
            "Epoch 105/150\n",
            "1875/1875 [==============================] - 7s 4ms/step - loss: 2.3027 - accuracy: 0.0993 - val_loss: 2.3026 - val_accuracy: 0.1000\n",
            "Epoch 106/150\n",
            "1875/1875 [==============================] - 7s 3ms/step - loss: 2.3027 - accuracy: 0.0996 - val_loss: 2.3026 - val_accuracy: 0.1000\n",
            "Epoch 107/150\n",
            "1875/1875 [==============================] - 7s 4ms/step - loss: 2.3027 - accuracy: 0.0992 - val_loss: 2.3026 - val_accuracy: 0.1000\n",
            "Epoch 108/150\n",
            "1875/1875 [==============================] - 7s 4ms/step - loss: 2.3027 - accuracy: 0.0973 - val_loss: 2.3026 - val_accuracy: 0.1000\n",
            "Epoch 109/150\n",
            "1875/1875 [==============================] - 6s 3ms/step - loss: 2.3027 - accuracy: 0.0980 - val_loss: 2.3026 - val_accuracy: 0.1000\n",
            "Epoch 110/150\n",
            "1875/1875 [==============================] - 7s 4ms/step - loss: 2.3027 - accuracy: 0.0982 - val_loss: 2.3026 - val_accuracy: 0.1000\n",
            "Epoch 111/150\n",
            "1875/1875 [==============================] - 7s 4ms/step - loss: 2.3027 - accuracy: 0.0951 - val_loss: 2.3026 - val_accuracy: 0.1000\n",
            "Epoch 112/150\n",
            "1875/1875 [==============================] - 6s 3ms/step - loss: 2.3027 - accuracy: 0.1009 - val_loss: 2.3026 - val_accuracy: 0.1000\n",
            "Epoch 113/150\n",
            "1875/1875 [==============================] - 7s 4ms/step - loss: 2.3027 - accuracy: 0.0972 - val_loss: 2.3026 - val_accuracy: 0.1000\n",
            "Epoch 114/150\n",
            "1875/1875 [==============================] - 7s 3ms/step - loss: 2.3026 - accuracy: 0.0979 - val_loss: 2.3026 - val_accuracy: 0.1000\n",
            "Epoch 115/150\n",
            "1875/1875 [==============================] - 7s 4ms/step - loss: 2.3027 - accuracy: 0.0967 - val_loss: 2.3026 - val_accuracy: 0.1000\n",
            "Epoch 116/150\n",
            "1875/1875 [==============================] - 7s 4ms/step - loss: 2.3027 - accuracy: 0.0975 - val_loss: 2.3026 - val_accuracy: 0.1000\n",
            "Epoch 117/150\n",
            "1875/1875 [==============================] - 6s 3ms/step - loss: 2.3027 - accuracy: 0.0972 - val_loss: 2.3026 - val_accuracy: 0.1000\n",
            "Epoch 118/150\n",
            "1875/1875 [==============================] - 7s 4ms/step - loss: 2.3026 - accuracy: 0.1007 - val_loss: 2.3026 - val_accuracy: 0.1000\n",
            "Epoch 119/150\n",
            "1875/1875 [==============================] - 7s 3ms/step - loss: 2.3027 - accuracy: 0.1005 - val_loss: 2.3026 - val_accuracy: 0.1000\n",
            "Epoch 120/150\n",
            "1875/1875 [==============================] - 7s 3ms/step - loss: 2.3027 - accuracy: 0.0992 - val_loss: 2.3026 - val_accuracy: 0.1000\n",
            "Epoch 121/150\n",
            "1875/1875 [==============================] - 7s 4ms/step - loss: 2.3027 - accuracy: 0.0979 - val_loss: 2.3026 - val_accuracy: 0.1000\n",
            "Epoch 122/150\n",
            "1875/1875 [==============================] - 6s 3ms/step - loss: 2.3027 - accuracy: 0.0994 - val_loss: 2.3026 - val_accuracy: 0.1000\n",
            "Epoch 123/150\n",
            "1875/1875 [==============================] - 7s 4ms/step - loss: 2.3027 - accuracy: 0.1017 - val_loss: 2.3026 - val_accuracy: 0.1000\n",
            "Epoch 124/150\n",
            "1875/1875 [==============================] - 7s 4ms/step - loss: 2.3027 - accuracy: 0.0988 - val_loss: 2.3026 - val_accuracy: 0.1000\n",
            "Epoch 125/150\n",
            "1875/1875 [==============================] - 6s 3ms/step - loss: 2.3027 - accuracy: 0.0991 - val_loss: 2.3026 - val_accuracy: 0.1000\n",
            "Epoch 126/150\n",
            "1875/1875 [==============================] - 7s 4ms/step - loss: 2.3026 - accuracy: 0.1020 - val_loss: 2.3026 - val_accuracy: 0.1000\n",
            "Epoch 127/150\n",
            "1875/1875 [==============================] - 7s 4ms/step - loss: 2.3027 - accuracy: 0.0986 - val_loss: 2.3026 - val_accuracy: 0.1000\n",
            "Epoch 128/150\n",
            "1875/1875 [==============================] - 6s 3ms/step - loss: 2.3027 - accuracy: 0.1004 - val_loss: 2.3026 - val_accuracy: 0.1000\n",
            "Epoch 129/150\n",
            "1875/1875 [==============================] - 7s 4ms/step - loss: 2.3027 - accuracy: 0.1002 - val_loss: 2.3026 - val_accuracy: 0.1000\n",
            "Epoch 130/150\n",
            "1875/1875 [==============================] - 7s 4ms/step - loss: 2.3027 - accuracy: 0.0981 - val_loss: 2.3026 - val_accuracy: 0.1000\n",
            "Epoch 131/150\n",
            "1875/1875 [==============================] - 6s 3ms/step - loss: 2.3027 - accuracy: 0.0986 - val_loss: 2.3026 - val_accuracy: 0.1000\n",
            "Epoch 132/150\n",
            "1875/1875 [==============================] - 7s 4ms/step - loss: 2.3026 - accuracy: 0.1032 - val_loss: 2.3026 - val_accuracy: 0.1000\n",
            "Epoch 133/150\n",
            "1875/1875 [==============================] - 7s 3ms/step - loss: 2.3026 - accuracy: 0.0985 - val_loss: 2.3026 - val_accuracy: 0.1000\n",
            "Epoch 134/150\n",
            "1875/1875 [==============================] - 7s 4ms/step - loss: 2.3027 - accuracy: 0.0987 - val_loss: 2.3026 - val_accuracy: 0.1000\n",
            "Epoch 135/150\n",
            "1875/1875 [==============================] - 6s 3ms/step - loss: 2.3027 - accuracy: 0.0993 - val_loss: 2.3026 - val_accuracy: 0.1000\n",
            "Epoch 136/150\n",
            "1875/1875 [==============================] - 7s 3ms/step - loss: 2.3027 - accuracy: 0.0977 - val_loss: 2.3026 - val_accuracy: 0.1000\n",
            "Epoch 137/150\n",
            "1875/1875 [==============================] - 7s 4ms/step - loss: 2.3027 - accuracy: 0.0989 - val_loss: 2.3026 - val_accuracy: 0.1000\n",
            "Epoch 138/150\n",
            "1875/1875 [==============================] - 7s 4ms/step - loss: 2.3027 - accuracy: 0.0994 - val_loss: 2.3026 - val_accuracy: 0.1000\n",
            "Epoch 139/150\n",
            "1875/1875 [==============================] - 7s 4ms/step - loss: 2.3026 - accuracy: 0.1011 - val_loss: 2.3026 - val_accuracy: 0.1000\n",
            "Epoch 140/150\n",
            "1875/1875 [==============================] - 7s 4ms/step - loss: 2.3026 - accuracy: 0.1009 - val_loss: 2.3026 - val_accuracy: 0.1000\n",
            "Epoch 141/150\n",
            "1875/1875 [==============================] - 7s 4ms/step - loss: 2.3027 - accuracy: 0.0980 - val_loss: 2.3026 - val_accuracy: 0.1000\n",
            "Epoch 142/150\n",
            "1875/1875 [==============================] - 7s 3ms/step - loss: 2.3026 - accuracy: 0.1018 - val_loss: 2.3026 - val_accuracy: 0.1000\n",
            "Epoch 143/150\n",
            "1875/1875 [==============================] - 7s 4ms/step - loss: 2.3027 - accuracy: 0.0970 - val_loss: 2.3026 - val_accuracy: 0.1000\n",
            "Epoch 144/150\n",
            "1875/1875 [==============================] - 7s 4ms/step - loss: 2.3027 - accuracy: 0.0985 - val_loss: 2.3026 - val_accuracy: 0.1000\n",
            "Epoch 145/150\n",
            "1875/1875 [==============================] - 7s 3ms/step - loss: 2.3027 - accuracy: 0.1004 - val_loss: 2.3026 - val_accuracy: 0.1000\n",
            "Epoch 146/150\n",
            "1875/1875 [==============================] - 7s 3ms/step - loss: 2.3026 - accuracy: 0.1004 - val_loss: 2.3026 - val_accuracy: 0.1000\n",
            "Epoch 147/150\n",
            "1875/1875 [==============================] - 7s 4ms/step - loss: 2.3027 - accuracy: 0.0958 - val_loss: 2.3026 - val_accuracy: 0.1000\n",
            "Epoch 148/150\n",
            "1875/1875 [==============================] - 7s 3ms/step - loss: 2.3027 - accuracy: 0.0976 - val_loss: 2.3026 - val_accuracy: 0.1000\n",
            "Epoch 149/150\n",
            "1875/1875 [==============================] - 7s 4ms/step - loss: 2.3027 - accuracy: 0.1009 - val_loss: 2.3026 - val_accuracy: 0.1000\n",
            "Epoch 150/150\n",
            "1875/1875 [==============================] - 7s 4ms/step - loss: 2.3026 - accuracy: 0.0997 - val_loss: 2.3026 - val_accuracy: 0.1000\n",
            "Finished training the model ex_5.3.1_h_128_l2_1.\n"
          ],
          "name": "stdout"
        }
      ]
    },
    {
      "cell_type": "code",
      "metadata": {
        "id": "CQ_RLy0s3f-K"
      },
      "source": [
        "plot_history_custom(history, \"Fashion MNIST learning with two hidden layers (h = {0}, l2 = {1})\".format(h, l2));"
      ],
      "execution_count": null,
      "outputs": []
    },
    {
      "cell_type": "code",
      "metadata": {
        "id": "u_DO4dzj55vS"
      },
      "source": [
        "print(\"With l2 regularization (lambda = {0}), the best validation accuracy is {01}.\".format(l2, round(max(history[\"val_accuracy\"]), 2)))"
      ],
      "execution_count": null,
      "outputs": []
    },
    {
      "cell_type": "code",
      "metadata": {
        "colab": {
          "base_uri": "https://localhost:8080/"
        },
        "id": "2lSdCB306BFC",
        "outputId": "ae664da0-e328-4162-d9f3-3cada8e82c21"
      },
      "source": [
        "l2 = 0.001\n",
        "history = fit_custom(exercise_name='ex_5.3.2_h_{0}_l2_{1}'.format(h, l2),\n",
        "                     model=get_model(input_dim=input_dim_mnist, layers=2, h=h, optimizer=SGD, lr=0.01, l2=l2),\n",
        "                     x=x_fash_mnist_tr_flat, \n",
        "                     y=y_mnist_fash_train_1hot, \n",
        "                     validation_data=(x_fash_mnist_val_flat, y_mnist_fash_val_1hot),                      \n",
        "                     epochs=150,\n",
        "                     verbose=1\n",
        ")"
      ],
      "execution_count": null,
      "outputs": [
        {
          "output_type": "stream",
          "text": [
            "Begin to train the model ex_5.3.2_h_128_l2_0.001.\n",
            "Epoch 1/150\n",
            "1875/1875 [==============================] - 8s 4ms/step - loss: 1.4967 - accuracy: 0.5348 - val_loss: 0.7893 - val_accuracy: 0.7680\n",
            "Epoch 2/150\n",
            "1875/1875 [==============================] - 7s 4ms/step - loss: 0.7386 - accuracy: 0.7910 - val_loss: 0.6956 - val_accuracy: 0.8052\n",
            "Epoch 3/150\n",
            "1875/1875 [==============================] - 6s 3ms/step - loss: 0.6576 - accuracy: 0.8196 - val_loss: 0.6567 - val_accuracy: 0.8154\n",
            "Epoch 4/150\n",
            "1875/1875 [==============================] - 7s 4ms/step - loss: 0.6083 - accuracy: 0.8341 - val_loss: 0.6071 - val_accuracy: 0.8320\n",
            "Epoch 5/150\n",
            "1875/1875 [==============================] - 7s 4ms/step - loss: 0.5838 - accuracy: 0.8387 - val_loss: 0.6140 - val_accuracy: 0.8192\n",
            "Epoch 6/150\n",
            "1875/1875 [==============================] - 7s 4ms/step - loss: 0.5574 - accuracy: 0.8458 - val_loss: 0.5970 - val_accuracy: 0.8247\n",
            "Epoch 7/150\n",
            "1875/1875 [==============================] - 6s 3ms/step - loss: 0.5392 - accuracy: 0.8475 - val_loss: 0.5621 - val_accuracy: 0.8373\n",
            "Epoch 8/150\n",
            "1875/1875 [==============================] - 6s 3ms/step - loss: 0.5253 - accuracy: 0.8512 - val_loss: 0.5413 - val_accuracy: 0.8446\n",
            "Epoch 9/150\n",
            "1875/1875 [==============================] - 6s 3ms/step - loss: 0.5075 - accuracy: 0.8537 - val_loss: 0.5294 - val_accuracy: 0.8473\n",
            "Epoch 10/150\n",
            "1875/1875 [==============================] - 6s 3ms/step - loss: 0.4957 - accuracy: 0.8575 - val_loss: 0.5250 - val_accuracy: 0.8456\n",
            "Epoch 11/150\n",
            "1875/1875 [==============================] - 7s 4ms/step - loss: 0.4814 - accuracy: 0.8629 - val_loss: 0.5077 - val_accuracy: 0.8493\n",
            "Epoch 12/150\n",
            "1875/1875 [==============================] - 7s 4ms/step - loss: 0.4809 - accuracy: 0.8606 - val_loss: 0.5033 - val_accuracy: 0.8512\n",
            "Epoch 13/150\n",
            "1875/1875 [==============================] - 7s 4ms/step - loss: 0.4680 - accuracy: 0.8629 - val_loss: 0.4955 - val_accuracy: 0.8508\n",
            "Epoch 14/150\n",
            "1875/1875 [==============================] - 6s 3ms/step - loss: 0.4533 - accuracy: 0.8653 - val_loss: 0.4930 - val_accuracy: 0.8520\n",
            "Epoch 15/150\n",
            "1875/1875 [==============================] - 6s 3ms/step - loss: 0.4460 - accuracy: 0.8661 - val_loss: 0.4897 - val_accuracy: 0.8484\n",
            "Epoch 16/150\n",
            "1875/1875 [==============================] - 7s 4ms/step - loss: 0.4416 - accuracy: 0.8680 - val_loss: 0.4824 - val_accuracy: 0.8492\n",
            "Epoch 17/150\n",
            "1875/1875 [==============================] - 6s 3ms/step - loss: 0.4355 - accuracy: 0.8691 - val_loss: 0.4745 - val_accuracy: 0.8540\n",
            "Epoch 18/150\n",
            "1875/1875 [==============================] - 7s 4ms/step - loss: 0.4294 - accuracy: 0.8693 - val_loss: 0.4789 - val_accuracy: 0.8506\n",
            "Epoch 19/150\n",
            "1875/1875 [==============================] - 7s 4ms/step - loss: 0.4271 - accuracy: 0.8692 - val_loss: 0.4699 - val_accuracy: 0.8529\n",
            "Epoch 20/150\n",
            "1875/1875 [==============================] - 7s 4ms/step - loss: 0.4174 - accuracy: 0.8727 - val_loss: 0.4614 - val_accuracy: 0.8563\n",
            "Epoch 21/150\n",
            "1875/1875 [==============================] - 7s 4ms/step - loss: 0.4145 - accuracy: 0.8722 - val_loss: 0.4618 - val_accuracy: 0.8560\n",
            "Epoch 22/150\n",
            "1875/1875 [==============================] - 7s 4ms/step - loss: 0.4112 - accuracy: 0.8706 - val_loss: 0.4618 - val_accuracy: 0.8514\n",
            "Epoch 23/150\n",
            "1875/1875 [==============================] - 7s 4ms/step - loss: 0.4070 - accuracy: 0.8731 - val_loss: 0.4506 - val_accuracy: 0.8603\n",
            "Epoch 24/150\n",
            "1875/1875 [==============================] - 7s 4ms/step - loss: 0.4007 - accuracy: 0.8743 - val_loss: 0.4453 - val_accuracy: 0.8587\n",
            "Epoch 25/150\n",
            "1875/1875 [==============================] - 7s 4ms/step - loss: 0.3943 - accuracy: 0.8764 - val_loss: 0.4466 - val_accuracy: 0.8554\n",
            "Epoch 26/150\n",
            "1875/1875 [==============================] - 7s 4ms/step - loss: 0.3976 - accuracy: 0.8748 - val_loss: 0.4374 - val_accuracy: 0.8614\n",
            "Epoch 27/150\n",
            "1875/1875 [==============================] - 6s 3ms/step - loss: 0.3938 - accuracy: 0.8749 - val_loss: 0.4643 - val_accuracy: 0.8533\n",
            "Epoch 28/150\n",
            "1875/1875 [==============================] - 7s 4ms/step - loss: 0.3837 - accuracy: 0.8789 - val_loss: 0.4356 - val_accuracy: 0.8606\n",
            "Epoch 29/150\n",
            "1875/1875 [==============================] - 7s 4ms/step - loss: 0.3803 - accuracy: 0.8796 - val_loss: 0.4409 - val_accuracy: 0.8580\n",
            "Epoch 30/150\n",
            "1875/1875 [==============================] - 6s 3ms/step - loss: 0.3792 - accuracy: 0.8792 - val_loss: 0.4346 - val_accuracy: 0.8608\n",
            "Epoch 31/150\n",
            "1875/1875 [==============================] - 6s 3ms/step - loss: 0.3802 - accuracy: 0.8774 - val_loss: 0.4371 - val_accuracy: 0.8551\n",
            "Epoch 32/150\n",
            "1875/1875 [==============================] - 6s 3ms/step - loss: 0.3689 - accuracy: 0.8817 - val_loss: 0.4257 - val_accuracy: 0.8623\n",
            "Epoch 33/150\n",
            "1875/1875 [==============================] - 6s 3ms/step - loss: 0.3767 - accuracy: 0.8790 - val_loss: 0.4445 - val_accuracy: 0.8528\n",
            "Epoch 34/150\n",
            "1875/1875 [==============================] - 7s 4ms/step - loss: 0.3685 - accuracy: 0.8826 - val_loss: 0.4325 - val_accuracy: 0.8571\n",
            "Epoch 35/150\n",
            "1875/1875 [==============================] - 6s 3ms/step - loss: 0.3642 - accuracy: 0.8820 - val_loss: 0.4225 - val_accuracy: 0.8629\n",
            "Epoch 36/150\n",
            "1875/1875 [==============================] - 6s 3ms/step - loss: 0.3598 - accuracy: 0.8827 - val_loss: 0.4278 - val_accuracy: 0.8591\n",
            "Epoch 37/150\n",
            "1875/1875 [==============================] - 7s 4ms/step - loss: 0.3646 - accuracy: 0.8816 - val_loss: 0.4292 - val_accuracy: 0.8600\n",
            "Epoch 38/150\n",
            "1875/1875 [==============================] - 7s 4ms/step - loss: 0.3582 - accuracy: 0.8832 - val_loss: 0.4271 - val_accuracy: 0.8576\n",
            "Epoch 39/150\n",
            "1875/1875 [==============================] - 7s 4ms/step - loss: 0.3585 - accuracy: 0.8838 - val_loss: 0.4205 - val_accuracy: 0.8631\n",
            "Epoch 40/150\n",
            "1875/1875 [==============================] - 6s 3ms/step - loss: 0.3527 - accuracy: 0.8868 - val_loss: 0.4281 - val_accuracy: 0.8582\n",
            "Epoch 41/150\n",
            "1875/1875 [==============================] - 6s 3ms/step - loss: 0.3516 - accuracy: 0.8843 - val_loss: 0.4273 - val_accuracy: 0.8593\n",
            "Epoch 42/150\n",
            "1875/1875 [==============================] - 7s 4ms/step - loss: 0.3537 - accuracy: 0.8854 - val_loss: 0.4173 - val_accuracy: 0.8629\n",
            "Epoch 43/150\n",
            "1875/1875 [==============================] - 7s 4ms/step - loss: 0.3594 - accuracy: 0.8828 - val_loss: 0.4247 - val_accuracy: 0.8615\n",
            "Epoch 44/150\n",
            "1875/1875 [==============================] - 7s 4ms/step - loss: 0.3508 - accuracy: 0.8861 - val_loss: 0.4163 - val_accuracy: 0.8622\n",
            "Epoch 45/150\n",
            "1875/1875 [==============================] - 6s 3ms/step - loss: 0.3467 - accuracy: 0.8866 - val_loss: 0.4222 - val_accuracy: 0.8605\n",
            "Epoch 46/150\n",
            "1875/1875 [==============================] - 7s 4ms/step - loss: 0.3476 - accuracy: 0.8860 - val_loss: 0.4126 - val_accuracy: 0.8623\n",
            "Epoch 47/150\n",
            "1875/1875 [==============================] - 6s 3ms/step - loss: 0.3523 - accuracy: 0.8854 - val_loss: 0.4150 - val_accuracy: 0.8618\n",
            "Epoch 48/150\n",
            "1875/1875 [==============================] - 6s 3ms/step - loss: 0.3447 - accuracy: 0.8867 - val_loss: 0.4090 - val_accuracy: 0.8630\n",
            "Epoch 49/150\n",
            "1875/1875 [==============================] - 7s 4ms/step - loss: 0.3442 - accuracy: 0.8880 - val_loss: 0.4315 - val_accuracy: 0.8576\n",
            "Epoch 50/150\n",
            "1875/1875 [==============================] - 7s 4ms/step - loss: 0.3435 - accuracy: 0.8872 - val_loss: 0.4311 - val_accuracy: 0.8591\n",
            "Epoch 51/150\n",
            "1875/1875 [==============================] - 7s 4ms/step - loss: 0.3430 - accuracy: 0.8881 - val_loss: 0.4122 - val_accuracy: 0.8654\n",
            "Epoch 52/150\n",
            "1875/1875 [==============================] - 6s 3ms/step - loss: 0.3359 - accuracy: 0.8896 - val_loss: 0.4091 - val_accuracy: 0.8646\n",
            "Epoch 53/150\n",
            "1875/1875 [==============================] - 6s 3ms/step - loss: 0.3381 - accuracy: 0.8899 - val_loss: 0.4084 - val_accuracy: 0.8646\n",
            "Epoch 54/150\n",
            "1875/1875 [==============================] - 6s 3ms/step - loss: 0.3395 - accuracy: 0.8876 - val_loss: 0.4145 - val_accuracy: 0.8626\n",
            "Epoch 55/150\n",
            "1875/1875 [==============================] - 6s 3ms/step - loss: 0.3383 - accuracy: 0.8878 - val_loss: 0.4066 - val_accuracy: 0.8639\n",
            "Epoch 56/150\n",
            "1875/1875 [==============================] - 7s 4ms/step - loss: 0.3355 - accuracy: 0.8895 - val_loss: 0.4199 - val_accuracy: 0.8595\n",
            "Epoch 57/150\n",
            "1875/1875 [==============================] - 6s 3ms/step - loss: 0.3356 - accuracy: 0.8891 - val_loss: 0.4026 - val_accuracy: 0.8684\n",
            "Epoch 58/150\n",
            "1875/1875 [==============================] - 7s 4ms/step - loss: 0.3390 - accuracy: 0.8896 - val_loss: 0.4108 - val_accuracy: 0.8624\n",
            "Epoch 59/150\n",
            "1875/1875 [==============================] - 6s 3ms/step - loss: 0.3355 - accuracy: 0.8891 - val_loss: 0.4057 - val_accuracy: 0.8641\n",
            "Epoch 60/150\n",
            "1875/1875 [==============================] - 6s 3ms/step - loss: 0.3321 - accuracy: 0.8905 - val_loss: 0.4214 - val_accuracy: 0.8616\n",
            "Epoch 61/150\n",
            "1875/1875 [==============================] - 7s 4ms/step - loss: 0.3358 - accuracy: 0.8886 - val_loss: 0.4178 - val_accuracy: 0.8588\n",
            "Epoch 62/150\n",
            "1875/1875 [==============================] - 6s 3ms/step - loss: 0.3283 - accuracy: 0.8915 - val_loss: 0.4128 - val_accuracy: 0.8614\n",
            "Epoch 63/150\n",
            "1875/1875 [==============================] - 6s 3ms/step - loss: 0.3306 - accuracy: 0.8893 - val_loss: 0.4128 - val_accuracy: 0.8616\n",
            "Epoch 64/150\n",
            "1875/1875 [==============================] - 6s 3ms/step - loss: 0.3321 - accuracy: 0.8897 - val_loss: 0.4004 - val_accuracy: 0.8684\n",
            "Epoch 65/150\n",
            "1875/1875 [==============================] - 7s 4ms/step - loss: 0.3254 - accuracy: 0.8910 - val_loss: 0.4243 - val_accuracy: 0.8604\n",
            "Epoch 66/150\n",
            "1875/1875 [==============================] - 6s 3ms/step - loss: 0.3304 - accuracy: 0.8893 - val_loss: 0.4063 - val_accuracy: 0.8659\n",
            "Epoch 67/150\n",
            "1875/1875 [==============================] - 7s 4ms/step - loss: 0.3280 - accuracy: 0.8914 - val_loss: 0.4064 - val_accuracy: 0.8653\n",
            "Epoch 68/150\n",
            "1875/1875 [==============================] - 6s 3ms/step - loss: 0.3259 - accuracy: 0.8907 - val_loss: 0.4066 - val_accuracy: 0.8643\n",
            "Epoch 69/150\n",
            "1875/1875 [==============================] - 6s 3ms/step - loss: 0.3254 - accuracy: 0.8919 - val_loss: 0.4052 - val_accuracy: 0.8643\n",
            "Epoch 70/150\n",
            "1875/1875 [==============================] - 7s 4ms/step - loss: 0.3284 - accuracy: 0.8905 - val_loss: 0.3999 - val_accuracy: 0.8686\n",
            "Epoch 71/150\n",
            "1875/1875 [==============================] - 7s 4ms/step - loss: 0.3284 - accuracy: 0.8902 - val_loss: 0.4113 - val_accuracy: 0.8623\n",
            "Epoch 72/150\n",
            "1875/1875 [==============================] - 6s 3ms/step - loss: 0.3276 - accuracy: 0.8894 - val_loss: 0.4158 - val_accuracy: 0.8609\n",
            "Epoch 73/150\n",
            "1875/1875 [==============================] - 6s 3ms/step - loss: 0.3191 - accuracy: 0.8947 - val_loss: 0.4044 - val_accuracy: 0.8656\n",
            "Epoch 74/150\n",
            "1875/1875 [==============================] - 7s 4ms/step - loss: 0.3245 - accuracy: 0.8929 - val_loss: 0.4127 - val_accuracy: 0.8630\n",
            "Epoch 75/150\n",
            "1875/1875 [==============================] - 6s 3ms/step - loss: 0.3260 - accuracy: 0.8889 - val_loss: 0.4119 - val_accuracy: 0.8619\n",
            "Epoch 76/150\n",
            "1875/1875 [==============================] - 7s 4ms/step - loss: 0.3229 - accuracy: 0.8934 - val_loss: 0.3960 - val_accuracy: 0.8697\n",
            "Epoch 77/150\n",
            "1875/1875 [==============================] - 6s 3ms/step - loss: 0.3249 - accuracy: 0.8932 - val_loss: 0.4072 - val_accuracy: 0.8665\n",
            "Epoch 78/150\n",
            "1875/1875 [==============================] - 6s 3ms/step - loss: 0.3199 - accuracy: 0.8940 - val_loss: 0.3998 - val_accuracy: 0.8677\n",
            "Epoch 79/150\n",
            "1875/1875 [==============================] - 7s 4ms/step - loss: 0.3193 - accuracy: 0.8961 - val_loss: 0.4034 - val_accuracy: 0.8695\n",
            "Epoch 80/150\n",
            "1875/1875 [==============================] - 7s 4ms/step - loss: 0.3210 - accuracy: 0.8942 - val_loss: 0.4063 - val_accuracy: 0.8673\n",
            "Epoch 81/150\n",
            "1875/1875 [==============================] - 7s 4ms/step - loss: 0.3176 - accuracy: 0.8956 - val_loss: 0.4020 - val_accuracy: 0.8674\n",
            "Epoch 82/150\n",
            "1875/1875 [==============================] - 6s 3ms/step - loss: 0.3190 - accuracy: 0.8930 - val_loss: 0.4003 - val_accuracy: 0.8684\n",
            "Epoch 83/150\n",
            "1875/1875 [==============================] - 7s 4ms/step - loss: 0.3225 - accuracy: 0.8935 - val_loss: 0.4068 - val_accuracy: 0.8651\n",
            "Epoch 84/150\n",
            "1875/1875 [==============================] - 7s 4ms/step - loss: 0.3105 - accuracy: 0.8974 - val_loss: 0.3958 - val_accuracy: 0.8691\n",
            "Epoch 85/150\n",
            "1875/1875 [==============================] - 6s 3ms/step - loss: 0.3186 - accuracy: 0.8950 - val_loss: 0.3955 - val_accuracy: 0.8671\n",
            "Epoch 86/150\n",
            "1875/1875 [==============================] - 7s 4ms/step - loss: 0.3192 - accuracy: 0.8946 - val_loss: 0.4126 - val_accuracy: 0.8645\n",
            "Epoch 87/150\n",
            "1875/1875 [==============================] - 6s 3ms/step - loss: 0.3198 - accuracy: 0.8935 - val_loss: 0.4114 - val_accuracy: 0.8620\n",
            "Epoch 88/150\n",
            "1875/1875 [==============================] - 7s 4ms/step - loss: 0.3138 - accuracy: 0.8968 - val_loss: 0.4086 - val_accuracy: 0.8646\n",
            "Epoch 89/150\n",
            "1875/1875 [==============================] - 7s 4ms/step - loss: 0.3114 - accuracy: 0.8976 - val_loss: 0.3992 - val_accuracy: 0.8687\n",
            "Epoch 90/150\n",
            "1875/1875 [==============================] - 6s 3ms/step - loss: 0.3156 - accuracy: 0.8945 - val_loss: 0.4036 - val_accuracy: 0.8635\n",
            "Epoch 91/150\n",
            "1875/1875 [==============================] - 6s 3ms/step - loss: 0.3142 - accuracy: 0.8960 - val_loss: 0.4151 - val_accuracy: 0.8594\n",
            "Epoch 92/150\n",
            "1875/1875 [==============================] - 7s 4ms/step - loss: 0.3133 - accuracy: 0.8950 - val_loss: 0.3985 - val_accuracy: 0.8692\n",
            "Epoch 93/150\n",
            "1875/1875 [==============================] - 6s 3ms/step - loss: 0.3117 - accuracy: 0.8964 - val_loss: 0.3977 - val_accuracy: 0.8670\n",
            "Epoch 94/150\n",
            "1875/1875 [==============================] - 6s 3ms/step - loss: 0.3060 - accuracy: 0.8993 - val_loss: 0.4143 - val_accuracy: 0.8630\n",
            "Epoch 95/150\n",
            "1875/1875 [==============================] - 7s 3ms/step - loss: 0.3085 - accuracy: 0.8971 - val_loss: 0.3976 - val_accuracy: 0.8673\n",
            "Epoch 96/150\n",
            "1875/1875 [==============================] - 7s 4ms/step - loss: 0.3084 - accuracy: 0.8995 - val_loss: 0.4145 - val_accuracy: 0.8642\n",
            "Epoch 97/150\n",
            "1875/1875 [==============================] - 6s 3ms/step - loss: 0.3095 - accuracy: 0.8993 - val_loss: 0.4089 - val_accuracy: 0.8637\n",
            "Epoch 98/150\n",
            "1875/1875 [==============================] - 7s 4ms/step - loss: 0.3106 - accuracy: 0.8973 - val_loss: 0.4007 - val_accuracy: 0.8668\n",
            "Epoch 99/150\n",
            "1875/1875 [==============================] - 7s 4ms/step - loss: 0.3103 - accuracy: 0.8963 - val_loss: 0.3984 - val_accuracy: 0.8680\n",
            "Epoch 100/150\n",
            "1875/1875 [==============================] - 7s 4ms/step - loss: 0.3057 - accuracy: 0.8977 - val_loss: 0.4090 - val_accuracy: 0.8647\n",
            "Epoch 101/150\n",
            "1875/1875 [==============================] - 7s 3ms/step - loss: 0.3137 - accuracy: 0.8957 - val_loss: 0.4051 - val_accuracy: 0.8637\n",
            "Epoch 102/150\n",
            "1875/1875 [==============================] - 6s 3ms/step - loss: 0.3044 - accuracy: 0.8984 - val_loss: 0.3996 - val_accuracy: 0.8682\n",
            "Epoch 103/150\n",
            "1875/1875 [==============================] - 7s 4ms/step - loss: 0.3090 - accuracy: 0.8985 - val_loss: 0.4021 - val_accuracy: 0.8689\n",
            "Epoch 104/150\n",
            "1875/1875 [==============================] - 7s 4ms/step - loss: 0.3091 - accuracy: 0.8980 - val_loss: 0.4100 - val_accuracy: 0.8640\n",
            "Epoch 105/150\n",
            "1875/1875 [==============================] - 7s 4ms/step - loss: 0.3080 - accuracy: 0.8973 - val_loss: 0.4041 - val_accuracy: 0.8671\n",
            "Epoch 106/150\n",
            "1875/1875 [==============================] - 7s 3ms/step - loss: 0.3081 - accuracy: 0.8963 - val_loss: 0.3998 - val_accuracy: 0.8674\n",
            "Epoch 107/150\n",
            "1875/1875 [==============================] - 7s 3ms/step - loss: 0.3070 - accuracy: 0.8982 - val_loss: 0.3991 - val_accuracy: 0.8699\n",
            "Epoch 108/150\n",
            "1875/1875 [==============================] - 7s 3ms/step - loss: 0.3051 - accuracy: 0.8980 - val_loss: 0.4019 - val_accuracy: 0.8677\n",
            "Epoch 109/150\n",
            "1875/1875 [==============================] - 7s 4ms/step - loss: 0.3067 - accuracy: 0.8992 - val_loss: 0.4003 - val_accuracy: 0.8679\n",
            "Epoch 110/150\n",
            "1875/1875 [==============================] - 7s 4ms/step - loss: 0.3128 - accuracy: 0.8977 - val_loss: 0.4081 - val_accuracy: 0.8654\n",
            "Epoch 111/150\n",
            "1875/1875 [==============================] - 7s 3ms/step - loss: 0.3067 - accuracy: 0.8974 - val_loss: 0.4063 - val_accuracy: 0.8667\n",
            "Epoch 112/150\n",
            "1875/1875 [==============================] - 7s 3ms/step - loss: 0.3068 - accuracy: 0.8989 - val_loss: 0.4296 - val_accuracy: 0.8570\n",
            "Epoch 113/150\n",
            "1875/1875 [==============================] - 7s 4ms/step - loss: 0.3046 - accuracy: 0.8990 - val_loss: 0.3989 - val_accuracy: 0.8691\n",
            "Epoch 114/150\n",
            "1875/1875 [==============================] - 7s 3ms/step - loss: 0.3069 - accuracy: 0.8970 - val_loss: 0.3961 - val_accuracy: 0.8683\n",
            "Epoch 115/150\n",
            "1875/1875 [==============================] - 7s 3ms/step - loss: 0.3017 - accuracy: 0.9003 - val_loss: 0.4017 - val_accuracy: 0.8647\n",
            "Epoch 116/150\n",
            "1875/1875 [==============================] - 7s 3ms/step - loss: 0.3056 - accuracy: 0.8980 - val_loss: 0.4039 - val_accuracy: 0.8646\n",
            "Epoch 117/150\n",
            "1875/1875 [==============================] - 7s 4ms/step - loss: 0.3064 - accuracy: 0.8985 - val_loss: 0.4100 - val_accuracy: 0.8661\n",
            "Epoch 118/150\n",
            "1875/1875 [==============================] - 7s 3ms/step - loss: 0.2969 - accuracy: 0.9014 - val_loss: 0.3920 - val_accuracy: 0.8711\n",
            "Epoch 119/150\n",
            "1875/1875 [==============================] - 7s 4ms/step - loss: 0.3017 - accuracy: 0.9001 - val_loss: 0.3987 - val_accuracy: 0.8695\n",
            "Epoch 120/150\n",
            "1875/1875 [==============================] - 7s 4ms/step - loss: 0.3042 - accuracy: 0.9001 - val_loss: 0.4106 - val_accuracy: 0.8632\n",
            "Epoch 121/150\n",
            "1875/1875 [==============================] - 7s 3ms/step - loss: 0.3028 - accuracy: 0.8998 - val_loss: 0.4017 - val_accuracy: 0.8690\n",
            "Epoch 122/150\n",
            "1875/1875 [==============================] - 7s 4ms/step - loss: 0.3004 - accuracy: 0.8995 - val_loss: 0.3953 - val_accuracy: 0.8687\n",
            "Epoch 123/150\n",
            "1875/1875 [==============================] - 7s 3ms/step - loss: 0.3016 - accuracy: 0.9004 - val_loss: 0.4036 - val_accuracy: 0.8659\n",
            "Epoch 124/150\n",
            "1875/1875 [==============================] - 7s 3ms/step - loss: 0.3054 - accuracy: 0.8981 - val_loss: 0.3981 - val_accuracy: 0.8689\n",
            "Epoch 125/150\n",
            "1875/1875 [==============================] - 7s 4ms/step - loss: 0.2967 - accuracy: 0.9017 - val_loss: 0.4030 - val_accuracy: 0.8675\n",
            "Epoch 126/150\n",
            "1875/1875 [==============================] - 7s 4ms/step - loss: 0.3007 - accuracy: 0.8993 - val_loss: 0.3950 - val_accuracy: 0.8676\n",
            "Epoch 127/150\n",
            "1875/1875 [==============================] - 7s 4ms/step - loss: 0.2980 - accuracy: 0.9006 - val_loss: 0.4023 - val_accuracy: 0.8689\n",
            "Epoch 128/150\n",
            "1875/1875 [==============================] - 7s 4ms/step - loss: 0.2984 - accuracy: 0.9019 - val_loss: 0.4035 - val_accuracy: 0.8664\n",
            "Epoch 129/150\n",
            "1875/1875 [==============================] - 7s 3ms/step - loss: 0.2974 - accuracy: 0.9019 - val_loss: 0.3998 - val_accuracy: 0.8679\n",
            "Epoch 130/150\n",
            "1875/1875 [==============================] - 7s 4ms/step - loss: 0.2994 - accuracy: 0.9004 - val_loss: 0.3982 - val_accuracy: 0.8694\n",
            "Epoch 131/150\n",
            "1875/1875 [==============================] - 7s 4ms/step - loss: 0.2969 - accuracy: 0.9012 - val_loss: 0.3961 - val_accuracy: 0.8700\n",
            "Epoch 132/150\n",
            "1875/1875 [==============================] - 7s 4ms/step - loss: 0.2988 - accuracy: 0.9010 - val_loss: 0.4091 - val_accuracy: 0.8670\n",
            "Epoch 133/150\n",
            "1875/1875 [==============================] - 7s 4ms/step - loss: 0.2972 - accuracy: 0.9019 - val_loss: 0.3996 - val_accuracy: 0.8682\n",
            "Epoch 134/150\n",
            "1875/1875 [==============================] - 7s 4ms/step - loss: 0.3005 - accuracy: 0.8988 - val_loss: 0.4000 - val_accuracy: 0.8696\n",
            "Epoch 135/150\n",
            "1875/1875 [==============================] - 7s 4ms/step - loss: 0.2997 - accuracy: 0.9002 - val_loss: 0.3987 - val_accuracy: 0.8680\n",
            "Epoch 136/150\n",
            "1875/1875 [==============================] - 7s 4ms/step - loss: 0.2954 - accuracy: 0.9022 - val_loss: 0.4068 - val_accuracy: 0.8669\n",
            "Epoch 137/150\n",
            "1875/1875 [==============================] - 7s 4ms/step - loss: 0.2951 - accuracy: 0.9034 - val_loss: 0.4011 - val_accuracy: 0.8657\n",
            "Epoch 138/150\n",
            "1875/1875 [==============================] - 7s 4ms/step - loss: 0.2955 - accuracy: 0.9006 - val_loss: 0.4061 - val_accuracy: 0.8666\n",
            "Epoch 139/150\n",
            "1875/1875 [==============================] - 7s 3ms/step - loss: 0.2976 - accuracy: 0.9023 - val_loss: 0.4005 - val_accuracy: 0.8680\n",
            "Epoch 140/150\n",
            "1875/1875 [==============================] - 7s 4ms/step - loss: 0.2968 - accuracy: 0.9016 - val_loss: 0.4044 - val_accuracy: 0.8706\n",
            "Epoch 141/150\n",
            "1875/1875 [==============================] - 7s 4ms/step - loss: 0.2949 - accuracy: 0.9029 - val_loss: 0.3993 - val_accuracy: 0.8689\n",
            "Epoch 142/150\n",
            "1875/1875 [==============================] - 7s 4ms/step - loss: 0.2907 - accuracy: 0.9024 - val_loss: 0.3962 - val_accuracy: 0.8704\n",
            "Epoch 143/150\n",
            "1875/1875 [==============================] - 7s 4ms/step - loss: 0.2949 - accuracy: 0.9038 - val_loss: 0.4126 - val_accuracy: 0.8652\n",
            "Epoch 144/150\n",
            "1875/1875 [==============================] - 7s 4ms/step - loss: 0.2933 - accuracy: 0.9021 - val_loss: 0.4072 - val_accuracy: 0.8624\n",
            "Epoch 145/150\n",
            "1875/1875 [==============================] - 7s 4ms/step - loss: 0.2941 - accuracy: 0.9023 - val_loss: 0.3940 - val_accuracy: 0.8724\n",
            "Epoch 146/150\n",
            "1875/1875 [==============================] - 7s 4ms/step - loss: 0.2952 - accuracy: 0.9013 - val_loss: 0.3940 - val_accuracy: 0.8718\n",
            "Epoch 147/150\n",
            "1875/1875 [==============================] - 7s 4ms/step - loss: 0.2958 - accuracy: 0.9023 - val_loss: 0.3961 - val_accuracy: 0.8676\n",
            "Epoch 148/150\n",
            "1875/1875 [==============================] - 7s 4ms/step - loss: 0.2939 - accuracy: 0.9025 - val_loss: 0.4010 - val_accuracy: 0.8676\n",
            "Epoch 149/150\n",
            "1875/1875 [==============================] - 7s 4ms/step - loss: 0.2903 - accuracy: 0.9039 - val_loss: 0.3976 - val_accuracy: 0.8691\n",
            "Epoch 150/150\n",
            "1875/1875 [==============================] - 7s 4ms/step - loss: 0.2931 - accuracy: 0.9039 - val_loss: 0.4101 - val_accuracy: 0.8656\n",
            "Finished training the model ex_5.3.2_h_128_l2_0.001.\n"
          ],
          "name": "stdout"
        }
      ]
    },
    {
      "cell_type": "code",
      "metadata": {
        "colab": {
          "base_uri": "https://localhost:8080/",
          "height": 302
        },
        "id": "GfwG9D7z6AhF",
        "outputId": "82f99238-c267-48fa-d56a-8c2585740fc1"
      },
      "source": [
        "plot_history_custom(history, \"Fashion MNIST learning with two hidden layers (h = {0}, l2 = {1})\".format(h, l2));"
      ],
      "execution_count": null,
      "outputs": [
        {
          "output_type": "display_data",
          "data": {
            "image/png": "[encoded data removed]",
            "text/plain": [
              "<Figure size 432x288 with 2 Axes>"
            ]
          },
          "metadata": {
            "tags": []
          }
        }
      ]
    },
    {
      "cell_type": "code",
      "metadata": {
        "colab": {
          "base_uri": "https://localhost:8080/"
        },
        "id": "9y1Zw0oC9HWd",
        "outputId": "291643b0-a4e6-44cf-92a2-a3faa37f6600"
      },
      "source": [
        "print(\"With l2 regularization (lambda = {0}), the best validation accuracy is {1}.\".format(l2, round(max(history[\"val_accuracy\"]), 2)))"
      ],
      "execution_count": null,
      "outputs": [
        {
          "output_type": "stream",
          "text": [
            "With l2 regularization (lambda = 0.001), the best validation accuracy is 0.87.\n"
          ],
          "name": "stdout"
        }
      ]
    },
    {
      "cell_type": "markdown",
      "metadata": {
        "id": "9httDcZInLhz"
      },
      "source": [
        "#### Exercise 5.4\n",
        "Turn off the $ \\ell_2 $ regularization and use a large dropout rate (for ex. 0.5) and a small one (for ex. 0.05) at all hidden layers and report the validation accuracies. What do you observe?"
      ]
    },
    {
      "cell_type": "code",
      "metadata": {
        "colab": {
          "base_uri": "https://localhost:8080/"
        },
        "id": "Fy7c047lEL39",
        "outputId": "5ee4e5f8-b572-41b3-91cc-b9690fbc3966"
      },
      "source": [
        "dropout = 0.5\n",
        "history = fit_custom(\n",
        "    exercise_name='ex_5.4_h_{0}_dropout_{1}'.format(h, dropout),\n",
        "    x=x_fash_mnist_tr_flat, \n",
        "    y=y_mnist_fash_train_1hot, \n",
        "    validation_data=(x_fash_mnist_val_flat, y_mnist_fash_val_1hot), \n",
        "    model=get_model(input_dim=input_dim_mnist, layers=2, h=h, optimizer=SGD, lr=0.01, dropout=dropout),\n",
        "    epochs=150,\n",
        "    verbose=1\n",
        ")"
      ],
      "execution_count": null,
      "outputs": [
        {
          "output_type": "stream",
          "text": [
            "Begin to train the model ex_5.4_h_128_dropout_0.5.\n",
            "Epoch 1/150\n",
            "1875/1875 [==============================] - 9s 4ms/step - loss: 2.1017 - accuracy: 0.2013 - val_loss: 1.3838 - val_accuracy: 0.4948\n",
            "Epoch 2/150\n",
            "1875/1875 [==============================] - 6s 3ms/step - loss: 1.5972 - accuracy: 0.3422 - val_loss: 1.2018 - val_accuracy: 0.5380\n",
            "Epoch 3/150\n",
            "1875/1875 [==============================] - 7s 4ms/step - loss: 1.4429 - accuracy: 0.3931 - val_loss: 1.1415 - val_accuracy: 0.5464\n",
            "Epoch 4/150\n",
            "1875/1875 [==============================] - 6s 3ms/step - loss: 1.3816 - accuracy: 0.4191 - val_loss: 1.1446 - val_accuracy: 0.4896\n",
            "Epoch 5/150\n",
            "1875/1875 [==============================] - 6s 3ms/step - loss: 1.3441 - accuracy: 0.4419 - val_loss: 1.1425 - val_accuracy: 0.4532\n",
            "Epoch 6/150\n",
            "1875/1875 [==============================] - 6s 3ms/step - loss: 1.2970 - accuracy: 0.4603 - val_loss: 1.1021 - val_accuracy: 0.5392\n",
            "Epoch 7/150\n",
            "1875/1875 [==============================] - 7s 3ms/step - loss: 1.2576 - accuracy: 0.4979 - val_loss: 1.0989 - val_accuracy: 0.4880\n",
            "Epoch 8/150\n",
            "1875/1875 [==============================] - 6s 3ms/step - loss: 1.2364 - accuracy: 0.5122 - val_loss: 1.0646 - val_accuracy: 0.5431\n",
            "Epoch 9/150\n",
            "1875/1875 [==============================] - 6s 3ms/step - loss: 1.2123 - accuracy: 0.5243 - val_loss: 1.0720 - val_accuracy: 0.5076\n",
            "Epoch 10/150\n",
            "1875/1875 [==============================] - 6s 3ms/step - loss: 1.2057 - accuracy: 0.5325 - val_loss: 1.1154 - val_accuracy: 0.4418\n",
            "Epoch 11/150\n",
            "1875/1875 [==============================] - 6s 3ms/step - loss: 1.1815 - accuracy: 0.5397 - val_loss: 1.0973 - val_accuracy: 0.4818\n",
            "Epoch 12/150\n",
            "1875/1875 [==============================] - 6s 3ms/step - loss: 1.1778 - accuracy: 0.5386 - val_loss: 1.1124 - val_accuracy: 0.4622\n",
            "Epoch 13/150\n",
            "1875/1875 [==============================] - 6s 3ms/step - loss: 1.1579 - accuracy: 0.5515 - val_loss: 1.1268 - val_accuracy: 0.4482\n",
            "Epoch 14/150\n",
            "1875/1875 [==============================] - 7s 3ms/step - loss: 1.1490 - accuracy: 0.5523 - val_loss: 1.1389 - val_accuracy: 0.4683\n",
            "Epoch 15/150\n",
            "1875/1875 [==============================] - 7s 4ms/step - loss: 1.1479 - accuracy: 0.5580 - val_loss: 1.0907 - val_accuracy: 0.4765\n",
            "Epoch 16/150\n",
            "1875/1875 [==============================] - 7s 3ms/step - loss: 1.1416 - accuracy: 0.5604 - val_loss: 1.1359 - val_accuracy: 0.4545\n",
            "Epoch 17/150\n",
            "1875/1875 [==============================] - 7s 4ms/step - loss: 1.1382 - accuracy: 0.5540 - val_loss: 1.1484 - val_accuracy: 0.4521\n",
            "Epoch 18/150\n",
            "1875/1875 [==============================] - 7s 4ms/step - loss: 1.1394 - accuracy: 0.5611 - val_loss: 1.1699 - val_accuracy: 0.4402\n",
            "Epoch 19/150\n",
            "1875/1875 [==============================] - 7s 3ms/step - loss: 1.1275 - accuracy: 0.5645 - val_loss: 1.1511 - val_accuracy: 0.4436\n",
            "Epoch 20/150\n",
            "1875/1875 [==============================] - 7s 4ms/step - loss: 1.1096 - accuracy: 0.5724 - val_loss: 1.1163 - val_accuracy: 0.4645\n",
            "Epoch 21/150\n",
            "1875/1875 [==============================] - 7s 3ms/step - loss: 1.1143 - accuracy: 0.5704 - val_loss: 1.1812 - val_accuracy: 0.4430\n",
            "Epoch 22/150\n",
            "1875/1875 [==============================] - 6s 3ms/step - loss: 1.1114 - accuracy: 0.5715 - val_loss: 1.1893 - val_accuracy: 0.4473\n",
            "Epoch 23/150\n",
            "1875/1875 [==============================] - 6s 3ms/step - loss: 1.1076 - accuracy: 0.5726 - val_loss: 1.2219 - val_accuracy: 0.4412\n",
            "Epoch 24/150\n",
            "1875/1875 [==============================] - 7s 4ms/step - loss: 1.1032 - accuracy: 0.5765 - val_loss: 1.1617 - val_accuracy: 0.4550\n",
            "Epoch 25/150\n",
            "1875/1875 [==============================] - 7s 4ms/step - loss: 1.0768 - accuracy: 0.5861 - val_loss: 1.1786 - val_accuracy: 0.4580\n",
            "Epoch 26/150\n",
            "1875/1875 [==============================] - 7s 4ms/step - loss: 1.0658 - accuracy: 0.5988 - val_loss: 1.1953 - val_accuracy: 0.4749\n",
            "Epoch 27/150\n",
            "1875/1875 [==============================] - 6s 3ms/step - loss: 1.0594 - accuracy: 0.6044 - val_loss: 1.2038 - val_accuracy: 0.4818\n",
            "Epoch 28/150\n",
            "1875/1875 [==============================] - 7s 4ms/step - loss: 1.0538 - accuracy: 0.6078 - val_loss: 1.2085 - val_accuracy: 0.4696\n",
            "Epoch 29/150\n",
            "1875/1875 [==============================] - 6s 3ms/step - loss: 1.0468 - accuracy: 0.6154 - val_loss: 1.1647 - val_accuracy: 0.4922\n",
            "Epoch 30/150\n",
            "1875/1875 [==============================] - 7s 4ms/step - loss: 1.0413 - accuracy: 0.6182 - val_loss: 1.1931 - val_accuracy: 0.5073\n",
            "Epoch 31/150\n",
            "1875/1875 [==============================] - 7s 4ms/step - loss: 1.0317 - accuracy: 0.6255 - val_loss: 1.2221 - val_accuracy: 0.4920\n",
            "Epoch 32/150\n",
            "1875/1875 [==============================] - 6s 3ms/step - loss: 1.0321 - accuracy: 0.6251 - val_loss: 1.1739 - val_accuracy: 0.5014\n",
            "Epoch 33/150\n",
            "1875/1875 [==============================] - 7s 4ms/step - loss: 1.0300 - accuracy: 0.6322 - val_loss: 1.1832 - val_accuracy: 0.5013\n",
            "Epoch 34/150\n",
            "1875/1875 [==============================] - 7s 4ms/step - loss: 1.0333 - accuracy: 0.6281 - val_loss: 1.1590 - val_accuracy: 0.4991\n",
            "Epoch 35/150\n",
            "1875/1875 [==============================] - 7s 4ms/step - loss: 1.0064 - accuracy: 0.6388 - val_loss: 1.1652 - val_accuracy: 0.5066\n",
            "Epoch 36/150\n",
            "1875/1875 [==============================] - 6s 3ms/step - loss: 1.0119 - accuracy: 0.6416 - val_loss: 1.1999 - val_accuracy: 0.4958\n",
            "Epoch 37/150\n",
            "1875/1875 [==============================] - 7s 3ms/step - loss: 1.0117 - accuracy: 0.6415 - val_loss: 1.1863 - val_accuracy: 0.4966\n",
            "Epoch 38/150\n",
            "1875/1875 [==============================] - 7s 3ms/step - loss: 0.9958 - accuracy: 0.6453 - val_loss: 1.1829 - val_accuracy: 0.5061\n",
            "Epoch 39/150\n",
            "1875/1875 [==============================] - 6s 3ms/step - loss: 0.9956 - accuracy: 0.6474 - val_loss: 1.1925 - val_accuracy: 0.4977\n",
            "Epoch 40/150\n",
            "1875/1875 [==============================] - 6s 3ms/step - loss: 1.0075 - accuracy: 0.6417 - val_loss: 1.1816 - val_accuracy: 0.5218\n",
            "Epoch 41/150\n",
            "1875/1875 [==============================] - 6s 3ms/step - loss: 0.9907 - accuracy: 0.6480 - val_loss: 1.1765 - val_accuracy: 0.5226\n",
            "Epoch 42/150\n",
            "1875/1875 [==============================] - 7s 4ms/step - loss: 0.9939 - accuracy: 0.6473 - val_loss: 1.2038 - val_accuracy: 0.5128\n",
            "Epoch 43/150\n",
            "1875/1875 [==============================] - 7s 3ms/step - loss: 0.9858 - accuracy: 0.6521 - val_loss: 1.1650 - val_accuracy: 0.5136\n",
            "Epoch 44/150\n",
            "1875/1875 [==============================] - 7s 4ms/step - loss: 0.9795 - accuracy: 0.6514 - val_loss: 1.2147 - val_accuracy: 0.4976\n",
            "Epoch 45/150\n",
            "1875/1875 [==============================] - 7s 4ms/step - loss: 0.9785 - accuracy: 0.6523 - val_loss: 1.2641 - val_accuracy: 0.4862\n",
            "Epoch 46/150\n",
            "1875/1875 [==============================] - 7s 4ms/step - loss: 0.9842 - accuracy: 0.6503 - val_loss: 1.2268 - val_accuracy: 0.5100\n",
            "Epoch 47/150\n",
            "1875/1875 [==============================] - 7s 3ms/step - loss: 0.9708 - accuracy: 0.6552 - val_loss: 1.2111 - val_accuracy: 0.5044\n",
            "Epoch 48/150\n",
            "1875/1875 [==============================] - 7s 3ms/step - loss: 0.9706 - accuracy: 0.6576 - val_loss: 1.2490 - val_accuracy: 0.5019\n",
            "Epoch 49/150\n",
            "1875/1875 [==============================] - 7s 4ms/step - loss: 0.9794 - accuracy: 0.6507 - val_loss: 1.2484 - val_accuracy: 0.4903\n",
            "Epoch 50/150\n",
            "1875/1875 [==============================] - 7s 3ms/step - loss: 0.9755 - accuracy: 0.6566 - val_loss: 1.2512 - val_accuracy: 0.4984\n",
            "Epoch 51/150\n",
            "1875/1875 [==============================] - 7s 4ms/step - loss: 0.9652 - accuracy: 0.6574 - val_loss: 1.2551 - val_accuracy: 0.4842\n",
            "Epoch 52/150\n",
            "1875/1875 [==============================] - 7s 4ms/step - loss: 0.9716 - accuracy: 0.6590 - val_loss: 1.2011 - val_accuracy: 0.5027\n",
            "Epoch 53/150\n",
            "1875/1875 [==============================] - 7s 4ms/step - loss: 0.9715 - accuracy: 0.6537 - val_loss: 1.1724 - val_accuracy: 0.5093\n",
            "Epoch 54/150\n",
            "1875/1875 [==============================] - 7s 4ms/step - loss: 0.9779 - accuracy: 0.6539 - val_loss: 1.1750 - val_accuracy: 0.5174\n",
            "Epoch 55/150\n",
            "1875/1875 [==============================] - 7s 4ms/step - loss: 0.9716 - accuracy: 0.6578 - val_loss: 1.2619 - val_accuracy: 0.4963\n",
            "Epoch 56/150\n",
            "1875/1875 [==============================] - 7s 4ms/step - loss: 0.9773 - accuracy: 0.6559 - val_loss: 1.2187 - val_accuracy: 0.5124\n",
            "Epoch 57/150\n",
            "1875/1875 [==============================] - 7s 3ms/step - loss: 0.9798 - accuracy: 0.6527 - val_loss: 1.1895 - val_accuracy: 0.4986\n",
            "Epoch 58/150\n",
            "1875/1875 [==============================] - 7s 3ms/step - loss: 0.9687 - accuracy: 0.6577 - val_loss: 1.2777 - val_accuracy: 0.4984\n",
            "Epoch 59/150\n",
            "1875/1875 [==============================] - 7s 4ms/step - loss: 0.9649 - accuracy: 0.6600 - val_loss: 1.2785 - val_accuracy: 0.4929\n",
            "Epoch 60/150\n",
            "1875/1875 [==============================] - 7s 4ms/step - loss: 0.9692 - accuracy: 0.6551 - val_loss: 1.1913 - val_accuracy: 0.5021\n",
            "Epoch 61/150\n",
            "1875/1875 [==============================] - 7s 4ms/step - loss: 0.9641 - accuracy: 0.6600 - val_loss: 1.1723 - val_accuracy: 0.5239\n",
            "Epoch 62/150\n",
            "1875/1875 [==============================] - 7s 4ms/step - loss: 0.9762 - accuracy: 0.6568 - val_loss: 1.2333 - val_accuracy: 0.5116\n",
            "Epoch 63/150\n",
            "1875/1875 [==============================] - 7s 4ms/step - loss: 0.9563 - accuracy: 0.6647 - val_loss: 1.2361 - val_accuracy: 0.5173\n",
            "Epoch 64/150\n",
            "1875/1875 [==============================] - 7s 4ms/step - loss: 0.9519 - accuracy: 0.6630 - val_loss: 1.2238 - val_accuracy: 0.5098\n",
            "Epoch 65/150\n",
            "1875/1875 [==============================] - 7s 4ms/step - loss: 0.9644 - accuracy: 0.6592 - val_loss: 1.2327 - val_accuracy: 0.5045\n",
            "Epoch 66/150\n",
            "1875/1875 [==============================] - 7s 4ms/step - loss: 0.9546 - accuracy: 0.6651 - val_loss: 1.2891 - val_accuracy: 0.5002\n",
            "Epoch 67/150\n",
            "1875/1875 [==============================] - 7s 4ms/step - loss: 0.9477 - accuracy: 0.6673 - val_loss: 1.2730 - val_accuracy: 0.4974\n",
            "Epoch 68/150\n",
            "1875/1875 [==============================] - 7s 4ms/step - loss: 0.9507 - accuracy: 0.6657 - val_loss: 1.2419 - val_accuracy: 0.5033\n",
            "Epoch 69/150\n",
            "1875/1875 [==============================] - 7s 4ms/step - loss: 0.9540 - accuracy: 0.6659 - val_loss: 1.2484 - val_accuracy: 0.5038\n",
            "Epoch 70/150\n",
            "1875/1875 [==============================] - 7s 4ms/step - loss: 0.9531 - accuracy: 0.6659 - val_loss: 1.2316 - val_accuracy: 0.5132\n",
            "Epoch 71/150\n",
            "1875/1875 [==============================] - 7s 4ms/step - loss: 0.9437 - accuracy: 0.6659 - val_loss: 1.2073 - val_accuracy: 0.5242\n",
            "Epoch 72/150\n",
            "1875/1875 [==============================] - 6s 3ms/step - loss: 0.9428 - accuracy: 0.6716 - val_loss: 1.2306 - val_accuracy: 0.4987\n",
            "Epoch 73/150\n",
            "1875/1875 [==============================] - 7s 4ms/step - loss: 0.9584 - accuracy: 0.6629 - val_loss: 1.2363 - val_accuracy: 0.5027\n",
            "Epoch 74/150\n",
            "1875/1875 [==============================] - 7s 3ms/step - loss: 0.9475 - accuracy: 0.6655 - val_loss: 1.1924 - val_accuracy: 0.5060\n",
            "Epoch 75/150\n",
            "1875/1875 [==============================] - 7s 4ms/step - loss: 0.9398 - accuracy: 0.6684 - val_loss: 1.2269 - val_accuracy: 0.5249\n",
            "Epoch 76/150\n",
            "1875/1875 [==============================] - 7s 4ms/step - loss: 0.9510 - accuracy: 0.6684 - val_loss: 1.1999 - val_accuracy: 0.5227\n",
            "Epoch 77/150\n",
            "1875/1875 [==============================] - 7s 4ms/step - loss: 0.9367 - accuracy: 0.6680 - val_loss: 1.1824 - val_accuracy: 0.5334\n",
            "Epoch 78/150\n",
            "1875/1875 [==============================] - 7s 4ms/step - loss: 0.9477 - accuracy: 0.6685 - val_loss: 1.2390 - val_accuracy: 0.5113\n",
            "Epoch 79/150\n",
            "1875/1875 [==============================] - 7s 4ms/step - loss: 0.9363 - accuracy: 0.6696 - val_loss: 1.1720 - val_accuracy: 0.5353\n",
            "Epoch 80/150\n",
            "1875/1875 [==============================] - 7s 4ms/step - loss: 0.9342 - accuracy: 0.6687 - val_loss: 1.2365 - val_accuracy: 0.5224\n",
            "Epoch 81/150\n",
            "1875/1875 [==============================] - 7s 3ms/step - loss: 0.9414 - accuracy: 0.6716 - val_loss: 1.2278 - val_accuracy: 0.5329\n",
            "Epoch 82/150\n",
            "1875/1875 [==============================] - 7s 4ms/step - loss: 0.9334 - accuracy: 0.6715 - val_loss: 1.2144 - val_accuracy: 0.5317\n",
            "Epoch 83/150\n",
            "1875/1875 [==============================] - 7s 4ms/step - loss: 0.9417 - accuracy: 0.6719 - val_loss: 1.2289 - val_accuracy: 0.5197\n",
            "Epoch 84/150\n",
            "1875/1875 [==============================] - 7s 4ms/step - loss: 0.9458 - accuracy: 0.6713 - val_loss: 1.1836 - val_accuracy: 0.5362\n",
            "Epoch 85/150\n",
            "1875/1875 [==============================] - 7s 3ms/step - loss: 0.9453 - accuracy: 0.6689 - val_loss: 1.1979 - val_accuracy: 0.5295\n",
            "Epoch 86/150\n",
            "1875/1875 [==============================] - 7s 4ms/step - loss: 0.9413 - accuracy: 0.6697 - val_loss: 1.3250 - val_accuracy: 0.5273\n",
            "Epoch 87/150\n",
            "1875/1875 [==============================] - 7s 4ms/step - loss: 0.9336 - accuracy: 0.6746 - val_loss: 1.2799 - val_accuracy: 0.5184\n",
            "Epoch 88/150\n",
            "1875/1875 [==============================] - 7s 4ms/step - loss: 0.9386 - accuracy: 0.6715 - val_loss: 1.2797 - val_accuracy: 0.5051\n",
            "Epoch 89/150\n",
            "1875/1875 [==============================] - 7s 4ms/step - loss: 0.9455 - accuracy: 0.6688 - val_loss: 1.2321 - val_accuracy: 0.5269\n",
            "Epoch 90/150\n",
            "1875/1875 [==============================] - 7s 4ms/step - loss: 0.9330 - accuracy: 0.6744 - val_loss: 1.2313 - val_accuracy: 0.5178\n",
            "Epoch 91/150\n",
            "1875/1875 [==============================] - 7s 4ms/step - loss: 0.9396 - accuracy: 0.6666 - val_loss: 1.2428 - val_accuracy: 0.5414\n",
            "Epoch 92/150\n",
            "1875/1875 [==============================] - 7s 4ms/step - loss: 0.9450 - accuracy: 0.6712 - val_loss: 1.3065 - val_accuracy: 0.5173\n",
            "Epoch 93/150\n",
            "1875/1875 [==============================] - 7s 4ms/step - loss: 0.9269 - accuracy: 0.6757 - val_loss: 1.3097 - val_accuracy: 0.5142\n",
            "Epoch 94/150\n",
            "1875/1875 [==============================] - 7s 4ms/step - loss: 0.9328 - accuracy: 0.6762 - val_loss: 1.2644 - val_accuracy: 0.4972\n",
            "Epoch 95/150\n",
            "1875/1875 [==============================] - 7s 4ms/step - loss: 0.9324 - accuracy: 0.6737 - val_loss: 1.2681 - val_accuracy: 0.5111\n",
            "Epoch 96/150\n",
            "1875/1875 [==============================] - 7s 4ms/step - loss: 0.9211 - accuracy: 0.6762 - val_loss: 1.2209 - val_accuracy: 0.5206\n",
            "Epoch 97/150\n",
            "1875/1875 [==============================] - 7s 4ms/step - loss: 0.9320 - accuracy: 0.6805 - val_loss: 1.2819 - val_accuracy: 0.5143\n",
            "Epoch 98/150\n",
            "1875/1875 [==============================] - 7s 3ms/step - loss: 0.9225 - accuracy: 0.6785 - val_loss: 1.2867 - val_accuracy: 0.5226\n",
            "Epoch 99/150\n",
            "1875/1875 [==============================] - 7s 4ms/step - loss: 0.9365 - accuracy: 0.6729 - val_loss: 1.2803 - val_accuracy: 0.5145\n",
            "Epoch 100/150\n",
            "1875/1875 [==============================] - 7s 4ms/step - loss: 0.9185 - accuracy: 0.6795 - val_loss: 1.2916 - val_accuracy: 0.5019\n",
            "Epoch 101/150\n",
            "1875/1875 [==============================] - 7s 4ms/step - loss: 0.9202 - accuracy: 0.6761 - val_loss: 1.2699 - val_accuracy: 0.5061\n",
            "Epoch 102/150\n",
            "1875/1875 [==============================] - 7s 4ms/step - loss: 0.9299 - accuracy: 0.6759 - val_loss: 1.3233 - val_accuracy: 0.5155\n",
            "Epoch 103/150\n",
            "1875/1875 [==============================] - 7s 4ms/step - loss: 0.9280 - accuracy: 0.6795 - val_loss: 1.2732 - val_accuracy: 0.5194\n",
            "Epoch 104/150\n",
            "1875/1875 [==============================] - 7s 4ms/step - loss: 0.9174 - accuracy: 0.6858 - val_loss: 1.2605 - val_accuracy: 0.5172\n",
            "Epoch 105/150\n",
            "1875/1875 [==============================] - 7s 4ms/step - loss: 0.9257 - accuracy: 0.6764 - val_loss: 1.2473 - val_accuracy: 0.5139\n",
            "Epoch 106/150\n",
            "1875/1875 [==============================] - 7s 4ms/step - loss: 0.9303 - accuracy: 0.6758 - val_loss: 1.2662 - val_accuracy: 0.5170\n",
            "Epoch 107/150\n",
            "1875/1875 [==============================] - 7s 4ms/step - loss: 0.9167 - accuracy: 0.6840 - val_loss: 1.2983 - val_accuracy: 0.5271\n",
            "Epoch 108/150\n",
            "1875/1875 [==============================] - 7s 4ms/step - loss: 0.9270 - accuracy: 0.6783 - val_loss: 1.2401 - val_accuracy: 0.5247\n",
            "Epoch 109/150\n",
            "1875/1875 [==============================] - 7s 4ms/step - loss: 0.9191 - accuracy: 0.6817 - val_loss: 1.2577 - val_accuracy: 0.5246\n",
            "Epoch 110/150\n",
            "1875/1875 [==============================] - 7s 4ms/step - loss: 0.9205 - accuracy: 0.6783 - val_loss: 1.2633 - val_accuracy: 0.5191\n",
            "Epoch 111/150\n",
            "1875/1875 [==============================] - 7s 4ms/step - loss: 0.9266 - accuracy: 0.6771 - val_loss: 1.3196 - val_accuracy: 0.5230\n",
            "Epoch 112/150\n",
            "1875/1875 [==============================] - 7s 4ms/step - loss: 0.9073 - accuracy: 0.6850 - val_loss: 1.2335 - val_accuracy: 0.5215\n",
            "Epoch 113/150\n",
            "1875/1875 [==============================] - 7s 4ms/step - loss: 0.9102 - accuracy: 0.6846 - val_loss: 1.2237 - val_accuracy: 0.5208\n",
            "Epoch 114/150\n",
            "1875/1875 [==============================] - 7s 4ms/step - loss: 0.9206 - accuracy: 0.6804 - val_loss: 1.3176 - val_accuracy: 0.5246\n",
            "Epoch 115/150\n",
            "1875/1875 [==============================] - 7s 4ms/step - loss: 0.9215 - accuracy: 0.6820 - val_loss: 1.2677 - val_accuracy: 0.5198\n",
            "Epoch 116/150\n",
            "1875/1875 [==============================] - 7s 4ms/step - loss: 0.9166 - accuracy: 0.6836 - val_loss: 1.3153 - val_accuracy: 0.5238\n",
            "Epoch 117/150\n",
            "1875/1875 [==============================] - 7s 4ms/step - loss: 0.9148 - accuracy: 0.6824 - val_loss: 1.2917 - val_accuracy: 0.5074\n",
            "Epoch 118/150\n",
            "1875/1875 [==============================] - 7s 4ms/step - loss: 0.9202 - accuracy: 0.6813 - val_loss: 1.2459 - val_accuracy: 0.5358\n",
            "Epoch 119/150\n",
            "1875/1875 [==============================] - 7s 4ms/step - loss: 0.9141 - accuracy: 0.6831 - val_loss: 1.2815 - val_accuracy: 0.5218\n",
            "Epoch 120/150\n",
            "1875/1875 [==============================] - 7s 4ms/step - loss: 0.9088 - accuracy: 0.6804 - val_loss: 1.2826 - val_accuracy: 0.5180\n",
            "Epoch 121/150\n",
            "1875/1875 [==============================] - 7s 4ms/step - loss: 0.9133 - accuracy: 0.6842 - val_loss: 1.2313 - val_accuracy: 0.5379\n",
            "Epoch 122/150\n",
            "1875/1875 [==============================] - 7s 4ms/step - loss: 0.9181 - accuracy: 0.6822 - val_loss: 1.3055 - val_accuracy: 0.5194\n",
            "Epoch 123/150\n",
            "1875/1875 [==============================] - 7s 4ms/step - loss: 0.9133 - accuracy: 0.6824 - val_loss: 1.2462 - val_accuracy: 0.5199\n",
            "Epoch 124/150\n",
            "1875/1875 [==============================] - 7s 4ms/step - loss: 0.9109 - accuracy: 0.6877 - val_loss: 1.2686 - val_accuracy: 0.5217\n",
            "Epoch 125/150\n",
            "1875/1875 [==============================] - 7s 4ms/step - loss: 0.9013 - accuracy: 0.6858 - val_loss: 1.2949 - val_accuracy: 0.5262\n",
            "Epoch 126/150\n",
            "1875/1875 [==============================] - 7s 4ms/step - loss: 0.9067 - accuracy: 0.6882 - val_loss: 1.2216 - val_accuracy: 0.5244\n",
            "Epoch 127/150\n",
            "1875/1875 [==============================] - 7s 4ms/step - loss: 0.9200 - accuracy: 0.6803 - val_loss: 1.2423 - val_accuracy: 0.5249\n",
            "Epoch 128/150\n",
            "1875/1875 [==============================] - 7s 4ms/step - loss: 0.9143 - accuracy: 0.6817 - val_loss: 1.2742 - val_accuracy: 0.5263\n",
            "Epoch 129/150\n",
            "1875/1875 [==============================] - 7s 4ms/step - loss: 0.9025 - accuracy: 0.6885 - val_loss: 1.3223 - val_accuracy: 0.5178\n",
            "Epoch 130/150\n",
            "1875/1875 [==============================] - 7s 4ms/step - loss: 0.9075 - accuracy: 0.6868 - val_loss: 1.3024 - val_accuracy: 0.5137\n",
            "Epoch 131/150\n",
            "1875/1875 [==============================] - 7s 4ms/step - loss: 0.9088 - accuracy: 0.6852 - val_loss: 1.2601 - val_accuracy: 0.5263\n",
            "Epoch 132/150\n",
            "1875/1875 [==============================] - 7s 4ms/step - loss: 0.9165 - accuracy: 0.6826 - val_loss: 1.2062 - val_accuracy: 0.5335\n",
            "Epoch 133/150\n",
            "1875/1875 [==============================] - 7s 4ms/step - loss: 0.9083 - accuracy: 0.6867 - val_loss: 1.2434 - val_accuracy: 0.5112\n",
            "Epoch 134/150\n",
            "1875/1875 [==============================] - 7s 4ms/step - loss: 0.9085 - accuracy: 0.6873 - val_loss: 1.2544 - val_accuracy: 0.5340\n",
            "Epoch 135/150\n",
            "1875/1875 [==============================] - 7s 4ms/step - loss: 0.9077 - accuracy: 0.6909 - val_loss: 1.2917 - val_accuracy: 0.5193\n",
            "Epoch 136/150\n",
            "1875/1875 [==============================] - 7s 4ms/step - loss: 0.8990 - accuracy: 0.6898 - val_loss: 1.2800 - val_accuracy: 0.5227\n",
            "Epoch 137/150\n",
            "1875/1875 [==============================] - 7s 4ms/step - loss: 0.9047 - accuracy: 0.6859 - val_loss: 1.2933 - val_accuracy: 0.5096\n",
            "Epoch 138/150\n",
            "1875/1875 [==============================] - 7s 4ms/step - loss: 0.9064 - accuracy: 0.6846 - val_loss: 1.2907 - val_accuracy: 0.5182\n",
            "Epoch 139/150\n",
            "1875/1875 [==============================] - 7s 4ms/step - loss: 0.8970 - accuracy: 0.6884 - val_loss: 1.3011 - val_accuracy: 0.5102\n",
            "Epoch 140/150\n",
            "1875/1875 [==============================] - 7s 4ms/step - loss: 0.9044 - accuracy: 0.6880 - val_loss: 1.2345 - val_accuracy: 0.5222\n",
            "Epoch 141/150\n",
            "1875/1875 [==============================] - 7s 4ms/step - loss: 0.9108 - accuracy: 0.6859 - val_loss: 1.2851 - val_accuracy: 0.5170\n",
            "Epoch 142/150\n",
            "1875/1875 [==============================] - 7s 4ms/step - loss: 0.9040 - accuracy: 0.6856 - val_loss: 1.2784 - val_accuracy: 0.5186\n",
            "Epoch 143/150\n",
            "1875/1875 [==============================] - 7s 4ms/step - loss: 0.9017 - accuracy: 0.6890 - val_loss: 1.3285 - val_accuracy: 0.5114\n",
            "Epoch 144/150\n",
            "1875/1875 [==============================] - 7s 4ms/step - loss: 0.8990 - accuracy: 0.6887 - val_loss: 1.2629 - val_accuracy: 0.5233\n",
            "Epoch 145/150\n",
            "1875/1875 [==============================] - 7s 4ms/step - loss: 0.9057 - accuracy: 0.6856 - val_loss: 1.2941 - val_accuracy: 0.5159\n",
            "Epoch 146/150\n",
            "1875/1875 [==============================] - 7s 4ms/step - loss: 0.8896 - accuracy: 0.6947 - val_loss: 1.2774 - val_accuracy: 0.5137\n",
            "Epoch 147/150\n",
            "1875/1875 [==============================] - 7s 4ms/step - loss: 0.8957 - accuracy: 0.6894 - val_loss: 1.3288 - val_accuracy: 0.5157\n",
            "Epoch 148/150\n",
            "1875/1875 [==============================] - 7s 4ms/step - loss: 0.9011 - accuracy: 0.6904 - val_loss: 1.3146 - val_accuracy: 0.5092\n",
            "Epoch 149/150\n",
            "1875/1875 [==============================] - 7s 4ms/step - loss: 0.8902 - accuracy: 0.6921 - val_loss: 1.3176 - val_accuracy: 0.5098\n",
            "Epoch 150/150\n",
            "1875/1875 [==============================] - 7s 4ms/step - loss: 0.9027 - accuracy: 0.6897 - val_loss: 1.1934 - val_accuracy: 0.5441\n",
            "Finished training the model ex_5.4_h_128_dropout_0.5.\n"
          ],
          "name": "stdout"
        }
      ]
    },
    {
      "cell_type": "code",
      "metadata": {
        "id": "yNYVEvleEnUU"
      },
      "source": [
        "plot_history_custom(history, \"Fashion MNIST learning with two hidden layers (h = {0}, dropout = {1})\".format(h, dropout));"
      ],
      "execution_count": null,
      "outputs": []
    },
    {
      "cell_type": "code",
      "metadata": {
        "id": "pL30QHhknfj3"
      },
      "source": [
        "print(\"With dropout = {0}, the best validation accuracy is {1}.\".format(dropout, round(max(history[\"val_accuracy\"]), 2)))"
      ],
      "execution_count": null,
      "outputs": []
    },
    {
      "cell_type": "markdown",
      "metadata": {
        "id": "MazFjZR_u56C"
      },
      "source": [
        "dropout = 0.05\n",
        "history = fit_custom(exercise_name='ex_5.4_h_{0}_dropout_{1}'.format(h, dropout),\n",
        "                     x=x_fash_mnist_tr_flat, \n",
        "                     y=y_mnist_fash_train_1hot, \n",
        "                     validation_data=(x_fash_mnist_val_flat, y_mnist_fash_val_1hot), \n",
        "                     model=get_model(input_dim=input_dim_mnist, layers=2, h=h, optimizer=SGD, lr=0.01, dropout=dropout),\n",
        "                     epochs=150,\n",
        "                     verbose=1\n",
        ")"
      ]
    },
    {
      "cell_type": "code",
      "metadata": {
        "colab": {
          "base_uri": "https://localhost:8080/",
          "height": 302
        },
        "id": "u1Njpuziu6sP",
        "outputId": "a055b03e-b5e8-46d2-c540-ba38926eeef4"
      },
      "source": [
        "plot_history_custom(history, \"F-MNIST learning with 2 hidden layers (h = {0}) and dropout = {1}\".format(h, dropout));"
      ],
      "execution_count": null,
      "outputs": [
        {
          "output_type": "display_data",
          "data": {
            "image/png": "[encoded data removed]",
            "text/plain": [
              "<Figure size 432x288 with 2 Axes>"
            ]
          },
          "metadata": {
            "tags": []
          }
        }
      ]
    },
    {
      "cell_type": "code",
      "metadata": {
        "id": "Q8J14kxrvXLg"
      },
      "source": [
        "print(\"With dropout = {0}, the best validation accuracy is {1}.\".format(dropout, round(max(history[\"val_accuracy\"]), 2)))"
      ],
      "execution_count": null,
      "outputs": []
    },
    {
      "cell_type": "markdown",
      "metadata": {
        "id": "HsqM3VfdzBTP"
      },
      "source": [
        "#### Exercise 5.5\n",
        "\n",
        "BONUS: Try built-in data augmentation methods as a way to regularize: this may include horizontal flipping of the images or small rotations. You can use built-in methods in Keras. Report the augmentation method you used and the best validation accuracy. (2 pts) "
      ]
    },
    {
      "cell_type": "code",
      "metadata": {
        "id": "YQF_LuHZc3NU"
      },
      "source": [
        "# Use a small subset of the dataset to visualize the effect of data augmentation\n",
        "ncols=4\n",
        "nrows=2\n",
        "total = ncols * nrows\n",
        "x_mnist_fash_train_small = x_mnist_fash_train[0:total]\n",
        "y_mnist_fash_train_1hot_small = y_mnist_fash_train_1hot[0:total]\n",
        "\n",
        "image_generator_small = get_augmented_images_generator(x_mnist_fash_train_small, y_mnist_fash_train_1hot_small, batch_size=total)\n",
        "augmented_samples_small = next(image_generator_small)"
      ],
      "execution_count": null,
      "outputs": []
    },
    {
      "cell_type": "code",
      "metadata": {
        "id": "miGSprpoYo_8"
      },
      "source": [
        "print(\"Initial images:\")\n",
        "plot_some_samples(x_mnist_fash_train_small, y_mnist_fash_train_1hot_small, ncols=ncols, nrows=nrows);"
      ],
      "execution_count": null,
      "outputs": []
    },
    {
      "cell_type": "code",
      "metadata": {
        "colab": {
          "base_uri": "https://localhost:8080/",
          "height": 250
        },
        "id": "Uzr35KOCYd-1",
        "outputId": "d32efa12-1014-4d74-88fa-4ef5e9a385c1"
      },
      "source": [
        "print(\"Modified images:\")\n",
        "plot_some_samples(augmented_samples_small[0], augmented_samples_small[1], ncols=ncols, nrows=nrows);"
      ],
      "execution_count": null,
      "outputs": [
        {
          "output_type": "stream",
          "text": [
            "Modified images:\n"
          ],
          "name": "stdout"
        },
        {
          "output_type": "display_data",
          "data": {
            "image/png": "[encoded data removed]",
            "text/plain": [
              "<Figure size 432x288 with 8 Axes>"
            ]
          },
          "metadata": {
            "tags": []
          }
        }
      ]
    },
    {
      "cell_type": "code",
      "metadata": {
        "colab": {
          "base_uri": "https://localhost:8080/"
        },
        "id": "xeerLlT_cIG9",
        "outputId": "04112030-5c1d-4741-cb84-660449474cf6"
      },
      "source": [
        "# Generate new data\n",
        "image_generator = get_augmented_images_generator(\n",
        "    x_mnist_fash_train, \n",
        "    y_mnist_fash_train_1hot, \n",
        "    batch_size=x_mnist_fash_train.shape[0])\n",
        "\n",
        "augmented_samples = next(image_generator)\n",
        "print(\"Generated dataset shape x: {0} / y : {1}\".format(augmented_samples[0].shape, augmented_samples[1].shape))\n",
        "\n",
        "# Flatten images\n",
        "x_fash_augmented = augmented_samples[0].reshape(x_mnist_fash_train.shape[0], x_mnist_fash_train.shape[1]*x_mnist_fash_train.shape[2])\n",
        "\n",
        "# Normalize\n",
        "x_fash_augmented = x_fash_augmented / max_grey_value\n",
        "\n",
        "y_fash_1hot_augmented = augmented_samples[1]"
      ],
      "execution_count": null,
      "outputs": [
        {
          "output_type": "stream",
          "text": [
            "Generated dataset shape x: (60000, 28, 28, 1) / y : (60000, 10)\n"
          ],
          "name": "stdout"
        }
      ]
    },
    {
      "cell_type": "code",
      "metadata": {
        "id": "KtiJ7m50aK4e"
      },
      "source": [
        "# Add to initial dataset\n",
        "x_fash_augmented = np.concatenate([x_fash_mnist_tr_flat, x_fash_augmented])\n",
        "y_fash_1hot_augmented  = np.concatenate([y_mnist_fash_train_1hot, y_fash_1hot_augmented])"
      ],
      "execution_count": null,
      "outputs": []
    },
    {
      "cell_type": "code",
      "metadata": {
        "id": "2uzXg790sNlb"
      },
      "source": [
        "# Schuffle in the same way\n",
        "x_fash_augmented, y_fash_1hot_augmented = unison_shuffled(x_fash_augmented, y_fash_1hot_augmented)\n",
        "\n",
        "print(\"Augmented x training data from {0} to {1}\".format(x_fash_mnist_tr_flat.shape, x_fash_augmented.shape))\n",
        "print(\"Augmented y training data from {0} to {1}\".format(y_mnist_fash_train_1hot.shape, y_fash_1hot_augmented.shape))"
      ],
      "execution_count": null,
      "outputs": []
    },
    {
      "cell_type": "code",
      "metadata": {
        "colab": {
          "background_save": true
        },
        "id": "JXmWoxAEWcTv",
        "outputId": "3f827cf3-7718-44b2-c779-de861d4ec655"
      },
      "source": [
        "history = fit_custom(\n",
        "    exercise_name = \"ex_5.5\",\n",
        "    x=x_fash_augmented,\n",
        "    y=y_fash_1hot_augmented,\n",
        "    validation_data=(x_fash_mnist_val_flat, y_mnist_fash_val_1hot), \n",
        "    model = get_model(input_dim=input_dim_fash_mnist, layers=2, h=h, optimizer=SGD, lr=0.01),\n",
        "    epochs=200, \n",
        "    callbacks=get_callbacks(early_stop=True))"
      ],
      "execution_count": null,
      "outputs": [
        {
          "output_type": "stream",
          "text": [
            "Begin to train the model ex_5.5.\n",
            "Finished training the model ex_5.5.\n"
          ],
          "name": "stdout"
        }
      ]
    },
    {
      "cell_type": "code",
      "metadata": {
        "id": "eEdAkWYMlSs6"
      },
      "source": [
        "plot_history_custom(history=history, title='F-MNIST with data augmentation.');"
      ],
      "execution_count": null,
      "outputs": []
    },
    {
      "cell_type": "code",
      "metadata": {
        "id": "TCuF92y6sx0V"
      },
      "source": [
        "print(\"With data augmentation, the best validation accuracy is {0}.\".format(round(max(history[\"val_accuracy\"]), 2)))"
      ],
      "execution_count": null,
      "outputs": []
    },
    {
      "cell_type": "markdown",
      "metadata": {
        "id": "NDYfqS_MUmF9"
      },
      "source": [
        "## Exercise 6: Convolutional neural networks (CNNs) (10 points)\n",
        "\n",
        "Convolutional neural networks have an inductive bias that is well adapted to image classification. \n",
        "\n",
        "1. Design a convolutional neural network and train it without using explicit regularizers. (2 pts)\n",
        "2. Try to improve the best validation scores of the model by experiment with batch_normalization layers, dropout layers and l2-regularization on weights (kernels) and biases. (4 pts)\n",
        "3. After you have found good settings, plot the learning curves for both models, naive (=no tricks/regularization) and tuned (=tricks + regularized) together in a comparison plot. (2pts)\n",
        "4. How does the CNN performance compare to the so far best performing (deep) neural network model? (2 pts)\n",
        "\n",
        "*Hint:* You may get valuable inspiration from the keras [examples](https://keras.io/examples/), [for example](https://keras.io/examples/vision/mnist_convnet/)."
      ]
    },
    {
      "cell_type": "markdown",
      "metadata": {
        "id": "JUbPDPV_UmF9"
      },
      "source": [
        "**Answer to Question 4**: "
      ]
    },
    {
      "cell_type": "markdown",
      "metadata": {
        "id": "1-dXDw80UmF9"
      },
      "source": [
        "### Solution\n",
        "The best performing deep neural network achieves a validation accuracy of around 89%.\n",
        "However they tend to overfit to the training data.\n",
        "Especially the tuned CNN achieves much higher validation and test accuracy (~93%) with less overfitting."
      ]
    },
    {
      "cell_type": "markdown",
      "metadata": {
        "id": "xmrj2J5WZ_6H"
      },
      "source": [
        "#### Useful functions\n"
      ]
    },
    {
      "cell_type": "code",
      "metadata": {
        "id": "gDwTGc5GaBj2"
      },
      "source": [
        "def build_cnn(l2_lambda_value=0, is_dropout=False, is_batch_normalization=False):\n",
        "    \"\"\"Builds the base Keras model, without any regularization.\"\"\"\n",
        "    # Clear the session to remove all the nodes left over from previous models, free memory and preventing slowdown.\n",
        "    K.clear_session()\n",
        "    \n",
        "    kernel_regularizer = None if not l2_lambda_value else regularizers.l2(l2_lambda_value)\n",
        "    \n",
        "    model = keras.Sequential()\n",
        "    \n",
        "    model.add(keras.layers.Conv2D(64, kernel_size=(3, 3), activation='relu', padding='same', \n",
        "                                  input_shape=(28, 28, 1), kernel_regularizer=kernel_regularizer))\n",
        "    \n",
        "    if is_batch_normalization:\n",
        "        model.add(keras.layers.BatchNormalization())\n",
        "    \n",
        "    model.add(keras.layers.Conv2D(64, kernel_size=(3, 3), activation='relu', \n",
        "                                  kernel_regularizer=kernel_regularizer))\n",
        "    if is_batch_normalization:\n",
        "        model.add(keras.layers.BatchNormalization())\n",
        "        \n",
        "    model.add(keras.layers.MaxPooling2D(pool_size=(2, 2)))\n",
        "    if is_dropout:\n",
        "        model.add(keras.layers.Dropout(0.125))\n",
        "    \n",
        "    model.add(keras.layers.Conv2D(128, kernel_size=(3, 3), activation='relu', \n",
        "                                  padding='same', kernel_regularizer=kernel_regularizer))\n",
        "    if is_batch_normalization:\n",
        "        model.add(keras.layers.BatchNormalization())\n",
        "    \n",
        "    model.add(keras.layers.Conv2D(128, kernel_size=(3, 3), activation='relu', \n",
        "                                  kernel_regularizer=kernel_regularizer))\n",
        "    if is_batch_normalization:\n",
        "        model.add(keras.layers.BatchNormalization())\n",
        "   \n",
        "    model.add(keras.layers.MaxPooling2D(pool_size=(2, 2))) \n",
        "    if is_dropout:\n",
        "        model.add(keras.layers.Dropout(0.25))\n",
        "        \n",
        "    model.add(keras.layers.Conv2D(256, kernel_size=(3, 3), activation='relu', \n",
        "                                  padding='same', kernel_regularizer=kernel_regularizer))\n",
        "    if is_batch_normalization:\n",
        "        model.add(keras.layers.BatchNormalization())\n",
        "    \n",
        "    model.add(keras.layers.Conv2D(256, kernel_size=(3, 3), activation='relu', \n",
        "                                  kernel_regularizer=kernel_regularizer))\n",
        "    \n",
        "    if is_batch_normalization:\n",
        "        model.add(keras.layers.BatchNormalization())  \n",
        "    \n",
        "    model.add(keras.layers.MaxPooling2D(pool_size=(2, 2))) \n",
        "    if is_dropout:\n",
        "        model.add(keras.layers.Dropout(0.5))\n",
        "    \n",
        "    model.add(keras.layers.Flatten()) \n",
        "    \n",
        "    model.add(keras.layers.Dense(1024, activation='relu', kernel_regularizer=kernel_regularizer))\n",
        "    if is_dropout:\n",
        "        model.add(keras.layers.Dropout(0.5))\n",
        "\n",
        "    model.add(keras.layers.Dense(512, activation='relu', kernel_regularizer=kernel_regularizer))\n",
        "    if is_dropout:\n",
        "        model.add(keras.layers.Dropout(0.5))\n",
        "    model.add(keras.layers.Dense(10, activation='softmax'))\n",
        "    \n",
        "    adam = Adam(lr=0.0001, decay=1e-6)\n",
        "    model.compile(optimizer=adam, loss='categorical_crossentropy', metrics=['accuracy'])\n",
        "    return model\n",
        "    "
      ],
      "execution_count": null,
      "outputs": []
    },
    {
      "cell_type": "markdown",
      "metadata": {
        "id": "wvZz4x2WxLuS"
      },
      "source": [
        "#### Exercise 6.1.\n",
        "Design a convolutional neural network and train it without using explicit regularizers."
      ]
    },
    {
      "cell_type": "code",
      "metadata": {
        "id": "MHzcvHspQtMa",
        "colab": {
          "base_uri": "https://localhost:8080/"
        },
        "outputId": "3120fcb0-e2e2-4e53-9c04-827173df0d88"
      },
      "source": [
        "# Images must be in 4 dimensions, we must reshape\n",
        "x_mnist_fash_train_with_channel = add_channel_to_images(x_mnist_fash_train)\n",
        "x_mnist_fash_val_with_channel = add_channel_to_images(x_mnist_fash_val)\n",
        "#x_mnist_fash_val_with_channel = add_channel_to_images(x_mnist_fash_val)\n",
        "\n",
        "print(\"Reshaped train data from {0} to {1}\".format(x_mnist_fash_train.shape, x_mnist_fash_train_with_channel.shape))\n",
        "print(\"Reshaped validation data from {0} to {1}\".format(x_mnist_fash_val.shape, x_mnist_fash_val_with_channel.shape))"
      ],
      "execution_count": 78,
      "outputs": [
        {
          "output_type": "stream",
          "text": [
            "Reshaped train data from (60000, 28, 28) to (60000, 28, 28, 1)\n",
            "Reshaped validation data from (10000, 28, 28) to (10000, 28, 28, 1)\n"
          ],
          "name": "stdout"
        }
      ]
    },
    {
      "cell_type": "code",
      "metadata": {
        "id": "Favsp81eQtMb"
      },
      "source": [
        "model = build_cnn(l2_lambda_value=0,\n",
        "                  is_dropout=False,\n",
        "                  is_batch_normalization=False)\n",
        "model.summary()"
      ],
      "execution_count": null,
      "outputs": []
    },
    {
      "cell_type": "code",
      "metadata": {
        "id": "OPFEUhYflj8L"
      },
      "source": [
        "history_no_regularization = fit_custom(\n",
        "    exercise_name=\"ex_6.1\", \n",
        "    model=model, \n",
        "    x=x_mnist_fash_train_with_channel, \n",
        "    y=y_mnist_fash_train_1hot, \n",
        "    validation_data=(x_mnist_fash_val_with_channel, y_mnist_fash_val_1hot),  \n",
        "    epochs=50,\n",
        "    callbacks=None, \n",
        "    verbose=1)"
      ],
      "execution_count": null,
      "outputs": []
    },
    {
      "cell_type": "code",
      "metadata": {
        "id": "IdpazVAKqGNC"
      },
      "source": [
        "plot_history_custom(history_no_regularization, \"Training history of naive CNN\");"
      ],
      "execution_count": null,
      "outputs": []
    },
    {
      "cell_type": "code",
      "metadata": {
        "id": "lKhVkgMB7Kgj"
      },
      "source": [
        "print(\"For the CNN without regularization, the best validation accuracy is {0}.\".format(round(max(history_no_regularization[\"val_accuracy\"]), 2)))"
      ],
      "execution_count": null,
      "outputs": []
    },
    {
      "cell_type": "code",
      "metadata": {
        "id": "bVjFc4XU5Ngz"
      },
      "source": [
        "\"\"\"  # evaluate metrics\n",
        "  print(\"\\nEvaluating...\", flush=True)\n",
        "  print('Training data:', flush=True)\n",
        "  loss, acc = model.evaluate(x_train, y_train, verbose=1)\n",
        "  print(\"  Training : loss %.3f - acc %.3f\" % (loss, acc))\n",
        "  print('Cross-validation data:', flush=True)\n",
        "  loss, acc = model.evaluate(x_val, y_val, verbose=1)\n",
        "  print(\"  Cross-val: loss %.3f - acc %.3f\" % (loss, acc))\"\"\"\n",
        "\n",
        "\"\"\"\n",
        "best_naive_model = load_model(get_path_model(name), compile=True)\n",
        "val_err_naive, val_acc_naive = best_naive_model.evaluate(x_mnist_fash_val_re, y_mnist_fash_val_1hot, verbose=0)\n",
        "test_err_naive, test_acc_naive = best_naive_model.evaluate(x_mnist_fash_val_re, y_mnist_fash_val_1hot, verbose=0)\n",
        "print(\"{name}: val_err: {err}, val_acc: {acc}\".format(name=name, err=val_err_naive, acc=val_acc_naive))\n",
        "print(\"{name}: test_err: {err}, test_acc: {acc}\".format(name=name, err=test_err_naive, acc=test_acc_naive))\n",
        "\"\"\""
      ],
      "execution_count": null,
      "outputs": []
    },
    {
      "cell_type": "markdown",
      "metadata": {
        "id": "EsF75m_eQtMc"
      },
      "source": [
        "#### Exercise 6.2.\n",
        "Try to improve the best validation scores of the model by experiment with batch_normalization layers, dropout layers and l2-regularization on weights (kernels) and biases"
      ]
    },
    {
      "cell_type": "code",
      "metadata": {
        "id": "RJ0FlhjK2b1l"
      },
      "source": [
        "model = build_cnn(l2_lambda_value=0.01,\n",
        "                  is_dropout=True,\n",
        "                  is_batch_normalization=True)\n",
        "model.summary()"
      ],
      "execution_count": null,
      "outputs": []
    },
    {
      "cell_type": "code",
      "metadata": {
        "id": "0P65diFHBKXV"
      },
      "source": [
        "history_tuned = fit_custom(\n",
        "    exercise_name=\"ex_6.2\", \n",
        "    model=model, \n",
        "    x=x_mnist_fash_train_with_channel, \n",
        "    y=y_mnist_fash_train_1hot, \n",
        "    validation_data=(x_mnist_fash_val_with_channel, y_mnist_fash_val_1hot),  \n",
        "    epochs=50,\n",
        "    callbacks=None, \n",
        "    verbose=0)"
      ],
      "execution_count": null,
      "outputs": []
    },
    {
      "cell_type": "code",
      "metadata": {
        "id": "5H3dY-YV5ErB"
      },
      "source": [
        "plot_history_custom(history, \"Training history of tuned CNN\");"
      ],
      "execution_count": null,
      "outputs": []
    },
    {
      "cell_type": "code",
      "metadata": {
        "id": "ANtzUUtOBeWw"
      },
      "source": [
        "print(\"For the tuned CNN, the best validation accuracy is {0}.\".format(round(max(history[\"val_accuracy\"]), 2)))"
      ],
      "execution_count": null,
      "outputs": []
    },
    {
      "cell_type": "code",
      "metadata": {
        "id": "ZrS2szdgUr6b"
      },
      "source": [
        "\"\"\"best_tuned_model = load_model(get_path_model(name), compile=True)\n",
        "val_err_tuned, val_acc_tuned = best_tuned_model.evaluate(x_mnist_fash_val_re, y_mnist_fash_val_1hot, verbose=0)\n",
        "test_err_tuned, test_acc_tuned = best_tuned_model.evaluate(x_mnist_fash_val_re, y_mnist_fash_val_1hot, verbose=0)\n",
        "print(\"{name}: val_err: {err}, val_acc: {acc}\".format(name=name, err=val_err_tuned, acc=val_acc_tuned))\n",
        "print(\"{name}: test_err: {err}, test_acc: {acc}\".format(name=name, err=test_err_tuned, acc=test_acc_tuned))\"\"\""
      ],
      "execution_count": null,
      "outputs": []
    },
    {
      "cell_type": "markdown",
      "metadata": {
        "id": "o0v65dSCQtMf"
      },
      "source": [
        "#### Exercise 6.3.\n",
        "After you have found good settings, plot the learning curves for both models, naive (=no tricks/regularization) and tuned (=tricks + regularized) together in a comparison plot."
      ]
    },
    {
      "cell_type": "code",
      "metadata": {
        "id": "wEO2MnMeQtMg"
      },
      "source": [
        "comparison_plot_custom(history_no_regularization, history_tuned, \"Naive\", \"Tuned\", \"Model Comparison\");"
      ],
      "execution_count": null,
      "outputs": []
    }
  ]
}