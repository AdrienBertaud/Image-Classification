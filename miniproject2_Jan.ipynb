{
  "nbformat": 4,
  "nbformat_minor": 0,
  "metadata": {
    "colab": {
      "name": "miniproject2_Jan.ipynb",
      "provenance": []
    },
    "kernelspec": {
      "display_name": "Python 3",
      "language": "python",
      "name": "python3"
    },
    "language_info": {
      "codemirror_mode": {
        "name": "ipython",
        "version": 3
      },
      "file_extension": ".py",
      "mimetype": "text/x-python",
      "name": "python",
      "nbconvert_exporter": "python",
      "pygments_lexer": "ipython3",
      "version": "3.7.10"
    }
  },
  "cells": [
    {
      "cell_type": "markdown",
      "metadata": {
        "id": "jK-NMnvJ9yYP"
      },
      "source": [
        "# Miniproject: Image Classification\n",
        "\n",
        "### Description\n",
        "\n",
        "One of the oldest traditions in deep learning is to first tackle the fun problem of MNIST classification. [The MNIST dataset](https://en.wikipedia.org/wiki/MNIST_database) is a large database of handwritten digits that is commonly used as a first test for new classification algorithms. \n",
        "We follow this tradition to investigate the performance of artificial neural networks of different complexity on MNIST. However, since MNIST is too easy for accessing the full power of modern machine learning algorithms (see e.g. [this post](https://twitter.com/goodfellow_ian/status/852591106655043584)) we will extend our analysis to the recently introduced, harder [Fashion-MNIST dataset](https://github.com/zalandoresearch/fashion-mnist).\n",
        "\n",
        "### Prerequisites\n",
        "\n",
        "- You should have a running installation of [tensorflow](https://www.tensorflow.org/install/) and [keras](https://keras.io/). Feel free to gain inspiration from the [Keras example directory](https://keras.io/examples/) for your implementations.\n",
        "- You should know the concepts \"multilayer perceptron\", \"stochastic gradient descent with minibatches\", \"Adam\", \"convolutional neural network\", \"training and validation data\", \"overfitting\", \"regularization\", and \"early stopping\".\n",
        "\n",
        "### What you will learn\n",
        "\n",
        "- You will learn how to define feedforward neural networks in keras and fit them to data (i.e. training).\n",
        "- You will be guided through a prototyping procedure for the application of deep learning to a specific domain.\n",
        "- You will gain some experience on the influence of network architecture, optimizer and regularization choices on the goodness of fit.\n",
        "- You will learn to be more patient :) Some fits may take your computer quite a bit of time; run them over night (or on an external server).\n",
        "\n",
        "### Evaluation criteria\n",
        "\n",
        "The evaluation is (mostly) based on the figures you submit and your answer sentences. Provide clear and concise answers respecting the indicated maximum length.\n",
        "\n",
        "**The submitted notebook must be run by you!** We will only do random tests of your code and not re-run the full notebook. There will be fraud detection sessions at the end of the semester.\n",
        "\n",
        "### Your names\n",
        "\n",
        "**Before you start**: please enter your full name(s) in the field below."
      ]
    },
    {
      "cell_type": "code",
      "metadata": {
        "id": "28PgZjD39yYe",
        "outputId": "d5a8132d-23d6-4a1d-caa2-11f962842ad7"
      },
      "source": [
        "# Show which python interpreter and conda environment is used\n",
        "import sys\n",
        "sys.executable"
      ],
      "execution_count": null,
      "outputs": [
        {
          "output_type": "execute_result",
          "data": {
            "text/plain": [
              "'/Users/jankreischer/opt/anaconda3/envs/EPFL_Artificial-Neural-Networks/bin/python'"
            ]
          },
          "metadata": {
            "tags": []
          },
          "execution_count": 1
        }
      ]
    },
    {
      "cell_type": "code",
      "metadata": {
        "id": "MmcGA78l9yYi",
        "outputId": "96412af4-ce6c-4462-a625-d9303d7b0c32"
      },
      "source": [
        "# Check the currently used tensorflow and keras version\n",
        "import tensorflow as tf\n",
        "from tensorflow import keras\n",
        "print(\"Running tensorflow version: {0}\".format(tf.__version__))\n",
        "print(\"Running keras version: {0}\".format(keras.__version__))"
      ],
      "execution_count": null,
      "outputs": [
        {
          "output_type": "stream",
          "text": [
            "/Users/jankreischer/opt/anaconda3/envs/EPFL_Artificial-Neural-Networks/lib/python3.7/site-packages/tensorflow/python/framework/dtypes.py:516: FutureWarning: Passing (type, 1) or '1type' as a synonym of type is deprecated; in a future version of numpy, it will be understood as (type, (1,)) / '(1,)type'.\n",
            "  _np_qint8 = np.dtype([(\"qint8\", np.int8, 1)])\n",
            "/Users/jankreischer/opt/anaconda3/envs/EPFL_Artificial-Neural-Networks/lib/python3.7/site-packages/tensorflow/python/framework/dtypes.py:517: FutureWarning: Passing (type, 1) or '1type' as a synonym of type is deprecated; in a future version of numpy, it will be understood as (type, (1,)) / '(1,)type'.\n",
            "  _np_quint8 = np.dtype([(\"quint8\", np.uint8, 1)])\n",
            "/Users/jankreischer/opt/anaconda3/envs/EPFL_Artificial-Neural-Networks/lib/python3.7/site-packages/tensorflow/python/framework/dtypes.py:518: FutureWarning: Passing (type, 1) or '1type' as a synonym of type is deprecated; in a future version of numpy, it will be understood as (type, (1,)) / '(1,)type'.\n",
            "  _np_qint16 = np.dtype([(\"qint16\", np.int16, 1)])\n",
            "/Users/jankreischer/opt/anaconda3/envs/EPFL_Artificial-Neural-Networks/lib/python3.7/site-packages/tensorflow/python/framework/dtypes.py:519: FutureWarning: Passing (type, 1) or '1type' as a synonym of type is deprecated; in a future version of numpy, it will be understood as (type, (1,)) / '(1,)type'.\n",
            "  _np_quint16 = np.dtype([(\"quint16\", np.uint16, 1)])\n",
            "/Users/jankreischer/opt/anaconda3/envs/EPFL_Artificial-Neural-Networks/lib/python3.7/site-packages/tensorflow/python/framework/dtypes.py:520: FutureWarning: Passing (type, 1) or '1type' as a synonym of type is deprecated; in a future version of numpy, it will be understood as (type, (1,)) / '(1,)type'.\n",
            "  _np_qint32 = np.dtype([(\"qint32\", np.int32, 1)])\n",
            "/Users/jankreischer/opt/anaconda3/envs/EPFL_Artificial-Neural-Networks/lib/python3.7/site-packages/tensorflow/python/framework/dtypes.py:525: FutureWarning: Passing (type, 1) or '1type' as a synonym of type is deprecated; in a future version of numpy, it will be understood as (type, (1,)) / '(1,)type'.\n",
            "  np_resource = np.dtype([(\"resource\", np.ubyte, 1)])\n"
          ],
          "name": "stderr"
        },
        {
          "output_type": "stream",
          "text": [
            "Running tensorflow version: 1.14.0\n",
            "Running keras version: 2.2.4-tf\n"
          ],
          "name": "stdout"
        },
        {
          "output_type": "stream",
          "text": [
            "/Users/jankreischer/opt/anaconda3/envs/EPFL_Artificial-Neural-Networks/lib/python3.7/site-packages/tensorboard/compat/tensorflow_stub/dtypes.py:541: FutureWarning: Passing (type, 1) or '1type' as a synonym of type is deprecated; in a future version of numpy, it will be understood as (type, (1,)) / '(1,)type'.\n",
            "  _np_qint8 = np.dtype([(\"qint8\", np.int8, 1)])\n",
            "/Users/jankreischer/opt/anaconda3/envs/EPFL_Artificial-Neural-Networks/lib/python3.7/site-packages/tensorboard/compat/tensorflow_stub/dtypes.py:542: FutureWarning: Passing (type, 1) or '1type' as a synonym of type is deprecated; in a future version of numpy, it will be understood as (type, (1,)) / '(1,)type'.\n",
            "  _np_quint8 = np.dtype([(\"quint8\", np.uint8, 1)])\n",
            "/Users/jankreischer/opt/anaconda3/envs/EPFL_Artificial-Neural-Networks/lib/python3.7/site-packages/tensorboard/compat/tensorflow_stub/dtypes.py:543: FutureWarning: Passing (type, 1) or '1type' as a synonym of type is deprecated; in a future version of numpy, it will be understood as (type, (1,)) / '(1,)type'.\n",
            "  _np_qint16 = np.dtype([(\"qint16\", np.int16, 1)])\n",
            "/Users/jankreischer/opt/anaconda3/envs/EPFL_Artificial-Neural-Networks/lib/python3.7/site-packages/tensorboard/compat/tensorflow_stub/dtypes.py:544: FutureWarning: Passing (type, 1) or '1type' as a synonym of type is deprecated; in a future version of numpy, it will be understood as (type, (1,)) / '(1,)type'.\n",
            "  _np_quint16 = np.dtype([(\"quint16\", np.uint16, 1)])\n",
            "/Users/jankreischer/opt/anaconda3/envs/EPFL_Artificial-Neural-Networks/lib/python3.7/site-packages/tensorboard/compat/tensorflow_stub/dtypes.py:545: FutureWarning: Passing (type, 1) or '1type' as a synonym of type is deprecated; in a future version of numpy, it will be understood as (type, (1,)) / '(1,)type'.\n",
            "  _np_qint32 = np.dtype([(\"qint32\", np.int32, 1)])\n",
            "/Users/jankreischer/opt/anaconda3/envs/EPFL_Artificial-Neural-Networks/lib/python3.7/site-packages/tensorboard/compat/tensorflow_stub/dtypes.py:550: FutureWarning: Passing (type, 1) or '1type' as a synonym of type is deprecated; in a future version of numpy, it will be understood as (type, (1,)) / '(1,)type'.\n",
            "  np_resource = np.dtype([(\"resource\", np.ubyte, 1)])\n"
          ],
          "name": "stderr"
        }
      ]
    },
    {
      "cell_type": "code",
      "metadata": {
        "ExecuteTime": {
          "end_time": "2018-03-09T09:08:24.514461Z",
          "start_time": "2018-03-09T09:08:24.506410Z"
        },
        "id": "DYoECmjj9yYk"
      },
      "source": [
        "student1 = \"Jan Bauer (18-764-571)\"\n",
        "student2 = \"Adrien Bertaud (Todo Add Student Number)\""
      ],
      "execution_count": null,
      "outputs": []
    },
    {
      "cell_type": "markdown",
      "metadata": {
        "ExecuteTime": {
          "end_time": "2018-02-22T21:52:59.697375Z",
          "start_time": "2018-02-22T21:52:59.689443Z"
        },
        "id": "aj0v4KfR9yYl"
      },
      "source": [
        "## Some helper functions\n",
        "\n",
        "For your convenience we provide here some functions to preprocess the data and plot the results later. Simply run the following cells with `Shift-Enter`.\n",
        "\n",
        "### Dependencies and constants"
      ]
    },
    {
      "cell_type": "code",
      "metadata": {
        "ExecuteTime": {
          "end_time": "2018-02-23T14:27:09.352019Z",
          "start_time": "2018-02-23T14:27:08.476310Z"
        },
        "id": "79is4U1o9yYm",
        "outputId": "9620438e-bd1f-49ee-baa5-87d479703978"
      },
      "source": [
        "%matplotlib inline\n",
        "\n",
        "import numpy as np\n",
        "import time\n",
        "import matplotlib.pyplot as plt\n",
        "import scipy.io\n",
        "\n",
        "import keras\n",
        "from keras.models import Sequential, Model\n",
        "from keras.layers import Dense, Conv2D, MaxPooling2D, Dropout, Flatten, BatchNormalization, Input, InputLayer, Softmax\n",
        "from keras.optimizers import SGD, Adam\n",
        "from keras.callbacks import EarlyStopping, ModelCheckpoint, History\n",
        "from keras import regularizers"
      ],
      "execution_count": null,
      "outputs": [
        {
          "output_type": "stream",
          "text": [
            "Using TensorFlow backend.\n"
          ],
          "name": "stderr"
        }
      ]
    },
    {
      "cell_type": "code",
      "metadata": {
        "id": "uwqJ44xfNlGg"
      },
      "source": [
        "# Constants\n",
        "INPUT_DIM = 784;"
      ],
      "execution_count": null,
      "outputs": []
    },
    {
      "cell_type": "markdown",
      "metadata": {
        "id": "iSNwUWfS9yYn"
      },
      "source": [
        "### Plotting"
      ]
    },
    {
      "cell_type": "code",
      "metadata": {
        "ExecuteTime": {
          "end_time": "2018-02-23T15:11:52.252208Z",
          "start_time": "2018-02-23T15:11:52.121360Z"
        },
        "id": "-gvWs8219yYo"
      },
      "source": [
        "def plot_some_samples(x, y = [], yhat = [], select_from = [], \n",
        "                      ncols = 6, nrows = 4, xdim = 28, ydim = 28,\n",
        "                      label_mapping = range(10)):\n",
        "    \"\"\"plot some input vectors as grayscale images (optionally together with their assigned or predicted labels).\n",
        "    \n",
        "    x is an NxD - dimensional array, where D is the length of an input vector and N is the number of samples.\n",
        "    Out of the N samples, ncols x nrows indices are randomly selected from the list select_from (if it is empty, select_from becomes range(N)).\n",
        "    \"\"\"\n",
        "    fig, ax = plt.subplots(nrows, ncols)\n",
        "    if len(select_from) == 0:\n",
        "        select_from = range(x.shape[0])\n",
        "    indices = np.random.choice(select_from, size = min(ncols * nrows, len(select_from)), replace = False)\n",
        "    for i, ind in enumerate(indices):\n",
        "        thisax = ax[i//ncols,i%ncols]\n",
        "        thisax.matshow(x[ind].reshape(xdim, ydim), cmap='gray')\n",
        "        thisax.set_axis_off()\n",
        "        if len(y) != 0:\n",
        "            j = y[ind] if type(y[ind]) != np.ndarray else y[ind].argmax()\n",
        "            thisax.text(0, 0, (label_mapping[j]+1)%10, color='green', \n",
        "                                                       verticalalignment='top',\n",
        "                                                       transform=thisax.transAxes)\n",
        "        if len(yhat) != 0:\n",
        "            k = yhat[ind] if type(yhat[ind]) != np.ndarray else yhat[ind].argmax()\n",
        "            thisax.text(1, 0, (label_mapping[k]+1)%10, color='red',\n",
        "                                             verticalalignment='top',\n",
        "                                             horizontalalignment='right',\n",
        "                                             transform=thisax.transAxes)\n",
        "    return fig\n",
        "\n",
        "def prepare_standardplot(title, xlabel):\n",
        "    fig, (ax1, ax2) = plt.subplots(1, 2)\n",
        "    fig.suptitle(title)\n",
        "    ax1.set_ylabel('categorical cross entropy')\n",
        "    ax1.set_xlabel(xlabel)\n",
        "    ax1.set_yscale('log')\n",
        "    ax2.set_ylabel('accuracy [% correct]')\n",
        "    ax2.set_xlabel(xlabel)\n",
        "    return fig, ax1, ax2\n",
        "\n",
        "def finalize_standardplot(fig, ax1, ax2):\n",
        "    ax1handles, ax1labels = ax1.get_legend_handles_labels()\n",
        "    if len(ax1labels) > 0:\n",
        "        ax1.legend(ax1handles, ax1labels)\n",
        "    ax2handles, ax2labels = ax2.get_legend_handles_labels()\n",
        "    if len(ax2labels) > 0:\n",
        "        ax2.legend(ax2handles, ax2labels)\n",
        "    fig.tight_layout()\n",
        "    plt.subplots_adjust(top=0.9)\n",
        "\n",
        "def plot_history(history, title):\n",
        "    fig, ax1, ax2 = prepare_standardplot(title, 'epoch')\n",
        "    ax1.plot(history.history['loss'], label = \"train\")\n",
        "    ax1.plot(history.history['val_loss'], label = \"val\")\n",
        "    ax2.plot(history.history['accuracy'], label = \"train\")\n",
        "    ax2.plot(history.history['val_accuracy'], label = \"val\")\n",
        "    finalize_standardplot(fig, ax1, ax2)\n",
        "    return fig\n",
        "\n",
        "def plot_some_samples_cust(x, y = [], yhat = [], select_from = [], \n",
        "                      ncols = 6, nrows = 4, xdim = 28, ydim = 28,\n",
        "                      label_mapping = range(10)):\n",
        "    \"\"\"plot some input vectors as grayscale images (optionally together with their assigned or predicted labels).\n",
        "    \n",
        "    x is an NxD - dimensional array, where D is the length of an input vector and N is the number of samples.\n",
        "    Out of the N samples, ncols x nrows indices are randomly selected from the list select_from (if it is empty, select_from becomes range(N)).\n",
        "    \"\"\"\n",
        "    fig, ax = plt.subplots(nrows, ncols)\n",
        "    if len(select_from) == 0:\n",
        "        select_from = range(x.shape[0])\n",
        "    indices = np.random.choice(select_from, size = min(ncols * nrows, len(select_from)), replace = False)\n",
        "    for i, ind in enumerate(indices):\n",
        "        thisax = ax[i//ncols,i%ncols]\n",
        "        thisax.matshow(x[ind].reshape(xdim, ydim), cmap='gray')\n",
        "        thisax.set_axis_off()\n",
        "        if len(y) != 0:\n",
        "            j = y[ind] if type(y[ind]) != np.ndarray else y[ind].argmax()\n",
        "            thisax.text(0, 0, label_mapping[j], color='green', \n",
        "                                                       verticalalignment='top',\n",
        "                                                       transform=thisax.transAxes)\n",
        "        if len(yhat) != 0:\n",
        "            k = yhat[ind] if type(yhat[ind]) != np.ndarray else yhat[ind].argmax()\n",
        "            thisax.text(1, 0, label_mapping[k], color='red',\n",
        "                                             verticalalignment='top',\n",
        "                                             horizontalalignment='right',\n",
        "                                             transform=thisax.transAxes)\n",
        "    return fig\n",
        "\n"
      ],
      "execution_count": null,
      "outputs": []
    },
    {
      "cell_type": "markdown",
      "metadata": {
        "id": "IlpicHh19yYp"
      },
      "source": [
        "## Exercise 1: Data import and visualization (6 points)\n",
        "\n",
        "The datasets we use in this project (MNIST, Fashion-MNIST) consists of grayscale images with 28x28 pixels. \n",
        "The low resolution (and grayscale) of the images certainly misses some information that could be helpful for classifying the images. However, since the data has lower dimensionality due to the low resolution, the training converges faster. This is an advantage in situations like here (or generally when prototyping), where we want to try many different things without having to wait too long. \n",
        "\n",
        "1. As a warm-up exercise, use the importer to (down-)load the MNIST and Fashion-MNIST dataset. Assign useful variables to test & train images and labels for both datasets respectively. (2 pts)\n",
        "2. Use the function `plot_some_samples` defined above to plot some samples of the two datasets. What do the green digits at the bottom left of each image indicate? (2 pts)<font color='red'> I added an answer in my version ;)</font>\n",
        "3. To prepare for training: 1. transform the labels to one hot coding, i.e. for 5 classes, label 2 becomes the vector [0, 0, 1, 0, 0] (you can use `utils.to_categorical` function from keras), and 2. reshape (flatten) the input images to input vectors and rescale the input data into the range [0,1]. (2 pts)\n",
        "\n",
        "*Hint*: Keras comes with a convenient in-built [data importer](https://keras.io/datasets/) for common datasets. "
      ]
    },
    {
      "cell_type": "markdown",
      "metadata": {
        "id": "uqxYhsDp9yYq"
      },
      "source": [
        "**Answer to Question 2** (1 sentence):<br/>\n",
        "For each chosen sample, the value '*(label_mapping[j]+1)%10*' is printed in green<br/>\n",
        "and this corresponds to the true class label incremented by one and divided modulo 10."
      ]
    },
    {
      "cell_type": "markdown",
      "metadata": {
        "id": "SrKdgh9Z9yYr"
      },
      "source": [
        "### Solution"
      ]
    },
    {
      "cell_type": "markdown",
      "metadata": {
        "id": "gjJopU6F9yYt"
      },
      "source": [
        "<font color='red'>It is a good practice to avoid \"magic number\". In the context of that project, that won't neither evoluate in the future, nor be used by someone else than the teachers, it has no consequence. And I am pretty sure that it won't impact the notation. But as a good habit, I prefer to define in variables 255.0, 10 (max grey value, number of classes)...</font>\n",
        "\n",
        "<font color='red'>In my version I prefered to answer in the same order than the questions...</font>"
      ]
    },
    {
      "cell_type": "code",
      "metadata": {
        "id": "nNKAW4rL9yYt"
      },
      "source": [
        "from keras.utils import to_categorical"
      ],
      "execution_count": null,
      "outputs": []
    },
    {
      "cell_type": "code",
      "metadata": {
        "ExecuteTime": {
          "end_time": "2018-02-23T14:27:44.442862Z",
          "start_time": "2018-02-23T14:27:09.505547Z"
        },
        "id": "hep-miVz9yYu"
      },
      "source": [
        "(x_mnist_train, y_mnist_train), (x_mnist_test, y_mnist_test) = tf.keras.datasets.mnist.load_data(path=\"mnist10.data\")"
      ],
      "execution_count": null,
      "outputs": []
    },
    {
      "cell_type": "markdown",
      "metadata": {
        "id": "E2f84pbQ9yYu"
      },
      "source": [
        "<font color='red'>In my version, I plotted the normalization difference also (it is a detail, but to be consistent with the fact all others steps are plotted).</font>"
      ]
    },
    {
      "cell_type": "code",
      "metadata": {
        "id": "062go-3f9yYu"
      },
      "source": [
        "# Normalize to range 0-1\n",
        "x_mnist_train = x_mnist_train/255.0\n",
        "x_mnist_test = x_mnist_test/255.0"
      ],
      "execution_count": null,
      "outputs": []
    },
    {
      "cell_type": "code",
      "metadata": {
        "id": "vHhEl2hz9yYv",
        "outputId": "61eb79fa-f259-4250-89b3-ddcdf55abd97"
      },
      "source": [
        "x_mnist_train_reshaped = x_mnist_train.reshape(x_mnist_train.shape[0], x_mnist_train.shape[1]*x_mnist_train.shape[2])\n",
        "x_mnist_test_reshaped = x_mnist_test.reshape(x_mnist_test.shape[0], x_mnist_test.shape[1]*x_mnist_test.shape[2])\n",
        "print(\"Reshaped training data from {0} to {1}\".format(x_mnist_train.shape, x_mnist_train_reshaped.shape))\n",
        "print(\"Reshaped test data from {0} to {1}\".format(x_mnist_test.shape, x_mnist_test_reshaped.shape))"
      ],
      "execution_count": null,
      "outputs": [
        {
          "output_type": "stream",
          "text": [
            "Reshaped training data from (60000, 28, 28) to (60000, 784)\n",
            "Reshaped test data from (10000, 28, 28) to (10000, 784)\n"
          ],
          "name": "stdout"
        }
      ]
    },
    {
      "cell_type": "code",
      "metadata": {
        "id": "YPbAl7t69yYw",
        "outputId": "00daabae-3fc0-4d2d-d368-baa48603a18e"
      },
      "source": [
        "plot_some_samples(x_mnist_train, y_mnist_train, ncols=6, nrows=4);"
      ],
      "execution_count": null,
      "outputs": [
        {
          "output_type": "display_data",
          "data": {
            "image/png": "[encoded data removed]",
            "text/plain": [
              "<Figure size 432x288 with 24 Axes>"
            ]
          },
          "metadata": {
            "tags": [],
            "needs_background": "light"
          }
        }
      ]
    },
    {
      "cell_type": "markdown",
      "metadata": {
        "id": "VA8YtWrK9yYw"
      },
      "source": [
        "<font color='red'>In my version I added that print for test dataset also.</font>"
      ]
    },
    {
      "cell_type": "code",
      "metadata": {
        "id": "vAUMUVz59yYw",
        "outputId": "75a38ecc-17ac-4cb0-9428-fc5b68f4b72c"
      },
      "source": [
        "y_mnist_train_one_hot = to_categorical(y_mnist_train)\n",
        "y_mnist_test_one_hot = to_categorical(y_mnist_test)\n",
        "for i in range(10):\n",
        "    print(\"{0} => {1}\".format(y_mnist_train[i], y_mnist_train_one_hot[i]))"
      ],
      "execution_count": null,
      "outputs": [
        {
          "output_type": "stream",
          "text": [
            "5 => [0. 0. 0. 0. 0. 1. 0. 0. 0. 0.]\n",
            "0 => [1. 0. 0. 0. 0. 0. 0. 0. 0. 0.]\n",
            "4 => [0. 0. 0. 0. 1. 0. 0. 0. 0. 0.]\n",
            "1 => [0. 1. 0. 0. 0. 0. 0. 0. 0. 0.]\n",
            "9 => [0. 0. 0. 0. 0. 0. 0. 0. 0. 1.]\n",
            "2 => [0. 0. 1. 0. 0. 0. 0. 0. 0. 0.]\n",
            "1 => [0. 1. 0. 0. 0. 0. 0. 0. 0. 0.]\n",
            "3 => [0. 0. 0. 1. 0. 0. 0. 0. 0. 0.]\n",
            "1 => [0. 1. 0. 0. 0. 0. 0. 0. 0. 0.]\n",
            "4 => [0. 0. 0. 0. 1. 0. 0. 0. 0. 0.]\n"
          ],
          "name": "stdout"
        }
      ]
    },
    {
      "cell_type": "markdown",
      "metadata": {
        "id": "J7zk2pWR9yYx"
      },
      "source": [
        "<font color='red'>In my version, I kept the proposed naming for the fashion dataset(x_train, y_train). Not important I guess.\"</font>"
      ]
    },
    {
      "cell_type": "code",
      "metadata": {
        "id": "AD9YwEkf9yYy"
      },
      "source": [
        "# Downloads data at first execution\n",
        "(x_mnist_fashion_train, y_mnist_fashion_train), (x_mnist_fashion_test, y_mnist_fashion_test) = tf.keras.datasets.fashion_mnist.load_data()"
      ],
      "execution_count": null,
      "outputs": []
    },
    {
      "cell_type": "code",
      "metadata": {
        "id": "Gp0NBQKj9yYy"
      },
      "source": [
        "# Normalize to range 0-1\n",
        "x_mnist_fashion_train = x_mnist_fashion_train/255.0\n",
        "x_mnist_fashion_test = x_mnist_fashion_test/255.0"
      ],
      "execution_count": null,
      "outputs": []
    },
    {
      "cell_type": "code",
      "metadata": {
        "id": "yqk_Cesu9yYz",
        "outputId": "45535c59-a27a-4ab3-9638-169fd3f6b10a"
      },
      "source": [
        "x_mnist_fashion_train_reshaped = x_mnist_fashion_train.reshape(x_mnist_fashion_train.shape[0], x_mnist_fashion_train.shape[1]*x_mnist_fashion_train.shape[2])\n",
        "x_mnist_fashion_test_reshaped = x_mnist_fashion_test.reshape(x_mnist_fashion_test.shape[0], x_mnist_fashion_test.shape[1]*x_mnist_fashion_test.shape[2])\n",
        "print(\"Reshaped training data from {0} to {1}\".format(x_mnist_fashion_train.shape, x_mnist_fashion_train_reshaped.shape))\n",
        "print(\"Reshaped test data from {0} to {1}\".format(x_mnist_fashion_test.shape, x_mnist_fashion_test_reshaped.shape))"
      ],
      "execution_count": null,
      "outputs": [
        {
          "output_type": "stream",
          "text": [
            "Reshaped training data from (60000, 28, 28) to (60000, 784)\n",
            "Reshaped test data from (10000, 28, 28) to (10000, 784)\n"
          ],
          "name": "stdout"
        }
      ]
    },
    {
      "cell_type": "code",
      "metadata": {
        "id": "kuWCj0Uh9yYz",
        "outputId": "82168e4d-aeef-4927-db2c-b6e0a57ae568"
      },
      "source": [
        "plot_some_samples(x_mnist_fashion_train, y_mnist_fashion_train, ncols=6, nrows=4);"
      ],
      "execution_count": null,
      "outputs": [
        {
          "output_type": "display_data",
          "data": {
            "image/png": "[encoded data removed]",
            "text/plain": [
              "<Figure size 432x288 with 24 Axes>"
            ]
          },
          "metadata": {
            "tags": [],
            "needs_background": "light"
          }
        }
      ]
    },
    {
      "cell_type": "code",
      "metadata": {
        "id": "KeL09yhS9yY1",
        "outputId": "4dfa2544-60a2-4a61-d582-cf5bce7e033e"
      },
      "source": [
        "y_mnist_fashion_train_one_hot = to_categorical(y_mnist_fashion_train)\n",
        "y_mnist_fashion_test_one_hot = to_categorical(y_mnist_fashion_test)\n",
        "for i in range(10):\n",
        "    print(\"{0} => {1}\".format(y_mnist_fashion_train[i], y_mnist_fashion_train_one_hot[i]))"
      ],
      "execution_count": null,
      "outputs": [
        {
          "output_type": "stream",
          "text": [
            "9 => [0. 0. 0. 0. 0. 0. 0. 0. 0. 1.]\n",
            "0 => [1. 0. 0. 0. 0. 0. 0. 0. 0. 0.]\n",
            "0 => [1. 0. 0. 0. 0. 0. 0. 0. 0. 0.]\n",
            "3 => [0. 0. 0. 1. 0. 0. 0. 0. 0. 0.]\n",
            "0 => [1. 0. 0. 0. 0. 0. 0. 0. 0. 0.]\n",
            "2 => [0. 0. 1. 0. 0. 0. 0. 0. 0. 0.]\n",
            "7 => [0. 0. 0. 0. 0. 0. 0. 1. 0. 0.]\n",
            "2 => [0. 0. 1. 0. 0. 0. 0. 0. 0. 0.]\n",
            "5 => [0. 0. 0. 0. 0. 1. 0. 0. 0. 0.]\n",
            "5 => [0. 0. 0. 0. 0. 1. 0. 0. 0. 0.]\n"
          ],
          "name": "stdout"
        }
      ]
    },
    {
      "cell_type": "markdown",
      "metadata": {
        "id": "X7F2O6VN9yY1"
      },
      "source": [
        "## Exercise 2: No hidden layer (10 points)\n",
        "\n",
        "Define and fit a model without a hidden layer (since we will use multi-layer models later in this project, you can define a general constructor function for models with an arbitrary number of hidden layers already at this point). Note that in this miniproject there is no real test dataset and what is loaded as a test dataset is used for validation. First, implement 1.-3. for the MNIST dataset.  \n",
        "\n",
        "1. Implement the model with the following specifications: use the softmax activation for the output layer, use the categorical_crossentropy loss, choose stochastic gradient descent for the optimizer, and add the accuracy metric to the metrics. (5 pts)\n",
        "2. Train for as many epochs as needed to see no further decrease in the validation loss. (1 pt)\n",
        "3. Plot the learning curves resulting from the fitting procedure (a history object) using the function `plot_history` defined above. (1 pt)\n",
        "4. Repeat the above steps for fitting the network to the Fashion-MNIST dataset. (2 pts)\n",
        "5. Report the best validation accuracy achieved for each one of the datasets. Do you observe overfitting already for this simple model? Answer separetely for the MNIST dataset and Fashion-MNIST dataset. (1 pt)<br/>\n",
        "=> **Since, the training and validation losses as well as training and validation accuracies are very close, we conclude that the MNIST and MNIST Fashion model are not overfitting. <font color='red'>If overfitting, we should see the test lost stopping to decrease (i.e. increasing). But I am not sure that the difference between train loss and validation loss is a consistent proof. For example if the batch size is small, difference can be big. In addition if you learn for more epochs train loss continue to decrease while test loss stabilises.</font> Furthermore, since there is a lot of training data for a models with only 7960 parameters, it is unlikely that the model is overfitting.** <font color='red'>Especially Fashion-MNIST has been introduced as beeing \"harder\".</font>\n",
        "\n",
        "\n",
        "*Hint:* Read the keras docs, in particular [Getting started with the Keras Sequential model](https://keras.io/getting-started/sequential-model-guide/)."
      ]
    },
    {
      "cell_type": "markdown",
      "metadata": {
        "id": "a4W9PXSk9yY2"
      },
      "source": [
        "**Answer to Question 5** (max 2 sentences): "
      ]
    },
    {
      "cell_type": "markdown",
      "metadata": {
        "id": "wYaEZfr79yY2"
      },
      "source": [
        "### Solution"
      ]
    },
    {
      "cell_type": "code",
      "metadata": {
        "id": "fz-gcQZ59yY2",
        "outputId": "53f55589-b7e8-4e02-dde0-40a49f59e470"
      },
      "source": [
        "# Create model\n",
        "model = Sequential()\n",
        "\n",
        "# Get number of columns in training data\n",
        "n_cols = x_mnist_train_reshaped.shape[1]\n",
        "\n",
        "model.add(Dense(10, activation='relu', name=\"input_layer\", input_shape=(n_cols,)))\n",
        "model.add(Dense(10, activation='softmax', name=\"output_layer\"))\n",
        "model.compile(optimizer='SGD', loss='categorical_crossentropy', metrics=[\"accuracy\"])\n",
        "model.summary()"
      ],
      "execution_count": null,
      "outputs": [
        {
          "output_type": "stream",
          "text": [
            "Model: \"sequential_1\"\n",
            "_________________________________________________________________\n",
            "Layer (type)                 Output Shape              Param #   \n",
            "=================================================================\n",
            "input_layer (Dense)          (None, 10)                7850      \n",
            "_________________________________________________________________\n",
            "output_layer (Dense)         (None, 10)                110       \n",
            "=================================================================\n",
            "Total params: 7,960\n",
            "Trainable params: 7,960\n",
            "Non-trainable params: 0\n",
            "_________________________________________________________________\n"
          ],
          "name": "stdout"
        }
      ]
    },
    {
      "cell_type": "code",
      "metadata": {
        "id": "I3rQKb2r9yY3",
        "outputId": "e9af6bea-fe36-432e-ae82-c0b5c41d5e19"
      },
      "source": [
        "# Get number of columns in training data\n",
        "n_cols = x_mnist_train_reshaped.shape[1]\n",
        "\n",
        "inputs = Input(shape=(n_cols,), name=\"input_layer\")\n",
        "outputs = Dense(10, activation='softmax', name=\"output_layer\")(inputs)\n",
        "model = Model(inputs=inputs, outputs=outputs, name=\"Exercise 02 - MNIST\")\n",
        "model.compile(optimizer='SGD', loss='categorical_crossentropy', metrics=[\"accuracy\"])\n",
        "model.summary()"
      ],
      "execution_count": null,
      "outputs": [
        {
          "output_type": "stream",
          "text": [
            "Model: \"Exercise 02 - MNIST\"\n",
            "_________________________________________________________________\n",
            "Layer (type)                 Output Shape              Param #   \n",
            "=================================================================\n",
            "input_layer (InputLayer)     (None, 784)               0         \n",
            "_________________________________________________________________\n",
            "output_layer (Dense)         (None, 10)                7850      \n",
            "=================================================================\n",
            "Total params: 7,850\n",
            "Trainable params: 7,850\n",
            "Non-trainable params: 0\n",
            "_________________________________________________________________\n"
          ],
          "name": "stdout"
        }
      ]
    },
    {
      "cell_type": "markdown",
      "metadata": {
        "id": "GV51Jyd09yY3"
      },
      "source": [
        "<font color='red'>\n",
        "It appears that the ModelCheckpoint callback is not used.</font>\n",
        "\n",
        "<font color='red'>In fit, validation_split is overrided by validation_data.</font>\n",
        "    \n",
        "<font color='red'>Those comments are available for all others models.</font>\n",
        "</font>"
      ]
    },
    {
      "cell_type": "code",
      "metadata": {
        "id": "fmHcva4p9yY3",
        "outputId": "cd626ffe-7c5a-455b-d31a-a1403cf1d6ee"
      },
      "source": [
        "mc = ModelCheckpoint('exercise-02_mnist.keras', monitor='val_loss', mode='min', save_best_only=True, verbose=1)\n",
        "es = EarlyStopping(monitor='val_loss', mode='min', verbose=1, patience=5, min_delta=0.01)\n",
        "history = model.fit(x_mnist_train_reshaped, y_mnist_train_one_hot, validation_data=(x_mnist_test_reshaped, y_mnist_test_one_hot), epochs=100, callbacks=[es, mc], validation_split=0.2)"
      ],
      "execution_count": null,
      "outputs": [
        {
          "output_type": "stream",
          "text": [
            "Train on 60000 samples, validate on 10000 samples\n",
            "Epoch 1/100\n",
            "60000/60000 [==============================] - 5s 82us/step - loss: 0.7812 - accuracy: 0.8130 - val_loss: 0.4773 - val_accuracy: 0.8808\n",
            "\n",
            "Epoch 00001: val_loss improved from inf to 0.47733, saving model to exercise-02_mnist.keras\n",
            "Epoch 2/100\n",
            "60000/60000 [==============================] - 3s 55us/step - loss: 0.4545 - accuracy: 0.8814 - val_loss: 0.3974 - val_accuracy: 0.8954\n",
            "\n",
            "Epoch 00002: val_loss improved from 0.47733 to 0.39740, saving model to exercise-02_mnist.keras\n",
            "Epoch 3/100\n",
            "60000/60000 [==============================] - 4s 59us/step - loss: 0.4020 - accuracy: 0.8910 - val_loss: 0.3651 - val_accuracy: 0.9029\n",
            "\n",
            "Epoch 00003: val_loss improved from 0.39740 to 0.36514, saving model to exercise-02_mnist.keras\n",
            "Epoch 4/100\n",
            "60000/60000 [==============================] - 3s 56us/step - loss: 0.3757 - accuracy: 0.8967 - val_loss: 0.3463 - val_accuracy: 0.9077\n",
            "\n",
            "Epoch 00004: val_loss improved from 0.36514 to 0.34630, saving model to exercise-02_mnist.keras\n",
            "Epoch 5/100\n",
            "60000/60000 [==============================] - 3s 56us/step - loss: 0.3592 - accuracy: 0.9006 - val_loss: 0.3351 - val_accuracy: 0.9087\n",
            "\n",
            "Epoch 00005: val_loss improved from 0.34630 to 0.33511, saving model to exercise-02_mnist.keras\n",
            "Epoch 6/100\n",
            "60000/60000 [==============================] - 4s 63us/step - loss: 0.3475 - accuracy: 0.9039 - val_loss: 0.3264 - val_accuracy: 0.9107\n",
            "\n",
            "Epoch 00006: val_loss improved from 0.33511 to 0.32641, saving model to exercise-02_mnist.keras\n",
            "Epoch 7/100\n",
            "60000/60000 [==============================] - 4s 67us/step - loss: 0.3386 - accuracy: 0.9057 - val_loss: 0.3194 - val_accuracy: 0.9122\n",
            "\n",
            "Epoch 00007: val_loss improved from 0.32641 to 0.31943, saving model to exercise-02_mnist.keras\n",
            "Epoch 8/100\n",
            "60000/60000 [==============================] - 4s 69us/step - loss: 0.3315 - accuracy: 0.9074 - val_loss: 0.3129 - val_accuracy: 0.9146\n",
            "\n",
            "Epoch 00008: val_loss improved from 0.31943 to 0.31288, saving model to exercise-02_mnist.keras\n",
            "Epoch 9/100\n",
            "60000/60000 [==============================] - 4s 64us/step - loss: 0.3258 - accuracy: 0.9096 - val_loss: 0.3096 - val_accuracy: 0.9154\n",
            "\n",
            "Epoch 00009: val_loss improved from 0.31288 to 0.30957, saving model to exercise-02_mnist.keras\n",
            "Epoch 10/100\n",
            "60000/60000 [==============================] - 4s 63us/step - loss: 0.3209 - accuracy: 0.9107 - val_loss: 0.3055 - val_accuracy: 0.9166\n",
            "\n",
            "Epoch 00010: val_loss improved from 0.30957 to 0.30547, saving model to exercise-02_mnist.keras\n",
            "Epoch 11/100\n",
            "60000/60000 [==============================] - 4s 68us/step - loss: 0.3166 - accuracy: 0.9118 - val_loss: 0.3024 - val_accuracy: 0.9167\n",
            "\n",
            "Epoch 00011: val_loss improved from 0.30547 to 0.30236, saving model to exercise-02_mnist.keras\n",
            "Epoch 12/100\n",
            "60000/60000 [==============================] - 4s 64us/step - loss: 0.3131 - accuracy: 0.9130 - val_loss: 0.3009 - val_accuracy: 0.9171\n",
            "\n",
            "Epoch 00012: val_loss improved from 0.30236 to 0.30086, saving model to exercise-02_mnist.keras\n",
            "Epoch 13/100\n",
            "60000/60000 [==============================] - 4s 64us/step - loss: 0.3098 - accuracy: 0.9137 - val_loss: 0.2974 - val_accuracy: 0.9176\n",
            "\n",
            "Epoch 00013: val_loss improved from 0.30086 to 0.29739, saving model to exercise-02_mnist.keras\n",
            "Epoch 14/100\n",
            "60000/60000 [==============================] - 4s 71us/step - loss: 0.3070 - accuracy: 0.9140 - val_loss: 0.2952 - val_accuracy: 0.9172\n",
            "\n",
            "Epoch 00014: val_loss improved from 0.29739 to 0.29522, saving model to exercise-02_mnist.keras\n",
            "Epoch 15/100\n",
            "60000/60000 [==============================] - 4s 63us/step - loss: 0.3045 - accuracy: 0.9151 - val_loss: 0.2936 - val_accuracy: 0.9185\n",
            "\n",
            "Epoch 00015: val_loss improved from 0.29522 to 0.29359, saving model to exercise-02_mnist.keras\n",
            "Epoch 16/100\n",
            "60000/60000 [==============================] - 4s 65us/step - loss: 0.3022 - accuracy: 0.9162 - val_loss: 0.2923 - val_accuracy: 0.9192\n",
            "\n",
            "Epoch 00016: val_loss improved from 0.29359 to 0.29230, saving model to exercise-02_mnist.keras\n",
            "Epoch 17/100\n",
            "60000/60000 [==============================] - 3s 58us/step - loss: 0.3000 - accuracy: 0.9163 - val_loss: 0.2902 - val_accuracy: 0.9195\n",
            "\n",
            "Epoch 00017: val_loss improved from 0.29230 to 0.29022, saving model to exercise-02_mnist.keras\n",
            "Epoch 18/100\n",
            "60000/60000 [==============================] - 3s 56us/step - loss: 0.2981 - accuracy: 0.9171 - val_loss: 0.2889 - val_accuracy: 0.9188\n",
            "\n",
            "Epoch 00018: val_loss improved from 0.29022 to 0.28891, saving model to exercise-02_mnist.keras\n",
            "Epoch 19/100\n",
            "60000/60000 [==============================] - 3s 58us/step - loss: 0.2964 - accuracy: 0.9169 - val_loss: 0.2882 - val_accuracy: 0.9198\n",
            "\n",
            "Epoch 00019: val_loss improved from 0.28891 to 0.28820, saving model to exercise-02_mnist.keras\n",
            "Epoch 00019: early stopping\n"
          ],
          "name": "stdout"
        }
      ]
    },
    {
      "cell_type": "code",
      "metadata": {
        "id": "BAKaVTsl9yY4",
        "outputId": "8ea560a1-8fb1-4d23-ce0e-2f49885d17fa"
      },
      "source": [
        "# We saw that the improvement of the validation accuracy levels out after 25/30 epochs\n",
        "plot_history(history, \"No Hidden Layer @ MNIST\");"
      ],
      "execution_count": null,
      "outputs": [
        {
          "output_type": "display_data",
          "data": {
            "image/png": "[encoded data removed]",
            "text/plain": [
              "<Figure size 432x288 with 2 Axes>"
            ]
          },
          "metadata": {
            "tags": [],
            "needs_background": "light"
          }
        }
      ]
    },
    {
      "cell_type": "code",
      "metadata": {
        "id": "hOijL93Q9yY5",
        "outputId": "263f03cb-9cbb-4a3b-ac2a-f6a0a13ca8b5"
      },
      "source": [
        "# Get number of columns in training data\n",
        "n_cols = x_mnist_train_reshaped.shape[1]\n",
        "\n",
        "inputs = Input(shape=(n_cols,), name=\"input_layer\")\n",
        "outputs = Dense(10, activation='softmax', name=\"output_layer\")(inputs)\n",
        "model = Model(inputs=inputs, outputs=outputs, name=\"Exercise 02 - MNIST Fashion\")\n",
        "model.compile(optimizer='SGD', loss='categorical_crossentropy', metrics=[\"accuracy\"])\n",
        "model.summary()"
      ],
      "execution_count": null,
      "outputs": [
        {
          "output_type": "stream",
          "text": [
            "Model: \"Exercise 02 - MNIST Fashion\"\n",
            "_________________________________________________________________\n",
            "Layer (type)                 Output Shape              Param #   \n",
            "=================================================================\n",
            "input_layer (InputLayer)     (None, 784)               0         \n",
            "_________________________________________________________________\n",
            "output_layer (Dense)         (None, 10)                7850      \n",
            "=================================================================\n",
            "Total params: 7,850\n",
            "Trainable params: 7,850\n",
            "Non-trainable params: 0\n",
            "_________________________________________________________________\n"
          ],
          "name": "stdout"
        }
      ]
    },
    {
      "cell_type": "code",
      "metadata": {
        "id": "yN9Ur8Ug9yY5",
        "outputId": "9381c27a-458a-4a79-9d74-51b3802cdc44"
      },
      "source": [
        "mc = ModelCheckpoint('exercise-02_mnist-fashion.keras', monitor='val_loss', mode='min', save_best_only=True, verbose=1)\n",
        "es = EarlyStopping(monitor='val_loss', mode='min', verbose=1, patience=10, min_delta=0.01)\n",
        "history = model.fit(x_mnist_fashion_train_reshaped, y_mnist_fashion_train_one_hot, validation_data=(x_mnist_fashion_test_reshaped, y_mnist_fashion_test_one_hot), epochs=100, callbacks=[es, mc], validation_split=0.2)"
      ],
      "execution_count": null,
      "outputs": [
        {
          "output_type": "stream",
          "text": [
            "Train on 60000 samples, validate on 10000 samples\n",
            "Epoch 1/100\n",
            "60000/60000 [==============================] - 3s 46us/step - loss: 0.3840 - accuracy: 0.8678 - val_loss: 0.4381 - val_accuracy: 0.8448\n",
            "\n",
            "Epoch 00001: val_loss improved from inf to 0.43808, saving model to exercise-02_mnist-fashion.h5\n",
            "Epoch 2/100\n",
            "60000/60000 [==============================] - 3s 50us/step - loss: 0.3836 - accuracy: 0.8677 - val_loss: 0.4384 - val_accuracy: 0.8438\n",
            "\n",
            "Epoch 00002: val_loss did not improve from 0.43808\n",
            "Epoch 3/100\n",
            "60000/60000 [==============================] - 3s 47us/step - loss: 0.3838 - accuracy: 0.8674 - val_loss: 0.4373 - val_accuracy: 0.8450\n",
            "\n",
            "Epoch 00003: val_loss improved from 0.43808 to 0.43725, saving model to exercise-02_mnist-fashion.h5\n",
            "Epoch 4/100\n",
            "60000/60000 [==============================] - 3s 55us/step - loss: 0.3835 - accuracy: 0.8676 - val_loss: 0.4371 - val_accuracy: 0.8446\n",
            "\n",
            "Epoch 00004: val_loss improved from 0.43725 to 0.43712, saving model to exercise-02_mnist-fashion.h5\n",
            "Epoch 5/100\n",
            "60000/60000 [==============================] - 3s 43us/step - loss: 0.3831 - accuracy: 0.8673 - val_loss: 0.4369 - val_accuracy: 0.8448\n",
            "\n",
            "Epoch 00005: val_loss improved from 0.43712 to 0.43691, saving model to exercise-02_mnist-fashion.h5\n",
            "Epoch 6/100\n",
            "60000/60000 [==============================] - 2s 41us/step - loss: 0.3826 - accuracy: 0.8679 - val_loss: 0.4389 - val_accuracy: 0.8438\n",
            "\n",
            "Epoch 00006: val_loss did not improve from 0.43691\n",
            "Epoch 7/100\n",
            "60000/60000 [==============================] - 2s 41us/step - loss: 0.3827 - accuracy: 0.8683 - val_loss: 0.4372 - val_accuracy: 0.8446 - accu\n",
            "\n",
            "Epoch 00007: val_loss did not improve from 0.43691\n",
            "Epoch 8/100\n",
            "60000/60000 [==============================] - 2s 42us/step - loss: 0.3823 - accuracy: 0.8684 - val_loss: 0.4411 - val_accuracy: 0.8426\n",
            "\n",
            "Epoch 00008: val_loss did not improve from 0.43691\n",
            "Epoch 9/100\n",
            "60000/60000 [==============================] - 2s 42us/step - loss: 0.3820 - accuracy: 0.8678 - val_loss: 0.4375 - val_accuracy: 0.8442\n",
            "\n",
            "Epoch 00009: val_loss did not improve from 0.43691\n",
            "Epoch 10/100\n",
            "60000/60000 [==============================] - 3s 47us/step - loss: 0.3818 - accuracy: 0.8682 - val_loss: 0.4364 - val_accuracy: 0.8457\n",
            "\n",
            "Epoch 00010: val_loss improved from 0.43691 to 0.43642, saving model to exercise-02_mnist-fashion.h5\n",
            "Epoch 11/100\n",
            "60000/60000 [==============================] - 3s 54us/step - loss: 0.3818 - accuracy: 0.8682 - val_loss: 0.4372 - val_accuracy: 0.8439\n",
            "\n",
            "Epoch 00011: val_loss did not improve from 0.43642\n",
            "Epoch 00011: early stopping\n"
          ],
          "name": "stdout"
        }
      ]
    },
    {
      "cell_type": "code",
      "metadata": {
        "id": "o1T6V6Sj9yY6",
        "outputId": "9c86b48e-0a05-4c38-bc05-c248eb08ca7a"
      },
      "source": [
        "plot_history(history, \"No Hidden Layer @ MNIST Fashion\");"
      ],
      "execution_count": null,
      "outputs": [
        {
          "output_type": "display_data",
          "data": {
            "image/png": "[encoded data removed]",
            "text/plain": [
              "<Figure size 432x288 with 2 Axes>"
            ]
          },
          "metadata": {
            "tags": [],
            "needs_background": "light"
          }
        }
      ]
    },
    {
      "cell_type": "markdown",
      "metadata": {
        "id": "bdGgBLdQ9yY6"
      },
      "source": [
        "## Exercise 3: One hidden layer, different optimizers (10 points)\n",
        "\n",
        "Train a network with one hidden layer and compare different optimizers for the MNIST dataset.\n",
        "\n",
        "1. Use one hidden layer with 128 units and the 'relu' activation. Use the [summary method](https://keras.io/api/models/model/#summary-method) to display your model in a compact way. (1 pt)\n",
        "2. Train the model for at least 50 epochs with different learning rates of stochastic gradient descent (SGD). What happens if the learning rate $\\eta$ is very large (for ex. $\\eta=1$), and very small (for ex. $\\eta=0.001$)? Comment on the fluctuations of the learning curve. (2 pts)\n",
        "3. Replace the stochastic gradient descent optimizer with the [Adam optimizer](https://keras.io/optimizers/#adam) (you can use the default learning rate). (1pt)\n",
        "4. Plot the learning curves of SGD with a good learning rate (i.e. in the range [0.01,0.1]) together with the learning curves of Adam in the same figure. Take care of a reasonable labeling of the curves in the plot. (1 pts)\n",
        "5. Explain the qualitative difference between the loss and accuracy curves with respect to signs of overfitting. Report the best validation accuracy achieved for SGD and Adam. Which one is better and why do you think so? (2 pts)\n",
        "6. Determine the indices of all test images that are misclassified by the fitted model and plot some of them using the function \n",
        "   `plot_some_samples`. (1 pt)\n",
        "\n",
        "Real-world datasets are labeled by some people and sometimes there are mistakes in the labeling. We will corrupt labels of the MNIST dataset artifically, and observe an overfitting to this noisy dataset with Adam. \n",
        "\n",
        "7. Take $ p = 0.2 $ fraction of the data points from the training dataset of MNIST and change their class labels randomly. (You can sample a random integer from 0 to 9 using `np.random.uniform` and `np.floor`). Train with Adam for 50 or 100 epochs. Plot the learning curves. Do you observe overfitting in the validation accuracy? Does it take longer to converge to perfect training accuracy compare to noise-free MNIST? (2 pts)"
      ]
    },
    {
      "cell_type": "markdown",
      "metadata": {
        "id": "NRdRiD8r9yY7"
      },
      "source": [
        "**Answer to Question 2** (max 2 sentences):<br/>\n",
        "We can see in the diagrams that fluctuations of the learning curve are increasing with the learning rate. For small learning rates {0.01, 0.001} almost no fluctuations in the learning curve can be seen anymore and the shape of the learning curve is really smooth. <font color='red'> (This can be explained by the fact that with a small learning rates, the algorithm makes smaller steps, and so weights change less before correcting direction.)</font> \n",
        "\n",
        "**Answer to Question 5** (max 3 sentences): <font color='red'>Adam is faster to learn but at the end they perform in the same way (so faster leaning, but similar performances). We can explain it, saying that the networks are the same, but in Adam case the learning rate is adapting. To get models of similar performances, we must stop learning when it begins to overfit (around 5 epochs for Adam).</font>\n",
        "\n",
        "**Answer to Question 7** (max 2 sentences): "
      ]
    },
    {
      "cell_type": "markdown",
      "metadata": {
        "id": "O2CzbkEh9yY7"
      },
      "source": [
        "### Solution\n",
        "#### Exercise 3.1"
      ]
    },
    {
      "cell_type": "markdown",
      "metadata": {
        "id": "D5Ibm4yy9yY7"
      },
      "source": [
        "<font color='red'>Dense layer already imported in the original Notebook.</font>\n",
        "\n",
        "<font color='red'>Here, you use the keras.models.Models, but you could keep using keras.models.Sequential which implements itself a keras.models.Models.</font>\n",
        "\n",
        "<font color='red'>You could define n_cols_mnist and n_col_fashion_mnist once and for all.</font>"
      ]
    },
    {
      "cell_type": "code",
      "metadata": {
        "id": "Hxcg618C9yY7",
        "outputId": "6a9b259c-669a-4156-dff6-df34c38e7489"
      },
      "source": [
        "from keras.layers import InputLayer\n",
        "from keras.models import Model\n",
        "from keras.layers import Input, Dense\n",
        "\n",
        "histories = []\n",
        "\n",
        "def return_new_model():\n",
        "    # Get number of columns in training data\n",
        "    n_cols = x_mnist_train_reshaped.shape[1]\n",
        "\n",
        "    inputs = Input(shape=(n_cols,), name=\"input_layer\")\n",
        "    layer = Dense(128, activation='relu', name=\"hidden_layer\")(inputs)\n",
        "    outputs = Dense(10, activation='softmax', name=\"output_layer\")(layer)\n",
        "\n",
        "    model = Model(inputs=inputs, outputs=outputs, name=\"ex3.1\")\n",
        "    return model\n",
        "\n",
        "model = return_new_model()\n",
        "model.summary()"
      ],
      "execution_count": null,
      "outputs": [
        {
          "output_type": "stream",
          "text": [
            "Model: \"ex3.1\"\n",
            "_________________________________________________________________\n",
            "Layer (type)                 Output Shape              Param #   \n",
            "=================================================================\n",
            "input_layer (InputLayer)     (None, 784)               0         \n",
            "_________________________________________________________________\n",
            "hidden_layer (Dense)         (None, 128)               100480    \n",
            "_________________________________________________________________\n",
            "output_layer (Dense)         (None, 10)                1290      \n",
            "=================================================================\n",
            "Total params: 101,770\n",
            "Trainable params: 101,770\n",
            "Non-trainable params: 0\n",
            "_________________________________________________________________\n"
          ],
          "name": "stdout"
        }
      ]
    },
    {
      "cell_type": "markdown",
      "metadata": {
        "id": "sHnhdppa9yY8"
      },
      "source": [
        "#### Exercise 3.2"
      ]
    },
    {
      "cell_type": "markdown",
      "metadata": {
        "id": "G7GnNM0D9yY8"
      },
      "source": [
        "<font color='red'>Alternatively of creating a new model, we could use model.reset_states().</font>\n",
        "\n",
        "<font color='red'>histories could be used to plot curves in another cell (here there are logs and we must scroll down to see them).</font>"
      ]
    },
    {
      "cell_type": "code",
      "metadata": {
        "id": "49oNYflR9yY8",
        "outputId": "45df3d10-b3cc-43c1-968b-54646ef11a38"
      },
      "source": [
        "for lr in [10**(-e) for e in range(0,4)]:\n",
        "    print(\"Optimizing model with SGD (lr: {0})\".format(lr))\n",
        "    model = return_new_model()\n",
        "    mc = ModelCheckpoint('exercise-03_sgd_lr-{0}.keras'.format(str(lr).replace('.',',')), monitor='val_loss', mode='min', save_best_only=True, verbose=1)\n",
        "    model.compile(optimizer=SGD(lr=lr), loss='categorical_crossentropy', metrics=[\"accuracy\"])\n",
        "    history = model.fit(x_mnist_train_reshaped, y_mnist_train_one_hot, validation_data=(x_mnist_test_reshaped, y_mnist_test_one_hot), epochs=50, validation_split=0.2, verbose=0, callbacks=[mc])\n",
        "    histories.append(history)\n",
        "    plot_history(history, \"LR {0} @ MNIST\".format(lr));"
      ],
      "execution_count": null,
      "outputs": [
        {
          "output_type": "stream",
          "text": [
            "Optimizing model with SGD (lr: 1)\n",
            "WARNING:tensorflow:From /Users/jankreischer/opt/anaconda3/envs/UZH_Masterproject/lib/python3.7/site-packages/keras/backend/tensorflow_backend.py:422: The name tf.global_variables is deprecated. Please use tf.compat.v1.global_variables instead.\n",
            "\n",
            "\n",
            "Epoch 00001: val_loss improved from inf to 0.25978, saving model to exercise-03_sgd_lr-1.keras\n",
            "\n",
            "Epoch 00002: val_loss improved from 0.25978 to 0.18671, saving model to exercise-03_sgd_lr-1.keras\n",
            "\n",
            "Epoch 00003: val_loss improved from 0.18671 to 0.17947, saving model to exercise-03_sgd_lr-1.keras\n",
            "\n",
            "Epoch 00004: val_loss improved from 0.17947 to 0.16162, saving model to exercise-03_sgd_lr-1.keras\n",
            "\n",
            "Epoch 00005: val_loss did not improve from 0.16162\n",
            "\n",
            "Epoch 00006: val_loss did not improve from 0.16162\n",
            "\n",
            "Epoch 00007: val_loss did not improve from 0.16162\n",
            "\n",
            "Epoch 00008: val_loss did not improve from 0.16162\n",
            "\n",
            "Epoch 00009: val_loss did not improve from 0.16162\n",
            "\n",
            "Epoch 00010: val_loss did not improve from 0.16162\n",
            "\n",
            "Epoch 00011: val_loss did not improve from 0.16162\n",
            "\n",
            "Epoch 00012: val_loss did not improve from 0.16162\n",
            "\n",
            "Epoch 00013: val_loss did not improve from 0.16162\n",
            "\n",
            "Epoch 00014: val_loss did not improve from 0.16162\n",
            "\n",
            "Epoch 00015: val_loss did not improve from 0.16162\n",
            "\n",
            "Epoch 00016: val_loss did not improve from 0.16162\n",
            "\n",
            "Epoch 00017: val_loss did not improve from 0.16162\n",
            "\n",
            "Epoch 00018: val_loss did not improve from 0.16162\n",
            "\n",
            "Epoch 00019: val_loss did not improve from 0.16162\n",
            "\n",
            "Epoch 00020: val_loss did not improve from 0.16162\n",
            "\n",
            "Epoch 00021: val_loss did not improve from 0.16162\n",
            "\n",
            "Epoch 00022: val_loss did not improve from 0.16162\n",
            "\n",
            "Epoch 00023: val_loss did not improve from 0.16162\n",
            "\n",
            "Epoch 00024: val_loss did not improve from 0.16162\n",
            "\n",
            "Epoch 00025: val_loss did not improve from 0.16162\n",
            "\n",
            "Epoch 00026: val_loss did not improve from 0.16162\n",
            "\n",
            "Epoch 00027: val_loss did not improve from 0.16162\n",
            "\n",
            "Epoch 00028: val_loss did not improve from 0.16162\n",
            "\n",
            "Epoch 00029: val_loss did not improve from 0.16162\n",
            "\n",
            "Epoch 00030: val_loss did not improve from 0.16162\n",
            "\n",
            "Epoch 00031: val_loss did not improve from 0.16162\n",
            "\n",
            "Epoch 00032: val_loss did not improve from 0.16162\n",
            "\n",
            "Epoch 00033: val_loss did not improve from 0.16162\n",
            "\n",
            "Epoch 00034: val_loss did not improve from 0.16162\n",
            "\n",
            "Epoch 00035: val_loss did not improve from 0.16162\n",
            "\n",
            "Epoch 00036: val_loss did not improve from 0.16162\n",
            "\n",
            "Epoch 00037: val_loss did not improve from 0.16162\n",
            "\n",
            "Epoch 00038: val_loss did not improve from 0.16162\n",
            "\n",
            "Epoch 00039: val_loss did not improve from 0.16162\n",
            "\n",
            "Epoch 00040: val_loss did not improve from 0.16162\n",
            "\n",
            "Epoch 00041: val_loss did not improve from 0.16162\n",
            "\n",
            "Epoch 00042: val_loss did not improve from 0.16162\n",
            "\n",
            "Epoch 00043: val_loss did not improve from 0.16162\n",
            "\n",
            "Epoch 00044: val_loss did not improve from 0.16162\n",
            "\n",
            "Epoch 00045: val_loss did not improve from 0.16162\n",
            "\n",
            "Epoch 00046: val_loss did not improve from 0.16162\n",
            "\n",
            "Epoch 00047: val_loss did not improve from 0.16162\n",
            "\n",
            "Epoch 00048: val_loss did not improve from 0.16162\n",
            "\n",
            "Epoch 00049: val_loss did not improve from 0.16162\n",
            "\n",
            "Epoch 00050: val_loss did not improve from 0.16162\n",
            "Optimizing model with SGD (lr: 0.1)\n",
            "\n",
            "Epoch 00001: val_loss improved from inf to 0.17043, saving model to exercise-03_sgd_lr-0,1.keras\n",
            "\n",
            "Epoch 00002: val_loss improved from 0.17043 to 0.12740, saving model to exercise-03_sgd_lr-0,1.keras\n",
            "\n",
            "Epoch 00003: val_loss improved from 0.12740 to 0.09341, saving model to exercise-03_sgd_lr-0,1.keras\n",
            "\n",
            "Epoch 00004: val_loss improved from 0.09341 to 0.08734, saving model to exercise-03_sgd_lr-0,1.keras\n",
            "\n",
            "Epoch 00005: val_loss improved from 0.08734 to 0.07740, saving model to exercise-03_sgd_lr-0,1.keras\n",
            "\n",
            "Epoch 00006: val_loss did not improve from 0.07740\n",
            "\n",
            "Epoch 00007: val_loss improved from 0.07740 to 0.06998, saving model to exercise-03_sgd_lr-0,1.keras\n",
            "\n",
            "Epoch 00008: val_loss did not improve from 0.06998\n",
            "\n",
            "Epoch 00009: val_loss did not improve from 0.06998\n",
            "\n",
            "Epoch 00010: val_loss did not improve from 0.06998\n",
            "\n",
            "Epoch 00011: val_loss did not improve from 0.06998\n",
            "\n",
            "Epoch 00012: val_loss did not improve from 0.06998\n",
            "\n",
            "Epoch 00013: val_loss improved from 0.06998 to 0.06771, saving model to exercise-03_sgd_lr-0,1.keras\n",
            "\n",
            "Epoch 00014: val_loss improved from 0.06771 to 0.06665, saving model to exercise-03_sgd_lr-0,1.keras\n",
            "\n",
            "Epoch 00015: val_loss did not improve from 0.06665\n",
            "\n",
            "Epoch 00016: val_loss improved from 0.06665 to 0.06499, saving model to exercise-03_sgd_lr-0,1.keras\n",
            "\n",
            "Epoch 00017: val_loss did not improve from 0.06499\n",
            "\n",
            "Epoch 00018: val_loss did not improve from 0.06499\n",
            "\n",
            "Epoch 00019: val_loss did not improve from 0.06499\n",
            "\n",
            "Epoch 00020: val_loss did not improve from 0.06499\n",
            "\n",
            "Epoch 00021: val_loss did not improve from 0.06499\n",
            "\n",
            "Epoch 00022: val_loss did not improve from 0.06499\n",
            "\n",
            "Epoch 00023: val_loss did not improve from 0.06499\n",
            "\n",
            "Epoch 00024: val_loss did not improve from 0.06499\n",
            "\n",
            "Epoch 00025: val_loss did not improve from 0.06499\n",
            "\n",
            "Epoch 00026: val_loss did not improve from 0.06499\n",
            "\n",
            "Epoch 00027: val_loss did not improve from 0.06499\n",
            "\n",
            "Epoch 00028: val_loss did not improve from 0.06499\n",
            "\n",
            "Epoch 00029: val_loss did not improve from 0.06499\n",
            "\n",
            "Epoch 00030: val_loss did not improve from 0.06499\n",
            "\n",
            "Epoch 00031: val_loss did not improve from 0.06499\n",
            "\n",
            "Epoch 00032: val_loss did not improve from 0.06499\n",
            "\n",
            "Epoch 00033: val_loss did not improve from 0.06499\n",
            "\n",
            "Epoch 00034: val_loss did not improve from 0.06499\n",
            "\n",
            "Epoch 00035: val_loss did not improve from 0.06499\n",
            "\n",
            "Epoch 00036: val_loss did not improve from 0.06499\n",
            "\n",
            "Epoch 00037: val_loss did not improve from 0.06499\n",
            "\n",
            "Epoch 00038: val_loss did not improve from 0.06499\n",
            "\n",
            "Epoch 00039: val_loss did not improve from 0.06499\n",
            "\n",
            "Epoch 00040: val_loss did not improve from 0.06499\n",
            "\n",
            "Epoch 00041: val_loss did not improve from 0.06499\n",
            "\n",
            "Epoch 00042: val_loss did not improve from 0.06499\n",
            "\n",
            "Epoch 00043: val_loss did not improve from 0.06499\n",
            "\n",
            "Epoch 00044: val_loss did not improve from 0.06499\n",
            "\n",
            "Epoch 00045: val_loss did not improve from 0.06499\n",
            "\n",
            "Epoch 00046: val_loss did not improve from 0.06499\n",
            "\n",
            "Epoch 00047: val_loss did not improve from 0.06499\n",
            "\n",
            "Epoch 00048: val_loss did not improve from 0.06499\n",
            "\n",
            "Epoch 00049: val_loss did not improve from 0.06499\n",
            "\n",
            "Epoch 00050: val_loss did not improve from 0.06499\n",
            "Optimizing model with SGD (lr: 0.01)\n",
            "\n",
            "Epoch 00001: val_loss improved from inf to 0.35474, saving model to exercise-03_sgd_lr-0,01.keras\n",
            "\n",
            "Epoch 00002: val_loss improved from 0.35474 to 0.29504, saving model to exercise-03_sgd_lr-0,01.keras\n",
            "\n",
            "Epoch 00003: val_loss improved from 0.29504 to 0.26022, saving model to exercise-03_sgd_lr-0,01.keras\n",
            "\n",
            "Epoch 00004: val_loss improved from 0.26022 to 0.23714, saving model to exercise-03_sgd_lr-0,01.keras\n",
            "\n",
            "Epoch 00005: val_loss improved from 0.23714 to 0.22005, saving model to exercise-03_sgd_lr-0,01.keras\n",
            "\n",
            "Epoch 00006: val_loss improved from 0.22005 to 0.20511, saving model to exercise-03_sgd_lr-0,01.keras\n",
            "\n",
            "Epoch 00007: val_loss improved from 0.20511 to 0.19325, saving model to exercise-03_sgd_lr-0,01.keras\n",
            "\n",
            "Epoch 00008: val_loss improved from 0.19325 to 0.18155, saving model to exercise-03_sgd_lr-0,01.keras\n",
            "\n",
            "Epoch 00009: val_loss improved from 0.18155 to 0.17052, saving model to exercise-03_sgd_lr-0,01.keras\n",
            "\n",
            "Epoch 00010: val_loss improved from 0.17052 to 0.16180, saving model to exercise-03_sgd_lr-0,01.keras\n",
            "\n",
            "Epoch 00011: val_loss improved from 0.16180 to 0.15621, saving model to exercise-03_sgd_lr-0,01.keras\n",
            "\n",
            "Epoch 00012: val_loss improved from 0.15621 to 0.14821, saving model to exercise-03_sgd_lr-0,01.keras\n",
            "\n",
            "Epoch 00013: val_loss improved from 0.14821 to 0.14031, saving model to exercise-03_sgd_lr-0,01.keras\n",
            "\n",
            "Epoch 00014: val_loss improved from 0.14031 to 0.13528, saving model to exercise-03_sgd_lr-0,01.keras\n",
            "\n",
            "Epoch 00015: val_loss improved from 0.13528 to 0.13099, saving model to exercise-03_sgd_lr-0,01.keras\n",
            "\n",
            "Epoch 00016: val_loss improved from 0.13099 to 0.12676, saving model to exercise-03_sgd_lr-0,01.keras\n",
            "\n",
            "Epoch 00017: val_loss improved from 0.12676 to 0.12251, saving model to exercise-03_sgd_lr-0,01.keras\n",
            "\n",
            "Epoch 00018: val_loss improved from 0.12251 to 0.11945, saving model to exercise-03_sgd_lr-0,01.keras\n",
            "\n",
            "Epoch 00019: val_loss improved from 0.11945 to 0.11562, saving model to exercise-03_sgd_lr-0,01.keras\n",
            "\n",
            "Epoch 00020: val_loss improved from 0.11562 to 0.11334, saving model to exercise-03_sgd_lr-0,01.keras\n",
            "\n",
            "Epoch 00021: val_loss improved from 0.11334 to 0.10905, saving model to exercise-03_sgd_lr-0,01.keras\n",
            "\n",
            "Epoch 00022: val_loss improved from 0.10905 to 0.10775, saving model to exercise-03_sgd_lr-0,01.keras\n",
            "\n",
            "Epoch 00023: val_loss improved from 0.10775 to 0.10441, saving model to exercise-03_sgd_lr-0,01.keras\n",
            "\n",
            "Epoch 00024: val_loss improved from 0.10441 to 0.10236, saving model to exercise-03_sgd_lr-0,01.keras\n",
            "\n",
            "Epoch 00025: val_loss improved from 0.10236 to 0.10050, saving model to exercise-03_sgd_lr-0,01.keras\n",
            "\n",
            "Epoch 00026: val_loss improved from 0.10050 to 0.09785, saving model to exercise-03_sgd_lr-0,01.keras\n",
            "\n",
            "Epoch 00027: val_loss improved from 0.09785 to 0.09619, saving model to exercise-03_sgd_lr-0,01.keras\n",
            "\n",
            "Epoch 00028: val_loss improved from 0.09619 to 0.09560, saving model to exercise-03_sgd_lr-0,01.keras\n",
            "\n",
            "Epoch 00029: val_loss improved from 0.09560 to 0.09438, saving model to exercise-03_sgd_lr-0,01.keras\n",
            "\n",
            "Epoch 00030: val_loss improved from 0.09438 to 0.09249, saving model to exercise-03_sgd_lr-0,01.keras\n",
            "\n",
            "Epoch 00031: val_loss improved from 0.09249 to 0.09128, saving model to exercise-03_sgd_lr-0,01.keras\n",
            "\n",
            "Epoch 00032: val_loss improved from 0.09128 to 0.09005, saving model to exercise-03_sgd_lr-0,01.keras\n",
            "\n",
            "Epoch 00033: val_loss improved from 0.09005 to 0.08883, saving model to exercise-03_sgd_lr-0,01.keras\n",
            "\n",
            "Epoch 00034: val_loss improved from 0.08883 to 0.08767, saving model to exercise-03_sgd_lr-0,01.keras\n",
            "\n",
            "Epoch 00035: val_loss improved from 0.08767 to 0.08649, saving model to exercise-03_sgd_lr-0,01.keras\n",
            "\n",
            "Epoch 00036: val_loss improved from 0.08649 to 0.08493, saving model to exercise-03_sgd_lr-0,01.keras\n",
            "\n",
            "Epoch 00037: val_loss improved from 0.08493 to 0.08344, saving model to exercise-03_sgd_lr-0,01.keras\n",
            "\n",
            "Epoch 00038: val_loss did not improve from 0.08344\n",
            "\n",
            "Epoch 00039: val_loss did not improve from 0.08344\n",
            "\n",
            "Epoch 00040: val_loss improved from 0.08344 to 0.08282, saving model to exercise-03_sgd_lr-0,01.keras\n",
            "\n",
            "Epoch 00041: val_loss improved from 0.08282 to 0.08188, saving model to exercise-03_sgd_lr-0,01.keras\n",
            "\n",
            "Epoch 00042: val_loss improved from 0.08188 to 0.08012, saving model to exercise-03_sgd_lr-0,01.keras\n",
            "\n",
            "Epoch 00043: val_loss did not improve from 0.08012\n",
            "\n",
            "Epoch 00044: val_loss improved from 0.08012 to 0.08010, saving model to exercise-03_sgd_lr-0,01.keras\n",
            "\n",
            "Epoch 00045: val_loss improved from 0.08010 to 0.07891, saving model to exercise-03_sgd_lr-0,01.keras\n",
            "\n",
            "Epoch 00046: val_loss improved from 0.07891 to 0.07825, saving model to exercise-03_sgd_lr-0,01.keras\n",
            "\n",
            "Epoch 00047: val_loss improved from 0.07825 to 0.07751, saving model to exercise-03_sgd_lr-0,01.keras\n",
            "\n",
            "Epoch 00048: val_loss did not improve from 0.07751\n",
            "\n",
            "Epoch 00049: val_loss did not improve from 0.07751\n",
            "\n",
            "Epoch 00050: val_loss improved from 0.07751 to 0.07619, saving model to exercise-03_sgd_lr-0,01.keras\n",
            "Optimizing model with SGD (lr: 0.001)\n",
            "\n",
            "Epoch 00001: val_loss improved from inf to 1.12112, saving model to exercise-03_sgd_lr-0,001.keras\n",
            "\n",
            "Epoch 00002: val_loss improved from 1.12112 to 0.72266, saving model to exercise-03_sgd_lr-0,001.keras\n",
            "\n",
            "Epoch 00003: val_loss improved from 0.72266 to 0.57516, saving model to exercise-03_sgd_lr-0,001.keras\n",
            "\n",
            "Epoch 00004: val_loss improved from 0.57516 to 0.49978, saving model to exercise-03_sgd_lr-0,001.keras\n",
            "\n",
            "Epoch 00005: val_loss improved from 0.49978 to 0.45345, saving model to exercise-03_sgd_lr-0,001.keras\n",
            "\n",
            "Epoch 00006: val_loss improved from 0.45345 to 0.42193, saving model to exercise-03_sgd_lr-0,001.keras\n",
            "\n",
            "Epoch 00007: val_loss improved from 0.42193 to 0.39901, saving model to exercise-03_sgd_lr-0,001.keras\n",
            "\n",
            "Epoch 00008: val_loss improved from 0.39901 to 0.38098, saving model to exercise-03_sgd_lr-0,001.keras\n",
            "\n",
            "Epoch 00009: val_loss improved from 0.38098 to 0.36637, saving model to exercise-03_sgd_lr-0,001.keras\n",
            "\n",
            "Epoch 00010: val_loss improved from 0.36637 to 0.35494, saving model to exercise-03_sgd_lr-0,001.keras\n",
            "\n",
            "Epoch 00011: val_loss improved from 0.35494 to 0.34489, saving model to exercise-03_sgd_lr-0,001.keras\n",
            "\n",
            "Epoch 00012: val_loss improved from 0.34489 to 0.33643, saving model to exercise-03_sgd_lr-0,001.keras\n",
            "\n",
            "Epoch 00013: val_loss improved from 0.33643 to 0.32908, saving model to exercise-03_sgd_lr-0,001.keras\n",
            "\n",
            "Epoch 00014: val_loss improved from 0.32908 to 0.32226, saving model to exercise-03_sgd_lr-0,001.keras\n",
            "\n",
            "Epoch 00015: val_loss improved from 0.32226 to 0.31588, saving model to exercise-03_sgd_lr-0,001.keras\n",
            "\n",
            "Epoch 00016: val_loss improved from 0.31588 to 0.31061, saving model to exercise-03_sgd_lr-0,001.keras\n",
            "\n",
            "Epoch 00017: val_loss improved from 0.31061 to 0.30589, saving model to exercise-03_sgd_lr-0,001.keras\n",
            "\n",
            "Epoch 00018: val_loss improved from 0.30589 to 0.30110, saving model to exercise-03_sgd_lr-0,001.keras\n",
            "\n",
            "Epoch 00019: val_loss improved from 0.30110 to 0.29685, saving model to exercise-03_sgd_lr-0,001.keras\n",
            "\n",
            "Epoch 00020: val_loss improved from 0.29685 to 0.29304, saving model to exercise-03_sgd_lr-0,001.keras\n",
            "\n",
            "Epoch 00021: val_loss improved from 0.29304 to 0.28883, saving model to exercise-03_sgd_lr-0,001.keras\n",
            "\n",
            "Epoch 00022: val_loss improved from 0.28883 to 0.28613, saving model to exercise-03_sgd_lr-0,001.keras\n",
            "\n",
            "Epoch 00023: val_loss improved from 0.28613 to 0.28237, saving model to exercise-03_sgd_lr-0,001.keras\n",
            "\n",
            "Epoch 00024: val_loss improved from 0.28237 to 0.27938, saving model to exercise-03_sgd_lr-0,001.keras\n",
            "\n",
            "Epoch 00025: val_loss improved from 0.27938 to 0.27612, saving model to exercise-03_sgd_lr-0,001.keras\n",
            "\n",
            "Epoch 00026: val_loss improved from 0.27612 to 0.27324, saving model to exercise-03_sgd_lr-0,001.keras\n",
            "\n",
            "Epoch 00027: val_loss improved from 0.27324 to 0.27048, saving model to exercise-03_sgd_lr-0,001.keras\n",
            "\n",
            "Epoch 00028: val_loss improved from 0.27048 to 0.26780, saving model to exercise-03_sgd_lr-0,001.keras\n",
            "\n",
            "Epoch 00029: val_loss improved from 0.26780 to 0.26511, saving model to exercise-03_sgd_lr-0,001.keras\n",
            "\n",
            "Epoch 00030: val_loss improved from 0.26511 to 0.26250, saving model to exercise-03_sgd_lr-0,001.keras\n",
            "\n",
            "Epoch 00031: val_loss improved from 0.26250 to 0.25987, saving model to exercise-03_sgd_lr-0,001.keras\n",
            "\n",
            "Epoch 00032: val_loss improved from 0.25987 to 0.25752, saving model to exercise-03_sgd_lr-0,001.keras\n",
            "\n",
            "Epoch 00033: val_loss improved from 0.25752 to 0.25529, saving model to exercise-03_sgd_lr-0,001.keras\n",
            "\n",
            "Epoch 00034: val_loss improved from 0.25529 to 0.25350, saving model to exercise-03_sgd_lr-0,001.keras\n",
            "\n",
            "Epoch 00035: val_loss improved from 0.25350 to 0.25077, saving model to exercise-03_sgd_lr-0,001.keras\n",
            "\n",
            "Epoch 00036: val_loss improved from 0.25077 to 0.24850, saving model to exercise-03_sgd_lr-0,001.keras\n",
            "\n",
            "Epoch 00037: val_loss improved from 0.24850 to 0.24667, saving model to exercise-03_sgd_lr-0,001.keras\n",
            "\n",
            "Epoch 00038: val_loss improved from 0.24667 to 0.24446, saving model to exercise-03_sgd_lr-0,001.keras\n",
            "\n",
            "Epoch 00039: val_loss improved from 0.24446 to 0.24243, saving model to exercise-03_sgd_lr-0,001.keras\n",
            "\n",
            "Epoch 00040: val_loss improved from 0.24243 to 0.24071, saving model to exercise-03_sgd_lr-0,001.keras\n",
            "\n",
            "Epoch 00041: val_loss improved from 0.24071 to 0.23869, saving model to exercise-03_sgd_lr-0,001.keras\n",
            "\n",
            "Epoch 00042: val_loss improved from 0.23869 to 0.23670, saving model to exercise-03_sgd_lr-0,001.keras\n",
            "\n",
            "Epoch 00043: val_loss improved from 0.23670 to 0.23529, saving model to exercise-03_sgd_lr-0,001.keras\n",
            "\n",
            "Epoch 00044: val_loss improved from 0.23529 to 0.23308, saving model to exercise-03_sgd_lr-0,001.keras\n",
            "\n",
            "Epoch 00045: val_loss improved from 0.23308 to 0.23153, saving model to exercise-03_sgd_lr-0,001.keras\n",
            "\n",
            "Epoch 00046: val_loss improved from 0.23153 to 0.22941, saving model to exercise-03_sgd_lr-0,001.keras\n",
            "\n",
            "Epoch 00047: val_loss improved from 0.22941 to 0.22785, saving model to exercise-03_sgd_lr-0,001.keras\n",
            "\n",
            "Epoch 00048: val_loss improved from 0.22785 to 0.22622, saving model to exercise-03_sgd_lr-0,001.keras\n",
            "\n",
            "Epoch 00049: val_loss improved from 0.22622 to 0.22445, saving model to exercise-03_sgd_lr-0,001.keras\n",
            "\n",
            "Epoch 00050: val_loss improved from 0.22445 to 0.22293, saving model to exercise-03_sgd_lr-0,001.keras\n"
          ],
          "name": "stdout"
        },
        {
          "output_type": "display_data",
          "data": {
            "image/png": "[encoded data removed]",
            "text/plain": [
              "<Figure size 432x288 with 2 Axes>"
            ]
          },
          "metadata": {
            "tags": [],
            "needs_background": "light"
          }
        },
        {
          "output_type": "display_data",
          "data": {
            "image/png": "[encoded data removed]",
            "text/plain": [
              "<Figure size 432x288 with 2 Axes>"
            ]
          },
          "metadata": {
            "tags": [],
            "needs_background": "light"
          }
        },
        {
          "output_type": "display_data",
          "data": {
            "image/png": "[encoded data removed]",
            "text/plain": [
              "<Figure size 432x288 with 2 Axes>"
            ]
          },
          "metadata": {
            "tags": [],
            "needs_background": "light"
          }
        },
        {
          "output_type": "display_data",
          "data": {
            "image/png": "[encoded data removed]",
            "text/plain": [
              "<Figure size 432x288 with 2 Axes>"
            ]
          },
          "metadata": {
            "tags": [],
            "needs_background": "light"
          }
        }
      ]
    },
    {
      "cell_type": "markdown",
      "metadata": {
        "id": "4GeMSlGk9yY9"
      },
      "source": [
        "#### Exercise 3.3"
      ]
    },
    {
      "cell_type": "markdown",
      "metadata": {
        "id": "6bGAOUY6GHtS"
      },
      "source": [
        "<font color='red'>model.compile doesn't reset the weights, call model.reset_states() first.</font>\n",
        "\n",
        "<font color='red'>We can use the default learning rate (0.01).</font>"
      ]
    },
    {
      "cell_type": "code",
      "metadata": {
        "id": "fcjQ1Ev89yY9",
        "outputId": "40475f62-f80f-4a07-8bc6-e3da6fea0f35"
      },
      "source": [
        "model.reset_states()\n",
        "mc = ModelCheckpoint('exercise-03_adam_lr-0,001.keras', monitor='val_loss', mode='min', save_best_only=True, verbose=1)\n",
        "model.compile(optimizer=Adam(), loss='categorical_crossentropy', metrics=[\"accuracy\"])\n",
        "history_adam = model.fit(x_mnist_train_reshaped, y_mnist_train_one_hot, validation_data=(x_mnist_test_reshaped, y_mnist_test_one_hot), epochs=50, validation_split=0.2, verbose=1, callbacks=[mc])"
      ],
      "execution_count": null,
      "outputs": [
        {
          "output_type": "stream",
          "text": [
            "Train on 60000 samples, validate on 10000 samples\n",
            "Epoch 1/50\n",
            "60000/60000 [==============================] - 2s 35us/step - loss: 0.1810 - accuracy: 0.9470 - val_loss: 0.2261 - val_accuracy: 0.9375\n",
            "\n",
            "Epoch 00001: val_loss improved from inf to 0.22607, saving model to exercise-03_adam_lr-0,001.keras\n",
            "Epoch 2/50\n",
            "60000/60000 [==============================] - 2s 28us/step - loss: 0.1798 - accuracy: 0.9481 - val_loss: 0.2328 - val_accuracy: 0.9346\n",
            "\n",
            "Epoch 00002: val_loss did not improve from 0.22607\n",
            "Epoch 3/50\n",
            "60000/60000 [==============================] - 2s 29us/step - loss: 0.1782 - accuracy: 0.9480 - val_loss: 0.2274 - val_accuracy: 0.9384\n",
            "\n",
            "Epoch 00003: val_loss did not improve from 0.22607\n",
            "Epoch 4/50\n",
            "60000/60000 [==============================] - 2s 30us/step - loss: 0.1772 - accuracy: 0.9483 - val_loss: 0.2286 - val_accuracy: 0.9371\n",
            "\n",
            "Epoch 00004: val_loss did not improve from 0.22607\n",
            "Epoch 5/50\n",
            "60000/60000 [==============================] - 2s 30us/step - loss: 0.1763 - accuracy: 0.9482 - val_loss: 0.2293 - val_accuracy: 0.9361\n",
            "\n",
            "Epoch 00005: val_loss did not improve from 0.22607\n",
            "Epoch 6/50\n",
            "60000/60000 [==============================] - 2s 27us/step - loss: 0.1752 - accuracy: 0.9485 - val_loss: 0.2268 - val_accuracy: 0.9374\n",
            "\n",
            "Epoch 00006: val_loss did not improve from 0.22607\n",
            "Epoch 7/50\n",
            "60000/60000 [==============================] - 2s 27us/step - loss: 0.1753 - accuracy: 0.9484 - val_loss: 0.2294 - val_accuracy: 0.9365\n",
            "\n",
            "Epoch 00007: val_loss did not improve from 0.22607\n",
            "Epoch 8/50\n",
            "60000/60000 [==============================] - 2s 29us/step - loss: 0.1740 - accuracy: 0.9491 - val_loss: 0.2272 - val_accuracy: 0.9370\n",
            "\n",
            "Epoch 00008: val_loss did not improve from 0.22607\n",
            "Epoch 9/50\n",
            "60000/60000 [==============================] - 2s 31us/step - loss: 0.1735 - accuracy: 0.9488 - val_loss: 0.2313 - val_accuracy: 0.9363\n",
            "\n",
            "Epoch 00009: val_loss did not improve from 0.22607\n",
            "Epoch 10/50\n",
            "60000/60000 [==============================] - 2s 33us/step - loss: 0.1724 - accuracy: 0.9499 - val_loss: 0.2319 - val_accuracy: 0.9351\n",
            "\n",
            "Epoch 00010: val_loss did not improve from 0.22607\n",
            "Epoch 11/50\n",
            "60000/60000 [==============================] - 2s 30us/step - loss: 0.1723 - accuracy: 0.9490 - val_loss: 0.2341 - val_accuracy: 0.9350\n",
            "\n",
            "Epoch 00011: val_loss did not improve from 0.22607\n",
            "Epoch 12/50\n",
            "60000/60000 [==============================] - 2s 33us/step - loss: 0.1713 - accuracy: 0.9496 - val_loss: 0.2394 - val_accuracy: 0.9339\n",
            "\n",
            "Epoch 00012: val_loss did not improve from 0.22607\n",
            "Epoch 13/50\n",
            "60000/60000 [==============================] - 2s 31us/step - loss: 0.1705 - accuracy: 0.9504 - val_loss: 0.2350 - val_accuracy: 0.9333\n",
            "\n",
            "Epoch 00013: val_loss did not improve from 0.22607\n",
            "Epoch 14/50\n",
            "60000/60000 [==============================] - 2s 29us/step - loss: 0.1698 - accuracy: 0.9506 - val_loss: 0.2311 - val_accuracy: 0.9345\n",
            "\n",
            "Epoch 00014: val_loss did not improve from 0.22607\n",
            "Epoch 15/50\n",
            "60000/60000 [==============================] - 2s 29us/step - loss: 0.1697 - accuracy: 0.9501 - val_loss: 0.2298 - val_accuracy: 0.9352\n",
            "\n",
            "Epoch 00015: val_loss did not improve from 0.22607\n",
            "Epoch 16/50\n",
            "60000/60000 [==============================] - 2s 30us/step - loss: 0.1692 - accuracy: 0.9506 - val_loss: 0.2349 - val_accuracy: 0.9362\n",
            "\n",
            "Epoch 00016: val_loss did not improve from 0.22607\n",
            "Epoch 17/50\n",
            "60000/60000 [==============================] - 2s 35us/step - loss: 0.1680 - accuracy: 0.9503 - val_loss: 0.2324 - val_accuracy: 0.9373\n",
            "\n",
            "Epoch 00017: val_loss did not improve from 0.22607\n",
            "Epoch 18/50\n",
            "60000/60000 [==============================] - 2s 33us/step - loss: 0.1675 - accuracy: 0.9505 - val_loss: 0.2379 - val_accuracy: 0.9346\n",
            "\n",
            "Epoch 00018: val_loss did not improve from 0.22607\n",
            "Epoch 19/50\n",
            "60000/60000 [==============================] - 2s 31us/step - loss: 0.1672 - accuracy: 0.9507 - val_loss: 0.2320 - val_accuracy: 0.9368\n",
            "\n",
            "Epoch 00019: val_loss did not improve from 0.22607\n",
            "Epoch 20/50\n",
            "60000/60000 [==============================] - 2s 36us/step - loss: 0.1664 - accuracy: 0.9505 - val_loss: 0.2328 - val_accuracy: 0.9362\n",
            "\n",
            "Epoch 00020: val_loss did not improve from 0.22607\n",
            "Epoch 21/50\n",
            "60000/60000 [==============================] - 2s 31us/step - loss: 0.1655 - accuracy: 0.9509 - val_loss: 0.2341 - val_accuracy: 0.9374\n",
            "\n",
            "Epoch 00021: val_loss did not improve from 0.22607\n",
            "Epoch 22/50\n",
            "60000/60000 [==============================] - 2s 38us/step - loss: 0.1647 - accuracy: 0.9517 - val_loss: 0.2337 - val_accuracy: 0.9356\n",
            "\n",
            "Epoch 00022: val_loss did not improve from 0.22607\n",
            "Epoch 23/50\n",
            "60000/60000 [==============================] - 2s 32us/step - loss: 0.1651 - accuracy: 0.9503 - val_loss: 0.2312 - val_accuracy: 0.9364\n",
            "\n",
            "Epoch 00023: val_loss did not improve from 0.22607\n",
            "Epoch 24/50\n",
            "60000/60000 [==============================] - 2s 34us/step - loss: 0.1634 - accuracy: 0.9518 - val_loss: 0.2324 - val_accuracy: 0.9354\n",
            "\n",
            "Epoch 00024: val_loss did not improve from 0.22607\n",
            "Epoch 25/50\n",
            "60000/60000 [==============================] - 2s 30us/step - loss: 0.1638 - accuracy: 0.9517 - val_loss: 0.2371 - val_accuracy: 0.9357\n",
            "\n",
            "Epoch 00025: val_loss did not improve from 0.22607\n",
            "Epoch 26/50\n",
            "60000/60000 [==============================] - 2s 31us/step - loss: 0.1634 - accuracy: 0.9516 - val_loss: 0.2334 - val_accuracy: 0.9398\n",
            "\n",
            "Epoch 00026: val_loss did not improve from 0.22607\n",
            "Epoch 27/50\n",
            "60000/60000 [==============================] - 2s 31us/step - loss: 0.1626 - accuracy: 0.9523 - val_loss: 0.2354 - val_accuracy: 0.9375\n",
            "\n",
            "Epoch 00027: val_loss did not improve from 0.22607\n",
            "Epoch 28/50\n",
            "60000/60000 [==============================] - 2s 32us/step - loss: 0.1621 - accuracy: 0.9522 - val_loss: 0.2407 - val_accuracy: 0.9355\n",
            "\n",
            "Epoch 00028: val_loss did not improve from 0.22607\n",
            "Epoch 29/50\n",
            "60000/60000 [==============================] - 2s 28us/step - loss: 0.1612 - accuracy: 0.9531 - val_loss: 0.2462 - val_accuracy: 0.9344\n",
            "\n",
            "Epoch 00029: val_loss did not improve from 0.22607\n",
            "Epoch 30/50\n",
            "60000/60000 [==============================] - 2s 29us/step - loss: 0.1611 - accuracy: 0.9523 - val_loss: 0.2435 - val_accuracy: 0.9349\n",
            "\n",
            "Epoch 00030: val_loss did not improve from 0.22607\n",
            "Epoch 31/50\n",
            "60000/60000 [==============================] - 2s 36us/step - loss: 0.1605 - accuracy: 0.9526 - val_loss: 0.2373 - val_accuracy: 0.9380\n",
            "\n",
            "Epoch 00031: val_loss did not improve from 0.22607\n",
            "Epoch 32/50\n",
            "60000/60000 [==============================] - 2s 33us/step - loss: 0.1602 - accuracy: 0.9530 - val_loss: 0.2358 - val_accuracy: 0.9360\n",
            "\n",
            "Epoch 00032: val_loss did not improve from 0.22607\n",
            "Epoch 33/50\n",
            "60000/60000 [==============================] - 2s 37us/step - loss: 0.1604 - accuracy: 0.9524 - val_loss: 0.2376 - val_accuracy: 0.9379\n",
            "\n",
            "Epoch 00033: val_loss did not improve from 0.22607\n",
            "Epoch 34/50\n",
            "60000/60000 [==============================] - 2s 30us/step - loss: 0.1599 - accuracy: 0.9531 - val_loss: 0.2341 - val_accuracy: 0.9374\n",
            "\n",
            "Epoch 00034: val_loss did not improve from 0.22607\n",
            "Epoch 35/50\n",
            "60000/60000 [==============================] - 2s 32us/step - loss: 0.1588 - accuracy: 0.9535 - val_loss: 0.2378 - val_accuracy: 0.9366\n",
            "\n",
            "Epoch 00035: val_loss did not improve from 0.22607\n",
            "Epoch 36/50\n",
            "60000/60000 [==============================] - 2s 35us/step - loss: 0.1590 - accuracy: 0.9535 - val_loss: 0.2349 - val_accuracy: 0.9384\n",
            "\n",
            "Epoch 00036: val_loss did not improve from 0.22607\n",
            "Epoch 37/50\n",
            "60000/60000 [==============================] - 2s 30us/step - loss: 0.1582 - accuracy: 0.9531 - val_loss: 0.2353 - val_accuracy: 0.9387\n",
            "\n",
            "Epoch 00037: val_loss did not improve from 0.22607\n",
            "Epoch 38/50\n",
            "60000/60000 [==============================] - 2s 30us/step - loss: 0.1574 - accuracy: 0.9533 - val_loss: 0.2444 - val_accuracy: 0.9350\n",
            "\n",
            "Epoch 00038: val_loss did not improve from 0.22607\n",
            "Epoch 39/50\n",
            "60000/60000 [==============================] - 2s 31us/step - loss: 0.1581 - accuracy: 0.9533 - val_loss: 0.2410 - val_accuracy: 0.9374\n",
            "\n",
            "Epoch 00039: val_loss did not improve from 0.22607\n",
            "Epoch 40/50\n",
            "60000/60000 [==============================] - 2s 31us/step - loss: 0.1570 - accuracy: 0.9535 - val_loss: 0.2389 - val_accuracy: 0.9366\n",
            "\n",
            "Epoch 00040: val_loss did not improve from 0.22607\n",
            "Epoch 41/50\n",
            "60000/60000 [==============================] - 2s 34us/step - loss: 0.1569 - accuracy: 0.9545 - val_loss: 0.2369 - val_accuracy: 0.9370\n",
            "\n",
            "Epoch 00041: val_loss did not improve from 0.22607\n",
            "Epoch 42/50\n",
            "60000/60000 [==============================] - 2s 32us/step - loss: 0.1566 - accuracy: 0.9534 - val_loss: 0.2341 - val_accuracy: 0.9396\n",
            "\n",
            "Epoch 00042: val_loss did not improve from 0.22607\n",
            "Epoch 43/50\n",
            "60000/60000 [==============================] - 2s 35us/step - loss: 0.1566 - accuracy: 0.9541 - val_loss: 0.2399 - val_accuracy: 0.9372\n",
            "\n",
            "Epoch 00043: val_loss did not improve from 0.22607\n",
            "Epoch 44/50\n",
            "60000/60000 [==============================] - 2s 34us/step - loss: 0.1553 - accuracy: 0.9537 - val_loss: 0.2398 - val_accuracy: 0.9361\n",
            "\n",
            "Epoch 00044: val_loss did not improve from 0.22607\n",
            "Epoch 45/50\n",
            "60000/60000 [==============================] - 2s 36us/step - loss: 0.1558 - accuracy: 0.9540 - val_loss: 0.2343 - val_accuracy: 0.9398\n",
            "\n",
            "Epoch 00045: val_loss did not improve from 0.22607\n",
            "Epoch 46/50\n",
            "60000/60000 [==============================] - 2s 32us/step - loss: 0.1552 - accuracy: 0.9535 - val_loss: 0.2482 - val_accuracy: 0.9332\n",
            "\n",
            "Epoch 00046: val_loss did not improve from 0.22607\n",
            "Epoch 47/50\n",
            "60000/60000 [==============================] - 2s 32us/step - loss: 0.1549 - accuracy: 0.9542 - val_loss: 0.2452 - val_accuracy: 0.9357\n",
            "\n",
            "Epoch 00047: val_loss did not improve from 0.22607\n",
            "Epoch 48/50\n",
            "60000/60000 [==============================] - 2s 34us/step - loss: 0.1547 - accuracy: 0.9542 - val_loss: 0.2417 - val_accuracy: 0.9346\n",
            "\n",
            "Epoch 00048: val_loss did not improve from 0.22607\n",
            "Epoch 49/50\n",
            "60000/60000 [==============================] - 2s 30us/step - loss: 0.1542 - accuracy: 0.9546 - val_loss: 0.2400 - val_accuracy: 0.9384\n",
            "\n",
            "Epoch 00049: val_loss did not improve from 0.22607\n",
            "Epoch 50/50\n",
            "60000/60000 [==============================] - 2s 32us/step - loss: 0.1536 - accuracy: 0.9549 - val_loss: 0.2412 - val_accuracy: 0.9369\n",
            "\n",
            "Epoch 00050: val_loss did not improve from 0.22607\n"
          ],
          "name": "stdout"
        }
      ]
    },
    {
      "cell_type": "markdown",
      "metadata": {
        "id": "nBFm6PdYK1qO"
      },
      "source": [
        "<font color='red'>Be carefull, here lr is the one coming from SGD loop,. With \"chance\" it is the same than the one defined in the Adam.</font>"
      ]
    },
    {
      "cell_type": "code",
      "metadata": {
        "id": "ckp9qYAK9yY9",
        "outputId": "72f2d2e7-1bbd-4964-9e32-1d8d0eaf0716"
      },
      "source": [
        "histories.append(history_adam)\n",
        "plot_history(history, \"LR {0} @ MNIST\".format(lr));"
      ],
      "execution_count": null,
      "outputs": [
        {
          "output_type": "display_data",
          "data": {
            "image/png": "[encoded data removed]",
            "text/plain": [
              "<Figure size 432x288 with 2 Axes>"
            ]
          },
          "metadata": {
            "tags": [],
            "needs_background": "light"
          }
        }
      ]
    },
    {
      "cell_type": "markdown",
      "metadata": {
        "id": "9wm6u5MK9yY-"
      },
      "source": [
        "#### Exercise 3.4"
      ]
    },
    {
      "cell_type": "code",
      "metadata": {
        "id": "QaYu9ub29yY-"
      },
      "source": [
        "# This plotting routine might help you ...\n",
        "def comparison_plot(history_sgd, history_adam, label1, label2, title):\n",
        "    fig, ax1, ax2 = prepare_standardplot(title, \"epochs\")\n",
        "    ax1.plot(history_sgd.history['loss'], label=label1 + ' train')\n",
        "    ax1.plot(history_sgd.history['val_loss'], label=label1 + ' val')\n",
        "    ax1.plot(history_adam.history['loss'], label=label2 + ' train')\n",
        "    ax1.plot(history_adam.history['val_loss'], label=label2 + ' val')\n",
        "    ax2.plot(history_sgd.history['accuracy'], label=label1 + ' train')\n",
        "    ax2.plot(history_sgd.history['val_accuracy'], label=label1 + ' val')\n",
        "    ax2.plot(history_adam.history['accuracy'], label=label2 + ' train')\n",
        "    ax2.plot(history_adam.history['val_accuracy'], label=label2 + ' val')\n",
        "    finalize_standardplot(fig, ax1, ax2)\n",
        "    return fig"
      ],
      "execution_count": null,
      "outputs": []
    },
    {
      "cell_type": "code",
      "metadata": {
        "id": "ef4K-7EZ9yY_",
        "outputId": "c4be214a-388e-4296-db40-a2656607dbfd"
      },
      "source": [
        "history_sgd = histories[1]\n",
        "comparison_plot(history_sgd, history_adam, \"SGD (LR 0.1)\", \"Adam(LR 0.001)\", \"Optimizer Comparison\");"
      ],
      "execution_count": null,
      "outputs": [
        {
          "output_type": "display_data",
          "data": {
            "image/png": "[encoded data removed]",
            "text/plain": [
              "<Figure size 432x288 with 2 Axes>"
            ]
          },
          "metadata": {
            "tags": [],
            "needs_background": "light"
          }
        }
      ]
    },
    {
      "cell_type": "markdown",
      "metadata": {
        "id": "PB_WuDgl9yY_"
      },
      "source": [
        "#### Exercise 3.5"
      ]
    },
    {
      "cell_type": "code",
      "metadata": {
        "colab": {
          "base_uri": "https://localhost:8080/",
          "height": 401
        },
        "id": "Wnu424Vd9yZA",
        "outputId": "5d62e51e-a8f2-4e25-e875-b13298d15f34"
      },
      "source": [
        "\n",
        "from keras.models import load_model\n",
        "for lr in [10**(-e) for e in range(0,4)]:  \n",
        "    model_name = \"exercise-03_sgd_lr-{0}.keras\".format(str(lr).replace('.',','))\n",
        "    model = load_model(model_name, compile=True)\n",
        "    err, acc = model.evaluate(x_mnist_test_reshaped, y_mnist_test_one_hot, verbose=0)\n",
        "    print(\"{name}: err: {err}, acc: {acc}\".format(name=model_name, err=err, acc=acc))\n",
        "    \n",
        "model_name = \"exercise-03_sgd_lr-0,1.keras\"\n",
        "model_sgd = load_model(model_name, compile=True)\n",
        "err, acc = model_sgd.evaluate(x_mnist_test_reshaped, y_mnist_test_one_hot, verbose=0)\n",
        "print(\"{name}: err: {err}, acc: {acc}\".format(name=model_name, err=err, acc=acc))"
      ],
      "execution_count": null,
      "outputs": [
        {
          "output_type": "stream",
          "text": [
            "exercise-03_sgd_lr-1.keras: err: 0.16162213314902038, acc: 0.9585999846458435\n",
            "exercise-03_sgd_lr-0,1.keras: err: 0.06499143537978526, acc: 0.9814000129699707\n",
            "exercise-03_sgd_lr-0,01.keras: err: 0.07618687209961936, acc: 0.9779999852180481\n",
            "exercise-03_sgd_lr-0,001.keras: err: 0.22292878603637217, acc: 0.9366999864578247\n",
            "exercise-03_sgd_lr-0,1.keras: err: 0.06499143537978526, acc: 0.9814000129699707\n"
          ],
          "name": "stdout"
        }
      ]
    },
    {
      "cell_type": "code",
      "metadata": {
        "id": "vkvbFPGK9yZA",
        "outputId": "de20d722-0810-4c8d-e7a3-e75504caa959"
      },
      "source": [
        "model_name = \"exercise-03_adam_lr-0,001.keras\"\n",
        "model_adam = load_model(model_name, compile=True)\n",
        "err, acc = model_adam.evaluate(x_mnist_test_reshaped, y_mnist_test_one_hot, verbose=0)\n",
        "print(\"{name}: err: {err}, acc: {acc}\".format(name=model_name, err=err, acc=acc))"
      ],
      "execution_count": null,
      "outputs": [
        {
          "output_type": "stream",
          "text": [
            "exercise-03_adam_lr-0,001.keras: err: 0.22432469466775656, acc: 0.9388999938964844\n"
          ],
          "name": "stdout"
        }
      ]
    },
    {
      "cell_type": "markdown",
      "metadata": {
        "id": "tP0P6Toe9yZB"
      },
      "source": [
        "#### Exercise 3.6"
      ]
    },
    {
      "cell_type": "code",
      "metadata": {
        "id": "L-jIs4xV9yZC",
        "outputId": "21bd3e96-1b71-456c-b736-35e75deac8a2"
      },
      "source": [
        "models = [model_sgd, model_adam]\n",
        "for model in models:\n",
        "    y_pred = model.predict_on_batch(x_mnist_test_reshaped).argmax(axis=1)\n",
        "    indices = [i for i,v in enumerate(y_pred) if y_pred[i]!=y_mnist_test[i]]\n",
        "    x_wrongly_predicted = np.asarray([x_mnist_test[i] for i in indices])\n",
        "    y_wrongly_predicted = np.asarray([y_pred[i] for i in indices])\n",
        "    y_true_prediction = np.asarray([y_mnist_test[i] for i in indices])\n",
        "    plot_some_samples_cust(x_wrongly_predicted, y_true_prediction, y_wrongly_predicted, ncols=6, nrows=4);"
      ],
      "execution_count": null,
      "outputs": [
        {
          "output_type": "display_data",
          "data": {
            "image/png": "[encoded data removed]",
            "text/plain": [
              "<Figure size 432x288 with 24 Axes>"
            ]
          },
          "metadata": {
            "tags": [],
            "needs_background": "light"
          }
        },
        {
          "output_type": "display_data",
          "data": {
            "image/png": "[encoded data removed]",
            "text/plain": [
              "<Figure size 432x288 with 24 Axes>"
            ]
          },
          "metadata": {
            "tags": [],
            "needs_background": "light"
          }
        }
      ]
    },
    {
      "cell_type": "markdown",
      "metadata": {
        "id": "-b33M0ko9yZD"
      },
      "source": [
        "#### Exercise 3.7\n",
        "\n",
        "7. Take $ p = 0.2 $ fraction of the data points from the training dataset of MNIST and change their class labels randomly. (You can sample a random integer from 0 to 9 using `np.random.uniform` and `np.floor`). Train with Adam for 50 or 100 epochs. Plot the learning curves. Do you observe overfitting in the validation accuracy? Does it take longer to converge to perfect training accuracy compare to noise-free MNIST? (2 pts)<br/>\n",
        "**=> The training accuracy is increasing, starting from 80% and reaching around 90% after 100 episodes. The validation accuracy on the other hand is decreasing from 95% to around 80% after 100 episodes. The model is definetly overfitting to the noise in the <strike>shifted</strike> <font color=red>noisy</font> MNIST dataset. It takes much longer to converge towards the perfect training accuracy on the noisy MNIST dataset.**"
      ]
    },
    {
      "cell_type": "code",
      "metadata": {
        "id": "0Zj54fsL9yZD"
      },
      "source": [
        "def unison_shuffle(a, b):\n",
        "    assert len(a) == len(b)\n",
        "    p = np.random.permutation(len(a))\n",
        "    return a[p], b[p]\n",
        "\n",
        "# Calculate the number of samples that need to be replaced.\n",
        "length = int(np.floor(0.2 * len(y_mnist_train)))\n",
        "\n",
        "y_random = np.empty(0)\n",
        "for i in range(length):\n",
        "    y_random = np.append(y_random, np.floor(np.random.uniform(0,9.9)))\n",
        "\n",
        "# Replace the labels of the first n training samples with random lables.\n",
        "y_mnist_train[:length] = y_random\n",
        "\n",
        "# Shuffle the X and y data in order to spread the random labels equally over the dataset\n",
        "x_mnist_train_reshaped_shuffled, y_mnist_train_shuffled = unison_shuffle(x_mnist_fashion_train_reshaped, y_mnist_train)\n",
        "\n",
        "# One hot encoding\n",
        "y_mnist_train_shuffled_one_hot = to_categorical(y_mnist_train_shuffled)"
      ],
      "execution_count": null,
      "outputs": []
    },
    {
      "cell_type": "markdown",
      "metadata": {
        "id": "R8TuIb3-PyOK"
      },
      "source": [
        "<font color=red> You have to choose between model = return_new_model() or model.reset_states(), in both cases weights are initialized.</font>"
      ]
    },
    {
      "cell_type": "code",
      "metadata": {
        "id": "sKu3AwZcNlG4",
        "outputId": "acb43ad6-c800-498f-b1f7-7fad3d67ce3b"
      },
      "source": [
        "model = return_new_model()\n",
        "model.reset_states()\n",
        "mc = ModelCheckpoint('exercise-3,7.keras', monitor='val_loss', mode='min', save_best_only=True, verbose=1)\n",
        "model.compile(optimizer=Adam(), loss='categorical_crossentropy', metrics=[\"accuracy\"])\n",
        "history_adam = model.fit(x_mnist_train_reshaped_shuffled, y_mnist_train_shuffled_one_hot, validation_data=(x_mnist_test_reshaped, y_mnist_test_one_hot), epochs=100, validation_split=0.2, verbose=1, callbacks=[mc])"
      ],
      "execution_count": null,
      "outputs": [
        {
          "output_type": "stream",
          "text": [
            "Train on 60000 samples, validate on 10000 samples\n",
            "Epoch 1/100\n",
            "60000/60000 [==============================] - 3s 45us/step - loss: 1.1180 - accuracy: 0.7530 - val_loss: 0.3937 - val_accuracy: 0.9518\n",
            "\n",
            "Epoch 00001: val_loss improved from inf to 0.39365, saving model to exercise-3,7.keras\n",
            "Epoch 2/100\n",
            "60000/60000 [==============================] - 3s 46us/step - loss: 1.0044 - accuracy: 0.7870 - val_loss: 0.3638 - val_accuracy: 0.9620\n",
            "\n",
            "Epoch 00002: val_loss improved from 0.39365 to 0.36382, saving model to exercise-3,7.keras\n",
            "Epoch 3/100\n",
            "60000/60000 [==============================] - 3s 52us/step - loss: 0.9661 - accuracy: 0.7934 - val_loss: 0.3322 - val_accuracy: 0.9649\n",
            "\n",
            "Epoch 00003: val_loss improved from 0.36382 to 0.33219, saving model to exercise-3,7.keras\n",
            "Epoch 4/100\n",
            "60000/60000 [==============================] - 3s 51us/step - loss: 0.9389 - accuracy: 0.7983 - val_loss: 0.3378 - val_accuracy: 0.9658\n",
            "\n",
            "Epoch 00004: val_loss did not improve from 0.33219\n",
            "Epoch 5/100\n",
            "60000/60000 [==============================] - 3s 44us/step - loss: 0.9182 - accuracy: 0.8013 - val_loss: 0.3061 - val_accuracy: 0.9681\n",
            "\n",
            "Epoch 00005: val_loss improved from 0.33219 to 0.30609, saving model to exercise-3,7.keras\n",
            "Epoch 6/100\n",
            "60000/60000 [==============================] - 3s 47us/step - loss: 0.8998 - accuracy: 0.8027 - val_loss: 0.2951 - val_accuracy: 0.9676\n",
            "\n",
            "Epoch 00006: val_loss improved from 0.30609 to 0.29512, saving model to exercise-3,7.keras\n",
            "Epoch 7/100\n",
            "60000/60000 [==============================] - 3s 48us/step - loss: 0.8816 - accuracy: 0.8048 - val_loss: 0.3061 - val_accuracy: 0.9673\n",
            "\n",
            "Epoch 00007: val_loss did not improve from 0.29512\n",
            "Epoch 8/100\n",
            "60000/60000 [==============================] - 3s 50us/step - loss: 0.8652 - accuracy: 0.8062 - val_loss: 0.3135 - val_accuracy: 0.9651\n",
            "\n",
            "Epoch 00008: val_loss did not improve from 0.29512\n",
            "Epoch 9/100\n",
            "60000/60000 [==============================] - 3s 51us/step - loss: 0.8491 - accuracy: 0.8069 - val_loss: 0.3226 - val_accuracy: 0.9661\n",
            "\n",
            "Epoch 00009: val_loss did not improve from 0.29512\n",
            "Epoch 10/100\n",
            "60000/60000 [==============================] - 3s 52us/step - loss: 0.8343 - accuracy: 0.8089 - val_loss: 0.3053 - val_accuracy: 0.9643\n",
            "\n",
            "Epoch 00010: val_loss did not improve from 0.29512\n",
            "Epoch 11/100\n",
            "60000/60000 [==============================] - 3s 50us/step - loss: 0.8219 - accuracy: 0.8092 - val_loss: 0.3157 - val_accuracy: 0.9641\n",
            "\n",
            "Epoch 00011: val_loss did not improve from 0.29512\n",
            "Epoch 12/100\n",
            "60000/60000 [==============================] - 3s 52us/step - loss: 0.8070 - accuracy: 0.8104 - val_loss: 0.3090 - val_accuracy: 0.9607\n",
            "\n",
            "Epoch 00012: val_loss did not improve from 0.29512\n",
            "Epoch 13/100\n",
            "60000/60000 [==============================] - 3s 51us/step - loss: 0.7930 - accuracy: 0.8120 - val_loss: 0.3135 - val_accuracy: 0.9585\n",
            "\n",
            "Epoch 00013: val_loss did not improve from 0.29512\n",
            "Epoch 14/100\n",
            "60000/60000 [==============================] - 3s 52us/step - loss: 0.7805 - accuracy: 0.8131 - val_loss: 0.3525 - val_accuracy: 0.9538\n",
            "\n",
            "Epoch 00014: val_loss did not improve from 0.29512\n",
            "Epoch 15/100\n",
            "60000/60000 [==============================] - 4s 64us/step - loss: 0.7686 - accuracy: 0.8136 - val_loss: 0.3394 - val_accuracy: 0.9505\n",
            "\n",
            "Epoch 00015: val_loss did not improve from 0.29512\n",
            "Epoch 16/100\n",
            "60000/60000 [==============================] - 3s 50us/step - loss: 0.7589 - accuracy: 0.8153 - val_loss: 0.3489 - val_accuracy: 0.9471\n",
            "\n",
            "Epoch 00016: val_loss did not improve from 0.29512\n",
            "Epoch 17/100\n",
            "60000/60000 [==============================] - 3s 50us/step - loss: 0.7477 - accuracy: 0.8162 - val_loss: 0.3333 - val_accuracy: 0.9466\n",
            "\n",
            "Epoch 00017: val_loss did not improve from 0.29512\n",
            "Epoch 18/100\n",
            "60000/60000 [==============================] - 3s 58us/step - loss: 0.7368 - accuracy: 0.8173 - val_loss: 0.3473 - val_accuracy: 0.9485\n",
            "\n",
            "Epoch 00018: val_loss did not improve from 0.29512\n",
            "Epoch 19/100\n",
            "60000/60000 [==============================] - 3s 54us/step - loss: 0.7264 - accuracy: 0.8191 - val_loss: 0.3594 - val_accuracy: 0.9424\n",
            "\n",
            "Epoch 00019: val_loss did not improve from 0.29512\n",
            "Epoch 20/100\n",
            "60000/60000 [==============================] - 3s 57us/step - loss: 0.7169 - accuracy: 0.8201 - val_loss: 0.3640 - val_accuracy: 0.9376\n",
            "\n",
            "Epoch 00020: val_loss did not improve from 0.29512\n",
            "Epoch 21/100\n",
            "60000/60000 [==============================] - 4s 58us/step - loss: 0.7065 - accuracy: 0.8219 - val_loss: 0.3350 - val_accuracy: 0.9381\n",
            "\n",
            "Epoch 00021: val_loss did not improve from 0.29512\n",
            "Epoch 22/100\n",
            "60000/60000 [==============================] - 4s 64us/step - loss: 0.6970 - accuracy: 0.8236 - val_loss: 0.3387 - val_accuracy: 0.9384\n",
            "\n",
            "Epoch 00022: val_loss did not improve from 0.29512\n",
            "Epoch 23/100\n",
            "60000/60000 [==============================] - 3s 50us/step - loss: 0.6885 - accuracy: 0.8239 - val_loss: 0.3407 - val_accuracy: 0.9337\n",
            "\n",
            "Epoch 00023: val_loss did not improve from 0.29512\n",
            "Epoch 24/100\n",
            "60000/60000 [==============================] - 3s 47us/step - loss: 0.6804 - accuracy: 0.8259 - val_loss: 0.3647 - val_accuracy: 0.9289\n",
            "\n",
            "Epoch 00024: val_loss did not improve from 0.29512\n",
            "Epoch 25/100\n",
            "60000/60000 [==============================] - 3s 49us/step - loss: 0.6707 - accuracy: 0.8266 - val_loss: 0.3637 - val_accuracy: 0.9273\n",
            "\n",
            "Epoch 00025: val_loss did not improve from 0.29512\n",
            "Epoch 26/100\n",
            "60000/60000 [==============================] - 3s 48us/step - loss: 0.6624 - accuracy: 0.8280 - val_loss: 0.3433 - val_accuracy: 0.9302\n",
            "\n",
            "Epoch 00026: val_loss did not improve from 0.29512\n",
            "Epoch 27/100\n",
            "60000/60000 [==============================] - 3s 48us/step - loss: 0.6554 - accuracy: 0.8291 - val_loss: 0.3540 - val_accuracy: 0.9277\n",
            "\n",
            "Epoch 00027: val_loss did not improve from 0.29512\n",
            "Epoch 28/100\n",
            "60000/60000 [==============================] - 3s 48us/step - loss: 0.6466 - accuracy: 0.8313 - val_loss: 0.3875 - val_accuracy: 0.9197\n",
            "\n",
            "Epoch 00028: val_loss did not improve from 0.29512\n",
            "Epoch 29/100\n",
            "60000/60000 [==============================] - 3s 49us/step - loss: 0.6378 - accuracy: 0.8315 - val_loss: 0.3552 - val_accuracy: 0.9258\n",
            "\n",
            "Epoch 00029: val_loss did not improve from 0.29512\n",
            "Epoch 30/100\n",
            "60000/60000 [==============================] - 3s 51us/step - loss: 0.6314 - accuracy: 0.8338 - val_loss: 0.3587 - val_accuracy: 0.9244\n",
            "\n",
            "Epoch 00030: val_loss did not improve from 0.29512\n",
            "Epoch 31/100\n",
            "60000/60000 [==============================] - 3s 49us/step - loss: 0.6250 - accuracy: 0.8341 - val_loss: 0.3607 - val_accuracy: 0.9218\n",
            "\n",
            "Epoch 00031: val_loss did not improve from 0.29512\n",
            "Epoch 32/100\n",
            "60000/60000 [==============================] - 3s 49us/step - loss: 0.6172 - accuracy: 0.8360 - val_loss: 0.3692 - val_accuracy: 0.9155\n",
            "\n",
            "Epoch 00032: val_loss did not improve from 0.29512\n",
            "Epoch 33/100\n",
            "60000/60000 [==============================] - 3s 50us/step - loss: 0.6094 - accuracy: 0.8378 - val_loss: 0.4070 - val_accuracy: 0.9071\n",
            "\n",
            "Epoch 00033: val_loss did not improve from 0.29512\n",
            "Epoch 34/100\n",
            "60000/60000 [==============================] - 3s 50us/step - loss: 0.6040 - accuracy: 0.8382 - val_loss: 0.3944 - val_accuracy: 0.9067\n",
            "\n",
            "Epoch 00034: val_loss did not improve from 0.29512\n",
            "Epoch 35/100\n",
            "60000/60000 [==============================] - 3s 51us/step - loss: 0.5959 - accuracy: 0.8395 - val_loss: 0.3935 - val_accuracy: 0.9086\n",
            "\n",
            "Epoch 00035: val_loss did not improve from 0.29512\n",
            "Epoch 36/100\n",
            "60000/60000 [==============================] - 3s 51us/step - loss: 0.5904 - accuracy: 0.8413 - val_loss: 0.3935 - val_accuracy: 0.9027\n",
            "\n",
            "Epoch 00036: val_loss did not improve from 0.29512\n",
            "Epoch 37/100\n",
            "60000/60000 [==============================] - 3s 53us/step - loss: 0.5830 - accuracy: 0.8434 - val_loss: 0.4033 - val_accuracy: 0.9031\n",
            "\n",
            "Epoch 00037: val_loss did not improve from 0.29512\n",
            "Epoch 38/100\n",
            "60000/60000 [==============================] - 3s 51us/step - loss: 0.5764 - accuracy: 0.8438 - val_loss: 0.4619 - val_accuracy: 0.8853\n",
            "\n",
            "Epoch 00038: val_loss did not improve from 0.29512\n",
            "Epoch 39/100\n",
            "60000/60000 [==============================] - 3s 51us/step - loss: 0.5709 - accuracy: 0.8459 - val_loss: 0.4027 - val_accuracy: 0.9041\n",
            "\n",
            "Epoch 00039: val_loss did not improve from 0.29512\n",
            "Epoch 40/100\n",
            "60000/60000 [==============================] - 3s 51us/step - loss: 0.5649 - accuracy: 0.8459 - val_loss: 0.4146 - val_accuracy: 0.8953\n",
            "\n",
            "Epoch 00040: val_loss did not improve from 0.29512\n",
            "Epoch 41/100\n",
            "60000/60000 [==============================] - 3s 55us/step - loss: 0.5578 - accuracy: 0.8467 - val_loss: 0.4432 - val_accuracy: 0.8860\n",
            "\n",
            "Epoch 00041: val_loss did not improve from 0.29512\n",
            "Epoch 42/100\n",
            "60000/60000 [==============================] - 3s 51us/step - loss: 0.5533 - accuracy: 0.8490 - val_loss: 0.4387 - val_accuracy: 0.8904\n",
            "\n",
            "Epoch 00042: val_loss did not improve from 0.29512\n",
            "Epoch 43/100\n",
            "60000/60000 [==============================] - 3s 52us/step - loss: 0.5481 - accuracy: 0.8493 - val_loss: 0.4519 - val_accuracy: 0.8864\n",
            "\n",
            "Epoch 00043: val_loss did not improve from 0.29512\n",
            "Epoch 44/100\n",
            "60000/60000 [==============================] - 3s 52us/step - loss: 0.5417 - accuracy: 0.8506 - val_loss: 0.4710 - val_accuracy: 0.8785\n",
            "\n",
            "Epoch 00044: val_loss did not improve from 0.29512\n",
            "Epoch 45/100\n",
            "60000/60000 [==============================] - 3s 52us/step - loss: 0.5364 - accuracy: 0.8527 - val_loss: 0.4211 - val_accuracy: 0.8921\n",
            "\n",
            "Epoch 00045: val_loss did not improve from 0.29512\n",
            "Epoch 46/100\n",
            "60000/60000 [==============================] - 3s 54us/step - loss: 0.5320 - accuracy: 0.8539 - val_loss: 0.4781 - val_accuracy: 0.8811\n",
            "\n",
            "Epoch 00046: val_loss did not improve from 0.29512\n",
            "Epoch 47/100\n",
            "60000/60000 [==============================] - 3s 51us/step - loss: 0.5263 - accuracy: 0.8536 - val_loss: 0.4336 - val_accuracy: 0.8902\n",
            "\n",
            "Epoch 00047: val_loss did not improve from 0.29512\n",
            "Epoch 48/100\n",
            "60000/60000 [==============================] - 3s 51us/step - loss: 0.5204 - accuracy: 0.8561 - val_loss: 0.4507 - val_accuracy: 0.8848\n",
            "\n",
            "Epoch 00048: val_loss did not improve from 0.29512\n",
            "Epoch 49/100\n",
            "60000/60000 [==============================] - 3s 52us/step - loss: 0.5157 - accuracy: 0.8573 - val_loss: 0.4762 - val_accuracy: 0.8757\n",
            "\n",
            "Epoch 00049: val_loss did not improve from 0.29512\n",
            "Epoch 50/100\n",
            "60000/60000 [==============================] - 3s 53us/step - loss: 0.5114 - accuracy: 0.8579 - val_loss: 0.5035 - val_accuracy: 0.8692\n",
            "\n",
            "Epoch 00050: val_loss did not improve from 0.29512\n",
            "Epoch 51/100\n",
            "60000/60000 [==============================] - 3s 54us/step - loss: 0.5046 - accuracy: 0.8593 - val_loss: 0.4490 - val_accuracy: 0.8823\n",
            "\n",
            "Epoch 00051: val_loss did not improve from 0.29512\n",
            "Epoch 52/100\n",
            "60000/60000 [==============================] - 3s 52us/step - loss: 0.5015 - accuracy: 0.8602 - val_loss: 0.4942 - val_accuracy: 0.8705\n",
            "\n",
            "Epoch 00052: val_loss did not improve from 0.29512\n",
            "Epoch 53/100\n",
            "60000/60000 [==============================] - 3s 52us/step - loss: 0.4971 - accuracy: 0.8609 - val_loss: 0.4827 - val_accuracy: 0.8750\n",
            "\n",
            "Epoch 00053: val_loss did not improve from 0.29512\n",
            "Epoch 54/100\n",
            "60000/60000 [==============================] - 3s 52us/step - loss: 0.4921 - accuracy: 0.8619 - val_loss: 0.5027 - val_accuracy: 0.8677\n",
            "\n",
            "Epoch 00054: val_loss did not improve from 0.29512\n",
            "Epoch 55/100\n",
            "60000/60000 [==============================] - 3s 52us/step - loss: 0.4866 - accuracy: 0.8625 - val_loss: 0.4952 - val_accuracy: 0.8726\n",
            "\n",
            "Epoch 00055: val_loss did not improve from 0.29512\n",
            "Epoch 56/100\n",
            "60000/60000 [==============================] - 3s 51us/step - loss: 0.4818 - accuracy: 0.8643 - val_loss: 0.5109 - val_accuracy: 0.8673\n",
            "\n",
            "Epoch 00056: val_loss did not improve from 0.29512\n",
            "Epoch 57/100\n",
            "60000/60000 [==============================] - 3s 52us/step - loss: 0.4780 - accuracy: 0.8663 - val_loss: 0.4912 - val_accuracy: 0.8716\n",
            "\n",
            "Epoch 00057: val_loss did not improve from 0.29512\n",
            "Epoch 58/100\n",
            "60000/60000 [==============================] - 3s 53us/step - loss: 0.4747 - accuracy: 0.8664 - val_loss: 0.4950 - val_accuracy: 0.8717\n",
            "\n",
            "Epoch 00058: val_loss did not improve from 0.29512\n",
            "Epoch 59/100\n",
            "60000/60000 [==============================] - 3s 51us/step - loss: 0.4697 - accuracy: 0.8658 - val_loss: 0.5175 - val_accuracy: 0.8663\n",
            "\n",
            "Epoch 00059: val_loss did not improve from 0.29512\n",
            "Epoch 60/100\n",
            "60000/60000 [==============================] - 3s 51us/step - loss: 0.4661 - accuracy: 0.8677 - val_loss: 0.5454 - val_accuracy: 0.8586\n",
            "\n",
            "Epoch 00060: val_loss did not improve from 0.29512\n",
            "Epoch 61/100\n",
            "60000/60000 [==============================] - 3s 54us/step - loss: 0.4614 - accuracy: 0.8689 - val_loss: 0.5341 - val_accuracy: 0.8635\n",
            "\n",
            "Epoch 00061: val_loss did not improve from 0.29512\n",
            "Epoch 62/100\n",
            "60000/60000 [==============================] - 3s 52us/step - loss: 0.4570 - accuracy: 0.8705 - val_loss: 0.5855 - val_accuracy: 0.8466\n",
            "\n",
            "Epoch 00062: val_loss did not improve from 0.29512\n",
            "Epoch 63/100\n",
            "60000/60000 [==============================] - 3s 52us/step - loss: 0.4542 - accuracy: 0.8708 - val_loss: 0.5434 - val_accuracy: 0.8587\n",
            "\n",
            "Epoch 00063: val_loss did not improve from 0.29512\n",
            "Epoch 64/100\n",
            "60000/60000 [==============================] - 3s 52us/step - loss: 0.4498 - accuracy: 0.8716 - val_loss: 0.5405 - val_accuracy: 0.8641\n",
            "\n",
            "Epoch 00064: val_loss did not improve from 0.29512\n",
            "Epoch 65/100\n",
            "60000/60000 [==============================] - 3s 52us/step - loss: 0.4465 - accuracy: 0.8720 - val_loss: 0.5658 - val_accuracy: 0.8511\n",
            "\n",
            "Epoch 00065: val_loss did not improve from 0.29512\n",
            "Epoch 66/100\n",
            "60000/60000 [==============================] - 3s 54us/step - loss: 0.4428 - accuracy: 0.8730 - val_loss: 0.5900 - val_accuracy: 0.8474\n",
            "\n",
            "Epoch 00066: val_loss did not improve from 0.29512\n",
            "Epoch 67/100\n",
            "60000/60000 [==============================] - 3s 52us/step - loss: 0.4389 - accuracy: 0.8736 - val_loss: 0.5876 - val_accuracy: 0.8510\n",
            "\n",
            "Epoch 00067: val_loss did not improve from 0.29512\n",
            "Epoch 68/100\n",
            "60000/60000 [==============================] - 3s 52us/step - loss: 0.4347 - accuracy: 0.8750 - val_loss: 0.5958 - val_accuracy: 0.8459\n",
            "\n",
            "Epoch 00068: val_loss did not improve from 0.29512\n",
            "Epoch 69/100\n",
            "60000/60000 [==============================] - 3s 52us/step - loss: 0.4310 - accuracy: 0.8767 - val_loss: 0.5833 - val_accuracy: 0.8504\n",
            "\n",
            "Epoch 00069: val_loss did not improve from 0.29512\n",
            "Epoch 70/100\n",
            "60000/60000 [==============================] - 3s 52us/step - loss: 0.4283 - accuracy: 0.8764 - val_loss: 0.5641 - val_accuracy: 0.8574\n",
            "\n",
            "Epoch 00070: val_loss did not improve from 0.29512\n",
            "Epoch 71/100\n",
            "60000/60000 [==============================] - 3s 54us/step - loss: 0.4237 - accuracy: 0.8780 - val_loss: 0.5862 - val_accuracy: 0.8495\n",
            "\n",
            "Epoch 00071: val_loss did not improve from 0.29512\n",
            "Epoch 72/100\n",
            "60000/60000 [==============================] - 3s 52us/step - loss: 0.4207 - accuracy: 0.8783 - val_loss: 0.5834 - val_accuracy: 0.8521\n",
            "\n",
            "Epoch 00072: val_loss did not improve from 0.29512\n",
            "Epoch 73/100\n",
            "60000/60000 [==============================] - 3s 51us/step - loss: 0.4174 - accuracy: 0.8788 - val_loss: 0.6083 - val_accuracy: 0.8439\n",
            "\n",
            "Epoch 00073: val_loss did not improve from 0.29512\n",
            "Epoch 74/100\n",
            "60000/60000 [==============================] - 3s 53us/step - loss: 0.4130 - accuracy: 0.8798 - val_loss: 0.6479 - val_accuracy: 0.8326\n",
            "\n",
            "Epoch 00074: val_loss did not improve from 0.29512\n",
            "Epoch 75/100\n",
            "60000/60000 [==============================] - 3s 52us/step - loss: 0.4098 - accuracy: 0.8809 - val_loss: 0.6607 - val_accuracy: 0.8307\n",
            "\n",
            "Epoch 00075: val_loss did not improve from 0.29512\n",
            "Epoch 76/100\n",
            "60000/60000 [==============================] - 3s 54us/step - loss: 0.4087 - accuracy: 0.8810 - val_loss: 0.6377 - val_accuracy: 0.8372\n",
            "\n",
            "Epoch 00076: val_loss did not improve from 0.29512\n",
            "Epoch 77/100\n",
            "60000/60000 [==============================] - 3s 52us/step - loss: 0.4035 - accuracy: 0.8832 - val_loss: 0.6073 - val_accuracy: 0.8444\n",
            "\n",
            "Epoch 00077: val_loss did not improve from 0.29512\n",
            "Epoch 78/100\n",
            "60000/60000 [==============================] - 3s 52us/step - loss: 0.4008 - accuracy: 0.8827 - val_loss: 0.6639 - val_accuracy: 0.8281\n",
            "\n",
            "Epoch 00078: val_loss did not improve from 0.29512\n",
            "Epoch 79/100\n",
            "60000/60000 [==============================] - 3s 53us/step - loss: 0.3980 - accuracy: 0.8844 - val_loss: 0.6793 - val_accuracy: 0.8267\n",
            "\n",
            "Epoch 00079: val_loss did not improve from 0.29512\n",
            "Epoch 80/100\n",
            "60000/60000 [==============================] - 3s 52us/step - loss: 0.3957 - accuracy: 0.8851 - val_loss: 0.6566 - val_accuracy: 0.8353\n",
            "\n",
            "Epoch 00080: val_loss did not improve from 0.29512\n",
            "Epoch 81/100\n",
            "60000/60000 [==============================] - 3s 53us/step - loss: 0.3903 - accuracy: 0.8858 - val_loss: 0.6789 - val_accuracy: 0.8309\n",
            "\n",
            "Epoch 00081: val_loss did not improve from 0.29512\n",
            "Epoch 82/100\n",
            "60000/60000 [==============================] - 3s 52us/step - loss: 0.3886 - accuracy: 0.8863 - val_loss: 0.6837 - val_accuracy: 0.8313\n",
            "\n",
            "Epoch 00082: val_loss did not improve from 0.29512\n",
            "Epoch 83/100\n",
            "60000/60000 [==============================] - 4s 62us/step - loss: 0.3858 - accuracy: 0.8866 - val_loss: 0.6447 - val_accuracy: 0.8424\n",
            "\n",
            "Epoch 00083: val_loss did not improve from 0.29512\n",
            "Epoch 84/100\n",
            "60000/60000 [==============================] - 4s 67us/step - loss: 0.3834 - accuracy: 0.8878 - val_loss: 0.7094 - val_accuracy: 0.8200\n",
            "\n",
            "Epoch 00084: val_loss did not improve from 0.29512\n",
            "Epoch 85/100\n",
            "60000/60000 [==============================] - 3s 50us/step - loss: 0.3803 - accuracy: 0.8893 - val_loss: 0.7042 - val_accuracy: 0.8238\n",
            "\n",
            "Epoch 00085: val_loss did not improve from 0.29512\n",
            "Epoch 86/100\n",
            "60000/60000 [==============================] - 3s 53us/step - loss: 0.3763 - accuracy: 0.8894 - val_loss: 0.6899 - val_accuracy: 0.8311\n",
            "\n",
            "Epoch 00086: val_loss did not improve from 0.29512\n",
            "Epoch 87/100\n",
            "60000/60000 [==============================] - 3s 56us/step - loss: 0.3734 - accuracy: 0.8903 - val_loss: 0.7393 - val_accuracy: 0.8144\n",
            "\n",
            "Epoch 00087: val_loss did not improve from 0.29512\n",
            "Epoch 88/100\n",
            "60000/60000 [==============================] - 3s 58us/step - loss: 0.3722 - accuracy: 0.8910 - val_loss: 0.7382 - val_accuracy: 0.8188\n",
            "\n",
            "Epoch 00088: val_loss did not improve from 0.29512\n",
            "Epoch 89/100\n",
            "60000/60000 [==============================] - 3s 54us/step - loss: 0.3694 - accuracy: 0.8917 - val_loss: 0.7481 - val_accuracy: 0.8147\n",
            "\n",
            "Epoch 00089: val_loss did not improve from 0.29512\n",
            "Epoch 90/100\n",
            "60000/60000 [==============================] - 3s 57us/step - loss: 0.3678 - accuracy: 0.8914 - val_loss: 0.7352 - val_accuracy: 0.8224\n",
            "\n",
            "Epoch 00090: val_loss did not improve from 0.29512\n",
            "Epoch 91/100\n",
            "60000/60000 [==============================] - 3s 58us/step - loss: 0.3622 - accuracy: 0.8938 - val_loss: 0.7618 - val_accuracy: 0.8177\n",
            "\n",
            "Epoch 00091: val_loss did not improve from 0.29512\n",
            "Epoch 92/100\n",
            "60000/60000 [==============================] - 3s 49us/step - loss: 0.3617 - accuracy: 0.8931 - val_loss: 0.7620 - val_accuracy: 0.8152\n",
            "\n",
            "Epoch 00092: val_loss did not improve from 0.29512\n",
            "Epoch 93/100\n",
            "60000/60000 [==============================] - 3s 48us/step - loss: 0.3592 - accuracy: 0.8944 - val_loss: 0.7679 - val_accuracy: 0.8123\n",
            "\n",
            "Epoch 00093: val_loss did not improve from 0.29512\n",
            "Epoch 94/100\n",
            "60000/60000 [==============================] - 3s 49us/step - loss: 0.3555 - accuracy: 0.8955 - val_loss: 0.7233 - val_accuracy: 0.8273\n",
            "\n",
            "Epoch 00094: val_loss did not improve from 0.29512\n",
            "Epoch 95/100\n",
            "60000/60000 [==============================] - 3s 54us/step - loss: 0.3556 - accuracy: 0.8946 - val_loss: 0.7694 - val_accuracy: 0.8206\n",
            "\n",
            "Epoch 00095: val_loss did not improve from 0.29512\n",
            "Epoch 96/100\n",
            "60000/60000 [==============================] - 3s 56us/step - loss: 0.3513 - accuracy: 0.8960 - val_loss: 0.7625 - val_accuracy: 0.8234\n",
            "\n",
            "Epoch 00096: val_loss did not improve from 0.29512\n",
            "Epoch 97/100\n",
            "60000/60000 [==============================] - 3s 57us/step - loss: 0.3481 - accuracy: 0.8970 - val_loss: 0.7815 - val_accuracy: 0.8167\n",
            "\n",
            "Epoch 00097: val_loss did not improve from 0.29512\n",
            "Epoch 98/100\n",
            "60000/60000 [==============================] - 3s 51us/step - loss: 0.3460 - accuracy: 0.8968 - val_loss: 0.8202 - val_accuracy: 0.8060\n",
            "\n",
            "Epoch 00098: val_loss did not improve from 0.29512\n",
            "Epoch 99/100\n",
            "60000/60000 [==============================] - 3s 55us/step - loss: 0.3423 - accuracy: 0.8982 - val_loss: 0.7901 - val_accuracy: 0.8190\n",
            "\n",
            "Epoch 00099: val_loss did not improve from 0.29512\n",
            "Epoch 100/100\n",
            "60000/60000 [==============================] - 3s 50us/step - loss: 0.3442 - accuracy: 0.8972 - val_loss: 0.8042 - val_accuracy: 0.8080\n",
            "\n",
            "Epoch 00100: val_loss did not improve from 0.29512\n"
          ],
          "name": "stdout"
        }
      ]
    },
    {
      "cell_type": "markdown",
      "metadata": {
        "id": "GZYqZQahRGlf"
      },
      "source": [
        "<font color=red>The word \"noisy\" seems more appropriate than \"permutated\".</font>"
      ]
    },
    {
      "cell_type": "code",
      "metadata": {
        "id": "b7pyapa_NlG5",
        "outputId": "24659cf5-b969-4f8c-cf8a-fb2415e5bf33"
      },
      "source": [
        "plot_history(history_adam, \"Adam with LR 0.001 @ Permutated MNIST Dataset\");"
      ],
      "execution_count": null,
      "outputs": [
        {
          "output_type": "display_data",
          "data": {
            "image/png": "[encoded data removed]",
            "text/plain": [
              "<Figure size 432x288 with 2 Axes>"
            ]
          },
          "metadata": {
            "tags": [],
            "needs_background": "light"
          }
        }
      ]
    },
    {
      "cell_type": "markdown",
      "metadata": {
        "id": "oENMCYod9yZD"
      },
      "source": [
        "## Exercise 4: Model performance as a function of number of hidden neurons (8 + 2 points)\n",
        "\n",
        "Since the MNIST dataset is almost perfectly solved already by a one-hidden-layer network in Exercise 3, we use the Fashion-MNIST dataset from now on to compare the performances of more complex models. In this exercise, we investigate how the best validation loss and accuracy depends on the number of hidden neurons in a single layer.\n",
        "\n",
        "1. Fit at least 4 models with different number of hidden neurons (i.e. width) between 10 and 1000 to the Fashion-MNIST dataset. Train with Adam for 50-100 epochs. (2 pts)\n",
        "2. Plot the best validation loss and accuracy versus the width. Is the observed trend in accordance with the [general approximation theorem](https://en.wikipedia.org/wiki/Universal_approximation_theorem)? Do you observe an overfitting due to the complexity of the wider networks with more parameters? Report the best validation accuracy. (2 pts)\n",
        "3. Choose $ p \\geq 0.5 $ fraction of the data points from the training dataset of Fashion-MNIST and change their class labels randomly as in Exercise 3. For this noisy Fashion-MNIST dataset, fit at least 4 models with different widths between 10 and 250. Train with Adam for at least 150 epochs. Plot the best validation loss and accuracy vs. width. (2 pts)\n",
        "4. BONUS: Add random Gaussian noise on the input pixels with mean 0 and variance between 0.01-0.5 and use the original labels. For this noisy Fashion-MNIST dataset, fit at least 4 models with different widths between 10 and 250. Train with Adam for at least 150 epochs. Plot the best validation loss and accuracy vs. width. (2 pts)\n",
        "5. Answer to the same questions in 2 for the noisy Fashion-MNIST dataset(s). Comment on the differences between width-performence curves for these two (or three) datasets. (2 pts)\n",
        "\n",
        "In this exercise we fit each model only for one initialization and random seed. In practice one would collect some statistics (e.g. 25-, 50-, 75-percentiles) for each layer size by fitting each model several times with different initializations and the random seeds. You may also want to do this here. It is a good exercise, but not mandatory as it takes quite a bit of computation time."
      ]
    },
    {
      "cell_type": "markdown",
      "metadata": {
        "id": "DcWkSkaj9yZE"
      },
      "source": [
        "**Answer to Question 2** (max 2 sentences): \n",
        "\n",
        "**Answer to Question 5** (max 3 sentences): "
      ]
    },
    {
      "cell_type": "markdown",
      "metadata": {
        "id": "NqK_mkEu9yZE"
      },
      "source": [
        "### Solution"
      ]
    },
    {
      "cell_type": "code",
      "metadata": {
        "id": "QzZnBC3L9yZE",
        "outputId": "2d6b06ac-ee97-49f5-dc85-433e438123b6"
      },
      "source": [
        "def return_model_with_n_hidden_neurons(n_hidden_neurons):\n",
        "    # Get number of columns in training data\n",
        "    inputs = Input(shape=(INPUT_DIM,), name=\"input_layer\")\n",
        "    layer = Dense(n_hidden_neurons, activation='relu', name=\"hidden_layer\")(inputs)\n",
        "    outputs = Dense(10, activation='softmax', name=\"output_layer\")(layer)\n",
        "\n",
        "    model = Model(inputs=inputs, outputs=outputs, name=\"ex3.1\")\n",
        "    return model\n",
        "\n",
        "#model = return_new_model()\n",
        "#model.summary()\n",
        "min_val_loss=[]\n",
        "max_val_accuracy=[]\n",
        "min_loss=[]\n",
        "max_accuracy=[]\n",
        "set_of_networks = [10, 50, 100, 500, 1000]\n",
        "for n_hidden_neurons in set_of_networks:\n",
        "    model = return_model_with_n_hidden_neurons(n_hidden_neurons)\n",
        "    mc = ModelCheckpoint('exercise-4.1_{0}-hidden-neurons.keras'.format(n_hidden_neurons), monitor='val_loss', mode='min', save_best_only=True, verbose=1)\n",
        "    model.compile(optimizer=Adam(), loss='categorical_crossentropy', metrics=[\"accuracy\"])\n",
        "    history_adam = model.fit(x_mnist_fashion_train_reshaped, y_mnist_fashion_train_one_hot, validation_data=(x_mnist_fashion_test_reshaped, y_mnist_fashion_test_one_hot), epochs=50, validation_split=0.2, verbose=1, callbacks=[mc])\n",
        "    print(history_adam.history)\n",
        "    min_val_loss.append(min(history_adam.history[\"val_loss\"]))\n",
        "    max_val_accuracy.append(max(history_adam.history[\"val_accuracy\"]))\n",
        "    min_loss.append(min(history_adam.history[\"loss\"]))\n",
        "    max_accuracy.append(max(history_adam.history[\"accuracy\"]))\n",
        "    plot_history(history_adam, \"{} Hidden Neurons\".format(n_hidden_neurons));\n",
        "    \n",
        "print(min_val_loss)\n",
        "print(max_val_accuracy)"
      ],
      "execution_count": null,
      "outputs": [
        {
          "output_type": "stream",
          "text": [
            "Train on 60000 samples, validate on 10000 samples\n",
            "Epoch 1/50\n",
            "60000/60000 [==============================] - 4s 61us/step - loss: 0.7471 - accuracy: 0.7448 - val_loss: 0.5729 - val_accuracy: 0.8063\n",
            "\n",
            "Epoch 00001: val_loss improved from inf to 0.57293, saving model to exercise-4.1_10-hidden-neurons.keras\n",
            "Epoch 2/50\n",
            "60000/60000 [==============================] - 3s 48us/step - loss: 0.5073 - accuracy: 0.8266 - val_loss: 0.5136 - val_accuracy: 0.8208\n",
            "\n",
            "Epoch 00002: val_loss improved from 0.57293 to 0.51359, saving model to exercise-4.1_10-hidden-neurons.keras\n",
            "Epoch 3/50\n",
            "60000/60000 [==============================] - 3s 49us/step - loss: 0.4618 - accuracy: 0.8386 - val_loss: 0.4967 - val_accuracy: 0.8249\n",
            "\n",
            "Epoch 00003: val_loss improved from 0.51359 to 0.49672, saving model to exercise-4.1_10-hidden-neurons.keras\n",
            "Epoch 4/50\n",
            "60000/60000 [==============================] - 3s 51us/step - loss: 0.4470 - accuracy: 0.8434 - val_loss: 0.4706 - val_accuracy: 0.8348\n",
            "\n",
            "Epoch 00004: val_loss improved from 0.49672 to 0.47056, saving model to exercise-4.1_10-hidden-neurons.keras\n",
            "Epoch 5/50\n",
            "60000/60000 [==============================] - 3s 53us/step - loss: 0.4342 - accuracy: 0.8485 - val_loss: 0.4734 - val_accuracy: 0.8353\n",
            "\n",
            "Epoch 00005: val_loss did not improve from 0.47056\n",
            "Epoch 6/50\n",
            "60000/60000 [==============================] - 3s 52us/step - loss: 0.4235 - accuracy: 0.8512 - val_loss: 0.4560 - val_accuracy: 0.8387\n",
            "\n",
            "Epoch 00006: val_loss improved from 0.47056 to 0.45604, saving model to exercise-4.1_10-hidden-neurons.keras\n",
            "Epoch 7/50\n",
            "60000/60000 [==============================] - 3s 52us/step - loss: 0.4128 - accuracy: 0.8541 - val_loss: 0.4632 - val_accuracy: 0.8357\n",
            "\n",
            "Epoch 00007: val_loss did not improve from 0.45604\n",
            "Epoch 8/50\n",
            "60000/60000 [==============================] - 3s 52us/step - loss: 0.4025 - accuracy: 0.8562 - val_loss: 0.4392 - val_accuracy: 0.8424\n",
            "\n",
            "Epoch 00008: val_loss improved from 0.45604 to 0.43918, saving model to exercise-4.1_10-hidden-neurons.keras\n",
            "Epoch 9/50\n",
            "60000/60000 [==============================] - 3s 53us/step - loss: 0.3952 - accuracy: 0.8592 - val_loss: 0.4335 - val_accuracy: 0.8442\n",
            "\n",
            "Epoch 00009: val_loss improved from 0.43918 to 0.43352, saving model to exercise-4.1_10-hidden-neurons.keras\n",
            "Epoch 10/50\n",
            "60000/60000 [==============================] - 3s 52us/step - loss: 0.3897 - accuracy: 0.8613 - val_loss: 0.4323 - val_accuracy: 0.8435\n",
            "\n",
            "Epoch 00010: val_loss improved from 0.43352 to 0.43230, saving model to exercise-4.1_10-hidden-neurons.keras\n",
            "Epoch 11/50\n",
            "60000/60000 [==============================] - 3s 53us/step - loss: 0.3841 - accuracy: 0.8632 - val_loss: 0.4288 - val_accuracy: 0.8444\n",
            "\n",
            "Epoch 00011: val_loss improved from 0.43230 to 0.42884, saving model to exercise-4.1_10-hidden-neurons.keras\n",
            "Epoch 12/50\n",
            "60000/60000 [==============================] - 3s 52us/step - loss: 0.3795 - accuracy: 0.8643 - val_loss: 0.4326 - val_accuracy: 0.8452\n",
            "\n",
            "Epoch 00012: val_loss did not improve from 0.42884\n",
            "Epoch 13/50\n",
            "60000/60000 [==============================] - 3s 53us/step - loss: 0.3763 - accuracy: 0.8645 - val_loss: 0.4353 - val_accuracy: 0.8464\n",
            "\n",
            "Epoch 00013: val_loss did not improve from 0.42884\n",
            "Epoch 14/50\n",
            "60000/60000 [==============================] - 3s 52us/step - loss: 0.3746 - accuracy: 0.8661 - val_loss: 0.4328 - val_accuracy: 0.8496\n",
            "\n",
            "Epoch 00014: val_loss did not improve from 0.42884\n",
            "Epoch 15/50\n",
            "60000/60000 [==============================] - 3s 53us/step - loss: 0.3691 - accuracy: 0.8667 - val_loss: 0.4401 - val_accuracy: 0.8449\n",
            "\n",
            "Epoch 00015: val_loss did not improve from 0.42884\n",
            "Epoch 16/50\n",
            "60000/60000 [==============================] - 3s 53us/step - loss: 0.3690 - accuracy: 0.8679 - val_loss: 0.4304 - val_accuracy: 0.8461\n",
            "\n",
            "Epoch 00016: val_loss did not improve from 0.42884\n",
            "Epoch 17/50\n",
            "60000/60000 [==============================] - 3s 53us/step - loss: 0.3650 - accuracy: 0.8685 - val_loss: 0.4251 - val_accuracy: 0.8501\n",
            "\n",
            "Epoch 00017: val_loss improved from 0.42884 to 0.42511, saving model to exercise-4.1_10-hidden-neurons.keras\n",
            "Epoch 18/50\n",
            "60000/60000 [==============================] - 3s 54us/step - loss: 0.3640 - accuracy: 0.8685 - val_loss: 0.4259 - val_accuracy: 0.8493\n",
            "\n",
            "Epoch 00018: val_loss did not improve from 0.42511\n",
            "Epoch 19/50\n",
            "60000/60000 [==============================] - 3s 54us/step - loss: 0.3615 - accuracy: 0.8697 - val_loss: 0.4234 - val_accuracy: 0.8457\n",
            "\n",
            "Epoch 00019: val_loss improved from 0.42511 to 0.42341, saving model to exercise-4.1_10-hidden-neurons.keras\n",
            "Epoch 20/50\n",
            "60000/60000 [==============================] - 3s 55us/step - loss: 0.3617 - accuracy: 0.8714 - val_loss: 0.4250 - val_accuracy: 0.8492\n",
            "\n",
            "Epoch 00020: val_loss did not improve from 0.42341\n",
            "Epoch 21/50\n",
            "60000/60000 [==============================] - 3s 54us/step - loss: 0.3581 - accuracy: 0.8721 - val_loss: 0.4516 - val_accuracy: 0.8407\n",
            "\n",
            "Epoch 00021: val_loss did not improve from 0.42341\n",
            "Epoch 22/50\n",
            "60000/60000 [==============================] - 3s 53us/step - loss: 0.3583 - accuracy: 0.8708 - val_loss: 0.4197 - val_accuracy: 0.8503\n",
            "\n",
            "Epoch 00022: val_loss improved from 0.42341 to 0.41972, saving model to exercise-4.1_10-hidden-neurons.keras\n",
            "Epoch 23/50\n",
            "60000/60000 [==============================] - 3s 50us/step - loss: 0.3562 - accuracy: 0.8715 - val_loss: 0.4315 - val_accuracy: 0.8447\n",
            "\n",
            "Epoch 00023: val_loss did not improve from 0.41972\n",
            "Epoch 24/50\n",
            "60000/60000 [==============================] - 3s 51us/step - loss: 0.3552 - accuracy: 0.8726 - val_loss: 0.4426 - val_accuracy: 0.8409\n",
            "\n",
            "Epoch 00024: val_loss did not improve from 0.41972\n",
            "Epoch 25/50\n",
            "60000/60000 [==============================] - 3s 52us/step - loss: 0.3531 - accuracy: 0.8726 - val_loss: 0.4319 - val_accuracy: 0.8423\n",
            "\n",
            "Epoch 00025: val_loss did not improve from 0.41972\n",
            "Epoch 26/50\n",
            "60000/60000 [==============================] - 3s 50us/step - loss: 0.3524 - accuracy: 0.8728 - val_loss: 0.4318 - val_accuracy: 0.8441\n",
            "\n",
            "Epoch 00026: val_loss did not improve from 0.41972\n",
            "Epoch 27/50\n",
            "60000/60000 [==============================] - 3s 50us/step - loss: 0.3513 - accuracy: 0.8721 - val_loss: 0.4239 - val_accuracy: 0.8467\n",
            "\n",
            "Epoch 00027: val_loss did not improve from 0.41972\n",
            "Epoch 28/50\n",
            "60000/60000 [==============================] - 3s 51us/step - loss: 0.3503 - accuracy: 0.8730 - val_loss: 0.4291 - val_accuracy: 0.8448\n",
            "\n",
            "Epoch 00028: val_loss did not improve from 0.41972\n",
            "Epoch 29/50\n",
            "60000/60000 [==============================] - 3s 50us/step - loss: 0.3503 - accuracy: 0.8744 - val_loss: 0.4270 - val_accuracy: 0.8477\n",
            "\n",
            "Epoch 00029: val_loss did not improve from 0.41972\n",
            "Epoch 30/50\n",
            "60000/60000 [==============================] - 3s 50us/step - loss: 0.3485 - accuracy: 0.8733 - val_loss: 0.4288 - val_accuracy: 0.8462\n",
            "\n",
            "Epoch 00030: val_loss did not improve from 0.41972\n",
            "Epoch 31/50\n",
            "60000/60000 [==============================] - 3s 50us/step - loss: 0.3466 - accuracy: 0.8748 - val_loss: 0.4329 - val_accuracy: 0.8442\n",
            "\n",
            "Epoch 00031: val_loss did not improve from 0.41972\n",
            "Epoch 32/50\n",
            "60000/60000 [==============================] - 3s 50us/step - loss: 0.3469 - accuracy: 0.8748 - val_loss: 0.4462 - val_accuracy: 0.8396\n",
            "\n",
            "Epoch 00032: val_loss did not improve from 0.41972\n",
            "Epoch 33/50\n",
            "60000/60000 [==============================] - 3s 50us/step - loss: 0.3479 - accuracy: 0.8755 - val_loss: 0.4289 - val_accuracy: 0.8468\n",
            "\n",
            "Epoch 00033: val_loss did not improve from 0.41972\n",
            "Epoch 34/50\n",
            "60000/60000 [==============================] - 3s 50us/step - loss: 0.3455 - accuracy: 0.8745 - val_loss: 0.4365 - val_accuracy: 0.8428\n",
            "\n",
            "Epoch 00034: val_loss did not improve from 0.41972\n",
            "Epoch 35/50\n",
            "60000/60000 [==============================] - 3s 50us/step - loss: 0.3449 - accuracy: 0.8755 - val_loss: 0.4553 - val_accuracy: 0.8385\n",
            "\n",
            "Epoch 00035: val_loss did not improve from 0.41972\n",
            "Epoch 36/50\n",
            "60000/60000 [==============================] - 3s 50us/step - loss: 0.3434 - accuracy: 0.8750 - val_loss: 0.4275 - val_accuracy: 0.8460\n",
            "\n",
            "Epoch 00036: val_loss did not improve from 0.41972\n",
            "Epoch 37/50\n",
            "60000/60000 [==============================] - 3s 52us/step - loss: 0.3425 - accuracy: 0.8756 - val_loss: 0.4451 - val_accuracy: 0.8464\n",
            "\n",
            "Epoch 00037: val_loss did not improve from 0.41972\n",
            "Epoch 38/50\n",
            "60000/60000 [==============================] - 3s 52us/step - loss: 0.3427 - accuracy: 0.8757 - val_loss: 0.4337 - val_accuracy: 0.8463\n",
            "\n",
            "Epoch 00038: val_loss did not improve from 0.41972\n",
            "Epoch 39/50\n",
            "60000/60000 [==============================] - 3s 53us/step - loss: 0.3422 - accuracy: 0.8756 - val_loss: 0.4416 - val_accuracy: 0.8464\n",
            "\n",
            "Epoch 00039: val_loss did not improve from 0.41972\n",
            "Epoch 40/50\n",
            "60000/60000 [==============================] - 3s 52us/step - loss: 0.3401 - accuracy: 0.8767 - val_loss: 0.4371 - val_accuracy: 0.8446\n",
            "\n",
            "Epoch 00040: val_loss did not improve from 0.41972\n",
            "Epoch 41/50\n",
            "60000/60000 [==============================] - 3s 52us/step - loss: 0.3397 - accuracy: 0.8766 - val_loss: 0.4291 - val_accuracy: 0.8480\n",
            "\n",
            "Epoch 00041: val_loss did not improve from 0.41972\n",
            "Epoch 42/50\n",
            "60000/60000 [==============================] - 3s 52us/step - loss: 0.3392 - accuracy: 0.8775 - val_loss: 0.4394 - val_accuracy: 0.8431\n",
            "\n",
            "Epoch 00042: val_loss did not improve from 0.41972\n",
            "Epoch 43/50\n",
            "60000/60000 [==============================] - 3s 52us/step - loss: 0.3376 - accuracy: 0.8770 - val_loss: 0.4334 - val_accuracy: 0.8480\n",
            "\n",
            "Epoch 00043: val_loss did not improve from 0.41972\n",
            "Epoch 44/50\n",
            "60000/60000 [==============================] - 3s 52us/step - loss: 0.3386 - accuracy: 0.8780 - val_loss: 0.4304 - val_accuracy: 0.8433\n",
            "\n",
            "Epoch 00044: val_loss did not improve from 0.41972\n",
            "Epoch 45/50\n",
            "60000/60000 [==============================] - 3s 52us/step - loss: 0.3375 - accuracy: 0.8776 - val_loss: 0.4502 - val_accuracy: 0.8408\n",
            "\n",
            "Epoch 00045: val_loss did not improve from 0.41972\n",
            "Epoch 46/50\n",
            "60000/60000 [==============================] - 3s 52us/step - loss: 0.3381 - accuracy: 0.8783 - val_loss: 0.4407 - val_accuracy: 0.8460\n",
            "\n",
            "Epoch 00046: val_loss did not improve from 0.41972\n",
            "Epoch 47/50\n",
            "60000/60000 [==============================] - 3s 52us/step - loss: 0.3369 - accuracy: 0.8783 - val_loss: 0.4378 - val_accuracy: 0.8486\n",
            "\n",
            "Epoch 00047: val_loss did not improve from 0.41972\n",
            "Epoch 48/50\n",
            "60000/60000 [==============================] - 3s 52us/step - loss: 0.3365 - accuracy: 0.8775 - val_loss: 0.4360 - val_accuracy: 0.8447\n",
            "\n",
            "Epoch 00048: val_loss did not improve from 0.41972\n",
            "Epoch 49/50\n",
            "60000/60000 [==============================] - 3s 52us/step - loss: 0.3361 - accuracy: 0.8782 - val_loss: 0.4373 - val_accuracy: 0.8457\n",
            "\n",
            "Epoch 00049: val_loss did not improve from 0.41972\n",
            "Epoch 50/50\n",
            "60000/60000 [==============================] - 3s 52us/step - loss: 0.3347 - accuracy: 0.8789 - val_loss: 0.4364 - val_accuracy: 0.8448\n",
            "\n",
            "Epoch 00050: val_loss did not improve from 0.41972\n",
            "{'val_loss': [0.5729342053890228, 0.5135894357204437, 0.4967234830379486, 0.47056321563720704, 0.473406294298172, 0.45604034476280214, 0.4632208231449127, 0.4391799702167511, 0.4335184195518494, 0.432303062915802, 0.42883976576328275, 0.43257732005119326, 0.4353083479642868, 0.4328404745817184, 0.4401019786834717, 0.4304272051811218, 0.4251084330320358, 0.42587800641059875, 0.4234134838223457, 0.4249910727024078, 0.45162846739292145, 0.41972148258686065, 0.431519153213501, 0.4425568065404892, 0.43192265305519106, 0.43184509437084195, 0.4238527880430222, 0.4290764683485031, 0.4269523407459259, 0.428781488597393, 0.4328626133680344, 0.44621937913894655, 0.4289069235086441, 0.4364825635433197, 0.45529586889743806, 0.4274714281082153, 0.44509661622047425, 0.4336546744585037, 0.4415972042322159, 0.43713140950202944, 0.42907457637786867, 0.4394377660036087, 0.43335986313819885, 0.4304187188625336, 0.4502472174167633, 0.44070082314014436, 0.43777146437168124, 0.43603183917999266, 0.4372893527030945, 0.43635333833694456], 'val_accuracy': [0.8062999844551086, 0.8208000063896179, 0.8248999714851379, 0.8348000049591064, 0.8353000283241272, 0.838699996471405, 0.8356999754905701, 0.8424000144004822, 0.8442000150680542, 0.843500018119812, 0.8443999886512756, 0.8452000021934509, 0.8464000225067139, 0.8496000170707703, 0.8449000120162964, 0.8460999727249146, 0.8500999808311462, 0.8493000268936157, 0.8457000255584717, 0.8492000102996826, 0.8406999707221985, 0.8503000140190125, 0.8446999788284302, 0.8409000039100647, 0.8422999978065491, 0.8440999984741211, 0.8467000126838684, 0.8447999954223633, 0.8476999998092651, 0.8461999893188477, 0.8442000150680542, 0.8396000266075134, 0.8468000292778015, 0.8428000211715698, 0.8385000228881836, 0.8460000157356262, 0.8464000225067139, 0.8463000059127808, 0.8464000225067139, 0.8446000218391418, 0.8479999899864197, 0.8431000113487244, 0.8479999899864197, 0.8432999849319458, 0.8407999873161316, 0.8460000157356262, 0.8485999703407288, 0.8446999788284302, 0.8457000255584717, 0.8447999954223633], 'loss': [0.747138025267919, 0.5072512014071147, 0.4617883972803752, 0.4470467923601468, 0.4342433815638224, 0.423475625816981, 0.41281748123963674, 0.4024542996366819, 0.3951529305656751, 0.38973315434853234, 0.38407431435783707, 0.37954059895674386, 0.3762744978904724, 0.37462845251957577, 0.36909977511962255, 0.3690228171348572, 0.3649848011116187, 0.3639987671295802, 0.36147416500846546, 0.3616576922237873, 0.3581332487066587, 0.3582808005809784, 0.35619836137890815, 0.35516541618506114, 0.3530786337693532, 0.35242543262441955, 0.35133999442060787, 0.3503158894240856, 0.35027338392734525, 0.34850884307026864, 0.34662917916178704, 0.346854468613863, 0.34793081821799277, 0.34552597993214923, 0.34494404571851095, 0.3433696461677551, 0.342459080328544, 0.3426929317394892, 0.3422325175543626, 0.34005028449694313, 0.3397123662908872, 0.3392173492471377, 0.33760662007927894, 0.33862726806004845, 0.3375395603001118, 0.3381227747440338, 0.3368860551536083, 0.33653188023964564, 0.3361255621393522, 0.33473960539897285], 'accuracy': [0.7448, 0.82655, 0.83861667, 0.8434167, 0.8485, 0.8512167, 0.8541333, 0.85621667, 0.8592167, 0.8613167, 0.8631667, 0.86425, 0.8645333, 0.8660833, 0.8666667, 0.86793333, 0.8685, 0.8685, 0.86965, 0.8714167, 0.8721167, 0.8707833, 0.87145, 0.87255, 0.87261665, 0.8728333, 0.8720833, 0.873, 0.87441665, 0.87331665, 0.87485, 0.87485, 0.87553334, 0.87448335, 0.87553334, 0.875, 0.87565, 0.8757167, 0.8756, 0.87666667, 0.87661666, 0.8774833, 0.877, 0.87795, 0.87763333, 0.8782667, 0.8783, 0.8775333, 0.8782333, 0.87895]}\n",
            "Train on 60000 samples, validate on 10000 samples\n",
            "Epoch 1/50\n",
            "60000/60000 [==============================] - 4s 72us/step - loss: 0.5294 - accuracy: 0.8178 - val_loss: 0.4578 - val_accuracy: 0.8380\n",
            "\n",
            "Epoch 00001: val_loss improved from inf to 0.45781, saving model to exercise-4.1_50-hidden-neurons.keras\n",
            "Epoch 2/50\n",
            "60000/60000 [==============================] - 4s 62us/step - loss: 0.4046 - accuracy: 0.8565 - val_loss: 0.4195 - val_accuracy: 0.8519\n",
            "\n",
            "Epoch 00002: val_loss improved from 0.45781 to 0.41949, saving model to exercise-4.1_50-hidden-neurons.keras\n",
            "Epoch 3/50\n",
            "60000/60000 [==============================] - 4s 61us/step - loss: 0.3731 - accuracy: 0.8671 - val_loss: 0.3972 - val_accuracy: 0.8556\n",
            "\n",
            "Epoch 00003: val_loss improved from 0.41949 to 0.39719, saving model to exercise-4.1_50-hidden-neurons.keras\n",
            "Epoch 4/50\n",
            "60000/60000 [==============================] - 4s 62us/step - loss: 0.3460 - accuracy: 0.8754 - val_loss: 0.3925 - val_accuracy: 0.8593\n",
            "\n",
            "Epoch 00004: val_loss improved from 0.39719 to 0.39245, saving model to exercise-4.1_50-hidden-neurons.keras\n",
            "Epoch 5/50\n",
            "60000/60000 [==============================] - 4s 61us/step - loss: 0.3291 - accuracy: 0.8802 - val_loss: 0.3709 - val_accuracy: 0.8676\n",
            "\n",
            "Epoch 00005: val_loss improved from 0.39245 to 0.37095, saving model to exercise-4.1_50-hidden-neurons.keras\n",
            "Epoch 6/50\n",
            "60000/60000 [==============================] - 4s 61us/step - loss: 0.3141 - accuracy: 0.8860 - val_loss: 0.3979 - val_accuracy: 0.8585\n",
            "\n",
            "Epoch 00006: val_loss did not improve from 0.37095\n",
            "Epoch 7/50\n",
            "60000/60000 [==============================] - 4s 60us/step - loss: 0.3015 - accuracy: 0.8897 - val_loss: 0.3665 - val_accuracy: 0.8701\n",
            "\n",
            "Epoch 00007: val_loss improved from 0.37095 to 0.36654, saving model to exercise-4.1_50-hidden-neurons.keras\n",
            "Epoch 8/50\n",
            "60000/60000 [==============================] - 4s 60us/step - loss: 0.2912 - accuracy: 0.8936 - val_loss: 0.3646 - val_accuracy: 0.8709\n",
            "\n",
            "Epoch 00008: val_loss improved from 0.36654 to 0.36455, saving model to exercise-4.1_50-hidden-neurons.keras\n",
            "Epoch 9/50\n",
            "60000/60000 [==============================] - 4s 61us/step - loss: 0.2820 - accuracy: 0.8954 - val_loss: 0.3613 - val_accuracy: 0.8701\n",
            "\n",
            "Epoch 00009: val_loss improved from 0.36455 to 0.36134, saving model to exercise-4.1_50-hidden-neurons.keras\n",
            "Epoch 10/50\n",
            "60000/60000 [==============================] - 4s 65us/step - loss: 0.2745 - accuracy: 0.8981 - val_loss: 0.3749 - val_accuracy: 0.8707\n",
            "\n",
            "Epoch 00010: val_loss did not improve from 0.36134\n",
            "Epoch 11/50\n",
            "60000/60000 [==============================] - 4s 62us/step - loss: 0.2669 - accuracy: 0.9017 - val_loss: 0.3602 - val_accuracy: 0.8728\n",
            "\n",
            "Epoch 00011: val_loss improved from 0.36134 to 0.36018, saving model to exercise-4.1_50-hidden-neurons.keras\n",
            "Epoch 12/50\n",
            "60000/60000 [==============================] - 4s 62us/step - loss: 0.2605 - accuracy: 0.9033 - val_loss: 0.3618 - val_accuracy: 0.8750\n",
            "\n",
            "Epoch 00012: val_loss did not improve from 0.36018\n",
            "Epoch 13/50\n",
            "60000/60000 [==============================] - 4s 61us/step - loss: 0.2557 - accuracy: 0.9052 - val_loss: 0.3792 - val_accuracy: 0.8713\n",
            "\n",
            "Epoch 00013: val_loss did not improve from 0.36018\n",
            "Epoch 14/50\n",
            "60000/60000 [==============================] - 4s 60us/step - loss: 0.2481 - accuracy: 0.9073 - val_loss: 0.3609 - val_accuracy: 0.8715\n",
            "\n",
            "Epoch 00014: val_loss did not improve from 0.36018\n",
            "Epoch 15/50\n",
            "60000/60000 [==============================] - 4s 60us/step - loss: 0.2464 - accuracy: 0.9087 - val_loss: 0.3595 - val_accuracy: 0.8777\n",
            "\n",
            "Epoch 00015: val_loss improved from 0.36018 to 0.35949, saving model to exercise-4.1_50-hidden-neurons.keras\n",
            "Epoch 16/50\n",
            "60000/60000 [==============================] - 4s 61us/step - loss: 0.2380 - accuracy: 0.9109 - val_loss: 0.3612 - val_accuracy: 0.8748\n",
            "\n",
            "Epoch 00016: val_loss did not improve from 0.35949\n",
            "Epoch 17/50\n",
            "60000/60000 [==============================] - 4s 60us/step - loss: 0.2341 - accuracy: 0.9126 - val_loss: 0.3639 - val_accuracy: 0.8739\n",
            "\n",
            "Epoch 00017: val_loss did not improve from 0.35949\n",
            "Epoch 18/50\n",
            "60000/60000 [==============================] - 4s 59us/step - loss: 0.2312 - accuracy: 0.9139 - val_loss: 0.3606 - val_accuracy: 0.8764\n",
            "\n",
            "Epoch 00018: val_loss did not improve from 0.35949\n",
            "Epoch 19/50\n",
            "60000/60000 [==============================] - 4s 60us/step - loss: 0.2246 - accuracy: 0.9165 - val_loss: 0.3812 - val_accuracy: 0.8681\n",
            "\n",
            "Epoch 00019: val_loss did not improve from 0.35949\n",
            "Epoch 20/50\n",
            "60000/60000 [==============================] - 4s 60us/step - loss: 0.2226 - accuracy: 0.9162 - val_loss: 0.3591 - val_accuracy: 0.8776\n",
            "\n",
            "Epoch 00020: val_loss improved from 0.35949 to 0.35906, saving model to exercise-4.1_50-hidden-neurons.keras\n",
            "Epoch 21/50\n",
            "60000/60000 [==============================] - 4s 61us/step - loss: 0.2182 - accuracy: 0.9175 - val_loss: 0.3700 - val_accuracy: 0.8762\n",
            "\n",
            "Epoch 00021: val_loss did not improve from 0.35906\n",
            "Epoch 22/50\n",
            "60000/60000 [==============================] - 4s 60us/step - loss: 0.2144 - accuracy: 0.9195 - val_loss: 0.3783 - val_accuracy: 0.8739\n",
            "\n",
            "Epoch 00022: val_loss did not improve from 0.35906\n",
            "Epoch 23/50\n",
            "60000/60000 [==============================] - 4s 59us/step - loss: 0.2125 - accuracy: 0.9209 - val_loss: 0.3734 - val_accuracy: 0.8774\n",
            "\n",
            "Epoch 00023: val_loss did not improve from 0.35906\n",
            "Epoch 24/50\n",
            "60000/60000 [==============================] - 4s 60us/step - loss: 0.2083 - accuracy: 0.9208 - val_loss: 0.3694 - val_accuracy: 0.8794\n",
            "\n",
            "Epoch 00024: val_loss did not improve from 0.35906\n",
            "Epoch 25/50\n",
            "60000/60000 [==============================] - 4s 59us/step - loss: 0.2048 - accuracy: 0.9236 - val_loss: 0.3714 - val_accuracy: 0.8774\n",
            "\n",
            "Epoch 00025: val_loss did not improve from 0.35906\n",
            "Epoch 26/50\n",
            "60000/60000 [==============================] - 4s 60us/step - loss: 0.2018 - accuracy: 0.9246 - val_loss: 0.3701 - val_accuracy: 0.8795\n",
            "\n",
            "Epoch 00026: val_loss did not improve from 0.35906\n",
            "Epoch 27/50\n",
            "60000/60000 [==============================] - 4s 60us/step - loss: 0.1994 - accuracy: 0.9255 - val_loss: 0.3760 - val_accuracy: 0.8809\n",
            "\n",
            "Epoch 00027: val_loss did not improve from 0.35906\n",
            "Epoch 28/50\n",
            "60000/60000 [==============================] - 4s 59us/step - loss: 0.1957 - accuracy: 0.9268 - val_loss: 0.4029 - val_accuracy: 0.8741\n",
            "\n",
            "Epoch 00028: val_loss did not improve from 0.35906\n",
            "Epoch 29/50\n",
            "60000/60000 [==============================] - 4s 59us/step - loss: 0.1942 - accuracy: 0.9281 - val_loss: 0.3796 - val_accuracy: 0.8819\n",
            "\n",
            "Epoch 00029: val_loss did not improve from 0.35906\n",
            "Epoch 30/50\n",
            "60000/60000 [==============================] - 4s 60us/step - loss: 0.1910 - accuracy: 0.9279 - val_loss: 0.3808 - val_accuracy: 0.8784\n",
            "\n",
            "Epoch 00030: val_loss did not improve from 0.35906\n",
            "Epoch 31/50\n",
            "60000/60000 [==============================] - 4s 60us/step - loss: 0.1889 - accuracy: 0.9294 - val_loss: 0.3930 - val_accuracy: 0.8795\n",
            "\n",
            "Epoch 00031: val_loss did not improve from 0.35906\n",
            "Epoch 32/50\n",
            "60000/60000 [==============================] - 4s 59us/step - loss: 0.1869 - accuracy: 0.9300 - val_loss: 0.3900 - val_accuracy: 0.8790\n",
            "\n",
            "Epoch 00032: val_loss did not improve from 0.35906\n",
            "Epoch 33/50\n",
            "60000/60000 [==============================] - 4s 60us/step - loss: 0.1826 - accuracy: 0.9315 - val_loss: 0.4089 - val_accuracy: 0.8778\n",
            "\n",
            "Epoch 00033: val_loss did not improve from 0.35906\n",
            "Epoch 34/50\n",
            "60000/60000 [==============================] - 4s 60us/step - loss: 0.1821 - accuracy: 0.9323 - val_loss: 0.4233 - val_accuracy: 0.8713\n",
            "\n",
            "Epoch 00034: val_loss did not improve from 0.35906\n",
            "Epoch 35/50\n",
            "60000/60000 [==============================] - 4s 60us/step - loss: 0.1792 - accuracy: 0.9324 - val_loss: 0.3920 - val_accuracy: 0.8805\n",
            "\n",
            "Epoch 00035: val_loss did not improve from 0.35906\n",
            "Epoch 36/50\n",
            "60000/60000 [==============================] - 4s 59us/step - loss: 0.1777 - accuracy: 0.9322 - val_loss: 0.4028 - val_accuracy: 0.8809\n",
            "\n",
            "Epoch 00036: val_loss did not improve from 0.35906\n",
            "Epoch 37/50\n",
            "60000/60000 [==============================] - 4s 59us/step - loss: 0.1772 - accuracy: 0.9332 - val_loss: 0.4050 - val_accuracy: 0.8826\n",
            "\n",
            "Epoch 00037: val_loss did not improve from 0.35906\n",
            "Epoch 38/50\n",
            "60000/60000 [==============================] - 4s 60us/step - loss: 0.1757 - accuracy: 0.9339 - val_loss: 0.4163 - val_accuracy: 0.8790\n",
            "\n",
            "Epoch 00038: val_loss did not improve from 0.35906\n",
            "Epoch 39/50\n",
            "60000/60000 [==============================] - 4s 59us/step - loss: 0.1735 - accuracy: 0.9359 - val_loss: 0.4168 - val_accuracy: 0.8791\n",
            "\n",
            "Epoch 00039: val_loss did not improve from 0.35906\n",
            "Epoch 40/50\n",
            "60000/60000 [==============================] - 4s 60us/step - loss: 0.1707 - accuracy: 0.9357 - val_loss: 0.4518 - val_accuracy: 0.8745\n",
            "\n",
            "Epoch 00040: val_loss did not improve from 0.35906\n",
            "Epoch 41/50\n",
            "60000/60000 [==============================] - 4s 59us/step - loss: 0.1696 - accuracy: 0.9366 - val_loss: 0.4099 - val_accuracy: 0.8795\n",
            "\n",
            "Epoch 00041: val_loss did not improve from 0.35906\n",
            "Epoch 42/50\n",
            "60000/60000 [==============================] - 4s 59us/step - loss: 0.1689 - accuracy: 0.9362 - val_loss: 0.4402 - val_accuracy: 0.8745\n",
            "\n",
            "Epoch 00042: val_loss did not improve from 0.35906\n",
            "Epoch 43/50\n",
            "60000/60000 [==============================] - 3s 57us/step - loss: 0.1662 - accuracy: 0.9371 - val_loss: 0.4205 - val_accuracy: 0.8828\n",
            "\n",
            "Epoch 00043: val_loss did not improve from 0.35906\n",
            "Epoch 44/50\n",
            "60000/60000 [==============================] - 4s 60us/step - loss: 0.1642 - accuracy: 0.9392 - val_loss: 0.4393 - val_accuracy: 0.8739\n",
            "\n",
            "Epoch 00044: val_loss did not improve from 0.35906\n",
            "Epoch 45/50\n",
            "60000/60000 [==============================] - 4s 60us/step - loss: 0.1630 - accuracy: 0.9391 - val_loss: 0.4595 - val_accuracy: 0.8788\n",
            "\n",
            "Epoch 00045: val_loss did not improve from 0.35906\n",
            "Epoch 46/50\n",
            "60000/60000 [==============================] - 4s 60us/step - loss: 0.1608 - accuracy: 0.9396 - val_loss: 0.4387 - val_accuracy: 0.8785\n",
            "\n",
            "Epoch 00046: val_loss did not improve from 0.35906\n",
            "Epoch 47/50\n",
            "60000/60000 [==============================] - 4s 59us/step - loss: 0.1581 - accuracy: 0.9409 - val_loss: 0.4405 - val_accuracy: 0.8803\n",
            "\n",
            "Epoch 00047: val_loss did not improve from 0.35906\n",
            "Epoch 48/50\n",
            "60000/60000 [==============================] - 4s 60us/step - loss: 0.1574 - accuracy: 0.9420 - val_loss: 0.4463 - val_accuracy: 0.8748\n",
            "\n",
            "Epoch 00048: val_loss did not improve from 0.35906\n",
            "Epoch 49/50\n",
            "60000/60000 [==============================] - 4s 60us/step - loss: 0.1557 - accuracy: 0.9417 - val_loss: 0.4538 - val_accuracy: 0.8819\n",
            "\n",
            "Epoch 00049: val_loss did not improve from 0.35906\n",
            "Epoch 50/50\n",
            "60000/60000 [==============================] - 4s 59us/step - loss: 0.1529 - accuracy: 0.9422 - val_loss: 0.4421 - val_accuracy: 0.8773\n",
            "\n",
            "Epoch 00050: val_loss did not improve from 0.35906\n",
            "{'val_loss': [0.4578118226528168, 0.4194888968706131, 0.39719171137809756, 0.3924507313013077, 0.37094959120750426, 0.39792864174842835, 0.366542520070076, 0.36455186653137206, 0.3613390174150467, 0.3749325992226601, 0.36017630002498624, 0.3617905173301697, 0.3792377573013306, 0.3608707835316658, 0.35949004554748537, 0.3612287528395653, 0.36391353701353074, 0.36061061253547666, 0.38119893846511843, 0.35906205228567123, 0.3700446222543716, 0.3782933811545372, 0.3733868353486061, 0.369395529294014, 0.37140135791301726, 0.37009858343601226, 0.3759585218191147, 0.40287818071842196, 0.37959904415607454, 0.38079121358394624, 0.39304147729873656, 0.38995395373106, 0.4088996159672737, 0.42334113183021543, 0.3919545756816864, 0.4028113337635994, 0.40500408974885943, 0.4163175047636032, 0.41675647684931755, 0.4517667386472225, 0.4098526491463184, 0.4402130182266235, 0.4205166078448296, 0.4392856318533421, 0.45947870221138, 0.43866526314020154, 0.44050575592517854, 0.44632938453555104, 0.4538491132497787, 0.44207489581108095], 'val_accuracy': [0.8379999995231628, 0.8518999814987183, 0.8555999994277954, 0.8593000173568726, 0.8676000237464905, 0.8585000038146973, 0.8701000213623047, 0.8708999752998352, 0.8701000213623047, 0.8707000017166138, 0.8727999925613403, 0.875, 0.8712999820709229, 0.8715000152587891, 0.8776999711990356, 0.8748000264167786, 0.8738999962806702, 0.8763999938964844, 0.8680999875068665, 0.8776000142097473, 0.8762000203132629, 0.8738999962806702, 0.8773999810218811, 0.8794000148773193, 0.8773999810218811, 0.8794999718666077, 0.8809000253677368, 0.8741000294685364, 0.8819000124931335, 0.8784000277519226, 0.8794999718666077, 0.8790000081062317, 0.8777999877929688, 0.8712999820709229, 0.8805000185966492, 0.8809000253677368, 0.8826000094413757, 0.8790000081062317, 0.8791000247001648, 0.8744999766349792, 0.8794999718666077, 0.8744999766349792, 0.8827999830245972, 0.8738999962806702, 0.8787999749183655, 0.8784999847412109, 0.880299985408783, 0.8748000264167786, 0.8819000124931335, 0.8773000240325928], 'loss': [0.5293559147556622, 0.4046357752919197, 0.3731490982611974, 0.34596778180599214, 0.3291421965241432, 0.31413182193636896, 0.30147635940909384, 0.2912275638004144, 0.2819627565900485, 0.27449379882415137, 0.2669472564081351, 0.2605472191214561, 0.2556626791437467, 0.24807026938100657, 0.24635432829161485, 0.23802483974695204, 0.23411602481802304, 0.23120706309775513, 0.22460029672682286, 0.22257177253166835, 0.2181739597817262, 0.2144046952267488, 0.2125196980714798, 0.2082908186962207, 0.20481409670511883, 0.201831927104791, 0.19944998171925546, 0.1957019017378489, 0.19419953849315644, 0.19103098552947242, 0.1888780437226097, 0.18694918070336183, 0.18263132565766574, 0.1821171782389283, 0.17923726106161872, 0.17766680020739634, 0.17716233879327775, 0.17565500572919845, 0.1734662941823403, 0.1706764124430716, 0.1695971802690377, 0.16892888839095832, 0.1662424616371592, 0.16416395953098933, 0.16303684043611089, 0.1608171981635193, 0.15814740523497264, 0.1574121125355363, 0.15567328876157602, 0.15293917778134347], 'accuracy': [0.81776667, 0.8565, 0.8671167, 0.8754167, 0.88015, 0.88596666, 0.8897, 0.89356667, 0.8954167, 0.89813334, 0.90165, 0.90326667, 0.9051833, 0.9073, 0.90875, 0.9109167, 0.91256666, 0.9139, 0.91645, 0.91616666, 0.91751665, 0.9195167, 0.92086667, 0.92085, 0.92363334, 0.9246, 0.92545, 0.92675, 0.9280667, 0.9278833, 0.92936665, 0.9299667, 0.93153334, 0.93226665, 0.9324167, 0.9322, 0.9332, 0.9338667, 0.93586665, 0.9357333, 0.93655, 0.93616664, 0.9371167, 0.93916667, 0.93915, 0.9395667, 0.9409, 0.94198334, 0.94168335, 0.9421833]}\n",
            "Train on 60000 samples, validate on 10000 samples\n",
            "Epoch 1/50\n",
            "60000/60000 [==============================] - 5s 79us/step - loss: 0.5018 - accuracy: 0.8234 - val_loss: 0.4491 - val_accuracy: 0.8409\n",
            "\n",
            "Epoch 00001: val_loss improved from inf to 0.44907, saving model to exercise-4.1_100-hidden-neurons.keras\n",
            "Epoch 2/50\n",
            "60000/60000 [==============================] - 4s 68us/step - loss: 0.3762 - accuracy: 0.8651 - val_loss: 0.3951 - val_accuracy: 0.8598\n",
            "\n",
            "Epoch 00002: val_loss improved from 0.44907 to 0.39512, saving model to exercise-4.1_100-hidden-neurons.keras\n",
            "Epoch 3/50\n",
            "60000/60000 [==============================] - 4s 69us/step - loss: 0.3406 - accuracy: 0.8749 - val_loss: 0.3737 - val_accuracy: 0.8656\n",
            "\n",
            "Epoch 00003: val_loss improved from 0.39512 to 0.37367, saving model to exercise-4.1_100-hidden-neurons.keras\n",
            "Epoch 4/50\n",
            "60000/60000 [==============================] - 4s 69us/step - loss: 0.3151 - accuracy: 0.8839 - val_loss: 0.3552 - val_accuracy: 0.8713\n",
            "\n",
            "Epoch 00004: val_loss improved from 0.37367 to 0.35522, saving model to exercise-4.1_100-hidden-neurons.keras\n",
            "Epoch 5/50\n",
            "60000/60000 [==============================] - 4s 69us/step - loss: 0.3003 - accuracy: 0.8901 - val_loss: 0.3603 - val_accuracy: 0.8650\n",
            "\n",
            "Epoch 00005: val_loss did not improve from 0.35522\n",
            "Epoch 6/50\n",
            "60000/60000 [==============================] - 4s 69us/step - loss: 0.2840 - accuracy: 0.8963 - val_loss: 0.3493 - val_accuracy: 0.8728\n",
            "\n",
            "Epoch 00006: val_loss improved from 0.35522 to 0.34931, saving model to exercise-4.1_100-hidden-neurons.keras\n",
            "Epoch 7/50\n",
            "60000/60000 [==============================] - 4s 68us/step - loss: 0.2738 - accuracy: 0.8984 - val_loss: 0.3420 - val_accuracy: 0.8800\n",
            "\n",
            "Epoch 00007: val_loss improved from 0.34931 to 0.34195, saving model to exercise-4.1_100-hidden-neurons.keras\n",
            "Epoch 8/50\n",
            "60000/60000 [==============================] - 4s 69us/step - loss: 0.2621 - accuracy: 0.9021 - val_loss: 0.3350 - val_accuracy: 0.8765\n",
            "\n",
            "Epoch 00008: val_loss improved from 0.34195 to 0.33499, saving model to exercise-4.1_100-hidden-neurons.keras\n",
            "Epoch 9/50\n",
            "60000/60000 [==============================] - 4s 68us/step - loss: 0.2523 - accuracy: 0.9061 - val_loss: 0.3372 - val_accuracy: 0.8835\n",
            "\n",
            "Epoch 00009: val_loss did not improve from 0.33499\n",
            "Epoch 10/50\n",
            "60000/60000 [==============================] - 4s 68us/step - loss: 0.2446 - accuracy: 0.9092 - val_loss: 0.3332 - val_accuracy: 0.8864\n",
            "\n",
            "Epoch 00010: val_loss improved from 0.33499 to 0.33325, saving model to exercise-4.1_100-hidden-neurons.keras\n",
            "Epoch 11/50\n",
            "60000/60000 [==============================] - 4s 68us/step - loss: 0.2368 - accuracy: 0.9113 - val_loss: 0.3496 - val_accuracy: 0.8797\n",
            "\n",
            "Epoch 00011: val_loss did not improve from 0.33325\n",
            "Epoch 12/50\n",
            "60000/60000 [==============================] - 4s 68us/step - loss: 0.2296 - accuracy: 0.9149 - val_loss: 0.3429 - val_accuracy: 0.8843\n",
            "\n",
            "Epoch 00012: val_loss did not improve from 0.33325\n",
            "Epoch 13/50\n",
            "60000/60000 [==============================] - 4s 67us/step - loss: 0.2232 - accuracy: 0.9169 - val_loss: 0.3363 - val_accuracy: 0.8829\n",
            "\n",
            "Epoch 00013: val_loss did not improve from 0.33325\n",
            "Epoch 14/50\n",
            "60000/60000 [==============================] - 4s 67us/step - loss: 0.2156 - accuracy: 0.9195 - val_loss: 0.3466 - val_accuracy: 0.8802\n",
            "\n",
            "Epoch 00014: val_loss did not improve from 0.33325\n",
            "Epoch 15/50\n",
            "60000/60000 [==============================] - 4s 67us/step - loss: 0.2097 - accuracy: 0.9217 - val_loss: 0.3388 - val_accuracy: 0.8876\n",
            "\n",
            "Epoch 00015: val_loss did not improve from 0.33325\n",
            "Epoch 16/50\n",
            "60000/60000 [==============================] - 4s 67us/step - loss: 0.2067 - accuracy: 0.9221 - val_loss: 0.3571 - val_accuracy: 0.8841\n",
            "\n",
            "Epoch 00016: val_loss did not improve from 0.33325\n",
            "Epoch 17/50\n",
            "60000/60000 [==============================] - 4s 67us/step - loss: 0.1998 - accuracy: 0.9255 - val_loss: 0.3620 - val_accuracy: 0.8808\n",
            "\n",
            "Epoch 00017: val_loss did not improve from 0.33325\n",
            "Epoch 18/50\n",
            "60000/60000 [==============================] - 4s 67us/step - loss: 0.1930 - accuracy: 0.9284 - val_loss: 0.3531 - val_accuracy: 0.8873\n",
            "\n",
            "Epoch 00018: val_loss did not improve from 0.33325\n",
            "Epoch 19/50\n",
            "60000/60000 [==============================] - 4s 67us/step - loss: 0.1892 - accuracy: 0.9291 - val_loss: 0.3461 - val_accuracy: 0.8861\n",
            "\n",
            "Epoch 00019: val_loss did not improve from 0.33325\n",
            "Epoch 20/50\n",
            "60000/60000 [==============================] - 4s 67us/step - loss: 0.1858 - accuracy: 0.9301 - val_loss: 0.3570 - val_accuracy: 0.8856\n",
            "\n",
            "Epoch 00020: val_loss did not improve from 0.33325\n",
            "Epoch 21/50\n",
            "60000/60000 [==============================] - 4s 67us/step - loss: 0.1797 - accuracy: 0.9323 - val_loss: 0.3748 - val_accuracy: 0.8845\n",
            "\n",
            "Epoch 00021: val_loss did not improve from 0.33325\n",
            "Epoch 22/50\n",
            "60000/60000 [==============================] - 4s 66us/step - loss: 0.1769 - accuracy: 0.9344 - val_loss: 0.3606 - val_accuracy: 0.8871\n",
            "\n",
            "Epoch 00022: val_loss did not improve from 0.33325\n",
            "Epoch 23/50\n",
            "60000/60000 [==============================] - 4s 67us/step - loss: 0.1740 - accuracy: 0.9352 - val_loss: 0.3643 - val_accuracy: 0.8877\n",
            "\n",
            "Epoch 00023: val_loss did not improve from 0.33325\n",
            "Epoch 24/50\n",
            "60000/60000 [==============================] - 4s 67us/step - loss: 0.1675 - accuracy: 0.9382 - val_loss: 0.3570 - val_accuracy: 0.8935\n",
            "\n",
            "Epoch 00024: val_loss did not improve from 0.33325\n",
            "Epoch 25/50\n",
            "60000/60000 [==============================] - 4s 67us/step - loss: 0.1655 - accuracy: 0.9374 - val_loss: 0.3977 - val_accuracy: 0.8839\n",
            "\n",
            "Epoch 00025: val_loss did not improve from 0.33325\n",
            "Epoch 26/50\n",
            "60000/60000 [==============================] - 4s 66us/step - loss: 0.1637 - accuracy: 0.9390 - val_loss: 0.3858 - val_accuracy: 0.8880\n",
            "\n",
            "Epoch 00026: val_loss did not improve from 0.33325\n",
            "Epoch 27/50\n",
            "60000/60000 [==============================] - 4s 67us/step - loss: 0.1588 - accuracy: 0.9408 - val_loss: 0.4068 - val_accuracy: 0.8808\n",
            "\n",
            "Epoch 00027: val_loss did not improve from 0.33325\n",
            "Epoch 28/50\n",
            "60000/60000 [==============================] - 4s 66us/step - loss: 0.1577 - accuracy: 0.9416 - val_loss: 0.4002 - val_accuracy: 0.8843\n",
            "\n",
            "Epoch 00028: val_loss did not improve from 0.33325\n",
            "Epoch 29/50\n",
            "60000/60000 [==============================] - 4s 66us/step - loss: 0.1546 - accuracy: 0.9413 - val_loss: 0.3877 - val_accuracy: 0.8859\n",
            "\n",
            "Epoch 00029: val_loss did not improve from 0.33325\n",
            "Epoch 30/50\n",
            "60000/60000 [==============================] - 4s 67us/step - loss: 0.1512 - accuracy: 0.9430 - val_loss: 0.3949 - val_accuracy: 0.8919\n",
            "\n",
            "Epoch 00030: val_loss did not improve from 0.33325\n",
            "Epoch 31/50\n",
            "60000/60000 [==============================] - 4s 66us/step - loss: 0.1469 - accuracy: 0.9451 - val_loss: 0.4244 - val_accuracy: 0.8872\n",
            "\n",
            "Epoch 00031: val_loss did not improve from 0.33325\n",
            "Epoch 32/50\n",
            "60000/60000 [==============================] - 4s 66us/step - loss: 0.1453 - accuracy: 0.9453 - val_loss: 0.4076 - val_accuracy: 0.8883\n",
            "\n",
            "Epoch 00032: val_loss did not improve from 0.33325\n",
            "Epoch 33/50\n",
            "60000/60000 [==============================] - 4s 67us/step - loss: 0.1412 - accuracy: 0.9473 - val_loss: 0.4045 - val_accuracy: 0.8863\n",
            "\n",
            "Epoch 00033: val_loss did not improve from 0.33325\n",
            "Epoch 34/50\n",
            "60000/60000 [==============================] - 4s 67us/step - loss: 0.1381 - accuracy: 0.9491 - val_loss: 0.4148 - val_accuracy: 0.8865\n",
            "\n",
            "Epoch 00034: val_loss did not improve from 0.33325\n",
            "Epoch 35/50\n",
            "60000/60000 [==============================] - 4s 66us/step - loss: 0.1372 - accuracy: 0.9480 - val_loss: 0.4260 - val_accuracy: 0.8826\n",
            "\n",
            "Epoch 00035: val_loss did not improve from 0.33325\n",
            "Epoch 36/50\n",
            "60000/60000 [==============================] - 4s 67us/step - loss: 0.1364 - accuracy: 0.9488 - val_loss: 0.4585 - val_accuracy: 0.8813\n",
            "\n",
            "Epoch 00036: val_loss did not improve from 0.33325\n",
            "Epoch 37/50\n",
            "60000/60000 [==============================] - 4s 67us/step - loss: 0.1313 - accuracy: 0.9513 - val_loss: 0.4600 - val_accuracy: 0.8784\n",
            "\n",
            "Epoch 00037: val_loss did not improve from 0.33325\n",
            "Epoch 38/50\n",
            "60000/60000 [==============================] - 4s 75us/step - loss: 0.1304 - accuracy: 0.9520 - val_loss: 0.4362 - val_accuracy: 0.8859\n",
            "\n",
            "Epoch 00038: val_loss did not improve from 0.33325\n",
            "Epoch 39/50\n",
            "60000/60000 [==============================] - 4s 67us/step - loss: 0.1295 - accuracy: 0.9511 - val_loss: 0.4387 - val_accuracy: 0.8856\n",
            "\n",
            "Epoch 00039: val_loss did not improve from 0.33325\n",
            "Epoch 40/50\n",
            "60000/60000 [==============================] - 4s 66us/step - loss: 0.1275 - accuracy: 0.9528 - val_loss: 0.4465 - val_accuracy: 0.8841\n",
            "\n",
            "Epoch 00040: val_loss did not improve from 0.33325\n",
            "Epoch 41/50\n",
            "60000/60000 [==============================] - 4s 66us/step - loss: 0.1253 - accuracy: 0.9521 - val_loss: 0.4497 - val_accuracy: 0.8850\n",
            "\n",
            "Epoch 00041: val_loss did not improve from 0.33325\n",
            "Epoch 42/50\n",
            "60000/60000 [==============================] - 4s 66us/step - loss: 0.1212 - accuracy: 0.9543 - val_loss: 0.4613 - val_accuracy: 0.8861\n",
            "\n",
            "Epoch 00042: val_loss did not improve from 0.33325\n",
            "Epoch 43/50\n",
            "60000/60000 [==============================] - 4s 66us/step - loss: 0.1202 - accuracy: 0.9553 - val_loss: 0.4691 - val_accuracy: 0.8890\n",
            "\n",
            "Epoch 00043: val_loss did not improve from 0.33325\n",
            "Epoch 44/50\n",
            "60000/60000 [==============================] - 4s 66us/step - loss: 0.1182 - accuracy: 0.9561 - val_loss: 0.4726 - val_accuracy: 0.8854\n",
            "\n",
            "Epoch 00044: val_loss did not improve from 0.33325\n",
            "Epoch 45/50\n",
            "60000/60000 [==============================] - 4s 66us/step - loss: 0.1157 - accuracy: 0.9568 - val_loss: 0.4532 - val_accuracy: 0.8862\n",
            "\n",
            "Epoch 00045: val_loss did not improve from 0.33325\n",
            "Epoch 46/50\n",
            "60000/60000 [==============================] - 4s 66us/step - loss: 0.1141 - accuracy: 0.9570 - val_loss: 0.4859 - val_accuracy: 0.8820\n",
            "\n",
            "Epoch 00046: val_loss did not improve from 0.33325\n",
            "Epoch 47/50\n",
            "60000/60000 [==============================] - 4s 66us/step - loss: 0.1143 - accuracy: 0.9571 - val_loss: 0.5100 - val_accuracy: 0.8775\n",
            "\n",
            "Epoch 00047: val_loss did not improve from 0.33325\n",
            "Epoch 48/50\n",
            "60000/60000 [==============================] - 4s 66us/step - loss: 0.1125 - accuracy: 0.9584 - val_loss: 0.4874 - val_accuracy: 0.8870\n",
            "\n",
            "Epoch 00048: val_loss did not improve from 0.33325\n",
            "Epoch 49/50\n",
            "60000/60000 [==============================] - 4s 66us/step - loss: 0.1067 - accuracy: 0.9611 - val_loss: 0.5116 - val_accuracy: 0.8872\n",
            "\n",
            "Epoch 00049: val_loss did not improve from 0.33325\n",
            "Epoch 50/50\n",
            "60000/60000 [==============================] - 4s 66us/step - loss: 0.1079 - accuracy: 0.9600 - val_loss: 0.5092 - val_accuracy: 0.8841\n",
            "\n",
            "Epoch 00050: val_loss did not improve from 0.33325\n",
            "{'val_loss': [0.449066433930397, 0.3951162324666977, 0.37367313466072083, 0.35521898995637896, 0.36033566679954526, 0.34931176936626435, 0.34195043671131137, 0.3349947427034378, 0.33719661370515824, 0.3332491946220398, 0.34959558470249175, 0.3429499606847763, 0.33626127078533175, 0.34657027398347856, 0.33877311841845514, 0.35707147624492647, 0.362039302277565, 0.3530665846526623, 0.346119426047802, 0.3570150836586952, 0.374830408591032, 0.3606302005469799, 0.36428983783721924, 0.3569856338381767, 0.39766363877356053, 0.3857836492061615, 0.4067894619345665, 0.40022121018245815, 0.3877161904513836, 0.39494557945728304, 0.4243880592942238, 0.4075853038430214, 0.4045166245341301, 0.4148271082043648, 0.42603266764581205, 0.45848761929273607, 0.46003417731523516, 0.436240468621254, 0.43865362653136253, 0.4465357487976551, 0.4497307483792305, 0.46131765555143356, 0.4690665423989296, 0.47257239602804185, 0.45319076070785524, 0.48588410918712616, 0.5100030762195588, 0.487381626945734, 0.5115967765033245, 0.5092235382944346], 'val_accuracy': [0.8409000039100647, 0.8597999811172485, 0.8655999898910522, 0.8712999820709229, 0.8650000095367432, 0.8727999925613403, 0.8799999952316284, 0.8765000104904175, 0.8834999799728394, 0.8863999843597412, 0.8797000050544739, 0.8842999935150146, 0.8828999996185303, 0.8802000284194946, 0.8876000046730042, 0.8841000199317932, 0.8808000087738037, 0.8873000144958496, 0.8860999941825867, 0.8855999708175659, 0.8845000267028809, 0.8870999813079834, 0.8877000212669373, 0.8934999704360962, 0.883899986743927, 0.8880000114440918, 0.8808000087738037, 0.8842999935150146, 0.8859000205993652, 0.8919000029563904, 0.8871999979019165, 0.8883000016212463, 0.8863000273704529, 0.8865000009536743, 0.8826000094413757, 0.8812999725341797, 0.8784000277519226, 0.8859000205993652, 0.8855999708175659, 0.8841000199317932, 0.8849999904632568, 0.8860999941825867, 0.8889999985694885, 0.8853999972343445, 0.8862000107765198, 0.8820000290870667, 0.8774999976158142, 0.8870000243186951, 0.8871999979019165, 0.8841000199317932], 'loss': [0.5018062530398368, 0.3761617588678996, 0.3405909621953964, 0.3150882659514745, 0.3003282121300697, 0.28402331480582554, 0.27378490080833434, 0.26209469286898773, 0.2522540935834249, 0.24457723636627196, 0.23682108448147773, 0.22957730024059614, 0.22323240381677945, 0.21557778923511506, 0.20966133668224016, 0.2067364914059639, 0.1998351397395134, 0.1930110921939214, 0.18916996320287385, 0.18575201357156038, 0.17974368496785562, 0.17688334978272519, 0.17395921132912237, 0.16746218029409646, 0.16546891565298041, 0.163657179111739, 0.15879634884744884, 0.1576919718635579, 0.15457305876612662, 0.15118059818396964, 0.14685200309654076, 0.1453324968871971, 0.1412027028647562, 0.13806739424640935, 0.13719934129913647, 0.1363550518443187, 0.13131092283998927, 0.13044487109233935, 0.12948900349562367, 0.1275340732206901, 0.1253397893478473, 0.12119168433298667, 0.12018129649398228, 0.11822736427734296, 0.11569930375404656, 0.11413682743161917, 0.11427710484142105, 0.11248529513192673, 0.10667788302352031, 0.10785879747923463], 'accuracy': [0.82336664, 0.86508334, 0.87488335, 0.8839333, 0.8900833, 0.8963, 0.8984333, 0.90215, 0.90608335, 0.90923333, 0.9113, 0.9149167, 0.91688335, 0.9195167, 0.9217, 0.9221, 0.92548335, 0.9284, 0.92911667, 0.9301, 0.93231666, 0.93441665, 0.93525, 0.9381667, 0.93736666, 0.9389667, 0.9407667, 0.94165, 0.94125, 0.94301665, 0.9450833, 0.9453167, 0.9472833, 0.94913334, 0.94801664, 0.9488, 0.95133334, 0.952, 0.9511167, 0.9528, 0.95211667, 0.9543167, 0.95533335, 0.95615, 0.95676666, 0.957, 0.95708334, 0.9584, 0.96106666, 0.96001667]}\n",
            "Train on 60000 samples, validate on 10000 samples\n",
            "Epoch 1/50\n",
            "60000/60000 [==============================] - 11s 175us/step - loss: 0.4786 - accuracy: 0.8294 - val_loss: 0.3972 - val_accuracy: 0.8569\n",
            "\n",
            "Epoch 00001: val_loss improved from inf to 0.39717, saving model to exercise-4.1_500-hidden-neurons.keras\n",
            "Epoch 2/50\n",
            "60000/60000 [==============================] - 10s 158us/step - loss: 0.3608 - accuracy: 0.8689 - val_loss: 0.3750 - val_accuracy: 0.8640\n",
            "\n",
            "Epoch 00002: val_loss improved from 0.39717 to 0.37504, saving model to exercise-4.1_500-hidden-neurons.keras\n",
            "Epoch 3/50\n",
            "60000/60000 [==============================] - 10s 159us/step - loss: 0.3214 - accuracy: 0.8827 - val_loss: 0.3609 - val_accuracy: 0.8710\n",
            "\n",
            "Epoch 00003: val_loss improved from 0.37504 to 0.36089, saving model to exercise-4.1_500-hidden-neurons.keras\n",
            "Epoch 4/50\n",
            "60000/60000 [==============================] - 10s 160us/step - loss: 0.2999 - accuracy: 0.8890 - val_loss: 0.3459 - val_accuracy: 0.8741\n",
            "\n",
            "Epoch 00004: val_loss improved from 0.36089 to 0.34593, saving model to exercise-4.1_500-hidden-neurons.keras\n",
            "Epoch 5/50\n",
            "60000/60000 [==============================] - 10s 159us/step - loss: 0.2791 - accuracy: 0.8981 - val_loss: 0.3554 - val_accuracy: 0.8720\n",
            "\n",
            "Epoch 00005: val_loss did not improve from 0.34593\n",
            "Epoch 6/50\n",
            "60000/60000 [==============================] - 10s 159us/step - loss: 0.2646 - accuracy: 0.9018 - val_loss: 0.3335 - val_accuracy: 0.8819\n",
            "\n",
            "Epoch 00006: val_loss improved from 0.34593 to 0.33350, saving model to exercise-4.1_500-hidden-neurons.keras\n",
            "Epoch 7/50\n",
            "60000/60000 [==============================] - 9s 156us/step - loss: 0.2526 - accuracy: 0.9051 - val_loss: 0.3428 - val_accuracy: 0.8840\n",
            "\n",
            "Epoch 00007: val_loss did not improve from 0.33350\n",
            "Epoch 8/50\n",
            "60000/60000 [==============================] - 9s 154us/step - loss: 0.2429 - accuracy: 0.9097 - val_loss: 0.3193 - val_accuracy: 0.8909\n",
            "\n",
            "Epoch 00008: val_loss improved from 0.33350 to 0.31928, saving model to exercise-4.1_500-hidden-neurons.keras\n",
            "Epoch 9/50\n",
            "60000/60000 [==============================] - 9s 154us/step - loss: 0.2295 - accuracy: 0.9136 - val_loss: 0.3327 - val_accuracy: 0.8877\n",
            "\n",
            "Epoch 00009: val_loss did not improve from 0.31928\n",
            "Epoch 10/50\n",
            "60000/60000 [==============================] - 9s 155us/step - loss: 0.2217 - accuracy: 0.9155 - val_loss: 0.3363 - val_accuracy: 0.8882\n",
            "\n",
            "Epoch 00010: val_loss did not improve from 0.31928\n",
            "Epoch 11/50\n",
            "60000/60000 [==============================] - 9s 154us/step - loss: 0.2145 - accuracy: 0.9194 - val_loss: 0.3337 - val_accuracy: 0.8836\n",
            "\n",
            "Epoch 00011: val_loss did not improve from 0.31928\n",
            "Epoch 12/50\n",
            "60000/60000 [==============================] - 9s 154us/step - loss: 0.2044 - accuracy: 0.9223 - val_loss: 0.3408 - val_accuracy: 0.8883\n",
            "\n",
            "Epoch 00012: val_loss did not improve from 0.31928\n",
            "Epoch 13/50\n",
            "60000/60000 [==============================] - 9s 155us/step - loss: 0.1982 - accuracy: 0.9260 - val_loss: 0.3501 - val_accuracy: 0.8848\n",
            "\n",
            "Epoch 00013: val_loss did not improve from 0.31928\n",
            "Epoch 14/50\n",
            "60000/60000 [==============================] - 9s 154us/step - loss: 0.1916 - accuracy: 0.9283 - val_loss: 0.3496 - val_accuracy: 0.8837\n",
            "\n",
            "Epoch 00014: val_loss did not improve from 0.31928\n",
            "Epoch 15/50\n",
            "60000/60000 [==============================] - 9s 154us/step - loss: 0.1845 - accuracy: 0.9304 - val_loss: 0.3495 - val_accuracy: 0.8910\n",
            "\n",
            "Epoch 00015: val_loss did not improve from 0.31928\n",
            "Epoch 16/50\n",
            "60000/60000 [==============================] - 9s 155us/step - loss: 0.1809 - accuracy: 0.9319 - val_loss: 0.3708 - val_accuracy: 0.8892\n",
            "\n",
            "Epoch 00016: val_loss did not improve from 0.31928\n",
            "Epoch 17/50\n",
            "60000/60000 [==============================] - 9s 155us/step - loss: 0.1726 - accuracy: 0.9354 - val_loss: 0.3695 - val_accuracy: 0.8909\n",
            "\n",
            "Epoch 00017: val_loss did not improve from 0.31928\n",
            "Epoch 18/50\n",
            "60000/60000 [==============================] - 9s 155us/step - loss: 0.1670 - accuracy: 0.9379 - val_loss: 0.3724 - val_accuracy: 0.8881\n",
            "\n",
            "Epoch 00018: val_loss did not improve from 0.31928\n",
            "Epoch 19/50\n",
            "60000/60000 [==============================] - 9s 155us/step - loss: 0.1619 - accuracy: 0.9385 - val_loss: 0.3804 - val_accuracy: 0.8881\n",
            "\n",
            "Epoch 00019: val_loss did not improve from 0.31928\n",
            "Epoch 20/50\n",
            "60000/60000 [==============================] - 9s 156us/step - loss: 0.1605 - accuracy: 0.9393 - val_loss: 0.3785 - val_accuracy: 0.8860\n",
            "\n",
            "Epoch 00020: val_loss did not improve from 0.31928\n",
            "Epoch 21/50\n",
            "60000/60000 [==============================] - 9s 155us/step - loss: 0.1542 - accuracy: 0.9421 - val_loss: 0.3849 - val_accuracy: 0.8943\n",
            "\n",
            "Epoch 00021: val_loss did not improve from 0.31928\n",
            "Epoch 22/50\n",
            "60000/60000 [==============================] - 9s 155us/step - loss: 0.1483 - accuracy: 0.9445 - val_loss: 0.3789 - val_accuracy: 0.8916\n",
            "\n",
            "Epoch 00022: val_loss did not improve from 0.31928\n",
            "Epoch 23/50\n",
            "60000/60000 [==============================] - 9s 155us/step - loss: 0.1437 - accuracy: 0.9466 - val_loss: 0.3954 - val_accuracy: 0.8898\n",
            "\n",
            "Epoch 00023: val_loss did not improve from 0.31928\n",
            "Epoch 24/50\n",
            "60000/60000 [==============================] - 9s 156us/step - loss: 0.1422 - accuracy: 0.9454 - val_loss: 0.4059 - val_accuracy: 0.8899\n",
            "\n",
            "Epoch 00024: val_loss did not improve from 0.31928\n",
            "Epoch 25/50\n",
            "60000/60000 [==============================] - 9s 155us/step - loss: 0.1370 - accuracy: 0.9481 - val_loss: 0.4260 - val_accuracy: 0.8886\n",
            "\n",
            "Epoch 00025: val_loss did not improve from 0.31928\n",
            "Epoch 26/50\n",
            "60000/60000 [==============================] - 9s 155us/step - loss: 0.1339 - accuracy: 0.9487 - val_loss: 0.3986 - val_accuracy: 0.8898\n",
            "\n",
            "Epoch 00026: val_loss did not improve from 0.31928\n",
            "Epoch 27/50\n",
            "60000/60000 [==============================] - 9s 156us/step - loss: 0.1278 - accuracy: 0.9523 - val_loss: 0.4190 - val_accuracy: 0.8949\n",
            "\n",
            "Epoch 00027: val_loss did not improve from 0.31928\n",
            "Epoch 28/50\n",
            "60000/60000 [==============================] - 9s 155us/step - loss: 0.1274 - accuracy: 0.9527 - val_loss: 0.4179 - val_accuracy: 0.8933\n",
            "\n",
            "Epoch 00028: val_loss did not improve from 0.31928\n",
            "Epoch 29/50\n",
            "60000/60000 [==============================] - 9s 155us/step - loss: 0.1230 - accuracy: 0.9531 - val_loss: 0.4091 - val_accuracy: 0.8913\n",
            "\n",
            "Epoch 00029: val_loss did not improve from 0.31928\n",
            "Epoch 30/50\n",
            "60000/60000 [==============================] - 9s 154us/step - loss: 0.1203 - accuracy: 0.9537 - val_loss: 0.4631 - val_accuracy: 0.8924\n",
            "\n",
            "Epoch 00030: val_loss did not improve from 0.31928\n",
            "Epoch 31/50\n",
            "60000/60000 [==============================] - 9s 155us/step - loss: 0.1169 - accuracy: 0.9554 - val_loss: 0.4382 - val_accuracy: 0.8894\n",
            "\n",
            "Epoch 00031: val_loss did not improve from 0.31928\n",
            "Epoch 32/50\n",
            "60000/60000 [==============================] - 9s 154us/step - loss: 0.1155 - accuracy: 0.9553 - val_loss: 0.4696 - val_accuracy: 0.8833\n",
            "\n",
            "Epoch 00032: val_loss did not improve from 0.31928\n",
            "Epoch 33/50\n",
            "60000/60000 [==============================] - 9s 155us/step - loss: 0.1103 - accuracy: 0.9584 - val_loss: 0.4673 - val_accuracy: 0.8904\n",
            "\n",
            "Epoch 00033: val_loss did not improve from 0.31928\n",
            "Epoch 34/50\n",
            "60000/60000 [==============================] - 9s 155us/step - loss: 0.1083 - accuracy: 0.9593 - val_loss: 0.4614 - val_accuracy: 0.8920\n",
            "\n",
            "Epoch 00034: val_loss did not improve from 0.31928\n",
            "Epoch 35/50\n",
            "60000/60000 [==============================] - 9s 154us/step - loss: 0.1051 - accuracy: 0.9598 - val_loss: 0.4863 - val_accuracy: 0.8921\n",
            "\n",
            "Epoch 00035: val_loss did not improve from 0.31928\n",
            "Epoch 36/50\n",
            "60000/60000 [==============================] - 9s 154us/step - loss: 0.1029 - accuracy: 0.9610 - val_loss: 0.4858 - val_accuracy: 0.8906\n",
            "\n",
            "Epoch 00036: val_loss did not improve from 0.31928\n",
            "Epoch 37/50\n",
            "60000/60000 [==============================] - 9s 155us/step - loss: 0.1032 - accuracy: 0.9614 - val_loss: 0.5348 - val_accuracy: 0.8882\n",
            "\n",
            "Epoch 00037: val_loss did not improve from 0.31928\n",
            "Epoch 38/50\n",
            "60000/60000 [==============================] - 9s 156us/step - loss: 0.0996 - accuracy: 0.9622 - val_loss: 0.4698 - val_accuracy: 0.8957\n",
            "\n",
            "Epoch 00038: val_loss did not improve from 0.31928\n",
            "Epoch 39/50\n",
            "60000/60000 [==============================] - 9s 155us/step - loss: 0.0992 - accuracy: 0.9621 - val_loss: 0.5250 - val_accuracy: 0.8858\n",
            "\n",
            "Epoch 00039: val_loss did not improve from 0.31928\n",
            "Epoch 40/50\n",
            "60000/60000 [==============================] - 9s 155us/step - loss: 0.0962 - accuracy: 0.9636 - val_loss: 0.5116 - val_accuracy: 0.8905\n",
            "\n",
            "Epoch 00040: val_loss did not improve from 0.31928\n",
            "Epoch 41/50\n",
            "60000/60000 [==============================] - 9s 155us/step - loss: 0.0936 - accuracy: 0.9647 - val_loss: 0.5354 - val_accuracy: 0.8904\n",
            "\n",
            "Epoch 00041: val_loss did not improve from 0.31928\n",
            "Epoch 42/50\n",
            "60000/60000 [==============================] - 9s 155us/step - loss: 0.0955 - accuracy: 0.9649 - val_loss: 0.5195 - val_accuracy: 0.8915\n",
            "\n",
            "Epoch 00042: val_loss did not improve from 0.31928\n",
            "Epoch 43/50\n",
            "60000/60000 [==============================] - 9s 155us/step - loss: 0.0902 - accuracy: 0.9649 - val_loss: 0.5156 - val_accuracy: 0.8962\n",
            "\n",
            "Epoch 00043: val_loss did not improve from 0.31928\n",
            "Epoch 44/50\n",
            "60000/60000 [==============================] - 9s 155us/step - loss: 0.0897 - accuracy: 0.9657 - val_loss: 0.5238 - val_accuracy: 0.8928\n",
            "\n",
            "Epoch 00044: val_loss did not improve from 0.31928\n",
            "Epoch 45/50\n",
            "60000/60000 [==============================] - 9s 155us/step - loss: 0.0860 - accuracy: 0.9677 - val_loss: 0.5673 - val_accuracy: 0.8881\n",
            "\n",
            "Epoch 00045: val_loss did not improve from 0.31928\n",
            "Epoch 46/50\n",
            "60000/60000 [==============================] - 9s 155us/step - loss: 0.0838 - accuracy: 0.9685 - val_loss: 0.5560 - val_accuracy: 0.8913\n",
            "\n",
            "Epoch 00046: val_loss did not improve from 0.31928\n",
            "Epoch 47/50\n",
            "60000/60000 [==============================] - 9s 154us/step - loss: 0.0865 - accuracy: 0.9671 - val_loss: 0.5497 - val_accuracy: 0.8952\n",
            "\n",
            "Epoch 00047: val_loss did not improve from 0.31928\n",
            "Epoch 48/50\n",
            "60000/60000 [==============================] - 9s 155us/step - loss: 0.0812 - accuracy: 0.9693 - val_loss: 0.5682 - val_accuracy: 0.8959\n",
            "\n",
            "Epoch 00048: val_loss did not improve from 0.31928\n",
            "Epoch 49/50\n",
            "60000/60000 [==============================] - 9s 156us/step - loss: 0.0835 - accuracy: 0.9682 - val_loss: 0.5842 - val_accuracy: 0.8952\n",
            "\n",
            "Epoch 00049: val_loss did not improve from 0.31928\n",
            "Epoch 50/50\n",
            "60000/60000 [==============================] - 9s 155us/step - loss: 0.0785 - accuracy: 0.9698 - val_loss: 0.5974 - val_accuracy: 0.8942\n",
            "\n",
            "Epoch 00050: val_loss did not improve from 0.31928\n",
            "{'val_loss': [0.39716541316509246, 0.37504333980083465, 0.36088902733325956, 0.3459262671709061, 0.3554199898481369, 0.333500106549263, 0.34284963328838347, 0.3192836147546768, 0.3326823095202446, 0.3362787181675434, 0.33366089289784434, 0.3408044038593769, 0.35008888751268386, 0.3495512461900711, 0.3494646797180176, 0.37078650160431864, 0.36948506824970245, 0.37238441059589383, 0.3804354430735111, 0.3784753411710262, 0.3849412131905556, 0.3789021241724491, 0.39535992510318757, 0.40586289827227595, 0.42604529219269754, 0.3985501429736614, 0.4189517510712147, 0.4178842522159219, 0.40913665255904197, 0.4631388627693057, 0.4382225737631321, 0.4696449691176415, 0.4673295328885317, 0.46142074617743495, 0.48634065979123114, 0.48578865220546724, 0.5347829477787018, 0.46980502873659136, 0.5250407532580197, 0.511624898763001, 0.5354283532336355, 0.519514230966568, 0.51558486691555, 0.523827175951004, 0.567307445757091, 0.556010860542953, 0.5497448421984911, 0.5681581684745848, 0.5842418479032815, 0.5973994594454766], 'val_accuracy': [0.8568999767303467, 0.8640000224113464, 0.8709999918937683, 0.8741000294685364, 0.871999979019165, 0.8819000124931335, 0.8840000033378601, 0.8909000158309937, 0.8877000212669373, 0.8881999850273132, 0.8835999965667725, 0.8883000016212463, 0.8848000168800354, 0.8837000131607056, 0.890999972820282, 0.88919997215271, 0.8909000158309937, 0.8881000280380249, 0.8881000280380249, 0.8859999775886536, 0.8942999839782715, 0.8916000127792358, 0.8898000121116638, 0.8899000287055969, 0.8885999917984009, 0.8898000121116638, 0.8949000239372253, 0.8932999968528748, 0.8913000226020813, 0.8924000263214111, 0.8894000053405762, 0.8833000063896179, 0.8903999924659729, 0.8920000195503235, 0.8920999765396118, 0.8906000256538391, 0.8881999850273132, 0.8956999778747559, 0.8858000040054321, 0.890500009059906, 0.8903999924659729, 0.8914999961853027, 0.8962000012397766, 0.892799973487854, 0.8881000280380249, 0.8913000226020813, 0.8952000141143799, 0.8959000110626221, 0.8952000141143799, 0.8942000269889832], 'loss': [0.4786286282698313, 0.36083290236989657, 0.32140337636272115, 0.29988384535511337, 0.2791217290580273, 0.26458114969134333, 0.25255901478827, 0.24291791187226772, 0.22947062769830226, 0.22167768042286237, 0.21451288486917813, 0.20443239662249882, 0.198194999285539, 0.1915835166881482, 0.1845134626040856, 0.18088192025348543, 0.17257950413922468, 0.16695483330016334, 0.1618675589988629, 0.16049391578535238, 0.1542312294577559, 0.14831575863969823, 0.14368786702590683, 0.1421775230422616, 0.13702590652083357, 0.13386591471458475, 0.12780968871538836, 0.1273947832179566, 0.12304574082357188, 0.12032871978630623, 0.1168785391073674, 0.1155474178760002, 0.11029654123413687, 0.10831584854560594, 0.10511274377666414, 0.10289088074030976, 0.10321164462558614, 0.09960433563248565, 0.09917351289782673, 0.0962398055601865, 0.09360304508178184, 0.09548935930632675, 0.09020377718405798, 0.08969178978456184, 0.08597509416273484, 0.08383996256225122, 0.08645687116224629, 0.08124358168199348, 0.08348139938651584, 0.07854785642651842], 'accuracy': [0.8293833, 0.8689167, 0.88266665, 0.8889833, 0.89813334, 0.90183336, 0.90515, 0.90975, 0.9136, 0.9155333, 0.91945, 0.92228335, 0.926, 0.92835, 0.9304, 0.93188334, 0.9353667, 0.9378833, 0.93848336, 0.9392667, 0.94206667, 0.9445, 0.94658333, 0.9453833, 0.9481, 0.94865, 0.95225, 0.9526833, 0.9531, 0.9536833, 0.9553667, 0.95526665, 0.9583833, 0.9593167, 0.9597833, 0.96103334, 0.96145, 0.9622, 0.96206665, 0.9636, 0.96468335, 0.96491665, 0.96491665, 0.96566665, 0.9676667, 0.96845, 0.96705, 0.96933335, 0.96821666, 0.9698]}\n",
            "Train on 60000 samples, validate on 10000 samples\n",
            "Epoch 1/50\n",
            "59968/60000 [============================>.] - ETA: 0s - loss: 0.4697 - accuracy: 0.8319"
          ],
          "name": "stdout"
        }
      ]
    },
    {
      "cell_type": "code",
      "metadata": {
        "id": "Ibe6iar4NlG7",
        "outputId": "ae8036fa-3c4c-4518-8fe0-54e75f4d8bf0"
      },
      "source": [
        "fig, (ax1, ax2) = plt.subplots(1, 2)\n",
        "fig.suptitle('Validation loss and accuracy / Number of hidden neurons')\n",
        "fig.subplots_adjust(left=None, bottom=None, right=None, top=None, wspace=0.3, hspace=None)\n",
        "fig.set_figheight(6)\n",
        "fig.set_figwidth(12)\n",
        "ax1.set_xscale('log',base=10)\n",
        "ax1.set_ylabel(\"Validation loss\")\n",
        "ax1.set_xlabel(\"number of hidden neurons\")\n",
        "ax1.plot(set_of_networks, min_val_loss)\n",
        "ax2.set_xscale('log',base=10)\n",
        "ax2.set_ylabel(\"Validation accuracy\")\n",
        "ax2.set_xlabel(\"number of hidden neurons\")\n",
        "ax2.plot(set_of_networks, max_accuracy);\n",
        "for i in range(len(set_of_networks)):\n",
        "    print(\"Number of hidden neurons {0} => Max validation accuracy {1}\".format(set_of_networks[i], max_val_accuracy[i]))"
      ],
      "execution_count": null,
      "outputs": [
        {
          "output_type": "stream",
          "text": [
            "Number of hidden neurons 10 => Max validation accuracy 0.9399999976158142\n",
            "Number of hidden neurons 50 => Max validation accuracy 0.9769999980926514\n",
            "Number of hidden neurons 100 => Max validation accuracy 0.9793999791145325\n",
            "Number of hidden neurons 500 => Max validation accuracy 0.9837999939918518\n",
            "Number of hidden neurons 1000 => Max validation accuracy 0.984000027179718\n"
          ],
          "name": "stdout"
        },
        {
          "output_type": "display_data",
          "data": {
            "image/png": "[encoded data removed]",
            "text/plain": [
              "<Figure size 864x432 with 2 Axes>"
            ]
          },
          "metadata": {
            "tags": [],
            "needs_background": "light"
          }
        }
      ]
    },
    {
      "cell_type": "markdown",
      "metadata": {
        "id": "MxS_5Ogd9yZE"
      },
      "source": [
        "## Exercise 5: Going deeper: tricks and regularization (10 + 2 points)\n",
        "\n",
        "Adding hidden layers to a deep network does not necessarily lead to a straight-forward improvement of performance. We use Fashion-MNIST dataset in this exercise.  \n",
        "\n",
        "1. Choose a width $ h $ between 50-200 and use at least two hidden layers with $ h $ hidden neurons (each) and train the network for at least 150 epochs. (2 pts)\n",
        "2. Plot the learning curves and report the best validation accuracy. Do you observe overfitting? (2 pts)\n",
        "3. Keep the network at the same size. Use a very large l2 regularization $\\lambda$ (for ex. $\\lambda=1$) and a small one (for ex. $\\lambda=0.001$) on kernel weights and report the validation accuracies. What do you observe?  (2 pts)\n",
        "4. Turn off the $ \\ell_2 $ regularization and use a large dropout rate (for ex. 0.5) and a small one (for ex. 0.05) at all hidden layers and report the validation accuracies. What do you observe? (2 pts)\n",
        "5. BONUS: Try built-in data augmentation methods as a way to regularize: this may include horizontal flipping of the images or small rotations. You can use built-in methods in Keras. Report the augmentation method you used and the best validation accuracy. (2 pts)\n",
        "\n",
        "Note that one needs to cross-validate to find the right regularization parameter for the model you chose and for the dataset at hand. However we do not enforce this hyperparameter search as it takes long computation times but it is a good practice if you try it here. \n",
        "\n",
        "6. Compare the validation accuracies resulting from your attempts to reduce overfitting. Did you improve the validation accuracy? If not, comment on the possible sources of failure. (2 pts)"
      ]
    },
    {
      "cell_type": "markdown",
      "metadata": {
        "id": "F5ip5k5q9yZF"
      },
      "source": [
        "**Answer to Question 2** (max 1 sentence):   \n",
        "\n",
        "**Answer to Question 3** (max 2 sentences): \n",
        "\n",
        "**Answer to Question 4** (max 2 sentences): \n",
        "\n",
        "**Answer to Question 5 (BONUS)** (max 2 sentences): \n",
        "\n",
        "**Answer to Question 6** (max 2 sentences): "
      ]
    },
    {
      "cell_type": "markdown",
      "metadata": {
        "id": "yVYoNkur9yZF"
      },
      "source": [
        "### Solution"
      ]
    },
    {
      "cell_type": "code",
      "metadata": {
        "id": "9URafars9yZF"
      },
      "source": [
        ""
      ],
      "execution_count": null,
      "outputs": []
    },
    {
      "cell_type": "markdown",
      "metadata": {
        "id": "aForXFCv9yZF"
      },
      "source": [
        "## Exercise 6: Convolutional neural networks (CNNs) (10 points)\n",
        "\n",
        "Convolutional neural networks have an inductive bias that is well adapted to image classification. \n",
        "\n",
        "1. Design a convolutional neural network and train it without using explicit regularizers. (2 pts)\n",
        "2. Try to improve the best validation scores of the model by experiment with batch_normalization layers, dropout layers and l2-regularization on weights (kernels) and biases. (4 pts)\n",
        "3. After you have found good settings, plot the learning curves for both models, naive (=no tricks/regularization) and tuned (=tricks + regularized) together in a comparison plot. (2pts)\n",
        "4. How does the CNN performance compare to the so far best performing (deep) neural network model? (2 pts)\n",
        "\n",
        "*Hint:* You may get valuable inspiration from the keras [examples](https://keras.io/examples/), [for example](https://keras.io/examples/vision/mnist_convnet/)."
      ]
    },
    {
      "cell_type": "markdown",
      "metadata": {
        "id": "kJFbiEKC9yZG"
      },
      "source": [
        "**Answer to Question 4**: "
      ]
    },
    {
      "cell_type": "markdown",
      "metadata": {
        "id": "v1R5a0-V9yZG"
      },
      "source": [
        "### Solution"
      ]
    },
    {
      "cell_type": "code",
      "metadata": {
        "ExecuteTime": {
          "end_time": "2018-02-23T16:05:21.840299Z",
          "start_time": "2018-02-23T15:51:11.993053Z"
        },
        "id": "tx4FT7fe9yZG"
      },
      "source": [
        ""
      ],
      "execution_count": null,
      "outputs": []
    }
  ]
}